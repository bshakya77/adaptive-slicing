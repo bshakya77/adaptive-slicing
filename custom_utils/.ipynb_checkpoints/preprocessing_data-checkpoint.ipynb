{
 "cells": [
  {
   "cell_type": "code",
   "execution_count": 5,
   "id": "da2ff5cd-79d9-452c-ac28-af0be3d4a04f",
   "metadata": {
    "scrolled": true
   },
   "outputs": [
    {
     "name": "stdout",
     "output_type": "stream",
     "text": [
      "Copied 9999973_00000_d_0000056.jpg to testdev_subsets/mix/v1/images\n",
      "Copied 9999952_00000_d_0000310.jpg to testdev_subsets/mix/v1/images\n",
      "Copied 9999952_00000_d_0000179.jpg to testdev_subsets/mix/v1/images\n",
      "Copied 9999938_00000_d_0000070.jpg to testdev_subsets/mix/v1/images\n",
      "Copied 9999952_00000_d_0000095.jpg to testdev_subsets/mix/v1/images\n",
      "Copied 9999952_00000_d_0000026.jpg to testdev_subsets/mix/v1/images\n",
      "Copied 9999952_00000_d_0000182.jpg to testdev_subsets/mix/v1/images\n",
      "Copied 9999952_00000_d_0000194.jpg to testdev_subsets/mix/v1/images\n",
      "Copied 9999938_00000_d_0000501.jpg to testdev_subsets/mix/v1/images\n",
      "Copied 9999952_00000_d_0000060.jpg to testdev_subsets/mix/v1/images\n",
      "Copied 9999938_00000_d_0000062.jpg to testdev_subsets/mix/v1/images\n",
      "Copied 9999938_00000_d_0000050.jpg to testdev_subsets/mix/v1/images\n",
      "Copied 9999952_00000_d_0000338.jpg to testdev_subsets/mix/v1/images\n",
      "Copied 9999952_00000_d_0000222.jpg to testdev_subsets/mix/v1/images\n",
      "Copied 0000282_00000_d_0000001.jpg to testdev_subsets/mix/v1/images\n",
      "Copied 0000006_07596_d_0000020.jpg to testdev_subsets/mix/v1/images\n",
      "Copied 9999971_00000_d_0000001.jpg to testdev_subsets/mix/v1/images\n",
      "Copied 9999976_00000_d_0000014.jpg to testdev_subsets/mix/v1/images\n",
      "Copied 9999952_00000_d_0000180.jpg to testdev_subsets/mix/v1/images\n",
      "Copied 9999938_00000_d_0000421.jpg to testdev_subsets/mix/v1/images\n",
      "Copied 9999952_00000_d_0000287.jpg to testdev_subsets/mix/v1/images\n",
      "Copied 9999938_00000_d_0000455.jpg to testdev_subsets/mix/v1/images\n",
      "Copied 0000370_00000_d_0000250.jpg to testdev_subsets/mix/v1/images\n",
      "Copied 9999952_00000_d_0000057.jpg to testdev_subsets/mix/v1/images\n",
      "Copied 0000006_05575_d_0000016.jpg to testdev_subsets/mix/v1/images\n",
      "Copied 0000078_05467_d_0000015.jpg to testdev_subsets/mix/v1/images\n",
      "Copied 9999938_00000_d_0000434.jpg to testdev_subsets/mix/v1/images\n",
      "Copied 9999973_00000_d_0000014.jpg to testdev_subsets/mix/v1/images\n",
      "Copied 9999952_00000_d_0000175.jpg to testdev_subsets/mix/v1/images\n",
      "Copied 9999952_00000_d_0000266.jpg to testdev_subsets/mix/v1/images\n",
      "Copied 9999976_00000_d_0000002.jpg to testdev_subsets/mix/v1/images\n",
      "Copied 9999952_00000_d_0000240.jpg to testdev_subsets/mix/v1/images\n",
      "Copied 9999952_00000_d_0000257.jpg to testdev_subsets/mix/v1/images\n",
      "Copied 9999976_00000_d_0000027.jpg to testdev_subsets/mix/v1/images\n",
      "Copied 0000078_04210_d_0000012.jpg to testdev_subsets/mix/v1/images\n",
      "Copied 9999938_00000_d_0000449.jpg to testdev_subsets/mix/v1/images\n",
      "Copied 9999952_00000_d_0000242.jpg to testdev_subsets/mix/v1/images\n",
      "Copied 9999938_00000_d_0000441.jpg to testdev_subsets/mix/v1/images\n",
      "Copied 9999952_00000_d_0000337.jpg to testdev_subsets/mix/v1/images\n",
      "Copied 9999952_00000_d_0000114.jpg to testdev_subsets/mix/v1/images\n",
      "Copied 9999938_00000_d_0000486.jpg to testdev_subsets/mix/v1/images\n",
      "Copied 9999952_00000_d_0000017.jpg to testdev_subsets/mix/v1/images\n",
      "Copied 9999952_00000_d_0000312.jpg to testdev_subsets/mix/v1/images\n",
      "Copied 0000078_06363_d_0000017.jpg to testdev_subsets/mix/v1/images\n",
      "Copied 9999973_00000_d_0000098.jpg to testdev_subsets/mix/v1/images\n",
      "Copied 9999952_00000_d_0000254.jpg to testdev_subsets/mix/v1/images\n",
      "Copied 9999938_00000_d_0000488.jpg to testdev_subsets/mix/v1/images\n",
      "Copied 9999996_00000_d_0000026.jpg to testdev_subsets/mix/v1/images\n",
      "Copied 9999952_00000_d_0000106.jpg to testdev_subsets/mix/v1/images\n",
      "Copied 9999938_00000_d_0000344.jpg to testdev_subsets/mix/v1/images\n",
      "Copied 9999952_00000_d_0000315.jpg to testdev_subsets/mix/v1/images\n",
      "Copied 9999976_00000_d_0000008.jpg to testdev_subsets/mix/v1/images\n",
      "Copied 0000370_03000_d_0000256.jpg to testdev_subsets/mix/v1/images\n",
      "Copied 9999952_00000_d_0000260.jpg to testdev_subsets/mix/v1/images\n",
      "Copied 9999938_00000_d_0000339.jpg to testdev_subsets/mix/v1/images\n",
      "Copied 9999952_00000_d_0000247.jpg to testdev_subsets/mix/v1/images\n",
      "Copied 9999952_00000_d_0000323.jpg to testdev_subsets/mix/v1/images\n",
      "Copied 0000078_05939_d_0000016.jpg to testdev_subsets/mix/v1/images\n",
      "Copied 9999952_00000_d_0000185.jpg to testdev_subsets/mix/v1/images\n",
      "Copied 9999952_00000_d_0000032.jpg to testdev_subsets/mix/v1/images\n",
      "Copied 9999952_00000_d_0000065.jpg to testdev_subsets/mix/v1/images\n",
      "Copied 9999938_00000_d_0000347.jpg to testdev_subsets/mix/v1/images\n",
      "Copied 9999986_00000_d_0000027.jpg to testdev_subsets/mix/v1/images\n",
      "Copied 0000120_01535_d_0000095.jpg to testdev_subsets/mix/v1/images\n",
      "Copied 9999973_00000_d_0000093.jpg to testdev_subsets/mix/v1/images\n",
      "Copied 9999973_00000_d_0000134.jpg to testdev_subsets/mix/v1/images\n",
      "Copied 0000369_00500_d_0000242.jpg to testdev_subsets/mix/v1/images\n",
      "Copied 9999952_00000_d_0000022.jpg to testdev_subsets/mix/v1/images\n",
      "Copied 9999938_00000_d_0000307.jpg to testdev_subsets/mix/v1/images\n",
      "Copied 0000006_04050_d_0000010.jpg to testdev_subsets/mix/v1/images\n",
      "Copied 9999973_00000_d_0000009.jpg to testdev_subsets/mix/v1/images\n",
      "Copied 9999938_00000_d_0000467.jpg to testdev_subsets/mix/v1/images\n",
      "Copied 9999952_00000_d_0000027.jpg to testdev_subsets/mix/v1/images\n",
      "Copied 9999986_00000_d_0000028.jpg to testdev_subsets/mix/v1/images\n",
      "Copied 9999938_00000_d_0000114.jpg to testdev_subsets/mix/v1/images\n",
      "Copied 9999952_00000_d_0000171.jpg to testdev_subsets/mix/v1/images\n",
      "Copied 0000078_01314_d_0000004.jpg to testdev_subsets/mix/v1/images\n",
      "Copied 9999986_00000_d_0000053.jpg to testdev_subsets/mix/v1/images\n",
      "Copied 9999938_00000_d_0000442.jpg to testdev_subsets/mix/v1/images\n",
      "Copied 9999938_00000_d_0000051.jpg to testdev_subsets/mix/v1/images\n",
      "Copied 9999952_00000_d_0000307.jpg to testdev_subsets/mix/v1/images\n",
      "Copied 9999938_00000_d_0000157.jpg to testdev_subsets/mix/v1/images\n",
      "Copied 9999938_00000_d_0000446.jpg to testdev_subsets/mix/v1/images\n",
      "Copied 9999952_00000_d_0000104.jpg to testdev_subsets/mix/v1/images\n",
      "Copied 9999938_00000_d_0000459.jpg to testdev_subsets/mix/v1/images\n",
      "Copied 9999938_00000_d_0000450.jpg to testdev_subsets/mix/v1/images\n",
      "Copied 9999963_00000_d_0000061.jpg to testdev_subsets/mix/v1/images\n",
      "Copied 9999963_00000_d_0000056.jpg to testdev_subsets/mix/v1/images\n",
      "Copied 9999980_00000_d_0000002.jpg to testdev_subsets/mix/v1/images\n",
      "Copied 0000370_02000_d_0000254.jpg to testdev_subsets/mix/v1/images\n",
      "Copied 0000078_07819_d_0000023.jpg to testdev_subsets/mix/v1/images\n",
      "Copied 9999938_00000_d_0000064.jpg to testdev_subsets/mix/v1/images\n",
      "Copied 9999938_00000_d_0000515.jpg to testdev_subsets/mix/v1/images\n",
      "Copied 9999979_00000_d_0000027.jpg to testdev_subsets/mix/v1/images\n",
      "Copied 9999952_00000_d_0000006.jpg to testdev_subsets/mix/v1/images\n",
      "Copied 9999952_00000_d_0000250.jpg to testdev_subsets/mix/v1/images\n",
      "Copied 9999938_00000_d_0000512.jpg to testdev_subsets/mix/v1/images\n",
      "Copied 9999952_00000_d_0000278.jpg to testdev_subsets/mix/v1/images\n",
      "Copied 0000006_05208_d_0000014.jpg to testdev_subsets/mix/v1/images\n",
      "Copied 9999952_00000_d_0000188.jpg to testdev_subsets/mix/v1/images\n",
      "Subset creation completed.\n"
     ]
    }
   ],
   "source": [
    "!python3 ../generate_subset.py"
   ]
  },
  {
   "cell_type": "code",
   "execution_count": null,
   "id": "189443ec-3fb4-4941-a4ac-a604b86172c6",
   "metadata": {},
   "outputs": [],
   "source": [
    "#Copies specified files from input folder to output folder\n",
    "import os\n",
    "import shutil\n",
    "\n",
    "def copy_images(file_names, input_folder, output_folder):\n",
    "    \"\"\"\n",
    "    Copies specified images from the input folder to the output folder.\n",
    "    \n",
    "    Parameters:\n",
    "        file_names (list): List of image file names to be copied.\n",
    "        input_folder (str): Path to the folder where images are stored.\n",
    "        output_folder (str): Path to the destination folder.\n",
    "    \"\"\"\n",
    "    # Create the output folder if it doesn't exist\n",
    "    if not os.path.exists(output_folder):\n",
    "        os.makedirs(output_folder)\n",
    "        print(f\"Created output folder: {output_folder}\")\n",
    "    \n",
    "    # Copy each file in the file_names list\n",
    "    for file_name in file_names:\n",
    "        src_path = os.path.join(input_folder, file_name)\n",
    "        dst_path = os.path.join(output_folder, file_name)\n",
    "        try:\n",
    "            shutil.copy2(src_path, dst_path)\n",
    "            print(f\"Copied '{file_name}' to {output_folder}\")\n",
    "        except FileNotFoundError:\n",
    "            print(f\"Error: '{file_name}' not found in {input_folder}.\")\n",
    "        except Exception as e:\n",
    "            print(f\"Error copying '{file_name}': {e}\")\n",
    "\n",
    "# Example usage:\n",
    "if __name__ == \"__main__\":\n",
    "    # List of image file names you want to copy\n",
    "    file_names = [\n",
    "\"9999938_00000_d_0000028.jpg\",\n",
    "\"0000078_06506_d_0000018.jpg\",\n",
    "\"9999979_00000_d_0000034.jpg\",\n",
    "\"0000310_03500_d_0000125.jpg\",\n",
    "\"9999963_00000_d_0000040.jpg\",\n",
    "\"9999952_00000_d_0000001.jpg\",\n",
    "\"9999952_00000_d_0000262.jpg\",\n",
    "\"9999938_00000_d_0000288.jpg\",\n",
    "\"9999938_00000_d_0000035.jpg\",\n",
    "\"9999973_00000_d_0000016.jpg\",\n",
    "\"9999938_00000_d_0000364.jpg\",\n",
    "\"0000105_02201_d_0000071.jpg\",\n",
    "\"9999938_00000_d_0000030.jpg\",\n",
    "\"9999973_00000_d_0000149.jpg\",\n",
    "\"9999973_00000_d_0000031.jpg\"]\n",
    "    \n",
    "# Define your input and output folder paths\n",
    "input_folder = \"../yolov9/datasets/VisDrone/VisDrone2019-DET-test-dev/images\"\n",
    "output_folder = \"test_subsets/v1/images\"\n",
    "\n",
    "# Copy the images\n",
    "copy_images(file_names, input_folder, output_folder)\n"
   ]
  },
  {
   "cell_type": "markdown",
   "id": "0dc3ab54-9d83-4e66-9978-a176e5c038c9",
   "metadata": {},
   "source": [
    "#### **Create the subsets**"
   ]
  },
  {
   "cell_type": "code",
   "execution_count": 4,
   "id": "f0a5c59a-abc4-4b6e-aa0b-60244e78a1f0",
   "metadata": {},
   "outputs": [
    {
     "name": "stdout",
     "output_type": "stream",
     "text": [
      "Saved 50 filenames (without extension) to ./selected_filenames_high_wo_ext.txt\n"
     ]
    }
   ],
   "source": [
    "import os\n",
    "\n",
    "def save_filenames_wo_ext_as_csv(input_folder, output_txt):\n",
    "    # List all files in the input folder\n",
    "    filenames = os.listdir(input_folder)\n",
    "    # Keep only files (not directories) and remove extension\n",
    "    names_wo_ext = [\n",
    "        os.path.splitext(f)[0]\n",
    "        for f in filenames\n",
    "        if os.path.isfile(os.path.join(input_folder, f))\n",
    "    ]\n",
    "    # Join as comma-separated string\n",
    "    csv_line = ','.join(names_wo_ext)\n",
    "    # Write to file\n",
    "    with open(output_txt, 'w') as f:\n",
    "        f.write(csv_line)\n",
    "    print(f\"Saved {len(names_wo_ext)} filenames (without extension) to {output_txt}\")\n",
    "\n",
    "# Example usage:\n",
    "input_folder = './testdev_subsets/high/v1/images'\n",
    "output_txt = './selected_filenames_high_wo_ext.txt'\n",
    "save_filenames_wo_ext_as_csv(input_folder, output_txt)\n"
   ]
  },
  {
   "cell_type": "code",
   "execution_count": 2,
   "id": "ab2a6f61-ddce-4df3-84a5-0cd7b6435fca",
   "metadata": {},
   "outputs": [
    {
     "name": "stdout",
     "output_type": "stream",
     "text": [
      "Saved 50 filenames to ./selected_filenames_high.txt\n"
     ]
    }
   ],
   "source": [
    "import os\n",
    "\n",
    "def save_filenames_as_csv(input_folder, output_txt):\n",
    "    # List all files in the input folder\n",
    "    filenames = os.listdir(input_folder)\n",
    "    # Filter only files (not directories)\n",
    "    filenames = [f for f in filenames if os.path.isfile(os.path.join(input_folder, f))]\n",
    "    # Join filenames with commas\n",
    "    csv_line = ','.join(filenames)\n",
    "    # Save to the output text file\n",
    "    with open(output_txt, 'w') as f:\n",
    "        f.write(csv_line)\n",
    "    print(f\"Saved {len(filenames)} filenames to {output_txt}\")\n",
    "\n",
    "# Example usage:\n",
    "input_folder = './testdev_subsets/high/v1/images'\n",
    "output_txt = './selected_filenames_high.txt'\n",
    "save_filenames_as_csv(input_folder, output_txt)\n"
   ]
  },
  {
   "cell_type": "markdown",
   "id": "b970641f-de58-4080-9d16-cf39e2ef7bbc",
   "metadata": {},
   "source": [
    "1. Get specific `image_id` annotations"
   ]
  },
  {
   "cell_type": "code",
   "execution_count": null,
   "id": "74543eb5-0dc7-4680-b9c5-68598a0c3e66",
   "metadata": {},
   "outputs": [],
   "source": [
    "import json\n",
    "data = json.load(open(\"../runs/slice_coco/annotations/visdrone_coco_train_128_05.json\"))\n",
    "for img in data[\"images\"]:\n",
    "    print(img[\"id\"], img[\"file_name\"], img.get(\"width\"), img.get(\"height\"))\n"
   ]
  },
  {
   "cell_type": "code",
   "execution_count": 1,
   "id": "34c3c122-1277-4ae7-ac63-b27897c47a08",
   "metadata": {},
   "outputs": [
    {
     "name": "stdout",
     "output_type": "stream",
     "text": [
      "964521\n"
     ]
    }
   ],
   "source": [
    "import json\n",
    "from pathlib import Path\n",
    "# Load the JSON annotation file\n",
    "json_path = \"../runs/slice_coco/annotations/visdrone_coco_train_128_05.json\"\n",
    "with open(json_path, \"r\") as file:\n",
    "    data = json.load(file)\n",
    "\n",
    "# Function to get image details by image_id\n",
    "def get_image_info(file_name_wo):\n",
    "    for image in data[\"images\"]:\n",
    "        image_name = Path(image['file_name']).stem\n",
    "        #print(Path(image['file_name']).stem)\n",
    "        #print(image['file_name'])\n",
    "        if image_name == file_name_wo:\n",
    "            return image['id']\n",
    "    return None\n",
    "#image_id = 964564\n",
    "image_info = get_image_info('0000002_00005_d_0000014_2625_320_256_448_384')\n",
    "print(image_info)"
   ]
  },
  {
   "cell_type": "code",
   "execution_count": 2,
   "id": "a99745d7-b844-4154-85d0-1cc4a1204b87",
   "metadata": {},
   "outputs": [
    {
     "name": "stdout",
     "output_type": "stream",
     "text": [
      "[{'iscrowd': 0, 'image_id': 964521, 'bbox': [49.0, 90.0, 64.0, 34.0], 'segmentation': [[49, 90, 49, 124, 113, 124, 113, 90]], 'category_id': 3, 'id': 754058, 'area': 2176}, {'iscrowd': 0, 'image_id': 964521, 'bbox': [57.0, 108.0, 71.0, 20.0], 'segmentation': [[128, 108, 57, 108, 57, 128, 128, 128]], 'category_id': 3, 'id': 754059, 'area': 1420}, {'iscrowd': 0, 'image_id': 964521, 'bbox': [37.0, 56.0, 58.0, 31.0], 'segmentation': [[37, 56, 37, 87, 95, 87, 95, 56]], 'category_id': 3, 'id': 754060, 'area': 1798}, {'iscrowd': 0, 'image_id': 964521, 'bbox': [39.0, 42.0, 54.0, 22.0], 'segmentation': [[39, 42, 39, 64, 93, 64, 93, 42]], 'category_id': 3, 'id': 754061, 'area': 1188}, {'iscrowd': 0, 'image_id': 964521, 'bbox': [28.0, 27.0, 43.0, 28.0], 'segmentation': [[28, 27, 28, 55, 71, 55, 71, 27]], 'category_id': 4, 'id': 754062, 'area': 1204}, {'iscrowd': 0, 'image_id': 964521, 'bbox': [25.0, 15.0, 52.0, 19.0], 'segmentation': [[25, 15, 25, 34, 77, 34, 77, 15]], 'category_id': 3, 'id': 754063, 'area': 988}, {'iscrowd': 0, 'image_id': 964521, 'bbox': [20.0, 4.0, 60.0, 18.0], 'segmentation': [[20, 4, 20, 22, 80, 22, 80, 4]], 'category_id': 4, 'id': 754064, 'area': 1080}, {'iscrowd': 0, 'image_id': 964521, 'bbox': [20.0, 0.0, 52.0, 10.0], 'segmentation': [[20, 10, 72, 10, 72, 0, 20, 0]], 'category_id': 3, 'id': 754065, 'area': 520}]\n"
     ]
    }
   ],
   "source": [
    "import json\n",
    "import cv2\n",
    "import matplotlib.pyplot as plt\n",
    "\n",
    "# Load the JSON annotation file\n",
    "json_path = \"../runs/slice_coco/annotations/visdrone_coco_train_128_05.json\"\n",
    "with open(json_path, \"r\") as file:\n",
    "    data = json.load(file)\n",
    "\n",
    "image_id = 964521 # Change this to your target image_id\n",
    "\n",
    "def get_annotations(image_id):\n",
    "    return [anno for anno in data[\"annotations\"] if anno[\"image_id\"] == image_id]\n",
    "\n",
    "annotations = get_annotations(image_id)\n",
    "print(annotations)"
   ]
  },
  {
   "cell_type": "markdown",
   "id": "1a602ea6-dc7d-4555-a839-35396290b6ef",
   "metadata": {},
   "source": [
    "2. Get specific `image_id` information"
   ]
  },
  {
   "cell_type": "code",
   "execution_count": 5,
   "id": "de5956e1-ed8f-4ffd-b23d-f61d33db80f4",
   "metadata": {},
   "outputs": [
    {
     "name": "stdout",
     "output_type": "stream",
     "text": [
      "Found 50 image IDs.\n",
      "[15, 32, 38, 68, 90, 214, 348, 374, 411, 426, 430, 463, 487, 528, 569, 577, 579, 616, 657, 668, 706, 793, 796, 840, 849, 859, 875, 890, 929, 933, 976, 977, 993, 1070, 1075, 1141, 1163, 1170, 1208, 1220, 1290, 1437, 1448, 1467, 1480, 1542, 1554, 1576, 1590, 1601]\n"
     ]
    }
   ],
   "source": [
    "import json\n",
    "from pathlib import Path\n",
    "\n",
    "def get_image_ids_from_txt(txt_file, annotation_json):\n",
    "    # Load image names from txt (comma or newline separated)\n",
    "    with open(txt_file, 'r') as f:\n",
    "        content = f.read()\n",
    "        # Split by comma or newline and strip whitespace\n",
    "        image_names = [name.strip() for name in content.replace(',', '\\n').splitlines() if name.strip()]\n",
    "    \n",
    "    # Load annotation file\n",
    "    with open(annotation_json, 'r') as file:\n",
    "        data = json.load(file)\n",
    "    \n",
    "    # Build index: filename stem -> image id\n",
    "    image_index = {Path(image['file_name']).stem: image['id'] for image in data.get(\"images\", [])}\n",
    "    \n",
    "    # Get matching image IDs\n",
    "    image_ids = [image_index[name] for name in image_names if name in image_index]\n",
    "    \n",
    "    return image_ids\n",
    "\n",
    "# Example usage:\n",
    "txt_file = './selected_filenames_high_wo_ext.txt'  # your .txt with names (no extensions)\n",
    "annotation_json = '../../data/VisDrone2COCO/COCO/annotations/visdrone_coco_test.json'\n",
    "\n",
    "ids = get_image_ids_from_txt(txt_file, annotation_json)\n",
    "print(f\"Found {len(ids)} image IDs.\")\n",
    "print(ids)\n"
   ]
  },
  {
   "cell_type": "code",
   "execution_count": 1,
   "id": "3897e5bb-0ee9-4b02-9ec1-9660d0b48658",
   "metadata": {},
   "outputs": [
    {
     "name": "stdout",
     "output_type": "stream",
     "text": [
      "1\n",
      "[964564]\n"
     ]
    }
   ],
   "source": [
    "import json\n",
    "from pathlib import Path\n",
    "\n",
    "# Load the JSON annotation file\n",
    "json_path = \"../runs/slice_coco/annotations/annotations.json\"\n",
    "with open(json_path, \"r\") as file:\n",
    "    data = json.load(file)\n",
    "\n",
    "def get_image_ids(image_names):\n",
    "    \"\"\"\n",
    "    Returns a list of image ids corresponding to the provided list of image names.\n",
    "    The image names should match the filename stem (i.e., filename without extension).\n",
    "    \"\"\"\n",
    "    # Build an index mapping from filename stem to image id for faster lookup\n",
    "    image_index = {}\n",
    "    for image in data.get(\"images\", []):\n",
    "        stem = Path(image['file_name']).stem\n",
    "        image_index[stem] = image['id']\n",
    "    \n",
    "    # Retrieve image ids for the provided image names\n",
    "    ids = [image_index.get(name) for name in image_names if name in image_index]\n",
    "    return ids\n",
    "\n",
    "# Example usage:\n",
    "provided_image_names = [\n",
    "'0000002_00005_d_0000014_2625_384_412_512_540'\n",
    "]\n",
    "image_ids = get_image_ids(provided_image_names)\n",
    "print(len(image_ids))\n",
    "print(image_ids)"
   ]
  },
  {
   "cell_type": "code",
   "execution_count": 6,
   "id": "7095ba5e-8ec8-47ee-8e5c-4ba31a1864f2",
   "metadata": {},
   "outputs": [
    {
     "name": "stdout",
     "output_type": "stream",
     "text": [
      "Subset saved to ./annotations/subset_visdrone_high.json\n"
     ]
    }
   ],
   "source": [
    "import json\n",
    "\n",
    "def subset_coco_json(input_json_path, output_json_path, selected_ids):\n",
    "    # Load the original JSON file\n",
    "    with open(input_json_path, 'r') as f:\n",
    "        coco_data = json.load(f)\n",
    "\n",
    "    # Filter images based on selected IDs\n",
    "    filtered_images = [img for img in coco_data['images'] if img['id'] in selected_ids]\n",
    "\n",
    "    # Filter annotations corresponding to the selected images\n",
    "    filtered_annotations = [ann for ann in coco_data['annotations'] if ann['image_id'] in selected_ids]\n",
    "\n",
    "    # Create new COCO dataset\n",
    "    subset_coco_data = {\n",
    "        \"images\": filtered_images,\n",
    "        \"annotations\": filtered_annotations,\n",
    "        \"categories\": coco_data.get(\"categories\", [])  # Keep categories unchanged\n",
    "    }\n",
    "\n",
    "    # Save the subset to a new JSON file\n",
    "    with open(output_json_path, 'w') as f:\n",
    "        json.dump(subset_coco_data, f, indent=4)\n",
    "\n",
    "    print(f\"Subset saved to {output_json_path}\")\n",
    "\n",
    "# Example usage\n",
    "input_json = \"../../data/VisDrone2COCO/COCO/annotations/visdrone_coco_test.json\"\n",
    "output_json = \"./annotations/subset_visdrone_high.json\"\n",
    "#selected_ids = {914, 1291,169, 1589, 521, 1242, 1003, 512, 957, 1535, 27, 520, 713, 889,1265}\n",
    "#selected_ids = {150, 169, 440, 889, 1385,1390,1418,1461,1473,1520}  # Replace with actual IDs you want to extract\n",
    "#selected_ids = {970, 1267, 421, 374, 1099, 187, 442, 1096, 1231, 1108, 284, 96, 125, 1279, 236}\n",
    "#selected_ids = {449, 1442, 1015, 611, 378, 788, 982, 323, 295, 863, 626, 1222, 75, 239, 987, 1214, 165, 16, 1493, 686, 36, 1537, 1120, 631, 6, 1398, 166, 1415, 886, 105, 489, 217, 333, 1466, 1092, 139, 1293, 1059, 121, 356, 137, 756, 703, 617, 17, 1144, 571, 1039, 541, 115, 1191, 1368, 665, 513, 1577, 1343, 1502, 1531, 566, 1158, 1297, 687, 614, 1496, 1370, 949, 345, 1489, 973, 762, 497, 33, 1561, 7, 780, 357, 177, 443, 956, 735, 417, 1323, 1593, 381, 1313, 1124, 1299, 1261, 251, 61, 1495, 1201, 935, 233, 1189, 772, 1476, 1314, 757, 992, 1252, 904, 958, 1044, 998, 1236, 915, 551, 56, 124, 954, 1396, 1099, 31, 961, 1338, 1193, 190, 393, 1121, 860, 389, 777, 795, 536, 600, 1318, 52, 382, 675, 1207, 965, 1256, 1173, 1079, 864, 1052, 715, 69, 543, 191, 990, 1083, 641, 1195, 738, 1410, 963, 997, 642, 161, 50, 1246, 834, 658, 420, 1360, 920, 1051, 1274, 407, 659, 24, 131, 108, 1606, 1439, 1105, 288, 122, 1312, 349, 359, 955, 529, 369, 822, 909, 587, 1342, 674, 594, 1317, 947, 468, 896, 953, 1401, 96, 1320, 227, 277, 930, 1259, 591, 281, 1231, 1597, 518, 598, 1536, 463, 549, 445, 178, 377, 1167, 80, 929, 98, 1134, 398, 1482, 214, 1156, 671, 916, 309, 42, 668, 1040, 2, 579, 1270, 1509, 1140, 796, 993, 1534, 55, 180, 1411, 819, 1182, 875, 1400, 971, 1419, 616, 298, 1230, 140, 478, 504, 1362, 1590, 846, 487, 193, 586, 506, 46, 1582, 472, 545, 1232, 176, 727, 779, 613, 242, 741, 853, 375, 895, 1085, 878, 464, 615, 442, 1017, 352, 35, 1053, 222, 722, 1177, 411, 1376, 104, 1202, 1006, 859, 629, 833, 988, 370, 742, 146, 557, 1540, 21, 851, 1163, 1203, 1448, 130, 978, 527, 91, 66, 258, 1434, 1050, 999, 231, 264, 838, 34, 696, 1514, 897, 440, 1254, 1454, 62, 1046, 284, 434, 1375, 962, 872, 48, 1285, 388, 364, 1580, 553, 630, 316, 287, 451, 1407, 1045, 95, 1340, 1541, 114, 945, 1102, 514, 901, 151, 84, 1306, 1435, 206, 368, 701, 724, 1093, 1469, 308, 1429, 1119, 229, 1049, 1007, 87, 1291, 589, 573, 60, 683, 1187, 278, 1247, 1200, 1361, 81, 1283, 1345, 1245, 394, 921, 479, 927, 1321, 395, 752, 1393, 612, 1394, 1088, 912, 1573, 601, 1150, 1061, 521, 817, 1154, 1418, 318, 1563, 1333, 1571, 100, 437, 172, 1446, 209, 736, 1096, 311, 651, 1011, 1567, 210, 561, 379, 1450, 1440, 215, 1033, 952, 503, 560, 944, 1082, 828, 698, 1456, 1091, 246, 187, 1041, 310, 11, 371, 1068, 964, 679, 1196, 814, 113, 1073, 405, 331, 1132, 296, 1106, 111, 1271, 321, 88, 404, 392, 807, 1598, 582, 636, 1302, 830, 1190, 1327, 1359, 154, 797, 717, 1447, 400, 76, 650, 1240, 213, 524, 413, 785, 1239, 877, 556, 492, 588, 778, 71, 1265, 49, 748, 505, 491, 450, 517, 431, 1465, 1533, 1111, 663, 815, 826, 1405, 1322, 869, 884, 1305, 1532, 102, 1519, 324, 1286}\n",
    "selected_ids = {15, 32, 38, 68, 90, 214, 348, 374, 411, 426, 430, 463, 487, 528, 569, 577, 579, 616, 657, 668, 706, 793, 796, 840, 849, 859, 875, 890, 929, 933, 976, 977, 993, 1070, 1075, 1141, 1163, 1170, 1208, 1220, 1290, 1437, 1448, 1467, 1480, 1542, 1554, 1576, 1590, 1601}\n",
    "#selected_ids = {1520, 75, 632, 1297, 1453, 33, 941, 1502, 43, 1035, 449, 228, 396, 646, 623, 719, 82, 1261, 1466, 1194, 297, 863, 1128, 934, 1296, 356, 1020, 1577, 313, 139, 1120, 217, 757, 780, 842, 982, 1442, 1039, 1399, 1005, 1602, 94, 17, 61, 70, 115, 648, 1015, 432, 1329}\n",
    "#selected_ids = {1, 2, 4, 5, 6, 13, 14, 15, 18, 50, 53, 55, 56, 67, 68, 74, 80, 82, 91, 97, 99, 104, 105, 109, 110, 111, 114, 116, 119, 122, 125, 127, 128, 130, 131, 136, 138, 144, 152, 169, 171, 176, 179, 182, 183, 185, 188, 194, 199, 200, 201, 208, 212, 213, 215, 219, 220, 224, 231, 243, 248, 254, 258, 262, 263, 266, 267, 270, 272, 275, 281, 282, 285, 292, 293, 298, 303, 307, 308, 309, 315, 318, 324, 330, 333, 334, 336, 341, 349, 362, 363, 364, 371, 372, 375, 379, 380, 388, 391, 395, 400, 404, 405, 411, 412, 420, 421, 422, 432, 436, 437, 438, 444, 451, 452, 455, 460, 469, 473, 474, 479, 480, 483, 487, 492, 493, 495, 496, 499, 506, 514, 517, 518, 522, 523, 524, 539, 541, 542, 551, 555, 556, 558, 560, 571, 572, 573, 574, 578, 582, 585, 589, 605, 607, 613, 618, 627, 628, 638, 639, 647, 653, 657, 660, 664, 665, 667, 671, 673, 675, 676, 677, 690, 693, 695, 702, 704, 706, 711, 719, 720, 743, 744, 747, 748, 754, 756, 759, 768, 769, 775, 776, 777, 781, 782, 785, 788, 789, 791, 793, 798, 801, 805, 810, 816, 820, 821, 822, 825, 834, 838, 843, 844, 845, 850, 854, 859, 861, 866, 875, 876, 882, 887, 891, 895, 901, 902, 906, 908, 914, 921, 924, 928, 935, 937, 939, 942, 947, 957, 960, 961, 962, 963, 968, 970, 976, 978, 980, 985, 994, 995, 1003, 1005, 1008, 1014, 1018, 1022, 1023, 1024, 1026, 1027, 1040, 1041, 1042, 1055, 1056, 1058, 1059, 1090, 1097, 1100, 1103, 1138, 1143, 1144, 1150, 1167, 1168, 1170, 1172, 1173, 1176, 1179, 1180, 1193, 1194, 1195, 1200, 1205, 1210, 1211, 1216, 1224, 1233, 1236, 1245, 1246, 1249, 1254, 1261, 1266, 1267, 1270, 1278, 1285, 1289, 1295, 1298, 1299, 1301, 1304, 1309, 1311, 1313, 1314, 1317, 1320, 1323, 1325, 1334, 1335, 1336, 1337, 1338, 1339, 1343, 1345, 1347, 1351, 1353, 1355, 1356, 1371, 1373, 1376, 1389, 1390, 1392, 1393, 1394, 1415, 1419, 1423, 1428, 1431, 1441, 1451, 1460, 1463, 1474, 1478, 1482, 1483, 1489, 1490, 1492, 1495, 1497, 1502, 1522, 1528, 1529, 1533, 1545, 1546, 1552, 1553, 1561, 1563, 1564, 1565, 1566, 1569, 1577, 1586, 1594, 1599, 1601, 1608, 1619, 1622, 1623, 1624, 1641, 1642, 1643, 1650, 1652, 1656, 1661, 1666, 1668, 1669, 1674, 1679, 1680, 1682, 1683, 1691, 1694, 1711, 1727, 1728, 1732, 1736, 1737, 1738, 1739, 1744, 1757, 1758, 1759, 1760, 1766, 1770, 1772, 1773, 1783, 1785, 1786, 1790, 1792, 1797, 1805, 1807, 1813, 1816, 1819, 1820, 1823, 1831, 1834, 1836, 1838, 1848, 1856, 1857, 1858, 1859, 1861, 1867, 1869, 1875, 1882, 1885, 1894, 1897, 1904, 1907, 1908, 1911, 1914, 1920, 1923, 1927, 1931, 1935, 1941, 1944, 1957, 1962, 1966, 1971, 1973, 1976, 1977, 1982, 1989, 1992, 2001, 2020, 2022, 2025, 2036, 2040, 2044, 2056, 2063, 2069, 2076, 2087, 2091, 2092, 2099, 2106, 2115, 2116, 2117, 2121, 2124, 2126, 2128, 2130, 2131, 2138, 2141, 2146, 2148, 2154, 2162, 2164, 2165, 2168, 2171, 2174, 2175, 2177, 2179, 2189, 2190, 2191, 2192, 2193, 2195, 2196, 2198, 2204, 2213, 2222, 2224, 2228, 2236, 2238, 2247, 2251, 2254, 2257, 2258, 2259, 2268, 2273, 2274, 2276, 2281, 2282, 2286, 2290, 2295, 2298, 2300, 2305, 2316, 2328, 2330, 2340, 2345, 2348, 2359, 2360, 2366, 2374, 2380, 2381, 2384, 2385, 2391, 2392, 2394, 2400, 2401, 2402, 2411, 2412, 2414, 2416, 2418, 2419, 2422, 2423, 2425, 2427, 2428, 2435, 2436, 2440, 2444, 2447, 2449, 2452, 2454, 2456, 2464, 2473, 2474, 2476, 2477, 2490, 2497, 2503, 2508, 2511, 2514, 2516, 2517, 2518, 2519, 2521, 2524, 2526, 2544, 2546, 2552, 2555, 2569, 2571, 2574, 2585, 2587, 2590, 2594, 2600, 2607, 2609, 2612, 2616, 2632, 2633, 2634, 2638, 2641, 2643, 2645, 2653, 2659, 2662, 2666, 2668, 2675, 2679, 2681, 2682, 2685, 2689, 2696, 2702, 2708, 2718, 2727, 2735, 2738, 2742, 2746, 2748, 2750, 2751, 2759, 2762, 2764, 2772, 2786, 2789, 2792, 2796, 2799, 2800, 2806, 2808, 2809, 2813, 2816, 2819, 2822, 2823, 2829, 2830, 2837, 2840, 2843, 2848, 2855, 2857, 2863, 2866, 2867, 2868, 2879, 2881, 2883, 2884, 2885, 2897, 2900, 2917, 2921, 2924, 2926, 2928, 2935, 2937, 2940, 2944, 2948, 2949, 2962, 2963, 2965, 2967, 2969, 2970, 2973, 2975, 2976, 2978, 2980, 2990, 2995, 3001, 3004, 3010, 3016, 3020, 3021, 3022, 3023, 3033, 3042, 3045, 3049, 3051, 3054, 3056, 3057, 3058, 3062, 3063, 3073, 3079, 3084, 3087, 3092, 3097, 3099, 3106, 3110, 3118, 3124, 3133, 3134, 3138, 3140, 3148, 3153, 3154, 3155, 3163, 3164, 3165, 3166, 3167, 3169, 3172, 3174, 3178, 3181, 3191, 3197, 3200, 3208, 3214, 3217, 3218, 3221, 3222, 3224, 3233, 3238, 3240, 3251, 3255, 3263, 3265, 3285, 3286, 3293, 3295, 3298, 3300, 3303, 3304, 3306, 3307, 3308, 3312, 3314, 3317, 3330, 3333, 3347, 3350, 3351, 3354, 3355, 3357, 3359, 3360, 3361, 3366, 3367, 3368, 3371, 3372, 3383, 3389, 3392, 3394, 3398, 3405, 3412, 3415, 3417, 3418, 3420, 3421, 3434, 3442, 3444, 3446, 3454, 3455, 3458, 3464, 3465, 3468, 3469, 3475, 3480, 3499, 3504, 3506, 3516, 3538, 3544, 3545, 3554, 3568, 3571, 3574, 3577, 3579, 3581, 3583, 3589, 3599, 3605, 3610, 3612, 3613, 3614, 3619, 3629, 3630, 3634, 3646, 3649, 3651, 3653, 3660, 3663, 3673, 3675, 3686, 3687, 3688, 3695, 3703, 3706, 3708, 3711, 3714, 3715, 3716, 3719, 3722, 3723, 3724, 3728, 3752, 3756, 3757, 3761, 3768, 3775, 3779, 3781, 3783, 3784, 3788, 3789, 3792, 3806, 3807, 3817, 3818, 3819, 3821, 3824, 3825, 3828, 3831, 3849, 3850, 3863, 3869, 3879, 3883, 3889, 3893, 3901, 3903, 3912, 3913, 3915, 3918, 3922, 3929, 3935, 3941, 3946, 3948, 3952, 3953, 3961, 3963, 3966, 3967, 3991, 3997, 4001, 4002, 4010, 4016, 4023, 4027, 4029, 4032, 4035, 4039, 4040, 4042, 4049, 4052, 4054, 4057, 4059, 4062, 4072, 4073, 4076, 4077, 4090, 4095, 4098, 4099, 4100, 4107, 4108, 4110, 4113, 4115, 4118, 4129, 4132, 4137, 4138, 4141, 4144, 4146, 4147, 4153, 4154, 4158, 4159, 4166, 4168, 4170, 4171, 4179, 4195, 4208, 4212, 4217, 4223, 4224, 4228, 4233, 4237, 4250, 4251, 4252, 4255, 4258, 4261, 4270, 4277, 4279, 4280, 4281, 4282, 4283, 4288, 4295, 4296, 4297, 4303, 4304, 4306, 4310, 4313, 4324, 4337, 4341, 4347, 4350, 4355, 4358, 4359, 4360, 4362, 4368, 4369, 4371, 4372, 4377, 4380, 4385, 4388, 4390, 4391, 4393, 4394, 4395, 4397, 4402, 4407, 4415, 4424, 4428, 4431, 4432, 4438, 4441, 4442, 4448, 4450, 4454, 4457, 4459, 4461, 4464, 4466, 4467, 4493, 4494, 4497, 4504, 4505, 4509, 4513, 4514, 4518, 4527, 4530, 4532, 4539, 4540, 4545, 4549, 4550, 4552, 4555, 4562, 4569, 4581, 4582, 4592, 4603, 4611, 4613, 4617, 4619, 4626, 4628, 4630, 4631, 4634, 4638, 4640, 4643, 4647, 4648, 4649, 4653, 4669, 4670, 4681, 4682, 4692, 4698, 4702, 4705, 4713, 4720, 4734, 4738, 4745, 4746, 4747, 4752, 4760, 4765, 4767, 4771, 4776, 4786, 4789, 4792, 4793, 4796, 4804, 4808, 4821, 4829, 4832, 4835, 4838, 4840, 4841, 4844, 4845, 4848, 4849, 4850, 4857, 4858, 4866, 4869, 4870, 4880, 4884, 4885, 4886, 4890, 4898, 4902, 4905, 4910, 4912, 4917, 4925, 4927, 4929, 4931, 4934, 4939, 4945, 4948, 4950, 4955, 4959, 4969, 4977, 4978, 4983, 4988, 4991, 4995, 5007, 5018, 5019, 5027, 5028, 5031, 5035, 5041, 5044, 5050, 5051, 5058, 5061, 5063, 5064, 5075, 5076, 5077, 5081, 5084, 5087, 5091, 5101, 5106, 5110, 5112, 5115, 5118, 5122, 5123, 5126, 5134, 5146, 5156, 5158, 5161, 5165, 5175, 5177, 5180, 5184, 5186, 5187, 5188, 5189, 5196, 5200, 5204, 5206, 5207, 5209, 5210, 5221, 5231, 5233, 5234, 5246, 5248, 5249, 5251, 5253, 5254, 5269, 5273, 5274, 5280, 5281, 5287, 5289, 5292, 5294, 5295, 5296, 5305, 5307, 5317, 5320, 5321, 5325, 5330, 5335, 5345, 5349, 5353, 5354, 5355, 5358, 5370, 5373, 5391, 5397, 5398, 5399, 5400, 5420, 5441, 5456, 5459, 5461, 5462, 5464, 5468, 5470, 5477, 5478, 5481, 5485, 5488, 5489, 5490, 5492, 5494, 5519, 5526, 5528, 5529, 5530, 5534, 5537, 5539, 5542, 5543, 5551, 5552, 5554, 5556, 5557, 5561, 5562, 5564, 5571, 5574, 5576, 5578, 5584, 5588, 5592, 5601, 5610, 5613, 5622, 5627, 5631, 5634, 5637, 5646, 5647, 5650, 5652, 5654, 5655, 5657, 5659, 5662, 5667, 5668, 5674, 5678, 5688, 5690, 5694, 5696, 5697, 5698, 5704, 5715, 5716, 5718, 5719, 5721, 5726, 5730, 5734, 5735, 5745, 5748, 5751, 5755, 5756, 5762, 5763, 5769, 5771, 5776, 5777, 5781, 5783, 5786, 5789, 5798, 5804, 5806, 5807, 5808, 5821, 5822, 5835, 5837, 5838, 5842, 5853, 5855, 5858, 5859, 5864, 5866, 5876, 5877, 5879, 5886, 5887, 5889, 5893, 5896, 5901, 5904, 5916, 5928, 5929, 5935, 5938, 5944, 5946, 5956, 5959, 5961, 5962, 5964, 5971, 5973, 5982, 5993, 5995, 5997, 6014, 6023, 6024, 6027, 6033, 6035, 6036, 6043, 6045, 6051, 6053, 6056, 6063, 6074, 6085, 6089, 6090, 6097, 6103, 6107, 6112, 6114, 6123, 6128, 6133, 6135, 6137, 6139, 6144, 6146, 6151, 6155, 6157, 6160, 6165, 6168, 6174, 6175, 6176, 6185, 6186, 6187, 6188, 6191, 6204, 6205, 6206, 6210, 6211, 6215, 6217, 6219, 6221, 6223, 6231, 6232, 6235, 6238, 6240, 6242, 6245, 6246, 6248, 6251, 6259, 6260, 6263, 6282, 6284, 6290, 6294, 6297, 6303, 6305, 6306, 6307, 6314, 6317, 6318, 6320, 6333, 6338, 6341, 6344, 6346, 6348, 6351, 6356, 6360, 6361, 6363, 6364, 6368, 6370, 6371, 6377, 6379, 6396, 6397, 6401, 6407, 6408, 6409, 6410, 6420, 6421, 6427, 6433, 6437, 6439, 6446, 6448, 6449, 6453, 6464, 6469, 6470, 6471}\n",
    "subset_coco_json(input_json, output_json, selected_ids)"
   ]
  },
  {
   "cell_type": "code",
   "execution_count": 3,
   "id": "8aaf347b-7ee8-469c-b146-3c7125db8bf9",
   "metadata": {},
   "outputs": [
    {
     "name": "stdout",
     "output_type": "stream",
     "text": [
      "../../data/VisDrone2COCO/COCO/annotations/visdrone_coco_train.json\n"
     ]
    }
   ],
   "source": [
    "ls ../../data/VisDrone2COCO/COCO/annotations/visdrone_coco_train.json"
   ]
  },
  {
   "cell_type": "code",
   "execution_count": 4,
   "id": "1b74cc3b-0130-48c7-8696-bdb41460f803",
   "metadata": {},
   "outputs": [
    {
     "name": "stdout",
     "output_type": "stream",
     "text": [
      "Found 1518 files in './testdev_subsets/train_subset/VisDrone2019-DET-train-15_Subset970-Images/images/'.\n",
      "Selected 0 images matching the folder.\n",
      "Subset COCO JSON saved to ./annotations/subset_coco.json\n",
      "Images: 0, Annotations: 0\n"
     ]
    }
   ],
   "source": [
    "import json\n",
    "import os\n",
    "\n",
    "def subset_coco_by_filenames(input_json_path, input_folder, save_folder):\n",
    "    # 1. Collect file names from the input folder\n",
    "    image_filenames = set(os.listdir(input_folder))\n",
    "    print(f\"Found {len(image_filenames)} files in '{input_folder}'.\")\n",
    "\n",
    "    # 2. Load COCO JSON\n",
    "    with open(input_json_path, 'r') as f:\n",
    "        coco_data = json.load(f)\n",
    "\n",
    "    # 3. Filter images whose 'file_name' matches a file in input_folder\n",
    "    filtered_images = [img for img in coco_data['images'] if img['file_name'] in image_filenames]\n",
    "    selected_ids = {img['id'] for img in filtered_images}\n",
    "\n",
    "    print(f\"Selected {len(filtered_images)} images matching the folder.\")\n",
    "\n",
    "    # 4. Filter annotations corresponding to selected images\n",
    "    filtered_annotations = [ann for ann in coco_data['annotations'] if ann['image_id'] in selected_ids]\n",
    "\n",
    "    # 5. Prepare new COCO data (keep optional fields)\n",
    "    subset_coco_data = {\n",
    "        \"images\": filtered_images,\n",
    "        \"annotations\": filtered_annotations,\n",
    "        \"categories\": coco_data.get(\"categories\", [])\n",
    "    }\n",
    "    for key in ['info', 'licenses']:\n",
    "        if key in coco_data:\n",
    "            subset_coco_data[key] = coco_data[key]\n",
    "\n",
    "    # 6. Ensure output directory exists\n",
    "    os.makedirs(save_folder, exist_ok=True)\n",
    "    save_path = os.path.join(save_folder, \"subset_coco.json\")\n",
    "\n",
    "    # 7. Save the subset JSON\n",
    "    with open(save_path, 'w') as f:\n",
    "        json.dump(subset_coco_data, f, indent=4)\n",
    "\n",
    "    print(f\"Subset COCO JSON saved to {save_path}\")\n",
    "    print(f\"Images: {len(filtered_images)}, Annotations: {len(filtered_annotations)}\")\n",
    "\n",
    "# Example usage:\n",
    "input_json_path = \"../../data/VisDrone2COCO/COCO/annotations/visdrone_coco_train.json\"\n",
    "input_folder = \"./testdev_subsets/train_subset/VisDrone2019-DET-train-15_Subset970-Images/images/\"            # Folder containing images whose names you want to select\n",
    "save_folder = \"./annotations\"          # Where the output JSON will be saved\n",
    "\n",
    "subset_coco_by_filenames(input_json_path, input_folder, save_folder)\n"
   ]
  },
  {
   "cell_type": "code",
   "execution_count": 6,
   "id": "cda5b443-17cd-456c-bb06-0b4a55b5acdd",
   "metadata": {},
   "outputs": [
    {
     "name": "stdout",
     "output_type": "stream",
     "text": [
      "Total files (no subfolders) in './testdev_subsets/mix/v1/images': 500\n"
     ]
    }
   ],
   "source": [
    "#Non‐recursive (only counts files directly under the folder)\n",
    "import os\n",
    "\n",
    "def count_files_non_recursive(folder_path: str) -> int:\n",
    "    \"\"\"\n",
    "    Count only the files directly inside folder_path (no subfolders).\n",
    "    \"\"\"\n",
    "    return sum(\n",
    "        1\n",
    "        for entry in os.listdir(folder_path)\n",
    "        if os.path.isfile(os.path.join(folder_path, entry))\n",
    "    )\n",
    "\n",
    "if __name__ == \"__main__\":\n",
    "    folder = \"./testdev_subsets/mix/v1/images\"\n",
    "    total = count_files_non_recursive(folder)\n",
    "    print(f\"Total files (no subfolders) in '{folder}': {total}\")\n"
   ]
  },
  {
   "cell_type": "code",
   "execution_count": 7,
   "id": "fe565276-80a2-4d0a-ade6-e3c40fd39730",
   "metadata": {},
   "outputs": [
    {
     "name": "stdout",
     "output_type": "stream",
     "text": [
      "Total files (including subfolders) in './testdev_subsets/mix/v1/images': 500\n"
     ]
    }
   ],
   "source": [
    "#Recursive (counts files in all subdirectories too)\n",
    "import os\n",
    "\n",
    "def count_files_recursive(folder_path: str) -> int:\n",
    "    \"\"\"\n",
    "    Walks the directory tree starting at folder_path,\n",
    "    counting every file it finds.\n",
    "    \"\"\"\n",
    "    total = 0\n",
    "    for root, dirs, files in os.walk(folder_path):\n",
    "        total += len(files)\n",
    "    return total\n",
    "\n",
    "if __name__ == \"__main__\":\n",
    "    folder = \"./testdev_subsets/mix/v1/images\"\n",
    "    total = count_files_recursive(folder)\n",
    "    print(f\"Total files (including subfolders) in '{folder}': {total}\")\n"
   ]
  }
 ],
 "metadata": {
  "kernelspec": {
   "display_name": "Python [conda env:torch11.8]",
   "language": "python",
   "name": "conda-env-torch11.8-py"
  },
  "language_info": {
   "codemirror_mode": {
    "name": "ipython",
    "version": 3
   },
   "file_extension": ".py",
   "mimetype": "text/x-python",
   "name": "python",
   "nbconvert_exporter": "python",
   "pygments_lexer": "ipython3",
   "version": "3.9.18"
  }
 },
 "nbformat": 4,
 "nbformat_minor": 5
}
