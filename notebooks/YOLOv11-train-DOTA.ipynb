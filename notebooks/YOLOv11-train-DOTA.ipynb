{
 "cells": [
  {
   "cell_type": "code",
   "execution_count": 16,
   "metadata": {},
   "outputs": [
    {
     "data": {
      "text/plain": [
       "'/mmfs1/scratch/dsu.local/bshakya/scratch/bshakya/YOLOv11'"
      ]
     },
     "execution_count": 16,
     "metadata": {},
     "output_type": "execute_result"
    }
   ],
   "source": [
    "pwd"
   ]
  },
  {
   "cell_type": "code",
   "execution_count": null,
   "metadata": {},
   "outputs": [],
   "source": [
    "# Load the JSON file to count the total number of images\n",
    "import json\n",
    "\n",
    "# File path to the JSON file\n",
    "file_path = 'train.json'\n",
    "\n",
    "# Load and count the total number of images\n",
    "with open(file_path, 'r') as file:\n",
    "    data = json.load(file)\n",
    "    total_images = len(data[\"images\"])\n",
    "\n",
    "total_images\n"
   ]
  },
  {
   "cell_type": "code",
   "execution_count": 3,
   "metadata": {},
   "outputs": [
    {
     "name": "stdout",
     "output_type": "stream",
     "text": [
      "1.12.1+cu113\n",
      "11.3\n"
     ]
    }
   ],
   "source": [
    "!python -c \"import torch; print(torch.__version__); print(torch.version.cuda)\""
   ]
  },
  {
   "cell_type": "code",
   "execution_count": 4,
   "metadata": {},
   "outputs": [
    {
     "name": "stdout",
     "output_type": "stream",
     "text": [
      "Requirement already satisfied: ultralytics in /mmfs1/home/dsu.local/bshakya/.conda/envs/bijay/lib/python3.10/site-packages (8.3.67)\n",
      "Collecting ultralytics\n",
      "  Downloading ultralytics-8.3.68-py3-none-any.whl.metadata (35 kB)\n",
      "Requirement already satisfied: numpy>=1.23.0 in /mmfs1/home/dsu.local/bshakya/.conda/envs/bijay/lib/python3.10/site-packages (from ultralytics) (1.26.4)\n",
      "Requirement already satisfied: matplotlib>=3.3.0 in /mmfs1/home/dsu.local/bshakya/.conda/envs/bijay/lib/python3.10/site-packages (from ultralytics) (3.9.2)\n",
      "Requirement already satisfied: opencv-python>=4.6.0 in /mmfs1/home/dsu.local/bshakya/.conda/envs/bijay/lib/python3.10/site-packages (from ultralytics) (4.9.0.80)\n",
      "Requirement already satisfied: pillow>=7.1.2 in /mmfs1/home/dsu.local/bshakya/.conda/envs/bijay/lib/python3.10/site-packages (from ultralytics) (9.5.0)\n",
      "Requirement already satisfied: pyyaml>=5.3.1 in /mmfs1/home/dsu.local/bshakya/.conda/envs/bijay/lib/python3.10/site-packages (from ultralytics) (6.0.1)\n",
      "Requirement already satisfied: requests>=2.23.0 in /mmfs1/home/dsu.local/bshakya/.conda/envs/bijay/lib/python3.10/site-packages (from ultralytics) (2.32.3)\n",
      "Requirement already satisfied: scipy>=1.4.1 in /mmfs1/home/dsu.local/bshakya/.conda/envs/bijay/lib/python3.10/site-packages (from ultralytics) (1.13.0)\n",
      "Requirement already satisfied: torch>=1.8.0 in /mmfs1/home/dsu.local/bshakya/.conda/envs/bijay/lib/python3.10/site-packages (from ultralytics) (1.12.1+cu113)\n",
      "Requirement already satisfied: torchvision>=0.9.0 in /mmfs1/home/dsu.local/bshakya/.conda/envs/bijay/lib/python3.10/site-packages (from ultralytics) (0.13.1+cu113)\n",
      "Requirement already satisfied: tqdm>=4.64.0 in /mmfs1/home/dsu.local/bshakya/.conda/envs/bijay/lib/python3.10/site-packages (from ultralytics) (4.67.1)\n",
      "Requirement already satisfied: psutil in /mmfs1/home/dsu.local/bshakya/.conda/envs/bijay/lib/python3.10/site-packages (from ultralytics) (5.9.8)\n",
      "Requirement already satisfied: py-cpuinfo in /mmfs1/home/dsu.local/bshakya/.conda/envs/bijay/lib/python3.10/site-packages (from ultralytics) (9.0.0)\n",
      "Requirement already satisfied: pandas>=1.1.4 in /mmfs1/home/dsu.local/bshakya/.conda/envs/bijay/lib/python3.10/site-packages (from ultralytics) (1.5.2)\n",
      "Requirement already satisfied: seaborn>=0.11.0 in /mmfs1/home/dsu.local/bshakya/.conda/envs/bijay/lib/python3.10/site-packages (from ultralytics) (0.13.2)\n",
      "Requirement already satisfied: ultralytics-thop>=2.0.0 in /mmfs1/home/dsu.local/bshakya/.conda/envs/bijay/lib/python3.10/site-packages (from ultralytics) (2.0.13)\n",
      "Requirement already satisfied: contourpy>=1.0.1 in /mmfs1/home/dsu.local/bshakya/.conda/envs/bijay/lib/python3.10/site-packages (from matplotlib>=3.3.0->ultralytics) (1.3.0)\n",
      "Requirement already satisfied: cycler>=0.10 in /mmfs1/home/dsu.local/bshakya/.conda/envs/bijay/lib/python3.10/site-packages (from matplotlib>=3.3.0->ultralytics) (0.12.1)\n",
      "Requirement already satisfied: fonttools>=4.22.0 in /mmfs1/home/dsu.local/bshakya/.conda/envs/bijay/lib/python3.10/site-packages (from matplotlib>=3.3.0->ultralytics) (4.54.1)\n",
      "Requirement already satisfied: kiwisolver>=1.3.1 in /mmfs1/home/dsu.local/bshakya/.conda/envs/bijay/lib/python3.10/site-packages (from matplotlib>=3.3.0->ultralytics) (1.4.7)\n",
      "Requirement already satisfied: packaging>=20.0 in /mmfs1/home/dsu.local/bshakya/.conda/envs/bijay/lib/python3.10/site-packages (from matplotlib>=3.3.0->ultralytics) (24.1)\n",
      "Requirement already satisfied: pyparsing>=2.3.1 in /mmfs1/home/dsu.local/bshakya/.conda/envs/bijay/lib/python3.10/site-packages (from matplotlib>=3.3.0->ultralytics) (3.2.0)\n",
      "Requirement already satisfied: python-dateutil>=2.7 in /mmfs1/home/dsu.local/bshakya/.conda/envs/bijay/lib/python3.10/site-packages (from matplotlib>=3.3.0->ultralytics) (2.9.0.post0)\n",
      "Requirement already satisfied: pytz>=2020.1 in /mmfs1/home/dsu.local/bshakya/.conda/envs/bijay/lib/python3.10/site-packages (from pandas>=1.1.4->ultralytics) (2023.4)\n",
      "Requirement already satisfied: charset-normalizer<4,>=2 in /mmfs1/home/dsu.local/bshakya/.conda/envs/bijay/lib/python3.10/site-packages (from requests>=2.23.0->ultralytics) (3.4.0)\n",
      "Requirement already satisfied: idna<4,>=2.5 in /mmfs1/home/dsu.local/bshakya/.conda/envs/bijay/lib/python3.10/site-packages (from requests>=2.23.0->ultralytics) (3.7)\n",
      "Requirement already satisfied: urllib3<3,>=1.21.1 in /mmfs1/home/dsu.local/bshakya/.conda/envs/bijay/lib/python3.10/site-packages (from requests>=2.23.0->ultralytics) (2.3.0)\n",
      "Requirement already satisfied: certifi>=2017.4.17 in /mmfs1/home/dsu.local/bshakya/.conda/envs/bijay/lib/python3.10/site-packages (from requests>=2.23.0->ultralytics) (2024.8.30)\n",
      "Requirement already satisfied: typing-extensions in /mmfs1/home/dsu.local/bshakya/.conda/envs/bijay/lib/python3.10/site-packages (from torch>=1.8.0->ultralytics) (4.12.2)\n",
      "Requirement already satisfied: six>=1.5 in /mmfs1/home/dsu.local/bshakya/.conda/envs/bijay/lib/python3.10/site-packages (from python-dateutil>=2.7->matplotlib>=3.3.0->ultralytics) (1.16.0)\n",
      "Downloading ultralytics-8.3.68-py3-none-any.whl (913 kB)\n",
      "\u001b[2K   \u001b[90m━━━━━━━━━━━━━━━━━━━━━━━━━━━━━━━━━━━━━━━━\u001b[0m \u001b[32m913.6/913.6 kB\u001b[0m \u001b[31m19.1 MB/s\u001b[0m eta \u001b[36m0:00:00\u001b[0m\n",
      "\u001b[?25hInstalling collected packages: ultralytics\n",
      "  Attempting uninstall: ultralytics\n",
      "    Found existing installation: ultralytics 8.3.67\n",
      "    Uninstalling ultralytics-8.3.67:\n",
      "      Successfully uninstalled ultralytics-8.3.67\n",
      "Successfully installed ultralytics-8.3.68\n"
     ]
    }
   ],
   "source": [
    "!pip install ultralytics --upgrade"
   ]
  },
  {
   "cell_type": "code",
   "execution_count": 44,
   "metadata": {},
   "outputs": [
    {
     "name": "stdout",
     "output_type": "stream",
     "text": [
      "Ultralytics 8.3.51 🚀 Python-3.10.15 torch-2.5.0+cu118 CUDA:0 (NVIDIA A100 80GB PCIe, 81229MiB)\n",
      "\u001b[34m\u001b[1mengine/trainer: \u001b[0mtask=detect, mode=train, model=../../YOLOv11/weights/yolo11n.pt, data=../../YOLOv11/DOTAv1.5.yaml, epochs=50, time=None, patience=100, batch=16, imgsz=640, save=True, save_period=-1, cache=False, device=0, workers=8, project=None, name=train19, exist_ok=False, pretrained=True, optimizer=auto, verbose=True, seed=0, deterministic=True, single_cls=False, rect=False, cos_lr=False, close_mosaic=10, resume=False, amp=True, fraction=1.0, profile=False, freeze=None, multi_scale=False, overlap_mask=True, mask_ratio=4, dropout=0.0, val=True, split=val, save_json=False, save_hybrid=False, conf=None, iou=0.7, max_det=300, half=False, dnn=False, plots=True, source=None, vid_stride=1, stream_buffer=False, visualize=False, augment=False, agnostic_nms=False, classes=None, retina_masks=False, embed=None, show=False, save_frames=False, save_txt=False, save_conf=False, save_crop=False, show_labels=True, show_conf=True, show_boxes=True, line_width=None, format=torchscript, keras=False, optimize=False, int8=False, dynamic=False, simplify=True, opset=None, workspace=None, nms=False, lr0=0.01, lrf=0.01, momentum=0.937, weight_decay=0.0005, warmup_epochs=3.0, warmup_momentum=0.8, warmup_bias_lr=0.1, box=7.5, cls=0.5, dfl=1.5, pose=12.0, kobj=1.0, nbs=64, hsv_h=0.015, hsv_s=0.7, hsv_v=0.4, degrees=0.0, translate=0.1, scale=0.5, shear=0.0, perspective=0.0, flipud=0.0, fliplr=0.5, bgr=0.0, mosaic=1.0, mixup=0.0, copy_paste=0.0, copy_paste_mode=flip, auto_augment=randaugment, erasing=0.4, crop_fraction=1.0, cfg=None, tracker=botsort.yaml, save_dir=runs/detect/train19\n",
      "Overriding model.yaml nc=80 with nc=16\n",
      "\n",
      "                   from  n    params  module                                       arguments                     \n",
      "  0                  -1  1       464  ultralytics.nn.modules.conv.Conv             [3, 16, 3, 2]                 \n",
      "  1                  -1  1      4672  ultralytics.nn.modules.conv.Conv             [16, 32, 3, 2]                \n",
      "  2                  -1  1      6640  ultralytics.nn.modules.block.C3k2            [32, 64, 1, False, 0.25]      \n",
      "  3                  -1  1     36992  ultralytics.nn.modules.conv.Conv             [64, 64, 3, 2]                \n",
      "  4                  -1  1     26080  ultralytics.nn.modules.block.C3k2            [64, 128, 1, False, 0.25]     \n",
      "  5                  -1  1    147712  ultralytics.nn.modules.conv.Conv             [128, 128, 3, 2]              \n",
      "  6                  -1  1     87040  ultralytics.nn.modules.block.C3k2            [128, 128, 1, True]           \n",
      "  7                  -1  1    295424  ultralytics.nn.modules.conv.Conv             [128, 256, 3, 2]              \n",
      "  8                  -1  1    346112  ultralytics.nn.modules.block.C3k2            [256, 256, 1, True]           \n",
      "  9                  -1  1    164608  ultralytics.nn.modules.block.SPPF            [256, 256, 5]                 \n",
      " 10                  -1  1    249728  ultralytics.nn.modules.block.C2PSA           [256, 256, 1]                 \n",
      " 11                  -1  1         0  torch.nn.modules.upsampling.Upsample         [None, 2, 'nearest']          \n",
      " 12             [-1, 6]  1         0  ultralytics.nn.modules.conv.Concat           [1]                           \n",
      " 13                  -1  1    111296  ultralytics.nn.modules.block.C3k2            [384, 128, 1, False]          \n",
      " 14                  -1  1         0  torch.nn.modules.upsampling.Upsample         [None, 2, 'nearest']          \n",
      " 15             [-1, 4]  1         0  ultralytics.nn.modules.conv.Concat           [1]                           \n",
      " 16                  -1  1     32096  ultralytics.nn.modules.block.C3k2            [256, 64, 1, False]           \n",
      " 17                  -1  1     36992  ultralytics.nn.modules.conv.Conv             [64, 64, 3, 2]                \n",
      " 18            [-1, 13]  1         0  ultralytics.nn.modules.conv.Concat           [1]                           \n",
      " 19                  -1  1     86720  ultralytics.nn.modules.block.C3k2            [192, 128, 1, False]          \n",
      " 20                  -1  1    147712  ultralytics.nn.modules.conv.Conv             [128, 128, 3, 2]              \n",
      " 21            [-1, 10]  1         0  ultralytics.nn.modules.conv.Concat           [1]                           \n",
      " 22                  -1  1    378880  ultralytics.nn.modules.block.C3k2            [384, 256, 1, True]           \n",
      " 23        [16, 19, 22]  1    433792  ultralytics.nn.modules.head.Detect           [16, [64, 128, 256]]          \n",
      "YOLO11n summary: 319 layers, 2,592,960 parameters, 2,592,944 gradients, 6.5 GFLOPs\n",
      "\n",
      "Transferred 448/499 items from pretrained weights\n",
      "\u001b[34m\u001b[1mTensorBoard: \u001b[0mStart with 'tensorboard --logdir runs/detect/train19', view at http://localhost:6006/\n",
      "Freezing layer 'model.23.dfl.conv.weight'\n",
      "\u001b[34m\u001b[1mAMP: \u001b[0mrunning Automatic Mixed Precision (AMP) checks...\n",
      "\u001b[34m\u001b[1mAMP: \u001b[0mchecks passed ✅\n"
     ]
    },
    {
     "name": "stderr",
     "output_type": "stream",
     "text": [
      "\u001b[34m\u001b[1mtrain: \u001b[0mScanning /mmfs1/scratch/dsu.local/bshakya/scratch/bshakya/yolov10/datasets/DOTAv1.5/labels/train.cache... 1411 images, 1 backgrounds, 2 corrupt: 100%|██████████| 1411/1411 [00:00<?, ?it/s]"
     ]
    },
    {
     "name": "stdout",
     "output_type": "stream",
     "text": [
      "\u001b[34m\u001b[1mtrain: \u001b[0mWARNING ⚠️ /mmfs1/scratch/dsu.local/bshakya/scratch/bshakya/yolov10/datasets/DOTAv1.5/images/train/P0334.jpg: ignoring corrupt image/label: non-normalized or out of bounds coordinates [     1.0565      1.0583]\n",
      "\u001b[34m\u001b[1mtrain: \u001b[0mWARNING ⚠️ /mmfs1/scratch/dsu.local/bshakya/scratch/bshakya/yolov10/datasets/DOTAv1.5/images/train/P1872.jpg: ignoring corrupt image/label: non-normalized or out of bounds coordinates [     2.2618      2.2437      2.1674      2.0553      2.0337      2.0154      1.9993       1.998      1.9395      1.8671      1.8864      1.9115      1.9278      2.0144      1.8735      1.8426       1.822      1.8034      1.7907      1.7744      1.7483       1.723      1.6903      1.8182      1.6506      1.6087\n",
      "      2.2772      2.2118      1.6596       2.178       2.667      2.7528      2.7749      2.4934      2.4721      2.5177      2.5772        2.64       2.818      2.8019      2.8344      2.8832      2.8976      2.8004       2.751      2.6603      2.6152      2.5574      2.4091      2.3637      2.2918      2.3171\n",
      "      2.2527       2.097      2.1098      1.6534        1.61      1.5594      1.0347        1.51      1.5529      1.4456      1.4922      1.3925       1.364      1.3362      1.2735       1.213      1.1513      1.2916      1.1644      1.1396      1.3352      1.4364      1.2961      1.1785      1.1532      1.2294\n",
      "      1.2884      1.3137       1.033      1.0843      1.0808      1.0927]\n"
     ]
    },
    {
     "name": "stderr",
     "output_type": "stream",
     "text": [
      "\n",
      "\u001b[34m\u001b[1mval: \u001b[0mScanning /mmfs1/scratch/dsu.local/bshakya/scratch/bshakya/yolov10/datasets/DOTAv1.5/labels/val.cache... 458 images, 0 backgrounds, 0 corrupt: 100%|██████████| 458/458 [00:00<?, ?it/s]\n"
     ]
    },
    {
     "name": "stdout",
     "output_type": "stream",
     "text": [
      "Plotting labels to runs/detect/train19/labels.jpg... \n",
      "\u001b[34m\u001b[1moptimizer:\u001b[0m 'optimizer=auto' found, ignoring 'lr0=0.01' and 'momentum=0.937' and determining best 'optimizer', 'lr0' and 'momentum' automatically... \n",
      "\u001b[34m\u001b[1moptimizer:\u001b[0m AdamW(lr=0.0005, momentum=0.9) with parameter groups 81 weight(decay=0.0), 88 weight(decay=0.0005), 87 bias(decay=0.0)\n",
      "\u001b[34m\u001b[1mTensorBoard: \u001b[0mmodel graph visualization added ✅\n",
      "Image sizes 640 train, 640 val\n",
      "Using 8 dataloader workers\n",
      "Logging results to \u001b[1mruns/detect/train19\u001b[0m\n",
      "Starting training for 50 epochs...\n",
      "\n",
      "      Epoch    GPU_mem   box_loss   cls_loss   dfl_loss  Instances       Size\n"
     ]
    },
    {
     "name": "stderr",
     "output_type": "stream",
     "text": [
      "       1/50      21.9G      2.308      4.396      1.229         41        640: 100%|██████████| 89/89 [00:22<00:00,  3.93it/s]\n",
      "                 Class     Images  Instances      Box(P          R      mAP50  mAP50-95): 100%|██████████| 15/15 [00:04<00:00,  3.27it/s]"
     ]
    },
    {
     "name": "stdout",
     "output_type": "stream",
     "text": [
      "                   all        458      69565      0.714     0.0393     0.0725     0.0445\n"
     ]
    },
    {
     "name": "stderr",
     "output_type": "stream",
     "text": [
      "\n"
     ]
    },
    {
     "name": "stdout",
     "output_type": "stream",
     "text": [
      "\n",
      "      Epoch    GPU_mem   box_loss   cls_loss   dfl_loss  Instances       Size\n"
     ]
    },
    {
     "name": "stderr",
     "output_type": "stream",
     "text": [
      "       2/50      18.2G      2.313      2.981      1.086        173        640: 100%|██████████| 89/89 [00:20<00:00,  4.29it/s]\n",
      "                 Class     Images  Instances      Box(P          R      mAP50  mAP50-95): 100%|██████████| 15/15 [00:03<00:00,  3.98it/s]"
     ]
    },
    {
     "name": "stdout",
     "output_type": "stream",
     "text": [
      "                   all        458      69565      0.641      0.148      0.137     0.0767\n"
     ]
    },
    {
     "name": "stderr",
     "output_type": "stream",
     "text": [
      "\n"
     ]
    },
    {
     "name": "stdout",
     "output_type": "stream",
     "text": [
      "\n",
      "      Epoch    GPU_mem   box_loss   cls_loss   dfl_loss  Instances       Size\n"
     ]
    },
    {
     "name": "stderr",
     "output_type": "stream",
     "text": [
      "       3/50      25.9G      2.188      2.122      1.071         58        640: 100%|██████████| 89/89 [00:20<00:00,  4.30it/s]\n",
      "                 Class     Images  Instances      Box(P          R      mAP50  mAP50-95): 100%|██████████| 15/15 [00:04<00:00,  3.26it/s]"
     ]
    },
    {
     "name": "stdout",
     "output_type": "stream",
     "text": [
      "                   all        458      69565      0.685      0.166      0.163       0.09\n"
     ]
    },
    {
     "name": "stderr",
     "output_type": "stream",
     "text": [
      "\n"
     ]
    },
    {
     "name": "stdout",
     "output_type": "stream",
     "text": [
      "\n",
      "      Epoch    GPU_mem   box_loss   cls_loss   dfl_loss  Instances       Size\n"
     ]
    },
    {
     "name": "stderr",
     "output_type": "stream",
     "text": [
      "       4/50      18.5G      2.105      1.793      1.039          9        640: 100%|██████████| 89/89 [00:20<00:00,  4.45it/s]\n",
      "                 Class     Images  Instances      Box(P          R      mAP50  mAP50-95): 100%|██████████| 15/15 [00:04<00:00,  3.68it/s]"
     ]
    },
    {
     "name": "stdout",
     "output_type": "stream",
     "text": [
      "                   all        458      69565      0.678      0.185      0.183      0.104\n"
     ]
    },
    {
     "name": "stderr",
     "output_type": "stream",
     "text": [
      "\n"
     ]
    },
    {
     "name": "stdout",
     "output_type": "stream",
     "text": [
      "\n",
      "      Epoch    GPU_mem   box_loss   cls_loss   dfl_loss  Instances       Size\n"
     ]
    },
    {
     "name": "stderr",
     "output_type": "stream",
     "text": [
      "       5/50      15.7G      2.003      1.625      1.035         61        640: 100%|██████████| 89/89 [00:21<00:00,  4.07it/s]\n",
      "                 Class     Images  Instances      Box(P          R      mAP50  mAP50-95): 100%|██████████| 15/15 [00:04<00:00,  3.65it/s]"
     ]
    },
    {
     "name": "stdout",
     "output_type": "stream",
     "text": [
      "                   all        458      69565      0.556      0.199        0.2      0.113\n"
     ]
    },
    {
     "name": "stderr",
     "output_type": "stream",
     "text": [
      "\n"
     ]
    },
    {
     "name": "stdout",
     "output_type": "stream",
     "text": [
      "\n",
      "      Epoch    GPU_mem   box_loss   cls_loss   dfl_loss  Instances       Size\n"
     ]
    },
    {
     "name": "stderr",
     "output_type": "stream",
     "text": [
      "       6/50      21.8G      1.998      1.563      1.025         93        640: 100%|██████████| 89/89 [00:22<00:00,  4.04it/s]\n",
      "                 Class     Images  Instances      Box(P          R      mAP50  mAP50-95): 100%|██████████| 15/15 [00:04<00:00,  3.73it/s]"
     ]
    },
    {
     "name": "stdout",
     "output_type": "stream",
     "text": [
      "                   all        458      69565      0.539      0.224      0.219      0.124\n"
     ]
    },
    {
     "name": "stderr",
     "output_type": "stream",
     "text": [
      "\n"
     ]
    },
    {
     "name": "stdout",
     "output_type": "stream",
     "text": [
      "\n",
      "      Epoch    GPU_mem   box_loss   cls_loss   dfl_loss  Instances       Size\n"
     ]
    },
    {
     "name": "stderr",
     "output_type": "stream",
     "text": [
      "       7/50        18G      1.881       1.46      1.009         91        640: 100%|██████████| 89/89 [00:19<00:00,  4.50it/s]\n",
      "                 Class     Images  Instances      Box(P          R      mAP50  mAP50-95): 100%|██████████| 15/15 [00:04<00:00,  3.70it/s]"
     ]
    },
    {
     "name": "stdout",
     "output_type": "stream",
     "text": [
      "                   all        458      69565      0.627      0.215      0.227      0.131\n"
     ]
    },
    {
     "name": "stderr",
     "output_type": "stream",
     "text": [
      "\n"
     ]
    },
    {
     "name": "stdout",
     "output_type": "stream",
     "text": [
      "\n",
      "      Epoch    GPU_mem   box_loss   cls_loss   dfl_loss  Instances       Size\n"
     ]
    },
    {
     "name": "stderr",
     "output_type": "stream",
     "text": [
      "       8/50      15.2G      1.861      1.431      1.008          7        640: 100%|██████████| 89/89 [00:17<00:00,  5.00it/s]\n",
      "                 Class     Images  Instances      Box(P          R      mAP50  mAP50-95): 100%|██████████| 15/15 [00:03<00:00,  3.95it/s]"
     ]
    },
    {
     "name": "stdout",
     "output_type": "stream",
     "text": [
      "                   all        458      69565      0.644      0.218      0.238      0.139\n"
     ]
    },
    {
     "name": "stderr",
     "output_type": "stream",
     "text": [
      "\n"
     ]
    },
    {
     "name": "stdout",
     "output_type": "stream",
     "text": [
      "\n",
      "      Epoch    GPU_mem   box_loss   cls_loss   dfl_loss  Instances       Size\n"
     ]
    },
    {
     "name": "stderr",
     "output_type": "stream",
     "text": [
      "       9/50      12.2G      1.846      1.382     0.9926         86        640: 100%|██████████| 89/89 [00:22<00:00,  4.01it/s]\n",
      "                 Class     Images  Instances      Box(P          R      mAP50  mAP50-95): 100%|██████████| 15/15 [00:03<00:00,  3.79it/s]"
     ]
    },
    {
     "name": "stdout",
     "output_type": "stream",
     "text": [
      "                   all        458      69565      0.669       0.23       0.25      0.147\n"
     ]
    },
    {
     "name": "stderr",
     "output_type": "stream",
     "text": [
      "\n"
     ]
    },
    {
     "name": "stdout",
     "output_type": "stream",
     "text": [
      "\n",
      "      Epoch    GPU_mem   box_loss   cls_loss   dfl_loss  Instances       Size\n"
     ]
    },
    {
     "name": "stderr",
     "output_type": "stream",
     "text": [
      "      10/50      23.9G      1.801      1.321     0.9894        117        640: 100%|██████████| 89/89 [00:17<00:00,  5.05it/s]\n",
      "                 Class     Images  Instances      Box(P          R      mAP50  mAP50-95): 100%|██████████| 15/15 [00:03<00:00,  3.84it/s]"
     ]
    },
    {
     "name": "stdout",
     "output_type": "stream",
     "text": [
      "                   all        458      69565      0.617      0.234      0.255      0.151\n"
     ]
    },
    {
     "name": "stderr",
     "output_type": "stream",
     "text": [
      "\n"
     ]
    },
    {
     "name": "stdout",
     "output_type": "stream",
     "text": [
      "\n",
      "      Epoch    GPU_mem   box_loss   cls_loss   dfl_loss  Instances       Size\n"
     ]
    },
    {
     "name": "stderr",
     "output_type": "stream",
     "text": [
      "      11/50      20.3G      1.821      1.319      0.984        267        640: 100%|██████████| 89/89 [00:23<00:00,  3.76it/s]\n",
      "                 Class     Images  Instances      Box(P          R      mAP50  mAP50-95): 100%|██████████| 15/15 [00:03<00:00,  3.88it/s]"
     ]
    },
    {
     "name": "stdout",
     "output_type": "stream",
     "text": [
      "                   all        458      69565       0.64      0.256      0.269      0.158\n"
     ]
    },
    {
     "name": "stderr",
     "output_type": "stream",
     "text": [
      "\n"
     ]
    },
    {
     "name": "stdout",
     "output_type": "stream",
     "text": [
      "\n",
      "      Epoch    GPU_mem   box_loss   cls_loss   dfl_loss  Instances       Size\n"
     ]
    },
    {
     "name": "stderr",
     "output_type": "stream",
     "text": [
      "      12/50      19.5G      1.768      1.271     0.9786        602        640: 100%|██████████| 89/89 [00:18<00:00,  4.86it/s]\n",
      "                 Class     Images  Instances      Box(P          R      mAP50  mAP50-95): 100%|██████████| 15/15 [00:03<00:00,  3.87it/s]"
     ]
    },
    {
     "name": "stdout",
     "output_type": "stream",
     "text": [
      "                   all        458      69565      0.612       0.25      0.258       0.15\n"
     ]
    },
    {
     "name": "stderr",
     "output_type": "stream",
     "text": [
      "\n"
     ]
    },
    {
     "name": "stdout",
     "output_type": "stream",
     "text": [
      "\n",
      "      Epoch    GPU_mem   box_loss   cls_loss   dfl_loss  Instances       Size\n"
     ]
    },
    {
     "name": "stderr",
     "output_type": "stream",
     "text": [
      "      13/50      18.7G      1.781       1.26      0.973         28        640: 100%|██████████| 89/89 [00:18<00:00,  4.91it/s]\n",
      "                 Class     Images  Instances      Box(P          R      mAP50  mAP50-95): 100%|██████████| 15/15 [00:03<00:00,  3.93it/s]"
     ]
    },
    {
     "name": "stdout",
     "output_type": "stream",
     "text": [
      "                   all        458      69565      0.606      0.261      0.276      0.161\n"
     ]
    },
    {
     "name": "stderr",
     "output_type": "stream",
     "text": [
      "\n"
     ]
    },
    {
     "name": "stdout",
     "output_type": "stream",
     "text": [
      "\n",
      "      Epoch    GPU_mem   box_loss   cls_loss   dfl_loss  Instances       Size\n"
     ]
    },
    {
     "name": "stderr",
     "output_type": "stream",
     "text": [
      "      14/50      23.7G      1.734      1.214     0.9732         51        640: 100%|██████████| 89/89 [00:18<00:00,  4.73it/s]\n",
      "                 Class     Images  Instances      Box(P          R      mAP50  mAP50-95): 100%|██████████| 15/15 [00:03<00:00,  4.03it/s]"
     ]
    },
    {
     "name": "stdout",
     "output_type": "stream",
     "text": [
      "                   all        458      69565      0.602      0.262      0.279      0.165\n"
     ]
    },
    {
     "name": "stderr",
     "output_type": "stream",
     "text": [
      "\n"
     ]
    },
    {
     "name": "stdout",
     "output_type": "stream",
     "text": [
      "\n",
      "      Epoch    GPU_mem   box_loss   cls_loss   dfl_loss  Instances       Size\n"
     ]
    },
    {
     "name": "stderr",
     "output_type": "stream",
     "text": [
      "      15/50      22.2G      1.783      1.243     0.9694        136        640: 100%|██████████| 89/89 [00:20<00:00,  4.31it/s]\n",
      "                 Class     Images  Instances      Box(P          R      mAP50  mAP50-95): 100%|██████████| 15/15 [00:03<00:00,  4.03it/s]"
     ]
    },
    {
     "name": "stdout",
     "output_type": "stream",
     "text": [
      "                   all        458      69565      0.658      0.256      0.277      0.162\n"
     ]
    },
    {
     "name": "stderr",
     "output_type": "stream",
     "text": [
      "\n"
     ]
    },
    {
     "name": "stdout",
     "output_type": "stream",
     "text": [
      "\n",
      "      Epoch    GPU_mem   box_loss   cls_loss   dfl_loss  Instances       Size\n"
     ]
    },
    {
     "name": "stderr",
     "output_type": "stream",
     "text": [
      "      16/50      22.9G      1.723      1.206     0.9721         37        640: 100%|██████████| 89/89 [00:17<00:00,  5.20it/s]\n",
      "                 Class     Images  Instances      Box(P          R      mAP50  mAP50-95): 100%|██████████| 15/15 [00:03<00:00,  3.96it/s]"
     ]
    },
    {
     "name": "stdout",
     "output_type": "stream",
     "text": [
      "                   all        458      69565      0.641       0.27       0.29      0.173\n"
     ]
    },
    {
     "name": "stderr",
     "output_type": "stream",
     "text": [
      "\n"
     ]
    },
    {
     "name": "stdout",
     "output_type": "stream",
     "text": [
      "\n",
      "      Epoch    GPU_mem   box_loss   cls_loss   dfl_loss  Instances       Size\n"
     ]
    },
    {
     "name": "stderr",
     "output_type": "stream",
     "text": [
      "      17/50      17.7G      1.701      1.177     0.9633        169        640: 100%|██████████| 89/89 [00:17<00:00,  5.11it/s]\n",
      "                 Class     Images  Instances      Box(P          R      mAP50  mAP50-95): 100%|██████████| 15/15 [00:03<00:00,  3.94it/s]"
     ]
    },
    {
     "name": "stdout",
     "output_type": "stream",
     "text": [
      "                   all        458      69565      0.658      0.262      0.289      0.171\n"
     ]
    },
    {
     "name": "stderr",
     "output_type": "stream",
     "text": [
      "\n"
     ]
    },
    {
     "name": "stdout",
     "output_type": "stream",
     "text": [
      "\n",
      "      Epoch    GPU_mem   box_loss   cls_loss   dfl_loss  Instances       Size\n"
     ]
    },
    {
     "name": "stderr",
     "output_type": "stream",
     "text": [
      "      18/50        20G      1.656      1.486     0.9516         51        640: 100%|██████████| 89/89 [00:21<00:00,  4.15it/s]\n",
      "                 Class     Images  Instances      Box(P          R      mAP50  mAP50-95): 100%|██████████| 15/15 [00:03<00:00,  4.06it/s]"
     ]
    },
    {
     "name": "stdout",
     "output_type": "stream",
     "text": [
      "                   all        458      69565      0.627      0.266      0.289       0.17\n"
     ]
    },
    {
     "name": "stderr",
     "output_type": "stream",
     "text": [
      "\n"
     ]
    },
    {
     "name": "stdout",
     "output_type": "stream",
     "text": [
      "\n",
      "      Epoch    GPU_mem   box_loss   cls_loss   dfl_loss  Instances       Size\n"
     ]
    },
    {
     "name": "stderr",
     "output_type": "stream",
     "text": [
      "      19/50      19.6G      1.682      1.159     0.9577         31        640: 100%|██████████| 89/89 [00:15<00:00,  5.57it/s]\n",
      "                 Class     Images  Instances      Box(P          R      mAP50  mAP50-95): 100%|██████████| 15/15 [00:03<00:00,  4.03it/s]"
     ]
    },
    {
     "name": "stdout",
     "output_type": "stream",
     "text": [
      "                   all        458      69565      0.595      0.277      0.302       0.18\n"
     ]
    },
    {
     "name": "stderr",
     "output_type": "stream",
     "text": [
      "\n"
     ]
    },
    {
     "name": "stdout",
     "output_type": "stream",
     "text": [
      "\n",
      "      Epoch    GPU_mem   box_loss   cls_loss   dfl_loss  Instances       Size\n"
     ]
    },
    {
     "name": "stderr",
     "output_type": "stream",
     "text": [
      "      20/50      21.2G      1.691      1.165     0.9603         19        640: 100%|██████████| 89/89 [00:18<00:00,  4.80it/s]\n",
      "                 Class     Images  Instances      Box(P          R      mAP50  mAP50-95): 100%|██████████| 15/15 [00:03<00:00,  4.06it/s]"
     ]
    },
    {
     "name": "stdout",
     "output_type": "stream",
     "text": [
      "                   all        458      69565       0.62      0.272      0.291      0.171\n"
     ]
    },
    {
     "name": "stderr",
     "output_type": "stream",
     "text": [
      "\n"
     ]
    },
    {
     "name": "stdout",
     "output_type": "stream",
     "text": [
      "\n",
      "      Epoch    GPU_mem   box_loss   cls_loss   dfl_loss  Instances       Size\n"
     ]
    },
    {
     "name": "stderr",
     "output_type": "stream",
     "text": [
      "      21/50      19.9G      1.657      1.125     0.9571        175        640: 100%|██████████| 89/89 [00:18<00:00,  4.73it/s]\n",
      "                 Class     Images  Instances      Box(P          R      mAP50  mAP50-95): 100%|██████████| 15/15 [00:03<00:00,  4.03it/s]"
     ]
    },
    {
     "name": "stdout",
     "output_type": "stream",
     "text": [
      "                   all        458      69565      0.676      0.273      0.302      0.181\n"
     ]
    },
    {
     "name": "stderr",
     "output_type": "stream",
     "text": [
      "\n"
     ]
    },
    {
     "name": "stdout",
     "output_type": "stream",
     "text": [
      "\n",
      "      Epoch    GPU_mem   box_loss   cls_loss   dfl_loss  Instances       Size\n"
     ]
    },
    {
     "name": "stderr",
     "output_type": "stream",
     "text": [
      "      22/50        11G      1.681      1.123     0.9561       1226        640: 100%|██████████| 89/89 [00:21<00:00,  4.10it/s]\n",
      "                 Class     Images  Instances      Box(P          R      mAP50  mAP50-95): 100%|██████████| 15/15 [00:03<00:00,  3.99it/s]"
     ]
    },
    {
     "name": "stdout",
     "output_type": "stream",
     "text": [
      "                   all        458      69565      0.637      0.274      0.313      0.189\n"
     ]
    },
    {
     "name": "stderr",
     "output_type": "stream",
     "text": [
      "\n"
     ]
    },
    {
     "name": "stdout",
     "output_type": "stream",
     "text": [
      "\n",
      "      Epoch    GPU_mem   box_loss   cls_loss   dfl_loss  Instances       Size\n"
     ]
    },
    {
     "name": "stderr",
     "output_type": "stream",
     "text": [
      "      23/50      17.8G      1.655      1.108     0.9535        237        640: 100%|██████████| 89/89 [00:19<00:00,  4.46it/s]\n",
      "                 Class     Images  Instances      Box(P          R      mAP50  mAP50-95): 100%|██████████| 15/15 [00:03<00:00,  4.19it/s]"
     ]
    },
    {
     "name": "stdout",
     "output_type": "stream",
     "text": [
      "                   all        458      69565      0.676      0.286      0.315      0.189\n"
     ]
    },
    {
     "name": "stderr",
     "output_type": "stream",
     "text": [
      "\n"
     ]
    },
    {
     "name": "stdout",
     "output_type": "stream",
     "text": [
      "\n",
      "      Epoch    GPU_mem   box_loss   cls_loss   dfl_loss  Instances       Size\n"
     ]
    },
    {
     "name": "stderr",
     "output_type": "stream",
     "text": [
      "      24/50      33.5G        1.7      1.141     0.9503        222        640: 100%|██████████| 89/89 [00:17<00:00,  5.17it/s]\n",
      "                 Class     Images  Instances      Box(P          R      mAP50  mAP50-95): 100%|██████████| 15/15 [00:04<00:00,  3.28it/s]"
     ]
    },
    {
     "name": "stdout",
     "output_type": "stream",
     "text": [
      "                   all        458      69565      0.644      0.287      0.311      0.185\n"
     ]
    },
    {
     "name": "stderr",
     "output_type": "stream",
     "text": [
      "\n"
     ]
    },
    {
     "name": "stdout",
     "output_type": "stream",
     "text": [
      "\n",
      "      Epoch    GPU_mem   box_loss   cls_loss   dfl_loss  Instances       Size\n"
     ]
    },
    {
     "name": "stderr",
     "output_type": "stream",
     "text": [
      "      25/50      17.7G      1.639      1.087     0.9494        129        640: 100%|██████████| 89/89 [00:22<00:00,  3.89it/s]\n",
      "                 Class     Images  Instances      Box(P          R      mAP50  mAP50-95): 100%|██████████| 15/15 [00:03<00:00,  3.99it/s]"
     ]
    },
    {
     "name": "stdout",
     "output_type": "stream",
     "text": [
      "                   all        458      69565      0.608       0.29      0.315      0.189\n"
     ]
    },
    {
     "name": "stderr",
     "output_type": "stream",
     "text": [
      "\n"
     ]
    },
    {
     "name": "stdout",
     "output_type": "stream",
     "text": [
      "\n",
      "      Epoch    GPU_mem   box_loss   cls_loss   dfl_loss  Instances       Size\n"
     ]
    },
    {
     "name": "stderr",
     "output_type": "stream",
     "text": [
      "      26/50      14.9G      1.639       1.09     0.9493         50        640: 100%|██████████| 89/89 [00:19<00:00,  4.58it/s]\n",
      "                 Class     Images  Instances      Box(P          R      mAP50  mAP50-95): 100%|██████████| 15/15 [00:03<00:00,  4.06it/s]"
     ]
    },
    {
     "name": "stdout",
     "output_type": "stream",
     "text": [
      "                   all        458      69565      0.635      0.284       0.31      0.187\n"
     ]
    },
    {
     "name": "stderr",
     "output_type": "stream",
     "text": [
      "\n"
     ]
    },
    {
     "name": "stdout",
     "output_type": "stream",
     "text": [
      "\n",
      "      Epoch    GPU_mem   box_loss   cls_loss   dfl_loss  Instances       Size\n"
     ]
    },
    {
     "name": "stderr",
     "output_type": "stream",
     "text": [
      "      27/50      15.3G      1.656      1.078     0.9459         22        640: 100%|██████████| 89/89 [00:19<00:00,  4.51it/s]\n",
      "                 Class     Images  Instances      Box(P          R      mAP50  mAP50-95): 100%|██████████| 15/15 [00:03<00:00,  4.06it/s]"
     ]
    },
    {
     "name": "stdout",
     "output_type": "stream",
     "text": [
      "                   all        458      69565      0.656      0.287      0.317      0.191\n"
     ]
    },
    {
     "name": "stderr",
     "output_type": "stream",
     "text": [
      "\n"
     ]
    },
    {
     "name": "stdout",
     "output_type": "stream",
     "text": [
      "\n",
      "      Epoch    GPU_mem   box_loss   cls_loss   dfl_loss  Instances       Size\n"
     ]
    },
    {
     "name": "stderr",
     "output_type": "stream",
     "text": [
      "      28/50      22.2G      1.604      1.057     0.9456        285        640: 100%|██████████| 89/89 [00:17<00:00,  4.97it/s]\n",
      "                 Class     Images  Instances      Box(P          R      mAP50  mAP50-95): 100%|██████████| 15/15 [00:04<00:00,  3.46it/s]"
     ]
    },
    {
     "name": "stdout",
     "output_type": "stream",
     "text": [
      "                   all        458      69565      0.638      0.292      0.317      0.192\n"
     ]
    },
    {
     "name": "stderr",
     "output_type": "stream",
     "text": [
      "\n"
     ]
    },
    {
     "name": "stdout",
     "output_type": "stream",
     "text": [
      "\n",
      "      Epoch    GPU_mem   box_loss   cls_loss   dfl_loss  Instances       Size\n"
     ]
    },
    {
     "name": "stderr",
     "output_type": "stream",
     "text": [
      "      29/50        15G      1.642      1.056     0.9429        150        640: 100%|██████████| 89/89 [00:22<00:00,  3.99it/s]\n",
      "                 Class     Images  Instances      Box(P          R      mAP50  mAP50-95): 100%|██████████| 15/15 [00:03<00:00,  4.14it/s]"
     ]
    },
    {
     "name": "stdout",
     "output_type": "stream",
     "text": [
      "                   all        458      69565       0.63      0.292      0.319      0.195\n"
     ]
    },
    {
     "name": "stderr",
     "output_type": "stream",
     "text": [
      "\n"
     ]
    },
    {
     "name": "stdout",
     "output_type": "stream",
     "text": [
      "\n",
      "      Epoch    GPU_mem   box_loss   cls_loss   dfl_loss  Instances       Size\n"
     ]
    },
    {
     "name": "stderr",
     "output_type": "stream",
     "text": [
      "      30/50      19.4G      1.584      1.049     0.9396         24        640: 100%|██████████| 89/89 [00:22<00:00,  3.90it/s]\n",
      "                 Class     Images  Instances      Box(P          R      mAP50  mAP50-95): 100%|██████████| 15/15 [00:03<00:00,  4.13it/s]"
     ]
    },
    {
     "name": "stdout",
     "output_type": "stream",
     "text": [
      "                   all        458      69565      0.655      0.292       0.32      0.194\n"
     ]
    },
    {
     "name": "stderr",
     "output_type": "stream",
     "text": [
      "\n"
     ]
    },
    {
     "name": "stdout",
     "output_type": "stream",
     "text": [
      "\n",
      "      Epoch    GPU_mem   box_loss   cls_loss   dfl_loss  Instances       Size\n"
     ]
    },
    {
     "name": "stderr",
     "output_type": "stream",
     "text": [
      "      31/50      23.4G      1.611       1.05     0.9382         72        640: 100%|██████████| 89/89 [00:18<00:00,  4.81it/s]\n",
      "                 Class     Images  Instances      Box(P          R      mAP50  mAP50-95): 100%|██████████| 15/15 [00:03<00:00,  4.10it/s]"
     ]
    },
    {
     "name": "stdout",
     "output_type": "stream",
     "text": [
      "                   all        458      69565      0.636      0.298      0.325      0.198\n"
     ]
    },
    {
     "name": "stderr",
     "output_type": "stream",
     "text": [
      "\n"
     ]
    },
    {
     "name": "stdout",
     "output_type": "stream",
     "text": [
      "\n",
      "      Epoch    GPU_mem   box_loss   cls_loss   dfl_loss  Instances       Size\n"
     ]
    },
    {
     "name": "stderr",
     "output_type": "stream",
     "text": [
      "      32/50      20.1G      1.575      1.014     0.9351         83        640: 100%|██████████| 89/89 [00:17<00:00,  5.00it/s]\n",
      "                 Class     Images  Instances      Box(P          R      mAP50  mAP50-95): 100%|██████████| 15/15 [00:03<00:00,  4.12it/s]"
     ]
    },
    {
     "name": "stdout",
     "output_type": "stream",
     "text": [
      "                   all        458      69565      0.625      0.294      0.322      0.195\n"
     ]
    },
    {
     "name": "stderr",
     "output_type": "stream",
     "text": [
      "\n"
     ]
    },
    {
     "name": "stdout",
     "output_type": "stream",
     "text": [
      "\n",
      "      Epoch    GPU_mem   box_loss   cls_loss   dfl_loss  Instances       Size\n"
     ]
    },
    {
     "name": "stderr",
     "output_type": "stream",
     "text": [
      "      33/50      21.2G      1.604      1.029     0.9378        213        640: 100%|██████████| 89/89 [00:17<00:00,  4.97it/s]\n",
      "                 Class     Images  Instances      Box(P          R      mAP50  mAP50-95): 100%|██████████| 15/15 [00:03<00:00,  4.10it/s]"
     ]
    },
    {
     "name": "stdout",
     "output_type": "stream",
     "text": [
      "                   all        458      69565      0.621      0.297       0.32      0.193\n"
     ]
    },
    {
     "name": "stderr",
     "output_type": "stream",
     "text": [
      "\n"
     ]
    },
    {
     "name": "stdout",
     "output_type": "stream",
     "text": [
      "\n",
      "      Epoch    GPU_mem   box_loss   cls_loss   dfl_loss  Instances       Size\n"
     ]
    },
    {
     "name": "stderr",
     "output_type": "stream",
     "text": [
      "      34/50      24.6G      1.601      1.019     0.9377         14        640: 100%|██████████| 89/89 [00:23<00:00,  3.83it/s]\n",
      "                 Class     Images  Instances      Box(P          R      mAP50  mAP50-95): 100%|██████████| 15/15 [00:03<00:00,  4.09it/s]"
     ]
    },
    {
     "name": "stdout",
     "output_type": "stream",
     "text": [
      "                   all        458      69565      0.642      0.296      0.321      0.196\n"
     ]
    },
    {
     "name": "stderr",
     "output_type": "stream",
     "text": [
      "\n"
     ]
    },
    {
     "name": "stdout",
     "output_type": "stream",
     "text": [
      "\n",
      "      Epoch    GPU_mem   box_loss   cls_loss   dfl_loss  Instances       Size\n"
     ]
    },
    {
     "name": "stderr",
     "output_type": "stream",
     "text": [
      "      35/50      26.4G      1.627      1.039      0.933        179        640: 100%|██████████| 89/89 [00:19<00:00,  4.65it/s]\n",
      "                 Class     Images  Instances      Box(P          R      mAP50  mAP50-95): 100%|██████████| 15/15 [00:04<00:00,  3.49it/s]"
     ]
    },
    {
     "name": "stdout",
     "output_type": "stream",
     "text": [
      "                   all        458      69565      0.631      0.303      0.329        0.2\n"
     ]
    },
    {
     "name": "stderr",
     "output_type": "stream",
     "text": [
      "\n"
     ]
    },
    {
     "name": "stdout",
     "output_type": "stream",
     "text": [
      "\n",
      "      Epoch    GPU_mem   box_loss   cls_loss   dfl_loss  Instances       Size\n"
     ]
    },
    {
     "name": "stderr",
     "output_type": "stream",
     "text": [
      "      36/50      25.8G      1.575      1.011     0.9333         69        640: 100%|██████████| 89/89 [00:17<00:00,  5.13it/s]\n",
      "                 Class     Images  Instances      Box(P          R      mAP50  mAP50-95): 100%|██████████| 15/15 [00:04<00:00,  3.46it/s]"
     ]
    },
    {
     "name": "stdout",
     "output_type": "stream",
     "text": [
      "                   all        458      69565      0.645        0.3      0.331      0.202\n"
     ]
    },
    {
     "name": "stderr",
     "output_type": "stream",
     "text": [
      "\n"
     ]
    },
    {
     "name": "stdout",
     "output_type": "stream",
     "text": [
      "\n",
      "      Epoch    GPU_mem   box_loss   cls_loss   dfl_loss  Instances       Size\n"
     ]
    },
    {
     "name": "stderr",
     "output_type": "stream",
     "text": [
      "      37/50      20.4G      1.566     0.9921     0.9301         71        640: 100%|██████████| 89/89 [00:18<00:00,  4.93it/s]\n",
      "                 Class     Images  Instances      Box(P          R      mAP50  mAP50-95): 100%|██████████| 15/15 [00:03<00:00,  4.13it/s]"
     ]
    },
    {
     "name": "stdout",
     "output_type": "stream",
     "text": [
      "                   all        458      69565      0.656      0.308      0.338      0.208\n"
     ]
    },
    {
     "name": "stderr",
     "output_type": "stream",
     "text": [
      "\n"
     ]
    },
    {
     "name": "stdout",
     "output_type": "stream",
     "text": [
      "\n",
      "      Epoch    GPU_mem   box_loss   cls_loss   dfl_loss  Instances       Size\n"
     ]
    },
    {
     "name": "stderr",
     "output_type": "stream",
     "text": [
      "      38/50      28.3G      1.566     0.9905     0.9279        139        640: 100%|██████████| 89/89 [00:21<00:00,  4.15it/s]\n",
      "                 Class     Images  Instances      Box(P          R      mAP50  mAP50-95): 100%|██████████| 15/15 [00:04<00:00,  3.44it/s]"
     ]
    },
    {
     "name": "stdout",
     "output_type": "stream",
     "text": [
      "                   all        458      69565      0.652      0.306      0.335      0.204\n"
     ]
    },
    {
     "name": "stderr",
     "output_type": "stream",
     "text": [
      "\n"
     ]
    },
    {
     "name": "stdout",
     "output_type": "stream",
     "text": [
      "\n",
      "      Epoch    GPU_mem   box_loss   cls_loss   dfl_loss  Instances       Size\n"
     ]
    },
    {
     "name": "stderr",
     "output_type": "stream",
     "text": [
      "      39/50      13.9G      1.566     0.9867     0.9264         53        640: 100%|██████████| 89/89 [00:25<00:00,  3.48it/s]\n",
      "                 Class     Images  Instances      Box(P          R      mAP50  mAP50-95): 100%|██████████| 15/15 [00:03<00:00,  4.10it/s]"
     ]
    },
    {
     "name": "stdout",
     "output_type": "stream",
     "text": [
      "                   all        458      69565      0.641      0.308      0.334      0.205\n"
     ]
    },
    {
     "name": "stderr",
     "output_type": "stream",
     "text": [
      "\n"
     ]
    },
    {
     "name": "stdout",
     "output_type": "stream",
     "text": [
      "\n",
      "      Epoch    GPU_mem   box_loss   cls_loss   dfl_loss  Instances       Size\n"
     ]
    },
    {
     "name": "stderr",
     "output_type": "stream",
     "text": [
      "      40/50        28G      1.582      1.003     0.9292         23        640: 100%|██████████| 89/89 [00:21<00:00,  4.21it/s]\n",
      "                 Class     Images  Instances      Box(P          R      mAP50  mAP50-95): 100%|██████████| 15/15 [00:04<00:00,  3.36it/s]"
     ]
    },
    {
     "name": "stdout",
     "output_type": "stream",
     "text": [
      "                   all        458      69565      0.697      0.307      0.337      0.207\n"
     ]
    },
    {
     "name": "stderr",
     "output_type": "stream",
     "text": [
      "\n"
     ]
    },
    {
     "name": "stdout",
     "output_type": "stream",
     "text": [
      "Closing dataloader mosaic\n",
      "\n",
      "      Epoch    GPU_mem   box_loss   cls_loss   dfl_loss  Instances       Size\n"
     ]
    },
    {
     "name": "stderr",
     "output_type": "stream",
     "text": [
      "      41/50        19G      1.526      1.028     0.9274         76        640: 100%|██████████| 89/89 [00:13<00:00,  6.64it/s]\n",
      "                 Class     Images  Instances      Box(P          R      mAP50  mAP50-95): 100%|██████████| 15/15 [00:03<00:00,  4.01it/s]"
     ]
    },
    {
     "name": "stdout",
     "output_type": "stream",
     "text": [
      "                   all        458      69565      0.705      0.307      0.333      0.205\n"
     ]
    },
    {
     "name": "stderr",
     "output_type": "stream",
     "text": [
      "\n"
     ]
    },
    {
     "name": "stdout",
     "output_type": "stream",
     "text": [
      "\n",
      "      Epoch    GPU_mem   box_loss   cls_loss   dfl_loss  Instances       Size\n"
     ]
    },
    {
     "name": "stderr",
     "output_type": "stream",
     "text": [
      "      42/50      20.3G      1.512     0.9933     0.9216         29        640: 100%|██████████| 89/89 [00:10<00:00,  8.57it/s]\n",
      "                 Class     Images  Instances      Box(P          R      mAP50  mAP50-95): 100%|██████████| 15/15 [00:03<00:00,  4.04it/s]"
     ]
    },
    {
     "name": "stdout",
     "output_type": "stream",
     "text": [
      "                   all        458      69565      0.702      0.309      0.334      0.204\n"
     ]
    },
    {
     "name": "stderr",
     "output_type": "stream",
     "text": [
      "\n"
     ]
    },
    {
     "name": "stdout",
     "output_type": "stream",
     "text": [
      "\n",
      "      Epoch    GPU_mem   box_loss   cls_loss   dfl_loss  Instances       Size\n"
     ]
    },
    {
     "name": "stderr",
     "output_type": "stream",
     "text": [
      "      43/50      27.5G      1.496     0.9724     0.9234          5        640: 100%|██████████| 89/89 [00:09<00:00,  9.18it/s]\n",
      "                 Class     Images  Instances      Box(P          R      mAP50  mAP50-95): 100%|██████████| 15/15 [00:04<00:00,  3.30it/s]"
     ]
    },
    {
     "name": "stdout",
     "output_type": "stream",
     "text": [
      "                   all        458      69565      0.704      0.306      0.335      0.206\n"
     ]
    },
    {
     "name": "stderr",
     "output_type": "stream",
     "text": [
      "\n"
     ]
    },
    {
     "name": "stdout",
     "output_type": "stream",
     "text": [
      "\n",
      "      Epoch    GPU_mem   box_loss   cls_loss   dfl_loss  Instances       Size\n"
     ]
    },
    {
     "name": "stderr",
     "output_type": "stream",
     "text": [
      "      44/50      13.8G      1.487     0.9722     0.9173        107        640: 100%|██████████| 89/89 [00:09<00:00,  8.93it/s]\n",
      "                 Class     Images  Instances      Box(P          R      mAP50  mAP50-95): 100%|██████████| 15/15 [00:03<00:00,  4.09it/s]"
     ]
    },
    {
     "name": "stdout",
     "output_type": "stream",
     "text": [
      "                   all        458      69565      0.728      0.301      0.331      0.204\n"
     ]
    },
    {
     "name": "stderr",
     "output_type": "stream",
     "text": [
      "\n"
     ]
    },
    {
     "name": "stdout",
     "output_type": "stream",
     "text": [
      "\n",
      "      Epoch    GPU_mem   box_loss   cls_loss   dfl_loss  Instances       Size\n"
     ]
    },
    {
     "name": "stderr",
     "output_type": "stream",
     "text": [
      "      45/50        15G      1.489     0.9583     0.9134        884        640: 100%|██████████| 89/89 [00:09<00:00,  9.20it/s]\n",
      "                 Class     Images  Instances      Box(P          R      mAP50  mAP50-95): 100%|██████████| 15/15 [00:03<00:00,  4.08it/s]"
     ]
    },
    {
     "name": "stdout",
     "output_type": "stream",
     "text": [
      "                   all        458      69565      0.716      0.306      0.331      0.202\n"
     ]
    },
    {
     "name": "stderr",
     "output_type": "stream",
     "text": [
      "\n"
     ]
    },
    {
     "name": "stdout",
     "output_type": "stream",
     "text": [
      "\n",
      "      Epoch    GPU_mem   box_loss   cls_loss   dfl_loss  Instances       Size\n"
     ]
    },
    {
     "name": "stderr",
     "output_type": "stream",
     "text": [
      "      46/50      17.2G      1.464     0.9537     0.9131         72        640: 100%|██████████| 89/89 [00:09<00:00,  9.23it/s]\n",
      "                 Class     Images  Instances      Box(P          R      mAP50  mAP50-95): 100%|██████████| 15/15 [00:03<00:00,  3.95it/s]"
     ]
    },
    {
     "name": "stdout",
     "output_type": "stream",
     "text": [
      "                   all        458      69565      0.715      0.306      0.335      0.206\n"
     ]
    },
    {
     "name": "stderr",
     "output_type": "stream",
     "text": [
      "\n"
     ]
    },
    {
     "name": "stdout",
     "output_type": "stream",
     "text": [
      "\n",
      "      Epoch    GPU_mem   box_loss   cls_loss   dfl_loss  Instances       Size\n"
     ]
    },
    {
     "name": "stderr",
     "output_type": "stream",
     "text": [
      "      47/50      21.3G      1.502     0.9572     0.9106        178        640: 100%|██████████| 89/89 [00:10<00:00,  8.48it/s]\n",
      "                 Class     Images  Instances      Box(P          R      mAP50  mAP50-95): 100%|██████████| 15/15 [00:03<00:00,  4.09it/s]"
     ]
    },
    {
     "name": "stdout",
     "output_type": "stream",
     "text": [
      "                   all        458      69565       0.72      0.307      0.335      0.208\n"
     ]
    },
    {
     "name": "stderr",
     "output_type": "stream",
     "text": [
      "\n"
     ]
    },
    {
     "name": "stdout",
     "output_type": "stream",
     "text": [
      "\n",
      "      Epoch    GPU_mem   box_loss   cls_loss   dfl_loss  Instances       Size\n"
     ]
    },
    {
     "name": "stderr",
     "output_type": "stream",
     "text": [
      "      48/50        21G      1.478     0.9655      0.911         56        640: 100%|██████████| 89/89 [00:09<00:00,  9.61it/s]\n",
      "                 Class     Images  Instances      Box(P          R      mAP50  mAP50-95): 100%|██████████| 15/15 [00:03<00:00,  4.06it/s]"
     ]
    },
    {
     "name": "stdout",
     "output_type": "stream",
     "text": [
      "                   all        458      69565      0.728      0.306      0.336      0.209\n"
     ]
    },
    {
     "name": "stderr",
     "output_type": "stream",
     "text": [
      "\n"
     ]
    },
    {
     "name": "stdout",
     "output_type": "stream",
     "text": [
      "\n",
      "      Epoch    GPU_mem   box_loss   cls_loss   dfl_loss  Instances       Size\n"
     ]
    },
    {
     "name": "stderr",
     "output_type": "stream",
     "text": [
      "      49/50        22G      1.457     0.9464     0.9121         74        640: 100%|██████████| 89/89 [00:10<00:00,  8.74it/s]\n",
      "                 Class     Images  Instances      Box(P          R      mAP50  mAP50-95): 100%|██████████| 15/15 [00:04<00:00,  3.41it/s]"
     ]
    },
    {
     "name": "stdout",
     "output_type": "stream",
     "text": [
      "                   all        458      69565      0.728      0.306      0.337      0.211\n"
     ]
    },
    {
     "name": "stderr",
     "output_type": "stream",
     "text": [
      "\n"
     ]
    },
    {
     "name": "stdout",
     "output_type": "stream",
     "text": [
      "\n",
      "      Epoch    GPU_mem   box_loss   cls_loss   dfl_loss  Instances       Size\n"
     ]
    },
    {
     "name": "stderr",
     "output_type": "stream",
     "text": [
      "      50/50      20.2G      1.467     0.9397      0.909         16        640: 100%|██████████| 89/89 [00:09<00:00,  9.39it/s]\n",
      "                 Class     Images  Instances      Box(P          R      mAP50  mAP50-95): 100%|██████████| 15/15 [00:03<00:00,  4.05it/s]"
     ]
    },
    {
     "name": "stdout",
     "output_type": "stream",
     "text": [
      "                   all        458      69565      0.741      0.307      0.337       0.21\n"
     ]
    },
    {
     "name": "stderr",
     "output_type": "stream",
     "text": [
      "\n"
     ]
    },
    {
     "name": "stdout",
     "output_type": "stream",
     "text": [
      "\n",
      "50 epochs completed in 0.323 hours.\n",
      "Optimizer stripped from runs/detect/train19/weights/last.pt, 5.4MB\n",
      "Optimizer stripped from runs/detect/train19/weights/best.pt, 5.4MB\n",
      "\n",
      "Validating runs/detect/train19/weights/best.pt...\n",
      "Ultralytics 8.3.51 🚀 Python-3.10.15 torch-2.5.0+cu118 CUDA:0 (NVIDIA A100 80GB PCIe, 81229MiB)\n",
      "YOLO11n summary (fused): 238 layers, 2,585,272 parameters, 0 gradients, 6.3 GFLOPs\n"
     ]
    },
    {
     "name": "stderr",
     "output_type": "stream",
     "text": [
      "                 Class     Images  Instances      Box(P          R      mAP50  mAP50-95): 100%|██████████| 15/15 [00:32<00:00,  2.17s/it]\n"
     ]
    },
    {
     "name": "stdout",
     "output_type": "stream",
     "text": [
      "                   all        458      69565      0.733      0.304      0.337      0.211\n",
      "                 plane         71       2550      0.727      0.555      0.592      0.317\n",
      "                  ship        138      10765      0.727      0.386      0.437      0.204\n",
      "          storage tank         60       2940      0.754      0.134      0.218     0.0975\n",
      "      baseball diamond         53        213      0.769      0.286      0.355       0.22\n",
      "          tennis court         93        763       0.88      0.866      0.894      0.779\n",
      "      basketball court         39        143      0.683      0.294      0.332      0.261\n",
      "    ground track field         71        145       0.83      0.269      0.333      0.233\n",
      "                harbor        116       2102       0.64      0.569      0.588      0.289\n",
      "                bridge         75        466      0.521     0.0386     0.0489     0.0214\n",
      "         large vehicle        158       5139       0.71      0.652      0.657      0.436\n",
      "         small vehicle        275      43337       0.67     0.0924      0.157     0.0715\n",
      "            helicopter         16         78          1          0     0.0295     0.0144\n",
      "            roundabout         67        185      0.659     0.0732     0.0881     0.0639\n",
      "     soccer ball field         59        149      0.585      0.376      0.353      0.249\n",
      "         swimming pool         62        576      0.576      0.281      0.314      0.113\n",
      "       container crane          2         14          1          0          0          0\n",
      "Speed: 0.1ms preprocess, 0.4ms inference, 0.0ms loss, 1.0ms postprocess per image\n",
      "Results saved to \u001b[1mruns/detect/train19\u001b[0m\n"
     ]
    }
   ],
   "source": [
    "from ultralytics import YOLO\n",
    "\n",
    "model = YOLO(\"../../YOLOv11/weights/yolo11n.pt\")\n",
    "# Train the model\n",
    "train_results = model.train(\n",
    "    data=\"../../YOLOv11/DOTAv1.5.yaml\",  # path to dataset YAML\n",
    "    epochs=50,  # number of training epochs\n",
    "    imgsz=640,  # training image size\n",
    "    device=0,  # device to run on, i.e. device=0 or device=0,1,2,3 or device=cpu\n",
    ")"
   ]
  },
  {
   "cell_type": "code",
   "execution_count": 8,
   "metadata": {},
   "outputs": [
    {
     "data": {
      "text/plain": [
       "'/mmfs1/scratch/dsu.local/bshakya/scratch/bshakya/YOLOv11'"
      ]
     },
     "execution_count": 8,
     "metadata": {},
     "output_type": "execute_result"
    }
   ],
   "source": [
    "pwd"
   ]
  },
  {
   "cell_type": "code",
   "execution_count": 11,
   "metadata": {},
   "outputs": [
    {
     "name": "stdout",
     "output_type": "stream",
     "text": [
      "Ultralytics 8.3.68 🚀 Python-3.10.15 torch-1.12.1+cu113 CUDA:0 (NVIDIA A100 80GB PCIe, 81229MiB)\n",
      "WARNING ⚠️ Upgrade to torch>=2.0.0 for deterministic training.\n",
      "\u001b[34m\u001b[1mengine/trainer: \u001b[0mtask=detect, mode=train, model=weights/yolo11n.pt, data=DOTAv1.5.yaml, epochs=50, time=None, patience=100, batch=16, imgsz=640, save=True, save_period=-1, cache=False, device=0, workers=8, project=None, name=train31, exist_ok=False, pretrained=True, optimizer=auto, verbose=True, seed=0, deterministic=True, single_cls=False, rect=False, cos_lr=False, close_mosaic=10, resume=False, amp=True, fraction=1.0, profile=False, freeze=None, multi_scale=False, overlap_mask=True, mask_ratio=4, dropout=0.0, val=True, split=val, save_json=False, save_hybrid=False, conf=None, iou=0.7, max_det=300, half=False, dnn=False, plots=True, source=None, vid_stride=1, stream_buffer=False, visualize=False, augment=False, agnostic_nms=False, classes=None, retina_masks=False, embed=None, show=False, save_frames=False, save_txt=False, save_conf=False, save_crop=False, show_labels=True, show_conf=True, show_boxes=True, line_width=None, format=torchscript, keras=False, optimize=False, int8=False, dynamic=False, simplify=True, opset=None, workspace=None, nms=False, lr0=0.01, lrf=0.01, momentum=0.937, weight_decay=0.0005, warmup_epochs=3.0, warmup_momentum=0.8, warmup_bias_lr=0.1, box=7.5, cls=0.5, dfl=1.5, pose=12.0, kobj=1.0, nbs=64, hsv_h=0.015, hsv_s=0.7, hsv_v=0.4, degrees=0.0, translate=0.1, scale=0.5, shear=0.0, perspective=0.0, flipud=0.0, fliplr=0.5, bgr=0.0, mosaic=1.0, mixup=0.0, copy_paste=0.0, copy_paste_mode=flip, auto_augment=randaugment, erasing=0.4, crop_fraction=1.0, cfg=None, tracker=botsort.yaml, save_dir=runs/detect/train31\n",
      "Overriding model.yaml nc=80 with nc=16\n",
      "\n",
      "                   from  n    params  module                                       arguments                     \n",
      "  0                  -1  1       464  ultralytics.nn.modules.conv.Conv             [3, 16, 3, 2]                 \n",
      "  1                  -1  1      4672  ultralytics.nn.modules.conv.Conv             [16, 32, 3, 2]                \n",
      "  2                  -1  1      6640  ultralytics.nn.modules.block.C3k2            [32, 64, 1, False, 0.25]      \n",
      "  3                  -1  1     36992  ultralytics.nn.modules.conv.Conv             [64, 64, 3, 2]                \n",
      "  4                  -1  1     26080  ultralytics.nn.modules.block.C3k2            [64, 128, 1, False, 0.25]     \n",
      "  5                  -1  1    147712  ultralytics.nn.modules.conv.Conv             [128, 128, 3, 2]              \n",
      "  6                  -1  1     87040  ultralytics.nn.modules.block.C3k2            [128, 128, 1, True]           \n",
      "  7                  -1  1    295424  ultralytics.nn.modules.conv.Conv             [128, 256, 3, 2]              \n",
      "  8                  -1  1    346112  ultralytics.nn.modules.block.C3k2            [256, 256, 1, True]           \n",
      "  9                  -1  1    164608  ultralytics.nn.modules.block.SPPF            [256, 256, 5]                 \n",
      " 10                  -1  1    249728  ultralytics.nn.modules.block.C2PSA           [256, 256, 1]                 \n",
      " 11                  -1  1         0  torch.nn.modules.upsampling.Upsample         [None, 2, 'nearest']          \n",
      " 12             [-1, 6]  1         0  ultralytics.nn.modules.conv.Concat           [1]                           \n",
      " 13                  -1  1    111296  ultralytics.nn.modules.block.C3k2            [384, 128, 1, False]          \n",
      " 14                  -1  1         0  torch.nn.modules.upsampling.Upsample         [None, 2, 'nearest']          \n",
      " 15             [-1, 4]  1         0  ultralytics.nn.modules.conv.Concat           [1]                           \n",
      " 16                  -1  1     32096  ultralytics.nn.modules.block.C3k2            [256, 64, 1, False]           \n",
      " 17                  -1  1     36992  ultralytics.nn.modules.conv.Conv             [64, 64, 3, 2]                \n",
      " 18            [-1, 13]  1         0  ultralytics.nn.modules.conv.Concat           [1]                           \n",
      " 19                  -1  1     86720  ultralytics.nn.modules.block.C3k2            [192, 128, 1, False]          \n",
      " 20                  -1  1    147712  ultralytics.nn.modules.conv.Conv             [128, 128, 3, 2]              \n",
      " 21            [-1, 10]  1         0  ultralytics.nn.modules.conv.Concat           [1]                           \n",
      " 22                  -1  1    378880  ultralytics.nn.modules.block.C3k2            [384, 256, 1, True]           \n",
      " 23        [16, 19, 22]  1    433792  ultralytics.nn.modules.head.Detect           [16, [64, 128, 256]]          \n",
      "YOLO11n summary: 319 layers, 2,592,960 parameters, 2,592,944 gradients, 6.5 GFLOPs\n",
      "\n",
      "Transferred 448/499 items from pretrained weights\n"
     ]
    },
    {
     "name": "stderr",
     "output_type": "stream",
     "text": [
      "WARNING: All log messages before absl::InitializeLog() is called are written to STDERR\n",
      "E0000 00:00:1738021772.628075  696274 cuda_dnn.cc:8310] Unable to register cuDNN factory: Attempting to register factory for plugin cuDNN when one has already been registered\n",
      "E0000 00:00:1738021772.719666  696274 cuda_blas.cc:1418] Unable to register cuBLAS factory: Attempting to register factory for plugin cuBLAS when one has already been registered\n"
     ]
    },
    {
     "name": "stdout",
     "output_type": "stream",
     "text": [
      "\u001b[34m\u001b[1mTensorBoard: \u001b[0mStart with 'tensorboard --logdir runs/detect/train31', view at http://localhost:6006/\n"
     ]
    },
    {
     "name": "stderr",
     "output_type": "stream",
     "text": [
      "Failed to detect the name of this notebook, you can set it manually with the WANDB_NOTEBOOK_NAME environment variable to enable code saving.\n",
      "\u001b[34m\u001b[1mwandb\u001b[0m: Using wandb-core as the SDK backend.  Please refer to https://wandb.me/wandb-core for more information.\n",
      "\u001b[34m\u001b[1mwandb\u001b[0m: Currently logged in as: \u001b[33mbijshakya77\u001b[0m (\u001b[33mbijshakya77-dakota-state-university\u001b[0m). Use \u001b[1m`wandb login --relogin`\u001b[0m to force relogin\n"
     ]
    },
    {
     "data": {
      "text/html": [
       "Tracking run with wandb version 0.18.7"
      ],
      "text/plain": [
       "<IPython.core.display.HTML object>"
      ]
     },
     "metadata": {},
     "output_type": "display_data"
    },
    {
     "data": {
      "text/html": [
       "Run data is saved locally in <code>/mmfs1/scratch/dsu.local/bshakya/scratch/bshakya/YOLOv11/wandb/run-20250127_174956-3wi3zimm</code>"
      ],
      "text/plain": [
       "<IPython.core.display.HTML object>"
      ]
     },
     "metadata": {},
     "output_type": "display_data"
    },
    {
     "data": {
      "text/html": [
       "Syncing run <strong><a href='https://wandb.ai/bijshakya77-dakota-state-university/Ultralytics/runs/3wi3zimm' target=\"_blank\">train31</a></strong> to <a href='https://wandb.ai/bijshakya77-dakota-state-university/Ultralytics' target=\"_blank\">Weights & Biases</a> (<a href='https://wandb.me/developer-guide' target=\"_blank\">docs</a>)<br/>"
      ],
      "text/plain": [
       "<IPython.core.display.HTML object>"
      ]
     },
     "metadata": {},
     "output_type": "display_data"
    },
    {
     "data": {
      "text/html": [
       " View project at <a href='https://wandb.ai/bijshakya77-dakota-state-university/Ultralytics' target=\"_blank\">https://wandb.ai/bijshakya77-dakota-state-university/Ultralytics</a>"
      ],
      "text/plain": [
       "<IPython.core.display.HTML object>"
      ]
     },
     "metadata": {},
     "output_type": "display_data"
    },
    {
     "data": {
      "text/html": [
       " View run at <a href='https://wandb.ai/bijshakya77-dakota-state-university/Ultralytics/runs/3wi3zimm' target=\"_blank\">https://wandb.ai/bijshakya77-dakota-state-university/Ultralytics/runs/3wi3zimm</a>"
      ],
      "text/plain": [
       "<IPython.core.display.HTML object>"
      ]
     },
     "metadata": {},
     "output_type": "display_data"
    },
    {
     "name": "stdout",
     "output_type": "stream",
     "text": [
      "Freezing layer 'model.23.dfl.conv.weight'\n",
      "\u001b[34m\u001b[1mAMP: \u001b[0mrunning Automatic Mixed Precision (AMP) checks...\n",
      "\u001b[34m\u001b[1mAMP: \u001b[0mchecks passed ✅\n"
     ]
    },
    {
     "name": "stderr",
     "output_type": "stream",
     "text": [
      "\u001b[34m\u001b[1mtrain: \u001b[0mScanning /mmfs1/scratch/dsu.local/bshakya/scratch/bshakya/yolov10/datasets/DOTAv1.5/labels/train... 1411 images, 1 backgrounds, 2 corrupt: 100%|██████████| 1411/1411 [00:05<00:00, 244.34it/s]"
     ]
    },
    {
     "name": "stdout",
     "output_type": "stream",
     "text": [
      "\u001b[34m\u001b[1mtrain: \u001b[0mWARNING ⚠️ /mmfs1/scratch/dsu.local/bshakya/scratch/bshakya/yolov10/datasets/DOTAv1.5/images/train/P0334.jpg: ignoring corrupt image/label: non-normalized or out of bounds coordinates [     1.0565      1.0583]\n",
      "\u001b[34m\u001b[1mtrain: \u001b[0mWARNING ⚠️ /mmfs1/scratch/dsu.local/bshakya/scratch/bshakya/yolov10/datasets/DOTAv1.5/images/train/P1872.jpg: ignoring corrupt image/label: non-normalized or out of bounds coordinates [     2.2618      2.2437      2.1674      2.0553      2.0337      2.0154      1.9993       1.998      1.9395      1.8671      1.8864      1.9115      1.9278      2.0144      1.8735      1.8426       1.822      1.8034      1.7907      1.7744      1.7483       1.723      1.6903      1.8182      1.6506      1.6087\n",
      "      2.2772      2.2118      1.6596       2.178       2.667      2.7528      2.7749      2.4934      2.4721      2.5177      2.5772        2.64       2.818      2.8019      2.8344      2.8832      2.8976      2.8004       2.751      2.6603      2.6152      2.5574      2.4091      2.3637      2.2918      2.3171\n",
      "      2.2527       2.097      2.1098      1.6534        1.61      1.5594      1.0347        1.51      1.5529      1.4456      1.4922      1.3925       1.364      1.3362      1.2735       1.213      1.1513      1.2916      1.1644      1.1396      1.3352      1.4364      1.2961      1.1785      1.1532      1.2294\n",
      "      1.2884      1.3137       1.033      1.0843      1.0808      1.0927]\n"
     ]
    },
    {
     "name": "stderr",
     "output_type": "stream",
     "text": [
      "\n"
     ]
    },
    {
     "name": "stdout",
     "output_type": "stream",
     "text": [
      "\u001b[34m\u001b[1mtrain: \u001b[0mNew cache created: /mmfs1/scratch/dsu.local/bshakya/scratch/bshakya/yolov10/datasets/DOTAv1.5/labels/train.cache\n",
      "\u001b[34m\u001b[1malbumentations: \u001b[0mImageCompression.__init__() got an unexpected keyword argument 'quality_range'\n"
     ]
    },
    {
     "name": "stderr",
     "output_type": "stream",
     "text": [
      "\u001b[34m\u001b[1mval: \u001b[0mScanning /mmfs1/scratch/dsu.local/bshakya/scratch/bshakya/yolov10/datasets/DOTAv1.5/labels/val... 458 images, 0 backgrounds, 0 corrupt: 100%|██████████| 458/458 [00:01<00:00, 242.44it/s]\n"
     ]
    },
    {
     "name": "stdout",
     "output_type": "stream",
     "text": [
      "\u001b[34m\u001b[1mval: \u001b[0mNew cache created: /mmfs1/scratch/dsu.local/bshakya/scratch/bshakya/yolov10/datasets/DOTAv1.5/labels/val.cache\n",
      "Plotting labels to runs/detect/train31/labels.jpg... \n",
      "\u001b[34m\u001b[1moptimizer:\u001b[0m 'optimizer=auto' found, ignoring 'lr0=0.01' and 'momentum=0.937' and determining best 'optimizer', 'lr0' and 'momentum' automatically... \n",
      "\u001b[34m\u001b[1moptimizer:\u001b[0m AdamW(lr=0.0005, momentum=0.9) with parameter groups 81 weight(decay=0.0), 88 weight(decay=0.0005), 87 bias(decay=0.0)\n",
      "\u001b[34m\u001b[1mTensorBoard: \u001b[0mmodel graph visualization added ✅\n",
      "Image sizes 640 train, 640 val\n",
      "Using 8 dataloader workers\n",
      "Logging results to \u001b[1mruns/detect/train31\u001b[0m\n",
      "Starting training for 50 epochs...\n",
      "\n",
      "      Epoch    GPU_mem   box_loss   cls_loss   dfl_loss  Instances       Size\n"
     ]
    },
    {
     "name": "stderr",
     "output_type": "stream",
     "text": [
      "       1/50      21.4G      2.279      4.388       1.21         40        640: 100%|██████████| 89/89 [00:47<00:00,  1.87it/s]\n",
      "                 Class     Images  Instances      Box(P          R      mAP50  mAP50-95): 100%|██████████| 15/15 [00:03<00:00,  4.20it/s]"
     ]
    },
    {
     "name": "stdout",
     "output_type": "stream",
     "text": [
      "                   all        458      69565      0.713     0.0391     0.0728     0.0437\n"
     ]
    },
    {
     "name": "stderr",
     "output_type": "stream",
     "text": [
      "\n"
     ]
    },
    {
     "name": "stdout",
     "output_type": "stream",
     "text": [
      "\n",
      "      Epoch    GPU_mem   box_loss   cls_loss   dfl_loss  Instances       Size\n"
     ]
    },
    {
     "name": "stderr",
     "output_type": "stream",
     "text": [
      "       2/50      18.1G      2.276      2.959      1.068        172        640: 100%|██████████| 89/89 [00:28<00:00,  3.11it/s]\n",
      "                 Class     Images  Instances      Box(P          R      mAP50  mAP50-95): 100%|██████████| 15/15 [00:03<00:00,  4.38it/s]"
     ]
    },
    {
     "name": "stdout",
     "output_type": "stream",
     "text": [
      "                   all        458      69565      0.553      0.142      0.132      0.076\n"
     ]
    },
    {
     "name": "stderr",
     "output_type": "stream",
     "text": [
      "\n"
     ]
    },
    {
     "name": "stdout",
     "output_type": "stream",
     "text": [
      "\n",
      "      Epoch    GPU_mem   box_loss   cls_loss   dfl_loss  Instances       Size\n"
     ]
    },
    {
     "name": "stderr",
     "output_type": "stream",
     "text": [
      "       3/50      25.8G      2.153      2.105      1.053         58        640: 100%|██████████| 89/89 [00:28<00:00,  3.14it/s]\n",
      "                 Class     Images  Instances      Box(P          R      mAP50  mAP50-95): 100%|██████████| 15/15 [00:03<00:00,  4.21it/s]"
     ]
    },
    {
     "name": "stdout",
     "output_type": "stream",
     "text": [
      "                   all        458      69565      0.705      0.165       0.17     0.0946\n"
     ]
    },
    {
     "name": "stderr",
     "output_type": "stream",
     "text": [
      "\n"
     ]
    },
    {
     "name": "stdout",
     "output_type": "stream",
     "text": [
      "\n",
      "      Epoch    GPU_mem   box_loss   cls_loss   dfl_loss  Instances       Size\n"
     ]
    },
    {
     "name": "stderr",
     "output_type": "stream",
     "text": [
      "       4/50      18.4G      2.073      1.766      1.023          9        640: 100%|██████████| 89/89 [00:27<00:00,  3.25it/s]\n",
      "                 Class     Images  Instances      Box(P          R      mAP50  mAP50-95): 100%|██████████| 15/15 [00:03<00:00,  4.19it/s]"
     ]
    },
    {
     "name": "stdout",
     "output_type": "stream",
     "text": [
      "                   all        458      69565      0.763      0.172       0.19      0.106\n"
     ]
    },
    {
     "name": "stderr",
     "output_type": "stream",
     "text": [
      "\n"
     ]
    },
    {
     "name": "stdout",
     "output_type": "stream",
     "text": [
      "\n",
      "      Epoch    GPU_mem   box_loss   cls_loss   dfl_loss  Instances       Size\n"
     ]
    },
    {
     "name": "stderr",
     "output_type": "stream",
     "text": [
      "       5/50      15.7G      1.971      1.613      1.021         61        640: 100%|██████████| 89/89 [00:28<00:00,  3.08it/s]\n",
      "                 Class     Images  Instances      Box(P          R      mAP50  mAP50-95): 100%|██████████| 15/15 [00:03<00:00,  4.31it/s]"
     ]
    },
    {
     "name": "stdout",
     "output_type": "stream",
     "text": [
      "                   all        458      69565      0.646      0.192      0.198      0.114\n"
     ]
    },
    {
     "name": "stderr",
     "output_type": "stream",
     "text": [
      "\n"
     ]
    },
    {
     "name": "stdout",
     "output_type": "stream",
     "text": [
      "\n",
      "      Epoch    GPU_mem   box_loss   cls_loss   dfl_loss  Instances       Size\n"
     ]
    },
    {
     "name": "stderr",
     "output_type": "stream",
     "text": [
      "       6/50      21.8G      1.964      1.546      1.009         93        640: 100%|██████████| 89/89 [00:29<00:00,  3.06it/s]\n",
      "                 Class     Images  Instances      Box(P          R      mAP50  mAP50-95): 100%|██████████| 15/15 [00:03<00:00,  4.31it/s]"
     ]
    },
    {
     "name": "stdout",
     "output_type": "stream",
     "text": [
      "                   all        458      69565      0.696      0.216      0.227      0.129\n"
     ]
    },
    {
     "name": "stderr",
     "output_type": "stream",
     "text": [
      "\n"
     ]
    },
    {
     "name": "stdout",
     "output_type": "stream",
     "text": [
      "\n",
      "      Epoch    GPU_mem   box_loss   cls_loss   dfl_loss  Instances       Size\n"
     ]
    },
    {
     "name": "stderr",
     "output_type": "stream",
     "text": [
      "       7/50        18G      1.854      1.444     0.9944         91        640: 100%|██████████| 89/89 [00:27<00:00,  3.21it/s]\n",
      "                 Class     Images  Instances      Box(P          R      mAP50  mAP50-95): 100%|██████████| 15/15 [00:03<00:00,  3.97it/s]"
     ]
    },
    {
     "name": "stdout",
     "output_type": "stream",
     "text": [
      "                   all        458      69565      0.596      0.211      0.219      0.126\n"
     ]
    },
    {
     "name": "stderr",
     "output_type": "stream",
     "text": [
      "\n"
     ]
    },
    {
     "name": "stdout",
     "output_type": "stream",
     "text": [
      "\n",
      "      Epoch    GPU_mem   box_loss   cls_loss   dfl_loss  Instances       Size\n"
     ]
    },
    {
     "name": "stderr",
     "output_type": "stream",
     "text": [
      "       8/50      15.2G      1.842      1.422      0.994          7        640: 100%|██████████| 89/89 [00:24<00:00,  3.70it/s]\n",
      "                 Class     Images  Instances      Box(P          R      mAP50  mAP50-95): 100%|██████████| 15/15 [00:03<00:00,  4.22it/s]"
     ]
    },
    {
     "name": "stdout",
     "output_type": "stream",
     "text": [
      "                   all        458      69565      0.683      0.221      0.238      0.142\n"
     ]
    },
    {
     "name": "stderr",
     "output_type": "stream",
     "text": [
      "\n"
     ]
    },
    {
     "name": "stdout",
     "output_type": "stream",
     "text": [
      "\n",
      "      Epoch    GPU_mem   box_loss   cls_loss   dfl_loss  Instances       Size\n"
     ]
    },
    {
     "name": "stderr",
     "output_type": "stream",
     "text": [
      "       9/50      12.2G       1.83      1.379     0.9838         86        640: 100%|██████████| 89/89 [00:29<00:00,  3.05it/s]\n",
      "                 Class     Images  Instances      Box(P          R      mAP50  mAP50-95): 100%|██████████| 15/15 [00:03<00:00,  4.31it/s]"
     ]
    },
    {
     "name": "stdout",
     "output_type": "stream",
     "text": [
      "                   all        458      69565      0.573      0.233      0.251      0.144\n"
     ]
    },
    {
     "name": "stderr",
     "output_type": "stream",
     "text": [
      "\n"
     ]
    },
    {
     "name": "stdout",
     "output_type": "stream",
     "text": [
      "\n",
      "      Epoch    GPU_mem   box_loss   cls_loss   dfl_loss  Instances       Size\n"
     ]
    },
    {
     "name": "stderr",
     "output_type": "stream",
     "text": [
      "      10/50      23.8G       1.78      1.313     0.9797        117        640: 100%|██████████| 89/89 [00:23<00:00,  3.81it/s]\n",
      "                 Class     Images  Instances      Box(P          R      mAP50  mAP50-95): 100%|██████████| 15/15 [00:03<00:00,  4.36it/s]"
     ]
    },
    {
     "name": "stdout",
     "output_type": "stream",
     "text": [
      "                   all        458      69565      0.611       0.23      0.252       0.15\n"
     ]
    },
    {
     "name": "stderr",
     "output_type": "stream",
     "text": [
      "\n"
     ]
    },
    {
     "name": "stdout",
     "output_type": "stream",
     "text": [
      "\n",
      "      Epoch    GPU_mem   box_loss   cls_loss   dfl_loss  Instances       Size\n"
     ]
    },
    {
     "name": "stderr",
     "output_type": "stream",
     "text": [
      "      11/50      20.3G      1.792      1.305     0.9706        267        640: 100%|██████████| 89/89 [00:30<00:00,  2.95it/s]\n",
      "                 Class     Images  Instances      Box(P          R      mAP50  mAP50-95): 100%|██████████| 15/15 [00:03<00:00,  4.32it/s]"
     ]
    },
    {
     "name": "stdout",
     "output_type": "stream",
     "text": [
      "                   all        458      69565      0.589      0.257       0.27      0.159\n"
     ]
    },
    {
     "name": "stderr",
     "output_type": "stream",
     "text": [
      "\n"
     ]
    },
    {
     "name": "stdout",
     "output_type": "stream",
     "text": [
      "\n",
      "      Epoch    GPU_mem   box_loss   cls_loss   dfl_loss  Instances       Size\n"
     ]
    },
    {
     "name": "stderr",
     "output_type": "stream",
     "text": [
      "      12/50      19.5G      1.748      1.259     0.9678        601        640: 100%|██████████| 89/89 [00:23<00:00,  3.72it/s]\n",
      "                 Class     Images  Instances      Box(P          R      mAP50  mAP50-95): 100%|██████████| 15/15 [00:03<00:00,  4.38it/s]"
     ]
    },
    {
     "name": "stdout",
     "output_type": "stream",
     "text": [
      "                   all        458      69565      0.506       0.25      0.259      0.151\n"
     ]
    },
    {
     "name": "stderr",
     "output_type": "stream",
     "text": [
      "\n"
     ]
    },
    {
     "name": "stdout",
     "output_type": "stream",
     "text": [
      "\n",
      "      Epoch    GPU_mem   box_loss   cls_loss   dfl_loss  Instances       Size\n"
     ]
    },
    {
     "name": "stderr",
     "output_type": "stream",
     "text": [
      "      13/50      18.6G      1.763      1.247     0.9625         28        640: 100%|██████████| 89/89 [00:23<00:00,  3.74it/s]\n",
      "                 Class     Images  Instances      Box(P          R      mAP50  mAP50-95): 100%|██████████| 15/15 [00:03<00:00,  4.30it/s]"
     ]
    },
    {
     "name": "stdout",
     "output_type": "stream",
     "text": [
      "                   all        458      69565      0.615      0.264      0.279      0.164\n"
     ]
    },
    {
     "name": "stderr",
     "output_type": "stream",
     "text": [
      "\n"
     ]
    },
    {
     "name": "stdout",
     "output_type": "stream",
     "text": [
      "\n",
      "      Epoch    GPU_mem   box_loss   cls_loss   dfl_loss  Instances       Size\n"
     ]
    },
    {
     "name": "stderr",
     "output_type": "stream",
     "text": [
      "      14/50      23.7G      1.713      1.203     0.9617         51        640: 100%|██████████| 89/89 [00:25<00:00,  3.45it/s]\n",
      "                 Class     Images  Instances      Box(P          R      mAP50  mAP50-95): 100%|██████████| 15/15 [00:03<00:00,  4.41it/s]"
     ]
    },
    {
     "name": "stdout",
     "output_type": "stream",
     "text": [
      "                   all        458      69565      0.643      0.262      0.282      0.166\n"
     ]
    },
    {
     "name": "stderr",
     "output_type": "stream",
     "text": [
      "\n"
     ]
    },
    {
     "name": "stdout",
     "output_type": "stream",
     "text": [
      "\n",
      "      Epoch    GPU_mem   box_loss   cls_loss   dfl_loss  Instances       Size\n"
     ]
    },
    {
     "name": "stderr",
     "output_type": "stream",
     "text": [
      "      15/50      22.2G       1.75      1.218     0.9578        136        640: 100%|██████████| 89/89 [00:26<00:00,  3.32it/s]\n",
      "                 Class     Images  Instances      Box(P          R      mAP50  mAP50-95): 100%|██████████| 15/15 [00:03<00:00,  4.38it/s]"
     ]
    },
    {
     "name": "stdout",
     "output_type": "stream",
     "text": [
      "                   all        458      69565      0.607      0.269      0.282      0.165\n"
     ]
    },
    {
     "name": "stderr",
     "output_type": "stream",
     "text": [
      "\n"
     ]
    },
    {
     "name": "stdout",
     "output_type": "stream",
     "text": [
      "\n",
      "      Epoch    GPU_mem   box_loss   cls_loss   dfl_loss  Instances       Size\n"
     ]
    },
    {
     "name": "stderr",
     "output_type": "stream",
     "text": [
      "      16/50      22.9G      1.695      1.192     0.9603         37        640: 100%|██████████| 89/89 [00:22<00:00,  3.97it/s]\n",
      "                 Class     Images  Instances      Box(P          R      mAP50  mAP50-95): 100%|██████████| 15/15 [00:03<00:00,  4.42it/s]"
     ]
    },
    {
     "name": "stdout",
     "output_type": "stream",
     "text": [
      "                   all        458      69565      0.571      0.274      0.293      0.171\n"
     ]
    },
    {
     "name": "stderr",
     "output_type": "stream",
     "text": [
      "\n"
     ]
    },
    {
     "name": "stdout",
     "output_type": "stream",
     "text": [
      "\n",
      "      Epoch    GPU_mem   box_loss   cls_loss   dfl_loss  Instances       Size\n"
     ]
    },
    {
     "name": "stderr",
     "output_type": "stream",
     "text": [
      "      17/50      17.7G       1.68      1.163     0.9539        169        640: 100%|██████████| 89/89 [00:22<00:00,  3.92it/s]\n",
      "                 Class     Images  Instances      Box(P          R      mAP50  mAP50-95): 100%|██████████| 15/15 [00:03<00:00,  4.41it/s]"
     ]
    },
    {
     "name": "stdout",
     "output_type": "stream",
     "text": [
      "                   all        458      69565      0.566      0.273      0.289       0.17\n"
     ]
    },
    {
     "name": "stderr",
     "output_type": "stream",
     "text": [
      "\n"
     ]
    },
    {
     "name": "stdout",
     "output_type": "stream",
     "text": [
      "\n",
      "      Epoch    GPU_mem   box_loss   cls_loss   dfl_loss  Instances       Size\n"
     ]
    },
    {
     "name": "stderr",
     "output_type": "stream",
     "text": [
      "      18/50      19.1G      1.632      1.529     0.9405         51        640: 100%|██████████| 89/89 [00:26<00:00,  3.30it/s]\n",
      "                 Class     Images  Instances      Box(P          R      mAP50  mAP50-95): 100%|██████████| 15/15 [00:03<00:00,  4.44it/s]"
     ]
    },
    {
     "name": "stdout",
     "output_type": "stream",
     "text": [
      "                   all        458      69565       0.65      0.265      0.292       0.17\n"
     ]
    },
    {
     "name": "stderr",
     "output_type": "stream",
     "text": [
      "\n"
     ]
    },
    {
     "name": "stdout",
     "output_type": "stream",
     "text": [
      "\n",
      "      Epoch    GPU_mem   box_loss   cls_loss   dfl_loss  Instances       Size\n"
     ]
    },
    {
     "name": "stderr",
     "output_type": "stream",
     "text": [
      "      19/50      19.6G       1.66      1.141     0.9463         31        640: 100%|██████████| 89/89 [00:20<00:00,  4.26it/s]\n",
      "                 Class     Images  Instances      Box(P          R      mAP50  mAP50-95): 100%|██████████| 15/15 [00:03<00:00,  4.46it/s]"
     ]
    },
    {
     "name": "stdout",
     "output_type": "stream",
     "text": [
      "                   all        458      69565       0.63      0.266      0.293      0.176\n"
     ]
    },
    {
     "name": "stderr",
     "output_type": "stream",
     "text": [
      "\n"
     ]
    },
    {
     "name": "stdout",
     "output_type": "stream",
     "text": [
      "\n",
      "      Epoch    GPU_mem   box_loss   cls_loss   dfl_loss  Instances       Size\n"
     ]
    },
    {
     "name": "stderr",
     "output_type": "stream",
     "text": [
      "      20/50      21.1G      1.669      1.151     0.9486         19        640: 100%|██████████| 89/89 [00:26<00:00,  3.38it/s]\n",
      "                 Class     Images  Instances      Box(P          R      mAP50  mAP50-95): 100%|██████████| 15/15 [00:03<00:00,  4.41it/s]"
     ]
    },
    {
     "name": "stdout",
     "output_type": "stream",
     "text": [
      "                   all        458      69565      0.605      0.262      0.288      0.172\n"
     ]
    },
    {
     "name": "stderr",
     "output_type": "stream",
     "text": [
      "\n"
     ]
    },
    {
     "name": "stdout",
     "output_type": "stream",
     "text": [
      "\n",
      "      Epoch    GPU_mem   box_loss   cls_loss   dfl_loss  Instances       Size\n"
     ]
    },
    {
     "name": "stderr",
     "output_type": "stream",
     "text": [
      "      21/50      19.2G      1.637      1.106     0.9468        175        640: 100%|██████████| 89/89 [00:24<00:00,  3.57it/s]\n",
      "                 Class     Images  Instances      Box(P          R      mAP50  mAP50-95): 100%|██████████| 15/15 [00:03<00:00,  4.45it/s]"
     ]
    },
    {
     "name": "stdout",
     "output_type": "stream",
     "text": [
      "                   all        458      69565      0.674      0.271      0.305      0.182\n"
     ]
    },
    {
     "name": "stderr",
     "output_type": "stream",
     "text": [
      "\n"
     ]
    },
    {
     "name": "stdout",
     "output_type": "stream",
     "text": [
      "\n",
      "      Epoch    GPU_mem   box_loss   cls_loss   dfl_loss  Instances       Size\n"
     ]
    },
    {
     "name": "stderr",
     "output_type": "stream",
     "text": [
      "      22/50      10.3G      1.655      1.109      0.945       1226        640: 100%|██████████| 89/89 [00:27<00:00,  3.20it/s]\n",
      "                 Class     Images  Instances      Box(P          R      mAP50  mAP50-95): 100%|██████████| 15/15 [00:03<00:00,  4.39it/s]"
     ]
    },
    {
     "name": "stdout",
     "output_type": "stream",
     "text": [
      "                   all        458      69565      0.627       0.28      0.308      0.185\n"
     ]
    },
    {
     "name": "stderr",
     "output_type": "stream",
     "text": [
      "\n"
     ]
    },
    {
     "name": "stdout",
     "output_type": "stream",
     "text": [
      "\n",
      "      Epoch    GPU_mem   box_loss   cls_loss   dfl_loss  Instances       Size\n"
     ]
    },
    {
     "name": "stderr",
     "output_type": "stream",
     "text": [
      "      23/50      17.8G      1.634      1.095     0.9438        237        640: 100%|██████████| 89/89 [00:25<00:00,  3.47it/s]\n",
      "                 Class     Images  Instances      Box(P          R      mAP50  mAP50-95): 100%|██████████| 15/15 [00:03<00:00,  4.49it/s]"
     ]
    },
    {
     "name": "stdout",
     "output_type": "stream",
     "text": [
      "                   all        458      69565      0.642      0.288      0.314      0.187\n"
     ]
    },
    {
     "name": "stderr",
     "output_type": "stream",
     "text": [
      "\n"
     ]
    },
    {
     "name": "stdout",
     "output_type": "stream",
     "text": [
      "\n",
      "      Epoch    GPU_mem   box_loss   cls_loss   dfl_loss  Instances       Size\n"
     ]
    },
    {
     "name": "stderr",
     "output_type": "stream",
     "text": [
      "      24/50      33.5G      1.672      1.123     0.9388        222        640: 100%|██████████| 89/89 [00:23<00:00,  3.77it/s]\n",
      "                 Class     Images  Instances      Box(P          R      mAP50  mAP50-95): 100%|██████████| 15/15 [00:04<00:00,  3.49it/s]"
     ]
    },
    {
     "name": "stdout",
     "output_type": "stream",
     "text": [
      "                   all        458      69565      0.613      0.287      0.311      0.185\n"
     ]
    },
    {
     "name": "stderr",
     "output_type": "stream",
     "text": [
      "\n"
     ]
    },
    {
     "name": "stdout",
     "output_type": "stream",
     "text": [
      "\n",
      "      Epoch    GPU_mem   box_loss   cls_loss   dfl_loss  Instances       Size\n"
     ]
    },
    {
     "name": "stderr",
     "output_type": "stream",
     "text": [
      "      25/50      16.8G      1.619      1.077     0.9395        129        640: 100%|██████████| 89/89 [00:30<00:00,  2.91it/s]\n",
      "                 Class     Images  Instances      Box(P          R      mAP50  mAP50-95): 100%|██████████| 15/15 [00:03<00:00,  4.49it/s]"
     ]
    },
    {
     "name": "stdout",
     "output_type": "stream",
     "text": [
      "                   all        458      69565      0.624      0.287      0.316      0.189\n"
     ]
    },
    {
     "name": "stderr",
     "output_type": "stream",
     "text": [
      "\n"
     ]
    },
    {
     "name": "stdout",
     "output_type": "stream",
     "text": [
      "\n",
      "      Epoch    GPU_mem   box_loss   cls_loss   dfl_loss  Instances       Size\n"
     ]
    },
    {
     "name": "stderr",
     "output_type": "stream",
     "text": [
      "      26/50      14.8G      1.617      1.077     0.9392         50        640: 100%|██████████| 89/89 [00:26<00:00,  3.42it/s]\n",
      "                 Class     Images  Instances      Box(P          R      mAP50  mAP50-95): 100%|██████████| 15/15 [00:03<00:00,  4.48it/s]"
     ]
    },
    {
     "name": "stdout",
     "output_type": "stream",
     "text": [
      "                   all        458      69565      0.647      0.285      0.312      0.185\n"
     ]
    },
    {
     "name": "stderr",
     "output_type": "stream",
     "text": [
      "\n"
     ]
    },
    {
     "name": "stdout",
     "output_type": "stream",
     "text": [
      "\n",
      "      Epoch    GPU_mem   box_loss   cls_loss   dfl_loss  Instances       Size\n"
     ]
    },
    {
     "name": "stderr",
     "output_type": "stream",
     "text": [
      "      27/50      15.3G      1.633      1.069     0.9347         22        640: 100%|██████████| 89/89 [00:26<00:00,  3.35it/s]\n",
      "                 Class     Images  Instances      Box(P          R      mAP50  mAP50-95): 100%|██████████| 15/15 [00:03<00:00,  4.45it/s]"
     ]
    },
    {
     "name": "stdout",
     "output_type": "stream",
     "text": [
      "                   all        458      69565      0.634      0.292      0.317      0.191\n"
     ]
    },
    {
     "name": "stderr",
     "output_type": "stream",
     "text": [
      "\n"
     ]
    },
    {
     "name": "stdout",
     "output_type": "stream",
     "text": [
      "\n",
      "      Epoch    GPU_mem   box_loss   cls_loss   dfl_loss  Instances       Size\n"
     ]
    },
    {
     "name": "stderr",
     "output_type": "stream",
     "text": [
      "      28/50      21.2G      1.586      1.047     0.9352        285        640: 100%|██████████| 89/89 [00:24<00:00,  3.65it/s]\n",
      "                 Class     Images  Instances      Box(P          R      mAP50  mAP50-95): 100%|██████████| 15/15 [00:03<00:00,  4.47it/s]"
     ]
    },
    {
     "name": "stdout",
     "output_type": "stream",
     "text": [
      "                   all        458      69565      0.643      0.293      0.322      0.194\n"
     ]
    },
    {
     "name": "stderr",
     "output_type": "stream",
     "text": [
      "\n"
     ]
    },
    {
     "name": "stdout",
     "output_type": "stream",
     "text": [
      "\n",
      "      Epoch    GPU_mem   box_loss   cls_loss   dfl_loss  Instances       Size\n"
     ]
    },
    {
     "name": "stderr",
     "output_type": "stream",
     "text": [
      "      29/50      13.9G      1.625      1.044     0.9335        148        640: 100%|██████████| 89/89 [00:28<00:00,  3.08it/s]\n",
      "                 Class     Images  Instances      Box(P          R      mAP50  mAP50-95): 100%|██████████| 15/15 [00:03<00:00,  4.53it/s]"
     ]
    },
    {
     "name": "stdout",
     "output_type": "stream",
     "text": [
      "                   all        458      69565      0.634      0.294      0.316      0.191\n"
     ]
    },
    {
     "name": "stderr",
     "output_type": "stream",
     "text": [
      "\n"
     ]
    },
    {
     "name": "stdout",
     "output_type": "stream",
     "text": [
      "\n",
      "      Epoch    GPU_mem   box_loss   cls_loss   dfl_loss  Instances       Size\n"
     ]
    },
    {
     "name": "stderr",
     "output_type": "stream",
     "text": [
      "      30/50      19.4G      1.568      1.041     0.9319         24        640: 100%|██████████| 89/89 [00:30<00:00,  2.95it/s]\n",
      "                 Class     Images  Instances      Box(P          R      mAP50  mAP50-95): 100%|██████████| 15/15 [00:03<00:00,  4.47it/s]"
     ]
    },
    {
     "name": "stdout",
     "output_type": "stream",
     "text": [
      "                   all        458      69565      0.609      0.298      0.322      0.194\n"
     ]
    },
    {
     "name": "stderr",
     "output_type": "stream",
     "text": [
      "\n"
     ]
    },
    {
     "name": "stdout",
     "output_type": "stream",
     "text": [
      "\n",
      "      Epoch    GPU_mem   box_loss   cls_loss   dfl_loss  Instances       Size\n"
     ]
    },
    {
     "name": "stderr",
     "output_type": "stream",
     "text": [
      "      31/50      23.4G       1.59      1.037     0.9287         72        640: 100%|██████████| 89/89 [00:28<00:00,  3.08it/s]\n",
      "                 Class     Images  Instances      Box(P          R      mAP50  mAP50-95): 100%|██████████| 15/15 [00:03<00:00,  4.46it/s]"
     ]
    },
    {
     "name": "stdout",
     "output_type": "stream",
     "text": [
      "                   all        458      69565      0.663      0.292      0.329      0.201\n"
     ]
    },
    {
     "name": "stderr",
     "output_type": "stream",
     "text": [
      "\n"
     ]
    },
    {
     "name": "stdout",
     "output_type": "stream",
     "text": [
      "\n",
      "      Epoch    GPU_mem   box_loss   cls_loss   dfl_loss  Instances       Size\n"
     ]
    },
    {
     "name": "stderr",
     "output_type": "stream",
     "text": [
      "      32/50      19.6G       1.56      1.006     0.9266         83        640: 100%|██████████| 89/89 [00:24<00:00,  3.63it/s]\n",
      "                 Class     Images  Instances      Box(P          R      mAP50  mAP50-95): 100%|██████████| 15/15 [00:03<00:00,  4.50it/s]"
     ]
    },
    {
     "name": "stdout",
     "output_type": "stream",
     "text": [
      "                   all        458      69565      0.619      0.301      0.327      0.196\n"
     ]
    },
    {
     "name": "stderr",
     "output_type": "stream",
     "text": [
      "\n"
     ]
    },
    {
     "name": "stdout",
     "output_type": "stream",
     "text": [
      "\n",
      "      Epoch    GPU_mem   box_loss   cls_loss   dfl_loss  Instances       Size\n"
     ]
    },
    {
     "name": "stderr",
     "output_type": "stream",
     "text": [
      "      33/50      21.1G      1.584      1.016     0.9267        213        640: 100%|██████████| 89/89 [00:25<00:00,  3.49it/s]\n",
      "                 Class     Images  Instances      Box(P          R      mAP50  mAP50-95): 100%|██████████| 15/15 [00:03<00:00,  4.46it/s]"
     ]
    },
    {
     "name": "stdout",
     "output_type": "stream",
     "text": [
      "                   all        458      69565      0.639      0.294      0.327      0.198\n"
     ]
    },
    {
     "name": "stderr",
     "output_type": "stream",
     "text": [
      "\n"
     ]
    },
    {
     "name": "stdout",
     "output_type": "stream",
     "text": [
      "\n",
      "      Epoch    GPU_mem   box_loss   cls_loss   dfl_loss  Instances       Size\n"
     ]
    },
    {
     "name": "stderr",
     "output_type": "stream",
     "text": [
      "      34/50      24.6G      1.585      1.011     0.9316         14        640: 100%|██████████| 89/89 [00:29<00:00,  2.98it/s]\n",
      "                 Class     Images  Instances      Box(P          R      mAP50  mAP50-95): 100%|██████████| 15/15 [00:03<00:00,  4.47it/s]"
     ]
    },
    {
     "name": "stdout",
     "output_type": "stream",
     "text": [
      "                   all        458      69565      0.633      0.306      0.326      0.198\n"
     ]
    },
    {
     "name": "stderr",
     "output_type": "stream",
     "text": [
      "\n"
     ]
    },
    {
     "name": "stdout",
     "output_type": "stream",
     "text": [
      "\n",
      "      Epoch    GPU_mem   box_loss   cls_loss   dfl_loss  Instances       Size\n"
     ]
    },
    {
     "name": "stderr",
     "output_type": "stream",
     "text": [
      "      35/50      26.4G      1.613      1.029     0.9251        179        640: 100%|██████████| 89/89 [00:27<00:00,  3.28it/s]\n",
      "                 Class     Images  Instances      Box(P          R      mAP50  mAP50-95): 100%|██████████| 15/15 [00:03<00:00,  4.50it/s]"
     ]
    },
    {
     "name": "stdout",
     "output_type": "stream",
     "text": [
      "                   all        458      69565      0.623      0.301       0.33      0.199\n"
     ]
    },
    {
     "name": "stderr",
     "output_type": "stream",
     "text": [
      "\n"
     ]
    },
    {
     "name": "stdout",
     "output_type": "stream",
     "text": [
      "\n",
      "      Epoch    GPU_mem   box_loss   cls_loss   dfl_loss  Instances       Size\n"
     ]
    },
    {
     "name": "stderr",
     "output_type": "stream",
     "text": [
      "      36/50      25.8G      1.557      1.001     0.9224         69        640: 100%|██████████| 89/89 [00:23<00:00,  3.87it/s]\n",
      "                 Class     Images  Instances      Box(P          R      mAP50  mAP50-95): 100%|██████████| 15/15 [00:03<00:00,  4.49it/s]"
     ]
    },
    {
     "name": "stdout",
     "output_type": "stream",
     "text": [
      "                   all        458      69565      0.637      0.295      0.327      0.195\n"
     ]
    },
    {
     "name": "stderr",
     "output_type": "stream",
     "text": [
      "\n"
     ]
    },
    {
     "name": "stdout",
     "output_type": "stream",
     "text": [
      "\n",
      "      Epoch    GPU_mem   box_loss   cls_loss   dfl_loss  Instances       Size\n"
     ]
    },
    {
     "name": "stderr",
     "output_type": "stream",
     "text": [
      "      37/50      20.4G      1.544     0.9788     0.9197         71        640: 100%|██████████| 89/89 [00:24<00:00,  3.64it/s]\n",
      "                 Class     Images  Instances      Box(P          R      mAP50  mAP50-95): 100%|██████████| 15/15 [00:03<00:00,  4.53it/s]"
     ]
    },
    {
     "name": "stdout",
     "output_type": "stream",
     "text": [
      "                   all        458      69565      0.608      0.314      0.334      0.203\n"
     ]
    },
    {
     "name": "stderr",
     "output_type": "stream",
     "text": [
      "\n"
     ]
    },
    {
     "name": "stdout",
     "output_type": "stream",
     "text": [
      "\n",
      "      Epoch    GPU_mem   box_loss   cls_loss   dfl_loss  Instances       Size\n"
     ]
    },
    {
     "name": "stderr",
     "output_type": "stream",
     "text": [
      "      38/50      28.3G      1.547     0.9773     0.9179        139        640: 100%|██████████| 89/89 [00:27<00:00,  3.20it/s]\n",
      "                 Class     Images  Instances      Box(P          R      mAP50  mAP50-95): 100%|██████████| 15/15 [00:04<00:00,  3.70it/s]"
     ]
    },
    {
     "name": "stdout",
     "output_type": "stream",
     "text": [
      "                   all        458      69565      0.635      0.307      0.337      0.206\n"
     ]
    },
    {
     "name": "stderr",
     "output_type": "stream",
     "text": [
      "\n"
     ]
    },
    {
     "name": "stdout",
     "output_type": "stream",
     "text": [
      "\n",
      "      Epoch    GPU_mem   box_loss   cls_loss   dfl_loss  Instances       Size\n"
     ]
    },
    {
     "name": "stderr",
     "output_type": "stream",
     "text": [
      "      39/50      13.9G      1.546     0.9755     0.9167         53        640: 100%|██████████| 89/89 [00:32<00:00,  2.77it/s]\n",
      "                 Class     Images  Instances      Box(P          R      mAP50  mAP50-95): 100%|██████████| 15/15 [00:03<00:00,  4.50it/s]"
     ]
    },
    {
     "name": "stdout",
     "output_type": "stream",
     "text": [
      "                   all        458      69565      0.644      0.305      0.336      0.205\n"
     ]
    },
    {
     "name": "stderr",
     "output_type": "stream",
     "text": [
      "\n"
     ]
    },
    {
     "name": "stdout",
     "output_type": "stream",
     "text": [
      "\n",
      "      Epoch    GPU_mem   box_loss   cls_loss   dfl_loss  Instances       Size\n"
     ]
    },
    {
     "name": "stderr",
     "output_type": "stream",
     "text": [
      "      40/50        28G      1.566     0.9885     0.9187         23        640: 100%|██████████| 89/89 [00:30<00:00,  2.95it/s]\n",
      "                 Class     Images  Instances      Box(P          R      mAP50  mAP50-95): 100%|██████████| 15/15 [00:04<00:00,  3.61it/s]"
     ]
    },
    {
     "name": "stdout",
     "output_type": "stream",
     "text": [
      "                   all        458      69565      0.693      0.312      0.337      0.204\n"
     ]
    },
    {
     "name": "stderr",
     "output_type": "stream",
     "text": [
      "\n"
     ]
    },
    {
     "name": "stdout",
     "output_type": "stream",
     "text": [
      "Closing dataloader mosaic\n",
      "\u001b[34m\u001b[1malbumentations: \u001b[0mImageCompression.__init__() got an unexpected keyword argument 'quality_range'\n",
      "\n",
      "      Epoch    GPU_mem   box_loss   cls_loss   dfl_loss  Instances       Size\n"
     ]
    },
    {
     "name": "stderr",
     "output_type": "stream",
     "text": [
      "      41/50      18.9G      1.519      1.026     0.9221         76        640: 100%|██████████| 89/89 [00:32<00:00,  2.75it/s]\n",
      "                 Class     Images  Instances      Box(P          R      mAP50  mAP50-95): 100%|██████████| 15/15 [00:03<00:00,  4.44it/s]"
     ]
    },
    {
     "name": "stdout",
     "output_type": "stream",
     "text": [
      "                   all        458      69565      0.701      0.302       0.33      0.199\n"
     ]
    },
    {
     "name": "stderr",
     "output_type": "stream",
     "text": [
      "\n"
     ]
    },
    {
     "name": "stdout",
     "output_type": "stream",
     "text": [
      "\n",
      "      Epoch    GPU_mem   box_loss   cls_loss   dfl_loss  Instances       Size\n"
     ]
    },
    {
     "name": "stderr",
     "output_type": "stream",
     "text": [
      "      42/50      20.3G      1.506     0.9918     0.9193         29        640: 100%|██████████| 89/89 [00:16<00:00,  5.54it/s]\n",
      "                 Class     Images  Instances      Box(P          R      mAP50  mAP50-95): 100%|██████████| 15/15 [00:03<00:00,  4.41it/s]"
     ]
    },
    {
     "name": "stdout",
     "output_type": "stream",
     "text": [
      "                   all        458      69565      0.709      0.307      0.336      0.205\n"
     ]
    },
    {
     "name": "stderr",
     "output_type": "stream",
     "text": [
      "\n"
     ]
    },
    {
     "name": "stdout",
     "output_type": "stream",
     "text": [
      "\n",
      "      Epoch    GPU_mem   box_loss   cls_loss   dfl_loss  Instances       Size\n"
     ]
    },
    {
     "name": "stderr",
     "output_type": "stream",
     "text": [
      "      43/50      27.3G      1.487     0.9704     0.9207          5        640: 100%|██████████| 89/89 [00:14<00:00,  6.00it/s]\n",
      "                 Class     Images  Instances      Box(P          R      mAP50  mAP50-95): 100%|██████████| 15/15 [00:04<00:00,  3.61it/s]"
     ]
    },
    {
     "name": "stdout",
     "output_type": "stream",
     "text": [
      "                   all        458      69565       0.72        0.3      0.336      0.204\n"
     ]
    },
    {
     "name": "stderr",
     "output_type": "stream",
     "text": [
      "\n"
     ]
    },
    {
     "name": "stdout",
     "output_type": "stream",
     "text": [
      "\n",
      "      Epoch    GPU_mem   box_loss   cls_loss   dfl_loss  Instances       Size\n"
     ]
    },
    {
     "name": "stderr",
     "output_type": "stream",
     "text": [
      "      44/50      12.4G      1.483     0.9668     0.9146        107        640: 100%|██████████| 89/89 [00:14<00:00,  6.15it/s]\n",
      "                 Class     Images  Instances      Box(P          R      mAP50  mAP50-95): 100%|██████████| 15/15 [00:03<00:00,  4.52it/s]"
     ]
    },
    {
     "name": "stdout",
     "output_type": "stream",
     "text": [
      "                   all        458      69565      0.711      0.301      0.332      0.203\n"
     ]
    },
    {
     "name": "stderr",
     "output_type": "stream",
     "text": [
      "\n"
     ]
    },
    {
     "name": "stdout",
     "output_type": "stream",
     "text": [
      "\n",
      "      Epoch    GPU_mem   box_loss   cls_loss   dfl_loss  Instances       Size\n"
     ]
    },
    {
     "name": "stderr",
     "output_type": "stream",
     "text": [
      "      45/50      14.9G      1.475     0.9513     0.9094        884        640: 100%|██████████| 89/89 [00:14<00:00,  6.06it/s]\n",
      "                 Class     Images  Instances      Box(P          R      mAP50  mAP50-95): 100%|██████████| 15/15 [00:03<00:00,  4.52it/s]"
     ]
    },
    {
     "name": "stdout",
     "output_type": "stream",
     "text": [
      "                   all        458      69565      0.721      0.305      0.336      0.205\n"
     ]
    },
    {
     "name": "stderr",
     "output_type": "stream",
     "text": [
      "\n"
     ]
    },
    {
     "name": "stdout",
     "output_type": "stream",
     "text": [
      "\n",
      "      Epoch    GPU_mem   box_loss   cls_loss   dfl_loss  Instances       Size\n"
     ]
    },
    {
     "name": "stderr",
     "output_type": "stream",
     "text": [
      "      46/50      17.2G      1.461     0.9494     0.9107         72        640: 100%|██████████| 89/89 [00:14<00:00,  6.10it/s]\n",
      "                 Class     Images  Instances      Box(P          R      mAP50  mAP50-95): 100%|██████████| 15/15 [00:03<00:00,  4.53it/s]"
     ]
    },
    {
     "name": "stdout",
     "output_type": "stream",
     "text": [
      "                   all        458      69565      0.704       0.31      0.338      0.205\n"
     ]
    },
    {
     "name": "stderr",
     "output_type": "stream",
     "text": [
      "\n"
     ]
    },
    {
     "name": "stdout",
     "output_type": "stream",
     "text": [
      "\n",
      "      Epoch    GPU_mem   box_loss   cls_loss   dfl_loss  Instances       Size\n"
     ]
    },
    {
     "name": "stderr",
     "output_type": "stream",
     "text": [
      "      47/50      21.3G      1.497     0.9533     0.9079        178        640: 100%|██████████| 89/89 [00:15<00:00,  5.73it/s]\n",
      "                 Class     Images  Instances      Box(P          R      mAP50  mAP50-95): 100%|██████████| 15/15 [00:03<00:00,  4.53it/s]"
     ]
    },
    {
     "name": "stdout",
     "output_type": "stream",
     "text": [
      "                   all        458      69565      0.715      0.309      0.338      0.206\n"
     ]
    },
    {
     "name": "stderr",
     "output_type": "stream",
     "text": [
      "\n"
     ]
    },
    {
     "name": "stdout",
     "output_type": "stream",
     "text": [
      "\n",
      "      Epoch    GPU_mem   box_loss   cls_loss   dfl_loss  Instances       Size\n"
     ]
    },
    {
     "name": "stderr",
     "output_type": "stream",
     "text": [
      "      48/50        21G      1.473     0.9586     0.9083         56        640: 100%|██████████| 89/89 [00:13<00:00,  6.52it/s]\n",
      "                 Class     Images  Instances      Box(P          R      mAP50  mAP50-95): 100%|██████████| 15/15 [00:03<00:00,  4.52it/s]"
     ]
    },
    {
     "name": "stdout",
     "output_type": "stream",
     "text": [
      "                   all        458      69565      0.712      0.309      0.341      0.208\n"
     ]
    },
    {
     "name": "stderr",
     "output_type": "stream",
     "text": [
      "\n"
     ]
    },
    {
     "name": "stdout",
     "output_type": "stream",
     "text": [
      "\n",
      "      Epoch    GPU_mem   box_loss   cls_loss   dfl_loss  Instances       Size\n"
     ]
    },
    {
     "name": "stderr",
     "output_type": "stream",
     "text": [
      "      49/50        22G       1.45     0.9438     0.9085         74        640: 100%|██████████| 89/89 [00:15<00:00,  5.89it/s]\n",
      "                 Class     Images  Instances      Box(P          R      mAP50  mAP50-95): 100%|██████████| 15/15 [00:03<00:00,  4.50it/s]"
     ]
    },
    {
     "name": "stdout",
     "output_type": "stream",
     "text": [
      "                   all        458      69565      0.718      0.307       0.34      0.209\n"
     ]
    },
    {
     "name": "stderr",
     "output_type": "stream",
     "text": [
      "\n"
     ]
    },
    {
     "name": "stdout",
     "output_type": "stream",
     "text": [
      "\n",
      "      Epoch    GPU_mem   box_loss   cls_loss   dfl_loss  Instances       Size\n"
     ]
    },
    {
     "name": "stderr",
     "output_type": "stream",
     "text": [
      "      50/50      20.2G       1.46     0.9334     0.9056         16        640: 100%|██████████| 89/89 [00:14<00:00,  6.28it/s]\n",
      "                 Class     Images  Instances      Box(P          R      mAP50  mAP50-95): 100%|██████████| 15/15 [00:03<00:00,  4.53it/s]"
     ]
    },
    {
     "name": "stdout",
     "output_type": "stream",
     "text": [
      "                   all        458      69565      0.727      0.306      0.341       0.21\n"
     ]
    },
    {
     "name": "stderr",
     "output_type": "stream",
     "text": [
      "\n"
     ]
    },
    {
     "name": "stdout",
     "output_type": "stream",
     "text": [
      "\n",
      "50 epochs completed in 0.413 hours.\n",
      "Optimizer stripped from runs/detect/train31/weights/last.pt, 5.5MB\n",
      "Optimizer stripped from runs/detect/train31/weights/best.pt, 5.5MB\n",
      "\n",
      "Validating runs/detect/train31/weights/best.pt...\n",
      "Ultralytics 8.3.68 🚀 Python-3.10.15 torch-1.12.1+cu113 CUDA:0 (NVIDIA A100 80GB PCIe, 81229MiB)\n",
      "YOLO11n summary (fused): 238 layers, 2,585,272 parameters, 0 gradients, 6.3 GFLOPs\n"
     ]
    },
    {
     "name": "stderr",
     "output_type": "stream",
     "text": [
      "                 Class     Images  Instances      Box(P          R      mAP50  mAP50-95): 100%|██████████| 15/15 [01:45<00:00,  7.05s/it]\n"
     ]
    },
    {
     "name": "stdout",
     "output_type": "stream",
     "text": [
      "                   all        458      69565      0.727      0.306      0.341       0.21\n",
      "                 plane         71       2550      0.748      0.569      0.609      0.322\n",
      "                  ship        138      10765      0.732      0.389      0.445       0.21\n",
      "          storage tank         60       2940      0.723      0.138      0.222     0.0978\n",
      "      baseball diamond         53        213      0.822      0.329      0.388      0.229\n",
      "          tennis court         93        763      0.891       0.87      0.898      0.779\n",
      "      basketball court         39        143      0.552      0.273      0.301      0.236\n",
      "    ground track field         71        145      0.775       0.29      0.337      0.222\n",
      "                harbor        116       2102       0.62      0.583      0.588      0.288\n",
      "                bridge         75        466      0.585     0.0365     0.0592     0.0232\n",
      "         large vehicle        158       5139      0.719      0.649      0.661      0.436\n",
      "         small vehicle        275      43337      0.673     0.0912      0.156     0.0717\n",
      "            helicopter         16         78          1          0     0.0579      0.028\n",
      "            roundabout         67        185      0.685     0.0649     0.0824     0.0593\n",
      "     soccer ball field         59        149      0.496      0.349      0.343      0.241\n",
      "         swimming pool         62        576      0.609      0.269      0.304      0.111\n",
      "       container crane          2         14          1          0          0          0\n",
      "Speed: 0.2ms preprocess, 0.5ms inference, 0.0ms loss, 5.6ms postprocess per image\n",
      "Results saved to \u001b[1mruns/detect/train31\u001b[0m\n"
     ]
    },
    {
     "data": {
      "text/html": [
       "\n",
       "    <style>\n",
       "        .wandb-row {\n",
       "            display: flex;\n",
       "            flex-direction: row;\n",
       "            flex-wrap: wrap;\n",
       "            justify-content: flex-start;\n",
       "            width: 100%;\n",
       "        }\n",
       "        .wandb-col {\n",
       "            display: flex;\n",
       "            flex-direction: column;\n",
       "            flex-basis: 100%;\n",
       "            flex: 1;\n",
       "            padding: 10px;\n",
       "        }\n",
       "    </style>\n",
       "<div class=\"wandb-row\"><div class=\"wandb-col\"><h3>Run history:</h3><br/><table class=\"wandb\"><tr><td>lr/pg0</td><td>▃▆███▇▇▇▇▇▆▆▆▆▆▅▅▅▅▅▄▄▄▄▄▄▃▃▃▃▃▃▂▂▂▂▂▁▁▁</td></tr><tr><td>lr/pg1</td><td>▃▆███▇▇▇▇▇▇▆▆▆▆▆▅▅▅▅▅▅▄▄▄▄▄▃▃▃▃▃▂▂▂▂▂▁▁▁</td></tr><tr><td>lr/pg2</td><td>▃▆███▇▇▇▇▇▆▆▆▆▆▅▅▅▅▅▅▄▄▄▄▄▄▃▃▃▃▂▂▂▂▂▂▁▁▁</td></tr><tr><td>metrics/mAP50(B)</td><td>▁▃▄▄▄▅▅▆▆▆▆▆▆▇▇▇▇▇▇▇▇▇▇█▇███████████████</td></tr><tr><td>metrics/mAP50-95(B)</td><td>▁▂▃▄▄▅▅▅▆▆▆▆▆▆▆▆▇▇▇▇▇▇▇▇▇▇▇▇█▇██████████</td></tr><tr><td>metrics/precision(B)</td><td>▆▁▆█▄▂▅▂▃▂▃▄▃▂▁▄▃▅▃▄▃▄▄▃▅▄▄▃▄▃▄▆▆▆▇▇▆▆▆▇</td></tr><tr><td>metrics/recall(B)</td><td>▁▄▄▄▅▅▆▆▆▇▇▇▇▇▇▇▇▇▇▇▇▇▇█▇▇██████████████</td></tr><tr><td>model/GFLOPs</td><td>▁</td></tr><tr><td>model/parameters</td><td>▁</td></tr><tr><td>model/speed_PyTorch(ms)</td><td>▁</td></tr><tr><td>train/box_loss</td><td>██▇▆▅▄▄▄▄▄▄▃▃▃▂▃▃▂▃▂▂▂▂▂▂▂▂▂▂▂▂▂▂▁▁▁▁▁▁▁</td></tr><tr><td>train/cls_loss</td><td>█▅▃▃▂▂▂▂▂▂▂▂▂▂▁▁▁▁▁▁▁▁▁▁▁▁▁▁▁▁▁▁▁▁▁▁▁▁▁▁</td></tr><tr><td>train/dfl_loss</td><td>█▅▄▄▄▃▃▃▃▂▂▂▂▂▂▂▂▂▂▂▂▂▂▂▂▁▁▂▁▁▁▁▁▁▁▁▁▁▁▁</td></tr><tr><td>val/box_loss</td><td>█▇▆▅▅▄▃▃▃▃▂▂▃▂▃▂▂▂▂▂▂▁▁▁▁▂▁▁▁▂▁▁▁▁▁▁▁▁▁▁</td></tr><tr><td>val/cls_loss</td><td>█▆▅▄▃▃▃▃▂▂▂▂▂▂▂▂▂▁▂▁▁▁▁▁▁▁▁▁▁▁▁▁▁▁▁▁▁▁▁▁</td></tr><tr><td>val/dfl_loss</td><td>█▇▇▆▅▄▄▃▃▃▃▃▃▃▂▃▂▂▂▂▂▂▂▂▂▂▂▁▂▂▁▁▁▁▁▁▁▁▁▁</td></tr></table><br/></div><div class=\"wandb-col\"><h3>Run summary:</h3><br/><table class=\"wandb\"><tr><td>lr/pg0</td><td>1e-05</td></tr><tr><td>lr/pg1</td><td>1e-05</td></tr><tr><td>lr/pg2</td><td>1e-05</td></tr><tr><td>metrics/mAP50(B)</td><td>0.34072</td></tr><tr><td>metrics/mAP50-95(B)</td><td>0.20961</td></tr><tr><td>metrics/precision(B)</td><td>0.72685</td></tr><tr><td>metrics/recall(B)</td><td>0.30629</td></tr><tr><td>model/GFLOPs</td><td>6.457</td></tr><tr><td>model/parameters</td><td>2592960</td></tr><tr><td>model/speed_PyTorch(ms)</td><td>1.827</td></tr><tr><td>train/box_loss</td><td>1.45978</td></tr><tr><td>train/cls_loss</td><td>0.93336</td></tr><tr><td>train/dfl_loss</td><td>0.90558</td></tr><tr><td>val/box_loss</td><td>1.56711</td></tr><tr><td>val/cls_loss</td><td>1.00074</td></tr><tr><td>val/dfl_loss</td><td>0.92667</td></tr></table><br/></div></div>"
      ],
      "text/plain": [
       "<IPython.core.display.HTML object>"
      ]
     },
     "metadata": {},
     "output_type": "display_data"
    },
    {
     "data": {
      "text/html": [
       " View run <strong style=\"color:#cdcd00\">train31</strong> at: <a href='https://wandb.ai/bijshakya77-dakota-state-university/Ultralytics/runs/3wi3zimm' target=\"_blank\">https://wandb.ai/bijshakya77-dakota-state-university/Ultralytics/runs/3wi3zimm</a><br/> View project at: <a href='https://wandb.ai/bijshakya77-dakota-state-university/Ultralytics' target=\"_blank\">https://wandb.ai/bijshakya77-dakota-state-university/Ultralytics</a><br/>Synced 5 W&B file(s), 0 media file(s), 10 artifact file(s) and 24 other file(s)"
      ],
      "text/plain": [
       "<IPython.core.display.HTML object>"
      ]
     },
     "metadata": {},
     "output_type": "display_data"
    },
    {
     "data": {
      "text/html": [
       "Find logs at: <code>./wandb/run-20250127_174956-3wi3zimm/logs</code>"
      ],
      "text/plain": [
       "<IPython.core.display.HTML object>"
      ]
     },
     "metadata": {},
     "output_type": "display_data"
    }
   ],
   "source": [
    "from ultralytics import YOLO\n",
    "\n",
    "model = YOLO(\"weights/yolo11n.pt\")\n",
    "# Train the model\n",
    "train_results = model.train(\n",
    "    data=\"DOTAv1.5.yaml\",  # path to dataset YAML\n",
    "    epochs=50,  # number of training epochs\n",
    "    imgsz=640,  # training image size\n",
    "    device=0,  # device to run on, i.e. device=0 or device=0,1,2,3 or device=cpu\n",
    ")"
   ]
  },
  {
   "cell_type": "code",
   "execution_count": 14,
   "metadata": {},
   "outputs": [
    {
     "name": "stdout",
     "output_type": "stream",
     "text": [
      "Ultralytics 8.3.68 🚀 Python-3.10.15 torch-1.12.1+cu113 CUDA:0 (NVIDIA A100 80GB PCIe, 81229MiB)\n",
      "YOLO11n summary (fused): 238 layers, 2,585,272 parameters, 0 gradients, 6.3 GFLOPs\n",
      "\u001b[34m\u001b[1mval: \u001b[0mScanning /mmfs1/scratch/dsu.local/bshakya/scratch/bshakya/yolov10/datasets/\u001b[0m\n",
      "                 Class     Images  Instances      Box(P          R      mAP50  mWARNING ⚠️ NMS time limit 2.800s exceeded\n",
      "                 Class     Images  Instances      Box(P          R      mAP50  m\n",
      "                   all        458      69565      0.729      0.305       0.34      0.209\n",
      "                 plane         71       2550      0.746      0.551      0.592      0.313\n",
      "                  ship        138      10765      0.727      0.388      0.443      0.211\n",
      "          storage tank         60       2940      0.724      0.139      0.224     0.0994\n",
      "      baseball diamond         53        213      0.823      0.333       0.39      0.223\n",
      "          tennis court         93        763      0.888       0.87        0.9       0.78\n",
      "      basketball court         39        143      0.568       0.28      0.308      0.239\n",
      "    ground track field         71        145      0.771       0.29      0.335      0.221\n",
      "                harbor        116       2102      0.618      0.572      0.582      0.285\n",
      "                bridge         75        466      0.636     0.0386     0.0611     0.0224\n",
      "         large vehicle        158       5139       0.71      0.647       0.66      0.438\n",
      "         small vehicle        275      43337      0.669     0.0915      0.155     0.0717\n",
      "            helicopter         16         78          1          0     0.0621     0.0299\n",
      "            roundabout         67        185      0.667     0.0649     0.0831     0.0587\n",
      "     soccer ball field         59        149      0.483      0.349       0.34      0.235\n",
      "         swimming pool         62        576      0.627      0.271      0.309      0.114\n",
      "       container crane          2         14          1          0          0          0\n",
      "Speed: 0.2ms preprocess, 4.6ms inference, 0.0ms loss, 22.2ms postprocess per image\n",
      "Results saved to \u001b[1mruns/detect/val8\u001b[0m\n",
      "💡 Learn more at https://docs.ultralytics.com/modes/val\n"
     ]
    }
   ],
   "source": [
    "#For val dataset\n",
    "!yolo detect val data=DOTAv1.5.yaml model=runs/detect/train31/weights/last.pt epochs=50 batch=16 imgsz=640 device=\"CUDA:0\"s"
   ]
  },
  {
   "cell_type": "code",
   "execution_count": 46,
   "metadata": {},
   "outputs": [
    {
     "name": "stdout",
     "output_type": "stream",
     "text": [
      "Ultralytics 8.3.51 🚀 Python-3.10.15 torch-2.5.0+cu118 CUDA:0 (NVIDIA A100 80GB PCIe, 81229MiB)\n",
      "YOLO11n summary (fused): 238 layers, 2,585,272 parameters, 0 gradients, 6.3 GFLOPs\n",
      "\u001b[34m\u001b[1mval: \u001b[0mScanning /mmfs1/scratch/dsu.local/bshakya/scratch/bshakya/yolov10/datasets/\u001b[0m\n",
      "                 Class     Images  Instances      Box(P          R      mAP50  m\n",
      "                   all        458      69565      0.722      0.305      0.338       0.21\n",
      "                 plane         71       2550      0.711      0.554      0.585      0.316\n",
      "                  ship        138      10765      0.717       0.39      0.437      0.204\n",
      "          storage tank         60       2940      0.754      0.138      0.221     0.0981\n",
      "      baseball diamond         53        213      0.725      0.282       0.35      0.204\n",
      "          tennis court         93        763      0.871      0.872      0.896      0.782\n",
      "      basketball court         39        143       0.62      0.294      0.325      0.258\n",
      "    ground track field         71        145      0.771      0.255      0.329      0.222\n",
      "                harbor        116       2102       0.63      0.584      0.596       0.29\n",
      "                bridge         75        466      0.505     0.0365     0.0439     0.0202\n",
      "         large vehicle        158       5139      0.711      0.654       0.66       0.44\n",
      "         small vehicle        275      43337      0.666     0.0932      0.159     0.0725\n",
      "            helicopter         16         78          1          0     0.0313     0.0154\n",
      "            roundabout         67        185      0.703     0.0757     0.0902     0.0645\n",
      "     soccer ball field         59        149      0.564      0.376      0.356      0.254\n",
      "         swimming pool         62        576      0.605      0.283      0.326      0.117\n",
      "       container crane          2         14          1          0          0          0\n",
      "Speed: 0.1ms preprocess, 11.8ms inference, 0.0ms loss, 5.4ms postprocess per image\n",
      "Results saved to \u001b[1mruns/detect/val\u001b[0m\n",
      "💡 Learn more at https://docs.ultralytics.com/modes/val\n"
     ]
    }
   ],
   "source": [
    "!yolo detect val data=../../YOLOv11/DOTAv1.5.yaml model=runs/detect/train19/weights/last.pt epochs=50 batch=16 imgsz=640 device=\"CUDA:0\""
   ]
  },
  {
   "cell_type": "code",
   "execution_count": 21,
   "metadata": {},
   "outputs": [
    {
     "name": "stdout",
     "output_type": "stream",
     "text": [
      "Ultralytics 8.3.68 🚀 Python-3.10.15 torch-1.12.1+cu113 CUDA:0 (NVIDIA A100 80GB PCIe, 81229MiB)\n",
      "YOLO11n summary (fused): 238 layers, 2,585,272 parameters, 0 gradients, 6.3 GFLOPs\n",
      "\n",
      "image 1/458 /mmfs1/scratch/dsu.local/bshakya/scratch/bshakya/YOLOv11/../yolov10/datasets/DOTAv1.5/images/val/P0003.jpg: 576x640 46 large vehicles, 19 small vehicles, 15.1ms\n",
      "image 2/458 /mmfs1/scratch/dsu.local/bshakya/scratch/bshakya/YOLOv11/../yolov10/datasets/DOTAv1.5/images/val/P0004.jpg: 640x384 88 large vehicles, 19 small vehicles, 15.9ms\n",
      "image 3/458 /mmfs1/scratch/dsu.local/bshakya/scratch/bshakya/YOLOv11/../yolov10/datasets/DOTAv1.5/images/val/P0007.jpg: 640x448 148 large vehicles, 47 small vehicles, 35.3ms\n",
      "image 4/458 /mmfs1/scratch/dsu.local/bshakya/scratch/bshakya/YOLOv11/../yolov10/datasets/DOTAv1.5/images/val/P0019.jpg: 384x640 1 ship, 50 harbors, 15.3ms\n",
      "image 5/458 /mmfs1/scratch/dsu.local/bshakya/scratch/bshakya/YOLOv11/../yolov10/datasets/DOTAv1.5/images/val/P0027.jpg: 512x640 30 harbors, 48.3ms\n",
      "image 6/458 /mmfs1/scratch/dsu.local/bshakya/scratch/bshakya/YOLOv11/../yolov10/datasets/DOTAv1.5/images/val/P0047.jpg: 640x352 4 baseball diamonds, 1 ground track field, 25 small vehicles, 1 soccer ball field, 17.8ms\n",
      "image 7/458 /mmfs1/scratch/dsu.local/bshakya/scratch/bshakya/YOLOv11/../yolov10/datasets/DOTAv1.5/images/val/P0053.jpg: 640x640 30 ships, 40 large vehicles, 41 small vehicles, 9.7ms\n",
      "image 8/458 /mmfs1/scratch/dsu.local/bshakya/scratch/bshakya/YOLOv11/../yolov10/datasets/DOTAv1.5/images/val/P0056.jpg: 608x640 16 large vehicles, 10 small vehicles, 16.1ms\n",
      "image 9/458 /mmfs1/scratch/dsu.local/bshakya/scratch/bshakya/YOLOv11/../yolov10/datasets/DOTAv1.5/images/val/P0060.jpg: 416x640 1 small vehicle, 123 swimming pools, 15.2ms\n",
      "image 10/458 /mmfs1/scratch/dsu.local/bshakya/scratch/bshakya/YOLOv11/../yolov10/datasets/DOTAv1.5/images/val/P0075.jpg: 640x352 1 roundabout, 9.3ms\n",
      "image 11/458 /mmfs1/scratch/dsu.local/bshakya/scratch/bshakya/YOLOv11/../yolov10/datasets/DOTAv1.5/images/val/P0079.jpg: 576x640 2 small vehicles, 1 roundabout, 1 swimming pool, 8.9ms\n",
      "image 12/458 /mmfs1/scratch/dsu.local/bshakya/scratch/bshakya/YOLOv11/../yolov10/datasets/DOTAv1.5/images/val/P0081.jpg: 640x512 1 roundabout, 14.8ms\n",
      "image 13/458 /mmfs1/scratch/dsu.local/bshakya/scratch/bshakya/YOLOv11/../yolov10/datasets/DOTAv1.5/images/val/P0086.jpg: 640x512 171 small vehicles, 1 roundabout, 2 swimming pools, 8.7ms\n",
      "image 14/458 /mmfs1/scratch/dsu.local/bshakya/scratch/bshakya/YOLOv11/../yolov10/datasets/DOTAv1.5/images/val/P0104.jpg: 640x512 1 storage tank, 43 small vehicles, 1 roundabout, 1 swimming pool, 8.7ms\n",
      "image 15/458 /mmfs1/scratch/dsu.local/bshakya/scratch/bshakya/YOLOv11/../yolov10/datasets/DOTAv1.5/images/val/P0110.jpg: 544x640 (no detections), 15.5ms\n",
      "image 16/458 /mmfs1/scratch/dsu.local/bshakya/scratch/bshakya/YOLOv11/../yolov10/datasets/DOTAv1.5/images/val/P0117.jpg: 544x640 3 baseball diamonds, 3 small vehicles, 8.9ms\n",
      "image 17/458 /mmfs1/scratch/dsu.local/bshakya/scratch/bshakya/YOLOv11/../yolov10/datasets/DOTAv1.5/images/val/P0123.jpg: 640x544 11 tennis courts, 93 small vehicles, 15.1ms\n",
      "image 18/458 /mmfs1/scratch/dsu.local/bshakya/scratch/bshakya/YOLOv11/../yolov10/datasets/DOTAv1.5/images/val/P0128.jpg: 640x544 100 ships, 13 harbors, 1 large vehicle, 30 small vehicles, 8.8ms\n",
      "image 19/458 /mmfs1/scratch/dsu.local/bshakya/scratch/bshakya/YOLOv11/../yolov10/datasets/DOTAv1.5/images/val/P0130.jpg: 640x544 7 baseball diamonds, 2 tennis courts, 1 ground track field, 1 small vehicle, 22 swimming pools, 8.8ms\n",
      "image 20/458 /mmfs1/scratch/dsu.local/bshakya/scratch/bshakya/YOLOv11/../yolov10/datasets/DOTAv1.5/images/val/P0131.jpg: 544x640 2 baseball diamonds, 6 tennis courts, 1 ground track field, 37 small vehicles, 1 soccer ball field, 12 swimming pools, 9.1ms\n",
      "image 21/458 /mmfs1/scratch/dsu.local/bshakya/scratch/bshakya/YOLOv11/../yolov10/datasets/DOTAv1.5/images/val/P0143.jpg: 480x640 1 ground track field, 2 soccer ball fields, 1 swimming pool, 15.2ms\n",
      "image 22/458 /mmfs1/scratch/dsu.local/bshakya/scratch/bshakya/YOLOv11/../yolov10/datasets/DOTAv1.5/images/val/P0146.jpg: 448x640 4 baseball diamonds, 3 tennis courts, 36 small vehicles, 5 soccer ball fields, 15.3ms\n",
      "image 23/458 /mmfs1/scratch/dsu.local/bshakya/scratch/bshakya/YOLOv11/../yolov10/datasets/DOTAv1.5/images/val/P0150.jpg: 544x640 1 baseball diamond, 1 tennis court, 66 small vehicles, 9.2ms\n",
      "image 24/458 /mmfs1/scratch/dsu.local/bshakya/scratch/bshakya/YOLOv11/../yolov10/datasets/DOTAv1.5/images/val/P0161.jpg: 640x640 19 planes, 1 small vehicle, 9.2ms\n",
      "image 25/458 /mmfs1/scratch/dsu.local/bshakya/scratch/bshakya/YOLOv11/../yolov10/datasets/DOTAv1.5/images/val/P0168.jpg: 512x640 38 planes, 9.3ms\n",
      "image 26/458 /mmfs1/scratch/dsu.local/bshakya/scratch/bshakya/YOLOv11/../yolov10/datasets/DOTAv1.5/images/val/P0170.jpg: 352x640 28 planes, 3 large vehicles, 35 small vehicles, 15.7ms\n",
      "image 27/458 /mmfs1/scratch/dsu.local/bshakya/scratch/bshakya/YOLOv11/../yolov10/datasets/DOTAv1.5/images/val/P0173.jpg: 544x640 9 planes, 3 large vehicles, 9.1ms\n",
      "image 28/458 /mmfs1/scratch/dsu.local/bshakya/scratch/bshakya/YOLOv11/../yolov10/datasets/DOTAv1.5/images/val/P0175.jpg: 640x576 1 baseball diamond, 11 tennis courts, 1 small vehicle, 15.0ms\n",
      "image 29/458 /mmfs1/scratch/dsu.local/bshakya/scratch/bshakya/YOLOv11/../yolov10/datasets/DOTAv1.5/images/val/P0179.jpg: 640x640 114 planes, 29 small vehicles, 9.4ms\n",
      "image 30/458 /mmfs1/scratch/dsu.local/bshakya/scratch/bshakya/YOLOv11/../yolov10/datasets/DOTAv1.5/images/val/P0186.jpg: 288x640 9 tennis courts, 15.2ms\n",
      "image 31/458 /mmfs1/scratch/dsu.local/bshakya/scratch/bshakya/YOLOv11/../yolov10/datasets/DOTAv1.5/images/val/P0189.jpg: 640x512 37 large vehicles, 24 small vehicles, 8.8ms\n",
      "image 32/458 /mmfs1/scratch/dsu.local/bshakya/scratch/bshakya/YOLOv11/../yolov10/datasets/DOTAv1.5/images/val/P0194.jpg: 544x640 8 tennis courts, 8 small vehicles, 8.8ms\n",
      "image 33/458 /mmfs1/scratch/dsu.local/bshakya/scratch/bshakya/YOLOv11/../yolov10/datasets/DOTAv1.5/images/val/P0198.jpg: 640x576 19 tennis courts, 8.9ms\n",
      "image 34/458 /mmfs1/scratch/dsu.local/bshakya/scratch/bshakya/YOLOv11/../yolov10/datasets/DOTAv1.5/images/val/P0199.jpg: 640x480 24 tennis courts, 56 small vehicles, 15.2ms\n",
      "image 35/458 /mmfs1/scratch/dsu.local/bshakya/scratch/bshakya/YOLOv11/../yolov10/datasets/DOTAv1.5/images/val/P0206.jpg: 640x576 10 tennis courts, 9.1ms\n",
      "image 36/458 /mmfs1/scratch/dsu.local/bshakya/scratch/bshakya/YOLOv11/../yolov10/datasets/DOTAv1.5/images/val/P0213.jpg: 576x640 53 planes, 31 small vehicles, 9.3ms\n",
      "image 37/458 /mmfs1/scratch/dsu.local/bshakya/scratch/bshakya/YOLOv11/../yolov10/datasets/DOTAv1.5/images/val/P0217.jpg: 608x640 28 planes, 12 small vehicles, 9.3ms\n",
      "image 38/458 /mmfs1/scratch/dsu.local/bshakya/scratch/bshakya/YOLOv11/../yolov10/datasets/DOTAv1.5/images/val/P0228.jpg: 416x640 12 tennis courts, 1 small vehicle, 9.8ms\n",
      "image 39/458 /mmfs1/scratch/dsu.local/bshakya/scratch/bshakya/YOLOv11/../yolov10/datasets/DOTAv1.5/images/val/P0237.jpg: 640x640 8 tennis courts, 11 small vehicles, 9.0ms\n",
      "image 40/458 /mmfs1/scratch/dsu.local/bshakya/scratch/bshakya/YOLOv11/../yolov10/datasets/DOTAv1.5/images/val/P0242.jpg: 640x288 8 tennis courts, 1 basketball court, 1 small vehicle, 14.5ms\n",
      "image 41/458 /mmfs1/scratch/dsu.local/bshakya/scratch/bshakya/YOLOv11/../yolov10/datasets/DOTAv1.5/images/val/P0246.jpg: 640x512 26 large vehicles, 7 small vehicles, 8.7ms\n",
      "image 42/458 /mmfs1/scratch/dsu.local/bshakya/scratch/bshakya/YOLOv11/../yolov10/datasets/DOTAv1.5/images/val/P0249.jpg: 640x416 32 planes, 20 large vehicles, 6 small vehicles, 14.6ms\n",
      "image 43/458 /mmfs1/scratch/dsu.local/bshakya/scratch/bshakya/YOLOv11/../yolov10/datasets/DOTAv1.5/images/val/P0257.jpg: 640x448 33 planes, 2 large vehicles, 138 small vehicles, 9.1ms\n",
      "image 44/458 /mmfs1/scratch/dsu.local/bshakya/scratch/bshakya/YOLOv11/../yolov10/datasets/DOTAv1.5/images/val/P0259.jpg: 640x640 16 ships, 6 harbors, 4 small vehicles, 9.3ms\n",
      "image 45/458 /mmfs1/scratch/dsu.local/bshakya/scratch/bshakya/YOLOv11/../yolov10/datasets/DOTAv1.5/images/val/P0261.jpg: 512x640 37 large vehicles, 157 small vehicles, 9.5ms\n",
      "image 46/458 /mmfs1/scratch/dsu.local/bshakya/scratch/bshakya/YOLOv11/../yolov10/datasets/DOTAv1.5/images/val/P0262.jpg: 640x608 279 ships, 20 harbors, 1 small vehicle, 15.5ms\n",
      "image 47/458 /mmfs1/scratch/dsu.local/bshakya/scratch/bshakya/YOLOv11/../yolov10/datasets/DOTAv1.5/images/val/P0300.jpg: 384x640 1 ship, 6 harbors, 1 small vehicle, 9.4ms\n",
      "image 48/458 /mmfs1/scratch/dsu.local/bshakya/scratch/bshakya/YOLOv11/../yolov10/datasets/DOTAv1.5/images/val/P0305.jpg: 640x512 6 large vehicles, 26 small vehicles, 8.9ms\n",
      "image 49/458 /mmfs1/scratch/dsu.local/bshakya/scratch/bshakya/YOLOv11/../yolov10/datasets/DOTAv1.5/images/val/P0309.jpg: 640x288 1 ship, 8 harbors, 8.9ms\n",
      "image 50/458 /mmfs1/scratch/dsu.local/bshakya/scratch/bshakya/YOLOv11/../yolov10/datasets/DOTAv1.5/images/val/P0329.jpg: 640x512 10 large vehicles, 11 small vehicles, 9.1ms\n",
      "image 51/458 /mmfs1/scratch/dsu.local/bshakya/scratch/bshakya/YOLOv11/../yolov10/datasets/DOTAv1.5/images/val/P0331.jpg: 576x640 13 ships, 12 harbors, 6 small vehicles, 7 swimming pools, 9.4ms\n",
      "image 52/458 /mmfs1/scratch/dsu.local/bshakya/scratch/bshakya/YOLOv11/../yolov10/datasets/DOTAv1.5/images/val/P0336.jpg: 320x640 10 ships, 11 harbors, 2 small vehicles, 15.2ms\n",
      "image 53/458 /mmfs1/scratch/dsu.local/bshakya/scratch/bshakya/YOLOv11/../yolov10/datasets/DOTAv1.5/images/val/P0342.jpg: 640x640 44 large vehicles, 2 small vehicles, 9.3ms\n",
      "image 54/458 /mmfs1/scratch/dsu.local/bshakya/scratch/bshakya/YOLOv11/../yolov10/datasets/DOTAv1.5/images/val/P0347.jpg: 640x320 3 ships, 9 harbors, 15.0ms\n",
      "image 55/458 /mmfs1/scratch/dsu.local/bshakya/scratch/bshakya/YOLOv11/../yolov10/datasets/DOTAv1.5/images/val/P0348.jpg: 640x288 1 ship, 6 harbors, 9.4ms\n",
      "image 56/458 /mmfs1/scratch/dsu.local/bshakya/scratch/bshakya/YOLOv11/../yolov10/datasets/DOTAv1.5/images/val/P0352.jpg: 608x640 2 baseball diamonds, 5 tennis courts, 1 basketball court, 22 small vehicles, 9.2ms\n",
      "image 57/458 /mmfs1/scratch/dsu.local/bshakya/scratch/bshakya/YOLOv11/../yolov10/datasets/DOTAv1.5/images/val/P0353.jpg: 640x640 23 large vehicles, 54 small vehicles, 9.1ms\n",
      "image 58/458 /mmfs1/scratch/dsu.local/bshakya/scratch/bshakya/YOLOv11/../yolov10/datasets/DOTAv1.5/images/val/P0359.jpg: 640x480 6 tennis courts, 8.9ms\n",
      "image 59/458 /mmfs1/scratch/dsu.local/bshakya/scratch/bshakya/YOLOv11/../yolov10/datasets/DOTAv1.5/images/val/P0368.jpg: 640x384 4 tennis courts, 1 basketball court, 2 large vehicles, 20 small vehicles, 1 soccer ball field, 8.7ms\n",
      "image 60/458 /mmfs1/scratch/dsu.local/bshakya/scratch/bshakya/YOLOv11/../yolov10/datasets/DOTAv1.5/images/val/P0374.jpg: 576x640 2 baseball diamonds, 5 basketball courts, 24 small vehicles, 9.0ms\n",
      "image 61/458 /mmfs1/scratch/dsu.local/bshakya/scratch/bshakya/YOLOv11/../yolov10/datasets/DOTAv1.5/images/val/P0375.jpg: 640x640 6 tennis courts, 58 small vehicles, 8.9ms\n",
      "image 62/458 /mmfs1/scratch/dsu.local/bshakya/scratch/bshakya/YOLOv11/../yolov10/datasets/DOTAv1.5/images/val/P0377.jpg: 640x640 5 tennis courts, 1 small vehicle, 8.4ms\n",
      "image 63/458 /mmfs1/scratch/dsu.local/bshakya/scratch/bshakya/YOLOv11/../yolov10/datasets/DOTAv1.5/images/val/P0382.jpg: 640x608 2 baseball diamonds, 4 tennis courts, 12 small vehicles, 8.9ms\n",
      "image 64/458 /mmfs1/scratch/dsu.local/bshakya/scratch/bshakya/YOLOv11/../yolov10/datasets/DOTAv1.5/images/val/P0385.jpg: 640x640 3 tennis courts, 2 basketball courts, 6 small vehicles, 1 soccer ball field, 8.8ms\n",
      "image 65/458 /mmfs1/scratch/dsu.local/bshakya/scratch/bshakya/YOLOv11/../yolov10/datasets/DOTAv1.5/images/val/P0396.jpg: 640x608 7 tennis courts, 1 small vehicle, 8.9ms\n",
      "image 66/458 /mmfs1/scratch/dsu.local/bshakya/scratch/bshakya/YOLOv11/../yolov10/datasets/DOTAv1.5/images/val/P0402.jpg: 640x480 4 tennis courts, 8.7ms\n",
      "image 67/458 /mmfs1/scratch/dsu.local/bshakya/scratch/bshakya/YOLOv11/../yolov10/datasets/DOTAv1.5/images/val/P0411.jpg: 640x512 9 ships, 10 harbors, 1 small vehicle, 8.7ms\n",
      "image 68/458 /mmfs1/scratch/dsu.local/bshakya/scratch/bshakya/YOLOv11/../yolov10/datasets/DOTAv1.5/images/val/P0414.jpg: 640x512 7 ships, 9 harbors, 14 small vehicles, 8.3ms\n",
      "image 69/458 /mmfs1/scratch/dsu.local/bshakya/scratch/bshakya/YOLOv11/../yolov10/datasets/DOTAv1.5/images/val/P0420.jpg: 448x640 3 ships, 14 harbors, 1 small vehicle, 4 swimming pools, 8.8ms\n",
      "image 70/458 /mmfs1/scratch/dsu.local/bshakya/scratch/bshakya/YOLOv11/../yolov10/datasets/DOTAv1.5/images/val/P0432.jpg: 608x640 3 ships, 11 harbors, 1 swimming pool, 9.0ms\n",
      "image 71/458 /mmfs1/scratch/dsu.local/bshakya/scratch/bshakya/YOLOv11/../yolov10/datasets/DOTAv1.5/images/val/P0454.jpg: 448x640 70 large vehicles, 82 small vehicles, 8.8ms\n",
      "image 72/458 /mmfs1/scratch/dsu.local/bshakya/scratch/bshakya/YOLOv11/../yolov10/datasets/DOTAv1.5/images/val/P0457.jpg: 416x640 1 baseball diamond, 2 tennis courts, 2 basketball courts, 5 small vehicles, 9.0ms\n",
      "image 73/458 /mmfs1/scratch/dsu.local/bshakya/scratch/bshakya/YOLOv11/../yolov10/datasets/DOTAv1.5/images/val/P0466.jpg: 640x608 14 tennis courts, 9.1ms\n",
      "image 74/458 /mmfs1/scratch/dsu.local/bshakya/scratch/bshakya/YOLOv11/../yolov10/datasets/DOTAv1.5/images/val/P0476.jpg: 640x608 71 large vehicles, 19 small vehicles, 8.8ms\n",
      "image 75/458 /mmfs1/scratch/dsu.local/bshakya/scratch/bshakya/YOLOv11/../yolov10/datasets/DOTAv1.5/images/val/P0486.jpg: 448x640 28 large vehicles, 39 small vehicles, 9.1ms\n",
      "image 76/458 /mmfs1/scratch/dsu.local/bshakya/scratch/bshakya/YOLOv11/../yolov10/datasets/DOTAv1.5/images/val/P0491.jpg: 416x640 7 baseball diamonds, 9.2ms\n",
      "image 77/458 /mmfs1/scratch/dsu.local/bshakya/scratch/bshakya/YOLOv11/../yolov10/datasets/DOTAv1.5/images/val/P0499.jpg: 640x576 1 ship, 6 tennis courts, 11 small vehicles, 9.2ms\n",
      "image 78/458 /mmfs1/scratch/dsu.local/bshakya/scratch/bshakya/YOLOv11/../yolov10/datasets/DOTAv1.5/images/val/P0518.jpg: 640x512 2 ships, 6 harbors, 1 swimming pool, 8.9ms\n",
      "image 79/458 /mmfs1/scratch/dsu.local/bshakya/scratch/bshakya/YOLOv11/../yolov10/datasets/DOTAv1.5/images/val/P0524.jpg: 640x640 3 ships, 11 harbors, 2 small vehicles, 1 swimming pool, 8.9ms\n",
      "image 80/458 /mmfs1/scratch/dsu.local/bshakya/scratch/bshakya/YOLOv11/../yolov10/datasets/DOTAv1.5/images/val/P0525.jpg: 640x288 2 ships, 7 harbors, 8.7ms\n",
      "image 81/458 /mmfs1/scratch/dsu.local/bshakya/scratch/bshakya/YOLOv11/../yolov10/datasets/DOTAv1.5/images/val/P0526.jpg: 480x640 1 ship, 6 harbors, 3 small vehicles, 9.3ms\n",
      "image 82/458 /mmfs1/scratch/dsu.local/bshakya/scratch/bshakya/YOLOv11/../yolov10/datasets/DOTAv1.5/images/val/P0543.jpg: 480x640 1 ship, 4 harbors, 1 swimming pool, 8.7ms\n",
      "image 83/458 /mmfs1/scratch/dsu.local/bshakya/scratch/bshakya/YOLOv11/../yolov10/datasets/DOTAv1.5/images/val/P0547.jpg: 640x512 52 large vehicles, 5 small vehicles, 8.8ms\n",
      "image 84/458 /mmfs1/scratch/dsu.local/bshakya/scratch/bshakya/YOLOv11/../yolov10/datasets/DOTAv1.5/images/val/P0550.jpg: 384x640 4 ships, 14 harbors, 8.9ms\n",
      "image 85/458 /mmfs1/scratch/dsu.local/bshakya/scratch/bshakya/YOLOv11/../yolov10/datasets/DOTAv1.5/images/val/P0551.jpg: 640x640 3 ships, 5 harbors, 1 swimming pool, 9.2ms\n",
      "image 86/458 /mmfs1/scratch/dsu.local/bshakya/scratch/bshakya/YOLOv11/../yolov10/datasets/DOTAv1.5/images/val/P0557.jpg: 352x640 6 ships, 10 harbors, 1 swimming pool, 9.1ms\n",
      "image 87/458 /mmfs1/scratch/dsu.local/bshakya/scratch/bshakya/YOLOv11/../yolov10/datasets/DOTAv1.5/images/val/P0558.jpg: 640x256 11 harbors, 14.7ms\n",
      "image 88/458 /mmfs1/scratch/dsu.local/bshakya/scratch/bshakya/YOLOv11/../yolov10/datasets/DOTAv1.5/images/val/P0559.jpg: 640x640 40 large vehicles, 19 small vehicles, 8.8ms\n",
      "image 89/458 /mmfs1/scratch/dsu.local/bshakya/scratch/bshakya/YOLOv11/../yolov10/datasets/DOTAv1.5/images/val/P0564.jpg: 640x512 1 ship, 4 harbors, 8.8ms\n",
      "image 90/458 /mmfs1/scratch/dsu.local/bshakya/scratch/bshakya/YOLOv11/../yolov10/datasets/DOTAv1.5/images/val/P0577.jpg: 640x416 2 ships, 9 harbors, 1 small vehicle, 8.8ms\n",
      "image 91/458 /mmfs1/scratch/dsu.local/bshakya/scratch/bshakya/YOLOv11/../yolov10/datasets/DOTAv1.5/images/val/P0579.jpg: 352x640 1 ship, 8 harbors, 9.0ms\n",
      "image 92/458 /mmfs1/scratch/dsu.local/bshakya/scratch/bshakya/YOLOv11/../yolov10/datasets/DOTAv1.5/images/val/P0583.jpg: 192x640 3 ships, 11 harbors, 14.8ms\n",
      "image 93/458 /mmfs1/scratch/dsu.local/bshakya/scratch/bshakya/YOLOv11/../yolov10/datasets/DOTAv1.5/images/val/P0589.jpg: 640x256 8 harbors, 8.9ms\n",
      "image 94/458 /mmfs1/scratch/dsu.local/bshakya/scratch/bshakya/YOLOv11/../yolov10/datasets/DOTAv1.5/images/val/P0590.jpg: 576x640 102 large vehicles, 59 small vehicles, 9.2ms\n",
      "image 95/458 /mmfs1/scratch/dsu.local/bshakya/scratch/bshakya/YOLOv11/../yolov10/datasets/DOTAv1.5/images/val/P0604.jpg: 416x640 2 ships, 10 harbors, 23 small vehicles, 1 swimming pool, 9.1ms\n",
      "image 96/458 /mmfs1/scratch/dsu.local/bshakya/scratch/bshakya/YOLOv11/../yolov10/datasets/DOTAv1.5/images/val/P0613.jpg: 480x640 1 ship, 6 harbors, 8.9ms\n",
      "image 97/458 /mmfs1/scratch/dsu.local/bshakya/scratch/bshakya/YOLOv11/../yolov10/datasets/DOTAv1.5/images/val/P0615.jpg: 640x640 1 ship, 9 harbors, 1 small vehicle, 8.9ms\n",
      "image 98/458 /mmfs1/scratch/dsu.local/bshakya/scratch/bshakya/YOLOv11/../yolov10/datasets/DOTAv1.5/images/val/P0622.jpg: 640x416 2 ships, 10 harbors, 3 small vehicles, 9.6ms\n",
      "image 99/458 /mmfs1/scratch/dsu.local/bshakya/scratch/bshakya/YOLOv11/../yolov10/datasets/DOTAv1.5/images/val/P0623.jpg: 640x640 29 large vehicles, 55 small vehicles, 9.1ms\n",
      "image 100/458 /mmfs1/scratch/dsu.local/bshakya/scratch/bshakya/YOLOv11/../yolov10/datasets/DOTAv1.5/images/val/P0643.jpg: 640x512 18 large vehicles, 14 small vehicles, 8.9ms\n",
      "image 101/458 /mmfs1/scratch/dsu.local/bshakya/scratch/bshakya/YOLOv11/../yolov10/datasets/DOTAv1.5/images/val/P0647.jpg: 640x512 4 tennis courts, 7 small vehicles, 8.4ms\n",
      "image 102/458 /mmfs1/scratch/dsu.local/bshakya/scratch/bshakya/YOLOv11/../yolov10/datasets/DOTAv1.5/images/val/P0650.jpg: 416x640 7 tennis courts, 1 small vehicle, 8.6ms\n",
      "image 103/458 /mmfs1/scratch/dsu.local/bshakya/scratch/bshakya/YOLOv11/../yolov10/datasets/DOTAv1.5/images/val/P0651.jpg: 640x512 15 tennis courts, 8.8ms\n",
      "image 104/458 /mmfs1/scratch/dsu.local/bshakya/scratch/bshakya/YOLOv11/../yolov10/datasets/DOTAv1.5/images/val/P0654.jpg: 640x608 21 large vehicles, 4 small vehicles, 8.9ms\n",
      "image 105/458 /mmfs1/scratch/dsu.local/bshakya/scratch/bshakya/YOLOv11/../yolov10/datasets/DOTAv1.5/images/val/P0659.jpg: 640x384 4 tennis courts, 1 basketball court, 8.8ms\n",
      "image 106/458 /mmfs1/scratch/dsu.local/bshakya/scratch/bshakya/YOLOv11/../yolov10/datasets/DOTAv1.5/images/val/P0660.jpg: 512x640 4 tennis courts, 8 small vehicles, 3 swimming pools, 8.8ms\n",
      "image 107/458 /mmfs1/scratch/dsu.local/bshakya/scratch/bshakya/YOLOv11/../yolov10/datasets/DOTAv1.5/images/val/P0665.jpg: 640x512 1 baseball diamond, 6 tennis courts, 42 small vehicles, 1 soccer ball field, 9.1ms\n",
      "image 108/458 /mmfs1/scratch/dsu.local/bshakya/scratch/bshakya/YOLOv11/../yolov10/datasets/DOTAv1.5/images/val/P0673.jpg: 640x640 4 tennis courts, 2 basketball courts, 1 soccer ball field, 9.1ms\n",
      "image 109/458 /mmfs1/scratch/dsu.local/bshakya/scratch/bshakya/YOLOv11/../yolov10/datasets/DOTAv1.5/images/val/P0683.jpg: 640x544 8 ships, 6 harbors, 19 small vehicles, 9.4ms\n",
      "image 110/458 /mmfs1/scratch/dsu.local/bshakya/scratch/bshakya/YOLOv11/../yolov10/datasets/DOTAv1.5/images/val/P0684.jpg: 640x480 13 large vehicles, 12 small vehicles, 9.2ms\n",
      "image 111/458 /mmfs1/scratch/dsu.local/bshakya/scratch/bshakya/YOLOv11/../yolov10/datasets/DOTAv1.5/images/val/P0696.jpg: 640x480 282 ships, 13 harbors, 5 small vehicles, 8.8ms\n",
      "image 112/458 /mmfs1/scratch/dsu.local/bshakya/scratch/bshakya/YOLOv11/../yolov10/datasets/DOTAv1.5/images/val/P0704.jpg: 448x640 269 ships, 16 harbors, 14 small vehicles, 1 swimming pool, 9.3ms\n",
      "image 113/458 /mmfs1/scratch/dsu.local/bshakya/scratch/bshakya/YOLOv11/../yolov10/datasets/DOTAv1.5/images/val/P0706.jpg: 640x608 286 ships, 6 harbors, 8 small vehicles, 9.3ms\n",
      "image 114/458 /mmfs1/scratch/dsu.local/bshakya/scratch/bshakya/YOLOv11/../yolov10/datasets/DOTAv1.5/images/val/P0712.jpg: 640x512 39 large vehicles, 15 small vehicles, 9.1ms\n",
      "image 115/458 /mmfs1/scratch/dsu.local/bshakya/scratch/bshakya/YOLOv11/../yolov10/datasets/DOTAv1.5/images/val/P0715.jpg: 640x544 26 ships, 28 harbors, 7 small vehicles, 3 swimming pools, 9.1ms\n",
      "image 116/458 /mmfs1/scratch/dsu.local/bshakya/scratch/bshakya/YOLOv11/../yolov10/datasets/DOTAv1.5/images/val/P0725.jpg: 448x640 28 ships, 2 storage tanks, 23 harbors, 22 small vehicles, 9.1ms\n",
      "image 117/458 /mmfs1/scratch/dsu.local/bshakya/scratch/bshakya/YOLOv11/../yolov10/datasets/DOTAv1.5/images/val/P0729.jpg: 640x320 38 ships, 22 harbors, 11 small vehicles, 1 swimming pool, 8.8ms\n",
      "image 118/458 /mmfs1/scratch/dsu.local/bshakya/scratch/bshakya/YOLOv11/../yolov10/datasets/DOTAv1.5/images/val/P0749.jpg: 384x640 38 ships, 19 harbors, 20 small vehicles, 8.9ms\n",
      "image 119/458 /mmfs1/scratch/dsu.local/bshakya/scratch/bshakya/YOLOv11/../yolov10/datasets/DOTAv1.5/images/val/P0761.jpg: 544x640 68 ships, 34 harbors, 42 small vehicles, 9.2ms\n",
      "image 120/458 /mmfs1/scratch/dsu.local/bshakya/scratch/bshakya/YOLOv11/../yolov10/datasets/DOTAv1.5/images/val/P0763.jpg: 448x640 46 ships, 53 harbors, 35 small vehicles, 9.3ms\n",
      "image 121/458 /mmfs1/scratch/dsu.local/bshakya/scratch/bshakya/YOLOv11/../yolov10/datasets/DOTAv1.5/images/val/P0764.jpg: 448x640 52 ships, 69 harbors, 32 small vehicles, 8.9ms\n",
      "image 122/458 /mmfs1/scratch/dsu.local/bshakya/scratch/bshakya/YOLOv11/../yolov10/datasets/DOTAv1.5/images/val/P0770.jpg: 544x640 3 baseball diamonds, 7 tennis courts, 1 ground track field, 50 small vehicles, 1 soccer ball field, 9 swimming pools, 9.2ms\n",
      "image 123/458 /mmfs1/scratch/dsu.local/bshakya/scratch/bshakya/YOLOv11/../yolov10/datasets/DOTAv1.5/images/val/P0787.jpg: 640x640 56 large vehicles, 30 small vehicles, 9.2ms\n",
      "image 124/458 /mmfs1/scratch/dsu.local/bshakya/scratch/bshakya/YOLOv11/../yolov10/datasets/DOTAv1.5/images/val/P0789.jpg: 448x640 240 ships, 12 harbors, 48 small vehicles, 9.1ms\n",
      "image 125/458 /mmfs1/scratch/dsu.local/bshakya/scratch/bshakya/YOLOv11/../yolov10/datasets/DOTAv1.5/images/val/P0791.jpg: 640x640 1 baseball diamond, 7 tennis courts, 77 small vehicles, 9.2ms\n",
      "image 126/458 /mmfs1/scratch/dsu.local/bshakya/scratch/bshakya/YOLOv11/../yolov10/datasets/DOTAv1.5/images/val/P0795.jpg: 640x480 283 ships, 10 harbors, 7 small vehicles, 9.3ms\n",
      "image 127/458 /mmfs1/scratch/dsu.local/bshakya/scratch/bshakya/YOLOv11/../yolov10/datasets/DOTAv1.5/images/val/P0796.jpg: 640x192 214 ships, 2 tennis courts, 13 harbors, 1 small vehicle, 2 swimming pools, 14.8ms\n",
      "image 128/458 /mmfs1/scratch/dsu.local/bshakya/scratch/bshakya/YOLOv11/../yolov10/datasets/DOTAv1.5/images/val/P0799.jpg: 640x480 275 ships, 2 tennis courts, 14 harbors, 8 small vehicles, 1 swimming pool, 9.2ms\n",
      "image 129/458 /mmfs1/scratch/dsu.local/bshakya/scratch/bshakya/YOLOv11/../yolov10/datasets/DOTAv1.5/images/val/P0801.jpg: 320x640 288 ships, 9 harbors, 3 small vehicles, 9.2ms\n",
      "image 130/458 /mmfs1/scratch/dsu.local/bshakya/scratch/bshakya/YOLOv11/../yolov10/datasets/DOTAv1.5/images/val/P0814.jpg: 256x640 7 tennis courts, 21 small vehicles, 14.9ms\n",
      "image 131/458 /mmfs1/scratch/dsu.local/bshakya/scratch/bshakya/YOLOv11/../yolov10/datasets/DOTAv1.5/images/val/P0815.jpg: 480x640 1 baseball diamond, 6 tennis courts, 8.9ms\n",
      "image 132/458 /mmfs1/scratch/dsu.local/bshakya/scratch/bshakya/YOLOv11/../yolov10/datasets/DOTAv1.5/images/val/P0816.jpg: 480x640 6 tennis courts, 31 small vehicles, 8.5ms\n",
      "image 133/458 /mmfs1/scratch/dsu.local/bshakya/scratch/bshakya/YOLOv11/../yolov10/datasets/DOTAv1.5/images/val/P0822.jpg: 320x640 6 tennis courts, 1 small vehicle, 8.7ms\n",
      "image 134/458 /mmfs1/scratch/dsu.local/bshakya/scratch/bshakya/YOLOv11/../yolov10/datasets/DOTAv1.5/images/val/P0833.jpg: 480x640 14 tennis courts, 10 basketball courts, 44 small vehicles, 8.9ms\n",
      "image 135/458 /mmfs1/scratch/dsu.local/bshakya/scratch/bshakya/YOLOv11/../yolov10/datasets/DOTAv1.5/images/val/P0837.jpg: 640x416 290 ships, 8 harbors, 2 small vehicles, 9.2ms\n",
      "image 136/458 /mmfs1/scratch/dsu.local/bshakya/scratch/bshakya/YOLOv11/../yolov10/datasets/DOTAv1.5/images/val/P0838.jpg: 640x512 292 ships, 8 harbors, 9.3ms\n",
      "image 137/458 /mmfs1/scratch/dsu.local/bshakya/scratch/bshakya/YOLOv11/../yolov10/datasets/DOTAv1.5/images/val/P0839.jpg: 640x224 285 ships, 15 harbors, 14.9ms\n",
      "image 138/458 /mmfs1/scratch/dsu.local/bshakya/scratch/bshakya/YOLOv11/../yolov10/datasets/DOTAv1.5/images/val/P0841.jpg: 640x512 24 planes, 22 small vehicles, 9.3ms\n",
      "image 139/458 /mmfs1/scratch/dsu.local/bshakya/scratch/bshakya/YOLOv11/../yolov10/datasets/DOTAv1.5/images/val/P0844.jpg: 640x512 8 tennis courts, 3 small vehicles, 8.9ms\n",
      "image 140/458 /mmfs1/scratch/dsu.local/bshakya/scratch/bshakya/YOLOv11/../yolov10/datasets/DOTAv1.5/images/val/P0858.jpg: 416x640 260 ships, 21 harbors, 19 small vehicles, 9.2ms\n",
      "image 141/458 /mmfs1/scratch/dsu.local/bshakya/scratch/bshakya/YOLOv11/../yolov10/datasets/DOTAv1.5/images/val/P0864.jpg: 448x640 256 ships, 15 harbors, 16 small vehicles, 9.4ms\n",
      "image 142/458 /mmfs1/scratch/dsu.local/bshakya/scratch/bshakya/YOLOv11/../yolov10/datasets/DOTAv1.5/images/val/P0882.jpg: 640x288 11 tennis courts, 12 small vehicles, 4 swimming pools, 9.2ms\n",
      "image 143/458 /mmfs1/scratch/dsu.local/bshakya/scratch/bshakya/YOLOv11/../yolov10/datasets/DOTAv1.5/images/val/P0887.jpg: 640x512 281 ships, 10 harbors, 9 small vehicles, 9.3ms\n",
      "image 144/458 /mmfs1/scratch/dsu.local/bshakya/scratch/bshakya/YOLOv11/../yolov10/datasets/DOTAv1.5/images/val/P0897.jpg: 640x320 277 ships, 23 harbors, 9.2ms\n",
      "image 145/458 /mmfs1/scratch/dsu.local/bshakya/scratch/bshakya/YOLOv11/../yolov10/datasets/DOTAv1.5/images/val/P0904.jpg: 608x640 5 tennis courts, 15 small vehicles, 1 roundabout, 9.6ms\n",
      "image 146/458 /mmfs1/scratch/dsu.local/bshakya/scratch/bshakya/YOLOv11/../yolov10/datasets/DOTAv1.5/images/val/P0910.jpg: 608x640 2 ships, 80 harbors, 9.5ms\n",
      "image 147/458 /mmfs1/scratch/dsu.local/bshakya/scratch/bshakya/YOLOv11/../yolov10/datasets/DOTAv1.5/images/val/P0929.jpg: 640x64 2 planes, 14.9ms\n",
      "image 148/458 /mmfs1/scratch/dsu.local/bshakya/scratch/bshakya/YOLOv11/../yolov10/datasets/DOTAv1.5/images/val/P0932.jpg: 640x640 3 ships, 15 harbors, 1 small vehicle, 9.2ms\n",
      "image 149/458 /mmfs1/scratch/dsu.local/bshakya/scratch/bshakya/YOLOv11/../yolov10/datasets/DOTAv1.5/images/val/P0936.jpg: 256x640 19 harbors, 9.2ms\n",
      "image 150/458 /mmfs1/scratch/dsu.local/bshakya/scratch/bshakya/YOLOv11/../yolov10/datasets/DOTAv1.5/images/val/P0945.jpg: 640x640 57 ships, 2 storage tanks, 50 harbors, 8 small vehicles, 1 swimming pool, 9.3ms\n",
      "image 151/458 /mmfs1/scratch/dsu.local/bshakya/scratch/bshakya/YOLOv11/../yolov10/datasets/DOTAv1.5/images/val/P0949.jpg: 192x640 20 harbors, 2 swimming pools, 9.1ms\n",
      "image 152/458 /mmfs1/scratch/dsu.local/bshakya/scratch/bshakya/YOLOv11/../yolov10/datasets/DOTAv1.5/images/val/P0953.jpg: 256x640 13 harbors, 1 swimming pool, 9.2ms\n",
      "image 153/458 /mmfs1/scratch/dsu.local/bshakya/scratch/bshakya/YOLOv11/../yolov10/datasets/DOTAv1.5/images/val/P0961.jpg: 128x640 40 harbors, 14.8ms\n",
      "image 154/458 /mmfs1/scratch/dsu.local/bshakya/scratch/bshakya/YOLOv11/../yolov10/datasets/DOTAv1.5/images/val/P0962.jpg: 224x640 1 ship, 15 harbors, 14.7ms\n",
      "image 155/458 /mmfs1/scratch/dsu.local/bshakya/scratch/bshakya/YOLOv11/../yolov10/datasets/DOTAv1.5/images/val/P0964.jpg: 224x640 1 ship, 15 harbors, 5 swimming pools, 8.7ms\n",
      "image 156/458 /mmfs1/scratch/dsu.local/bshakya/scratch/bshakya/YOLOv11/../yolov10/datasets/DOTAv1.5/images/val/P0968.jpg: 256x640 10 harbors, 1 small vehicle, 9.2ms\n",
      "image 157/458 /mmfs1/scratch/dsu.local/bshakya/scratch/bshakya/YOLOv11/../yolov10/datasets/DOTAv1.5/images/val/P0969.jpg: 576x640 9 large vehicles, 45 small vehicles, 9.1ms\n",
      "image 158/458 /mmfs1/scratch/dsu.local/bshakya/scratch/bshakya/YOLOv11/../yolov10/datasets/DOTAv1.5/images/val/P0970.jpg: 192x640 1 ship, 20 harbors, 4 small vehicles, 2 swimming pools, 9.2ms\n",
      "image 159/458 /mmfs1/scratch/dsu.local/bshakya/scratch/bshakya/YOLOv11/../yolov10/datasets/DOTAv1.5/images/val/P0974.jpg: 320x640 3 ships, 8 harbors, 9.1ms\n",
      "image 160/458 /mmfs1/scratch/dsu.local/bshakya/scratch/bshakya/YOLOv11/../yolov10/datasets/DOTAv1.5/images/val/P0977.jpg: 640x608 7 ships, 17 harbors, 4 small vehicles, 9.3ms\n",
      "image 161/458 /mmfs1/scratch/dsu.local/bshakya/scratch/bshakya/YOLOv11/../yolov10/datasets/DOTAv1.5/images/val/P0989.jpg: 640x448 1 ship, 19 harbors, 2 swimming pools, 9.2ms\n",
      "image 162/458 /mmfs1/scratch/dsu.local/bshakya/scratch/bshakya/YOLOv11/../yolov10/datasets/DOTAv1.5/images/val/P0990.jpg: 640x640 34 harbors, 3 small vehicles, 5 swimming pools, 9.3ms\n",
      "image 163/458 /mmfs1/scratch/dsu.local/bshakya/scratch/bshakya/YOLOv11/../yolov10/datasets/DOTAv1.5/images/val/P0998.jpg: 160x640 27 harbors, 14.9ms\n",
      "image 164/458 /mmfs1/scratch/dsu.local/bshakya/scratch/bshakya/YOLOv11/../yolov10/datasets/DOTAv1.5/images/val/P1005.jpg: 160x640 1 ship, 2 harbors, 8.8ms\n",
      "image 165/458 /mmfs1/scratch/dsu.local/bshakya/scratch/bshakya/YOLOv11/../yolov10/datasets/DOTAv1.5/images/val/P1007.jpg: 128x640 43 harbors, 9.2ms\n",
      "image 166/458 /mmfs1/scratch/dsu.local/bshakya/scratch/bshakya/YOLOv11/../yolov10/datasets/DOTAv1.5/images/val/P1009.jpg: 224x640 166 harbors, 9.2ms\n",
      "image 167/458 /mmfs1/scratch/dsu.local/bshakya/scratch/bshakya/YOLOv11/../yolov10/datasets/DOTAv1.5/images/val/P1014.jpg: 608x640 298 harbors, 1 small vehicle, 1 swimming pool, 9.5ms\n",
      "image 168/458 /mmfs1/scratch/dsu.local/bshakya/scratch/bshakya/YOLOv11/../yolov10/datasets/DOTAv1.5/images/val/P1021.jpg: 320x640 16 harbors, 2 large vehicles, 9.2ms\n",
      "image 169/458 /mmfs1/scratch/dsu.local/bshakya/scratch/bshakya/YOLOv11/../yolov10/datasets/DOTAv1.5/images/val/P1022.jpg: 288x640 9 harbors, 27 large vehicles, 9.2ms\n",
      "image 170/458 /mmfs1/scratch/dsu.local/bshakya/scratch/bshakya/YOLOv11/../yolov10/datasets/DOTAv1.5/images/val/P1023.jpg: 192x640 33 harbors, 9.3ms\n",
      "image 171/458 /mmfs1/scratch/dsu.local/bshakya/scratch/bshakya/YOLOv11/../yolov10/datasets/DOTAv1.5/images/val/P1029.jpg: 416x640 7 ships, 47 harbors, 1 small vehicle, 1 swimming pool, 9.2ms\n",
      "image 172/458 /mmfs1/scratch/dsu.local/bshakya/scratch/bshakya/YOLOv11/../yolov10/datasets/DOTAv1.5/images/val/P1030.jpg: 224x640 82 harbors, 9.2ms\n",
      "image 173/458 /mmfs1/scratch/dsu.local/bshakya/scratch/bshakya/YOLOv11/../yolov10/datasets/DOTAv1.5/images/val/P1051.jpg: 384x640 8 tennis courts, 130 small vehicles, 9.3ms\n",
      "image 174/458 /mmfs1/scratch/dsu.local/bshakya/scratch/bshakya/YOLOv11/../yolov10/datasets/DOTAv1.5/images/val/P1065.jpg: 384x640 36 harbors, 8.9ms\n",
      "image 175/458 /mmfs1/scratch/dsu.local/bshakya/scratch/bshakya/YOLOv11/../yolov10/datasets/DOTAv1.5/images/val/P1066.jpg: 640x352 5 ships, 15 harbors, 1 small vehicle, 9.2ms\n",
      "image 176/458 /mmfs1/scratch/dsu.local/bshakya/scratch/bshakya/YOLOv11/../yolov10/datasets/DOTAv1.5/images/val/P1075.jpg: 640x416 153 ships, 48 harbors, 3 small vehicles, 6 swimming pools, 9.2ms\n",
      "image 177/458 /mmfs1/scratch/dsu.local/bshakya/scratch/bshakya/YOLOv11/../yolov10/datasets/DOTAv1.5/images/val/P1086.jpg: 640x544 10 tennis courts, 1 small vehicle, 9.3ms\n",
      "image 178/458 /mmfs1/scratch/dsu.local/bshakya/scratch/bshakya/YOLOv11/../yolov10/datasets/DOTAv1.5/images/val/P1088.jpg: 640x544 22 planes, 6 large vehicles, 6 small vehicles, 8.9ms\n",
      "image 179/458 /mmfs1/scratch/dsu.local/bshakya/scratch/bshakya/YOLOv11/../yolov10/datasets/DOTAv1.5/images/val/P1090.jpg: 416x640 149 ships, 12 harbors, 42 small vehicles, 9.2ms\n",
      "image 180/458 /mmfs1/scratch/dsu.local/bshakya/scratch/bshakya/YOLOv11/../yolov10/datasets/DOTAv1.5/images/val/P1091.jpg: 640x640 35 large vehicles, 16 small vehicles, 9.2ms\n",
      "image 181/458 /mmfs1/scratch/dsu.local/bshakya/scratch/bshakya/YOLOv11/../yolov10/datasets/DOTAv1.5/images/val/P1095.jpg: 256x640 41 harbors, 9.3ms\n",
      "image 182/458 /mmfs1/scratch/dsu.local/bshakya/scratch/bshakya/YOLOv11/../yolov10/datasets/DOTAv1.5/images/val/P1099.jpg: 640x576 7 tennis courts, 5 small vehicles, 1 swimming pool, 9.3ms\n",
      "image 183/458 /mmfs1/scratch/dsu.local/bshakya/scratch/bshakya/YOLOv11/../yolov10/datasets/DOTAv1.5/images/val/P1101.jpg: 576x640 6 tennis courts, 2 small vehicles, 8.9ms\n",
      "image 184/458 /mmfs1/scratch/dsu.local/bshakya/scratch/bshakya/YOLOv11/../yolov10/datasets/DOTAv1.5/images/val/P1103.jpg: 640x480 27 planes, 2 small vehicles, 8.9ms\n",
      "image 185/458 /mmfs1/scratch/dsu.local/bshakya/scratch/bshakya/YOLOv11/../yolov10/datasets/DOTAv1.5/images/val/P1122.jpg: 288x640 15 planes, 9.3ms\n",
      "image 186/458 /mmfs1/scratch/dsu.local/bshakya/scratch/bshakya/YOLOv11/../yolov10/datasets/DOTAv1.5/images/val/P1128.jpg: 480x640 8 planes, 9.4ms\n",
      "image 187/458 /mmfs1/scratch/dsu.local/bshakya/scratch/bshakya/YOLOv11/../yolov10/datasets/DOTAv1.5/images/val/P1133.jpg: 640x608 (no detections), 9.2ms\n",
      "image 188/458 /mmfs1/scratch/dsu.local/bshakya/scratch/bshakya/YOLOv11/../yolov10/datasets/DOTAv1.5/images/val/P1134.jpg: 640x608 2 planes, 9.1ms\n",
      "image 189/458 /mmfs1/scratch/dsu.local/bshakya/scratch/bshakya/YOLOv11/../yolov10/datasets/DOTAv1.5/images/val/P1137.jpg: 640x384 3 planes, 9.0ms\n",
      "image 190/458 /mmfs1/scratch/dsu.local/bshakya/scratch/bshakya/YOLOv11/../yolov10/datasets/DOTAv1.5/images/val/P1138.jpg: 352x640 2 planes, 8.9ms\n",
      "image 191/458 /mmfs1/scratch/dsu.local/bshakya/scratch/bshakya/YOLOv11/../yolov10/datasets/DOTAv1.5/images/val/P1143.jpg: 608x640 17 planes, 9.8ms\n",
      "image 192/458 /mmfs1/scratch/dsu.local/bshakya/scratch/bshakya/YOLOv11/../yolov10/datasets/DOTAv1.5/images/val/P1147.jpg: 640x480 13 planes, 10.0ms\n",
      "image 193/458 /mmfs1/scratch/dsu.local/bshakya/scratch/bshakya/YOLOv11/../yolov10/datasets/DOTAv1.5/images/val/P1149.jpg: 640x512 9 planes, 9.5ms\n",
      "image 194/458 /mmfs1/scratch/dsu.local/bshakya/scratch/bshakya/YOLOv11/../yolov10/datasets/DOTAv1.5/images/val/P1154.jpg: 640x640 22 planes, 9.3ms\n",
      "image 195/458 /mmfs1/scratch/dsu.local/bshakya/scratch/bshakya/YOLOv11/../yolov10/datasets/DOTAv1.5/images/val/P1156.jpg: 576x640 14 planes, 9.3ms\n",
      "image 196/458 /mmfs1/scratch/dsu.local/bshakya/scratch/bshakya/YOLOv11/../yolov10/datasets/DOTAv1.5/images/val/P1178.jpg: 640x640 14 planes, 1 storage tank, 9.3ms\n",
      "image 197/458 /mmfs1/scratch/dsu.local/bshakya/scratch/bshakya/YOLOv11/../yolov10/datasets/DOTAv1.5/images/val/P1179.jpg: 640x640 25 planes, 1 storage tank, 6 large vehicles, 9.0ms\n",
      "image 198/458 /mmfs1/scratch/dsu.local/bshakya/scratch/bshakya/YOLOv11/../yolov10/datasets/DOTAv1.5/images/val/P1184.jpg: 640x288 (no detections), 9.4ms\n",
      "image 199/458 /mmfs1/scratch/dsu.local/bshakya/scratch/bshakya/YOLOv11/../yolov10/datasets/DOTAv1.5/images/val/P1189.jpg: 640x640 9 tennis courts, 2 basketball courts, 3 large vehicles, 35 small vehicles, 9.2ms\n",
      "image 200/458 /mmfs1/scratch/dsu.local/bshakya/scratch/bshakya/YOLOv11/../yolov10/datasets/DOTAv1.5/images/val/P1210.jpg: 640x640 (no detections), 9.0ms\n",
      "image 201/458 /mmfs1/scratch/dsu.local/bshakya/scratch/bshakya/YOLOv11/../yolov10/datasets/DOTAv1.5/images/val/P1212.jpg: 640x640 (no detections), 9.0ms\n",
      "image 202/458 /mmfs1/scratch/dsu.local/bshakya/scratch/bshakya/YOLOv11/../yolov10/datasets/DOTAv1.5/images/val/P1213.jpg: 512x640 1 ship, 9.3ms\n",
      "image 203/458 /mmfs1/scratch/dsu.local/bshakya/scratch/bshakya/YOLOv11/../yolov10/datasets/DOTAv1.5/images/val/P1219.jpg: 608x640 1 bridge, 9.4ms\n",
      "image 204/458 /mmfs1/scratch/dsu.local/bshakya/scratch/bshakya/YOLOv11/../yolov10/datasets/DOTAv1.5/images/val/P1225.jpg: 640x640 1 ship, 9.5ms\n",
      "image 205/458 /mmfs1/scratch/dsu.local/bshakya/scratch/bshakya/YOLOv11/../yolov10/datasets/DOTAv1.5/images/val/P1230.jpg: 512x640 3 bridges, 9.3ms\n",
      "image 206/458 /mmfs1/scratch/dsu.local/bshakya/scratch/bshakya/YOLOv11/../yolov10/datasets/DOTAv1.5/images/val/P1234.jpg: 640x640 2 ships, 30 storage tanks, 1 bridge, 9.3ms\n",
      "image 207/458 /mmfs1/scratch/dsu.local/bshakya/scratch/bshakya/YOLOv11/../yolov10/datasets/DOTAv1.5/images/val/P1240.jpg: 640x640 1 ground track field, 9.1ms\n",
      "image 208/458 /mmfs1/scratch/dsu.local/bshakya/scratch/bshakya/YOLOv11/../yolov10/datasets/DOTAv1.5/images/val/P1242.jpg: 640x640 2 ships, 49 storage tanks, 9.0ms\n",
      "image 209/458 /mmfs1/scratch/dsu.local/bshakya/scratch/bshakya/YOLOv11/../yolov10/datasets/DOTAv1.5/images/val/P1246.jpg: 640x640 (no detections), 9.0ms\n",
      "image 210/458 /mmfs1/scratch/dsu.local/bshakya/scratch/bshakya/YOLOv11/../yolov10/datasets/DOTAv1.5/images/val/P1257.jpg: 640x640 2 ground track fields, 8.9ms\n",
      "image 211/458 /mmfs1/scratch/dsu.local/bshakya/scratch/bshakya/YOLOv11/../yolov10/datasets/DOTAv1.5/images/val/P1266.jpg: 608x640 1 ship, 9.4ms\n",
      "image 212/458 /mmfs1/scratch/dsu.local/bshakya/scratch/bshakya/YOLOv11/../yolov10/datasets/DOTAv1.5/images/val/P1268.jpg: 608x640 1 ship, 1 harbor, 1 bridge, 9.2ms\n",
      "image 213/458 /mmfs1/scratch/dsu.local/bshakya/scratch/bshakya/YOLOv11/../yolov10/datasets/DOTAv1.5/images/val/P1269.jpg: 608x640 (no detections), 9.0ms\n",
      "image 214/458 /mmfs1/scratch/dsu.local/bshakya/scratch/bshakya/YOLOv11/../yolov10/datasets/DOTAv1.5/images/val/P1273.jpg: 448x640 4 ships, 1 bridge, 10.0ms\n",
      "image 215/458 /mmfs1/scratch/dsu.local/bshakya/scratch/bshakya/YOLOv11/../yolov10/datasets/DOTAv1.5/images/val/P1275.jpg: 640x640 23 ships, 9.4ms\n",
      "image 216/458 /mmfs1/scratch/dsu.local/bshakya/scratch/bshakya/YOLOv11/../yolov10/datasets/DOTAv1.5/images/val/P1278.jpg: 512x640 (no detections), 9.5ms\n",
      "image 217/458 /mmfs1/scratch/dsu.local/bshakya/scratch/bshakya/YOLOv11/../yolov10/datasets/DOTAv1.5/images/val/P1283.jpg: 640x640 (no detections), 9.4ms\n",
      "image 218/458 /mmfs1/scratch/dsu.local/bshakya/scratch/bshakya/YOLOv11/../yolov10/datasets/DOTAv1.5/images/val/P1314.jpg: 640x640 3 bridges, 8.9ms\n",
      "image 219/458 /mmfs1/scratch/dsu.local/bshakya/scratch/bshakya/YOLOv11/../yolov10/datasets/DOTAv1.5/images/val/P1315.jpg: 640x640 1 bridge, 9.0ms\n",
      "image 220/458 /mmfs1/scratch/dsu.local/bshakya/scratch/bshakya/YOLOv11/../yolov10/datasets/DOTAv1.5/images/val/P1323.jpg: 640x640 3 bridges, 9.0ms\n",
      "image 221/458 /mmfs1/scratch/dsu.local/bshakya/scratch/bshakya/YOLOv11/../yolov10/datasets/DOTAv1.5/images/val/P1332.jpg: 640x640 1 ship, 9.0ms\n",
      "image 222/458 /mmfs1/scratch/dsu.local/bshakya/scratch/bshakya/YOLOv11/../yolov10/datasets/DOTAv1.5/images/val/P1342.jpg: 640x640 (no detections), 8.9ms\n",
      "image 223/458 /mmfs1/scratch/dsu.local/bshakya/scratch/bshakya/YOLOv11/../yolov10/datasets/DOTAv1.5/images/val/P1356.jpg: 640x640 (no detections), 9.0ms\n",
      "image 224/458 /mmfs1/scratch/dsu.local/bshakya/scratch/bshakya/YOLOv11/../yolov10/datasets/DOTAv1.5/images/val/P1370.jpg: 640x640 (no detections), 8.9ms\n",
      "image 225/458 /mmfs1/scratch/dsu.local/bshakya/scratch/bshakya/YOLOv11/../yolov10/datasets/DOTAv1.5/images/val/P1371.jpg: 640x640 (no detections), 9.0ms\n",
      "image 226/458 /mmfs1/scratch/dsu.local/bshakya/scratch/bshakya/YOLOv11/../yolov10/datasets/DOTAv1.5/images/val/P1373.jpg: 640x640 35 planes, 9.0ms\n",
      "image 227/458 /mmfs1/scratch/dsu.local/bshakya/scratch/bshakya/YOLOv11/../yolov10/datasets/DOTAv1.5/images/val/P1376.jpg: 640x608 22 planes, 1 swimming pool, 9.5ms\n",
      "image 228/458 /mmfs1/scratch/dsu.local/bshakya/scratch/bshakya/YOLOv11/../yolov10/datasets/DOTAv1.5/images/val/P1377.jpg: 640x608 1 small vehicle, 2 roundabouts, 2 swimming pools, 9.1ms\n",
      "image 229/458 /mmfs1/scratch/dsu.local/bshakya/scratch/bshakya/YOLOv11/../yolov10/datasets/DOTAv1.5/images/val/P1380.jpg: 640x608 2 roundabouts, 4 swimming pools, 9.1ms\n",
      "image 230/458 /mmfs1/scratch/dsu.local/bshakya/scratch/bshakya/YOLOv11/../yolov10/datasets/DOTAv1.5/images/val/P1384.jpg: 640x640 1 ground track field, 9.4ms\n",
      "image 231/458 /mmfs1/scratch/dsu.local/bshakya/scratch/bshakya/YOLOv11/../yolov10/datasets/DOTAv1.5/images/val/P1386.jpg: 512x640 177 ships, 10 harbors, 9.4ms\n",
      "image 232/458 /mmfs1/scratch/dsu.local/bshakya/scratch/bshakya/YOLOv11/../yolov10/datasets/DOTAv1.5/images/val/P1390.jpg: 320x640 300 planes, 9.3ms\n",
      "image 233/458 /mmfs1/scratch/dsu.local/bshakya/scratch/bshakya/YOLOv11/../yolov10/datasets/DOTAv1.5/images/val/P1397.jpg: 288x640 300 planes, 9.4ms\n",
      "image 234/458 /mmfs1/scratch/dsu.local/bshakya/scratch/bshakya/YOLOv11/../yolov10/datasets/DOTAv1.5/images/val/P1398.jpg: 640x416 124 planes, 9.3ms\n",
      "image 235/458 /mmfs1/scratch/dsu.local/bshakya/scratch/bshakya/YOLOv11/../yolov10/datasets/DOTAv1.5/images/val/P1410.jpg: 640x576 2 baseball diamonds, 1 ground track field, 4 soccer ball fields, 1 swimming pool, 9.5ms\n",
      "image 236/458 /mmfs1/scratch/dsu.local/bshakya/scratch/bshakya/YOLOv11/../yolov10/datasets/DOTAv1.5/images/val/P1429.jpg: 576x640 28 ships, 4 harbors, 9.5ms\n",
      "image 237/458 /mmfs1/scratch/dsu.local/bshakya/scratch/bshakya/YOLOv11/../yolov10/datasets/DOTAv1.5/images/val/P1432.jpg: 640x512 1 soccer ball field, 9.4ms\n",
      "image 238/458 /mmfs1/scratch/dsu.local/bshakya/scratch/bshakya/YOLOv11/../yolov10/datasets/DOTAv1.5/images/val/P1434.jpg: 640x640 92 large vehicles, 69 small vehicles, 10.0ms\n",
      "image 239/458 /mmfs1/scratch/dsu.local/bshakya/scratch/bshakya/YOLOv11/../yolov10/datasets/DOTAv1.5/images/val/P1440.jpg: 544x640 9 basketball courts, 1 ground track field, 1 soccer ball field, 9.6ms\n",
      "image 240/458 /mmfs1/scratch/dsu.local/bshakya/scratch/bshakya/YOLOv11/../yolov10/datasets/DOTAv1.5/images/val/P1452.jpg: 640x576 27 large vehicles, 21 small vehicles, 9.2ms\n",
      "image 241/458 /mmfs1/scratch/dsu.local/bshakya/scratch/bshakya/YOLOv11/../yolov10/datasets/DOTAv1.5/images/val/P1456.jpg: 480x640 7 basketball courts, 1 ground track field, 2 soccer ball fields, 9.2ms\n",
      "image 242/458 /mmfs1/scratch/dsu.local/bshakya/scratch/bshakya/YOLOv11/../yolov10/datasets/DOTAv1.5/images/val/P1463.jpg: 544x640 3 tennis courts, 21 basketball courts, 2 ground track fields, 3 small vehicles, 2 soccer ball fields, 9.5ms\n",
      "image 243/458 /mmfs1/scratch/dsu.local/bshakya/scratch/bshakya/YOLOv11/../yolov10/datasets/DOTAv1.5/images/val/P1471.jpg: 640x640 1 tennis court, 2 ground track fields, 4 small vehicles, 3 soccer ball fields, 9.5ms\n",
      "image 244/458 /mmfs1/scratch/dsu.local/bshakya/scratch/bshakya/YOLOv11/../yolov10/datasets/DOTAv1.5/images/val/P1473.jpg: 576x640 42 large vehicles, 1 small vehicle, 9.3ms\n",
      "image 245/458 /mmfs1/scratch/dsu.local/bshakya/scratch/bshakya/YOLOv11/../yolov10/datasets/DOTAv1.5/images/val/P1474.jpg: 640x320 25 planes, 9.2ms\n",
      "image 246/458 /mmfs1/scratch/dsu.local/bshakya/scratch/bshakya/YOLOv11/../yolov10/datasets/DOTAv1.5/images/val/P1476.jpg: 544x640 60 large vehicles, 19 small vehicles, 9.3ms\n",
      "image 247/458 /mmfs1/scratch/dsu.local/bshakya/scratch/bshakya/YOLOv11/../yolov10/datasets/DOTAv1.5/images/val/P1478.jpg: 640x608 4 large vehicles, 296 small vehicles, 9.4ms\n",
      "image 248/458 /mmfs1/scratch/dsu.local/bshakya/scratch/bshakya/YOLOv11/../yolov10/datasets/DOTAv1.5/images/val/P1483.jpg: 640x608 5 planes, 1 small vehicle, 9.2ms\n",
      "image 249/458 /mmfs1/scratch/dsu.local/bshakya/scratch/bshakya/YOLOv11/../yolov10/datasets/DOTAv1.5/images/val/P1492.jpg: 640x384 10 planes, 9.3ms\n",
      "image 250/458 /mmfs1/scratch/dsu.local/bshakya/scratch/bshakya/YOLOv11/../yolov10/datasets/DOTAv1.5/images/val/P1506.jpg: 512x640 1 baseball diamond, 4 tennis courts, 2 soccer ball fields, 9.3ms\n",
      "image 251/458 /mmfs1/scratch/dsu.local/bshakya/scratch/bshakya/YOLOv11/../yolov10/datasets/DOTAv1.5/images/val/P1508.jpg: 640x288 6 planes, 9.2ms\n",
      "image 252/458 /mmfs1/scratch/dsu.local/bshakya/scratch/bshakya/YOLOv11/../yolov10/datasets/DOTAv1.5/images/val/P1512.jpg: 640x640 9 planes, 3 large vehicles, 70 small vehicles, 9.3ms\n",
      "image 253/458 /mmfs1/scratch/dsu.local/bshakya/scratch/bshakya/YOLOv11/../yolov10/datasets/DOTAv1.5/images/val/P1513.jpg: 640x416 19 planes, 11 small vehicles, 9.2ms\n",
      "image 254/458 /mmfs1/scratch/dsu.local/bshakya/scratch/bshakya/YOLOv11/../yolov10/datasets/DOTAv1.5/images/val/P1518.jpg: 640x640 (no detections), 9.4ms\n",
      "image 255/458 /mmfs1/scratch/dsu.local/bshakya/scratch/bshakya/YOLOv11/../yolov10/datasets/DOTAv1.5/images/val/P1529.jpg: 640x640 46 planes, 8.9ms\n",
      "image 256/458 /mmfs1/scratch/dsu.local/bshakya/scratch/bshakya/YOLOv11/../yolov10/datasets/DOTAv1.5/images/val/P1541.jpg: 640x640 (no detections), 9.0ms\n",
      "image 257/458 /mmfs1/scratch/dsu.local/bshakya/scratch/bshakya/YOLOv11/../yolov10/datasets/DOTAv1.5/images/val/P1542.jpg: 640x640 (no detections), 9.0ms\n",
      "image 258/458 /mmfs1/scratch/dsu.local/bshakya/scratch/bshakya/YOLOv11/../yolov10/datasets/DOTAv1.5/images/val/P1547.jpg: 640x640 (no detections), 8.9ms\n",
      "image 259/458 /mmfs1/scratch/dsu.local/bshakya/scratch/bshakya/YOLOv11/../yolov10/datasets/DOTAv1.5/images/val/P1557.jpg: 640x544 1 bridge, 9.4ms\n",
      "image 260/458 /mmfs1/scratch/dsu.local/bshakya/scratch/bshakya/YOLOv11/../yolov10/datasets/DOTAv1.5/images/val/P1560.jpg: 640x640 (no detections), 9.4ms\n",
      "image 261/458 /mmfs1/scratch/dsu.local/bshakya/scratch/bshakya/YOLOv11/../yolov10/datasets/DOTAv1.5/images/val/P1561.jpg: 608x640 (no detections), 9.5ms\n",
      "image 262/458 /mmfs1/scratch/dsu.local/bshakya/scratch/bshakya/YOLOv11/../yolov10/datasets/DOTAv1.5/images/val/P1566.jpg: 640x640 (no detections), 9.3ms\n",
      "image 263/458 /mmfs1/scratch/dsu.local/bshakya/scratch/bshakya/YOLOv11/../yolov10/datasets/DOTAv1.5/images/val/P1569.jpg: 608x640 (no detections), 9.4ms\n",
      "image 264/458 /mmfs1/scratch/dsu.local/bshakya/scratch/bshakya/YOLOv11/../yolov10/datasets/DOTAv1.5/images/val/P1570.jpg: 640x544 (no detections), 9.3ms\n",
      "image 265/458 /mmfs1/scratch/dsu.local/bshakya/scratch/bshakya/YOLOv11/../yolov10/datasets/DOTAv1.5/images/val/P1573.jpg: 640x576 (no detections), 9.3ms\n",
      "image 266/458 /mmfs1/scratch/dsu.local/bshakya/scratch/bshakya/YOLOv11/../yolov10/datasets/DOTAv1.5/images/val/P1577.jpg: 608x640 (no detections), 9.5ms\n",
      "image 267/458 /mmfs1/scratch/dsu.local/bshakya/scratch/bshakya/YOLOv11/../yolov10/datasets/DOTAv1.5/images/val/P1579.jpg: 640x640 (no detections), 9.3ms\n",
      "image 268/458 /mmfs1/scratch/dsu.local/bshakya/scratch/bshakya/YOLOv11/../yolov10/datasets/DOTAv1.5/images/val/P1581.jpg: 608x640 (no detections), 9.7ms\n",
      "image 269/458 /mmfs1/scratch/dsu.local/bshakya/scratch/bshakya/YOLOv11/../yolov10/datasets/DOTAv1.5/images/val/P1583.jpg: 640x544 (no detections), 9.3ms\n",
      "image 270/458 /mmfs1/scratch/dsu.local/bshakya/scratch/bshakya/YOLOv11/../yolov10/datasets/DOTAv1.5/images/val/P1584.jpg: 640x576 (no detections), 9.4ms\n",
      "image 271/458 /mmfs1/scratch/dsu.local/bshakya/scratch/bshakya/YOLOv11/../yolov10/datasets/DOTAv1.5/images/val/P1586.jpg: 640x640 (no detections), 9.3ms\n",
      "image 272/458 /mmfs1/scratch/dsu.local/bshakya/scratch/bshakya/YOLOv11/../yolov10/datasets/DOTAv1.5/images/val/P1596.jpg: 640x544 (no detections), 9.4ms\n",
      "image 273/458 /mmfs1/scratch/dsu.local/bshakya/scratch/bshakya/YOLOv11/../yolov10/datasets/DOTAv1.5/images/val/P1598.jpg: 640x544 (no detections), 9.1ms\n",
      "image 274/458 /mmfs1/scratch/dsu.local/bshakya/scratch/bshakya/YOLOv11/../yolov10/datasets/DOTAv1.5/images/val/P1601.jpg: 640x640 3 planes, 4 large vehicles, 9.3ms\n",
      "image 275/458 /mmfs1/scratch/dsu.local/bshakya/scratch/bshakya/YOLOv11/../yolov10/datasets/DOTAv1.5/images/val/P1604.jpg: 640x640 5 planes, 2 ground track fields, 9.0ms\n",
      "image 276/458 /mmfs1/scratch/dsu.local/bshakya/scratch/bshakya/YOLOv11/../yolov10/datasets/DOTAv1.5/images/val/P1610.jpg: 640x640 (no detections), 8.9ms\n",
      "image 277/458 /mmfs1/scratch/dsu.local/bshakya/scratch/bshakya/YOLOv11/../yolov10/datasets/DOTAv1.5/images/val/P1619.jpg: 640x640 (no detections), 9.0ms\n",
      "image 278/458 /mmfs1/scratch/dsu.local/bshakya/scratch/bshakya/YOLOv11/../yolov10/datasets/DOTAv1.5/images/val/P1623.jpg: 640x544 (no detections), 9.4ms\n",
      "image 279/458 /mmfs1/scratch/dsu.local/bshakya/scratch/bshakya/YOLOv11/../yolov10/datasets/DOTAv1.5/images/val/P1643.jpg: 640x640 1 ground track field, 9.3ms\n",
      "image 280/458 /mmfs1/scratch/dsu.local/bshakya/scratch/bshakya/YOLOv11/../yolov10/datasets/DOTAv1.5/images/val/P1647.jpg: 640x640 (no detections), 9.1ms\n",
      "image 281/458 /mmfs1/scratch/dsu.local/bshakya/scratch/bshakya/YOLOv11/../yolov10/datasets/DOTAv1.5/images/val/P1650.jpg: 608x640 1 ground track field, 9.4ms\n",
      "image 282/458 /mmfs1/scratch/dsu.local/bshakya/scratch/bshakya/YOLOv11/../yolov10/datasets/DOTAv1.5/images/val/P1651.jpg: 640x640 2 storage tanks, 9.5ms\n",
      "image 283/458 /mmfs1/scratch/dsu.local/bshakya/scratch/bshakya/YOLOv11/../yolov10/datasets/DOTAv1.5/images/val/P1666.jpg: 640x640 (no detections), 8.9ms\n",
      "image 284/458 /mmfs1/scratch/dsu.local/bshakya/scratch/bshakya/YOLOv11/../yolov10/datasets/DOTAv1.5/images/val/P1672.jpg: 640x544 3 planes, 9.4ms\n",
      "image 285/458 /mmfs1/scratch/dsu.local/bshakya/scratch/bshakya/YOLOv11/../yolov10/datasets/DOTAv1.5/images/val/P1679.jpg: 640x544 (no detections), 9.6ms\n",
      "image 286/458 /mmfs1/scratch/dsu.local/bshakya/scratch/bshakya/YOLOv11/../yolov10/datasets/DOTAv1.5/images/val/P1693.jpg: 640x640 (no detections), 9.3ms\n",
      "image 287/458 /mmfs1/scratch/dsu.local/bshakya/scratch/bshakya/YOLOv11/../yolov10/datasets/DOTAv1.5/images/val/P1699.jpg: 640x576 (no detections), 9.5ms\n",
      "image 288/458 /mmfs1/scratch/dsu.local/bshakya/scratch/bshakya/YOLOv11/../yolov10/datasets/DOTAv1.5/images/val/P1700.jpg: 640x640 (no detections), 9.4ms\n",
      "image 289/458 /mmfs1/scratch/dsu.local/bshakya/scratch/bshakya/YOLOv11/../yolov10/datasets/DOTAv1.5/images/val/P1713.jpg: 608x640 (no detections), 9.4ms\n",
      "image 290/458 /mmfs1/scratch/dsu.local/bshakya/scratch/bshakya/YOLOv11/../yolov10/datasets/DOTAv1.5/images/val/P1720.jpg: 640x640 (no detections), 9.3ms\n",
      "image 291/458 /mmfs1/scratch/dsu.local/bshakya/scratch/bshakya/YOLOv11/../yolov10/datasets/DOTAv1.5/images/val/P1732.jpg: 608x640 (no detections), 9.4ms\n",
      "image 292/458 /mmfs1/scratch/dsu.local/bshakya/scratch/bshakya/YOLOv11/../yolov10/datasets/DOTAv1.5/images/val/P1738.jpg: 640x640 (no detections), 9.3ms\n",
      "image 293/458 /mmfs1/scratch/dsu.local/bshakya/scratch/bshakya/YOLOv11/../yolov10/datasets/DOTAv1.5/images/val/P1742.jpg: 608x640 1 plane, 9.5ms\n",
      "image 294/458 /mmfs1/scratch/dsu.local/bshakya/scratch/bshakya/YOLOv11/../yolov10/datasets/DOTAv1.5/images/val/P1749.jpg: 640x640 (no detections), 9.4ms\n",
      "image 295/458 /mmfs1/scratch/dsu.local/bshakya/scratch/bshakya/YOLOv11/../yolov10/datasets/DOTAv1.5/images/val/P1750.jpg: 608x640 (no detections), 9.4ms\n",
      "image 296/458 /mmfs1/scratch/dsu.local/bshakya/scratch/bshakya/YOLOv11/../yolov10/datasets/DOTAv1.5/images/val/P1751.jpg: 640x640 1 bridge, 9.3ms\n",
      "image 297/458 /mmfs1/scratch/dsu.local/bshakya/scratch/bshakya/YOLOv11/../yolov10/datasets/DOTAv1.5/images/val/P1752.jpg: 640x640 (no detections), 9.0ms\n",
      "image 298/458 /mmfs1/scratch/dsu.local/bshakya/scratch/bshakya/YOLOv11/../yolov10/datasets/DOTAv1.5/images/val/P1754.jpg: 640x544 (no detections), 9.3ms\n",
      "image 299/458 /mmfs1/scratch/dsu.local/bshakya/scratch/bshakya/YOLOv11/../yolov10/datasets/DOTAv1.5/images/val/P1759.jpg: 640x640 (no detections), 9.3ms\n",
      "image 300/458 /mmfs1/scratch/dsu.local/bshakya/scratch/bshakya/YOLOv11/../yolov10/datasets/DOTAv1.5/images/val/P1763.jpg: 640x640 (no detections), 9.0ms\n",
      "image 301/458 /mmfs1/scratch/dsu.local/bshakya/scratch/bshakya/YOLOv11/../yolov10/datasets/DOTAv1.5/images/val/P1770.jpg: 640x544 (no detections), 9.3ms\n",
      "image 302/458 /mmfs1/scratch/dsu.local/bshakya/scratch/bshakya/YOLOv11/../yolov10/datasets/DOTAv1.5/images/val/P1786.jpg: 640x608 23 tennis courts, 1 ground track field, 1 small vehicle, 3 soccer ball fields, 1 swimming pool, 9.4ms\n",
      "image 303/458 /mmfs1/scratch/dsu.local/bshakya/scratch/bshakya/YOLOv11/../yolov10/datasets/DOTAv1.5/images/val/P1787.jpg: 640x416 34 large vehicles, 36 small vehicles, 9.2ms\n",
      "image 304/458 /mmfs1/scratch/dsu.local/bshakya/scratch/bshakya/YOLOv11/../yolov10/datasets/DOTAv1.5/images/val/P1806.jpg: 640x416 36 large vehicles, 3 small vehicles, 8.6ms\n",
      "image 305/458 /mmfs1/scratch/dsu.local/bshakya/scratch/bshakya/YOLOv11/../yolov10/datasets/DOTAv1.5/images/val/P1809.jpg: 608x640 24 planes, 2 small vehicles, 9.4ms\n",
      "image 306/458 /mmfs1/scratch/dsu.local/bshakya/scratch/bshakya/YOLOv11/../yolov10/datasets/DOTAv1.5/images/val/P1821.jpg: 640x416 90 large vehicles, 53 small vehicles, 9.4ms\n",
      "image 307/458 /mmfs1/scratch/dsu.local/bshakya/scratch/bshakya/YOLOv11/../yolov10/datasets/DOTAv1.5/images/val/P1825.jpg: 640x288 30 large vehicles, 8.8ms\n",
      "image 308/458 /mmfs1/scratch/dsu.local/bshakya/scratch/bshakya/YOLOv11/../yolov10/datasets/DOTAv1.5/images/val/P1829.jpg: 512x640 26 large vehicles, 60 small vehicles, 9.0ms\n",
      "image 309/458 /mmfs1/scratch/dsu.local/bshakya/scratch/bshakya/YOLOv11/../yolov10/datasets/DOTAv1.5/images/val/P1838.jpg: 640x512 34 large vehicles, 16 small vehicles, 9.2ms\n",
      "image 310/458 /mmfs1/scratch/dsu.local/bshakya/scratch/bshakya/YOLOv11/../yolov10/datasets/DOTAv1.5/images/val/P1854.jpg: 224x640 108 planes, 9.2ms\n",
      "image 311/458 /mmfs1/scratch/dsu.local/bshakya/scratch/bshakya/YOLOv11/../yolov10/datasets/DOTAv1.5/images/val/P1860.jpg: 576x640 9 large vehicles, 38 small vehicles, 9.4ms\n",
      "image 312/458 /mmfs1/scratch/dsu.local/bshakya/scratch/bshakya/YOLOv11/../yolov10/datasets/DOTAv1.5/images/val/P1877.jpg: 640x576 123 large vehicles, 9 small vehicles, 9.2ms\n",
      "image 313/458 /mmfs1/scratch/dsu.local/bshakya/scratch/bshakya/YOLOv11/../yolov10/datasets/DOTAv1.5/images/val/P1878.jpg: 640x416 27 tennis courts, 12 small vehicles, 8.8ms\n",
      "image 314/458 /mmfs1/scratch/dsu.local/bshakya/scratch/bshakya/YOLOv11/../yolov10/datasets/DOTAv1.5/images/val/P1880.jpg: 640x288 47 large vehicles, 2 small vehicles, 8.7ms\n",
      "image 315/458 /mmfs1/scratch/dsu.local/bshakya/scratch/bshakya/YOLOv11/../yolov10/datasets/DOTAv1.5/images/val/P1888.jpg: 512x640 53 large vehicles, 18 small vehicles, 8.7ms\n",
      "image 316/458 /mmfs1/scratch/dsu.local/bshakya/scratch/bshakya/YOLOv11/../yolov10/datasets/DOTAv1.5/images/val/P1903.jpg: 448x640 6 baseball diamonds, 5 tennis courts, 1 ground track field, 44 small vehicles, 3 soccer ball fields, 9.1ms\n",
      "image 317/458 /mmfs1/scratch/dsu.local/bshakya/scratch/bshakya/YOLOv11/../yolov10/datasets/DOTAv1.5/images/val/P1904.jpg: 512x640 58 large vehicles, 201 small vehicles, 9.0ms\n",
      "image 318/458 /mmfs1/scratch/dsu.local/bshakya/scratch/bshakya/YOLOv11/../yolov10/datasets/DOTAv1.5/images/val/P1905.jpg: 576x640 12 tennis courts, 2 large vehicles, 38 small vehicles, 8.8ms\n",
      "image 319/458 /mmfs1/scratch/dsu.local/bshakya/scratch/bshakya/YOLOv11/../yolov10/datasets/DOTAv1.5/images/val/P1911.jpg: 640x576 14 large vehicles, 42 small vehicles, 8.7ms\n",
      "image 320/458 /mmfs1/scratch/dsu.local/bshakya/scratch/bshakya/YOLOv11/../yolov10/datasets/DOTAv1.5/images/val/P1919.jpg: 640x544 14 tennis courts, 2 basketball courts, 7 small vehicles, 8.7ms\n",
      "image 321/458 /mmfs1/scratch/dsu.local/bshakya/scratch/bshakya/YOLOv11/../yolov10/datasets/DOTAv1.5/images/val/P1924.jpg: 640x480 31 large vehicles, 17 small vehicles, 8.6ms\n",
      "image 322/458 /mmfs1/scratch/dsu.local/bshakya/scratch/bshakya/YOLOv11/../yolov10/datasets/DOTAv1.5/images/val/P1940.jpg: 448x640 197 large vehicles, 21 small vehicles, 8.8ms\n",
      "image 323/458 /mmfs1/scratch/dsu.local/bshakya/scratch/bshakya/YOLOv11/../yolov10/datasets/DOTAv1.5/images/val/P1950.jpg: 512x640 64 large vehicles, 30 small vehicles, 8.8ms\n",
      "image 324/458 /mmfs1/scratch/dsu.local/bshakya/scratch/bshakya/YOLOv11/../yolov10/datasets/DOTAv1.5/images/val/P1957.jpg: 608x640 112 large vehicles, 119 small vehicles, 9.2ms\n",
      "image 325/458 /mmfs1/scratch/dsu.local/bshakya/scratch/bshakya/YOLOv11/../yolov10/datasets/DOTAv1.5/images/val/P1958.jpg: 640x448 68 large vehicles, 81 small vehicles, 9.1ms\n",
      "image 326/458 /mmfs1/scratch/dsu.local/bshakya/scratch/bshakya/YOLOv11/../yolov10/datasets/DOTAv1.5/images/val/P1960.jpg: 640x608 69 large vehicles, 68 small vehicles, 9.2ms\n",
      "image 327/458 /mmfs1/scratch/dsu.local/bshakya/scratch/bshakya/YOLOv11/../yolov10/datasets/DOTAv1.5/images/val/P1973.jpg: 544x640 107 large vehicles, 14 small vehicles, 9.1ms\n",
      "image 328/458 /mmfs1/scratch/dsu.local/bshakya/scratch/bshakya/YOLOv11/../yolov10/datasets/DOTAv1.5/images/val/P1978.jpg: 512x640 116 large vehicles, 98 small vehicles, 9.1ms\n",
      "image 329/458 /mmfs1/scratch/dsu.local/bshakya/scratch/bshakya/YOLOv11/../yolov10/datasets/DOTAv1.5/images/val/P1982.jpg: 640x640 115 large vehicles, 53 small vehicles, 9.2ms\n",
      "image 330/458 /mmfs1/scratch/dsu.local/bshakya/scratch/bshakya/YOLOv11/../yolov10/datasets/DOTAv1.5/images/val/P1983.jpg: 640x544 78 large vehicles, 222 small vehicles, 9.2ms\n",
      "image 331/458 /mmfs1/scratch/dsu.local/bshakya/scratch/bshakya/YOLOv11/../yolov10/datasets/DOTAv1.5/images/val/P1992.jpg: 640x416 66 large vehicles, 43 small vehicles, 1 roundabout, 9.0ms\n",
      "image 332/458 /mmfs1/scratch/dsu.local/bshakya/scratch/bshakya/YOLOv11/../yolov10/datasets/DOTAv1.5/images/val/P1995.jpg: 352x640 90 large vehicles, 2 small vehicles, 8.9ms\n",
      "image 333/458 /mmfs1/scratch/dsu.local/bshakya/scratch/bshakya/YOLOv11/../yolov10/datasets/DOTAv1.5/images/val/P2003.jpg: 640x448 46 large vehicles, 51 small vehicles, 9.0ms\n",
      "image 334/458 /mmfs1/scratch/dsu.local/bshakya/scratch/bshakya/YOLOv11/../yolov10/datasets/DOTAv1.5/images/val/P2011.jpg: 640x512 1 baseball diamond, 12 tennis courts, 1 ground track field, 5 small vehicles, 1 soccer ball field, 8.9ms\n",
      "image 335/458 /mmfs1/scratch/dsu.local/bshakya/scratch/bshakya/YOLOv11/../yolov10/datasets/DOTAv1.5/images/val/P2012.jpg: 640x544 3 baseball diamonds, 1 ground track field, 1 soccer ball field, 2 swimming pools, 8.7ms\n",
      "image 336/458 /mmfs1/scratch/dsu.local/bshakya/scratch/bshakya/YOLOv11/../yolov10/datasets/DOTAv1.5/images/val/P2027.jpg: 640x352 119 large vehicles, 17 small vehicles, 9.1ms\n",
      "image 337/458 /mmfs1/scratch/dsu.local/bshakya/scratch/bshakya/YOLOv11/../yolov10/datasets/DOTAv1.5/images/val/P2042.jpg: 640x544 12 large vehicles, 3 small vehicles, 9.0ms\n",
      "image 338/458 /mmfs1/scratch/dsu.local/bshakya/scratch/bshakya/YOLOv11/../yolov10/datasets/DOTAv1.5/images/val/P2044.jpg: 640x512 6 tennis courts, 2 basketball courts, 8.6ms\n",
      "image 339/458 /mmfs1/scratch/dsu.local/bshakya/scratch/bshakya/YOLOv11/../yolov10/datasets/DOTAv1.5/images/val/P2050.jpg: 640x544 8 tennis courts, 52 small vehicles, 1 swimming pool, 8.5ms\n",
      "image 340/458 /mmfs1/scratch/dsu.local/bshakya/scratch/bshakya/YOLOv11/../yolov10/datasets/DOTAv1.5/images/val/P2059.jpg: 640x320 21 ships, 1 storage tank, 11 harbors, 2 small vehicles, 8.6ms\n",
      "image 341/458 /mmfs1/scratch/dsu.local/bshakya/scratch/bshakya/YOLOv11/../yolov10/datasets/DOTAv1.5/images/val/P2068.jpg: 640x640 174 small vehicles, 8.7ms\n",
      "image 342/458 /mmfs1/scratch/dsu.local/bshakya/scratch/bshakya/YOLOv11/../yolov10/datasets/DOTAv1.5/images/val/P2082.jpg: 640x448 273 large vehicles, 27 small vehicles, 8.7ms\n",
      "image 343/458 /mmfs1/scratch/dsu.local/bshakya/scratch/bshakya/YOLOv11/../yolov10/datasets/DOTAv1.5/images/val/P2085.jpg: 320x640 3 tennis courts, 4 basketball courts, 8.6ms\n",
      "image 344/458 /mmfs1/scratch/dsu.local/bshakya/scratch/bshakya/YOLOv11/../yolov10/datasets/DOTAv1.5/images/val/P2088.jpg: 640x320 11 tennis courts, 1 large vehicle, 67 small vehicles, 8.4ms\n",
      "image 345/458 /mmfs1/scratch/dsu.local/bshakya/scratch/bshakya/YOLOv11/../yolov10/datasets/DOTAv1.5/images/val/P2093.jpg: 640x512 121 large vehicles, 22 small vehicles, 1 roundabout, 8.9ms\n",
      "image 346/458 /mmfs1/scratch/dsu.local/bshakya/scratch/bshakya/YOLOv11/../yolov10/datasets/DOTAv1.5/images/val/P2097.jpg: 576x640 2 storage tanks, 37 large vehicles, 261 small vehicles, 9.0ms\n",
      "image 347/458 /mmfs1/scratch/dsu.local/bshakya/scratch/bshakya/YOLOv11/../yolov10/datasets/DOTAv1.5/images/val/P2098.jpg: 640x544 23 tennis courts, 1 small vehicle, 8.8ms\n",
      "image 348/458 /mmfs1/scratch/dsu.local/bshakya/scratch/bshakya/YOLOv11/../yolov10/datasets/DOTAv1.5/images/val/P2111.jpg: 640x544 34 large vehicles, 37 small vehicles, 8.3ms\n",
      "image 349/458 /mmfs1/scratch/dsu.local/bshakya/scratch/bshakya/YOLOv11/../yolov10/datasets/DOTAv1.5/images/val/P2121.jpg: 640x512 1 baseball diamond, 8 tennis courts, 1 ground track field, 17 small vehicles, 1 soccer ball field, 8.6ms\n",
      "image 350/458 /mmfs1/scratch/dsu.local/bshakya/scratch/bshakya/YOLOv11/../yolov10/datasets/DOTAv1.5/images/val/P2124.jpg: 640x640 256 large vehicles, 44 small vehicles, 8.7ms\n",
      "image 351/458 /mmfs1/scratch/dsu.local/bshakya/scratch/bshakya/YOLOv11/../yolov10/datasets/DOTAv1.5/images/val/P2126.jpg: 640x544 100 large vehicles, 20 small vehicles, 8.8ms\n",
      "image 352/458 /mmfs1/scratch/dsu.local/bshakya/scratch/bshakya/YOLOv11/../yolov10/datasets/DOTAv1.5/images/val/P2129.jpg: 640x512 28 tennis courts, 43 small vehicles, 1 soccer ball field, 8.7ms\n",
      "image 353/458 /mmfs1/scratch/dsu.local/bshakya/scratch/bshakya/YOLOv11/../yolov10/datasets/DOTAv1.5/images/val/P2135.jpg: 640x640 6 tennis courts, 37 small vehicles, 8.6ms\n",
      "image 354/458 /mmfs1/scratch/dsu.local/bshakya/scratch/bshakya/YOLOv11/../yolov10/datasets/DOTAv1.5/images/val/P2150.jpg: 640x384 3 baseball diamonds, 13 tennis courts, 8 small vehicles, 8.5ms\n",
      "image 355/458 /mmfs1/scratch/dsu.local/bshakya/scratch/bshakya/YOLOv11/../yolov10/datasets/DOTAv1.5/images/val/P2152.jpg: 352x640 7 small vehicles, 1 swimming pool, 8.5ms\n",
      "image 356/458 /mmfs1/scratch/dsu.local/bshakya/scratch/bshakya/YOLOv11/../yolov10/datasets/DOTAv1.5/images/val/P2155.jpg: 608x640 109 large vehicles, 31 small vehicles, 8.6ms\n",
      "image 357/458 /mmfs1/scratch/dsu.local/bshakya/scratch/bshakya/YOLOv11/../yolov10/datasets/DOTAv1.5/images/val/P2166.jpg: 448x640 1 ground track field, 6 small vehicles, 4 soccer ball fields, 8.6ms\n",
      "image 358/458 /mmfs1/scratch/dsu.local/bshakya/scratch/bshakya/YOLOv11/../yolov10/datasets/DOTAv1.5/images/val/P2167.jpg: 544x640 1 storage tank, 8.8ms\n",
      "image 359/458 /mmfs1/scratch/dsu.local/bshakya/scratch/bshakya/YOLOv11/../yolov10/datasets/DOTAv1.5/images/val/P2168.jpg: 384x640 5 baseball diamonds, 7 tennis courts, 3 small vehicles, 3 soccer ball fields, 8.9ms\n",
      "image 360/458 /mmfs1/scratch/dsu.local/bshakya/scratch/bshakya/YOLOv11/../yolov10/datasets/DOTAv1.5/images/val/P2169.jpg: 576x640 1 ship, 8.8ms\n",
      "image 361/458 /mmfs1/scratch/dsu.local/bshakya/scratch/bshakya/YOLOv11/../yolov10/datasets/DOTAv1.5/images/val/P2181.jpg: 512x640 (no detections), 9.2ms\n",
      "image 362/458 /mmfs1/scratch/dsu.local/bshakya/scratch/bshakya/YOLOv11/../yolov10/datasets/DOTAv1.5/images/val/P2194.jpg: 640x512 3 baseball diamonds, 9 tennis courts, 1 ground track field, 29 small vehicles, 4 soccer ball fields, 9.1ms\n",
      "image 363/458 /mmfs1/scratch/dsu.local/bshakya/scratch/bshakya/YOLOv11/../yolov10/datasets/DOTAv1.5/images/val/P2197.jpg: 512x640 5 baseball diamonds, 18 tennis courts, 2 ground track fields, 26 small vehicles, 5 soccer ball fields, 9.1ms\n",
      "image 364/458 /mmfs1/scratch/dsu.local/bshakya/scratch/bshakya/YOLOv11/../yolov10/datasets/DOTAv1.5/images/val/P2198.jpg: 640x416 77 large vehicles, 40 small vehicles, 8.9ms\n",
      "image 365/458 /mmfs1/scratch/dsu.local/bshakya/scratch/bshakya/YOLOv11/../yolov10/datasets/DOTAv1.5/images/val/P2214.jpg: 448x640 53 planes, 18 small vehicles, 8.7ms\n",
      "image 366/458 /mmfs1/scratch/dsu.local/bshakya/scratch/bshakya/YOLOv11/../yolov10/datasets/DOTAv1.5/images/val/P2215.jpg: 640x576 25 planes, 3 small vehicles, 8.7ms\n",
      "image 367/458 /mmfs1/scratch/dsu.local/bshakya/scratch/bshakya/YOLOv11/../yolov10/datasets/DOTAv1.5/images/val/P2218.jpg: 544x640 13 planes, 1 small vehicle, 8.6ms\n",
      "image 368/458 /mmfs1/scratch/dsu.local/bshakya/scratch/bshakya/YOLOv11/../yolov10/datasets/DOTAv1.5/images/val/P2220.jpg: 448x640 10 planes, 58 small vehicles, 8.6ms\n",
      "image 369/458 /mmfs1/scratch/dsu.local/bshakya/scratch/bshakya/YOLOv11/../yolov10/datasets/DOTAv1.5/images/val/P2230.jpg: 320x640 18 planes, 8.9ms\n",
      "image 370/458 /mmfs1/scratch/dsu.local/bshakya/scratch/bshakya/YOLOv11/../yolov10/datasets/DOTAv1.5/images/val/P2231.jpg: 640x512 38 planes, 5 small vehicles, 9.1ms\n",
      "image 371/458 /mmfs1/scratch/dsu.local/bshakya/scratch/bshakya/YOLOv11/../yolov10/datasets/DOTAv1.5/images/val/P2236.jpg: 448x640 22 planes, 5 small vehicles, 8.9ms\n",
      "image 372/458 /mmfs1/scratch/dsu.local/bshakya/scratch/bshakya/YOLOv11/../yolov10/datasets/DOTAv1.5/images/val/P2239.jpg: 384x640 10 planes, 11 small vehicles, 8.7ms\n",
      "image 373/458 /mmfs1/scratch/dsu.local/bshakya/scratch/bshakya/YOLOv11/../yolov10/datasets/DOTAv1.5/images/val/P2241.jpg: 640x448 5 baseball diamonds, 8 tennis courts, 1 ground track field, 6 small vehicles, 1 soccer ball field, 8.5ms\n",
      "image 374/458 /mmfs1/scratch/dsu.local/bshakya/scratch/bshakya/YOLOv11/../yolov10/datasets/DOTAv1.5/images/val/P2242.jpg: 288x640 118 planes, 8.9ms\n",
      "image 375/458 /mmfs1/scratch/dsu.local/bshakya/scratch/bshakya/YOLOv11/../yolov10/datasets/DOTAv1.5/images/val/P2255.jpg: 640x576 7 baseball diamonds, 9.2ms\n",
      "image 376/458 /mmfs1/scratch/dsu.local/bshakya/scratch/bshakya/YOLOv11/../yolov10/datasets/DOTAv1.5/images/val/P2256.jpg: 224x640 4 bridges, 8.9ms\n",
      "image 377/458 /mmfs1/scratch/dsu.local/bshakya/scratch/bshakya/YOLOv11/../yolov10/datasets/DOTAv1.5/images/val/P2271.jpg: 352x640 4 planes, 1 ground track field, 2 soccer ball fields, 9.1ms\n",
      "image 378/458 /mmfs1/scratch/dsu.local/bshakya/scratch/bshakya/YOLOv11/../yolov10/datasets/DOTAv1.5/images/val/P2285.jpg: 640x608 73 ships, 9.2ms\n",
      "image 379/458 /mmfs1/scratch/dsu.local/bshakya/scratch/bshakya/YOLOv11/../yolov10/datasets/DOTAv1.5/images/val/P2286.jpg: 544x640 7 ships, 23 storage tanks, 1 ground track field, 4 harbors, 1 bridge, 9.3ms\n",
      "image 380/458 /mmfs1/scratch/dsu.local/bshakya/scratch/bshakya/YOLOv11/../yolov10/datasets/DOTAv1.5/images/val/P2294.jpg: 640x576 3 ships, 1 harbor, 9.1ms\n",
      "image 381/458 /mmfs1/scratch/dsu.local/bshakya/scratch/bshakya/YOLOv11/../yolov10/datasets/DOTAv1.5/images/val/P2310.jpg: 640x576 7 ships, 8.4ms\n",
      "image 382/458 /mmfs1/scratch/dsu.local/bshakya/scratch/bshakya/YOLOv11/../yolov10/datasets/DOTAv1.5/images/val/P2322.jpg: 512x640 5 ships, 8.5ms\n",
      "image 383/458 /mmfs1/scratch/dsu.local/bshakya/scratch/bshakya/YOLOv11/../yolov10/datasets/DOTAv1.5/images/val/P2330.jpg: 320x640 30 ships, 9.0ms\n",
      "image 384/458 /mmfs1/scratch/dsu.local/bshakya/scratch/bshakya/YOLOv11/../yolov10/datasets/DOTAv1.5/images/val/P2331.jpg: 384x640 1 ship, 1 baseball diamond, 9.2ms\n",
      "image 385/458 /mmfs1/scratch/dsu.local/bshakya/scratch/bshakya/YOLOv11/../yolov10/datasets/DOTAv1.5/images/val/P2337.jpg: 640x640 26 storage tanks, 9.1ms\n",
      "image 386/458 /mmfs1/scratch/dsu.local/bshakya/scratch/bshakya/YOLOv11/../yolov10/datasets/DOTAv1.5/images/val/P2342.jpg: 640x544 1 ground track field, 9.2ms\n",
      "image 387/458 /mmfs1/scratch/dsu.local/bshakya/scratch/bshakya/YOLOv11/../yolov10/datasets/DOTAv1.5/images/val/P2351.jpg: 608x640 1 bridge, 9.2ms\n",
      "image 388/458 /mmfs1/scratch/dsu.local/bshakya/scratch/bshakya/YOLOv11/../yolov10/datasets/DOTAv1.5/images/val/P2363.jpg: 576x640 1 storage tank, 2 bridges, 9.1ms\n",
      "image 389/458 /mmfs1/scratch/dsu.local/bshakya/scratch/bshakya/YOLOv11/../yolov10/datasets/DOTAv1.5/images/val/P2365.jpg: 544x640 2 bridges, 9.1ms\n",
      "image 390/458 /mmfs1/scratch/dsu.local/bshakya/scratch/bshakya/YOLOv11/../yolov10/datasets/DOTAv1.5/images/val/P2374.jpg: 608x640 (no detections), 9.1ms\n",
      "image 391/458 /mmfs1/scratch/dsu.local/bshakya/scratch/bshakya/YOLOv11/../yolov10/datasets/DOTAv1.5/images/val/P2375.jpg: 640x480 1 ground track field, 1 roundabout, 1 soccer ball field, 9.1ms\n",
      "image 392/458 /mmfs1/scratch/dsu.local/bshakya/scratch/bshakya/YOLOv11/../yolov10/datasets/DOTAv1.5/images/val/P2378.jpg: 576x640 (no detections), 9.0ms\n",
      "image 393/458 /mmfs1/scratch/dsu.local/bshakya/scratch/bshakya/YOLOv11/../yolov10/datasets/DOTAv1.5/images/val/P2385.jpg: 640x640 3 bridges, 9.1ms\n",
      "image 394/458 /mmfs1/scratch/dsu.local/bshakya/scratch/bshakya/YOLOv11/../yolov10/datasets/DOTAv1.5/images/val/P2393.jpg: 544x640 1 ship, 1 bridge, 9.1ms\n",
      "image 395/458 /mmfs1/scratch/dsu.local/bshakya/scratch/bshakya/YOLOv11/../yolov10/datasets/DOTAv1.5/images/val/P2394.jpg: 640x608 (no detections), 9.2ms\n",
      "image 396/458 /mmfs1/scratch/dsu.local/bshakya/scratch/bshakya/YOLOv11/../yolov10/datasets/DOTAv1.5/images/val/P2404.jpg: 480x640 (no detections), 9.9ms\n",
      "image 397/458 /mmfs1/scratch/dsu.local/bshakya/scratch/bshakya/YOLOv11/../yolov10/datasets/DOTAv1.5/images/val/P2408.jpg: 640x512 4 ground track fields, 4 soccer ball fields, 9.2ms\n",
      "image 398/458 /mmfs1/scratch/dsu.local/bshakya/scratch/bshakya/YOLOv11/../yolov10/datasets/DOTAv1.5/images/val/P2413.jpg: 608x640 1 plane, 9.3ms\n",
      "image 399/458 /mmfs1/scratch/dsu.local/bshakya/scratch/bshakya/YOLOv11/../yolov10/datasets/DOTAv1.5/images/val/P2420.jpg: 640x544 (no detections), 9.2ms\n",
      "image 400/458 /mmfs1/scratch/dsu.local/bshakya/scratch/bshakya/YOLOv11/../yolov10/datasets/DOTAv1.5/images/val/P2429.jpg: 640x512 1 harbor, 9.1ms\n",
      "image 401/458 /mmfs1/scratch/dsu.local/bshakya/scratch/bshakya/YOLOv11/../yolov10/datasets/DOTAv1.5/images/val/P2446.jpg: 640x576 1 roundabout, 9.3ms\n",
      "image 402/458 /mmfs1/scratch/dsu.local/bshakya/scratch/bshakya/YOLOv11/../yolov10/datasets/DOTAv1.5/images/val/P2449.jpg: 640x512 1 plane, 9.1ms\n",
      "image 403/458 /mmfs1/scratch/dsu.local/bshakya/scratch/bshakya/YOLOv11/../yolov10/datasets/DOTAv1.5/images/val/P2450.jpg: 640x640 (no detections), 9.1ms\n",
      "image 404/458 /mmfs1/scratch/dsu.local/bshakya/scratch/bshakya/YOLOv11/../yolov10/datasets/DOTAv1.5/images/val/P2455.jpg: 640x544 1 small vehicle, 1 swimming pool, 9.1ms\n",
      "image 405/458 /mmfs1/scratch/dsu.local/bshakya/scratch/bshakya/YOLOv11/../yolov10/datasets/DOTAv1.5/images/val/P2462.jpg: 640x576 (no detections), 9.2ms\n",
      "image 406/458 /mmfs1/scratch/dsu.local/bshakya/scratch/bshakya/YOLOv11/../yolov10/datasets/DOTAv1.5/images/val/P2477.jpg: 640x512 (no detections), 9.1ms\n",
      "image 407/458 /mmfs1/scratch/dsu.local/bshakya/scratch/bshakya/YOLOv11/../yolov10/datasets/DOTAv1.5/images/val/P2478.jpg: 608x640 (no detections), 9.1ms\n",
      "image 408/458 /mmfs1/scratch/dsu.local/bshakya/scratch/bshakya/YOLOv11/../yolov10/datasets/DOTAv1.5/images/val/P2481.jpg: 640x608 (no detections), 9.1ms\n",
      "image 409/458 /mmfs1/scratch/dsu.local/bshakya/scratch/bshakya/YOLOv11/../yolov10/datasets/DOTAv1.5/images/val/P2488.jpg: 640x608 (no detections), 8.8ms\n",
      "image 410/458 /mmfs1/scratch/dsu.local/bshakya/scratch/bshakya/YOLOv11/../yolov10/datasets/DOTAv1.5/images/val/P2502.jpg: 480x640 4 ground track fields, 1 soccer ball field, 9.1ms\n",
      "image 411/458 /mmfs1/scratch/dsu.local/bshakya/scratch/bshakya/YOLOv11/../yolov10/datasets/DOTAv1.5/images/val/P2504.jpg: 640x512 1 ground track field, 1 soccer ball field, 9.3ms\n",
      "image 412/458 /mmfs1/scratch/dsu.local/bshakya/scratch/bshakya/YOLOv11/../yolov10/datasets/DOTAv1.5/images/val/P2539.jpg: 640x544 1 ground track field, 9.2ms\n",
      "image 413/458 /mmfs1/scratch/dsu.local/bshakya/scratch/bshakya/YOLOv11/../yolov10/datasets/DOTAv1.5/images/val/P2541.jpg: 640x640 2 soccer ball fields, 9.1ms\n",
      "image 414/458 /mmfs1/scratch/dsu.local/bshakya/scratch/bshakya/YOLOv11/../yolov10/datasets/DOTAv1.5/images/val/P2542.jpg: 640x544 1 ground track field, 9.1ms\n",
      "image 415/458 /mmfs1/scratch/dsu.local/bshakya/scratch/bshakya/YOLOv11/../yolov10/datasets/DOTAv1.5/images/val/P2547.jpg: 416x640 (no detections), 9.0ms\n",
      "image 416/458 /mmfs1/scratch/dsu.local/bshakya/scratch/bshakya/YOLOv11/../yolov10/datasets/DOTAv1.5/images/val/P2563.jpg: 416x640 9 tennis courts, 1 ground track field, 1 small vehicle, 2 soccer ball fields, 8.7ms\n",
      "image 417/458 /mmfs1/scratch/dsu.local/bshakya/scratch/bshakya/YOLOv11/../yolov10/datasets/DOTAv1.5/images/val/P2570.jpg: 544x640 1 ground track field, 22 small vehicles, 6 soccer ball fields, 9.1ms\n",
      "image 418/458 /mmfs1/scratch/dsu.local/bshakya/scratch/bshakya/YOLOv11/../yolov10/datasets/DOTAv1.5/images/val/P2571.jpg: 640x480 9 tennis courts, 3 large vehicles, 12 small vehicles, 9.1ms\n",
      "image 419/458 /mmfs1/scratch/dsu.local/bshakya/scratch/bshakya/YOLOv11/../yolov10/datasets/DOTAv1.5/images/val/P2577.jpg: 544x640 8 tennis courts, 9.0ms\n",
      "image 420/458 /mmfs1/scratch/dsu.local/bshakya/scratch/bshakya/YOLOv11/../yolov10/datasets/DOTAv1.5/images/val/P2580.jpg: 640x320 20 tennis courts, 1 ground track field, 27 small vehicles, 2 soccer ball fields, 8.8ms\n",
      "image 421/458 /mmfs1/scratch/dsu.local/bshakya/scratch/bshakya/YOLOv11/../yolov10/datasets/DOTAv1.5/images/val/P2582.jpg: 640x640 10 tennis courts, 62 small vehicles, 5 soccer ball fields, 9.1ms\n",
      "image 422/458 /mmfs1/scratch/dsu.local/bshakya/scratch/bshakya/YOLOv11/../yolov10/datasets/DOTAv1.5/images/val/P2587.jpg: 480x640 18 tennis courts, 15 small vehicles, 2 soccer ball fields, 9.2ms\n",
      "image 423/458 /mmfs1/scratch/dsu.local/bshakya/scratch/bshakya/YOLOv11/../yolov10/datasets/DOTAv1.5/images/val/P2592.jpg: 480x640 14 tennis courts, 1 ground track field, 23 small vehicles, 5 soccer ball fields, 8.8ms\n",
      "image 424/458 /mmfs1/scratch/dsu.local/bshakya/scratch/bshakya/YOLOv11/../yolov10/datasets/DOTAv1.5/images/val/P2593.jpg: 640x480 1 baseball diamond, 11 tennis courts, 1 ground track field, 7 small vehicles, 2 soccer ball fields, 9.0ms\n",
      "image 425/458 /mmfs1/scratch/dsu.local/bshakya/scratch/bshakya/YOLOv11/../yolov10/datasets/DOTAv1.5/images/val/P2595.jpg: 640x384 10 tennis courts, 1 ground track field, 2 small vehicles, 2 soccer ball fields, 9.0ms\n",
      "image 426/458 /mmfs1/scratch/dsu.local/bshakya/scratch/bshakya/YOLOv11/../yolov10/datasets/DOTAv1.5/images/val/P2598.jpg: 576x640 6 tennis courts, 1 ground track field, 33 small vehicles, 2 soccer ball fields, 9.1ms\n",
      "image 427/458 /mmfs1/scratch/dsu.local/bshakya/scratch/bshakya/YOLOv11/../yolov10/datasets/DOTAv1.5/images/val/P2599.jpg: 640x640 14 tennis courts, 7 small vehicles, 9.1ms\n",
      "image 428/458 /mmfs1/scratch/dsu.local/bshakya/scratch/bshakya/YOLOv11/../yolov10/datasets/DOTAv1.5/images/val/P2608.jpg: 640x576 5 large vehicles, 155 small vehicles, 9.1ms\n",
      "image 429/458 /mmfs1/scratch/dsu.local/bshakya/scratch/bshakya/YOLOv11/../yolov10/datasets/DOTAv1.5/images/val/P2610.jpg: 640x512 36 large vehicles, 73 small vehicles, 9.2ms\n",
      "image 430/458 /mmfs1/scratch/dsu.local/bshakya/scratch/bshakya/YOLOv11/../yolov10/datasets/DOTAv1.5/images/val/P2617.jpg: 608x640 38 large vehicles, 1 small vehicle, 9.2ms\n",
      "image 431/458 /mmfs1/scratch/dsu.local/bshakya/scratch/bshakya/YOLOv11/../yolov10/datasets/DOTAv1.5/images/val/P2625.jpg: 384x640 268 large vehicles, 16 small vehicles, 9.1ms\n",
      "image 432/458 /mmfs1/scratch/dsu.local/bshakya/scratch/bshakya/YOLOv11/../yolov10/datasets/DOTAv1.5/images/val/P2630.jpg: 512x640 74 large vehicles, 44 small vehicles, 9.2ms\n",
      "image 433/458 /mmfs1/scratch/dsu.local/bshakya/scratch/bshakya/YOLOv11/../yolov10/datasets/DOTAv1.5/images/val/P2645.jpg: 480x640 11 ships, 209 storage tanks, 9.1ms\n",
      "image 434/458 /mmfs1/scratch/dsu.local/bshakya/scratch/bshakya/YOLOv11/../yolov10/datasets/DOTAv1.5/images/val/P2678.jpg: 416x640 41 ships, 12 storage tanks, 9.1ms\n",
      "image 435/458 /mmfs1/scratch/dsu.local/bshakya/scratch/bshakya/YOLOv11/../yolov10/datasets/DOTAv1.5/images/val/P2689.jpg: 384x640 17 planes, 9.2ms\n",
      "image 436/458 /mmfs1/scratch/dsu.local/bshakya/scratch/bshakya/YOLOv11/../yolov10/datasets/DOTAv1.5/images/val/P2695.jpg: 384x640 31 storage tanks, 1 bridge, 8.8ms\n",
      "image 437/458 /mmfs1/scratch/dsu.local/bshakya/scratch/bshakya/YOLOv11/../yolov10/datasets/DOTAv1.5/images/val/P2701.jpg: 448x640 5 ships, 61 storage tanks, 9.1ms\n",
      "image 438/458 /mmfs1/scratch/dsu.local/bshakya/scratch/bshakya/YOLOv11/../yolov10/datasets/DOTAv1.5/images/val/P2709.jpg: 544x640 8 ships, 92 storage tanks, 9.2ms\n",
      "image 439/458 /mmfs1/scratch/dsu.local/bshakya/scratch/bshakya/YOLOv11/../yolov10/datasets/DOTAv1.5/images/val/P2714.jpg: 352x640 (no detections), 9.1ms\n",
      "image 440/458 /mmfs1/scratch/dsu.local/bshakya/scratch/bshakya/YOLOv11/../yolov10/datasets/DOTAv1.5/images/val/P2718.jpg: 352x640 (no detections), 8.7ms\n",
      "image 441/458 /mmfs1/scratch/dsu.local/bshakya/scratch/bshakya/YOLOv11/../yolov10/datasets/DOTAv1.5/images/val/P2721.jpg: 352x640 (no detections), 8.7ms\n",
      "image 442/458 /mmfs1/scratch/dsu.local/bshakya/scratch/bshakya/YOLOv11/../yolov10/datasets/DOTAv1.5/images/val/P2722.jpg: 416x640 (no detections), 9.0ms\n",
      "image 443/458 /mmfs1/scratch/dsu.local/bshakya/scratch/bshakya/YOLOv11/../yolov10/datasets/DOTAv1.5/images/val/P2724.jpg: 352x640 (no detections), 9.0ms\n",
      "image 444/458 /mmfs1/scratch/dsu.local/bshakya/scratch/bshakya/YOLOv11/../yolov10/datasets/DOTAv1.5/images/val/P2726.jpg: 608x640 56 ships, 7 harbors, 9.1ms\n",
      "image 445/458 /mmfs1/scratch/dsu.local/bshakya/scratch/bshakya/YOLOv11/../yolov10/datasets/DOTAv1.5/images/val/P2733.jpg: 608x640 3 ships, 1 roundabout, 8.8ms\n",
      "image 446/458 /mmfs1/scratch/dsu.local/bshakya/scratch/bshakya/YOLOv11/../yolov10/datasets/DOTAv1.5/images/val/P2745.jpg: 448x640 32 storage tanks, 9.1ms\n",
      "image 447/458 /mmfs1/scratch/dsu.local/bshakya/scratch/bshakya/YOLOv11/../yolov10/datasets/DOTAv1.5/images/val/P2754.jpg: 640x608 2 ground track fields, 3 soccer ball fields, 6 swimming pools, 9.2ms\n",
      "image 448/458 /mmfs1/scratch/dsu.local/bshakya/scratch/bshakya/YOLOv11/../yolov10/datasets/DOTAv1.5/images/val/P2758.jpg: 384x640 23 ships, 9.2ms\n",
      "image 449/458 /mmfs1/scratch/dsu.local/bshakya/scratch/bshakya/YOLOv11/../yolov10/datasets/DOTAv1.5/images/val/P2766.jpg: 640x640 (no detections), 9.2ms\n",
      "image 450/458 /mmfs1/scratch/dsu.local/bshakya/scratch/bshakya/YOLOv11/../yolov10/datasets/DOTAv1.5/images/val/P2768.jpg: 640x416 1 ground track field, 9.1ms\n",
      "image 451/458 /mmfs1/scratch/dsu.local/bshakya/scratch/bshakya/YOLOv11/../yolov10/datasets/DOTAv1.5/images/val/P2771.jpg: 512x640 30 ships, 9.2ms\n",
      "image 452/458 /mmfs1/scratch/dsu.local/bshakya/scratch/bshakya/YOLOv11/../yolov10/datasets/DOTAv1.5/images/val/P2778.jpg: 640x512 15 planes, 9.1ms\n",
      "image 453/458 /mmfs1/scratch/dsu.local/bshakya/scratch/bshakya/YOLOv11/../yolov10/datasets/DOTAv1.5/images/val/P2779.jpg: 576x640 66 large vehicles, 23 small vehicles, 9.2ms\n",
      "image 454/458 /mmfs1/scratch/dsu.local/bshakya/scratch/bshakya/YOLOv11/../yolov10/datasets/DOTAv1.5/images/val/P2781.jpg: 416x640 172 large vehicles, 60 small vehicles, 9.1ms\n",
      "image 455/458 /mmfs1/scratch/dsu.local/bshakya/scratch/bshakya/YOLOv11/../yolov10/datasets/DOTAv1.5/images/val/P2789.jpg: 640x640 14 ships, 11 harbors, 9.2ms\n",
      "image 456/458 /mmfs1/scratch/dsu.local/bshakya/scratch/bshakya/YOLOv11/../yolov10/datasets/DOTAv1.5/images/val/P2791.jpg: 640x544 26 planes, 3 swimming pools, 9.3ms\n",
      "image 457/458 /mmfs1/scratch/dsu.local/bshakya/scratch/bshakya/YOLOv11/../yolov10/datasets/DOTAv1.5/images/val/P2794.jpg: 640x640 1 ship, 1 ground track field, 3 large vehicles, 10 small vehicles, 1 soccer ball field, 9.2ms\n",
      "image 458/458 /mmfs1/scratch/dsu.local/bshakya/scratch/bshakya/YOLOv11/../yolov10/datasets/DOTAv1.5/images/val/P2802.jpg: 576x640 38 planes, 1 roundabout, 9.2ms\n",
      "Speed: 1.9ms preprocess, 9.6ms inference, 0.7ms postprocess per image at shape (1, 3, 576, 640)\n",
      "Results saved to \u001b[1mruns/detect/predict11\u001b[0m\n",
      "💡 Learn more at https://docs.ultralytics.com/modes/predict\n"
     ]
    }
   ],
   "source": [
    "!yolo predict model=runs/detect/train31/weights/last.pt source='../yolov10/datasets/DOTAv1.5/images/val/'"
   ]
  },
  {
   "cell_type": "code",
   "execution_count": 22,
   "metadata": {},
   "outputs": [
    {
     "name": "stdout",
     "output_type": "stream",
     "text": [
      "Ultralytics 8.3.68 🚀 Python-3.10.15 torch-1.12.1+cu113 CUDA:0 (NVIDIA A100 80GB PCIe, 81229MiB)\n",
      "YOLO11n summary (fused): 238 layers, 2,585,272 parameters, 0 gradients, 6.3 GFLOPs\n",
      "\n",
      "image 1/937 /mmfs1/scratch/dsu.local/bshakya/scratch/bshakya/YOLOv11/../yolov10/datasets/DOTAv1.5/images/test/P0006.jpg: 640x448 168 large vehicles, 5 small vehicles, 15.7ms\n",
      "image 2/937 /mmfs1/scratch/dsu.local/bshakya/scratch/bshakya/YOLOv11/../yolov10/datasets/DOTAv1.5/images/test/P0009.jpg: 640x448 123 large vehicles, 3 small vehicles, 9.1ms\n",
      "image 3/937 /mmfs1/scratch/dsu.local/bshakya/scratch/bshakya/YOLOv11/../yolov10/datasets/DOTAv1.5/images/test/P0014.jpg: 544x640 57 large vehicles, 11 small vehicles, 16.1ms\n",
      "image 4/937 /mmfs1/scratch/dsu.local/bshakya/scratch/bshakya/YOLOv11/../yolov10/datasets/DOTAv1.5/images/test/P0015.jpg: 640x640 73 large vehicles, 54 small vehicles, 9.7ms\n",
      "image 5/937 /mmfs1/scratch/dsu.local/bshakya/scratch/bshakya/YOLOv11/../yolov10/datasets/DOTAv1.5/images/test/P0016.jpg: 640x416 70 large vehicles, 1 small vehicle, 15.2ms\n",
      "image 6/937 /mmfs1/scratch/dsu.local/bshakya/scratch/bshakya/YOLOv11/../yolov10/datasets/DOTAv1.5/images/test/P0017.jpg: 640x320 44 planes, 2 small vehicles, 15.1ms\n",
      "image 7/937 /mmfs1/scratch/dsu.local/bshakya/scratch/bshakya/YOLOv11/../yolov10/datasets/DOTAv1.5/images/test/P0024.jpg: 640x448 38 planes, 11 small vehicles, 12.1ms\n",
      "image 8/937 /mmfs1/scratch/dsu.local/bshakya/scratch/bshakya/YOLOv11/../yolov10/datasets/DOTAv1.5/images/test/P0026.jpg: 640x480 58 harbors, 1 small vehicle, 3 swimming pools, 15.9ms\n",
      "image 9/937 /mmfs1/scratch/dsu.local/bshakya/scratch/bshakya/YOLOv11/../yolov10/datasets/DOTAv1.5/images/test/P0028.jpg: 448x640 68 harbors, 1 small vehicle, 1 swimming pool, 15.3ms\n",
      "image 10/937 /mmfs1/scratch/dsu.local/bshakya/scratch/bshakya/YOLOv11/../yolov10/datasets/DOTAv1.5/images/test/P0031.jpg: 480x640 290 ships, 10 harbors, 15.5ms\n",
      "image 11/937 /mmfs1/scratch/dsu.local/bshakya/scratch/bshakya/YOLOv11/../yolov10/datasets/DOTAv1.5/images/test/P0033.jpg: 448x640 21 planes, 1 storage tank, 9.4ms\n",
      "image 12/937 /mmfs1/scratch/dsu.local/bshakya/scratch/bshakya/YOLOv11/../yolov10/datasets/DOTAv1.5/images/test/P0034.jpg: 480x640 19 planes, 9.4ms\n",
      "image 13/937 /mmfs1/scratch/dsu.local/bshakya/scratch/bshakya/YOLOv11/../yolov10/datasets/DOTAv1.5/images/test/P0035.jpg: 512x640 12 planes, 15.5ms\n",
      "image 14/937 /mmfs1/scratch/dsu.local/bshakya/scratch/bshakya/YOLOv11/../yolov10/datasets/DOTAv1.5/images/test/P0037.jpg: 640x640 26 planes, 9.3ms\n",
      "image 15/937 /mmfs1/scratch/dsu.local/bshakya/scratch/bshakya/YOLOv11/../yolov10/datasets/DOTAv1.5/images/test/P0040.jpg: 640x288 29 planes, 15.7ms\n",
      "image 16/937 /mmfs1/scratch/dsu.local/bshakya/scratch/bshakya/YOLOv11/../yolov10/datasets/DOTAv1.5/images/test/P0043.jpg: 640x448 43 planes, 1 small vehicle, 9.4ms\n",
      "image 17/937 /mmfs1/scratch/dsu.local/bshakya/scratch/bshakya/YOLOv11/../yolov10/datasets/DOTAv1.5/images/test/P0045.jpg: 640x480 5 baseball diamonds, 9 tennis courts, 75 small vehicles, 9.3ms\n",
      "image 18/937 /mmfs1/scratch/dsu.local/bshakya/scratch/bshakya/YOLOv11/../yolov10/datasets/DOTAv1.5/images/test/P0046.jpg: 640x416 4 baseball diamonds, 1 ground track field, 16 small vehicles, 1 soccer ball field, 9.2ms\n",
      "image 19/937 /mmfs1/scratch/dsu.local/bshakya/scratch/bshakya/YOLOv11/../yolov10/datasets/DOTAv1.5/images/test/P0048.jpg: 640x544 3 baseball diamonds, 42 tennis courts, 20 small vehicles, 2 soccer ball fields, 1 swimming pool, 15.4ms\n",
      "image 20/937 /mmfs1/scratch/dsu.local/bshakya/scratch/bshakya/YOLOv11/../yolov10/datasets/DOTAv1.5/images/test/P0051.jpg: 640x576 18 baseball diamonds, 4 tennis courts, 31 soccer ball fields, 15.8ms\n",
      "image 21/937 /mmfs1/scratch/dsu.local/bshakya/scratch/bshakya/YOLOv11/../yolov10/datasets/DOTAv1.5/images/test/P0055.jpg: 640x640 98 large vehicles, 29 small vehicles, 9.4ms\n",
      "image 22/937 /mmfs1/scratch/dsu.local/bshakya/scratch/bshakya/YOLOv11/../yolov10/datasets/DOTAv1.5/images/test/P0057.jpg: 608x640 104 large vehicles, 73 small vehicles, 15.5ms\n",
      "image 23/937 /mmfs1/scratch/dsu.local/bshakya/scratch/bshakya/YOLOv11/../yolov10/datasets/DOTAv1.5/images/test/P0059.jpg: 608x640 210 swimming pools, 9.1ms\n",
      "image 24/937 /mmfs1/scratch/dsu.local/bshakya/scratch/bshakya/YOLOv11/../yolov10/datasets/DOTAv1.5/images/test/P0062.jpg: 640x480 25 small vehicles, 120 swimming pools, 9.5ms\n",
      "image 25/937 /mmfs1/scratch/dsu.local/bshakya/scratch/bshakya/YOLOv11/../yolov10/datasets/DOTAv1.5/images/test/P0069.jpg: 640x384 1 small vehicle, 1 roundabout, 16.1ms\n",
      "image 26/937 /mmfs1/scratch/dsu.local/bshakya/scratch/bshakya/YOLOv11/../yolov10/datasets/DOTAv1.5/images/test/P0072.jpg: 640x640 3 small vehicles, 1 roundabout, 9.1ms\n",
      "image 27/937 /mmfs1/scratch/dsu.local/bshakya/scratch/bshakya/YOLOv11/../yolov10/datasets/DOTAv1.5/images/test/P0073.jpg: 640x512 6 small vehicles, 1 roundabout, 14.8ms\n",
      "image 28/937 /mmfs1/scratch/dsu.local/bshakya/scratch/bshakya/YOLOv11/../yolov10/datasets/DOTAv1.5/images/test/P0077.jpg: 640x512 1 small vehicle, 2 roundabouts, 8.4ms\n",
      "image 29/937 /mmfs1/scratch/dsu.local/bshakya/scratch/bshakya/YOLOv11/../yolov10/datasets/DOTAv1.5/images/test/P0080.jpg: 640x512 1 small vehicle, 1 roundabout, 8.3ms\n",
      "image 30/937 /mmfs1/scratch/dsu.local/bshakya/scratch/bshakya/YOLOv11/../yolov10/datasets/DOTAv1.5/images/test/P0084.jpg: 608x640 1 large vehicle, 22 small vehicles, 2 roundabouts, 9.2ms\n",
      "image 31/937 /mmfs1/scratch/dsu.local/bshakya/scratch/bshakya/YOLOv11/../yolov10/datasets/DOTAv1.5/images/test/P0088.jpg: 640x544 1 large vehicle, 81 small vehicles, 9.4ms\n",
      "image 32/937 /mmfs1/scratch/dsu.local/bshakya/scratch/bshakya/YOLOv11/../yolov10/datasets/DOTAv1.5/images/test/P0089.jpg: 608x640 17 baseball diamonds, 9.4ms\n",
      "image 33/937 /mmfs1/scratch/dsu.local/bshakya/scratch/bshakya/YOLOv11/../yolov10/datasets/DOTAv1.5/images/test/P0090.jpg: 640x544 2 baseball diamonds, 9.4ms\n",
      "image 34/937 /mmfs1/scratch/dsu.local/bshakya/scratch/bshakya/YOLOv11/../yolov10/datasets/DOTAv1.5/images/test/P0092.jpg: 352x640 7 baseball diamonds, 6 tennis courts, 4 small vehicles, 2 swimming pools, 15.0ms\n",
      "image 35/937 /mmfs1/scratch/dsu.local/bshakya/scratch/bshakya/YOLOv11/../yolov10/datasets/DOTAv1.5/images/test/P0097.jpg: 640x640 1 small vehicle, 1 roundabout, 9.2ms\n",
      "image 36/937 /mmfs1/scratch/dsu.local/bshakya/scratch/bshakya/YOLOv11/../yolov10/datasets/DOTAv1.5/images/test/P0101.jpg: 576x640 5 small vehicles, 1 roundabout, 15.0ms\n",
      "image 37/937 /mmfs1/scratch/dsu.local/bshakya/scratch/bshakya/YOLOv11/../yolov10/datasets/DOTAv1.5/images/test/P0102.jpg: 640x512 7 small vehicles, 1 roundabout, 8.8ms\n",
      "image 38/937 /mmfs1/scratch/dsu.local/bshakya/scratch/bshakya/YOLOv11/../yolov10/datasets/DOTAv1.5/images/test/P0105.jpg: 640x512 22 small vehicles, 1 roundabout, 8.4ms\n",
      "image 39/937 /mmfs1/scratch/dsu.local/bshakya/scratch/bshakya/YOLOv11/../yolov10/datasets/DOTAv1.5/images/test/P0106.jpg: 640x640 13 small vehicles, 1 roundabout, 1 swimming pool, 8.9ms\n",
      "image 40/937 /mmfs1/scratch/dsu.local/bshakya/scratch/bshakya/YOLOv11/../yolov10/datasets/DOTAv1.5/images/test/P0107.jpg: 640x512 1 basketball court, 10 small vehicles, 1 roundabout, 8.8ms\n",
      "image 41/937 /mmfs1/scratch/dsu.local/bshakya/scratch/bshakya/YOLOv11/../yolov10/datasets/DOTAv1.5/images/test/P0108.jpg: 640x512 24 small vehicles, 1 roundabout, 8.4ms\n",
      "image 42/937 /mmfs1/scratch/dsu.local/bshakya/scratch/bshakya/YOLOv11/../yolov10/datasets/DOTAv1.5/images/test/P0112.jpg: 416x640 164 swimming pools, 15.1ms\n",
      "image 43/937 /mmfs1/scratch/dsu.local/bshakya/scratch/bshakya/YOLOv11/../yolov10/datasets/DOTAv1.5/images/test/P0114.jpg: 640x416 3 tennis courts, 55 small vehicles, 9.3ms\n",
      "image 44/937 /mmfs1/scratch/dsu.local/bshakya/scratch/bshakya/YOLOv11/../yolov10/datasets/DOTAv1.5/images/test/P0115.jpg: 640x512 1 ground track field, 37 small vehicles, 1 soccer ball field, 9.0ms\n",
      "image 45/937 /mmfs1/scratch/dsu.local/bshakya/scratch/bshakya/YOLOv11/../yolov10/datasets/DOTAv1.5/images/test/P0118.jpg: 640x544 37 small vehicles, 9.0ms\n",
      "image 46/937 /mmfs1/scratch/dsu.local/bshakya/scratch/bshakya/YOLOv11/../yolov10/datasets/DOTAv1.5/images/test/P0120.jpg: 640x640 127 small vehicles, 8.9ms\n",
      "image 47/937 /mmfs1/scratch/dsu.local/bshakya/scratch/bshakya/YOLOv11/../yolov10/datasets/DOTAv1.5/images/test/P0121.jpg: 640x640 7 tennis courts, 3 small vehicles, 8.8ms\n",
      "image 48/937 /mmfs1/scratch/dsu.local/bshakya/scratch/bshakya/YOLOv11/../yolov10/datasets/DOTAv1.5/images/test/P0125.jpg: 640x640 1 baseball diamond, 9 tennis courts, 1 ground track field, 3 large vehicles, 76 small vehicles, 1 soccer ball field, 8.9ms\n",
      "image 49/937 /mmfs1/scratch/dsu.local/bshakya/scratch/bshakya/YOLOv11/../yolov10/datasets/DOTAv1.5/images/test/P0127.jpg: 640x608 1 ground track field, 15.2ms\n",
      "image 50/937 /mmfs1/scratch/dsu.local/bshakya/scratch/bshakya/YOLOv11/../yolov10/datasets/DOTAv1.5/images/test/P0132.jpg: 416x640 1 baseball diamond, 8 tennis courts, 1 ground track field, 7 small vehicles, 1 soccer ball field, 4 swimming pools, 9.1ms\n",
      "image 51/937 /mmfs1/scratch/dsu.local/bshakya/scratch/bshakya/YOLOv11/../yolov10/datasets/DOTAv1.5/images/test/P0134.jpg: 384x640 10 small vehicles, 64 swimming pools, 15.1ms\n",
      "image 52/937 /mmfs1/scratch/dsu.local/bshakya/scratch/bshakya/YOLOv11/../yolov10/datasets/DOTAv1.5/images/test/P0135.jpg: 640x576 4 tennis courts, 1 large vehicle, 118 small vehicles, 1 roundabout, 9.3ms\n",
      "image 53/937 /mmfs1/scratch/dsu.local/bshakya/scratch/bshakya/YOLOv11/../yolov10/datasets/DOTAv1.5/images/test/P0137.jpg: 544x640 33 planes, 10.1ms\n",
      "image 54/937 /mmfs1/scratch/dsu.local/bshakya/scratch/bshakya/YOLOv11/../yolov10/datasets/DOTAv1.5/images/test/P0138.jpg: 576x640 158 ships, 6 harbors, 11 small vehicles, 9.5ms\n",
      "image 55/937 /mmfs1/scratch/dsu.local/bshakya/scratch/bshakya/YOLOv11/../yolov10/datasets/DOTAv1.5/images/test/P0145.jpg: 640x640 1 storage tank, 2 baseball diamonds, 3 tennis courts, 28 small vehicles, 1 swimming pool, 9.3ms\n",
      "image 56/937 /mmfs1/scratch/dsu.local/bshakya/scratch/bshakya/YOLOv11/../yolov10/datasets/DOTAv1.5/images/test/P0148.jpg: 608x640 4 baseball diamonds, 20 tennis courts, 3 ground track fields, 17 small vehicles, 3 soccer ball fields, 9.4ms\n",
      "image 57/937 /mmfs1/scratch/dsu.local/bshakya/scratch/bshakya/YOLOv11/../yolov10/datasets/DOTAv1.5/images/test/P0153.jpg: 544x640 1 storage tank, 2 baseball diamonds, 9 small vehicles, 9.0ms\n",
      "image 58/937 /mmfs1/scratch/dsu.local/bshakya/scratch/bshakya/YOLOv11/../yolov10/datasets/DOTAv1.5/images/test/P0154.jpg: 512x640 6 tennis courts, 66 small vehicles, 1 swimming pool, 8.9ms\n",
      "image 59/937 /mmfs1/scratch/dsu.local/bshakya/scratch/bshakya/YOLOv11/../yolov10/datasets/DOTAv1.5/images/test/P0155.jpg: 544x640 2 storage tanks, 2 baseball diamonds, 9 basketball courts, 19 small vehicles, 2 swimming pools, 9.1ms\n",
      "image 60/937 /mmfs1/scratch/dsu.local/bshakya/scratch/bshakya/YOLOv11/../yolov10/datasets/DOTAv1.5/images/test/P0156.jpg: 640x544 16 small vehicles, 17 swimming pools, 8.9ms\n",
      "image 61/937 /mmfs1/scratch/dsu.local/bshakya/scratch/bshakya/YOLOv11/../yolov10/datasets/DOTAv1.5/images/test/P0157.jpg: 640x608 2 bridges, 8.9ms\n",
      "image 62/937 /mmfs1/scratch/dsu.local/bshakya/scratch/bshakya/YOLOv11/../yolov10/datasets/DOTAv1.5/images/test/P0165.jpg: 608x640 31 planes, 1 soccer ball field, 9.3ms\n",
      "image 63/937 /mmfs1/scratch/dsu.local/bshakya/scratch/bshakya/YOLOv11/../yolov10/datasets/DOTAv1.5/images/test/P0166.jpg: 512x640 3 planes, 9.4ms\n",
      "image 64/937 /mmfs1/scratch/dsu.local/bshakya/scratch/bshakya/YOLOv11/../yolov10/datasets/DOTAv1.5/images/test/P0177.jpg: 640x288 4 ships, 39 harbors, 9.3ms\n",
      "image 65/937 /mmfs1/scratch/dsu.local/bshakya/scratch/bshakya/YOLOv11/../yolov10/datasets/DOTAv1.5/images/test/P0180.jpg: 640x448 8 planes, 9.2ms\n",
      "image 66/937 /mmfs1/scratch/dsu.local/bshakya/scratch/bshakya/YOLOv11/../yolov10/datasets/DOTAv1.5/images/test/P0181.jpg: 128x640 51 planes, 15.0ms\n",
      "image 67/937 /mmfs1/scratch/dsu.local/bshakya/scratch/bshakya/YOLOv11/../yolov10/datasets/DOTAv1.5/images/test/P0182.jpg: 192x640 46 planes, 15.0ms\n",
      "image 68/937 /mmfs1/scratch/dsu.local/bshakya/scratch/bshakya/YOLOv11/../yolov10/datasets/DOTAv1.5/images/test/P0184.jpg: 640x384 20 large vehicles, 83 small vehicles, 9.4ms\n",
      "image 69/937 /mmfs1/scratch/dsu.local/bshakya/scratch/bshakya/YOLOv11/../yolov10/datasets/DOTAv1.5/images/test/P0185.jpg: 640x512 30 planes, 1 large vehicle, 118 small vehicles, 9.2ms\n",
      "image 70/937 /mmfs1/scratch/dsu.local/bshakya/scratch/bshakya/YOLOv11/../yolov10/datasets/DOTAv1.5/images/test/P0191.jpg: 448x640 11 planes, 1 large vehicle, 10 small vehicles, 9.2ms\n",
      "image 71/937 /mmfs1/scratch/dsu.local/bshakya/scratch/bshakya/YOLOv11/../yolov10/datasets/DOTAv1.5/images/test/P0192.jpg: 448x640 117 large vehicles, 35 small vehicles, 8.7ms\n",
      "image 72/937 /mmfs1/scratch/dsu.local/bshakya/scratch/bshakya/YOLOv11/../yolov10/datasets/DOTAv1.5/images/test/P0193.jpg: 288x640 9 tennis courts, 14.7ms\n",
      "image 73/937 /mmfs1/scratch/dsu.local/bshakya/scratch/bshakya/YOLOv11/../yolov10/datasets/DOTAv1.5/images/test/P0195.jpg: 640x512 25 planes, 38 small vehicles, 1 swimming pool, 9.2ms\n",
      "image 74/937 /mmfs1/scratch/dsu.local/bshakya/scratch/bshakya/YOLOv11/../yolov10/datasets/DOTAv1.5/images/test/P0196.jpg: 320x640 2 baseball diamonds, 6 tennis courts, 4 basketball courts, 4 small vehicles, 2 soccer ball fields, 14.7ms\n",
      "image 75/937 /mmfs1/scratch/dsu.local/bshakya/scratch/bshakya/YOLOv11/../yolov10/datasets/DOTAv1.5/images/test/P0197.jpg: 640x576 9 tennis courts, 3 basketball courts, 149 small vehicles, 2 swimming pools, 9.2ms\n",
      "image 76/937 /mmfs1/scratch/dsu.local/bshakya/scratch/bshakya/YOLOv11/../yolov10/datasets/DOTAv1.5/images/test/P0205.jpg: 576x640 71 planes, 61 small vehicles, 9.9ms\n",
      "image 77/937 /mmfs1/scratch/dsu.local/bshakya/scratch/bshakya/YOLOv11/../yolov10/datasets/DOTAv1.5/images/test/P0208.jpg: 640x448 56 planes, 81 small vehicles, 9.5ms\n",
      "image 78/937 /mmfs1/scratch/dsu.local/bshakya/scratch/bshakya/YOLOv11/../yolov10/datasets/DOTAv1.5/images/test/P0211.jpg: 640x576 8 tennis courts, 4 large vehicles, 43 small vehicles, 9.5ms\n",
      "image 79/937 /mmfs1/scratch/dsu.local/bshakya/scratch/bshakya/YOLOv11/../yolov10/datasets/DOTAv1.5/images/test/P0214.jpg: 640x480 21 planes, 9.2ms\n",
      "image 80/937 /mmfs1/scratch/dsu.local/bshakya/scratch/bshakya/YOLOv11/../yolov10/datasets/DOTAv1.5/images/test/P0216.jpg: 640x320 24 tennis courts, 16 small vehicles, 9.0ms\n",
      "image 81/937 /mmfs1/scratch/dsu.local/bshakya/scratch/bshakya/YOLOv11/../yolov10/datasets/DOTAv1.5/images/test/P0230.jpg: 288x640 2 baseball diamonds, 16 tennis courts, 2 basketball courts, 5 small vehicles, 9.0ms\n",
      "image 82/937 /mmfs1/scratch/dsu.local/bshakya/scratch/bshakya/YOLOv11/../yolov10/datasets/DOTAv1.5/images/test/P0231.jpg: 640x512 11 tennis courts, 32 small vehicles, 1 roundabout, 9.2ms\n",
      "image 83/937 /mmfs1/scratch/dsu.local/bshakya/scratch/bshakya/YOLOv11/../yolov10/datasets/DOTAv1.5/images/test/P0234.jpg: 640x480 20 tennis courts, 3 small vehicles, 9.2ms\n",
      "image 84/937 /mmfs1/scratch/dsu.local/bshakya/scratch/bshakya/YOLOv11/../yolov10/datasets/DOTAv1.5/images/test/P0239.jpg: 640x384 35 planes, 9.1ms\n",
      "image 85/937 /mmfs1/scratch/dsu.local/bshakya/scratch/bshakya/YOLOv11/../yolov10/datasets/DOTAv1.5/images/test/P0240.jpg: 640x224 46 planes, 14.8ms\n",
      "image 86/937 /mmfs1/scratch/dsu.local/bshakya/scratch/bshakya/YOLOv11/../yolov10/datasets/DOTAv1.5/images/test/P0243.jpg: 640x480 39 planes, 2 large vehicles, 22 small vehicles, 8.9ms\n",
      "image 87/937 /mmfs1/scratch/dsu.local/bshakya/scratch/bshakya/YOLOv11/../yolov10/datasets/DOTAv1.5/images/test/P0245.jpg: 640x384 52 large vehicles, 35 small vehicles, 8.8ms\n",
      "image 88/937 /mmfs1/scratch/dsu.local/bshakya/scratch/bshakya/YOLOv11/../yolov10/datasets/DOTAv1.5/images/test/P0247.jpg: 640x576 20 planes, 7 large vehicles, 93 small vehicles, 9.2ms\n",
      "image 89/937 /mmfs1/scratch/dsu.local/bshakya/scratch/bshakya/YOLOv11/../yolov10/datasets/DOTAv1.5/images/test/P0253.jpg: 640x416 28 tennis courts, 37 small vehicles, 2 swimming pools, 9.1ms\n",
      "image 90/937 /mmfs1/scratch/dsu.local/bshakya/scratch/bshakya/YOLOv11/../yolov10/datasets/DOTAv1.5/images/test/P0265.jpg: 640x640 52 large vehicles, 100 small vehicles, 9.0ms\n",
      "image 91/937 /mmfs1/scratch/dsu.local/bshakya/scratch/bshakya/YOLOv11/../yolov10/datasets/DOTAv1.5/images/test/P0266.jpg: 640x512 42 large vehicles, 160 small vehicles, 9.0ms\n",
      "image 92/937 /mmfs1/scratch/dsu.local/bshakya/scratch/bshakya/YOLOv11/../yolov10/datasets/DOTAv1.5/images/test/P0267.jpg: 640x640 70 large vehicles, 11 small vehicles, 8.8ms\n",
      "image 93/937 /mmfs1/scratch/dsu.local/bshakya/scratch/bshakya/YOLOv11/../yolov10/datasets/DOTAv1.5/images/test/P0268.jpg: 640x512 50 large vehicles, 82 small vehicles, 9.0ms\n",
      "image 94/937 /mmfs1/scratch/dsu.local/bshakya/scratch/bshakya/YOLOv11/../yolov10/datasets/DOTAv1.5/images/test/P0269.jpg: 576x640 82 large vehicles, 53 small vehicles, 9.2ms\n",
      "image 95/937 /mmfs1/scratch/dsu.local/bshakya/scratch/bshakya/YOLOv11/../yolov10/datasets/DOTAv1.5/images/test/P0271.jpg: 608x640 64 large vehicles, 50 small vehicles, 9.3ms\n",
      "image 96/937 /mmfs1/scratch/dsu.local/bshakya/scratch/bshakya/YOLOv11/../yolov10/datasets/DOTAv1.5/images/test/P0274.jpg: 640x512 17 large vehicles, 72 small vehicles, 9.0ms\n",
      "image 97/937 /mmfs1/scratch/dsu.local/bshakya/scratch/bshakya/YOLOv11/../yolov10/datasets/DOTAv1.5/images/test/P0277.jpg: 640x640 15 large vehicles, 46 small vehicles, 9.0ms\n",
      "image 98/937 /mmfs1/scratch/dsu.local/bshakya/scratch/bshakya/YOLOv11/../yolov10/datasets/DOTAv1.5/images/test/P0278.jpg: 640x512 53 large vehicles, 24 small vehicles, 9.0ms\n",
      "image 99/937 /mmfs1/scratch/dsu.local/bshakya/scratch/bshakya/YOLOv11/../yolov10/datasets/DOTAv1.5/images/test/P0279.jpg: 288x640 1 ship, 11 large vehicles, 8.8ms\n",
      "image 100/937 /mmfs1/scratch/dsu.local/bshakya/scratch/bshakya/YOLOv11/../yolov10/datasets/DOTAv1.5/images/test/P0284.jpg: 640x640 2 storage tanks, 39 large vehicles, 50 small vehicles, 8.9ms\n",
      "image 101/937 /mmfs1/scratch/dsu.local/bshakya/scratch/bshakya/YOLOv11/../yolov10/datasets/DOTAv1.5/images/test/P0287.jpg: 576x640 53 large vehicles, 48 small vehicles, 9.2ms\n",
      "image 102/937 /mmfs1/scratch/dsu.local/bshakya/scratch/bshakya/YOLOv11/../yolov10/datasets/DOTAv1.5/images/test/P0290.jpg: 512x640 58 large vehicles, 99 small vehicles, 9.0ms\n",
      "image 103/937 /mmfs1/scratch/dsu.local/bshakya/scratch/bshakya/YOLOv11/../yolov10/datasets/DOTAv1.5/images/test/P0291.jpg: 640x640 1 plane, 100 large vehicles, 12 small vehicles, 9.1ms\n",
      "image 104/937 /mmfs1/scratch/dsu.local/bshakya/scratch/bshakya/YOLOv11/../yolov10/datasets/DOTAv1.5/images/test/P0295.jpg: 448x640 7 ships, 7 small vehicles, 9.1ms\n",
      "image 105/937 /mmfs1/scratch/dsu.local/bshakya/scratch/bshakya/YOLOv11/../yolov10/datasets/DOTAv1.5/images/test/P0297.jpg: 480x640 4 ships, 3 harbors, 66 small vehicles, 8.8ms\n",
      "image 106/937 /mmfs1/scratch/dsu.local/bshakya/scratch/bshakya/YOLOv11/../yolov10/datasets/DOTAv1.5/images/test/P0298.jpg: 608x640 18 ships, 7 harbors, 51 small vehicles, 8.9ms\n",
      "image 107/937 /mmfs1/scratch/dsu.local/bshakya/scratch/bshakya/YOLOv11/../yolov10/datasets/DOTAv1.5/images/test/P0302.jpg: 480x640 5 ships, 4 harbors, 3 small vehicles, 8.8ms\n",
      "image 108/937 /mmfs1/scratch/dsu.local/bshakya/scratch/bshakya/YOLOv11/../yolov10/datasets/DOTAv1.5/images/test/P0304.jpg: 384x640 3 ships, 8 harbors, 5 small vehicles, 9.4ms\n",
      "image 109/937 /mmfs1/scratch/dsu.local/bshakya/scratch/bshakya/YOLOv11/../yolov10/datasets/DOTAv1.5/images/test/P0306.jpg: 640x480 16 large vehicles, 7 small vehicles, 9.1ms\n",
      "image 110/937 /mmfs1/scratch/dsu.local/bshakya/scratch/bshakya/YOLOv11/../yolov10/datasets/DOTAv1.5/images/test/P0307.jpg: 640x448 13 harbors, 8 swimming pools, 9.0ms\n",
      "image 111/937 /mmfs1/scratch/dsu.local/bshakya/scratch/bshakya/YOLOv11/../yolov10/datasets/DOTAv1.5/images/test/P0311.jpg: 576x640 1 ship, 7 harbors, 1 small vehicle, 9.2ms\n",
      "image 112/937 /mmfs1/scratch/dsu.local/bshakya/scratch/bshakya/YOLOv11/../yolov10/datasets/DOTAv1.5/images/test/P0312.jpg: 544x640 8 ships, 10 harbors, 2 small vehicles, 9.3ms\n",
      "image 113/937 /mmfs1/scratch/dsu.local/bshakya/scratch/bshakya/YOLOv11/../yolov10/datasets/DOTAv1.5/images/test/P0316.jpg: 640x640 2 ships, 5 harbors, 4 small vehicles, 9.3ms\n",
      "image 114/937 /mmfs1/scratch/dsu.local/bshakya/scratch/bshakya/YOLOv11/../yolov10/datasets/DOTAv1.5/images/test/P0318.jpg: 640x480 13 large vehicles, 24 small vehicles, 8.8ms\n",
      "image 115/937 /mmfs1/scratch/dsu.local/bshakya/scratch/bshakya/YOLOv11/../yolov10/datasets/DOTAv1.5/images/test/P0319.jpg: 640x640 2 ships, 5 harbors, 8.8ms\n",
      "image 116/937 /mmfs1/scratch/dsu.local/bshakya/scratch/bshakya/YOLOv11/../yolov10/datasets/DOTAv1.5/images/test/P0320.jpg: 512x640 3 ships, 8 harbors, 9.3ms\n",
      "image 117/937 /mmfs1/scratch/dsu.local/bshakya/scratch/bshakya/YOLOv11/../yolov10/datasets/DOTAv1.5/images/test/P0323.jpg: 640x384 9 ships, 7 harbors, 1 small vehicle, 2 swimming pools, 9.3ms\n",
      "image 118/937 /mmfs1/scratch/dsu.local/bshakya/scratch/bshakya/YOLOv11/../yolov10/datasets/DOTAv1.5/images/test/P0325.jpg: 288x640 2 ships, 1 harbor, 38 small vehicles, 9.2ms\n",
      "image 119/937 /mmfs1/scratch/dsu.local/bshakya/scratch/bshakya/YOLOv11/../yolov10/datasets/DOTAv1.5/images/test/P0326.jpg: 640x384 3 ships, 11 harbors, 8 small vehicles, 10.0ms\n",
      "image 120/937 /mmfs1/scratch/dsu.local/bshakya/scratch/bshakya/YOLOv11/../yolov10/datasets/DOTAv1.5/images/test/P0328.jpg: 384x640 66 ships, 9 harbors, 37 small vehicles, 9.2ms\n",
      "image 121/937 /mmfs1/scratch/dsu.local/bshakya/scratch/bshakya/YOLOv11/../yolov10/datasets/DOTAv1.5/images/test/P0333.jpg: 640x512 11 ships, 10 harbors, 3 small vehicles, 9.4ms\n",
      "image 122/937 /mmfs1/scratch/dsu.local/bshakya/scratch/bshakya/YOLOv11/../yolov10/datasets/DOTAv1.5/images/test/P0341.jpg: 640x512 32 large vehicles, 82 small vehicles, 8.7ms\n",
      "image 123/937 /mmfs1/scratch/dsu.local/bshakya/scratch/bshakya/YOLOv11/../yolov10/datasets/DOTAv1.5/images/test/P0351.jpg: 640x352 2 tennis courts, 2 basketball courts, 28 small vehicles, 14.8ms\n",
      "image 124/937 /mmfs1/scratch/dsu.local/bshakya/scratch/bshakya/YOLOv11/../yolov10/datasets/DOTAv1.5/images/test/P0354.jpg: 640x480 82 large vehicles, 20 small vehicles, 8.8ms\n",
      "image 125/937 /mmfs1/scratch/dsu.local/bshakya/scratch/bshakya/YOLOv11/../yolov10/datasets/DOTAv1.5/images/test/P0356.jpg: 640x352 2 tennis courts, 2 basketball courts, 8.7ms\n",
      "image 126/937 /mmfs1/scratch/dsu.local/bshakya/scratch/bshakya/YOLOv11/../yolov10/datasets/DOTAv1.5/images/test/P0369.jpg: 352x640 2 tennis courts, 2 basketball courts, 6 small vehicles, 8.7ms\n",
      "image 127/937 /mmfs1/scratch/dsu.local/bshakya/scratch/bshakya/YOLOv11/../yolov10/datasets/DOTAv1.5/images/test/P0372.jpg: 640x480 4 tennis courts, 13 small vehicles, 8.7ms\n",
      "image 128/937 /mmfs1/scratch/dsu.local/bshakya/scratch/bshakya/YOLOv11/../yolov10/datasets/DOTAv1.5/images/test/P0390.jpg: 640x384 74 large vehicles, 11 small vehicles, 8.6ms\n",
      "image 129/937 /mmfs1/scratch/dsu.local/bshakya/scratch/bshakya/YOLOv11/../yolov10/datasets/DOTAv1.5/images/test/P0394.jpg: 224x640 4 tennis courts, 2 basketball courts, 8 small vehicles, 14.3ms\n",
      "image 130/937 /mmfs1/scratch/dsu.local/bshakya/scratch/bshakya/YOLOv11/../yolov10/datasets/DOTAv1.5/images/test/P0397.jpg: 640x608 8 tennis courts, 4 large vehicles, 28 small vehicles, 9.0ms\n",
      "image 131/937 /mmfs1/scratch/dsu.local/bshakya/scratch/bshakya/YOLOv11/../yolov10/datasets/DOTAv1.5/images/test/P0398.jpg: 448x640 5 tennis courts, 8.8ms\n",
      "image 132/937 /mmfs1/scratch/dsu.local/bshakya/scratch/bshakya/YOLOv11/../yolov10/datasets/DOTAv1.5/images/test/P0399.jpg: 640x480 10 tennis courts, 1 small vehicle, 8.8ms\n",
      "image 133/937 /mmfs1/scratch/dsu.local/bshakya/scratch/bshakya/YOLOv11/../yolov10/datasets/DOTAv1.5/images/test/P0403.jpg: 544x640 7 harbors, 9.1ms\n",
      "image 134/937 /mmfs1/scratch/dsu.local/bshakya/scratch/bshakya/YOLOv11/../yolov10/datasets/DOTAv1.5/images/test/P0408.jpg: 544x640 2 ships, 8 harbors, 2 small vehicles, 8.7ms\n",
      "image 135/937 /mmfs1/scratch/dsu.local/bshakya/scratch/bshakya/YOLOv11/../yolov10/datasets/DOTAv1.5/images/test/P0409.jpg: 544x640 34 ships, 8 harbors, 3 small vehicles, 1 swimming pool, 8.5ms\n",
      "image 136/937 /mmfs1/scratch/dsu.local/bshakya/scratch/bshakya/YOLOv11/../yolov10/datasets/DOTAv1.5/images/test/P0410.jpg: 384x640 3 ships, 6 harbors, 8.7ms\n",
      "image 137/937 /mmfs1/scratch/dsu.local/bshakya/scratch/bshakya/YOLOv11/../yolov10/datasets/DOTAv1.5/images/test/P0412.jpg: 640x384 31 large vehicles, 27 small vehicles, 8.6ms\n",
      "image 138/937 /mmfs1/scratch/dsu.local/bshakya/scratch/bshakya/YOLOv11/../yolov10/datasets/DOTAv1.5/images/test/P0423.jpg: 640x384 14 large vehicles, 11 small vehicles, 8.4ms\n",
      "image 139/937 /mmfs1/scratch/dsu.local/bshakya/scratch/bshakya/YOLOv11/../yolov10/datasets/DOTAv1.5/images/test/P0427.jpg: 544x640 7 ships, 6 harbors, 1 swimming pool, 8.9ms\n",
      "image 140/937 /mmfs1/scratch/dsu.local/bshakya/scratch/bshakya/YOLOv11/../yolov10/datasets/DOTAv1.5/images/test/P0429.jpg: 640x512 1 ship, 11 harbors, 2 small vehicles, 3 swimming pools, 8.8ms\n",
      "image 141/937 /mmfs1/scratch/dsu.local/bshakya/scratch/bshakya/YOLOv11/../yolov10/datasets/DOTAv1.5/images/test/P0433.jpg: 640x384 4 ships, 8 harbors, 3 small vehicles, 8.7ms\n",
      "image 142/937 /mmfs1/scratch/dsu.local/bshakya/scratch/bshakya/YOLOv11/../yolov10/datasets/DOTAv1.5/images/test/P0444.jpg: 640x512 5 ships, 10 harbors, 5 small vehicles, 1 swimming pool, 8.8ms\n",
      "image 143/937 /mmfs1/scratch/dsu.local/bshakya/scratch/bshakya/YOLOv11/../yolov10/datasets/DOTAv1.5/images/test/P0447.jpg: 384x640 5 tennis courts, 1 large vehicle, 4 small vehicles, 8.7ms\n",
      "image 144/937 /mmfs1/scratch/dsu.local/bshakya/scratch/bshakya/YOLOv11/../yolov10/datasets/DOTAv1.5/images/test/P0449.jpg: 608x640 6 tennis courts, 2 small vehicles, 8.8ms\n",
      "image 145/937 /mmfs1/scratch/dsu.local/bshakya/scratch/bshakya/YOLOv11/../yolov10/datasets/DOTAv1.5/images/test/P0451.jpg: 640x544 11 tennis courts, 8.7ms\n",
      "image 146/937 /mmfs1/scratch/dsu.local/bshakya/scratch/bshakya/YOLOv11/../yolov10/datasets/DOTAv1.5/images/test/P0456.jpg: 640x512 7 tennis courts, 6 small vehicles, 8.7ms\n",
      "image 147/937 /mmfs1/scratch/dsu.local/bshakya/scratch/bshakya/YOLOv11/../yolov10/datasets/DOTAv1.5/images/test/P0462.jpg: 640x512 6 tennis courts, 1 basketball court, 9.0ms\n",
      "image 148/937 /mmfs1/scratch/dsu.local/bshakya/scratch/bshakya/YOLOv11/../yolov10/datasets/DOTAv1.5/images/test/P0463.jpg: 576x640 3 tennis courts, 1 large vehicle, 19 small vehicles, 8.7ms\n",
      "image 149/937 /mmfs1/scratch/dsu.local/bshakya/scratch/bshakya/YOLOv11/../yolov10/datasets/DOTAv1.5/images/test/P0467.jpg: 640x640 8 tennis courts, 8.6ms\n",
      "image 150/937 /mmfs1/scratch/dsu.local/bshakya/scratch/bshakya/YOLOv11/../yolov10/datasets/DOTAv1.5/images/test/P0470.jpg: 640x640 6 tennis courts, 8 small vehicles, 8.3ms\n",
      "image 151/937 /mmfs1/scratch/dsu.local/bshakya/scratch/bshakya/YOLOv11/../yolov10/datasets/DOTAv1.5/images/test/P0472.jpg: 640x640 1 baseball diamond, 5 tennis courts, 8.3ms\n",
      "image 152/937 /mmfs1/scratch/dsu.local/bshakya/scratch/bshakya/YOLOv11/../yolov10/datasets/DOTAv1.5/images/test/P0473.jpg: 416x640 17 planes, 1 storage tank, 8.7ms\n",
      "image 153/937 /mmfs1/scratch/dsu.local/bshakya/scratch/bshakya/YOLOv11/../yolov10/datasets/DOTAv1.5/images/test/P0474.jpg: 480x640 21 planes, 15 small vehicles, 9.0ms\n",
      "image 154/937 /mmfs1/scratch/dsu.local/bshakya/scratch/bshakya/YOLOv11/../yolov10/datasets/DOTAv1.5/images/test/P0480.jpg: 416x640 1 baseball diamond, 4 tennis courts, 2 small vehicles, 8.9ms\n",
      "image 155/937 /mmfs1/scratch/dsu.local/bshakya/scratch/bshakya/YOLOv11/../yolov10/datasets/DOTAv1.5/images/test/P0485.jpg: 640x384 7 tennis courts, 1 swimming pool, 8.8ms\n",
      "image 156/937 /mmfs1/scratch/dsu.local/bshakya/scratch/bshakya/YOLOv11/../yolov10/datasets/DOTAv1.5/images/test/P0490.jpg: 640x512 6 tennis courts, 8.7ms\n",
      "image 157/937 /mmfs1/scratch/dsu.local/bshakya/scratch/bshakya/YOLOv11/../yolov10/datasets/DOTAv1.5/images/test/P0492.jpg: 608x640 8 small vehicles, 7 swimming pools, 9.3ms\n",
      "image 158/937 /mmfs1/scratch/dsu.local/bshakya/scratch/bshakya/YOLOv11/../yolov10/datasets/DOTAv1.5/images/test/P0496.jpg: 640x640 8 tennis courts, 1 small vehicle, 9.1ms\n",
      "image 159/937 /mmfs1/scratch/dsu.local/bshakya/scratch/bshakya/YOLOv11/../yolov10/datasets/DOTAv1.5/images/test/P0497.jpg: 640x416 88 large vehicles, 4 small vehicles, 8.8ms\n",
      "image 160/937 /mmfs1/scratch/dsu.local/bshakya/scratch/bshakya/YOLOv11/../yolov10/datasets/DOTAv1.5/images/test/P0498.jpg: 640x640 7 small vehicles, 9 swimming pools, 9.1ms\n",
      "image 161/937 /mmfs1/scratch/dsu.local/bshakya/scratch/bshakya/YOLOv11/../yolov10/datasets/DOTAv1.5/images/test/P0500.jpg: 640x576 2 baseball diamonds, 5 tennis courts, 4 large vehicles, 27 small vehicles, 1 soccer ball field, 9.4ms\n",
      "image 162/937 /mmfs1/scratch/dsu.local/bshakya/scratch/bshakya/YOLOv11/../yolov10/datasets/DOTAv1.5/images/test/P0501.jpg: 640x608 2 tennis courts, 2 basketball courts, 9.1ms\n",
      "image 163/937 /mmfs1/scratch/dsu.local/bshakya/scratch/bshakya/YOLOv11/../yolov10/datasets/DOTAv1.5/images/test/P0502.jpg: 608x640 4 tennis courts, 1 small vehicle, 8.8ms\n",
      "image 164/937 /mmfs1/scratch/dsu.local/bshakya/scratch/bshakya/YOLOv11/../yolov10/datasets/DOTAv1.5/images/test/P0506.jpg: 448x640 1 baseball diamond, 5 tennis courts, 21 small vehicles, 20 swimming pools, 9.2ms\n",
      "image 165/937 /mmfs1/scratch/dsu.local/bshakya/scratch/bshakya/YOLOv11/../yolov10/datasets/DOTAv1.5/images/test/P0507.jpg: 640x640 36 large vehicles, 115 small vehicles, 9.2ms\n",
      "image 166/937 /mmfs1/scratch/dsu.local/bshakya/scratch/bshakya/YOLOv11/../yolov10/datasets/DOTAv1.5/images/test/P0508.jpg: 576x640 90 large vehicles, 92 small vehicles, 9.0ms\n",
      "image 167/937 /mmfs1/scratch/dsu.local/bshakya/scratch/bshakya/YOLOv11/../yolov10/datasets/DOTAv1.5/images/test/P0509.jpg: 640x448 1 baseball diamond, 4 tennis courts, 5 small vehicles, 9.0ms\n",
      "image 168/937 /mmfs1/scratch/dsu.local/bshakya/scratch/bshakya/YOLOv11/../yolov10/datasets/DOTAv1.5/images/test/P0511.jpg: 640x640 40 large vehicles, 71 small vehicles, 8.9ms\n",
      "image 169/937 /mmfs1/scratch/dsu.local/bshakya/scratch/bshakya/YOLOv11/../yolov10/datasets/DOTAv1.5/images/test/P0513.jpg: 640x608 6 tennis courts, 8 small vehicles, 8.8ms\n",
      "image 170/937 /mmfs1/scratch/dsu.local/bshakya/scratch/bshakya/YOLOv11/../yolov10/datasets/DOTAv1.5/images/test/P0514.jpg: 608x640 4 tennis courts, 20 small vehicles, 8.8ms\n",
      "image 171/937 /mmfs1/scratch/dsu.local/bshakya/scratch/bshakya/YOLOv11/../yolov10/datasets/DOTAv1.5/images/test/P0515.jpg: 640x608 4 tennis courts, 4 small vehicles, 1 roundabout, 8.9ms\n",
      "image 172/937 /mmfs1/scratch/dsu.local/bshakya/scratch/bshakya/YOLOv11/../yolov10/datasets/DOTAv1.5/images/test/P0519.jpg: 640x512 1 ship, 3 harbors, 8.8ms\n",
      "image 173/937 /mmfs1/scratch/dsu.local/bshakya/scratch/bshakya/YOLOv11/../yolov10/datasets/DOTAv1.5/images/test/P0523.jpg: 384x640 70 large vehicles, 73 small vehicles, 8.8ms\n",
      "image 174/937 /mmfs1/scratch/dsu.local/bshakya/scratch/bshakya/YOLOv11/../yolov10/datasets/DOTAv1.5/images/test/P0528.jpg: 640x384 22 large vehicles, 15 small vehicles, 8.8ms\n",
      "image 175/937 /mmfs1/scratch/dsu.local/bshakya/scratch/bshakya/YOLOv11/../yolov10/datasets/DOTAv1.5/images/test/P0529.jpg: 544x640 1 ship, 11 harbors, 1 swimming pool, 8.9ms\n",
      "image 176/937 /mmfs1/scratch/dsu.local/bshakya/scratch/bshakya/YOLOv11/../yolov10/datasets/DOTAv1.5/images/test/P0530.jpg: 640x512 1 ship, 8 harbors, 1 small vehicle, 1 swimming pool, 8.9ms\n",
      "image 177/937 /mmfs1/scratch/dsu.local/bshakya/scratch/bshakya/YOLOv11/../yolov10/datasets/DOTAv1.5/images/test/P0532.jpg: 640x288 3 ships, 9 harbors, 8.9ms\n",
      "image 178/937 /mmfs1/scratch/dsu.local/bshakya/scratch/bshakya/YOLOv11/../yolov10/datasets/DOTAv1.5/images/test/P0534.jpg: 352x640 2 ships, 6 harbors, 1 small vehicle, 8.9ms\n",
      "image 179/937 /mmfs1/scratch/dsu.local/bshakya/scratch/bshakya/YOLOv11/../yolov10/datasets/DOTAv1.5/images/test/P0536.jpg: 384x640 5 harbors, 1 swimming pool, 9.1ms\n",
      "image 180/937 /mmfs1/scratch/dsu.local/bshakya/scratch/bshakya/YOLOv11/../yolov10/datasets/DOTAv1.5/images/test/P0539.jpg: 288x640 9 ships, 8 harbors, 1 small vehicle, 9.0ms\n",
      "image 181/937 /mmfs1/scratch/dsu.local/bshakya/scratch/bshakya/YOLOv11/../yolov10/datasets/DOTAv1.5/images/test/P0540.jpg: 352x640 1 ship, 6 harbors, 8.9ms\n",
      "image 182/937 /mmfs1/scratch/dsu.local/bshakya/scratch/bshakya/YOLOv11/../yolov10/datasets/DOTAv1.5/images/test/P0545.jpg: 640x512 8 harbors, 1 small vehicle, 9.1ms\n",
      "image 183/937 /mmfs1/scratch/dsu.local/bshakya/scratch/bshakya/YOLOv11/../yolov10/datasets/DOTAv1.5/images/test/P0552.jpg: 544x640 5 ships, 9 harbors, 1 small vehicle, 9.1ms\n",
      "image 184/937 /mmfs1/scratch/dsu.local/bshakya/scratch/bshakya/YOLOv11/../yolov10/datasets/DOTAv1.5/images/test/P0560.jpg: 640x320 11 harbors, 2 swimming pools, 8.8ms\n",
      "image 185/937 /mmfs1/scratch/dsu.local/bshakya/scratch/bshakya/YOLOv11/../yolov10/datasets/DOTAv1.5/images/test/P0561.jpg: 640x512 8 ships, 4 harbors, 1 small vehicle, 9.3ms\n",
      "image 186/937 /mmfs1/scratch/dsu.local/bshakya/scratch/bshakya/YOLOv11/../yolov10/datasets/DOTAv1.5/images/test/P0566.jpg: 384x640 8 ships, 6 harbors, 9.0ms\n",
      "image 187/937 /mmfs1/scratch/dsu.local/bshakya/scratch/bshakya/YOLOv11/../yolov10/datasets/DOTAv1.5/images/test/P0570.jpg: 640x384 10 ships, 18 harbors, 9.1ms\n",
      "image 188/937 /mmfs1/scratch/dsu.local/bshakya/scratch/bshakya/YOLOv11/../yolov10/datasets/DOTAv1.5/images/test/P0574.jpg: 640x416 3 ships, 12 harbors, 1 small vehicle, 1 swimming pool, 9.0ms\n",
      "image 189/937 /mmfs1/scratch/dsu.local/bshakya/scratch/bshakya/YOLOv11/../yolov10/datasets/DOTAv1.5/images/test/P0575.jpg: 640x384 2 ships, 6 harbors, 8.8ms\n",
      "image 190/937 /mmfs1/scratch/dsu.local/bshakya/scratch/bshakya/YOLOv11/../yolov10/datasets/DOTAv1.5/images/test/P0576.jpg: 320x640 2 ships, 6 harbors, 8.7ms\n",
      "image 191/937 /mmfs1/scratch/dsu.local/bshakya/scratch/bshakya/YOLOv11/../yolov10/datasets/DOTAv1.5/images/test/P0584.jpg: 640x512 5 ships, 6 harbors, 8.7ms\n",
      "image 192/937 /mmfs1/scratch/dsu.local/bshakya/scratch/bshakya/YOLOv11/../yolov10/datasets/DOTAv1.5/images/test/P0585.jpg: 544x640 4 ships, 6 harbors, 1 small vehicle, 9.0ms\n",
      "image 193/937 /mmfs1/scratch/dsu.local/bshakya/scratch/bshakya/YOLOv11/../yolov10/datasets/DOTAv1.5/images/test/P0588.jpg: 640x192 6 harbors, 1 small vehicle, 14.3ms\n",
      "image 194/937 /mmfs1/scratch/dsu.local/bshakya/scratch/bshakya/YOLOv11/../yolov10/datasets/DOTAv1.5/images/test/P0592.jpg: 480x640 1 storage tank, 11 harbors, 1 small vehicle, 8.8ms\n",
      "image 195/937 /mmfs1/scratch/dsu.local/bshakya/scratch/bshakya/YOLOv11/../yolov10/datasets/DOTAv1.5/images/test/P0594.jpg: 480x640 1 ship, 6 harbors, 1 small vehicle, 8.5ms\n",
      "image 196/937 /mmfs1/scratch/dsu.local/bshakya/scratch/bshakya/YOLOv11/../yolov10/datasets/DOTAv1.5/images/test/P0598.jpg: 640x608 1 ship, 5 harbors, 9.2ms\n",
      "image 197/937 /mmfs1/scratch/dsu.local/bshakya/scratch/bshakya/YOLOv11/../yolov10/datasets/DOTAv1.5/images/test/P0599.jpg: 640x352 2 ships, 7 harbors, 8.9ms\n",
      "image 198/937 /mmfs1/scratch/dsu.local/bshakya/scratch/bshakya/YOLOv11/../yolov10/datasets/DOTAv1.5/images/test/P0600.jpg: 640x512 5 harbors, 1 small vehicle, 8.9ms\n",
      "image 199/937 /mmfs1/scratch/dsu.local/bshakya/scratch/bshakya/YOLOv11/../yolov10/datasets/DOTAv1.5/images/test/P0606.jpg: 640x384 1 ship, 5 harbors, 8.9ms\n",
      "image 200/937 /mmfs1/scratch/dsu.local/bshakya/scratch/bshakya/YOLOv11/../yolov10/datasets/DOTAv1.5/images/test/P0608.jpg: 640x448 10 harbors, 9.1ms\n",
      "image 201/937 /mmfs1/scratch/dsu.local/bshakya/scratch/bshakya/YOLOv11/../yolov10/datasets/DOTAv1.5/images/test/P0616.jpg: 544x640 6 ships, 5 harbors, 1 small vehicle, 9.2ms\n",
      "image 202/937 /mmfs1/scratch/dsu.local/bshakya/scratch/bshakya/YOLOv11/../yolov10/datasets/DOTAv1.5/images/test/P0621.jpg: 384x640 9 harbors, 8.9ms\n",
      "image 203/937 /mmfs1/scratch/dsu.local/bshakya/scratch/bshakya/YOLOv11/../yolov10/datasets/DOTAv1.5/images/test/P0628.jpg: 544x640 226 ships, 15 harbors, 59 small vehicles, 8.9ms\n",
      "image 204/937 /mmfs1/scratch/dsu.local/bshakya/scratch/bshakya/YOLOv11/../yolov10/datasets/DOTAv1.5/images/test/P0633.jpg: 448x640 1 ship, 11 harbors, 1 small vehicle, 9.1ms\n",
      "image 205/937 /mmfs1/scratch/dsu.local/bshakya/scratch/bshakya/YOLOv11/../yolov10/datasets/DOTAv1.5/images/test/P0635.jpg: 544x640 7 ships, 10 harbors, 9.3ms\n",
      "image 206/937 /mmfs1/scratch/dsu.local/bshakya/scratch/bshakya/YOLOv11/../yolov10/datasets/DOTAv1.5/images/test/P0636.jpg: 384x640 3 ships, 10 harbors, 1 small vehicle, 8.9ms\n",
      "image 207/937 /mmfs1/scratch/dsu.local/bshakya/scratch/bshakya/YOLOv11/../yolov10/datasets/DOTAv1.5/images/test/P0639.jpg: 640x640 11 tennis courts, 8.8ms\n",
      "image 208/937 /mmfs1/scratch/dsu.local/bshakya/scratch/bshakya/YOLOv11/../yolov10/datasets/DOTAv1.5/images/test/P0640.jpg: 640x512 7 tennis courts, 3 basketball courts, 8.8ms\n",
      "image 209/937 /mmfs1/scratch/dsu.local/bshakya/scratch/bshakya/YOLOv11/../yolov10/datasets/DOTAv1.5/images/test/P0644.jpg: 640x640 8 tennis courts, 3 small vehicles, 8.7ms\n",
      "image 210/937 /mmfs1/scratch/dsu.local/bshakya/scratch/bshakya/YOLOv11/../yolov10/datasets/DOTAv1.5/images/test/P0645.jpg: 640x640 5 tennis courts, 57 small vehicles, 8.4ms\n",
      "image 211/937 /mmfs1/scratch/dsu.local/bshakya/scratch/bshakya/YOLOv11/../yolov10/datasets/DOTAv1.5/images/test/P0655.jpg: 608x640 31 large vehicles, 21 small vehicles, 9.1ms\n",
      "image 212/937 /mmfs1/scratch/dsu.local/bshakya/scratch/bshakya/YOLOv11/../yolov10/datasets/DOTAv1.5/images/test/P0657.jpg: 416x640 4 tennis courts, 2 basketball courts, 8.8ms\n",
      "image 213/937 /mmfs1/scratch/dsu.local/bshakya/scratch/bshakya/YOLOv11/../yolov10/datasets/DOTAv1.5/images/test/P0661.jpg: 640x512 8 tennis courts, 24 small vehicles, 8.7ms\n",
      "image 214/937 /mmfs1/scratch/dsu.local/bshakya/scratch/bshakya/YOLOv11/../yolov10/datasets/DOTAv1.5/images/test/P0662.jpg: 640x640 8 tennis courts, 8.9ms\n",
      "image 215/937 /mmfs1/scratch/dsu.local/bshakya/scratch/bshakya/YOLOv11/../yolov10/datasets/DOTAv1.5/images/test/P0663.jpg: 352x640 2 baseball diamonds, 10 tennis courts, 14 small vehicles, 8.8ms\n",
      "image 216/937 /mmfs1/scratch/dsu.local/bshakya/scratch/bshakya/YOLOv11/../yolov10/datasets/DOTAv1.5/images/test/P0667.jpg: 640x512 1 baseball diamond, 2 tennis courts, 5 basketball courts, 8.8ms\n",
      "image 217/937 /mmfs1/scratch/dsu.local/bshakya/scratch/bshakya/YOLOv11/../yolov10/datasets/DOTAv1.5/images/test/P0669.jpg: 512x640 2 baseball diamonds, 6 tennis courts, 1 ground track field, 3 small vehicles, 9.0ms\n",
      "image 218/937 /mmfs1/scratch/dsu.local/bshakya/scratch/bshakya/YOLOv11/../yolov10/datasets/DOTAv1.5/images/test/P0670.jpg: 512x640 12 tennis courts, 6 small vehicles, 1 swimming pool, 8.6ms\n",
      "image 219/937 /mmfs1/scratch/dsu.local/bshakya/scratch/bshakya/YOLOv11/../yolov10/datasets/DOTAv1.5/images/test/P0671.jpg: 512x640 1 baseball diamond, 4 tennis courts, 6 basketball courts, 1 small vehicle, 8.5ms\n",
      "image 220/937 /mmfs1/scratch/dsu.local/bshakya/scratch/bshakya/YOLOv11/../yolov10/datasets/DOTAv1.5/images/test/P0672.jpg: 640x256 6 tennis courts, 14.4ms\n",
      "image 221/937 /mmfs1/scratch/dsu.local/bshakya/scratch/bshakya/YOLOv11/../yolov10/datasets/DOTAv1.5/images/test/P0674.jpg: 544x640 10 basketball courts, 8.7ms\n",
      "image 222/937 /mmfs1/scratch/dsu.local/bshakya/scratch/bshakya/YOLOv11/../yolov10/datasets/DOTAv1.5/images/test/P0675.jpg: 640x640 1 baseball diamond, 6 tennis courts, 8.8ms\n",
      "image 223/937 /mmfs1/scratch/dsu.local/bshakya/scratch/bshakya/YOLOv11/../yolov10/datasets/DOTAv1.5/images/test/P0678.jpg: 352x640 284 ships, 12 harbors, 3 small vehicles, 1 swimming pool, 9.1ms\n",
      "image 224/937 /mmfs1/scratch/dsu.local/bshakya/scratch/bshakya/YOLOv11/../yolov10/datasets/DOTAv1.5/images/test/P0679.jpg: 640x416 3 ships, 3 harbors, 42 small vehicles, 9.2ms\n",
      "image 225/937 /mmfs1/scratch/dsu.local/bshakya/scratch/bshakya/YOLOv11/../yolov10/datasets/DOTAv1.5/images/test/P0680.jpg: 608x640 37 ships, 10 harbors, 152 small vehicles, 9.4ms\n",
      "image 226/937 /mmfs1/scratch/dsu.local/bshakya/scratch/bshakya/YOLOv11/../yolov10/datasets/DOTAv1.5/images/test/P0681.jpg: 640x608 9 ships, 6 harbors, 133 small vehicles, 9.4ms\n",
      "image 227/937 /mmfs1/scratch/dsu.local/bshakya/scratch/bshakya/YOLOv11/../yolov10/datasets/DOTAv1.5/images/test/P0682.jpg: 640x544 22 ships, 7 harbors, 92 small vehicles, 1 roundabout, 9.4ms\n",
      "image 228/937 /mmfs1/scratch/dsu.local/bshakya/scratch/bshakya/YOLOv11/../yolov10/datasets/DOTAv1.5/images/test/P0686.jpg: 608x640 8 tennis courts, 22 small vehicles, 9.2ms\n",
      "image 229/937 /mmfs1/scratch/dsu.local/bshakya/scratch/bshakya/YOLOv11/../yolov10/datasets/DOTAv1.5/images/test/P0690.jpg: 640x544 8 tennis courts, 4 small vehicles, 8.9ms\n",
      "image 230/937 /mmfs1/scratch/dsu.local/bshakya/scratch/bshakya/YOLOv11/../yolov10/datasets/DOTAv1.5/images/test/P0694.jpg: 608x640 9 tennis courts, 11 small vehicles, 2 swimming pools, 8.9ms\n",
      "image 231/937 /mmfs1/scratch/dsu.local/bshakya/scratch/bshakya/YOLOv11/../yolov10/datasets/DOTAv1.5/images/test/P0698.jpg: 640x416 10 planes, 1 small vehicle, 8.8ms\n",
      "image 232/937 /mmfs1/scratch/dsu.local/bshakya/scratch/bshakya/YOLOv11/../yolov10/datasets/DOTAv1.5/images/test/P0701.jpg: 416x640 274 ships, 11 harbors, 15 small vehicles, 9.2ms\n",
      "image 233/937 /mmfs1/scratch/dsu.local/bshakya/scratch/bshakya/YOLOv11/../yolov10/datasets/DOTAv1.5/images/test/P0705.jpg: 416x640 227 ships, 10 harbors, 2 small vehicles, 8.9ms\n",
      "image 234/937 /mmfs1/scratch/dsu.local/bshakya/scratch/bshakya/YOLOv11/../yolov10/datasets/DOTAv1.5/images/test/P0708.jpg: 640x544 237 ships, 7 harbors, 1 large vehicle, 24 small vehicles, 9.3ms\n",
      "image 235/937 /mmfs1/scratch/dsu.local/bshakya/scratch/bshakya/YOLOv11/../yolov10/datasets/DOTAv1.5/images/test/P0709.jpg: 448x640 160 ships, 10 harbors, 15 small vehicles, 9.1ms\n",
      "image 236/937 /mmfs1/scratch/dsu.local/bshakya/scratch/bshakya/YOLOv11/../yolov10/datasets/DOTAv1.5/images/test/P0710.jpg: 640x544 198 ships, 9 harbors, 93 small vehicles, 9.6ms\n",
      "image 237/937 /mmfs1/scratch/dsu.local/bshakya/scratch/bshakya/YOLOv11/../yolov10/datasets/DOTAv1.5/images/test/P0717.jpg: 640x416 40 ships, 24 harbors, 11 small vehicles, 1 swimming pool, 9.2ms\n",
      "image 238/937 /mmfs1/scratch/dsu.local/bshakya/scratch/bshakya/YOLOv11/../yolov10/datasets/DOTAv1.5/images/test/P0718.jpg: 448x640 55 ships, 25 harbors, 16 small vehicles, 1 swimming pool, 9.4ms\n",
      "image 239/937 /mmfs1/scratch/dsu.local/bshakya/scratch/bshakya/YOLOv11/../yolov10/datasets/DOTAv1.5/images/test/P0720.jpg: 384x640 48 ships, 25 harbors, 12 small vehicles, 9.3ms\n",
      "image 240/937 /mmfs1/scratch/dsu.local/bshakya/scratch/bshakya/YOLOv11/../yolov10/datasets/DOTAv1.5/images/test/P0721.jpg: 384x640 21 ships, 10 harbors, 6 small vehicles, 1 swimming pool, 8.8ms\n",
      "image 241/937 /mmfs1/scratch/dsu.local/bshakya/scratch/bshakya/YOLOv11/../yolov10/datasets/DOTAv1.5/images/test/P0735.jpg: 384x640 40 ships, 25 harbors, 41 small vehicles, 8.7ms\n",
      "image 242/937 /mmfs1/scratch/dsu.local/bshakya/scratch/bshakya/YOLOv11/../yolov10/datasets/DOTAv1.5/images/test/P0736.jpg: 448x640 69 ships, 34 harbors, 18 small vehicles, 9.1ms\n",
      "image 243/937 /mmfs1/scratch/dsu.local/bshakya/scratch/bshakya/YOLOv11/../yolov10/datasets/DOTAv1.5/images/test/P0739.jpg: 512x640 44 ships, 23 harbors, 39 small vehicles, 9.8ms\n",
      "image 244/937 /mmfs1/scratch/dsu.local/bshakya/scratch/bshakya/YOLOv11/../yolov10/datasets/DOTAv1.5/images/test/P0740.jpg: 640x640 48 ships, 17 harbors, 9 small vehicles, 9.0ms\n",
      "image 245/937 /mmfs1/scratch/dsu.local/bshakya/scratch/bshakya/YOLOv11/../yolov10/datasets/DOTAv1.5/images/test/P0741.jpg: 544x640 60 ships, 24 harbors, 8 small vehicles, 1 swimming pool, 9.1ms\n",
      "image 246/937 /mmfs1/scratch/dsu.local/bshakya/scratch/bshakya/YOLOv11/../yolov10/datasets/DOTAv1.5/images/test/P0742.jpg: 448x640 51 ships, 34 harbors, 9 small vehicles, 9.1ms\n",
      "image 247/937 /mmfs1/scratch/dsu.local/bshakya/scratch/bshakya/YOLOv11/../yolov10/datasets/DOTAv1.5/images/test/P0747.jpg: 640x288 20 ships, 22 harbors, 7 small vehicles, 9.3ms\n",
      "image 248/937 /mmfs1/scratch/dsu.local/bshakya/scratch/bshakya/YOLOv11/../yolov10/datasets/DOTAv1.5/images/test/P0748.jpg: 448x640 59 ships, 23 harbors, 5 small vehicles, 9.1ms\n",
      "image 249/937 /mmfs1/scratch/dsu.local/bshakya/scratch/bshakya/YOLOv11/../yolov10/datasets/DOTAv1.5/images/test/P0751.jpg: 320x640 43 ships, 23 harbors, 8 small vehicles, 8.9ms\n",
      "image 250/937 /mmfs1/scratch/dsu.local/bshakya/scratch/bshakya/YOLOv11/../yolov10/datasets/DOTAv1.5/images/test/P0752.jpg: 320x640 84 ships, 16 harbors, 29 small vehicles, 8.5ms\n",
      "image 251/937 /mmfs1/scratch/dsu.local/bshakya/scratch/bshakya/YOLOv11/../yolov10/datasets/DOTAv1.5/images/test/P0756.jpg: 640x640 109 ships, 7 harbors, 35 small vehicles, 9.0ms\n",
      "image 252/937 /mmfs1/scratch/dsu.local/bshakya/scratch/bshakya/YOLOv11/../yolov10/datasets/DOTAv1.5/images/test/P0758.jpg: 416x640 36 ships, 29 harbors, 24 small vehicles, 4 swimming pools, 9.3ms\n",
      "image 253/937 /mmfs1/scratch/dsu.local/bshakya/scratch/bshakya/YOLOv11/../yolov10/datasets/DOTAv1.5/images/test/P0765.jpg: 640x640 83 ships, 66 harbors, 26 small vehicles, 9.4ms\n",
      "image 254/937 /mmfs1/scratch/dsu.local/bshakya/scratch/bshakya/YOLOv11/../yolov10/datasets/DOTAv1.5/images/test/P0767.jpg: 640x544 54 ships, 37 harbors, 30 small vehicles, 1 swimming pool, 8.9ms\n",
      "image 255/937 /mmfs1/scratch/dsu.local/bshakya/scratch/bshakya/YOLOv11/../yolov10/datasets/DOTAv1.5/images/test/P0771.jpg: 640x416 8 tennis courts, 43 small vehicles, 8.8ms\n",
      "image 256/937 /mmfs1/scratch/dsu.local/bshakya/scratch/bshakya/YOLOv11/../yolov10/datasets/DOTAv1.5/images/test/P0772.jpg: 640x544 2 baseball diamonds, 6 tennis courts, 2 basketball courts, 5 small vehicles, 2 swimming pools, 9.1ms\n",
      "image 257/937 /mmfs1/scratch/dsu.local/bshakya/scratch/bshakya/YOLOv11/../yolov10/datasets/DOTAv1.5/images/test/P0773.jpg: 544x640 2 baseball diamonds, 6 tennis courts, 1 ground track field, 22 small vehicles, 2 swimming pools, 9.3ms\n",
      "image 258/937 /mmfs1/scratch/dsu.local/bshakya/scratch/bshakya/YOLOv11/../yolov10/datasets/DOTAv1.5/images/test/P0774.jpg: 640x544 1 baseball diamond, 6 tennis courts, 22 small vehicles, 9.3ms\n",
      "image 259/937 /mmfs1/scratch/dsu.local/bshakya/scratch/bshakya/YOLOv11/../yolov10/datasets/DOTAv1.5/images/test/P0776.jpg: 512x640 35 large vehicles, 9.2ms\n",
      "image 260/937 /mmfs1/scratch/dsu.local/bshakya/scratch/bshakya/YOLOv11/../yolov10/datasets/DOTAv1.5/images/test/P0784.jpg: 256x640 31 planes, 15.0ms\n",
      "image 261/937 /mmfs1/scratch/dsu.local/bshakya/scratch/bshakya/YOLOv11/../yolov10/datasets/DOTAv1.5/images/test/P0788.jpg: 288x640 286 ships, 12 harbors, 1 small vehicle, 1 swimming pool, 9.4ms\n",
      "image 262/937 /mmfs1/scratch/dsu.local/bshakya/scratch/bshakya/YOLOv11/../yolov10/datasets/DOTAv1.5/images/test/P0793.jpg: 640x352 8 tennis courts, 8 small vehicles, 1 swimming pool, 9.3ms\n",
      "image 263/937 /mmfs1/scratch/dsu.local/bshakya/scratch/bshakya/YOLOv11/../yolov10/datasets/DOTAv1.5/images/test/P0797.jpg: 640x288 246 ships, 7 harbors, 5 small vehicles, 9.3ms\n",
      "image 264/937 /mmfs1/scratch/dsu.local/bshakya/scratch/bshakya/YOLOv11/../yolov10/datasets/DOTAv1.5/images/test/P0798.jpg: 640x448 272 ships, 11 harbors, 17 small vehicles, 9.1ms\n",
      "image 265/937 /mmfs1/scratch/dsu.local/bshakya/scratch/bshakya/YOLOv11/../yolov10/datasets/DOTAv1.5/images/test/P0802.jpg: 320x640 6 tennis courts, 2 basketball courts, 4 small vehicles, 8.8ms\n",
      "image 266/937 /mmfs1/scratch/dsu.local/bshakya/scratch/bshakya/YOLOv11/../yolov10/datasets/DOTAv1.5/images/test/P0807.jpg: 640x320 19 planes, 43 small vehicles, 8.9ms\n",
      "image 267/937 /mmfs1/scratch/dsu.local/bshakya/scratch/bshakya/YOLOv11/../yolov10/datasets/DOTAv1.5/images/test/P0808.jpg: 320x640 6 tennis courts, 1 small vehicle, 8.8ms\n",
      "image 268/937 /mmfs1/scratch/dsu.local/bshakya/scratch/bshakya/YOLOv11/../yolov10/datasets/DOTAv1.5/images/test/P0811.jpg: 256x640 12 tennis courts, 16 small vehicles, 8.9ms\n",
      "image 269/937 /mmfs1/scratch/dsu.local/bshakya/scratch/bshakya/YOLOv11/../yolov10/datasets/DOTAv1.5/images/test/P0812.jpg: 640x608 280 ships, 20 harbors, 9.2ms\n",
      "image 270/937 /mmfs1/scratch/dsu.local/bshakya/scratch/bshakya/YOLOv11/../yolov10/datasets/DOTAv1.5/images/test/P0813.jpg: 640x416 6 tennis courts, 4 small vehicles, 9.1ms\n",
      "image 271/937 /mmfs1/scratch/dsu.local/bshakya/scratch/bshakya/YOLOv11/../yolov10/datasets/DOTAv1.5/images/test/P0820.jpg: 480x640 6 tennis courts, 86 small vehicles, 8.8ms\n",
      "image 272/937 /mmfs1/scratch/dsu.local/bshakya/scratch/bshakya/YOLOv11/../yolov10/datasets/DOTAv1.5/images/test/P0824.jpg: 640x640 12 tennis courts, 14 small vehicles, 9.0ms\n",
      "image 273/937 /mmfs1/scratch/dsu.local/bshakya/scratch/bshakya/YOLOv11/../yolov10/datasets/DOTAv1.5/images/test/P0830.jpg: 352x640 289 ships, 8 harbors, 3 small vehicles, 8.9ms\n",
      "image 274/937 /mmfs1/scratch/dsu.local/bshakya/scratch/bshakya/YOLOv11/../yolov10/datasets/DOTAv1.5/images/test/P0834.jpg: 256x640 6 tennis courts, 3 basketball courts, 9 small vehicles, 9.1ms\n",
      "image 275/937 /mmfs1/scratch/dsu.local/bshakya/scratch/bshakya/YOLOv11/../yolov10/datasets/DOTAv1.5/images/test/P0836.jpg: 480x640 267 ships, 14 harbors, 19 small vehicles, 9.2ms\n",
      "image 276/937 /mmfs1/scratch/dsu.local/bshakya/scratch/bshakya/YOLOv11/../yolov10/datasets/DOTAv1.5/images/test/P0842.jpg: 512x640 14 planes, 2 small vehicles, 9.3ms\n",
      "image 277/937 /mmfs1/scratch/dsu.local/bshakya/scratch/bshakya/YOLOv11/../yolov10/datasets/DOTAv1.5/images/test/P0847.jpg: 608x640 7 tennis courts, 51 small vehicles, 9.2ms\n",
      "image 278/937 /mmfs1/scratch/dsu.local/bshakya/scratch/bshakya/YOLOv11/../yolov10/datasets/DOTAv1.5/images/test/P0852.jpg: 544x640 18 large vehicles, 9 small vehicles, 9.0ms\n",
      "image 279/937 /mmfs1/scratch/dsu.local/bshakya/scratch/bshakya/YOLOv11/../yolov10/datasets/DOTAv1.5/images/test/P0854.jpg: 640x416 10 tennis courts, 1 roundabout, 8.8ms\n",
      "image 280/937 /mmfs1/scratch/dsu.local/bshakya/scratch/bshakya/YOLOv11/../yolov10/datasets/DOTAv1.5/images/test/P0859.jpg: 640x352 260 ships, 13 harbors, 27 small vehicles, 9.1ms\n",
      "image 281/937 /mmfs1/scratch/dsu.local/bshakya/scratch/bshakya/YOLOv11/../yolov10/datasets/DOTAv1.5/images/test/P0862.jpg: 640x512 6 tennis courts, 4 small vehicles, 9.2ms\n",
      "image 282/937 /mmfs1/scratch/dsu.local/bshakya/scratch/bshakya/YOLOv11/../yolov10/datasets/DOTAv1.5/images/test/P0863.jpg: 544x640 278 ships, 21 harbors, 1 small vehicle, 9.2ms\n",
      "image 283/937 /mmfs1/scratch/dsu.local/bshakya/scratch/bshakya/YOLOv11/../yolov10/datasets/DOTAv1.5/images/test/P0865.jpg: 512x640 266 ships, 18 harbors, 16 small vehicles, 9.3ms\n",
      "image 284/937 /mmfs1/scratch/dsu.local/bshakya/scratch/bshakya/YOLOv11/../yolov10/datasets/DOTAv1.5/images/test/P0866.jpg: 640x640 9 tennis courts, 1 small vehicle, 1 swimming pool, 9.3ms\n",
      "image 285/937 /mmfs1/scratch/dsu.local/bshakya/scratch/bshakya/YOLOv11/../yolov10/datasets/DOTAv1.5/images/test/P0876.jpg: 256x640 54 harbors, 6 small vehicles, 8 swimming pools, 9.1ms\n",
      "image 286/937 /mmfs1/scratch/dsu.local/bshakya/scratch/bshakya/YOLOv11/../yolov10/datasets/DOTAv1.5/images/test/P0877.jpg: 640x512 1 baseball diamond, 6 tennis courts, 39 small vehicles, 1 swimming pool, 9.2ms\n",
      "image 287/937 /mmfs1/scratch/dsu.local/bshakya/scratch/bshakya/YOLOv11/../yolov10/datasets/DOTAv1.5/images/test/P0880.jpg: 576x640 2 baseball diamonds, 6 tennis courts, 1 basketball court, 11 small vehicles, 3 soccer ball fields, 1 swimming pool, 9.3ms\n",
      "image 288/937 /mmfs1/scratch/dsu.local/bshakya/scratch/bshakya/YOLOv11/../yolov10/datasets/DOTAv1.5/images/test/P0886.jpg: 640x512 5 tennis courts, 1 basketball court, 10 small vehicles, 9.1ms\n",
      "image 289/937 /mmfs1/scratch/dsu.local/bshakya/scratch/bshakya/YOLOv11/../yolov10/datasets/DOTAv1.5/images/test/P0889.jpg: 640x640 171 ships, 6 harbors, 3 small vehicles, 9.3ms\n",
      "image 290/937 /mmfs1/scratch/dsu.local/bshakya/scratch/bshakya/YOLOv11/../yolov10/datasets/DOTAv1.5/images/test/P0891.jpg: 640x416 286 ships, 9 harbors, 5 small vehicles, 9.2ms\n",
      "image 291/937 /mmfs1/scratch/dsu.local/bshakya/scratch/bshakya/YOLOv11/../yolov10/datasets/DOTAv1.5/images/test/P0901.jpg: 544x640 270 ships, 22 harbors, 8 small vehicles, 9.3ms\n",
      "image 292/937 /mmfs1/scratch/dsu.local/bshakya/scratch/bshakya/YOLOv11/../yolov10/datasets/DOTAv1.5/images/test/P0902.jpg: 640x608 267 ships, 17 harbors, 16 small vehicles, 9.4ms\n",
      "image 293/937 /mmfs1/scratch/dsu.local/bshakya/scratch/bshakya/YOLOv11/../yolov10/datasets/DOTAv1.5/images/test/P0903.jpg: 480x640 276 ships, 24 harbors, 9.2ms\n",
      "image 294/937 /mmfs1/scratch/dsu.local/bshakya/scratch/bshakya/YOLOv11/../yolov10/datasets/DOTAv1.5/images/test/P0912.jpg: 544x640 1 ship, 43 harbors, 9.4ms\n",
      "image 295/937 /mmfs1/scratch/dsu.local/bshakya/scratch/bshakya/YOLOv11/../yolov10/datasets/DOTAv1.5/images/test/P0916.jpg: 512x640 43 ships, 46 harbors, 9 small vehicles, 9.4ms\n",
      "image 296/937 /mmfs1/scratch/dsu.local/bshakya/scratch/bshakya/YOLOv11/../yolov10/datasets/DOTAv1.5/images/test/P0917.jpg: 640x544 274 ships, 16 harbors, 10 small vehicles, 9.3ms\n",
      "image 297/937 /mmfs1/scratch/dsu.local/bshakya/scratch/bshakya/YOLOv11/../yolov10/datasets/DOTAv1.5/images/test/P0919.jpg: 544x640 10 tennis courts, 3 small vehicles, 9.3ms\n",
      "image 298/937 /mmfs1/scratch/dsu.local/bshakya/scratch/bshakya/YOLOv11/../yolov10/datasets/DOTAv1.5/images/test/P0923.jpg: 640x352 16 harbors, 9.0ms\n",
      "image 299/937 /mmfs1/scratch/dsu.local/bshakya/scratch/bshakya/YOLOv11/../yolov10/datasets/DOTAv1.5/images/test/P0924.jpg: 640x352 20 planes, 1 large vehicle, 4 small vehicles, 8.6ms\n",
      "image 300/937 /mmfs1/scratch/dsu.local/bshakya/scratch/bshakya/YOLOv11/../yolov10/datasets/DOTAv1.5/images/test/P0927.jpg: 640x224 1 ship, 37 harbors, 9.2ms\n",
      "image 301/937 /mmfs1/scratch/dsu.local/bshakya/scratch/bshakya/YOLOv11/../yolov10/datasets/DOTAv1.5/images/test/P0930.jpg: 384x640 17 harbors, 9.3ms\n",
      "image 302/937 /mmfs1/scratch/dsu.local/bshakya/scratch/bshakya/YOLOv11/../yolov10/datasets/DOTAv1.5/images/test/P0931.jpg: 640x192 1 ship, 13 harbors, 9.2ms\n",
      "image 303/937 /mmfs1/scratch/dsu.local/bshakya/scratch/bshakya/YOLOv11/../yolov10/datasets/DOTAv1.5/images/test/P0935.jpg: 320x640 2 ships, 10 harbors, 3 small vehicles, 9.2ms\n",
      "image 304/937 /mmfs1/scratch/dsu.local/bshakya/scratch/bshakya/YOLOv11/../yolov10/datasets/DOTAv1.5/images/test/P0937.jpg: 160x640 27 harbors, 15.0ms\n",
      "image 305/937 /mmfs1/scratch/dsu.local/bshakya/scratch/bshakya/YOLOv11/../yolov10/datasets/DOTAv1.5/images/test/P0939.jpg: 192x640 24 ships, 2 harbors, 15 small vehicles, 9.0ms\n",
      "image 306/937 /mmfs1/scratch/dsu.local/bshakya/scratch/bshakya/YOLOv11/../yolov10/datasets/DOTAv1.5/images/test/P0942.jpg: 640x160 4 ships, 14 harbors, 2 small vehicles, 14.4ms\n",
      "image 307/937 /mmfs1/scratch/dsu.local/bshakya/scratch/bshakya/YOLOv11/../yolov10/datasets/DOTAv1.5/images/test/P0943.jpg: 160x640 12 ships, 35 harbors, 8 small vehicles, 9.0ms\n",
      "image 308/937 /mmfs1/scratch/dsu.local/bshakya/scratch/bshakya/YOLOv11/../yolov10/datasets/DOTAv1.5/images/test/P0954.jpg: 128x640 21 harbors, 9.1ms\n",
      "image 309/937 /mmfs1/scratch/dsu.local/bshakya/scratch/bshakya/YOLOv11/../yolov10/datasets/DOTAv1.5/images/test/P0955.jpg: 352x640 3 ships, 41 harbors, 1 swimming pool, 9.3ms\n",
      "image 310/937 /mmfs1/scratch/dsu.local/bshakya/scratch/bshakya/YOLOv11/../yolov10/datasets/DOTAv1.5/images/test/P0956.jpg: 256x640 1 ship, 20 harbors, 2 swimming pools, 9.2ms\n",
      "image 311/937 /mmfs1/scratch/dsu.local/bshakya/scratch/bshakya/YOLOv11/../yolov10/datasets/DOTAv1.5/images/test/P0958.jpg: 384x640 103 large vehicles, 49 small vehicles, 9.1ms\n",
      "image 312/937 /mmfs1/scratch/dsu.local/bshakya/scratch/bshakya/YOLOv11/../yolov10/datasets/DOTAv1.5/images/test/P0959.jpg: 352x640 35 harbors, 9.2ms\n",
      "image 313/937 /mmfs1/scratch/dsu.local/bshakya/scratch/bshakya/YOLOv11/../yolov10/datasets/DOTAv1.5/images/test/P0965.jpg: 160x640 16 harbors, 9.9ms\n",
      "image 314/937 /mmfs1/scratch/dsu.local/bshakya/scratch/bshakya/YOLOv11/../yolov10/datasets/DOTAv1.5/images/test/P0971.jpg: 224x640 2 ships, 20 harbors, 1 small vehicle, 9.2ms\n",
      "image 315/937 /mmfs1/scratch/dsu.local/bshakya/scratch/bshakya/YOLOv11/../yolov10/datasets/DOTAv1.5/images/test/P0976.jpg: 352x640 12 harbors, 1 small vehicle, 9.0ms\n",
      "image 316/937 /mmfs1/scratch/dsu.local/bshakya/scratch/bshakya/YOLOv11/../yolov10/datasets/DOTAv1.5/images/test/P0982.jpg: 384x640 28 harbors, 9.4ms\n",
      "image 317/937 /mmfs1/scratch/dsu.local/bshakya/scratch/bshakya/YOLOv11/../yolov10/datasets/DOTAv1.5/images/test/P0983.jpg: 384x640 6 ships, 11 harbors, 9.0ms\n",
      "image 318/937 /mmfs1/scratch/dsu.local/bshakya/scratch/bshakya/YOLOv11/../yolov10/datasets/DOTAv1.5/images/test/P0984.jpg: 128x640 20 harbors, 9.1ms\n",
      "image 319/937 /mmfs1/scratch/dsu.local/bshakya/scratch/bshakya/YOLOv11/../yolov10/datasets/DOTAv1.5/images/test/P0985.jpg: 640x256 18 harbors, 9.3ms\n",
      "image 320/937 /mmfs1/scratch/dsu.local/bshakya/scratch/bshakya/YOLOv11/../yolov10/datasets/DOTAv1.5/images/test/P0988.jpg: 640x448 12 harbors, 1 swimming pool, 9.3ms\n",
      "image 321/937 /mmfs1/scratch/dsu.local/bshakya/scratch/bshakya/YOLOv11/../yolov10/datasets/DOTAv1.5/images/test/P0992.jpg: 416x640 25 harbors, 1 swimming pool, 9.2ms\n",
      "image 322/937 /mmfs1/scratch/dsu.local/bshakya/scratch/bshakya/YOLOv11/../yolov10/datasets/DOTAv1.5/images/test/P0994.jpg: 352x640 3 ships, 12 harbors, 9.1ms\n",
      "image 323/937 /mmfs1/scratch/dsu.local/bshakya/scratch/bshakya/YOLOv11/../yolov10/datasets/DOTAv1.5/images/test/P0996.jpg: 384x640 32 harbors, 2 swimming pools, 9.3ms\n",
      "image 324/937 /mmfs1/scratch/dsu.local/bshakya/scratch/bshakya/YOLOv11/../yolov10/datasets/DOTAv1.5/images/test/P0997.jpg: 160x640 21 harbors, 9.2ms\n",
      "image 325/937 /mmfs1/scratch/dsu.local/bshakya/scratch/bshakya/YOLOv11/../yolov10/datasets/DOTAv1.5/images/test/P1000.jpg: 352x640 1 ship, 27 harbors, 9.1ms\n",
      "image 326/937 /mmfs1/scratch/dsu.local/bshakya/scratch/bshakya/YOLOv11/../yolov10/datasets/DOTAv1.5/images/test/P1001.jpg: 192x640 70 harbors, 9.2ms\n",
      "image 327/937 /mmfs1/scratch/dsu.local/bshakya/scratch/bshakya/YOLOv11/../yolov10/datasets/DOTAv1.5/images/test/P1002.jpg: 160x640 60 harbors, 9.2ms\n",
      "image 328/937 /mmfs1/scratch/dsu.local/bshakya/scratch/bshakya/YOLOv11/../yolov10/datasets/DOTAv1.5/images/test/P1004.jpg: 384x640 55 harbors, 1 bridge, 9.3ms\n",
      "image 329/937 /mmfs1/scratch/dsu.local/bshakya/scratch/bshakya/YOLOv11/../yolov10/datasets/DOTAv1.5/images/test/P1008.jpg: 128x640 19 harbors, 9.3ms\n",
      "image 330/937 /mmfs1/scratch/dsu.local/bshakya/scratch/bshakya/YOLOv11/../yolov10/datasets/DOTAv1.5/images/test/P1011.jpg: 640x512 3 storage tanks, 14 large vehicles, 30 small vehicles, 9.3ms\n",
      "image 331/937 /mmfs1/scratch/dsu.local/bshakya/scratch/bshakya/YOLOv11/../yolov10/datasets/DOTAv1.5/images/test/P1013.jpg: 64x640 6 harbors, 14.6ms\n",
      "image 332/937 /mmfs1/scratch/dsu.local/bshakya/scratch/bshakya/YOLOv11/../yolov10/datasets/DOTAv1.5/images/test/P1017.jpg: 192x640 39 harbors, 9.2ms\n",
      "image 333/937 /mmfs1/scratch/dsu.local/bshakya/scratch/bshakya/YOLOv11/../yolov10/datasets/DOTAv1.5/images/test/P1018.jpg: 448x640 264 harbors, 7 swimming pools, 9.3ms\n",
      "image 334/937 /mmfs1/scratch/dsu.local/bshakya/scratch/bshakya/YOLOv11/../yolov10/datasets/DOTAv1.5/images/test/P1024.jpg: 256x640 32 harbors, 1 small vehicle, 9.3ms\n",
      "image 335/937 /mmfs1/scratch/dsu.local/bshakya/scratch/bshakya/YOLOv11/../yolov10/datasets/DOTAv1.5/images/test/P1025.jpg: 256x640 33 harbors, 2 swimming pools, 8.9ms\n",
      "image 336/937 /mmfs1/scratch/dsu.local/bshakya/scratch/bshakya/YOLOv11/../yolov10/datasets/DOTAv1.5/images/test/P1028.jpg: 352x640 14 planes, 29 harbors, 5 swimming pools, 9.2ms\n",
      "image 337/937 /mmfs1/scratch/dsu.local/bshakya/scratch/bshakya/YOLOv11/../yolov10/datasets/DOTAv1.5/images/test/P1031.jpg: 352x640 111 harbors, 3 swimming pools, 8.9ms\n",
      "image 338/937 /mmfs1/scratch/dsu.local/bshakya/scratch/bshakya/YOLOv11/../yolov10/datasets/DOTAv1.5/images/test/P1032.jpg: 640x352 18 large vehicles, 15 small vehicles, 9.1ms\n",
      "image 339/937 /mmfs1/scratch/dsu.local/bshakya/scratch/bshakya/YOLOv11/../yolov10/datasets/DOTAv1.5/images/test/P1033.jpg: 640x480 60 large vehicles, 5 small vehicles, 8.8ms\n",
      "image 340/937 /mmfs1/scratch/dsu.local/bshakya/scratch/bshakya/YOLOv11/../yolov10/datasets/DOTAv1.5/images/test/P1034.jpg: 512x640 2 ships, 68 harbors, 6 swimming pools, 9.3ms\n",
      "image 341/937 /mmfs1/scratch/dsu.local/bshakya/scratch/bshakya/YOLOv11/../yolov10/datasets/DOTAv1.5/images/test/P1035.jpg: 640x480 58 harbors, 6 small vehicles, 13 swimming pools, 9.3ms\n",
      "image 342/937 /mmfs1/scratch/dsu.local/bshakya/scratch/bshakya/YOLOv11/../yolov10/datasets/DOTAv1.5/images/test/P1036.jpg: 640x384 6 ships, 56 harbors, 7 small vehicles, 9 swimming pools, 9.3ms\n",
      "image 343/937 /mmfs1/scratch/dsu.local/bshakya/scratch/bshakya/YOLOv11/../yolov10/datasets/DOTAv1.5/images/test/P1038.jpg: 608x640 10 tennis courts, 9.3ms\n",
      "image 344/937 /mmfs1/scratch/dsu.local/bshakya/scratch/bshakya/YOLOv11/../yolov10/datasets/DOTAv1.5/images/test/P1039.jpg: 640x544 5 tennis courts, 1 basketball court, 1 small vehicle, 8.9ms\n",
      "image 345/937 /mmfs1/scratch/dsu.local/bshakya/scratch/bshakya/YOLOv11/../yolov10/datasets/DOTAv1.5/images/test/P1040.jpg: 640x544 18 tennis courts, 6 small vehicles, 8.7ms\n",
      "image 346/937 /mmfs1/scratch/dsu.local/bshakya/scratch/bshakya/YOLOv11/../yolov10/datasets/DOTAv1.5/images/test/P1041.jpg: 576x640 31 large vehicles, 71 small vehicles, 9.1ms\n",
      "image 347/937 /mmfs1/scratch/dsu.local/bshakya/scratch/bshakya/YOLOv11/../yolov10/datasets/DOTAv1.5/images/test/P1042.jpg: 640x640 18 tennis courts, 101 small vehicles, 1 swimming pool, 9.3ms\n",
      "image 348/937 /mmfs1/scratch/dsu.local/bshakya/scratch/bshakya/YOLOv11/../yolov10/datasets/DOTAv1.5/images/test/P1044.jpg: 608x640 9 tennis courts, 5 small vehicles, 9.3ms\n",
      "image 349/937 /mmfs1/scratch/dsu.local/bshakya/scratch/bshakya/YOLOv11/../yolov10/datasets/DOTAv1.5/images/test/P1045.jpg: 640x544 6 tennis courts, 30 small vehicles, 1 swimming pool, 9.1ms\n",
      "image 350/937 /mmfs1/scratch/dsu.local/bshakya/scratch/bshakya/YOLOv11/../yolov10/datasets/DOTAv1.5/images/test/P1048.jpg: 640x352 11 planes, 52 small vehicles, 9.2ms\n",
      "image 351/937 /mmfs1/scratch/dsu.local/bshakya/scratch/bshakya/YOLOv11/../yolov10/datasets/DOTAv1.5/images/test/P1050.jpg: 640x448 1 plane, 2 baseball diamonds, 5 tennis courts, 6 small vehicles, 9.2ms\n",
      "image 352/937 /mmfs1/scratch/dsu.local/bshakya/scratch/bshakya/YOLOv11/../yolov10/datasets/DOTAv1.5/images/test/P1056.jpg: 480x640 1 ship, 44 harbors, 1 swimming pool, 9.3ms\n",
      "image 353/937 /mmfs1/scratch/dsu.local/bshakya/scratch/bshakya/YOLOv11/../yolov10/datasets/DOTAv1.5/images/test/P1058.jpg: 608x640 2 ships, 52 harbors, 1 small vehicle, 9.4ms\n",
      "image 354/937 /mmfs1/scratch/dsu.local/bshakya/scratch/bshakya/YOLOv11/../yolov10/datasets/DOTAv1.5/images/test/P1064.jpg: 640x416 3 ships, 22 harbors, 33 small vehicles, 3 swimming pools, 9.4ms\n",
      "image 355/937 /mmfs1/scratch/dsu.local/bshakya/scratch/bshakya/YOLOv11/../yolov10/datasets/DOTAv1.5/images/test/P1068.jpg: 640x448 118 harbors, 9.3ms\n",
      "image 356/937 /mmfs1/scratch/dsu.local/bshakya/scratch/bshakya/YOLOv11/../yolov10/datasets/DOTAv1.5/images/test/P1072.jpg: 192x640 65 harbors, 1 small vehicle, 9.3ms\n",
      "image 357/937 /mmfs1/scratch/dsu.local/bshakya/scratch/bshakya/YOLOv11/../yolov10/datasets/DOTAv1.5/images/test/P1074.jpg: 640x288 42 harbors, 9.2ms\n",
      "image 358/937 /mmfs1/scratch/dsu.local/bshakya/scratch/bshakya/YOLOv11/../yolov10/datasets/DOTAv1.5/images/test/P1081.jpg: 640x320 36 harbors, 2 swimming pools, 9.2ms\n",
      "image 359/937 /mmfs1/scratch/dsu.local/bshakya/scratch/bshakya/YOLOv11/../yolov10/datasets/DOTAv1.5/images/test/P1082.jpg: 576x640 39 large vehicles, 40 small vehicles, 9.3ms\n",
      "image 360/937 /mmfs1/scratch/dsu.local/bshakya/scratch/bshakya/YOLOv11/../yolov10/datasets/DOTAv1.5/images/test/P1083.jpg: 640x480 91 harbors, 3 swimming pools, 9.2ms\n",
      "image 361/937 /mmfs1/scratch/dsu.local/bshakya/scratch/bshakya/YOLOv11/../yolov10/datasets/DOTAv1.5/images/test/P1085.jpg: 384x640 17 tennis courts, 2 small vehicles, 9.3ms\n",
      "image 362/937 /mmfs1/scratch/dsu.local/bshakya/scratch/bshakya/YOLOv11/../yolov10/datasets/DOTAv1.5/images/test/P1093.jpg: 640x448 8 tennis courts, 16 small vehicles, 9.0ms\n",
      "image 363/937 /mmfs1/scratch/dsu.local/bshakya/scratch/bshakya/YOLOv11/../yolov10/datasets/DOTAv1.5/images/test/P1097.jpg: 640x608 34 harbors, 1 small vehicle, 1 swimming pool, 9.3ms\n",
      "image 364/937 /mmfs1/scratch/dsu.local/bshakya/scratch/bshakya/YOLOv11/../yolov10/datasets/DOTAv1.5/images/test/P1100.jpg: 640x512 9 large vehicles, 51 small vehicles, 9.2ms\n",
      "image 365/937 /mmfs1/scratch/dsu.local/bshakya/scratch/bshakya/YOLOv11/../yolov10/datasets/DOTAv1.5/images/test/P1102.jpg: 416x640 10 tennis courts, 20 small vehicles, 8.9ms\n",
      "image 366/937 /mmfs1/scratch/dsu.local/bshakya/scratch/bshakya/YOLOv11/../yolov10/datasets/DOTAv1.5/images/test/P1104.jpg: 640x576 10 planes, 8.9ms\n",
      "image 367/937 /mmfs1/scratch/dsu.local/bshakya/scratch/bshakya/YOLOv11/../yolov10/datasets/DOTAv1.5/images/test/P1106.jpg: 640x640 247 ships, 12 harbors, 40 small vehicles, 1 swimming pool, 9.3ms\n",
      "image 368/937 /mmfs1/scratch/dsu.local/bshakya/scratch/bshakya/YOLOv11/../yolov10/datasets/DOTAv1.5/images/test/P1111.jpg: 640x480 9 large vehicles, 1 small vehicle, 9.2ms\n",
      "image 369/937 /mmfs1/scratch/dsu.local/bshakya/scratch/bshakya/YOLOv11/../yolov10/datasets/DOTAv1.5/images/test/P1112.jpg: 256x640 22 planes, 9.5ms\n",
      "image 370/937 /mmfs1/scratch/dsu.local/bshakya/scratch/bshakya/YOLOv11/../yolov10/datasets/DOTAv1.5/images/test/P1115.jpg: 192x640 3 planes, 10.0ms\n",
      "image 371/937 /mmfs1/scratch/dsu.local/bshakya/scratch/bshakya/YOLOv11/../yolov10/datasets/DOTAv1.5/images/test/P1120.jpg: 160x640 7 planes, 9.2ms\n",
      "image 372/937 /mmfs1/scratch/dsu.local/bshakya/scratch/bshakya/YOLOv11/../yolov10/datasets/DOTAv1.5/images/test/P1123.jpg: 288x640 6 planes, 9.3ms\n",
      "image 373/937 /mmfs1/scratch/dsu.local/bshakya/scratch/bshakya/YOLOv11/../yolov10/datasets/DOTAv1.5/images/test/P1124.jpg: 544x640 8 planes, 2 small vehicles, 9.5ms\n",
      "image 374/937 /mmfs1/scratch/dsu.local/bshakya/scratch/bshakya/YOLOv11/../yolov10/datasets/DOTAv1.5/images/test/P1125.jpg: 384x640 19 planes, 9.4ms\n",
      "image 375/937 /mmfs1/scratch/dsu.local/bshakya/scratch/bshakya/YOLOv11/../yolov10/datasets/DOTAv1.5/images/test/P1126.jpg: 256x640 9 planes, 9.4ms\n",
      "image 376/937 /mmfs1/scratch/dsu.local/bshakya/scratch/bshakya/YOLOv11/../yolov10/datasets/DOTAv1.5/images/test/P1127.jpg: 480x640 2 planes, 9.3ms\n",
      "image 377/937 /mmfs1/scratch/dsu.local/bshakya/scratch/bshakya/YOLOv11/../yolov10/datasets/DOTAv1.5/images/test/P1129.jpg: 640x416 55 planes, 9.2ms\n",
      "image 378/937 /mmfs1/scratch/dsu.local/bshakya/scratch/bshakya/YOLOv11/../yolov10/datasets/DOTAv1.5/images/test/P1135.jpg: 640x416 6 planes, 8.9ms\n",
      "image 379/937 /mmfs1/scratch/dsu.local/bshakya/scratch/bshakya/YOLOv11/../yolov10/datasets/DOTAv1.5/images/test/P1136.jpg: 640x512 6 planes, 9.2ms\n",
      "image 380/937 /mmfs1/scratch/dsu.local/bshakya/scratch/bshakya/YOLOv11/../yolov10/datasets/DOTAv1.5/images/test/P1145.jpg: 640x448 3 planes, 9.2ms\n",
      "image 381/937 /mmfs1/scratch/dsu.local/bshakya/scratch/bshakya/YOLOv11/../yolov10/datasets/DOTAv1.5/images/test/P1146.jpg: 576x640 34 planes, 1 storage tank, 10 small vehicles, 9.4ms\n",
      "image 382/937 /mmfs1/scratch/dsu.local/bshakya/scratch/bshakya/YOLOv11/../yolov10/datasets/DOTAv1.5/images/test/P1151.jpg: 640x480 80 planes, 9.4ms\n",
      "image 383/937 /mmfs1/scratch/dsu.local/bshakya/scratch/bshakya/YOLOv11/../yolov10/datasets/DOTAv1.5/images/test/P1153.jpg: 640x480 18 planes, 8.9ms\n",
      "image 384/937 /mmfs1/scratch/dsu.local/bshakya/scratch/bshakya/YOLOv11/../yolov10/datasets/DOTAv1.5/images/test/P1157.jpg: 480x640 31 planes, 9.4ms\n",
      "image 385/937 /mmfs1/scratch/dsu.local/bshakya/scratch/bshakya/YOLOv11/../yolov10/datasets/DOTAv1.5/images/test/P1160.jpg: 640x320 32 planes, 1 small vehicle, 9.2ms\n",
      "image 386/937 /mmfs1/scratch/dsu.local/bshakya/scratch/bshakya/YOLOv11/../yolov10/datasets/DOTAv1.5/images/test/P1162.jpg: 352x640 3 planes, 9.3ms\n",
      "image 387/937 /mmfs1/scratch/dsu.local/bshakya/scratch/bshakya/YOLOv11/../yolov10/datasets/DOTAv1.5/images/test/P1163.jpg: 608x640 3 ships, 9.5ms\n",
      "image 388/937 /mmfs1/scratch/dsu.local/bshakya/scratch/bshakya/YOLOv11/../yolov10/datasets/DOTAv1.5/images/test/P1169.jpg: 640x640 (no detections), 9.4ms\n",
      "image 389/937 /mmfs1/scratch/dsu.local/bshakya/scratch/bshakya/YOLOv11/../yolov10/datasets/DOTAv1.5/images/test/P1172.jpg: 640x352 1 tennis court, 1 soccer ball field, 9.3ms\n",
      "image 390/937 /mmfs1/scratch/dsu.local/bshakya/scratch/bshakya/YOLOv11/../yolov10/datasets/DOTAv1.5/images/test/P1175.jpg: 640x448 (no detections), 9.3ms\n",
      "image 391/937 /mmfs1/scratch/dsu.local/bshakya/scratch/bshakya/YOLOv11/../yolov10/datasets/DOTAv1.5/images/test/P1176.jpg: 256x640 9 planes, 9.4ms\n",
      "image 392/937 /mmfs1/scratch/dsu.local/bshakya/scratch/bshakya/YOLOv11/../yolov10/datasets/DOTAv1.5/images/test/P1177.jpg: 224x640 20 planes, 9.3ms\n",
      "image 393/937 /mmfs1/scratch/dsu.local/bshakya/scratch/bshakya/YOLOv11/../yolov10/datasets/DOTAv1.5/images/test/P1180.jpg: 512x640 16 planes, 9.4ms\n",
      "image 394/937 /mmfs1/scratch/dsu.local/bshakya/scratch/bshakya/YOLOv11/../yolov10/datasets/DOTAv1.5/images/test/P1183.jpg: 448x640 2 planes, 1 large vehicle, 16 small vehicles, 9.3ms\n",
      "image 395/937 /mmfs1/scratch/dsu.local/bshakya/scratch/bshakya/YOLOv11/../yolov10/datasets/DOTAv1.5/images/test/P1188.jpg: 640x512 5 tennis courts, 2 basketball courts, 3 small vehicles, 1 soccer ball field, 9.2ms\n",
      "image 396/937 /mmfs1/scratch/dsu.local/bshakya/scratch/bshakya/YOLOv11/../yolov10/datasets/DOTAv1.5/images/test/P1190.jpg: 544x640 48 large vehicles, 13 small vehicles, 8.9ms\n",
      "image 397/937 /mmfs1/scratch/dsu.local/bshakya/scratch/bshakya/YOLOv11/../yolov10/datasets/DOTAv1.5/images/test/P1192.jpg: 640x512 214 large vehicles, 86 small vehicles, 8.8ms\n",
      "image 398/937 /mmfs1/scratch/dsu.local/bshakya/scratch/bshakya/YOLOv11/../yolov10/datasets/DOTAv1.5/images/test/P1194.jpg: 640x512 131 large vehicles, 50 small vehicles, 8.5ms\n",
      "image 399/937 /mmfs1/scratch/dsu.local/bshakya/scratch/bshakya/YOLOv11/../yolov10/datasets/DOTAv1.5/images/test/P1195.jpg: 512x640 42 large vehicles, 22 small vehicles, 8.9ms\n",
      "image 400/937 /mmfs1/scratch/dsu.local/bshakya/scratch/bshakya/YOLOv11/../yolov10/datasets/DOTAv1.5/images/test/P1196.jpg: 640x640 21 large vehicles, 78 small vehicles, 8.7ms\n",
      "image 401/937 /mmfs1/scratch/dsu.local/bshakya/scratch/bshakya/YOLOv11/../yolov10/datasets/DOTAv1.5/images/test/P1197.jpg: 544x640 39 small vehicles, 5 soccer ball fields, 1 swimming pool, 8.9ms\n",
      "image 402/937 /mmfs1/scratch/dsu.local/bshakya/scratch/bshakya/YOLOv11/../yolov10/datasets/DOTAv1.5/images/test/P1202.jpg: 640x640 (no detections), 9.3ms\n",
      "image 403/937 /mmfs1/scratch/dsu.local/bshakya/scratch/bshakya/YOLOv11/../yolov10/datasets/DOTAv1.5/images/test/P1203.jpg: 640x640 (no detections), 8.9ms\n",
      "image 404/937 /mmfs1/scratch/dsu.local/bshakya/scratch/bshakya/YOLOv11/../yolov10/datasets/DOTAv1.5/images/test/P1204.jpg: 512x640 (no detections), 9.5ms\n",
      "image 405/937 /mmfs1/scratch/dsu.local/bshakya/scratch/bshakya/YOLOv11/../yolov10/datasets/DOTAv1.5/images/test/P1206.jpg: 640x640 (no detections), 10.1ms\n",
      "image 406/937 /mmfs1/scratch/dsu.local/bshakya/scratch/bshakya/YOLOv11/../yolov10/datasets/DOTAv1.5/images/test/P1215.jpg: 640x640 1 ship, 9.0ms\n",
      "image 407/937 /mmfs1/scratch/dsu.local/bshakya/scratch/bshakya/YOLOv11/../yolov10/datasets/DOTAv1.5/images/test/P1218.jpg: 512x640 5 ships, 9.3ms\n",
      "image 408/937 /mmfs1/scratch/dsu.local/bshakya/scratch/bshakya/YOLOv11/../yolov10/datasets/DOTAv1.5/images/test/P1220.jpg: 608x640 (no detections), 9.5ms\n",
      "image 409/937 /mmfs1/scratch/dsu.local/bshakya/scratch/bshakya/YOLOv11/../yolov10/datasets/DOTAv1.5/images/test/P1226.jpg: 640x640 10 ships, 1 storage tank, 9.3ms\n",
      "image 410/937 /mmfs1/scratch/dsu.local/bshakya/scratch/bshakya/YOLOv11/../yolov10/datasets/DOTAv1.5/images/test/P1227.jpg: 640x640 3 ships, 9.0ms\n",
      "image 411/937 /mmfs1/scratch/dsu.local/bshakya/scratch/bshakya/YOLOv11/../yolov10/datasets/DOTAv1.5/images/test/P1229.jpg: 640x640 1 bridge, 8.9ms\n",
      "image 412/937 /mmfs1/scratch/dsu.local/bshakya/scratch/bshakya/YOLOv11/../yolov10/datasets/DOTAv1.5/images/test/P1233.jpg: 640x640 (no detections), 8.9ms\n",
      "image 413/937 /mmfs1/scratch/dsu.local/bshakya/scratch/bshakya/YOLOv11/../yolov10/datasets/DOTAv1.5/images/test/P1235.jpg: 640x640 14 ships, 20 storage tanks, 9.1ms\n",
      "image 414/937 /mmfs1/scratch/dsu.local/bshakya/scratch/bshakya/YOLOv11/../yolov10/datasets/DOTAv1.5/images/test/P1236.jpg: 640x640 (no detections), 9.0ms\n",
      "image 415/937 /mmfs1/scratch/dsu.local/bshakya/scratch/bshakya/YOLOv11/../yolov10/datasets/DOTAv1.5/images/test/P1237.jpg: 512x640 (no detections), 9.4ms\n",
      "image 416/937 /mmfs1/scratch/dsu.local/bshakya/scratch/bshakya/YOLOv11/../yolov10/datasets/DOTAv1.5/images/test/P1244.jpg: 512x640 1 ship, 1 ground track field, 1 harbor, 1 bridge, 9.0ms\n",
      "image 417/937 /mmfs1/scratch/dsu.local/bshakya/scratch/bshakya/YOLOv11/../yolov10/datasets/DOTAv1.5/images/test/P1248.jpg: 640x640 1 ground track field, 2 bridges, 9.3ms\n",
      "image 418/937 /mmfs1/scratch/dsu.local/bshakya/scratch/bshakya/YOLOv11/../yolov10/datasets/DOTAv1.5/images/test/P1252.jpg: 640x640 (no detections), 9.0ms\n",
      "image 419/937 /mmfs1/scratch/dsu.local/bshakya/scratch/bshakya/YOLOv11/../yolov10/datasets/DOTAv1.5/images/test/P1253.jpg: 640x640 (no detections), 9.0ms\n",
      "image 420/937 /mmfs1/scratch/dsu.local/bshakya/scratch/bshakya/YOLOv11/../yolov10/datasets/DOTAv1.5/images/test/P1254.jpg: 640x640 2 ships, 1 bridge, 8.9ms\n",
      "image 421/937 /mmfs1/scratch/dsu.local/bshakya/scratch/bshakya/YOLOv11/../yolov10/datasets/DOTAv1.5/images/test/P1261.jpg: 640x640 (no detections), 9.0ms\n",
      "image 422/937 /mmfs1/scratch/dsu.local/bshakya/scratch/bshakya/YOLOv11/../yolov10/datasets/DOTAv1.5/images/test/P1262.jpg: 640x640 4 bridges, 9.0ms\n",
      "image 423/937 /mmfs1/scratch/dsu.local/bshakya/scratch/bshakya/YOLOv11/../yolov10/datasets/DOTAv1.5/images/test/P1263.jpg: 640x640 (no detections), 9.0ms\n",
      "image 424/937 /mmfs1/scratch/dsu.local/bshakya/scratch/bshakya/YOLOv11/../yolov10/datasets/DOTAv1.5/images/test/P1264.jpg: 640x640 3 ships, 9.0ms\n",
      "image 425/937 /mmfs1/scratch/dsu.local/bshakya/scratch/bshakya/YOLOv11/../yolov10/datasets/DOTAv1.5/images/test/P1270.jpg: 608x640 (no detections), 9.5ms\n",
      "image 426/937 /mmfs1/scratch/dsu.local/bshakya/scratch/bshakya/YOLOv11/../yolov10/datasets/DOTAv1.5/images/test/P1271.jpg: 512x640 1 ship, 3 bridges, 9.4ms\n",
      "image 427/937 /mmfs1/scratch/dsu.local/bshakya/scratch/bshakya/YOLOv11/../yolov10/datasets/DOTAv1.5/images/test/P1280.jpg: 640x640 61 planes, 1 ship, 2 harbors, 9.3ms\n",
      "image 428/937 /mmfs1/scratch/dsu.local/bshakya/scratch/bshakya/YOLOv11/../yolov10/datasets/DOTAv1.5/images/test/P1282.jpg: 640x640 (no detections), 9.0ms\n",
      "image 429/937 /mmfs1/scratch/dsu.local/bshakya/scratch/bshakya/YOLOv11/../yolov10/datasets/DOTAv1.5/images/test/P1284.jpg: 640x640 14 ships, 1 harbor, 1 bridge, 9.0ms\n",
      "image 430/937 /mmfs1/scratch/dsu.local/bshakya/scratch/bshakya/YOLOv11/../yolov10/datasets/DOTAv1.5/images/test/P1285.jpg: 640x640 1 harbor, 5 bridges, 9.0ms\n",
      "image 431/937 /mmfs1/scratch/dsu.local/bshakya/scratch/bshakya/YOLOv11/../yolov10/datasets/DOTAv1.5/images/test/P1286.jpg: 640x640 (no detections), 9.0ms\n",
      "image 432/937 /mmfs1/scratch/dsu.local/bshakya/scratch/bshakya/YOLOv11/../yolov10/datasets/DOTAv1.5/images/test/P1289.jpg: 640x640 (no detections), 8.9ms\n",
      "image 433/937 /mmfs1/scratch/dsu.local/bshakya/scratch/bshakya/YOLOv11/../yolov10/datasets/DOTAv1.5/images/test/P1290.jpg: 512x640 3 harbors, 9.5ms\n",
      "image 434/937 /mmfs1/scratch/dsu.local/bshakya/scratch/bshakya/YOLOv11/../yolov10/datasets/DOTAv1.5/images/test/P1293.jpg: 640x640 (no detections), 9.3ms\n",
      "image 435/937 /mmfs1/scratch/dsu.local/bshakya/scratch/bshakya/YOLOv11/../yolov10/datasets/DOTAv1.5/images/test/P1294.jpg: 640x640 (no detections), 9.0ms\n",
      "image 436/937 /mmfs1/scratch/dsu.local/bshakya/scratch/bshakya/YOLOv11/../yolov10/datasets/DOTAv1.5/images/test/P1296.jpg: 608x640 1 ship, 9.4ms\n",
      "image 437/937 /mmfs1/scratch/dsu.local/bshakya/scratch/bshakya/YOLOv11/../yolov10/datasets/DOTAv1.5/images/test/P1301.jpg: 640x640 2 bridges, 9.3ms\n",
      "image 438/937 /mmfs1/scratch/dsu.local/bshakya/scratch/bshakya/YOLOv11/../yolov10/datasets/DOTAv1.5/images/test/P1302.jpg: 640x640 6 ships, 1 bridge, 9.0ms\n",
      "image 439/937 /mmfs1/scratch/dsu.local/bshakya/scratch/bshakya/YOLOv11/../yolov10/datasets/DOTAv1.5/images/test/P1303.jpg: 512x640 (no detections), 9.3ms\n",
      "image 440/937 /mmfs1/scratch/dsu.local/bshakya/scratch/bshakya/YOLOv11/../yolov10/datasets/DOTAv1.5/images/test/P1304.jpg: 640x640 (no detections), 9.3ms\n",
      "image 441/937 /mmfs1/scratch/dsu.local/bshakya/scratch/bshakya/YOLOv11/../yolov10/datasets/DOTAv1.5/images/test/P1310.jpg: 608x640 (no detections), 9.4ms\n",
      "image 442/937 /mmfs1/scratch/dsu.local/bshakya/scratch/bshakya/YOLOv11/../yolov10/datasets/DOTAv1.5/images/test/P1312.jpg: 448x640 1 bridge, 9.5ms\n",
      "image 443/937 /mmfs1/scratch/dsu.local/bshakya/scratch/bshakya/YOLOv11/../yolov10/datasets/DOTAv1.5/images/test/P1313.jpg: 640x640 1 bridge, 9.3ms\n",
      "image 444/937 /mmfs1/scratch/dsu.local/bshakya/scratch/bshakya/YOLOv11/../yolov10/datasets/DOTAv1.5/images/test/P1316.jpg: 640x640 (no detections), 9.7ms\n",
      "image 445/937 /mmfs1/scratch/dsu.local/bshakya/scratch/bshakya/YOLOv11/../yolov10/datasets/DOTAv1.5/images/test/P1318.jpg: 640x640 (no detections), 9.1ms\n",
      "image 446/937 /mmfs1/scratch/dsu.local/bshakya/scratch/bshakya/YOLOv11/../yolov10/datasets/DOTAv1.5/images/test/P1320.jpg: 640x640 1 bridge, 9.0ms\n",
      "image 447/937 /mmfs1/scratch/dsu.local/bshakya/scratch/bshakya/YOLOv11/../yolov10/datasets/DOTAv1.5/images/test/P1324.jpg: 640x640 (no detections), 9.0ms\n",
      "image 448/937 /mmfs1/scratch/dsu.local/bshakya/scratch/bshakya/YOLOv11/../yolov10/datasets/DOTAv1.5/images/test/P1326.jpg: 640x640 4 bridges, 9.1ms\n",
      "image 449/937 /mmfs1/scratch/dsu.local/bshakya/scratch/bshakya/YOLOv11/../yolov10/datasets/DOTAv1.5/images/test/P1327.jpg: 640x640 1 ship, 9.0ms\n",
      "image 450/937 /mmfs1/scratch/dsu.local/bshakya/scratch/bshakya/YOLOv11/../yolov10/datasets/DOTAv1.5/images/test/P1330.jpg: 512x640 1 bridge, 9.5ms\n",
      "image 451/937 /mmfs1/scratch/dsu.local/bshakya/scratch/bshakya/YOLOv11/../yolov10/datasets/DOTAv1.5/images/test/P1331.jpg: 640x640 (no detections), 9.3ms\n",
      "image 452/937 /mmfs1/scratch/dsu.local/bshakya/scratch/bshakya/YOLOv11/../yolov10/datasets/DOTAv1.5/images/test/P1334.jpg: 640x640 1 ground track field, 2 bridges, 8.9ms\n",
      "image 453/937 /mmfs1/scratch/dsu.local/bshakya/scratch/bshakya/YOLOv11/../yolov10/datasets/DOTAv1.5/images/test/P1335.jpg: 640x640 (no detections), 9.0ms\n",
      "image 454/937 /mmfs1/scratch/dsu.local/bshakya/scratch/bshakya/YOLOv11/../yolov10/datasets/DOTAv1.5/images/test/P1345.jpg: 640x640 (no detections), 9.0ms\n",
      "image 455/937 /mmfs1/scratch/dsu.local/bshakya/scratch/bshakya/YOLOv11/../yolov10/datasets/DOTAv1.5/images/test/P1346.jpg: 640x640 (no detections), 9.0ms\n",
      "image 456/937 /mmfs1/scratch/dsu.local/bshakya/scratch/bshakya/YOLOv11/../yolov10/datasets/DOTAv1.5/images/test/P1347.jpg: 640x640 2 bridges, 8.9ms\n",
      "image 457/937 /mmfs1/scratch/dsu.local/bshakya/scratch/bshakya/YOLOv11/../yolov10/datasets/DOTAv1.5/images/test/P1348.jpg: 640x640 (no detections), 9.0ms\n",
      "image 458/937 /mmfs1/scratch/dsu.local/bshakya/scratch/bshakya/YOLOv11/../yolov10/datasets/DOTAv1.5/images/test/P1349.jpg: 640x640 (no detections), 9.0ms\n",
      "image 459/937 /mmfs1/scratch/dsu.local/bshakya/scratch/bshakya/YOLOv11/../yolov10/datasets/DOTAv1.5/images/test/P1355.jpg: 640x640 1 bridge, 9.0ms\n",
      "image 460/937 /mmfs1/scratch/dsu.local/bshakya/scratch/bshakya/YOLOv11/../yolov10/datasets/DOTAv1.5/images/test/P1362.jpg: 640x640 (no detections), 9.0ms\n",
      "image 461/937 /mmfs1/scratch/dsu.local/bshakya/scratch/bshakya/YOLOv11/../yolov10/datasets/DOTAv1.5/images/test/P1363.jpg: 512x640 (no detections), 9.4ms\n",
      "image 462/937 /mmfs1/scratch/dsu.local/bshakya/scratch/bshakya/YOLOv11/../yolov10/datasets/DOTAv1.5/images/test/P1367.jpg: 640x640 (no detections), 9.4ms\n",
      "image 463/937 /mmfs1/scratch/dsu.local/bshakya/scratch/bshakya/YOLOv11/../yolov10/datasets/DOTAv1.5/images/test/P1372.jpg: 640x640 66 planes, 9.0ms\n",
      "image 464/937 /mmfs1/scratch/dsu.local/bshakya/scratch/bshakya/YOLOv11/../yolov10/datasets/DOTAv1.5/images/test/P1378.jpg: 544x640 44 planes, 1 bridge, 1 swimming pool, 9.4ms\n",
      "image 465/937 /mmfs1/scratch/dsu.local/bshakya/scratch/bshakya/YOLOv11/../yolov10/datasets/DOTAv1.5/images/test/P1379.jpg: 608x640 204 ships, 11 tennis courts, 1 ground track field, 19 harbors, 6 small vehicles, 1 roundabout, 2 soccer ball fields, 1 swimming pool, 9.5ms\n",
      "image 466/937 /mmfs1/scratch/dsu.local/bshakya/scratch/bshakya/YOLOv11/../yolov10/datasets/DOTAv1.5/images/test/P1381.jpg: 640x416 2 tennis courts, 3 soccer ball fields, 2 swimming pools, 9.3ms\n",
      "image 467/937 /mmfs1/scratch/dsu.local/bshakya/scratch/bshakya/YOLOv11/../yolov10/datasets/DOTAv1.5/images/test/P1383.jpg: 640x416 1 ground track field, 1 harbor, 3 soccer ball fields, 21 swimming pools, 8.9ms\n",
      "image 468/937 /mmfs1/scratch/dsu.local/bshakya/scratch/bshakya/YOLOv11/../yolov10/datasets/DOTAv1.5/images/test/P1385.jpg: 640x512 284 ships, 16 harbors, 9.3ms\n",
      "image 469/937 /mmfs1/scratch/dsu.local/bshakya/scratch/bshakya/YOLOv11/../yolov10/datasets/DOTAv1.5/images/test/P1396.jpg: 640x320 63 planes, 9.3ms\n",
      "image 470/937 /mmfs1/scratch/dsu.local/bshakya/scratch/bshakya/YOLOv11/../yolov10/datasets/DOTAv1.5/images/test/P1400.jpg: 448x640 300 planes, 9.3ms\n",
      "image 471/937 /mmfs1/scratch/dsu.local/bshakya/scratch/bshakya/YOLOv11/../yolov10/datasets/DOTAv1.5/images/test/P1402.jpg: 640x576 (no detections), 9.6ms\n",
      "image 472/937 /mmfs1/scratch/dsu.local/bshakya/scratch/bshakya/YOLOv11/../yolov10/datasets/DOTAv1.5/images/test/P1404.jpg: 640x640 4 planes, 1 ship, 9.3ms\n",
      "image 473/937 /mmfs1/scratch/dsu.local/bshakya/scratch/bshakya/YOLOv11/../yolov10/datasets/DOTAv1.5/images/test/P1405.jpg: 512x640 6 planes, 9.4ms\n",
      "image 474/937 /mmfs1/scratch/dsu.local/bshakya/scratch/bshakya/YOLOv11/../yolov10/datasets/DOTAv1.5/images/test/P1406.jpg: 416x640 18 planes, 9.3ms\n",
      "image 475/937 /mmfs1/scratch/dsu.local/bshakya/scratch/bshakya/YOLOv11/../yolov10/datasets/DOTAv1.5/images/test/P1407.jpg: 416x640 21 planes, 9.0ms\n",
      "image 476/937 /mmfs1/scratch/dsu.local/bshakya/scratch/bshakya/YOLOv11/../yolov10/datasets/DOTAv1.5/images/test/P1409.jpg: 608x640 5 planes, 3 large vehicles, 41 small vehicles, 9.4ms\n",
      "image 477/937 /mmfs1/scratch/dsu.local/bshakya/scratch/bshakya/YOLOv11/../yolov10/datasets/DOTAv1.5/images/test/P1411.jpg: 640x256 10 ships, 18 harbors, 9.5ms\n",
      "image 478/937 /mmfs1/scratch/dsu.local/bshakya/scratch/bshakya/YOLOv11/../yolov10/datasets/DOTAv1.5/images/test/P1415.jpg: 640x640 10 planes, 2 storage tanks, 8 large vehicles, 24 small vehicles, 9.3ms\n",
      "image 479/937 /mmfs1/scratch/dsu.local/bshakya/scratch/bshakya/YOLOv11/../yolov10/datasets/DOTAv1.5/images/test/P1417.jpg: 640x640 296 large vehicles, 4 small vehicles, 9.0ms\n",
      "image 480/937 /mmfs1/scratch/dsu.local/bshakya/scratch/bshakya/YOLOv11/../yolov10/datasets/DOTAv1.5/images/test/P1422.jpg: 448x640 4 ships, 1 ground track field, 2 harbors, 9.4ms\n",
      "image 481/937 /mmfs1/scratch/dsu.local/bshakya/scratch/bshakya/YOLOv11/../yolov10/datasets/DOTAv1.5/images/test/P1423.jpg: 448x640 32 ships, 49 storage tanks, 2 small vehicles, 8.9ms\n",
      "image 482/937 /mmfs1/scratch/dsu.local/bshakya/scratch/bshakya/YOLOv11/../yolov10/datasets/DOTAv1.5/images/test/P1424.jpg: 416x640 15 ships, 9.3ms\n",
      "image 483/937 /mmfs1/scratch/dsu.local/bshakya/scratch/bshakya/YOLOv11/../yolov10/datasets/DOTAv1.5/images/test/P1425.jpg: 384x640 1 ship, 1 harbor, 9.4ms\n",
      "image 484/937 /mmfs1/scratch/dsu.local/bshakya/scratch/bshakya/YOLOv11/../yolov10/datasets/DOTAv1.5/images/test/P1430.jpg: 480x640 67 ships, 9.3ms\n",
      "image 485/937 /mmfs1/scratch/dsu.local/bshakya/scratch/bshakya/YOLOv11/../yolov10/datasets/DOTAv1.5/images/test/P1435.jpg: 640x576 33 large vehicles, 8 small vehicles, 9.3ms\n",
      "image 486/937 /mmfs1/scratch/dsu.local/bshakya/scratch/bshakya/YOLOv11/../yolov10/datasets/DOTAv1.5/images/test/P1436.jpg: 640x640 (no detections), 9.4ms\n",
      "image 487/937 /mmfs1/scratch/dsu.local/bshakya/scratch/bshakya/YOLOv11/../yolov10/datasets/DOTAv1.5/images/test/P1441.jpg: 640x384 67 large vehicles, 34 small vehicles, 9.3ms\n",
      "image 488/937 /mmfs1/scratch/dsu.local/bshakya/scratch/bshakya/YOLOv11/../yolov10/datasets/DOTAv1.5/images/test/P1442.jpg: 640x352 1 tennis court, 16 basketball courts, 2 ground track fields, 2 soccer ball fields, 9.3ms\n",
      "image 489/937 /mmfs1/scratch/dsu.local/bshakya/scratch/bshakya/YOLOv11/../yolov10/datasets/DOTAv1.5/images/test/P1447.jpg: 640x448 11 tennis courts, 58 basketball courts, 2 ground track fields, 3 soccer ball fields, 1 swimming pool, 9.3ms\n",
      "image 490/937 /mmfs1/scratch/dsu.local/bshakya/scratch/bshakya/YOLOv11/../yolov10/datasets/DOTAv1.5/images/test/P1448.jpg: 512x640 2 storage tanks, 8 tennis courts, 37 basketball courts, 3 ground track fields, 1 roundabout, 3 soccer ball fields, 9.4ms\n",
      "image 491/937 /mmfs1/scratch/dsu.local/bshakya/scratch/bshakya/YOLOv11/../yolov10/datasets/DOTAv1.5/images/test/P1454.jpg: 640x320 47 large vehicles, 19 small vehicles, 9.9ms\n",
      "image 492/937 /mmfs1/scratch/dsu.local/bshakya/scratch/bshakya/YOLOv11/../yolov10/datasets/DOTAv1.5/images/test/P1461.jpg: 608x640 1 basketball court, 2 ground track fields, 2 soccer ball fields, 9.4ms\n",
      "image 493/937 /mmfs1/scratch/dsu.local/bshakya/scratch/bshakya/YOLOv11/../yolov10/datasets/DOTAv1.5/images/test/P1468.jpg: 640x320 3 ground track fields, 2 soccer ball fields, 2 swimming pools, 9.3ms\n",
      "image 494/937 /mmfs1/scratch/dsu.local/bshakya/scratch/bshakya/YOLOv11/../yolov10/datasets/DOTAv1.5/images/test/P1472.jpg: 640x608 1 storage tank, 129 large vehicles, 6 small vehicles, 1 roundabout, 9.4ms\n",
      "image 495/937 /mmfs1/scratch/dsu.local/bshakya/scratch/bshakya/YOLOv11/../yolov10/datasets/DOTAv1.5/images/test/P1477.jpg: 640x288 28 planes, 1 swimming pool, 9.5ms\n",
      "image 496/937 /mmfs1/scratch/dsu.local/bshakya/scratch/bshakya/YOLOv11/../yolov10/datasets/DOTAv1.5/images/test/P1485.jpg: 640x384 9 planes, 9.4ms\n",
      "image 497/937 /mmfs1/scratch/dsu.local/bshakya/scratch/bshakya/YOLOv11/../yolov10/datasets/DOTAv1.5/images/test/P1488.jpg: 640x128 1 plane, 14.8ms\n",
      "image 498/937 /mmfs1/scratch/dsu.local/bshakya/scratch/bshakya/YOLOv11/../yolov10/datasets/DOTAv1.5/images/test/P1490.jpg: 640x608 5 planes, 2 small vehicles, 9.5ms\n",
      "image 499/937 /mmfs1/scratch/dsu.local/bshakya/scratch/bshakya/YOLOv11/../yolov10/datasets/DOTAv1.5/images/test/P1491.jpg: 512x640 8 planes, 9.4ms\n",
      "image 500/937 /mmfs1/scratch/dsu.local/bshakya/scratch/bshakya/YOLOv11/../yolov10/datasets/DOTAv1.5/images/test/P1494.jpg: 640x480 17 planes, 9.4ms\n",
      "image 501/937 /mmfs1/scratch/dsu.local/bshakya/scratch/bshakya/YOLOv11/../yolov10/datasets/DOTAv1.5/images/test/P1496.jpg: 576x640 5 planes, 15 large vehicles, 9.4ms\n",
      "image 502/937 /mmfs1/scratch/dsu.local/bshakya/scratch/bshakya/YOLOv11/../yolov10/datasets/DOTAv1.5/images/test/P1500.jpg: 608x640 8 planes, 1 large vehicle, 2 small vehicles, 9.4ms\n",
      "image 503/937 /mmfs1/scratch/dsu.local/bshakya/scratch/bshakya/YOLOv11/../yolov10/datasets/DOTAv1.5/images/test/P1503.jpg: 640x480 6 planes, 9.3ms\n",
      "image 504/937 /mmfs1/scratch/dsu.local/bshakya/scratch/bshakya/YOLOv11/../yolov10/datasets/DOTAv1.5/images/test/P1504.jpg: 640x416 2 planes, 8 storage tanks, 9.2ms\n",
      "image 505/937 /mmfs1/scratch/dsu.local/bshakya/scratch/bshakya/YOLOv11/../yolov10/datasets/DOTAv1.5/images/test/P1510.jpg: 512x640 15 planes, 3 large vehicles, 35 small vehicles, 9.3ms\n",
      "image 506/937 /mmfs1/scratch/dsu.local/bshakya/scratch/bshakya/YOLOv11/../yolov10/datasets/DOTAv1.5/images/test/P1511.jpg: 576x640 7 planes, 2 large vehicles, 20 small vehicles, 9.3ms\n",
      "image 507/937 /mmfs1/scratch/dsu.local/bshakya/scratch/bshakya/YOLOv11/../yolov10/datasets/DOTAv1.5/images/test/P1516.jpg: 640x640 (no detections), 9.3ms\n",
      "image 508/937 /mmfs1/scratch/dsu.local/bshakya/scratch/bshakya/YOLOv11/../yolov10/datasets/DOTAv1.5/images/test/P1520.jpg: 640x640 (no detections), 8.8ms\n",
      "image 509/937 /mmfs1/scratch/dsu.local/bshakya/scratch/bshakya/YOLOv11/../yolov10/datasets/DOTAv1.5/images/test/P1523.jpg: 480x640 (no detections), 9.3ms\n",
      "image 510/937 /mmfs1/scratch/dsu.local/bshakya/scratch/bshakya/YOLOv11/../yolov10/datasets/DOTAv1.5/images/test/P1525.jpg: 640x640 105 planes, 9.2ms\n",
      "image 511/937 /mmfs1/scratch/dsu.local/bshakya/scratch/bshakya/YOLOv11/../yolov10/datasets/DOTAv1.5/images/test/P1527.jpg: 608x640 (no detections), 9.4ms\n",
      "image 512/937 /mmfs1/scratch/dsu.local/bshakya/scratch/bshakya/YOLOv11/../yolov10/datasets/DOTAv1.5/images/test/P1528.jpg: 640x640 (no detections), 9.4ms\n",
      "image 513/937 /mmfs1/scratch/dsu.local/bshakya/scratch/bshakya/YOLOv11/../yolov10/datasets/DOTAv1.5/images/test/P1530.jpg: 640x640 (no detections), 8.9ms\n",
      "image 514/937 /mmfs1/scratch/dsu.local/bshakya/scratch/bshakya/YOLOv11/../yolov10/datasets/DOTAv1.5/images/test/P1532.jpg: 640x640 (no detections), 8.9ms\n",
      "image 515/937 /mmfs1/scratch/dsu.local/bshakya/scratch/bshakya/YOLOv11/../yolov10/datasets/DOTAv1.5/images/test/P1536.jpg: 640x544 (no detections), 9.4ms\n",
      "image 516/937 /mmfs1/scratch/dsu.local/bshakya/scratch/bshakya/YOLOv11/../yolov10/datasets/DOTAv1.5/images/test/P1538.jpg: 640x576 (no detections), 9.4ms\n",
      "image 517/937 /mmfs1/scratch/dsu.local/bshakya/scratch/bshakya/YOLOv11/../yolov10/datasets/DOTAv1.5/images/test/P1543.jpg: 640x640 (no detections), 9.2ms\n",
      "image 518/937 /mmfs1/scratch/dsu.local/bshakya/scratch/bshakya/YOLOv11/../yolov10/datasets/DOTAv1.5/images/test/P1544.jpg: 640x640 17 planes, 8.9ms\n",
      "image 519/937 /mmfs1/scratch/dsu.local/bshakya/scratch/bshakya/YOLOv11/../yolov10/datasets/DOTAv1.5/images/test/P1546.jpg: 640x640 (no detections), 8.9ms\n",
      "image 520/937 /mmfs1/scratch/dsu.local/bshakya/scratch/bshakya/YOLOv11/../yolov10/datasets/DOTAv1.5/images/test/P1548.jpg: 640x640 (no detections), 9.0ms\n",
      "image 521/937 /mmfs1/scratch/dsu.local/bshakya/scratch/bshakya/YOLOv11/../yolov10/datasets/DOTAv1.5/images/test/P1549.jpg: 608x640 (no detections), 9.4ms\n",
      "image 522/937 /mmfs1/scratch/dsu.local/bshakya/scratch/bshakya/YOLOv11/../yolov10/datasets/DOTAv1.5/images/test/P1553.jpg: 608x640 2 planes, 9.0ms\n",
      "image 523/937 /mmfs1/scratch/dsu.local/bshakya/scratch/bshakya/YOLOv11/../yolov10/datasets/DOTAv1.5/images/test/P1559.jpg: 640x640 (no detections), 9.2ms\n",
      "image 524/937 /mmfs1/scratch/dsu.local/bshakya/scratch/bshakya/YOLOv11/../yolov10/datasets/DOTAv1.5/images/test/P1564.jpg: 640x640 (no detections), 9.0ms\n",
      "image 525/937 /mmfs1/scratch/dsu.local/bshakya/scratch/bshakya/YOLOv11/../yolov10/datasets/DOTAv1.5/images/test/P1567.jpg: 640x640 3 planes, 8.8ms\n",
      "image 526/937 /mmfs1/scratch/dsu.local/bshakya/scratch/bshakya/YOLOv11/../yolov10/datasets/DOTAv1.5/images/test/P1568.jpg: 640x640 (no detections), 8.9ms\n",
      "image 527/937 /mmfs1/scratch/dsu.local/bshakya/scratch/bshakya/YOLOv11/../yolov10/datasets/DOTAv1.5/images/test/P1572.jpg: 640x544 (no detections), 9.4ms\n",
      "image 528/937 /mmfs1/scratch/dsu.local/bshakya/scratch/bshakya/YOLOv11/../yolov10/datasets/DOTAv1.5/images/test/P1575.jpg: 640x640 (no detections), 9.3ms\n",
      "image 529/937 /mmfs1/scratch/dsu.local/bshakya/scratch/bshakya/YOLOv11/../yolov10/datasets/DOTAv1.5/images/test/P1576.jpg: 640x640 1 ground track field, 8.9ms\n",
      "image 530/937 /mmfs1/scratch/dsu.local/bshakya/scratch/bshakya/YOLOv11/../yolov10/datasets/DOTAv1.5/images/test/P1578.jpg: 640x640 (no detections), 8.9ms\n",
      "image 531/937 /mmfs1/scratch/dsu.local/bshakya/scratch/bshakya/YOLOv11/../yolov10/datasets/DOTAv1.5/images/test/P1588.jpg: 640x640 (no detections), 8.9ms\n",
      "image 532/937 /mmfs1/scratch/dsu.local/bshakya/scratch/bshakya/YOLOv11/../yolov10/datasets/DOTAv1.5/images/test/P1590.jpg: 640x640 5 ships, 4 harbors, 8.9ms\n",
      "image 533/937 /mmfs1/scratch/dsu.local/bshakya/scratch/bshakya/YOLOv11/../yolov10/datasets/DOTAv1.5/images/test/P1592.jpg: 640x640 2 ground track fields, 9.0ms\n",
      "image 534/937 /mmfs1/scratch/dsu.local/bshakya/scratch/bshakya/YOLOv11/../yolov10/datasets/DOTAv1.5/images/test/P1593.jpg: 640x640 (no detections), 8.9ms\n",
      "image 535/937 /mmfs1/scratch/dsu.local/bshakya/scratch/bshakya/YOLOv11/../yolov10/datasets/DOTAv1.5/images/test/P1595.jpg: 608x640 (no detections), 9.4ms\n",
      "image 536/937 /mmfs1/scratch/dsu.local/bshakya/scratch/bshakya/YOLOv11/../yolov10/datasets/DOTAv1.5/images/test/P1603.jpg: 480x640 2 ground track fields, 9.3ms\n",
      "image 537/937 /mmfs1/scratch/dsu.local/bshakya/scratch/bshakya/YOLOv11/../yolov10/datasets/DOTAv1.5/images/test/P1605.jpg: 640x640 3 planes, 9.3ms\n",
      "image 538/937 /mmfs1/scratch/dsu.local/bshakya/scratch/bshakya/YOLOv11/../yolov10/datasets/DOTAv1.5/images/test/P1611.jpg: 640x640 (no detections), 8.9ms\n",
      "image 539/937 /mmfs1/scratch/dsu.local/bshakya/scratch/bshakya/YOLOv11/../yolov10/datasets/DOTAv1.5/images/test/P1612.jpg: 640x640 (no detections), 8.9ms\n",
      "image 540/937 /mmfs1/scratch/dsu.local/bshakya/scratch/bshakya/YOLOv11/../yolov10/datasets/DOTAv1.5/images/test/P1613.jpg: 640x640 (no detections), 8.9ms\n",
      "image 541/937 /mmfs1/scratch/dsu.local/bshakya/scratch/bshakya/YOLOv11/../yolov10/datasets/DOTAv1.5/images/test/P1621.jpg: 640x640 (no detections), 9.1ms\n",
      "image 542/937 /mmfs1/scratch/dsu.local/bshakya/scratch/bshakya/YOLOv11/../yolov10/datasets/DOTAv1.5/images/test/P1622.jpg: 608x640 (no detections), 9.4ms\n",
      "image 543/937 /mmfs1/scratch/dsu.local/bshakya/scratch/bshakya/YOLOv11/../yolov10/datasets/DOTAv1.5/images/test/P1624.jpg: 640x544 (no detections), 9.3ms\n",
      "image 544/937 /mmfs1/scratch/dsu.local/bshakya/scratch/bshakya/YOLOv11/../yolov10/datasets/DOTAv1.5/images/test/P1625.jpg: 640x544 (no detections), 9.0ms\n",
      "image 545/937 /mmfs1/scratch/dsu.local/bshakya/scratch/bshakya/YOLOv11/../yolov10/datasets/DOTAv1.5/images/test/P1626.jpg: 640x576 (no detections), 9.4ms\n",
      "image 546/937 /mmfs1/scratch/dsu.local/bshakya/scratch/bshakya/YOLOv11/../yolov10/datasets/DOTAv1.5/images/test/P1627.jpg: 640x640 (no detections), 9.2ms\n",
      "image 547/937 /mmfs1/scratch/dsu.local/bshakya/scratch/bshakya/YOLOv11/../yolov10/datasets/DOTAv1.5/images/test/P1628.jpg: 640x640 (no detections), 9.0ms\n",
      "image 548/937 /mmfs1/scratch/dsu.local/bshakya/scratch/bshakya/YOLOv11/../yolov10/datasets/DOTAv1.5/images/test/P1629.jpg: 640x640 1 ground track field, 8.9ms\n",
      "image 549/937 /mmfs1/scratch/dsu.local/bshakya/scratch/bshakya/YOLOv11/../yolov10/datasets/DOTAv1.5/images/test/P1630.jpg: 608x640 1 ground track field, 9.4ms\n",
      "image 550/937 /mmfs1/scratch/dsu.local/bshakya/scratch/bshakya/YOLOv11/../yolov10/datasets/DOTAv1.5/images/test/P1635.jpg: 640x640 (no detections), 9.2ms\n",
      "image 551/937 /mmfs1/scratch/dsu.local/bshakya/scratch/bshakya/YOLOv11/../yolov10/datasets/DOTAv1.5/images/test/P1637.jpg: 640x640 1 ground track field, 9.0ms\n",
      "image 552/937 /mmfs1/scratch/dsu.local/bshakya/scratch/bshakya/YOLOv11/../yolov10/datasets/DOTAv1.5/images/test/P1642.jpg: 640x576 (no detections), 9.4ms\n",
      "image 553/937 /mmfs1/scratch/dsu.local/bshakya/scratch/bshakya/YOLOv11/../yolov10/datasets/DOTAv1.5/images/test/P1644.jpg: 640x640 1 ground track field, 1 bridge, 9.2ms\n",
      "image 554/937 /mmfs1/scratch/dsu.local/bshakya/scratch/bshakya/YOLOv11/../yolov10/datasets/DOTAv1.5/images/test/P1648.jpg: 640x640 1 ground track field, 8.9ms\n",
      "image 555/937 /mmfs1/scratch/dsu.local/bshakya/scratch/bshakya/YOLOv11/../yolov10/datasets/DOTAv1.5/images/test/P1654.jpg: 608x640 1 ground track field, 9.4ms\n",
      "image 556/937 /mmfs1/scratch/dsu.local/bshakya/scratch/bshakya/YOLOv11/../yolov10/datasets/DOTAv1.5/images/test/P1655.jpg: 640x544 (no detections), 9.5ms\n",
      "image 557/937 /mmfs1/scratch/dsu.local/bshakya/scratch/bshakya/YOLOv11/../yolov10/datasets/DOTAv1.5/images/test/P1657.jpg: 640x544 (no detections), 9.1ms\n",
      "image 558/937 /mmfs1/scratch/dsu.local/bshakya/scratch/bshakya/YOLOv11/../yolov10/datasets/DOTAv1.5/images/test/P1663.jpg: 640x544 (no detections), 9.0ms\n",
      "image 559/937 /mmfs1/scratch/dsu.local/bshakya/scratch/bshakya/YOLOv11/../yolov10/datasets/DOTAv1.5/images/test/P1664.jpg: 640x544 (no detections), 9.7ms\n",
      "image 560/937 /mmfs1/scratch/dsu.local/bshakya/scratch/bshakya/YOLOv11/../yolov10/datasets/DOTAv1.5/images/test/P1665.jpg: 640x544 1 harbor, 8.9ms\n",
      "image 561/937 /mmfs1/scratch/dsu.local/bshakya/scratch/bshakya/YOLOv11/../yolov10/datasets/DOTAv1.5/images/test/P1667.jpg: 640x640 (no detections), 9.3ms\n",
      "image 562/937 /mmfs1/scratch/dsu.local/bshakya/scratch/bshakya/YOLOv11/../yolov10/datasets/DOTAv1.5/images/test/P1668.jpg: 640x640 (no detections), 8.9ms\n",
      "image 563/937 /mmfs1/scratch/dsu.local/bshakya/scratch/bshakya/YOLOv11/../yolov10/datasets/DOTAv1.5/images/test/P1671.jpg: 640x640 1 plane, 8.9ms\n",
      "image 564/937 /mmfs1/scratch/dsu.local/bshakya/scratch/bshakya/YOLOv11/../yolov10/datasets/DOTAv1.5/images/test/P1677.jpg: 640x640 1 plane, 2 ground track fields, 9.1ms\n",
      "image 565/937 /mmfs1/scratch/dsu.local/bshakya/scratch/bshakya/YOLOv11/../yolov10/datasets/DOTAv1.5/images/test/P1678.jpg: 640x640 (no detections), 8.8ms\n",
      "image 566/937 /mmfs1/scratch/dsu.local/bshakya/scratch/bshakya/YOLOv11/../yolov10/datasets/DOTAv1.5/images/test/P1681.jpg: 640x576 (no detections), 9.3ms\n",
      "image 567/937 /mmfs1/scratch/dsu.local/bshakya/scratch/bshakya/YOLOv11/../yolov10/datasets/DOTAv1.5/images/test/P1684.jpg: 640x640 (no detections), 9.2ms\n",
      "image 568/937 /mmfs1/scratch/dsu.local/bshakya/scratch/bshakya/YOLOv11/../yolov10/datasets/DOTAv1.5/images/test/P1687.jpg: 608x640 2 ground track fields, 9.4ms\n",
      "image 569/937 /mmfs1/scratch/dsu.local/bshakya/scratch/bshakya/YOLOv11/../yolov10/datasets/DOTAv1.5/images/test/P1690.jpg: 640x640 1 ground track field, 9.2ms\n",
      "image 570/937 /mmfs1/scratch/dsu.local/bshakya/scratch/bshakya/YOLOv11/../yolov10/datasets/DOTAv1.5/images/test/P1692.jpg: 608x640 (no detections), 9.4ms\n",
      "image 571/937 /mmfs1/scratch/dsu.local/bshakya/scratch/bshakya/YOLOv11/../yolov10/datasets/DOTAv1.5/images/test/P1694.jpg: 640x640 (no detections), 9.2ms\n",
      "image 572/937 /mmfs1/scratch/dsu.local/bshakya/scratch/bshakya/YOLOv11/../yolov10/datasets/DOTAv1.5/images/test/P1695.jpg: 640x544 (no detections), 9.4ms\n",
      "image 573/937 /mmfs1/scratch/dsu.local/bshakya/scratch/bshakya/YOLOv11/../yolov10/datasets/DOTAv1.5/images/test/P1701.jpg: 640x640 (no detections), 9.4ms\n",
      "image 574/937 /mmfs1/scratch/dsu.local/bshakya/scratch/bshakya/YOLOv11/../yolov10/datasets/DOTAv1.5/images/test/P1706.jpg: 640x640 (no detections), 8.9ms\n",
      "image 575/937 /mmfs1/scratch/dsu.local/bshakya/scratch/bshakya/YOLOv11/../yolov10/datasets/DOTAv1.5/images/test/P1710.jpg: 608x640 (no detections), 9.4ms\n",
      "image 576/937 /mmfs1/scratch/dsu.local/bshakya/scratch/bshakya/YOLOv11/../yolov10/datasets/DOTAv1.5/images/test/P1711.jpg: 640x640 (no detections), 9.2ms\n",
      "image 577/937 /mmfs1/scratch/dsu.local/bshakya/scratch/bshakya/YOLOv11/../yolov10/datasets/DOTAv1.5/images/test/P1712.jpg: 608x640 (no detections), 9.4ms\n",
      "image 578/937 /mmfs1/scratch/dsu.local/bshakya/scratch/bshakya/YOLOv11/../yolov10/datasets/DOTAv1.5/images/test/P1715.jpg: 640x576 2 planes, 9.4ms\n",
      "image 579/937 /mmfs1/scratch/dsu.local/bshakya/scratch/bshakya/YOLOv11/../yolov10/datasets/DOTAv1.5/images/test/P1716.jpg: 608x640 (no detections), 9.4ms\n",
      "image 580/937 /mmfs1/scratch/dsu.local/bshakya/scratch/bshakya/YOLOv11/../yolov10/datasets/DOTAv1.5/images/test/P1718.jpg: 640x640 (no detections), 9.2ms\n",
      "image 581/937 /mmfs1/scratch/dsu.local/bshakya/scratch/bshakya/YOLOv11/../yolov10/datasets/DOTAv1.5/images/test/P1721.jpg: 608x640 (no detections), 9.4ms\n",
      "image 582/937 /mmfs1/scratch/dsu.local/bshakya/scratch/bshakya/YOLOv11/../yolov10/datasets/DOTAv1.5/images/test/P1722.jpg: 640x544 1 bridge, 9.3ms\n",
      "image 583/937 /mmfs1/scratch/dsu.local/bshakya/scratch/bshakya/YOLOv11/../yolov10/datasets/DOTAv1.5/images/test/P1723.jpg: 640x544 1 bridge, 9.0ms\n",
      "image 584/937 /mmfs1/scratch/dsu.local/bshakya/scratch/bshakya/YOLOv11/../yolov10/datasets/DOTAv1.5/images/test/P1728.jpg: 640x640 (no detections), 9.2ms\n",
      "image 585/937 /mmfs1/scratch/dsu.local/bshakya/scratch/bshakya/YOLOv11/../yolov10/datasets/DOTAv1.5/images/test/P1729.jpg: 640x640 (no detections), 9.0ms\n",
      "image 586/937 /mmfs1/scratch/dsu.local/bshakya/scratch/bshakya/YOLOv11/../yolov10/datasets/DOTAv1.5/images/test/P1731.jpg: 640x640 (no detections), 8.9ms\n",
      "image 587/937 /mmfs1/scratch/dsu.local/bshakya/scratch/bshakya/YOLOv11/../yolov10/datasets/DOTAv1.5/images/test/P1733.jpg: 640x544 1 ground track field, 9.4ms\n",
      "image 588/937 /mmfs1/scratch/dsu.local/bshakya/scratch/bshakya/YOLOv11/../yolov10/datasets/DOTAv1.5/images/test/P1734.jpg: 640x544 (no detections), 9.0ms\n",
      "image 589/937 /mmfs1/scratch/dsu.local/bshakya/scratch/bshakya/YOLOv11/../yolov10/datasets/DOTAv1.5/images/test/P1735.jpg: 640x544 (no detections), 9.0ms\n",
      "image 590/937 /mmfs1/scratch/dsu.local/bshakya/scratch/bshakya/YOLOv11/../yolov10/datasets/DOTAv1.5/images/test/P1737.jpg: 640x640 (no detections), 9.2ms\n",
      "image 591/937 /mmfs1/scratch/dsu.local/bshakya/scratch/bshakya/YOLOv11/../yolov10/datasets/DOTAv1.5/images/test/P1755.jpg: 640x576 (no detections), 9.4ms\n",
      "image 592/937 /mmfs1/scratch/dsu.local/bshakya/scratch/bshakya/YOLOv11/../yolov10/datasets/DOTAv1.5/images/test/P1760.jpg: 640x640 1 plane, 9.2ms\n",
      "image 593/937 /mmfs1/scratch/dsu.local/bshakya/scratch/bshakya/YOLOv11/../yolov10/datasets/DOTAv1.5/images/test/P1761.jpg: 608x640 1 ship, 9.4ms\n",
      "image 594/937 /mmfs1/scratch/dsu.local/bshakya/scratch/bshakya/YOLOv11/../yolov10/datasets/DOTAv1.5/images/test/P1762.jpg: 640x640 (no detections), 9.2ms\n",
      "image 595/937 /mmfs1/scratch/dsu.local/bshakya/scratch/bshakya/YOLOv11/../yolov10/datasets/DOTAv1.5/images/test/P1764.jpg: 640x544 (no detections), 9.3ms\n",
      "image 596/937 /mmfs1/scratch/dsu.local/bshakya/scratch/bshakya/YOLOv11/../yolov10/datasets/DOTAv1.5/images/test/P1766.jpg: 640x576 (no detections), 9.4ms\n",
      "image 597/937 /mmfs1/scratch/dsu.local/bshakya/scratch/bshakya/YOLOv11/../yolov10/datasets/DOTAv1.5/images/test/P1767.jpg: 640x640 (no detections), 9.3ms\n",
      "image 598/937 /mmfs1/scratch/dsu.local/bshakya/scratch/bshakya/YOLOv11/../yolov10/datasets/DOTAv1.5/images/test/P1769.jpg: 640x544 (no detections), 9.4ms\n",
      "image 599/937 /mmfs1/scratch/dsu.local/bshakya/scratch/bshakya/YOLOv11/../yolov10/datasets/DOTAv1.5/images/test/P1771.jpg: 640x640 207 small vehicles, 2 swimming pools, 9.2ms\n",
      "image 600/937 /mmfs1/scratch/dsu.local/bshakya/scratch/bshakya/YOLOv11/../yolov10/datasets/DOTAv1.5/images/test/P1772.jpg: 608x640 7 swimming pools, 9.5ms\n",
      "image 601/937 /mmfs1/scratch/dsu.local/bshakya/scratch/bshakya/YOLOv11/../yolov10/datasets/DOTAv1.5/images/test/P1774.jpg: 512x640 19 tennis courts, 1 ground track field, 51 small vehicles, 9.4ms\n",
      "image 602/937 /mmfs1/scratch/dsu.local/bshakya/scratch/bshakya/YOLOv11/../yolov10/datasets/DOTAv1.5/images/test/P1777.jpg: 640x640 11 tennis courts, 133 small vehicles, 9.4ms\n",
      "image 603/937 /mmfs1/scratch/dsu.local/bshakya/scratch/bshakya/YOLOv11/../yolov10/datasets/DOTAv1.5/images/test/P1781.jpg: 640x512 34 large vehicles, 22 small vehicles, 9.3ms\n",
      "image 604/937 /mmfs1/scratch/dsu.local/bshakya/scratch/bshakya/YOLOv11/../yolov10/datasets/DOTAv1.5/images/test/P1782.jpg: 640x640 95 large vehicles, 73 small vehicles, 9.2ms\n",
      "image 605/937 /mmfs1/scratch/dsu.local/bshakya/scratch/bshakya/YOLOv11/../yolov10/datasets/DOTAv1.5/images/test/P1792.jpg: 640x320 46 large vehicles, 24 small vehicles, 9.0ms\n",
      "image 606/937 /mmfs1/scratch/dsu.local/bshakya/scratch/bshakya/YOLOv11/../yolov10/datasets/DOTAv1.5/images/test/P1796.jpg: 640x640 1 harbor, 1 small vehicle, 1 soccer ball field, 2 swimming pools, 9.3ms\n",
      "image 607/937 /mmfs1/scratch/dsu.local/bshakya/scratch/bshakya/YOLOv11/../yolov10/datasets/DOTAv1.5/images/test/P1797.jpg: 640x480 114 large vehicles, 21 small vehicles, 1 roundabout, 9.3ms\n",
      "image 608/937 /mmfs1/scratch/dsu.local/bshakya/scratch/bshakya/YOLOv11/../yolov10/datasets/DOTAv1.5/images/test/P1798.jpg: 640x416 32 large vehicles, 10 small vehicles, 9.0ms\n",
      "image 609/937 /mmfs1/scratch/dsu.local/bshakya/scratch/bshakya/YOLOv11/../yolov10/datasets/DOTAv1.5/images/test/P1800.jpg: 640x416 1 ship, 1 baseball diamond, 4 tennis courts, 79 small vehicles, 5 soccer ball fields, 8.7ms\n",
      "image 610/937 /mmfs1/scratch/dsu.local/bshakya/scratch/bshakya/YOLOv11/../yolov10/datasets/DOTAv1.5/images/test/P1802.jpg: 576x640 145 large vehicles, 25 small vehicles, 9.5ms\n",
      "image 611/937 /mmfs1/scratch/dsu.local/bshakya/scratch/bshakya/YOLOv11/../yolov10/datasets/DOTAv1.5/images/test/P1803.jpg: 640x544 15 large vehicles, 18 small vehicles, 9.2ms\n",
      "image 612/937 /mmfs1/scratch/dsu.local/bshakya/scratch/bshakya/YOLOv11/../yolov10/datasets/DOTAv1.5/images/test/P1810.jpg: 640x544 32 large vehicles, 17 small vehicles, 8.8ms\n",
      "image 613/937 /mmfs1/scratch/dsu.local/bshakya/scratch/bshakya/YOLOv11/../yolov10/datasets/DOTAv1.5/images/test/P1811.jpg: 512x640 24 large vehicles, 33 small vehicles, 9.4ms\n",
      "image 614/937 /mmfs1/scratch/dsu.local/bshakya/scratch/bshakya/YOLOv11/../yolov10/datasets/DOTAv1.5/images/test/P1813.jpg: 640x544 23 large vehicles, 89 small vehicles, 2 soccer ball fields, 9.3ms\n",
      "image 615/937 /mmfs1/scratch/dsu.local/bshakya/scratch/bshakya/YOLOv11/../yolov10/datasets/DOTAv1.5/images/test/P1814.jpg: 640x640 57 large vehicles, 33 small vehicles, 9.3ms\n",
      "image 616/937 /mmfs1/scratch/dsu.local/bshakya/scratch/bshakya/YOLOv11/../yolov10/datasets/DOTAv1.5/images/test/P1815.jpg: 640x608 31 large vehicles, 2 small vehicles, 9.1ms\n",
      "image 617/937 /mmfs1/scratch/dsu.local/bshakya/scratch/bshakya/YOLOv11/../yolov10/datasets/DOTAv1.5/images/test/P1817.jpg: 640x576 65 large vehicles, 73 small vehicles, 9.1ms\n",
      "image 618/937 /mmfs1/scratch/dsu.local/bshakya/scratch/bshakya/YOLOv11/../yolov10/datasets/DOTAv1.5/images/test/P1819.jpg: 640x576 127 large vehicles, 80 small vehicles, 9.0ms\n",
      "image 619/937 /mmfs1/scratch/dsu.local/bshakya/scratch/bshakya/YOLOv11/../yolov10/datasets/DOTAv1.5/images/test/P1820.jpg: 640x608 59 large vehicles, 98 small vehicles, 9.4ms\n",
      "image 620/937 /mmfs1/scratch/dsu.local/bshakya/scratch/bshakya/YOLOv11/../yolov10/datasets/DOTAv1.5/images/test/P1824.jpg: 640x480 136 large vehicles, 9 small vehicles, 9.3ms\n",
      "image 621/937 /mmfs1/scratch/dsu.local/bshakya/scratch/bshakya/YOLOv11/../yolov10/datasets/DOTAv1.5/images/test/P1826.jpg: 640x640 19 large vehicles, 45 small vehicles, 9.2ms\n",
      "image 622/937 /mmfs1/scratch/dsu.local/bshakya/scratch/bshakya/YOLOv11/../yolov10/datasets/DOTAv1.5/images/test/P1828.jpg: 640x320 28 large vehicles, 35 small vehicles, 8.7ms\n",
      "image 623/937 /mmfs1/scratch/dsu.local/bshakya/scratch/bshakya/YOLOv11/../yolov10/datasets/DOTAv1.5/images/test/P1830.jpg: 640x608 33 large vehicles, 35 small vehicles, 8.9ms\n",
      "image 624/937 /mmfs1/scratch/dsu.local/bshakya/scratch/bshakya/YOLOv11/../yolov10/datasets/DOTAv1.5/images/test/P1831.jpg: 352x640 33 large vehicles, 4 small vehicles, 8.7ms\n",
      "image 625/937 /mmfs1/scratch/dsu.local/bshakya/scratch/bshakya/YOLOv11/../yolov10/datasets/DOTAv1.5/images/test/P1834.jpg: 640x544 33 large vehicles, 7 small vehicles, 8.9ms\n",
      "image 626/937 /mmfs1/scratch/dsu.local/bshakya/scratch/bshakya/YOLOv11/../yolov10/datasets/DOTAv1.5/images/test/P1835.jpg: 640x544 2 storage tanks, 23 large vehicles, 45 small vehicles, 8.8ms\n",
      "image 627/937 /mmfs1/scratch/dsu.local/bshakya/scratch/bshakya/YOLOv11/../yolov10/datasets/DOTAv1.5/images/test/P1836.jpg: 640x608 55 large vehicles, 13 small vehicles, 9.3ms\n",
      "image 628/937 /mmfs1/scratch/dsu.local/bshakya/scratch/bshakya/YOLOv11/../yolov10/datasets/DOTAv1.5/images/test/P1840.jpg: 512x640 2 ships, 86 large vehicles, 7 small vehicles, 9.1ms\n",
      "image 629/937 /mmfs1/scratch/dsu.local/bshakya/scratch/bshakya/YOLOv11/../yolov10/datasets/DOTAv1.5/images/test/P1844.jpg: 544x640 113 large vehicles, 187 small vehicles, 9.4ms\n",
      "image 630/937 /mmfs1/scratch/dsu.local/bshakya/scratch/bshakya/YOLOv11/../yolov10/datasets/DOTAv1.5/images/test/P1847.jpg: 640x576 68 large vehicles, 89 small vehicles, 9.3ms\n",
      "image 631/937 /mmfs1/scratch/dsu.local/bshakya/scratch/bshakya/YOLOv11/../yolov10/datasets/DOTAv1.5/images/test/P1852.jpg: 352x640 1 storage tank, 62 large vehicles, 15 small vehicles, 9.2ms\n",
      "image 632/937 /mmfs1/scratch/dsu.local/bshakya/scratch/bshakya/YOLOv11/../yolov10/datasets/DOTAv1.5/images/test/P1853.jpg: 640x640 2 large vehicles, 297 small vehicles, 1 roundabout, 9.2ms\n",
      "image 633/937 /mmfs1/scratch/dsu.local/bshakya/scratch/bshakya/YOLOv11/../yolov10/datasets/DOTAv1.5/images/test/P1855.jpg: 640x640 9 tennis courts, 153 small vehicles, 4 soccer ball fields, 8.9ms\n",
      "image 634/937 /mmfs1/scratch/dsu.local/bshakya/scratch/bshakya/YOLOv11/../yolov10/datasets/DOTAv1.5/images/test/P1857.jpg: 640x352 1 baseball diamond, 1 tennis court, 2 ground track fields, 1 small vehicle, 8 soccer ball fields, 1 swimming pool, 9.2ms\n",
      "image 635/937 /mmfs1/scratch/dsu.local/bshakya/scratch/bshakya/YOLOv11/../yolov10/datasets/DOTAv1.5/images/test/P1858.jpg: 640x384 300 small vehicles, 9.2ms\n",
      "image 636/937 /mmfs1/scratch/dsu.local/bshakya/scratch/bshakya/YOLOv11/../yolov10/datasets/DOTAv1.5/images/test/P1862.jpg: 640x544 3 large vehicles, 26 small vehicles, 3 soccer ball fields, 9.3ms\n",
      "image 637/937 /mmfs1/scratch/dsu.local/bshakya/scratch/bshakya/YOLOv11/../yolov10/datasets/DOTAv1.5/images/test/P1865.jpg: 640x320 238 ships, 16 harbors, 1 small vehicle, 9.2ms\n",
      "image 638/937 /mmfs1/scratch/dsu.local/bshakya/scratch/bshakya/YOLOv11/../yolov10/datasets/DOTAv1.5/images/test/P1870.jpg: 640x640 70 planes, 9.3ms\n",
      "image 639/937 /mmfs1/scratch/dsu.local/bshakya/scratch/bshakya/YOLOv11/../yolov10/datasets/DOTAv1.5/images/test/P1873.jpg: 640x352 64 planes, 1 storage tank, 9.2ms\n",
      "image 640/937 /mmfs1/scratch/dsu.local/bshakya/scratch/bshakya/YOLOv11/../yolov10/datasets/DOTAv1.5/images/test/P1882.jpg: 640x352 12 tennis courts, 4 small vehicles, 8.8ms\n",
      "image 641/937 /mmfs1/scratch/dsu.local/bshakya/scratch/bshakya/YOLOv11/../yolov10/datasets/DOTAv1.5/images/test/P1883.jpg: 640x544 11 tennis courts, 12 small vehicles, 2 swimming pools, 8.8ms\n",
      "image 642/937 /mmfs1/scratch/dsu.local/bshakya/scratch/bshakya/YOLOv11/../yolov10/datasets/DOTAv1.5/images/test/P1884.jpg: 640x288 13 large vehicles, 22 small vehicles, 8.6ms\n",
      "image 643/937 /mmfs1/scratch/dsu.local/bshakya/scratch/bshakya/YOLOv11/../yolov10/datasets/DOTAv1.5/images/test/P1885.jpg: 512x640 12 tennis courts, 32 small vehicles, 8.6ms\n",
      "image 644/937 /mmfs1/scratch/dsu.local/bshakya/scratch/bshakya/YOLOv11/../yolov10/datasets/DOTAv1.5/images/test/P1886.jpg: 640x544 17 tennis courts, 13 small vehicles, 8.6ms\n",
      "image 645/937 /mmfs1/scratch/dsu.local/bshakya/scratch/bshakya/YOLOv11/../yolov10/datasets/DOTAv1.5/images/test/P1889.jpg: 448x640 18 tennis courts, 10 small vehicles, 8.6ms\n",
      "image 646/937 /mmfs1/scratch/dsu.local/bshakya/scratch/bshakya/YOLOv11/../yolov10/datasets/DOTAv1.5/images/test/P1890.jpg: 608x640 111 large vehicles, 15 small vehicles, 8.7ms\n",
      "image 647/937 /mmfs1/scratch/dsu.local/bshakya/scratch/bshakya/YOLOv11/../yolov10/datasets/DOTAv1.5/images/test/P1897.jpg: 640x384 9 tennis courts, 4 small vehicles, 8.6ms\n",
      "image 648/937 /mmfs1/scratch/dsu.local/bshakya/scratch/bshakya/YOLOv11/../yolov10/datasets/DOTAv1.5/images/test/P1898.jpg: 512x640 10 tennis courts, 13 small vehicles, 2 swimming pools, 8.6ms\n",
      "image 649/937 /mmfs1/scratch/dsu.local/bshakya/scratch/bshakya/YOLOv11/../yolov10/datasets/DOTAv1.5/images/test/P1901.jpg: 608x640 27 large vehicles, 87 small vehicles, 8.9ms\n",
      "image 650/937 /mmfs1/scratch/dsu.local/bshakya/scratch/bshakya/YOLOv11/../yolov10/datasets/DOTAv1.5/images/test/P1914.jpg: 576x640 19 tennis courts, 47 small vehicles, 1 soccer ball field, 8.8ms\n",
      "image 651/937 /mmfs1/scratch/dsu.local/bshakya/scratch/bshakya/YOLOv11/../yolov10/datasets/DOTAv1.5/images/test/P1916.jpg: 512x640 104 ships, 20 harbors, 9 small vehicles, 9.2ms\n",
      "image 652/937 /mmfs1/scratch/dsu.local/bshakya/scratch/bshakya/YOLOv11/../yolov10/datasets/DOTAv1.5/images/test/P1920.jpg: 640x640 35 large vehicles, 24 small vehicles, 9.2ms\n",
      "image 653/937 /mmfs1/scratch/dsu.local/bshakya/scratch/bshakya/YOLOv11/../yolov10/datasets/DOTAv1.5/images/test/P1921.jpg: 640x544 10 tennis courts, 96 small vehicles, 8.8ms\n",
      "image 654/937 /mmfs1/scratch/dsu.local/bshakya/scratch/bshakya/YOLOv11/../yolov10/datasets/DOTAv1.5/images/test/P1922.jpg: 640x576 1 baseball diamond, 1 ground track field, 204 large vehicles, 46 small vehicles, 1 soccer ball field, 1 swimming pool, 9.1ms\n",
      "image 655/937 /mmfs1/scratch/dsu.local/bshakya/scratch/bshakya/YOLOv11/../yolov10/datasets/DOTAv1.5/images/test/P1925.jpg: 512x640 54 large vehicles, 47 small vehicles, 9.1ms\n",
      "image 656/937 /mmfs1/scratch/dsu.local/bshakya/scratch/bshakya/YOLOv11/../yolov10/datasets/DOTAv1.5/images/test/P1936.jpg: 640x576 35 tennis courts, 5 basketball courts, 2 small vehicles, 8.9ms\n",
      "image 657/937 /mmfs1/scratch/dsu.local/bshakya/scratch/bshakya/YOLOv11/../yolov10/datasets/DOTAv1.5/images/test/P1937.jpg: 640x448 278 ships, 21 harbors, 1 small vehicle, 9.2ms\n",
      "image 658/937 /mmfs1/scratch/dsu.local/bshakya/scratch/bshakya/YOLOv11/../yolov10/datasets/DOTAv1.5/images/test/P1941.jpg: 608x640 107 large vehicles, 135 small vehicles, 9.4ms\n",
      "image 659/937 /mmfs1/scratch/dsu.local/bshakya/scratch/bshakya/YOLOv11/../yolov10/datasets/DOTAv1.5/images/test/P1943.jpg: 640x448 50 large vehicles, 21 small vehicles, 9.0ms\n",
      "image 660/937 /mmfs1/scratch/dsu.local/bshakya/scratch/bshakya/YOLOv11/../yolov10/datasets/DOTAv1.5/images/test/P1944.jpg: 640x448 173 large vehicles, 22 small vehicles, 8.4ms\n",
      "image 661/937 /mmfs1/scratch/dsu.local/bshakya/scratch/bshakya/YOLOv11/../yolov10/datasets/DOTAv1.5/images/test/P1946.jpg: 544x640 74 large vehicles, 1 small vehicle, 8.8ms\n",
      "image 662/937 /mmfs1/scratch/dsu.local/bshakya/scratch/bshakya/YOLOv11/../yolov10/datasets/DOTAv1.5/images/test/P1949.jpg: 640x512 118 large vehicles, 60 small vehicles, 8.7ms\n",
      "image 663/937 /mmfs1/scratch/dsu.local/bshakya/scratch/bshakya/YOLOv11/../yolov10/datasets/DOTAv1.5/images/test/P1952.jpg: 640x576 146 large vehicles, 23 small vehicles, 9.2ms\n",
      "image 664/937 /mmfs1/scratch/dsu.local/bshakya/scratch/bshakya/YOLOv11/../yolov10/datasets/DOTAv1.5/images/test/P1953.jpg: 640x576 296 large vehicles, 4 small vehicles, 9.0ms\n",
      "image 665/937 /mmfs1/scratch/dsu.local/bshakya/scratch/bshakya/YOLOv11/../yolov10/datasets/DOTAv1.5/images/test/P1956.jpg: 640x544 87 large vehicles, 59 small vehicles, 9.2ms\n",
      "image 666/937 /mmfs1/scratch/dsu.local/bshakya/scratch/bshakya/YOLOv11/../yolov10/datasets/DOTAv1.5/images/test/P1961.jpg: 640x544 43 large vehicles, 4 small vehicles, 8.5ms\n",
      "image 667/937 /mmfs1/scratch/dsu.local/bshakya/scratch/bshakya/YOLOv11/../yolov10/datasets/DOTAv1.5/images/test/P1963.jpg: 640x320 48 large vehicles, 63 small vehicles, 8.6ms\n",
      "image 668/937 /mmfs1/scratch/dsu.local/bshakya/scratch/bshakya/YOLOv11/../yolov10/datasets/DOTAv1.5/images/test/P1967.jpg: 640x448 21 large vehicles, 25 small vehicles, 8.6ms\n",
      "image 669/937 /mmfs1/scratch/dsu.local/bshakya/scratch/bshakya/YOLOv11/../yolov10/datasets/DOTAv1.5/images/test/P1968.jpg: 640x608 43 large vehicles, 73 small vehicles, 9.1ms\n",
      "image 670/937 /mmfs1/scratch/dsu.local/bshakya/scratch/bshakya/YOLOv11/../yolov10/datasets/DOTAv1.5/images/test/P1970.jpg: 640x512 135 large vehicles, 20 small vehicles, 9.3ms\n",
      "image 671/937 /mmfs1/scratch/dsu.local/bshakya/scratch/bshakya/YOLOv11/../yolov10/datasets/DOTAv1.5/images/test/P1971.jpg: 640x640 117 large vehicles, 160 small vehicles, 9.3ms\n",
      "image 672/937 /mmfs1/scratch/dsu.local/bshakya/scratch/bshakya/YOLOv11/../yolov10/datasets/DOTAv1.5/images/test/P1974.jpg: 640x448 62 large vehicles, 62 small vehicles, 9.9ms\n",
      "image 673/937 /mmfs1/scratch/dsu.local/bshakya/scratch/bshakya/YOLOv11/../yolov10/datasets/DOTAv1.5/images/test/P1975.jpg: 512x640 41 large vehicles, 30 small vehicles, 9.3ms\n",
      "image 674/937 /mmfs1/scratch/dsu.local/bshakya/scratch/bshakya/YOLOv11/../yolov10/datasets/DOTAv1.5/images/test/P1979.jpg: 640x480 211 large vehicles, 33 small vehicles, 9.3ms\n",
      "image 675/937 /mmfs1/scratch/dsu.local/bshakya/scratch/bshakya/YOLOv11/../yolov10/datasets/DOTAv1.5/images/test/P1985.jpg: 640x544 44 large vehicles, 49 small vehicles, 9.3ms\n",
      "image 676/937 /mmfs1/scratch/dsu.local/bshakya/scratch/bshakya/YOLOv11/../yolov10/datasets/DOTAv1.5/images/test/P1988.jpg: 480x640 135 large vehicles, 30 small vehicles, 8.9ms\n",
      "image 677/937 /mmfs1/scratch/dsu.local/bshakya/scratch/bshakya/YOLOv11/../yolov10/datasets/DOTAv1.5/images/test/P1993.jpg: 448x640 148 large vehicles, 33 small vehicles, 9.2ms\n",
      "image 678/937 /mmfs1/scratch/dsu.local/bshakya/scratch/bshakya/YOLOv11/../yolov10/datasets/DOTAv1.5/images/test/P1999.jpg: 640x512 8 tennis courts, 42 small vehicles, 9.1ms\n",
      "image 679/937 /mmfs1/scratch/dsu.local/bshakya/scratch/bshakya/YOLOv11/../yolov10/datasets/DOTAv1.5/images/test/P2000.jpg: 224x640 289 large vehicles, 11 small vehicles, 8.8ms\n",
      "image 680/937 /mmfs1/scratch/dsu.local/bshakya/scratch/bshakya/YOLOv11/../yolov10/datasets/DOTAv1.5/images/test/P2008.jpg: 640x384 119 large vehicles, 57 small vehicles, 8.9ms\n",
      "image 681/937 /mmfs1/scratch/dsu.local/bshakya/scratch/bshakya/YOLOv11/../yolov10/datasets/DOTAv1.5/images/test/P2009.jpg: 448x640 36 large vehicles, 20 small vehicles, 8.8ms\n",
      "image 682/937 /mmfs1/scratch/dsu.local/bshakya/scratch/bshakya/YOLOv11/../yolov10/datasets/DOTAv1.5/images/test/P2015.jpg: 640x416 103 large vehicles, 194 small vehicles, 8.7ms\n",
      "image 683/937 /mmfs1/scratch/dsu.local/bshakya/scratch/bshakya/YOLOv11/../yolov10/datasets/DOTAv1.5/images/test/P2021.jpg: 640x384 40 large vehicles, 15 small vehicles, 8.7ms\n",
      "image 684/937 /mmfs1/scratch/dsu.local/bshakya/scratch/bshakya/YOLOv11/../yolov10/datasets/DOTAv1.5/images/test/P2023.jpg: 640x480 8 ships, 24 harbors, 3 large vehicles, 9.1ms\n",
      "image 685/937 /mmfs1/scratch/dsu.local/bshakya/scratch/bshakya/YOLOv11/../yolov10/datasets/DOTAv1.5/images/test/P2024.jpg: 640x192 28 harbors, 9.2ms\n",
      "image 686/937 /mmfs1/scratch/dsu.local/bshakya/scratch/bshakya/YOLOv11/../yolov10/datasets/DOTAv1.5/images/test/P2025.jpg: 640x480 25 planes, 9.4ms\n",
      "image 687/937 /mmfs1/scratch/dsu.local/bshakya/scratch/bshakya/YOLOv11/../yolov10/datasets/DOTAv1.5/images/test/P2031.jpg: 448x640 123 large vehicles, 35 small vehicles, 9.3ms\n",
      "image 688/937 /mmfs1/scratch/dsu.local/bshakya/scratch/bshakya/YOLOv11/../yolov10/datasets/DOTAv1.5/images/test/P2035.jpg: 352x640 117 large vehicles, 20 small vehicles, 9.2ms\n",
      "image 689/937 /mmfs1/scratch/dsu.local/bshakya/scratch/bshakya/YOLOv11/../yolov10/datasets/DOTAv1.5/images/test/P2037.jpg: 640x608 268 large vehicles, 10 small vehicles, 9.4ms\n",
      "image 690/937 /mmfs1/scratch/dsu.local/bshakya/scratch/bshakya/YOLOv11/../yolov10/datasets/DOTAv1.5/images/test/P2040.jpg: 352x640 12 tennis courts, 5 small vehicles, 9.2ms\n",
      "image 691/937 /mmfs1/scratch/dsu.local/bshakya/scratch/bshakya/YOLOv11/../yolov10/datasets/DOTAv1.5/images/test/P2041.jpg: 640x448 26 tennis courts, 23 small vehicles, 1 soccer ball field, 1 swimming pool, 9.1ms\n",
      "image 692/937 /mmfs1/scratch/dsu.local/bshakya/scratch/bshakya/YOLOv11/../yolov10/datasets/DOTAv1.5/images/test/P2043.jpg: 544x640 300 small vehicles, 9.4ms\n",
      "image 693/937 /mmfs1/scratch/dsu.local/bshakya/scratch/bshakya/YOLOv11/../yolov10/datasets/DOTAv1.5/images/test/P2046.jpg: 544x640 300 small vehicles, 9.0ms\n",
      "image 694/937 /mmfs1/scratch/dsu.local/bshakya/scratch/bshakya/YOLOv11/../yolov10/datasets/DOTAv1.5/images/test/P2051.jpg: 640x640 7 small vehicles, 74 swimming pools, 9.3ms\n",
      "image 695/937 /mmfs1/scratch/dsu.local/bshakya/scratch/bshakya/YOLOv11/../yolov10/datasets/DOTAv1.5/images/test/P2064.jpg: 640x608 300 small vehicles, 9.5ms\n",
      "image 696/937 /mmfs1/scratch/dsu.local/bshakya/scratch/bshakya/YOLOv11/../yolov10/datasets/DOTAv1.5/images/test/P2069.jpg: 640x512 67 large vehicles, 43 small vehicles, 9.1ms\n",
      "image 697/937 /mmfs1/scratch/dsu.local/bshakya/scratch/bshakya/YOLOv11/../yolov10/datasets/DOTAv1.5/images/test/P2072.jpg: 640x448 16 large vehicles, 62 small vehicles, 8.8ms\n",
      "image 698/937 /mmfs1/scratch/dsu.local/bshakya/scratch/bshakya/YOLOv11/../yolov10/datasets/DOTAv1.5/images/test/P2075.jpg: 608x640 2 large vehicles, 298 small vehicles, 9.1ms\n",
      "image 699/937 /mmfs1/scratch/dsu.local/bshakya/scratch/bshakya/YOLOv11/../yolov10/datasets/DOTAv1.5/images/test/P2078.jpg: 512x640 11 tennis courts, 9.1ms\n",
      "image 700/937 /mmfs1/scratch/dsu.local/bshakya/scratch/bshakya/YOLOv11/../yolov10/datasets/DOTAv1.5/images/test/P2081.jpg: 576x640 12 tennis courts, 8 small vehicles, 8.8ms\n",
      "image 701/937 /mmfs1/scratch/dsu.local/bshakya/scratch/bshakya/YOLOv11/../yolov10/datasets/DOTAv1.5/images/test/P2083.jpg: 640x448 22 large vehicles, 15 small vehicles, 8.7ms\n",
      "image 702/937 /mmfs1/scratch/dsu.local/bshakya/scratch/bshakya/YOLOv11/../yolov10/datasets/DOTAv1.5/images/test/P2084.jpg: 640x448 23 large vehicles, 28 small vehicles, 8.2ms\n",
      "image 703/937 /mmfs1/scratch/dsu.local/bshakya/scratch/bshakya/YOLOv11/../yolov10/datasets/DOTAv1.5/images/test/P2092.jpg: 544x640 11 tennis courts, 8.6ms\n",
      "image 704/937 /mmfs1/scratch/dsu.local/bshakya/scratch/bshakya/YOLOv11/../yolov10/datasets/DOTAv1.5/images/test/P2094.jpg: 640x512 116 large vehicles, 64 small vehicles, 8.7ms\n",
      "image 705/937 /mmfs1/scratch/dsu.local/bshakya/scratch/bshakya/YOLOv11/../yolov10/datasets/DOTAv1.5/images/test/P2096.jpg: 640x640 172 large vehicles, 29 small vehicles, 8.9ms\n",
      "image 706/937 /mmfs1/scratch/dsu.local/bshakya/scratch/bshakya/YOLOv11/../yolov10/datasets/DOTAv1.5/images/test/P2101.jpg: 512x640 8 tennis courts, 7 small vehicles, 9.0ms\n",
      "image 707/937 /mmfs1/scratch/dsu.local/bshakya/scratch/bshakya/YOLOv11/../yolov10/datasets/DOTAv1.5/images/test/P2102.jpg: 640x640 10 tennis courts, 1 large vehicle, 16 small vehicles, 8.9ms\n",
      "image 708/937 /mmfs1/scratch/dsu.local/bshakya/scratch/bshakya/YOLOv11/../yolov10/datasets/DOTAv1.5/images/test/P2104.jpg: 640x512 7 tennis courts, 8.8ms\n",
      "image 709/937 /mmfs1/scratch/dsu.local/bshakya/scratch/bshakya/YOLOv11/../yolov10/datasets/DOTAv1.5/images/test/P2105.jpg: 384x640 39 ships, 9.1ms\n",
      "image 710/937 /mmfs1/scratch/dsu.local/bshakya/scratch/bshakya/YOLOv11/../yolov10/datasets/DOTAv1.5/images/test/P2108.jpg: 192x640 41 large vehicles, 24 small vehicles, 8.9ms\n",
      "image 711/937 /mmfs1/scratch/dsu.local/bshakya/scratch/bshakya/YOLOv11/../yolov10/datasets/DOTAv1.5/images/test/P2112.jpg: 480x640 41 large vehicles, 37 small vehicles, 8.8ms\n",
      "image 712/937 /mmfs1/scratch/dsu.local/bshakya/scratch/bshakya/YOLOv11/../yolov10/datasets/DOTAv1.5/images/test/P2113.jpg: 640x352 184 large vehicles, 36 small vehicles, 8.6ms\n",
      "image 713/937 /mmfs1/scratch/dsu.local/bshakya/scratch/bshakya/YOLOv11/../yolov10/datasets/DOTAv1.5/images/test/P2117.jpg: 640x384 5 baseball diamonds, 1 small vehicle, 8.7ms\n",
      "image 714/937 /mmfs1/scratch/dsu.local/bshakya/scratch/bshakya/YOLOv11/../yolov10/datasets/DOTAv1.5/images/test/P2119.jpg: 544x640 10 baseball diamonds, 6 tennis courts, 6 small vehicles, 2 soccer ball fields, 9.0ms\n",
      "image 715/937 /mmfs1/scratch/dsu.local/bshakya/scratch/bshakya/YOLOv11/../yolov10/datasets/DOTAv1.5/images/test/P2120.jpg: 640x640 6 baseball diamonds, 1 basketball court, 4 small vehicles, 9.1ms\n",
      "image 716/937 /mmfs1/scratch/dsu.local/bshakya/scratch/bshakya/YOLOv11/../yolov10/datasets/DOTAv1.5/images/test/P2128.jpg: 640x352 136 large vehicles, 22 small vehicles, 8.7ms\n",
      "image 717/937 /mmfs1/scratch/dsu.local/bshakya/scratch/bshakya/YOLOv11/../yolov10/datasets/DOTAv1.5/images/test/P2136.jpg: 640x608 2 baseball diamonds, 12 tennis courts, 5 basketball courts, 1 ground track field, 1 large vehicle, 49 small vehicles, 1 soccer ball field, 9.3ms\n",
      "image 718/937 /mmfs1/scratch/dsu.local/bshakya/scratch/bshakya/YOLOv11/../yolov10/datasets/DOTAv1.5/images/test/P2137.jpg: 640x512 36 large vehicles, 47 small vehicles, 9.1ms\n",
      "image 719/937 /mmfs1/scratch/dsu.local/bshakya/scratch/bshakya/YOLOv11/../yolov10/datasets/DOTAv1.5/images/test/P2139.jpg: 640x416 9 tennis courts, 1 ground track field, 17 small vehicles, 1 soccer ball field, 1 swimming pool, 8.8ms\n",
      "image 720/937 /mmfs1/scratch/dsu.local/bshakya/scratch/bshakya/YOLOv11/../yolov10/datasets/DOTAv1.5/images/test/P2140.jpg: 640x512 77 large vehicles, 93 small vehicles, 8.9ms\n",
      "image 721/937 /mmfs1/scratch/dsu.local/bshakya/scratch/bshakya/YOLOv11/../yolov10/datasets/DOTAv1.5/images/test/P2146.jpg: 640x608 2 baseball diamonds, 10 tennis courts, 1 large vehicle, 101 small vehicles, 1 soccer ball field, 9.0ms\n",
      "image 722/937 /mmfs1/scratch/dsu.local/bshakya/scratch/bshakya/YOLOv11/../yolov10/datasets/DOTAv1.5/images/test/P2147.jpg: 640x480 2 baseball diamonds, 7 tennis courts, 3 basketball courts, 1 swimming pool, 8.8ms\n",
      "image 723/937 /mmfs1/scratch/dsu.local/bshakya/scratch/bshakya/YOLOv11/../yolov10/datasets/DOTAv1.5/images/test/P2153.jpg: 640x352 67 large vehicles, 60 small vehicles, 8.5ms\n",
      "image 724/937 /mmfs1/scratch/dsu.local/bshakya/scratch/bshakya/YOLOv11/../yolov10/datasets/DOTAv1.5/images/test/P2161.jpg: 608x640 1 storage tank, 3 baseball diamonds, 6 tennis courts, 2 ground track fields, 3 soccer ball fields, 2 swimming pools, 9.5ms\n",
      "image 725/937 /mmfs1/scratch/dsu.local/bshakya/scratch/bshakya/YOLOv11/../yolov10/datasets/DOTAv1.5/images/test/P2165.jpg: 448x640 7 baseball diamonds, 8 small vehicles, 1 soccer ball field, 2 swimming pools, 9.3ms\n",
      "image 726/937 /mmfs1/scratch/dsu.local/bshakya/scratch/bshakya/YOLOv11/../yolov10/datasets/DOTAv1.5/images/test/P2170.jpg: 640x352 14 baseball diamonds, 5 soccer ball fields, 1 swimming pool, 9.0ms\n",
      "image 727/937 /mmfs1/scratch/dsu.local/bshakya/scratch/bshakya/YOLOv11/../yolov10/datasets/DOTAv1.5/images/test/P2171.jpg: 384x640 2 small vehicles, 8.8ms\n",
      "image 728/937 /mmfs1/scratch/dsu.local/bshakya/scratch/bshakya/YOLOv11/../yolov10/datasets/DOTAv1.5/images/test/P2172.jpg: 640x448 6 baseball diamonds, 1 small vehicle, 2 roundabouts, 3 soccer ball fields, 8.7ms\n",
      "image 729/937 /mmfs1/scratch/dsu.local/bshakya/scratch/bshakya/YOLOv11/../yolov10/datasets/DOTAv1.5/images/test/P2174.jpg: 640x576 5 tennis courts, 1 small vehicle, 11 soccer ball fields, 1 swimming pool, 8.8ms\n",
      "image 730/937 /mmfs1/scratch/dsu.local/bshakya/scratch/bshakya/YOLOv11/../yolov10/datasets/DOTAv1.5/images/test/P2176.jpg: 640x416 (no detections), 8.6ms\n",
      "image 731/937 /mmfs1/scratch/dsu.local/bshakya/scratch/bshakya/YOLOv11/../yolov10/datasets/DOTAv1.5/images/test/P2178.jpg: 640x576 9 baseball diamonds, 8 small vehicles, 1 soccer ball field, 8.7ms\n",
      "image 732/937 /mmfs1/scratch/dsu.local/bshakya/scratch/bshakya/YOLOv11/../yolov10/datasets/DOTAv1.5/images/test/P2183.jpg: 640x416 11 large vehicles, 7 small vehicles, 1 roundabout, 8.7ms\n",
      "image 733/937 /mmfs1/scratch/dsu.local/bshakya/scratch/bshakya/YOLOv11/../yolov10/datasets/DOTAv1.5/images/test/P2186.jpg: 640x192 3 large vehicles, 9.2ms\n",
      "image 734/937 /mmfs1/scratch/dsu.local/bshakya/scratch/bshakya/YOLOv11/../yolov10/datasets/DOTAv1.5/images/test/P2187.jpg: 640x448 2 bridges, 2 large vehicles, 2 small vehicles, 9.2ms\n",
      "image 735/937 /mmfs1/scratch/dsu.local/bshakya/scratch/bshakya/YOLOv11/../yolov10/datasets/DOTAv1.5/images/test/P2188.jpg: 608x640 9 ships, 2 storage tanks, 1 bridge, 4 large vehicles, 12 small vehicles, 9.4ms\n",
      "image 736/937 /mmfs1/scratch/dsu.local/bshakya/scratch/bshakya/YOLOv11/../yolov10/datasets/DOTAv1.5/images/test/P2193.jpg: 640x544 4 planes, 9.5ms\n",
      "image 737/937 /mmfs1/scratch/dsu.local/bshakya/scratch/bshakya/YOLOv11/../yolov10/datasets/DOTAv1.5/images/test/P2195.jpg: 640x448 9 baseball diamonds, 10 tennis courts, 15 small vehicles, 1 soccer ball field, 9.5ms\n",
      "image 738/937 /mmfs1/scratch/dsu.local/bshakya/scratch/bshakya/YOLOv11/../yolov10/datasets/DOTAv1.5/images/test/P2200.jpg: 544x640 9 planes, 1 small vehicle, 9.1ms\n",
      "image 739/937 /mmfs1/scratch/dsu.local/bshakya/scratch/bshakya/YOLOv11/../yolov10/datasets/DOTAv1.5/images/test/P2202.jpg: 608x640 5 baseball diamonds, 6 tennis courts, 4 small vehicles, 1 swimming pool, 9.3ms\n",
      "image 740/937 /mmfs1/scratch/dsu.local/bshakya/scratch/bshakya/YOLOv11/../yolov10/datasets/DOTAv1.5/images/test/P2208.jpg: 384x640 68 planes, 9.5ms\n",
      "image 741/937 /mmfs1/scratch/dsu.local/bshakya/scratch/bshakya/YOLOv11/../yolov10/datasets/DOTAv1.5/images/test/P2209.jpg: 640x448 7 baseball diamonds, 16 small vehicles, 7 swimming pools, 9.2ms\n",
      "image 742/937 /mmfs1/scratch/dsu.local/bshakya/scratch/bshakya/YOLOv11/../yolov10/datasets/DOTAv1.5/images/test/P2212.jpg: 544x640 11 baseball diamonds, 5 tennis courts, 1 ground track field, 1 small vehicle, 2 soccer ball fields, 1 swimming pool, 9.1ms\n",
      "image 743/937 /mmfs1/scratch/dsu.local/bshakya/scratch/bshakya/YOLOv11/../yolov10/datasets/DOTAv1.5/images/test/P2216.jpg: 640x640 28 planes, 100 small vehicles, 9.3ms\n",
      "image 744/937 /mmfs1/scratch/dsu.local/bshakya/scratch/bshakya/YOLOv11/../yolov10/datasets/DOTAv1.5/images/test/P2223.jpg: 640x480 10 baseball diamonds, 9 small vehicles, 9.1ms\n",
      "image 745/937 /mmfs1/scratch/dsu.local/bshakya/scratch/bshakya/YOLOv11/../yolov10/datasets/DOTAv1.5/images/test/P2229.jpg: 192x640 62 planes, 9.1ms\n",
      "image 746/937 /mmfs1/scratch/dsu.local/bshakya/scratch/bshakya/YOLOv11/../yolov10/datasets/DOTAv1.5/images/test/P2233.jpg: 640x448 15 swimming pools, 9.2ms\n",
      "image 747/937 /mmfs1/scratch/dsu.local/bshakya/scratch/bshakya/YOLOv11/../yolov10/datasets/DOTAv1.5/images/test/P2238.jpg: 576x640 110 planes, 25 small vehicles, 9.1ms\n",
      "image 748/937 /mmfs1/scratch/dsu.local/bshakya/scratch/bshakya/YOLOv11/../yolov10/datasets/DOTAv1.5/images/test/P2246.jpg: 576x640 237 large vehicles, 63 small vehicles, 8.7ms\n",
      "image 749/937 /mmfs1/scratch/dsu.local/bshakya/scratch/bshakya/YOLOv11/../yolov10/datasets/DOTAv1.5/images/test/P2252.jpg: 640x384 7 tennis courts, 33 small vehicles, 5 swimming pools, 8.9ms\n",
      "image 750/937 /mmfs1/scratch/dsu.local/bshakya/scratch/bshakya/YOLOv11/../yolov10/datasets/DOTAv1.5/images/test/P2254.jpg: 192x640 (no detections), 9.1ms\n",
      "image 751/937 /mmfs1/scratch/dsu.local/bshakya/scratch/bshakya/YOLOv11/../yolov10/datasets/DOTAv1.5/images/test/P2261.jpg: 160x640 7 storage tanks, 8.9ms\n",
      "image 752/937 /mmfs1/scratch/dsu.local/bshakya/scratch/bshakya/YOLOv11/../yolov10/datasets/DOTAv1.5/images/test/P2263.jpg: 480x640 7 ships, 1 harbor, 1 bridge, 9.1ms\n",
      "image 753/937 /mmfs1/scratch/dsu.local/bshakya/scratch/bshakya/YOLOv11/../yolov10/datasets/DOTAv1.5/images/test/P2265.jpg: 640x576 2 planes, 1 ship, 8.9ms\n",
      "image 754/937 /mmfs1/scratch/dsu.local/bshakya/scratch/bshakya/YOLOv11/../yolov10/datasets/DOTAv1.5/images/test/P2267.jpg: 640x416 5 tennis courts, 34 small vehicles, 8.6ms\n",
      "image 755/937 /mmfs1/scratch/dsu.local/bshakya/scratch/bshakya/YOLOv11/../yolov10/datasets/DOTAv1.5/images/test/P2268.jpg: 448x640 5 tennis courts, 73 small vehicles, 3 swimming pools, 8.7ms\n",
      "image 756/937 /mmfs1/scratch/dsu.local/bshakya/scratch/bshakya/YOLOv11/../yolov10/datasets/DOTAv1.5/images/test/P2272.jpg: 416x640 2 ground track fields, 9.1ms\n",
      "image 757/937 /mmfs1/scratch/dsu.local/bshakya/scratch/bshakya/YOLOv11/../yolov10/datasets/DOTAv1.5/images/test/P2273.jpg: 384x640 2 roundabouts, 9.2ms\n",
      "image 758/937 /mmfs1/scratch/dsu.local/bshakya/scratch/bshakya/YOLOv11/../yolov10/datasets/DOTAv1.5/images/test/P2274.jpg: 640x640 1 swimming pool, 8.9ms\n",
      "image 759/937 /mmfs1/scratch/dsu.local/bshakya/scratch/bshakya/YOLOv11/../yolov10/datasets/DOTAv1.5/images/test/P2276.jpg: 512x640 2 ground track fields, 2 soccer ball fields, 8.8ms\n",
      "image 760/937 /mmfs1/scratch/dsu.local/bshakya/scratch/bshakya/YOLOv11/../yolov10/datasets/DOTAv1.5/images/test/P2277.jpg: 640x640 1 ground track field, 9.0ms\n",
      "image 761/937 /mmfs1/scratch/dsu.local/bshakya/scratch/bshakya/YOLOv11/../yolov10/datasets/DOTAv1.5/images/test/P2284.jpg: 384x640 33 ships, 9.2ms\n",
      "image 762/937 /mmfs1/scratch/dsu.local/bshakya/scratch/bshakya/YOLOv11/../yolov10/datasets/DOTAv1.5/images/test/P2290.jpg: 640x384 2 ships, 9.1ms\n",
      "image 763/937 /mmfs1/scratch/dsu.local/bshakya/scratch/bshakya/YOLOv11/../yolov10/datasets/DOTAv1.5/images/test/P2291.jpg: 384x640 2 ships, 8.7ms\n",
      "image 764/937 /mmfs1/scratch/dsu.local/bshakya/scratch/bshakya/YOLOv11/../yolov10/datasets/DOTAv1.5/images/test/P2292.jpg: 448x640 1 ship, 8.6ms\n",
      "image 765/937 /mmfs1/scratch/dsu.local/bshakya/scratch/bshakya/YOLOv11/../yolov10/datasets/DOTAv1.5/images/test/P2293.jpg: 512x640 7 ships, 8.7ms\n",
      "image 766/937 /mmfs1/scratch/dsu.local/bshakya/scratch/bshakya/YOLOv11/../yolov10/datasets/DOTAv1.5/images/test/P2295.jpg: 512x640 1 ship, 8.3ms\n",
      "image 767/937 /mmfs1/scratch/dsu.local/bshakya/scratch/bshakya/YOLOv11/../yolov10/datasets/DOTAv1.5/images/test/P2296.jpg: 576x640 19 ships, 8.6ms\n",
      "image 768/937 /mmfs1/scratch/dsu.local/bshakya/scratch/bshakya/YOLOv11/../yolov10/datasets/DOTAv1.5/images/test/P2297.jpg: 256x640 23 ships, 2 harbors, 8.6ms\n",
      "image 769/937 /mmfs1/scratch/dsu.local/bshakya/scratch/bshakya/YOLOv11/../yolov10/datasets/DOTAv1.5/images/test/P2298.jpg: 576x640 63 ships, 8.7ms\n",
      "image 770/937 /mmfs1/scratch/dsu.local/bshakya/scratch/bshakya/YOLOv11/../yolov10/datasets/DOTAv1.5/images/test/P2299.jpg: 320x640 3 ships, 8.5ms\n",
      "image 771/937 /mmfs1/scratch/dsu.local/bshakya/scratch/bshakya/YOLOv11/../yolov10/datasets/DOTAv1.5/images/test/P2300.jpg: 640x576 25 ships, 8.6ms\n",
      "image 772/937 /mmfs1/scratch/dsu.local/bshakya/scratch/bshakya/YOLOv11/../yolov10/datasets/DOTAv1.5/images/test/P2307.jpg: 576x640 54 ships, 8.6ms\n",
      "image 773/937 /mmfs1/scratch/dsu.local/bshakya/scratch/bshakya/YOLOv11/../yolov10/datasets/DOTAv1.5/images/test/P2308.jpg: 640x576 3 ships, 3 harbors, 8.6ms\n",
      "image 774/937 /mmfs1/scratch/dsu.local/bshakya/scratch/bshakya/YOLOv11/../yolov10/datasets/DOTAv1.5/images/test/P2312.jpg: 512x640 11 ships, 2 harbors, 8.6ms\n",
      "image 775/937 /mmfs1/scratch/dsu.local/bshakya/scratch/bshakya/YOLOv11/../yolov10/datasets/DOTAv1.5/images/test/P2314.jpg: 512x640 32 ships, 8.2ms\n",
      "image 776/937 /mmfs1/scratch/dsu.local/bshakya/scratch/bshakya/YOLOv11/../yolov10/datasets/DOTAv1.5/images/test/P2315.jpg: 576x640 25 ships, 8.6ms\n",
      "image 777/937 /mmfs1/scratch/dsu.local/bshakya/scratch/bshakya/YOLOv11/../yolov10/datasets/DOTAv1.5/images/test/P2316.jpg: 640x576 33 ships, 8.7ms\n",
      "image 778/937 /mmfs1/scratch/dsu.local/bshakya/scratch/bshakya/YOLOv11/../yolov10/datasets/DOTAv1.5/images/test/P2317.jpg: 512x640 12 ships, 8.6ms\n",
      "image 779/937 /mmfs1/scratch/dsu.local/bshakya/scratch/bshakya/YOLOv11/../yolov10/datasets/DOTAv1.5/images/test/P2318.jpg: 640x576 20 ships, 1 harbor, 8.6ms\n",
      "image 780/937 /mmfs1/scratch/dsu.local/bshakya/scratch/bshakya/YOLOv11/../yolov10/datasets/DOTAv1.5/images/test/P2320.jpg: 640x384 15 ships, 1 ground track field, 1 harbor, 1 soccer ball field, 8.5ms\n",
      "image 781/937 /mmfs1/scratch/dsu.local/bshakya/scratch/bshakya/YOLOv11/../yolov10/datasets/DOTAv1.5/images/test/P2323.jpg: 576x640 31 ships, 8.6ms\n",
      "image 782/937 /mmfs1/scratch/dsu.local/bshakya/scratch/bshakya/YOLOv11/../yolov10/datasets/DOTAv1.5/images/test/P2325.jpg: 576x640 8 ships, 8.3ms\n",
      "image 783/937 /mmfs1/scratch/dsu.local/bshakya/scratch/bshakya/YOLOv11/../yolov10/datasets/DOTAv1.5/images/test/P2329.jpg: 352x640 47 ships, 2 harbors, 9.3ms\n",
      "image 784/937 /mmfs1/scratch/dsu.local/bshakya/scratch/bshakya/YOLOv11/../yolov10/datasets/DOTAv1.5/images/test/P2333.jpg: 640x608 (no detections), 9.4ms\n",
      "image 785/937 /mmfs1/scratch/dsu.local/bshakya/scratch/bshakya/YOLOv11/../yolov10/datasets/DOTAv1.5/images/test/P2336.jpg: 608x640 (no detections), 9.3ms\n",
      "image 786/937 /mmfs1/scratch/dsu.local/bshakya/scratch/bshakya/YOLOv11/../yolov10/datasets/DOTAv1.5/images/test/P2338.jpg: 576x640 1 ground track field, 9.3ms\n",
      "image 787/937 /mmfs1/scratch/dsu.local/bshakya/scratch/bshakya/YOLOv11/../yolov10/datasets/DOTAv1.5/images/test/P2340.jpg: 640x512 1 swimming pool, 9.3ms\n",
      "image 788/937 /mmfs1/scratch/dsu.local/bshakya/scratch/bshakya/YOLOv11/../yolov10/datasets/DOTAv1.5/images/test/P2341.jpg: 576x640 (no detections), 9.3ms\n",
      "image 789/937 /mmfs1/scratch/dsu.local/bshakya/scratch/bshakya/YOLOv11/../yolov10/datasets/DOTAv1.5/images/test/P2345.jpg: 640x512 (no detections), 9.3ms\n",
      "image 790/937 /mmfs1/scratch/dsu.local/bshakya/scratch/bshakya/YOLOv11/../yolov10/datasets/DOTAv1.5/images/test/P2347.jpg: 576x640 2 baseball diamonds, 1 soccer ball field, 1 swimming pool, 9.3ms\n",
      "image 791/937 /mmfs1/scratch/dsu.local/bshakya/scratch/bshakya/YOLOv11/../yolov10/datasets/DOTAv1.5/images/test/P2350.jpg: 640x608 1 storage tank, 9.3ms\n",
      "image 792/937 /mmfs1/scratch/dsu.local/bshakya/scratch/bshakya/YOLOv11/../yolov10/datasets/DOTAv1.5/images/test/P2353.jpg: 640x576 (no detections), 9.3ms\n",
      "image 793/937 /mmfs1/scratch/dsu.local/bshakya/scratch/bshakya/YOLOv11/../yolov10/datasets/DOTAv1.5/images/test/P2357.jpg: 640x608 1 plane, 9.3ms\n",
      "image 794/937 /mmfs1/scratch/dsu.local/bshakya/scratch/bshakya/YOLOv11/../yolov10/datasets/DOTAv1.5/images/test/P2358.jpg: 640x512 (no detections), 9.2ms\n",
      "image 795/937 /mmfs1/scratch/dsu.local/bshakya/scratch/bshakya/YOLOv11/../yolov10/datasets/DOTAv1.5/images/test/P2360.jpg: 512x640 1 storage tank, 9.2ms\n",
      "image 796/937 /mmfs1/scratch/dsu.local/bshakya/scratch/bshakya/YOLOv11/../yolov10/datasets/DOTAv1.5/images/test/P2361.jpg: 640x608 (no detections), 9.3ms\n",
      "image 797/937 /mmfs1/scratch/dsu.local/bshakya/scratch/bshakya/YOLOv11/../yolov10/datasets/DOTAv1.5/images/test/P2366.jpg: 640x608 4 bridges, 9.0ms\n",
      "image 798/937 /mmfs1/scratch/dsu.local/bshakya/scratch/bshakya/YOLOv11/../yolov10/datasets/DOTAv1.5/images/test/P2367.jpg: 640x608 3 planes, 1 bridge, 9.0ms\n",
      "image 799/937 /mmfs1/scratch/dsu.local/bshakya/scratch/bshakya/YOLOv11/../yolov10/datasets/DOTAv1.5/images/test/P2369.jpg: 576x640 2 ships, 9.3ms\n",
      "image 800/937 /mmfs1/scratch/dsu.local/bshakya/scratch/bshakya/YOLOv11/../yolov10/datasets/DOTAv1.5/images/test/P2372.jpg: 640x640 1 bridge, 9.3ms\n",
      "image 801/937 /mmfs1/scratch/dsu.local/bshakya/scratch/bshakya/YOLOv11/../yolov10/datasets/DOTAv1.5/images/test/P2376.jpg: 640x640 2 ships, 3 harbors, 1 bridge, 8.9ms\n",
      "image 802/937 /mmfs1/scratch/dsu.local/bshakya/scratch/bshakya/YOLOv11/../yolov10/datasets/DOTAv1.5/images/test/P2383.jpg: 640x640 2 ground track fields, 1 bridge, 8.9ms\n",
      "image 803/937 /mmfs1/scratch/dsu.local/bshakya/scratch/bshakya/YOLOv11/../yolov10/datasets/DOTAv1.5/images/test/P2384.jpg: 640x512 1 bridge, 9.3ms\n",
      "image 804/937 /mmfs1/scratch/dsu.local/bshakya/scratch/bshakya/YOLOv11/../yolov10/datasets/DOTAv1.5/images/test/P2386.jpg: 640x640 2 bridges, 1 soccer ball field, 9.2ms\n",
      "image 805/937 /mmfs1/scratch/dsu.local/bshakya/scratch/bshakya/YOLOv11/../yolov10/datasets/DOTAv1.5/images/test/P2391.jpg: 480x640 (no detections), 9.3ms\n",
      "image 806/937 /mmfs1/scratch/dsu.local/bshakya/scratch/bshakya/YOLOv11/../yolov10/datasets/DOTAv1.5/images/test/P2398.jpg: 640x480 1 ground track field, 1 soccer ball field, 9.2ms\n",
      "image 807/937 /mmfs1/scratch/dsu.local/bshakya/scratch/bshakya/YOLOv11/../yolov10/datasets/DOTAv1.5/images/test/P2399.jpg: 640x512 (no detections), 9.2ms\n",
      "image 808/937 /mmfs1/scratch/dsu.local/bshakya/scratch/bshakya/YOLOv11/../yolov10/datasets/DOTAv1.5/images/test/P2400.jpg: 640x480 3 ships, 2 bridges, 9.2ms\n",
      "image 809/937 /mmfs1/scratch/dsu.local/bshakya/scratch/bshakya/YOLOv11/../yolov10/datasets/DOTAv1.5/images/test/P2402.jpg: 640x576 1 ship, 8 large vehicles, 9 small vehicles, 1 roundabout, 1 soccer ball field, 9.3ms\n",
      "image 810/937 /mmfs1/scratch/dsu.local/bshakya/scratch/bshakya/YOLOv11/../yolov10/datasets/DOTAv1.5/images/test/P2405.jpg: 608x640 3 ground track fields, 1 soccer ball field, 9.3ms\n",
      "image 811/937 /mmfs1/scratch/dsu.local/bshakya/scratch/bshakya/YOLOv11/../yolov10/datasets/DOTAv1.5/images/test/P2406.jpg: 640x480 (no detections), 9.2ms\n",
      "image 812/937 /mmfs1/scratch/dsu.local/bshakya/scratch/bshakya/YOLOv11/../yolov10/datasets/DOTAv1.5/images/test/P2407.jpg: 640x608 (no detections), 9.3ms\n",
      "image 813/937 /mmfs1/scratch/dsu.local/bshakya/scratch/bshakya/YOLOv11/../yolov10/datasets/DOTAv1.5/images/test/P2410.jpg: 640x640 1 baseball diamond, 1 ground track field, 1 soccer ball field, 9.3ms\n",
      "image 814/937 /mmfs1/scratch/dsu.local/bshakya/scratch/bshakya/YOLOv11/../yolov10/datasets/DOTAv1.5/images/test/P2412.jpg: 640x480 1 large vehicle, 22 small vehicles, 1 roundabout, 9.2ms\n",
      "image 815/937 /mmfs1/scratch/dsu.local/bshakya/scratch/bshakya/YOLOv11/../yolov10/datasets/DOTAv1.5/images/test/P2414.jpg: 640x480 1 roundabout, 8.9ms\n",
      "image 816/937 /mmfs1/scratch/dsu.local/bshakya/scratch/bshakya/YOLOv11/../yolov10/datasets/DOTAv1.5/images/test/P2424.jpg: 640x480 (no detections), 8.8ms\n",
      "image 817/937 /mmfs1/scratch/dsu.local/bshakya/scratch/bshakya/YOLOv11/../yolov10/datasets/DOTAv1.5/images/test/P2425.jpg: 640x640 1 ground track field, 2 soccer ball fields, 9.2ms\n",
      "image 818/937 /mmfs1/scratch/dsu.local/bshakya/scratch/bshakya/YOLOv11/../yolov10/datasets/DOTAv1.5/images/test/P2431.jpg: 640x544 (no detections), 9.3ms\n",
      "image 819/937 /mmfs1/scratch/dsu.local/bshakya/scratch/bshakya/YOLOv11/../yolov10/datasets/DOTAv1.5/images/test/P2434.jpg: 640x544 2 ground track fields, 8.9ms\n",
      "image 820/937 /mmfs1/scratch/dsu.local/bshakya/scratch/bshakya/YOLOv11/../yolov10/datasets/DOTAv1.5/images/test/P2439.jpg: 640x480 (no detections), 9.3ms\n",
      "image 821/937 /mmfs1/scratch/dsu.local/bshakya/scratch/bshakya/YOLOv11/../yolov10/datasets/DOTAv1.5/images/test/P2440.jpg: 640x640 1 ground track field, 9.2ms\n",
      "image 822/937 /mmfs1/scratch/dsu.local/bshakya/scratch/bshakya/YOLOv11/../yolov10/datasets/DOTAv1.5/images/test/P2441.jpg: 640x544 2 planes, 9.3ms\n",
      "image 823/937 /mmfs1/scratch/dsu.local/bshakya/scratch/bshakya/YOLOv11/../yolov10/datasets/DOTAv1.5/images/test/P2443.jpg: 640x416 (no detections), 9.2ms\n",
      "image 824/937 /mmfs1/scratch/dsu.local/bshakya/scratch/bshakya/YOLOv11/../yolov10/datasets/DOTAv1.5/images/test/P2445.jpg: 640x544 (no detections), 9.3ms\n",
      "image 825/937 /mmfs1/scratch/dsu.local/bshakya/scratch/bshakya/YOLOv11/../yolov10/datasets/DOTAv1.5/images/test/P2447.jpg: 640x512 1 plane, 9.3ms\n",
      "image 826/937 /mmfs1/scratch/dsu.local/bshakya/scratch/bshakya/YOLOv11/../yolov10/datasets/DOTAv1.5/images/test/P2448.jpg: 640x640 (no detections), 9.3ms\n",
      "image 827/937 /mmfs1/scratch/dsu.local/bshakya/scratch/bshakya/YOLOv11/../yolov10/datasets/DOTAv1.5/images/test/P2451.jpg: 640x576 1 ground track field, 1 soccer ball field, 9.3ms\n",
      "image 828/937 /mmfs1/scratch/dsu.local/bshakya/scratch/bshakya/YOLOv11/../yolov10/datasets/DOTAv1.5/images/test/P2459.jpg: 640x544 1 ground track field, 9.3ms\n",
      "image 829/937 /mmfs1/scratch/dsu.local/bshakya/scratch/bshakya/YOLOv11/../yolov10/datasets/DOTAv1.5/images/test/P2461.jpg: 640x576 2 ground track fields, 4 soccer ball fields, 9.3ms\n",
      "image 830/937 /mmfs1/scratch/dsu.local/bshakya/scratch/bshakya/YOLOv11/../yolov10/datasets/DOTAv1.5/images/test/P2463.jpg: 640x640 1 plane, 1 bridge, 1 roundabout, 9.3ms\n",
      "image 831/937 /mmfs1/scratch/dsu.local/bshakya/scratch/bshakya/YOLOv11/../yolov10/datasets/DOTAv1.5/images/test/P2473.jpg: 640x640 4 bridges, 8.9ms\n",
      "image 832/937 /mmfs1/scratch/dsu.local/bshakya/scratch/bshakya/YOLOv11/../yolov10/datasets/DOTAv1.5/images/test/P2474.jpg: 640x512 1 bridge, 9.3ms\n",
      "image 833/937 /mmfs1/scratch/dsu.local/bshakya/scratch/bshakya/YOLOv11/../yolov10/datasets/DOTAv1.5/images/test/P2480.jpg: 640x576 1 bridge, 9.3ms\n",
      "image 834/937 /mmfs1/scratch/dsu.local/bshakya/scratch/bshakya/YOLOv11/../yolov10/datasets/DOTAv1.5/images/test/P2484.jpg: 640x448 2 swimming pools, 9.2ms\n",
      "image 835/937 /mmfs1/scratch/dsu.local/bshakya/scratch/bshakya/YOLOv11/../yolov10/datasets/DOTAv1.5/images/test/P2486.jpg: 640x576 1 ground track field, 1 soccer ball field, 9.3ms\n",
      "image 836/937 /mmfs1/scratch/dsu.local/bshakya/scratch/bshakya/YOLOv11/../yolov10/datasets/DOTAv1.5/images/test/P2487.jpg: 640x576 (no detections), 9.0ms\n",
      "image 837/937 /mmfs1/scratch/dsu.local/bshakya/scratch/bshakya/YOLOv11/../yolov10/datasets/DOTAv1.5/images/test/P2489.jpg: 640x576 1 ground track field, 8.9ms\n",
      "image 838/937 /mmfs1/scratch/dsu.local/bshakya/scratch/bshakya/YOLOv11/../yolov10/datasets/DOTAv1.5/images/test/P2493.jpg: 640x480 (no detections), 9.2ms\n",
      "image 839/937 /mmfs1/scratch/dsu.local/bshakya/scratch/bshakya/YOLOv11/../yolov10/datasets/DOTAv1.5/images/test/P2498.jpg: 640x480 1 roundabout, 8.9ms\n",
      "image 840/937 /mmfs1/scratch/dsu.local/bshakya/scratch/bshakya/YOLOv11/../yolov10/datasets/DOTAv1.5/images/test/P2499.jpg: 640x544 (no detections), 9.3ms\n",
      "image 841/937 /mmfs1/scratch/dsu.local/bshakya/scratch/bshakya/YOLOv11/../yolov10/datasets/DOTAv1.5/images/test/P2500.jpg: 640x544 1 ground track field, 1 bridge, 4 soccer ball fields, 9.0ms\n",
      "image 842/937 /mmfs1/scratch/dsu.local/bshakya/scratch/bshakya/YOLOv11/../yolov10/datasets/DOTAv1.5/images/test/P2508.jpg: 576x640 3 ground track fields, 1 bridge, 3 soccer ball fields, 9.3ms\n",
      "image 843/937 /mmfs1/scratch/dsu.local/bshakya/scratch/bshakya/YOLOv11/../yolov10/datasets/DOTAv1.5/images/test/P2510.jpg: 640x640 (no detections), 9.3ms\n",
      "image 844/937 /mmfs1/scratch/dsu.local/bshakya/scratch/bshakya/YOLOv11/../yolov10/datasets/DOTAv1.5/images/test/P2511.jpg: 640x512 1 ground track field, 9.3ms\n",
      "image 845/937 /mmfs1/scratch/dsu.local/bshakya/scratch/bshakya/YOLOv11/../yolov10/datasets/DOTAv1.5/images/test/P2515.jpg: 640x640 1 ground track field, 5 soccer ball fields, 9.3ms\n",
      "image 846/937 /mmfs1/scratch/dsu.local/bshakya/scratch/bshakya/YOLOv11/../yolov10/datasets/DOTAv1.5/images/test/P2521.jpg: 640x480 (no detections), 9.2ms\n",
      "image 847/937 /mmfs1/scratch/dsu.local/bshakya/scratch/bshakya/YOLOv11/../yolov10/datasets/DOTAv1.5/images/test/P2524.jpg: 640x640 2 soccer ball fields, 9.2ms\n",
      "image 848/937 /mmfs1/scratch/dsu.local/bshakya/scratch/bshakya/YOLOv11/../yolov10/datasets/DOTAv1.5/images/test/P2525.jpg: 640x640 2 ground track fields, 1 soccer ball field, 8.8ms\n",
      "image 849/937 /mmfs1/scratch/dsu.local/bshakya/scratch/bshakya/YOLOv11/../yolov10/datasets/DOTAv1.5/images/test/P2526.jpg: 640x544 1 ground track field, 1 bridge, 9.3ms\n",
      "image 850/937 /mmfs1/scratch/dsu.local/bshakya/scratch/bshakya/YOLOv11/../yolov10/datasets/DOTAv1.5/images/test/P2530.jpg: 640x544 (no detections), 9.0ms\n",
      "image 851/937 /mmfs1/scratch/dsu.local/bshakya/scratch/bshakya/YOLOv11/../yolov10/datasets/DOTAv1.5/images/test/P2535.jpg: 640x576 (no detections), 9.3ms\n",
      "image 852/937 /mmfs1/scratch/dsu.local/bshakya/scratch/bshakya/YOLOv11/../yolov10/datasets/DOTAv1.5/images/test/P2537.jpg: 640x640 1 small vehicle, 2 roundabouts, 9.2ms\n",
      "image 853/937 /mmfs1/scratch/dsu.local/bshakya/scratch/bshakya/YOLOv11/../yolov10/datasets/DOTAv1.5/images/test/P2540.jpg: 640x608 2 ground track fields, 3 soccer ball fields, 9.4ms\n",
      "image 854/937 /mmfs1/scratch/dsu.local/bshakya/scratch/bshakya/YOLOv11/../yolov10/datasets/DOTAv1.5/images/test/P2544.jpg: 640x640 (no detections), 9.2ms\n",
      "image 855/937 /mmfs1/scratch/dsu.local/bshakya/scratch/bshakya/YOLOv11/../yolov10/datasets/DOTAv1.5/images/test/P2546.jpg: 640x544 (no detections), 9.3ms\n",
      "image 856/937 /mmfs1/scratch/dsu.local/bshakya/scratch/bshakya/YOLOv11/../yolov10/datasets/DOTAv1.5/images/test/P2555.jpg: 640x576 30 planes, 9.2ms\n",
      "image 857/937 /mmfs1/scratch/dsu.local/bshakya/scratch/bshakya/YOLOv11/../yolov10/datasets/DOTAv1.5/images/test/P2556.jpg: 640x512 60 planes, 9.3ms\n",
      "image 858/937 /mmfs1/scratch/dsu.local/bshakya/scratch/bshakya/YOLOv11/../yolov10/datasets/DOTAv1.5/images/test/P2559.jpg: 640x512 46 planes, 8.9ms\n",
      "image 859/937 /mmfs1/scratch/dsu.local/bshakya/scratch/bshakya/YOLOv11/../yolov10/datasets/DOTAv1.5/images/test/P2562.jpg: 640x544 25 tennis courts, 1 ground track field, 3 small vehicles, 2 soccer ball fields, 9.3ms\n",
      "image 860/937 /mmfs1/scratch/dsu.local/bshakya/scratch/bshakya/YOLOv11/../yolov10/datasets/DOTAv1.5/images/test/P2564.jpg: 640x384 22 tennis courts, 23 small vehicles, 9.0ms\n",
      "image 861/937 /mmfs1/scratch/dsu.local/bshakya/scratch/bshakya/YOLOv11/../yolov10/datasets/DOTAv1.5/images/test/P2567.jpg: 608x640 10 tennis courts, 1 ground track field, 2 small vehicles, 3 soccer ball fields, 9.2ms\n",
      "image 862/937 /mmfs1/scratch/dsu.local/bshakya/scratch/bshakya/YOLOv11/../yolov10/datasets/DOTAv1.5/images/test/P2568.jpg: 640x448 7 tennis courts, 9 small vehicles, 1 soccer ball field, 9.2ms\n",
      "image 863/937 /mmfs1/scratch/dsu.local/bshakya/scratch/bshakya/YOLOv11/../yolov10/datasets/DOTAv1.5/images/test/P2573.jpg: 416x640 12 tennis courts, 1 ground track field, 15 small vehicles, 3 soccer ball fields, 9.2ms\n",
      "image 864/937 /mmfs1/scratch/dsu.local/bshakya/scratch/bshakya/YOLOv11/../yolov10/datasets/DOTAv1.5/images/test/P2574.jpg: 480x640 6 tennis courts, 2 small vehicles, 3 soccer ball fields, 3 swimming pools, 9.3ms\n",
      "image 865/937 /mmfs1/scratch/dsu.local/bshakya/scratch/bshakya/YOLOv11/../yolov10/datasets/DOTAv1.5/images/test/P2575.jpg: 640x576 13 tennis courts, 8 small vehicles, 2 soccer ball fields, 9.2ms\n",
      "image 866/937 /mmfs1/scratch/dsu.local/bshakya/scratch/bshakya/YOLOv11/../yolov10/datasets/DOTAv1.5/images/test/P2581.jpg: 480x640 12 tennis courts, 13 small vehicles, 1 swimming pool, 9.2ms\n",
      "image 867/937 /mmfs1/scratch/dsu.local/bshakya/scratch/bshakya/YOLOv11/../yolov10/datasets/DOTAv1.5/images/test/P2583.jpg: 608x640 15 tennis courts, 30 small vehicles, 2 soccer ball fields, 9.2ms\n",
      "image 868/937 /mmfs1/scratch/dsu.local/bshakya/scratch/bshakya/YOLOv11/../yolov10/datasets/DOTAv1.5/images/test/P2586.jpg: 640x608 3 baseball diamonds, 8 tennis courts, 1 ground track field, 7 small vehicles, 6 soccer ball fields, 9.3ms\n",
      "image 869/937 /mmfs1/scratch/dsu.local/bshakya/scratch/bshakya/YOLOv11/../yolov10/datasets/DOTAv1.5/images/test/P2588.jpg: 640x576 9 tennis courts, 2 large vehicles, 61 small vehicles, 9.2ms\n",
      "image 870/937 /mmfs1/scratch/dsu.local/bshakya/scratch/bshakya/YOLOv11/../yolov10/datasets/DOTAv1.5/images/test/P2589.jpg: 576x640 12 tennis courts, 2 ground track fields, 1 large vehicle, 14 small vehicles, 1 soccer ball field, 9.3ms\n",
      "image 871/937 /mmfs1/scratch/dsu.local/bshakya/scratch/bshakya/YOLOv11/../yolov10/datasets/DOTAv1.5/images/test/P2596.jpg: 608x640 14 tennis courts, 10 small vehicles, 9.3ms\n",
      "image 872/937 /mmfs1/scratch/dsu.local/bshakya/scratch/bshakya/YOLOv11/../yolov10/datasets/DOTAv1.5/images/test/P2602.jpg: 480x640 60 large vehicles, 1 small vehicle, 9.3ms\n",
      "image 873/937 /mmfs1/scratch/dsu.local/bshakya/scratch/bshakya/YOLOv11/../yolov10/datasets/DOTAv1.5/images/test/P2603.jpg: 640x448 10 large vehicles, 12 small vehicles, 9.3ms\n",
      "image 874/937 /mmfs1/scratch/dsu.local/bshakya/scratch/bshakya/YOLOv11/../yolov10/datasets/DOTAv1.5/images/test/P2607.jpg: 640x512 89 small vehicles, 9.3ms\n",
      "image 875/937 /mmfs1/scratch/dsu.local/bshakya/scratch/bshakya/YOLOv11/../yolov10/datasets/DOTAv1.5/images/test/P2619.jpg: 640x640 179 large vehicles, 9 small vehicles, 9.3ms\n",
      "image 876/937 /mmfs1/scratch/dsu.local/bshakya/scratch/bshakya/YOLOv11/../yolov10/datasets/DOTAv1.5/images/test/P2620.jpg: 512x640 43 large vehicles, 3 small vehicles, 9.4ms\n",
      "image 877/937 /mmfs1/scratch/dsu.local/bshakya/scratch/bshakya/YOLOv11/../yolov10/datasets/DOTAv1.5/images/test/P2623.jpg: 640x576 142 large vehicles, 26 small vehicles, 9.3ms\n",
      "image 878/937 /mmfs1/scratch/dsu.local/bshakya/scratch/bshakya/YOLOv11/../yolov10/datasets/DOTAv1.5/images/test/P2624.jpg: 608x640 2 large vehicles, 110 small vehicles, 9.3ms\n",
      "image 879/937 /mmfs1/scratch/dsu.local/bshakya/scratch/bshakya/YOLOv11/../yolov10/datasets/DOTAv1.5/images/test/P2633.jpg: 576x640 2 large vehicles, 77 small vehicles, 9.0ms\n",
      "image 880/937 /mmfs1/scratch/dsu.local/bshakya/scratch/bshakya/YOLOv11/../yolov10/datasets/DOTAv1.5/images/test/P2635.jpg: 480x640 11 small vehicles, 9.2ms\n",
      "image 881/937 /mmfs1/scratch/dsu.local/bshakya/scratch/bshakya/YOLOv11/../yolov10/datasets/DOTAv1.5/images/test/P2636.jpg: 640x480 1 large vehicle, 299 small vehicles, 9.3ms\n",
      "image 882/937 /mmfs1/scratch/dsu.local/bshakya/scratch/bshakya/YOLOv11/../yolov10/datasets/DOTAv1.5/images/test/P2640.jpg: 640x640 56 large vehicles, 56 small vehicles, 9.3ms\n",
      "image 883/937 /mmfs1/scratch/dsu.local/bshakya/scratch/bshakya/YOLOv11/../yolov10/datasets/DOTAv1.5/images/test/P2643.jpg: 480x640 9 ships, 128 storage tanks, 1 harbor, 9.3ms\n",
      "image 884/937 /mmfs1/scratch/dsu.local/bshakya/scratch/bshakya/YOLOv11/../yolov10/datasets/DOTAv1.5/images/test/P2647.jpg: 640x576 63 storage tanks, 9.4ms\n",
      "image 885/937 /mmfs1/scratch/dsu.local/bshakya/scratch/bshakya/YOLOv11/../yolov10/datasets/DOTAv1.5/images/test/P2648.jpg: 640x640 8 tennis courts, 22 basketball courts, 1 ground track field, 3 small vehicles, 3 soccer ball fields, 9.3ms\n",
      "image 886/937 /mmfs1/scratch/dsu.local/bshakya/scratch/bshakya/YOLOv11/../yolov10/datasets/DOTAv1.5/images/test/P2649.jpg: 608x640 2 tennis courts, 13 basketball courts, 1 ground track field, 4 small vehicles, 1 soccer ball field, 9.3ms\n",
      "image 887/937 /mmfs1/scratch/dsu.local/bshakya/scratch/bshakya/YOLOv11/../yolov10/datasets/DOTAv1.5/images/test/P2652.jpg: 640x352 3 tennis courts, 25 basketball courts, 1 ground track field, 1 small vehicle, 1 soccer ball field, 9.1ms\n",
      "image 888/937 /mmfs1/scratch/dsu.local/bshakya/scratch/bshakya/YOLOv11/../yolov10/datasets/DOTAv1.5/images/test/P2654.jpg: 640x448 7 tennis courts, 15 basketball courts, 1 ground track field, 3 small vehicles, 3 soccer ball fields, 9.2ms\n",
      "image 889/937 /mmfs1/scratch/dsu.local/bshakya/scratch/bshakya/YOLOv11/../yolov10/datasets/DOTAv1.5/images/test/P2658.jpg: 640x640 5 tennis courts, 28 basketball courts, 1 ground track field, 1 soccer ball field, 9.2ms\n",
      "image 890/937 /mmfs1/scratch/dsu.local/bshakya/scratch/bshakya/YOLOv11/../yolov10/datasets/DOTAv1.5/images/test/P2660.jpg: 480x640 3 ships, 32 storage tanks, 1 harbor, 9.3ms\n",
      "image 891/937 /mmfs1/scratch/dsu.local/bshakya/scratch/bshakya/YOLOv11/../yolov10/datasets/DOTAv1.5/images/test/P2661.jpg: 384x640 16 ships, 45 storage tanks, 9.2ms\n",
      "image 892/937 /mmfs1/scratch/dsu.local/bshakya/scratch/bshakya/YOLOv11/../yolov10/datasets/DOTAv1.5/images/test/P2666.jpg: 384x640 1 ship, 8.9ms\n",
      "image 893/937 /mmfs1/scratch/dsu.local/bshakya/scratch/bshakya/YOLOv11/../yolov10/datasets/DOTAv1.5/images/test/P2667.jpg: 416x640 60 large vehicles, 9.2ms\n",
      "image 894/937 /mmfs1/scratch/dsu.local/bshakya/scratch/bshakya/YOLOv11/../yolov10/datasets/DOTAv1.5/images/test/P2675.jpg: 640x576 181 ships, 9 harbors, 9.3ms\n",
      "image 895/937 /mmfs1/scratch/dsu.local/bshakya/scratch/bshakya/YOLOv11/../yolov10/datasets/DOTAv1.5/images/test/P2677.jpg: 640x352 246 ships, 6 harbors, 9.3ms\n",
      "image 896/937 /mmfs1/scratch/dsu.local/bshakya/scratch/bshakya/YOLOv11/../yolov10/datasets/DOTAv1.5/images/test/P2679.jpg: 640x576 83 storage tanks, 3 harbors, 3 small vehicles, 9.3ms\n",
      "image 897/937 /mmfs1/scratch/dsu.local/bshakya/scratch/bshakya/YOLOv11/../yolov10/datasets/DOTAv1.5/images/test/P2683.jpg: 512x640 5 large vehicles, 133 small vehicles, 9.3ms\n",
      "image 898/937 /mmfs1/scratch/dsu.local/bshakya/scratch/bshakya/YOLOv11/../yolov10/datasets/DOTAv1.5/images/test/P2684.jpg: 608x640 17 ships, 6 harbors, 11 large vehicles, 35 small vehicles, 9.5ms\n",
      "image 899/937 /mmfs1/scratch/dsu.local/bshakya/scratch/bshakya/YOLOv11/../yolov10/datasets/DOTAv1.5/images/test/P2688.jpg: 544x640 55 ships, 9.3ms\n",
      "image 900/937 /mmfs1/scratch/dsu.local/bshakya/scratch/bshakya/YOLOv11/../yolov10/datasets/DOTAv1.5/images/test/P2694.jpg: 512x640 22 ships, 26 storage tanks, 1 ground track field, 1 soccer ball field, 9.3ms\n",
      "image 901/937 /mmfs1/scratch/dsu.local/bshakya/scratch/bshakya/YOLOv11/../yolov10/datasets/DOTAv1.5/images/test/P2697.jpg: 480x640 38 storage tanks, 9.2ms\n",
      "image 902/937 /mmfs1/scratch/dsu.local/bshakya/scratch/bshakya/YOLOv11/../yolov10/datasets/DOTAv1.5/images/test/P2698.jpg: 544x640 152 storage tanks, 9.2ms\n",
      "image 903/937 /mmfs1/scratch/dsu.local/bshakya/scratch/bshakya/YOLOv11/../yolov10/datasets/DOTAv1.5/images/test/P2699.jpg: 448x640 19 ships, 5 storage tanks, 1 harbor, 9.3ms\n",
      "image 904/937 /mmfs1/scratch/dsu.local/bshakya/scratch/bshakya/YOLOv11/../yolov10/datasets/DOTAv1.5/images/test/P2703.jpg: 416x640 37 ships, 9.1ms\n",
      "image 905/937 /mmfs1/scratch/dsu.local/bshakya/scratch/bshakya/YOLOv11/../yolov10/datasets/DOTAv1.5/images/test/P2707.jpg: 416x640 3 ships, 79 storage tanks, 1 harbor, 8.9ms\n",
      "image 906/937 /mmfs1/scratch/dsu.local/bshakya/scratch/bshakya/YOLOv11/../yolov10/datasets/DOTAv1.5/images/test/P2711.jpg: 576x640 41 ships, 6 storage tanks, 9.3ms\n",
      "image 907/937 /mmfs1/scratch/dsu.local/bshakya/scratch/bshakya/YOLOv11/../yolov10/datasets/DOTAv1.5/images/test/P2713.jpg: 576x640 23 storage tanks, 2 small vehicles, 8.9ms\n",
      "image 908/937 /mmfs1/scratch/dsu.local/bshakya/scratch/bshakya/YOLOv11/../yolov10/datasets/DOTAv1.5/images/test/P2715.jpg: 416x640 (no detections), 9.2ms\n",
      "image 909/937 /mmfs1/scratch/dsu.local/bshakya/scratch/bshakya/YOLOv11/../yolov10/datasets/DOTAv1.5/images/test/P2717.jpg: 448x640 19 ships, 9.2ms\n",
      "image 910/937 /mmfs1/scratch/dsu.local/bshakya/scratch/bshakya/YOLOv11/../yolov10/datasets/DOTAv1.5/images/test/P2723.jpg: 384x640 (no detections), 9.3ms\n",
      "image 911/937 /mmfs1/scratch/dsu.local/bshakya/scratch/bshakya/YOLOv11/../yolov10/datasets/DOTAv1.5/images/test/P2736.jpg: 512x640 32 storage tanks, 9.3ms\n",
      "image 912/937 /mmfs1/scratch/dsu.local/bshakya/scratch/bshakya/YOLOv11/../yolov10/datasets/DOTAv1.5/images/test/P2737.jpg: 512x640 50 ships, 1 storage tank, 3 harbors, 8.9ms\n",
      "image 913/937 /mmfs1/scratch/dsu.local/bshakya/scratch/bshakya/YOLOv11/../yolov10/datasets/DOTAv1.5/images/test/P2738.jpg: 448x640 1 ship, 1 ground track field, 9.2ms\n",
      "image 914/937 /mmfs1/scratch/dsu.local/bshakya/scratch/bshakya/YOLOv11/../yolov10/datasets/DOTAv1.5/images/test/P2744.jpg: 640x640 22 ships, 9.3ms\n",
      "image 915/937 /mmfs1/scratch/dsu.local/bshakya/scratch/bshakya/YOLOv11/../yolov10/datasets/DOTAv1.5/images/test/P2749.jpg: 352x640 14 planes, 9.3ms\n",
      "image 916/937 /mmfs1/scratch/dsu.local/bshakya/scratch/bshakya/YOLOv11/../yolov10/datasets/DOTAv1.5/images/test/P2752.jpg: 384x640 1 baseball diamond, 3 tennis courts, 2 ground track fields, 1 swimming pool, 9.3ms\n",
      "image 917/937 /mmfs1/scratch/dsu.local/bshakya/scratch/bshakya/YOLOv11/../yolov10/datasets/DOTAv1.5/images/test/P2757.jpg: 640x512 74 ships, 9.3ms\n",
      "image 918/937 /mmfs1/scratch/dsu.local/bshakya/scratch/bshakya/YOLOv11/../yolov10/datasets/DOTAv1.5/images/test/P2760.jpg: 640x608 53 ships, 1 storage tank, 6 harbors, 9.4ms\n",
      "image 919/937 /mmfs1/scratch/dsu.local/bshakya/scratch/bshakya/YOLOv11/../yolov10/datasets/DOTAv1.5/images/test/P2762.jpg: 352x640 19 ships, 9.3ms\n",
      "image 920/937 /mmfs1/scratch/dsu.local/bshakya/scratch/bshakya/YOLOv11/../yolov10/datasets/DOTAv1.5/images/test/P2763.jpg: 480x640 147 storage tanks, 9.4ms\n",
      "image 921/937 /mmfs1/scratch/dsu.local/bshakya/scratch/bshakya/YOLOv11/../yolov10/datasets/DOTAv1.5/images/test/P2765.jpg: 640x608 55 storage tanks, 9.4ms\n",
      "image 922/937 /mmfs1/scratch/dsu.local/bshakya/scratch/bshakya/YOLOv11/../yolov10/datasets/DOTAv1.5/images/test/P2767.jpg: 544x640 68 ships, 1 small vehicle, 9.3ms\n",
      "image 923/937 /mmfs1/scratch/dsu.local/bshakya/scratch/bshakya/YOLOv11/../yolov10/datasets/DOTAv1.5/images/test/P2772.jpg: 512x640 1 ship, 8 storage tanks, 2 harbors, 9.3ms\n",
      "image 924/937 /mmfs1/scratch/dsu.local/bshakya/scratch/bshakya/YOLOv11/../yolov10/datasets/DOTAv1.5/images/test/P2773.jpg: 640x480 1 ship, 2 storage tanks, 1 harbor, 3 bridges, 9.3ms\n",
      "image 925/937 /mmfs1/scratch/dsu.local/bshakya/scratch/bshakya/YOLOv11/../yolov10/datasets/DOTAv1.5/images/test/P2774.jpg: 640x576 6 ships, 109 storage tanks, 2 harbors, 1 bridge, 9.4ms\n",
      "image 926/937 /mmfs1/scratch/dsu.local/bshakya/scratch/bshakya/YOLOv11/../yolov10/datasets/DOTAv1.5/images/test/P2776.jpg: 480x640 51 large vehicles, 69 small vehicles, 9.5ms\n",
      "image 927/937 /mmfs1/scratch/dsu.local/bshakya/scratch/bshakya/YOLOv11/../yolov10/datasets/DOTAv1.5/images/test/P2780.jpg: 640x352 7 planes, 1 large vehicle, 9.2ms\n",
      "image 928/937 /mmfs1/scratch/dsu.local/bshakya/scratch/bshakya/YOLOv11/../yolov10/datasets/DOTAv1.5/images/test/P2782.jpg: 416x640 13 tennis courts, 1 ground track field, 36 small vehicles, 4 soccer ball fields, 9.2ms\n",
      "image 929/937 /mmfs1/scratch/dsu.local/bshakya/scratch/bshakya/YOLOv11/../yolov10/datasets/DOTAv1.5/images/test/P2784.jpg: 576x640 167 large vehicles, 52 small vehicles, 1 swimming pool, 9.3ms\n",
      "image 930/937 /mmfs1/scratch/dsu.local/bshakya/scratch/bshakya/YOLOv11/../yolov10/datasets/DOTAv1.5/images/test/P2785.jpg: 448x640 158 large vehicles, 20 small vehicles, 1 roundabout, 9.3ms\n",
      "image 931/937 /mmfs1/scratch/dsu.local/bshakya/scratch/bshakya/YOLOv11/../yolov10/datasets/DOTAv1.5/images/test/P2786.jpg: 640x448 117 large vehicles, 35 small vehicles, 9.3ms\n",
      "image 932/937 /mmfs1/scratch/dsu.local/bshakya/scratch/bshakya/YOLOv11/../yolov10/datasets/DOTAv1.5/images/test/P2795.jpg: 576x640 39 planes, 2 small vehicles, 10.1ms\n",
      "image 933/937 /mmfs1/scratch/dsu.local/bshakya/scratch/bshakya/YOLOv11/../yolov10/datasets/DOTAv1.5/images/test/P2796.jpg: 512x640 11 large vehicles, 76 small vehicles, 9.3ms\n",
      "image 934/937 /mmfs1/scratch/dsu.local/bshakya/scratch/bshakya/YOLOv11/../yolov10/datasets/DOTAv1.5/images/test/P2798.jpg: 640x640 18 large vehicles, 157 small vehicles, 9.3ms\n",
      "image 935/937 /mmfs1/scratch/dsu.local/bshakya/scratch/bshakya/YOLOv11/../yolov10/datasets/DOTAv1.5/images/test/P2799.jpg: 640x640 96 large vehicles, 77 small vehicles, 9.0ms\n",
      "image 936/937 /mmfs1/scratch/dsu.local/bshakya/scratch/bshakya/YOLOv11/../yolov10/datasets/DOTAv1.5/images/test/P2803.jpg: 608x640 73 large vehicles, 3 small vehicles, 9.5ms\n",
      "image 937/937 /mmfs1/scratch/dsu.local/bshakya/scratch/bshakya/YOLOv11/../yolov10/datasets/DOTAv1.5/images/test/P2806.jpg: 640x512 1 basketball court, 49 small vehicles, 3 soccer ball fields, 9.3ms\n",
      "Speed: 1.9ms preprocess, 9.3ms inference, 0.7ms postprocess per image at shape (1, 3, 640, 512)\n",
      "Results saved to \u001b[1mruns/detect/predict12\u001b[0m\n",
      "💡 Learn more at https://docs.ultralytics.com/modes/predict\n"
     ]
    }
   ],
   "source": [
    "!yolo predict model=runs/detect/train31/weights/last.pt source='../yolov10/datasets/DOTAv1.5/images/test/'"
   ]
  }
 ],
 "metadata": {
  "kernelspec": {
   "display_name": "Python [conda env:.conda-bijay]",
   "language": "python",
   "name": "conda-env-.conda-bijay-py"
  },
  "language_info": {
   "codemirror_mode": {
    "name": "ipython",
    "version": 3
   },
   "file_extension": ".py",
   "mimetype": "text/x-python",
   "name": "python",
   "nbconvert_exporter": "python",
   "pygments_lexer": "ipython3",
   "version": "3.10.15"
  }
 },
 "nbformat": 4,
 "nbformat_minor": 4
}
