{
 "cells": [
  {
   "cell_type": "code",
   "execution_count": 1,
   "id": "ed8e85fa-2086-4309-ad2d-f26404ac05c6",
   "metadata": {},
   "outputs": [
    {
     "name": "stdout",
     "output_type": "stream",
     "text": [
      "Ultralytics YOLOv8.1.34 🚀 Python-3.10.15 torch-1.12.1+cu113 CUDA:0 (NVIDIA A100 80GB PCIe, 81229MiB)\n",
      "Setup complete ✅ (48 CPUs, 503.3 GB RAM, 25.7/430.3 GB disk)\n"
     ]
    }
   ],
   "source": [
    "%pip install ultralytics\n",
    "import ultralytics\n",
    "ultralytics.checks()"
   ]
  },
  {
   "cell_type": "code",
   "execution_count": 3,
   "id": "0dccb7b5-d8be-461a-ba70-82a033eb1c10",
   "metadata": {},
   "outputs": [
    {
     "name": "stdout",
     "output_type": "stream",
     "text": [
      "1.12.1+cu113\n",
      "11.3\n",
      "True\n"
     ]
    }
   ],
   "source": [
    "import torch\n",
    "print(torch.__version__)  # PyTorch version\n",
    "print(torch.version.cuda)  # CUDA version used by PyTorch\n",
    "print(torch.cuda.is_available())  # Check if CUDA is enabled"
   ]
  },
  {
   "cell_type": "code",
   "execution_count": 4,
   "id": "f4f7e946-ae87-4bc0-8709-00f15ce5c8ad",
   "metadata": {},
   "outputs": [
    {
     "data": {
      "text/plain": [
       "'/mmfs1/scratch/dsu.local/bshakya/scratch/bshakya/YOLOv8'"
      ]
     },
     "execution_count": 4,
     "metadata": {},
     "output_type": "execute_result"
    }
   ],
   "source": [
    "pwd"
   ]
  },
  {
   "cell_type": "code",
   "execution_count": 8,
   "id": "fc0e441b-fd98-496c-a102-c1580402d995",
   "metadata": {},
   "outputs": [
    {
     "name": "stdout",
     "output_type": "stream",
     "text": [
      "New https://pypi.org/project/ultralytics/8.3.71 available 😃 Update with 'pip install -U ultralytics'\n",
      "Ultralytics YOLOv8.1.34 🚀 Python-3.10.15 torch-1.12.1+cu113 CUDA:0 (NVIDIA A100 80GB PCIe, 81229MiB)\n",
      "WARNING ⚠️ Upgrade to torch>=2.0.0 for deterministic training.\n",
      "\u001b[34m\u001b[1mengine/trainer: \u001b[0mtask=detect, mode=train, model=weights/yolov8n.pt, data=DOTAv1.5.yaml, epochs=50, time=None, patience=100, batch=16, imgsz=640, save=True, save_period=-1, val_period=1, cache=False, device=None, workers=8, project=None, name=train43, exist_ok=False, pretrained=True, optimizer=auto, verbose=True, seed=0, deterministic=True, single_cls=False, rect=False, cos_lr=False, close_mosaic=10, resume=False, amp=True, fraction=1.0, profile=False, freeze=None, multi_scale=False, overlap_mask=True, mask_ratio=4, dropout=0.0, val=True, split=val, save_json=False, save_hybrid=False, conf=None, iou=0.7, max_det=300, half=False, dnn=False, plots=True, source=None, vid_stride=1, stream_buffer=False, visualize=False, augment=False, agnostic_nms=False, classes=None, retina_masks=False, embed=None, show=False, save_frames=False, save_txt=False, save_conf=False, save_crop=False, show_labels=True, show_conf=True, show_boxes=True, line_width=None, format=torchscript, keras=False, optimize=False, int8=False, dynamic=False, simplify=False, opset=None, workspace=4, nms=False, lr0=0.01, lrf=0.01, momentum=0.937, weight_decay=0.0005, warmup_epochs=3.0, warmup_momentum=0.8, warmup_bias_lr=0.1, box=7.5, cls=0.5, dfl=1.5, pose=12.0, kobj=1.0, label_smoothing=0.0, nbs=64, hsv_h=0.015, hsv_s=0.7, hsv_v=0.4, degrees=0.0, translate=0.1, scale=0.5, shear=0.0, perspective=0.0, flipud=0.0, fliplr=0.5, bgr=0.0, mosaic=1.0, mixup=0.0, copy_paste=0.0, auto_augment=randaugment, erasing=0.4, crop_fraction=1.0, cfg=None, tracker=botsort.yaml, save_dir=/mmfs1/scratch/dsu.local/bshakya/scratch/bshakya/yolov10/yolov10/runs/detect/train43\n",
      "Overriding model.yaml nc=80 with nc=16\n",
      "\n",
      "                   from  n    params  module                                       arguments                     \n",
      "  0                  -1  1       464  ultralytics.nn.modules.conv.Conv             [3, 16, 3, 2]                 \n",
      "  1                  -1  1      4672  ultralytics.nn.modules.conv.Conv             [16, 32, 3, 2]                \n",
      "  2                  -1  1      7360  ultralytics.nn.modules.block.C2f             [32, 32, 1, True]             \n",
      "  3                  -1  1     18560  ultralytics.nn.modules.conv.Conv             [32, 64, 3, 2]                \n",
      "  4                  -1  2     49664  ultralytics.nn.modules.block.C2f             [64, 64, 2, True]             \n",
      "  5                  -1  1     73984  ultralytics.nn.modules.conv.Conv             [64, 128, 3, 2]               \n",
      "  6                  -1  2    197632  ultralytics.nn.modules.block.C2f             [128, 128, 2, True]           \n",
      "  7                  -1  1    295424  ultralytics.nn.modules.conv.Conv             [128, 256, 3, 2]              \n",
      "  8                  -1  1    460288  ultralytics.nn.modules.block.C2f             [256, 256, 1, True]           \n",
      "  9                  -1  1    164608  ultralytics.nn.modules.block.SPPF            [256, 256, 5]                 \n",
      " 10                  -1  1         0  torch.nn.modules.upsampling.Upsample         [None, 2, 'nearest']          \n",
      " 11             [-1, 6]  1         0  ultralytics.nn.modules.conv.Concat           [1]                           \n",
      " 12                  -1  1    148224  ultralytics.nn.modules.block.C2f             [384, 128, 1]                 \n",
      " 13                  -1  1         0  torch.nn.modules.upsampling.Upsample         [None, 2, 'nearest']          \n",
      " 14             [-1, 4]  1         0  ultralytics.nn.modules.conv.Concat           [1]                           \n",
      " 15                  -1  1     37248  ultralytics.nn.modules.block.C2f             [192, 64, 1]                  \n",
      " 16                  -1  1     36992  ultralytics.nn.modules.conv.Conv             [64, 64, 3, 2]                \n",
      " 17            [-1, 12]  1         0  ultralytics.nn.modules.conv.Concat           [1]                           \n",
      " 18                  -1  1    123648  ultralytics.nn.modules.block.C2f             [192, 128, 1]                 \n",
      " 19                  -1  1    147712  ultralytics.nn.modules.conv.Conv             [128, 128, 3, 2]              \n",
      " 20             [-1, 9]  1         0  ultralytics.nn.modules.conv.Concat           [1]                           \n",
      " 21                  -1  1    493056  ultralytics.nn.modules.block.C2f             [384, 256, 1]                 \n",
      " 22        [15, 18, 21]  1    754432  ultralytics.nn.modules.head.Detect           [16, [64, 128, 256]]          \n",
      "Model summary: 225 layers, 3013968 parameters, 3013952 gradients, 8.2 GFLOPs\n",
      "\n",
      "Transferred 319/355 items from pretrained weights\n"
     ]
    },
    {
     "name": "stderr",
     "output_type": "stream",
     "text": [
      "2025-02-04 14:01:42.014182: E external/local_xla/xla/stream_executor/cuda/cuda_fft.cc:477] Unable to register cuFFT factory: Attempting to register factory for plugin cuFFT when one has already been registered\n",
      "WARNING: All log messages before absl::InitializeLog() is called are written to STDERR\n",
      "E0000 00:00:1738699302.027983 1973600 cuda_dnn.cc:8310] Unable to register cuDNN factory: Attempting to register factory for plugin cuDNN when one has already been registered\n",
      "E0000 00:00:1738699302.032113 1973600 cuda_blas.cc:1418] Unable to register cuBLAS factory: Attempting to register factory for plugin cuBLAS when one has already been registered\n"
     ]
    },
    {
     "name": "stdout",
     "output_type": "stream",
     "text": [
      "\u001b[34m\u001b[1mTensorBoard: \u001b[0mStart with 'tensorboard --logdir /mmfs1/scratch/dsu.local/bshakya/scratch/bshakya/yolov10/yolov10/runs/detect/train43', view at http://localhost:6006/\n",
      "Freezing layer 'model.22.dfl.conv.weight'\n",
      "\u001b[34m\u001b[1mAMP: \u001b[0mrunning Automatic Mixed Precision (AMP) checks with YOLOv8n...\n",
      "\u001b[34m\u001b[1mAMP: \u001b[0mchecks passed ✅\n"
     ]
    },
    {
     "name": "stderr",
     "output_type": "stream",
     "text": [
      "\u001b[34m\u001b[1mtrain: \u001b[0mScanning /mmfs1/scratch/dsu.local/bshakya/scratch/bshakya/yolov10/datasets/DOTAv1.5/labels/train.cache... 1411 images, 1 backgrounds, 2 corrupt: 100%|██████████| 1411/1411 [00:00<?, ?it/s]"
     ]
    },
    {
     "name": "stdout",
     "output_type": "stream",
     "text": [
      "\u001b[34m\u001b[1mtrain: \u001b[0mWARNING ⚠️ /mmfs1/scratch/dsu.local/bshakya/scratch/bshakya/yolov10/datasets/DOTAv1.5/images/train/P0334.jpg: ignoring corrupt image/label: non-normalized or out of bounds coordinates [     1.0565      1.0583]\n",
      "\u001b[34m\u001b[1mtrain: \u001b[0mWARNING ⚠️ /mmfs1/scratch/dsu.local/bshakya/scratch/bshakya/yolov10/datasets/DOTAv1.5/images/train/P1872.jpg: ignoring corrupt image/label: non-normalized or out of bounds coordinates [     2.2618      2.2437      2.1674      2.0553      2.0337      2.0154      1.9993       1.998      1.9395      1.8671      1.8864      1.9115      1.9278      2.0144      1.8735      1.8426       1.822      1.8034      1.7907      1.7744      1.7483       1.723      1.6903      1.8182      1.6506      1.6087\n",
      "      2.2772      2.2118      1.6596       2.178       2.667      2.7528      2.7749      2.4934      2.4721      2.5177      2.5772        2.64       2.818      2.8019      2.8344      2.8832      2.8976      2.8004       2.751      2.6603      2.6152      2.5574      2.4091      2.3637      2.2918      2.3171\n",
      "      2.2527       2.097      2.1098      1.6534        1.61      1.5594      1.0347        1.51      1.5529      1.4456      1.4922      1.3925       1.364      1.3362      1.2735       1.213      1.1513      1.2916      1.1644      1.1396      1.3352      1.4364      1.2961      1.1785      1.1532      1.2294\n",
      "      1.2884      1.3137       1.033      1.0843      1.0808      1.0927]\n"
     ]
    },
    {
     "name": "stderr",
     "output_type": "stream",
     "text": [
      "\n"
     ]
    },
    {
     "name": "stdout",
     "output_type": "stream",
     "text": [
      "\u001b[34m\u001b[1malbumentations: \u001b[0mBlur(p=0.01, blur_limit=(3, 7)), MedianBlur(p=0.01, blur_limit=(3, 7)), ToGray(p=0.01), CLAHE(p=0.01, clip_limit=(1, 4.0), tile_grid_size=(8, 8))\n"
     ]
    },
    {
     "name": "stderr",
     "output_type": "stream",
     "text": [
      "\u001b[34m\u001b[1mval: \u001b[0mScanning /mmfs1/scratch/dsu.local/bshakya/scratch/bshakya/yolov10/datasets/DOTAv1.5/labels/val.cache... 458 images, 0 backgrounds, 0 corrupt: 100%|██████████| 458/458 [00:00<?, ?it/s]\n"
     ]
    },
    {
     "name": "stdout",
     "output_type": "stream",
     "text": [
      "Plotting labels to /mmfs1/scratch/dsu.local/bshakya/scratch/bshakya/yolov10/yolov10/runs/detect/train43/labels.jpg... \n",
      "\u001b[34m\u001b[1moptimizer:\u001b[0m 'optimizer=auto' found, ignoring 'lr0=0.01' and 'momentum=0.937' and determining best 'optimizer', 'lr0' and 'momentum' automatically... \n",
      "\u001b[34m\u001b[1moptimizer:\u001b[0m AdamW(lr=0.0005, momentum=0.9) with parameter groups 57 weight(decay=0.0), 64 weight(decay=0.0005), 63 bias(decay=0.0)\n",
      "\u001b[34m\u001b[1mTensorBoard: \u001b[0mmodel graph visualization added ✅\n",
      "Image sizes 640 train, 640 val\n",
      "Using 8 dataloader workers\n",
      "Logging results to \u001b[1m/mmfs1/scratch/dsu.local/bshakya/scratch/bshakya/yolov10/yolov10/runs/detect/train43\u001b[0m\n",
      "Starting training for 50 epochs...\n",
      "\n",
      "      Epoch    GPU_mem   box_loss   cls_loss   dfl_loss  Instances       Size\n"
     ]
    },
    {
     "name": "stderr",
     "output_type": "stream",
     "text": [
      "       1/50      19.5G      2.314      3.976      1.243         20        640: 100%|██████████| 89/89 [01:16<00:00,  1.16it/s]\n",
      "                 Class     Images  Instances      Box(P          R      mAP50  mAP50-95): 100%|██████████| 15/15 [00:04<00:00,  3.43it/s]"
     ]
    },
    {
     "name": "stdout",
     "output_type": "stream",
     "text": [
      "                   all        458      69565      0.735     0.0686     0.0766     0.0492\n"
     ]
    },
    {
     "name": "stderr",
     "output_type": "stream",
     "text": [
      "\n"
     ]
    },
    {
     "name": "stdout",
     "output_type": "stream",
     "text": [
      "\n",
      "      Epoch    GPU_mem   box_loss   cls_loss   dfl_loss  Instances       Size\n"
     ]
    },
    {
     "name": "stderr",
     "output_type": "stream",
     "text": [
      "       2/50      16.5G      2.235       2.43      1.075        369        640: 100%|██████████| 89/89 [00:51<00:00,  1.71it/s]\n",
      "                 Class     Images  Instances      Box(P          R      mAP50  mAP50-95): 100%|██████████| 15/15 [00:05<00:00,  2.66it/s]"
     ]
    },
    {
     "name": "stdout",
     "output_type": "stream",
     "text": [
      "                   all        458      69565      0.564      0.145      0.132     0.0761\n"
     ]
    },
    {
     "name": "stderr",
     "output_type": "stream",
     "text": [
      "\n"
     ]
    },
    {
     "name": "stdout",
     "output_type": "stream",
     "text": [
      "\n",
      "      Epoch    GPU_mem   box_loss   cls_loss   dfl_loss  Instances       Size\n"
     ]
    },
    {
     "name": "stderr",
     "output_type": "stream",
     "text": [
      "       3/50        22G      2.069      1.864      1.048          9        640: 100%|██████████| 89/89 [00:52<00:00,  1.68it/s]\n",
      "                 Class     Images  Instances      Box(P          R      mAP50  mAP50-95): 100%|██████████| 15/15 [00:05<00:00,  2.74it/s]\n"
     ]
    },
    {
     "name": "stdout",
     "output_type": "stream",
     "text": [
      "                   all        458      69565      0.571      0.178       0.17     0.0943\n",
      "\n",
      "      Epoch    GPU_mem   box_loss   cls_loss   dfl_loss  Instances       Size\n"
     ]
    },
    {
     "name": "stderr",
     "output_type": "stream",
     "text": [
      "       4/50      20.4G      1.988      1.651      1.036        103        640: 100%|██████████| 89/89 [00:50<00:00,  1.77it/s]\n",
      "                 Class     Images  Instances      Box(P          R      mAP50  mAP50-95): 100%|██████████| 15/15 [00:05<00:00,  2.68it/s]"
     ]
    },
    {
     "name": "stdout",
     "output_type": "stream",
     "text": [
      "                   all        458      69565      0.479      0.202      0.204      0.114\n"
     ]
    },
    {
     "name": "stderr",
     "output_type": "stream",
     "text": [
      "\n"
     ]
    },
    {
     "name": "stdout",
     "output_type": "stream",
     "text": [
      "\n",
      "      Epoch    GPU_mem   box_loss   cls_loss   dfl_loss  Instances       Size\n"
     ]
    },
    {
     "name": "stderr",
     "output_type": "stream",
     "text": [
      "       5/50      14.4G      1.954      1.574      1.034          8        640: 100%|██████████| 89/89 [00:50<00:00,  1.76it/s]\n",
      "                 Class     Images  Instances      Box(P          R      mAP50  mAP50-95): 100%|██████████| 15/15 [00:05<00:00,  2.63it/s]"
     ]
    },
    {
     "name": "stdout",
     "output_type": "stream",
     "text": [
      "                   all        458      69565      0.556      0.202      0.205      0.116\n"
     ]
    },
    {
     "name": "stderr",
     "output_type": "stream",
     "text": [
      "\n"
     ]
    },
    {
     "name": "stdout",
     "output_type": "stream",
     "text": [
      "\n",
      "      Epoch    GPU_mem   box_loss   cls_loss   dfl_loss  Instances       Size\n"
     ]
    },
    {
     "name": "stderr",
     "output_type": "stream",
     "text": [
      "       6/50      20.3G      1.924      1.464      1.009        178        640: 100%|██████████| 89/89 [00:52<00:00,  1.71it/s]\n",
      "                 Class     Images  Instances      Box(P          R      mAP50  mAP50-95): 100%|██████████| 15/15 [00:05<00:00,  2.53it/s]"
     ]
    },
    {
     "name": "stdout",
     "output_type": "stream",
     "text": [
      "                   all        458      69565      0.605      0.229      0.239      0.136\n"
     ]
    },
    {
     "name": "stderr",
     "output_type": "stream",
     "text": [
      "\n"
     ]
    },
    {
     "name": "stdout",
     "output_type": "stream",
     "text": [
      "\n",
      "      Epoch    GPU_mem   box_loss   cls_loss   dfl_loss  Instances       Size\n"
     ]
    },
    {
     "name": "stderr",
     "output_type": "stream",
     "text": [
      "       7/50      15.2G      1.869      1.411      1.003         87        640: 100%|██████████| 89/89 [00:52<00:00,  1.69it/s]\n",
      "                 Class     Images  Instances      Box(P          R      mAP50  mAP50-95): 100%|██████████| 15/15 [00:05<00:00,  2.87it/s]\n"
     ]
    },
    {
     "name": "stdout",
     "output_type": "stream",
     "text": [
      "                   all        458      69565      0.509      0.234      0.248      0.143\n",
      "\n",
      "      Epoch    GPU_mem   box_loss   cls_loss   dfl_loss  Instances       Size\n"
     ]
    },
    {
     "name": "stderr",
     "output_type": "stream",
     "text": [
      "       8/50      12.9G      1.821      1.348     0.9927        110        640: 100%|██████████| 89/89 [00:53<00:00,  1.66it/s]\n",
      "                 Class     Images  Instances      Box(P          R      mAP50  mAP50-95): 100%|██████████| 15/15 [00:04<00:00,  3.51it/s]"
     ]
    },
    {
     "name": "stdout",
     "output_type": "stream",
     "text": [
      "                   all        458      69565      0.547      0.238      0.247      0.144\n"
     ]
    },
    {
     "name": "stderr",
     "output_type": "stream",
     "text": [
      "\n"
     ]
    },
    {
     "name": "stdout",
     "output_type": "stream",
     "text": [
      "\n",
      "      Epoch    GPU_mem   box_loss   cls_loss   dfl_loss  Instances       Size\n"
     ]
    },
    {
     "name": "stderr",
     "output_type": "stream",
     "text": [
      "       9/50      28.2G      1.821      1.338     0.9889         42        640: 100%|██████████| 89/89 [00:55<00:00,  1.61it/s]\n",
      "                 Class     Images  Instances      Box(P          R      mAP50  mAP50-95): 100%|██████████| 15/15 [00:05<00:00,  2.85it/s]"
     ]
    },
    {
     "name": "stdout",
     "output_type": "stream",
     "text": [
      "                   all        458      69565      0.521      0.252      0.261      0.153\n"
     ]
    },
    {
     "name": "stderr",
     "output_type": "stream",
     "text": [
      "\n"
     ]
    },
    {
     "name": "stdout",
     "output_type": "stream",
     "text": [
      "\n",
      "      Epoch    GPU_mem   box_loss   cls_loss   dfl_loss  Instances       Size\n"
     ]
    },
    {
     "name": "stderr",
     "output_type": "stream",
     "text": [
      "      10/50      17.5G      1.792      1.313     0.9888         79        640: 100%|██████████| 89/89 [00:50<00:00,  1.76it/s]\n",
      "                 Class     Images  Instances      Box(P          R      mAP50  mAP50-95): 100%|██████████| 15/15 [00:05<00:00,  2.54it/s]"
     ]
    },
    {
     "name": "stdout",
     "output_type": "stream",
     "text": [
      "                   all        458      69565      0.541      0.256      0.264      0.152\n"
     ]
    },
    {
     "name": "stderr",
     "output_type": "stream",
     "text": [
      "\n"
     ]
    },
    {
     "name": "stdout",
     "output_type": "stream",
     "text": [
      "\n",
      "      Epoch    GPU_mem   box_loss   cls_loss   dfl_loss  Instances       Size\n"
     ]
    },
    {
     "name": "stderr",
     "output_type": "stream",
     "text": [
      "      11/50      23.4G      1.796      1.306     0.9857          5        640: 100%|██████████| 89/89 [01:01<00:00,  1.44it/s]\n",
      "                 Class     Images  Instances      Box(P          R      mAP50  mAP50-95): 100%|██████████| 15/15 [00:04<00:00,  3.59it/s]"
     ]
    },
    {
     "name": "stdout",
     "output_type": "stream",
     "text": [
      "                   all        458      69565      0.545      0.253       0.27      0.159\n"
     ]
    },
    {
     "name": "stderr",
     "output_type": "stream",
     "text": [
      "\n"
     ]
    },
    {
     "name": "stdout",
     "output_type": "stream",
     "text": [
      "\n",
      "      Epoch    GPU_mem   box_loss   cls_loss   dfl_loss  Instances       Size\n"
     ]
    },
    {
     "name": "stderr",
     "output_type": "stream",
     "text": [
      "      12/50      15.5G      1.752      1.264     0.9757        171        640: 100%|██████████| 89/89 [00:50<00:00,  1.75it/s]\n",
      "                 Class     Images  Instances      Box(P          R      mAP50  mAP50-95): 100%|██████████| 15/15 [00:05<00:00,  2.98it/s]"
     ]
    },
    {
     "name": "stdout",
     "output_type": "stream",
     "text": [
      "                   all        458      69565      0.562       0.26      0.285      0.165\n"
     ]
    },
    {
     "name": "stderr",
     "output_type": "stream",
     "text": [
      "\n"
     ]
    },
    {
     "name": "stdout",
     "output_type": "stream",
     "text": [
      "\n",
      "      Epoch    GPU_mem   box_loss   cls_loss   dfl_loss  Instances       Size\n"
     ]
    },
    {
     "name": "stderr",
     "output_type": "stream",
     "text": [
      "      13/50      24.9G      1.779      1.257     0.9712        183        640: 100%|██████████| 89/89 [00:55<00:00,  1.60it/s]\n",
      "                 Class     Images  Instances      Box(P          R      mAP50  mAP50-95): 100%|██████████| 15/15 [00:05<00:00,  2.77it/s]"
     ]
    },
    {
     "name": "stdout",
     "output_type": "stream",
     "text": [
      "                   all        458      69565      0.614      0.256      0.283      0.166\n"
     ]
    },
    {
     "name": "stderr",
     "output_type": "stream",
     "text": [
      "\n"
     ]
    },
    {
     "name": "stdout",
     "output_type": "stream",
     "text": [
      "\n",
      "      Epoch    GPU_mem   box_loss   cls_loss   dfl_loss  Instances       Size\n"
     ]
    },
    {
     "name": "stderr",
     "output_type": "stream",
     "text": [
      "      14/50      29.2G      1.753      1.214     0.9705         13        640: 100%|██████████| 89/89 [00:52<00:00,  1.69it/s]\n",
      "                 Class     Images  Instances      Box(P          R      mAP50  mAP50-95): 100%|██████████| 15/15 [00:05<00:00,  2.55it/s]"
     ]
    },
    {
     "name": "stdout",
     "output_type": "stream",
     "text": [
      "                   all        458      69565      0.615      0.259      0.277       0.16\n"
     ]
    },
    {
     "name": "stderr",
     "output_type": "stream",
     "text": [
      "\n"
     ]
    },
    {
     "name": "stdout",
     "output_type": "stream",
     "text": [
      "\n",
      "      Epoch    GPU_mem   box_loss   cls_loss   dfl_loss  Instances       Size\n"
     ]
    },
    {
     "name": "stderr",
     "output_type": "stream",
     "text": [
      "      15/50        10G      1.727      1.197     0.9698        306        640: 100%|██████████| 89/89 [00:53<00:00,  1.65it/s]\n",
      "                 Class     Images  Instances      Box(P          R      mAP50  mAP50-95): 100%|██████████| 15/15 [00:04<00:00,  3.28it/s]"
     ]
    },
    {
     "name": "stdout",
     "output_type": "stream",
     "text": [
      "                   all        458      69565      0.617      0.258      0.284      0.168\n"
     ]
    },
    {
     "name": "stderr",
     "output_type": "stream",
     "text": [
      "\n"
     ]
    },
    {
     "name": "stdout",
     "output_type": "stream",
     "text": [
      "\n",
      "      Epoch    GPU_mem   box_loss   cls_loss   dfl_loss  Instances       Size\n"
     ]
    },
    {
     "name": "stderr",
     "output_type": "stream",
     "text": [
      "      16/50      19.3G      1.707      1.168     0.9611        182        640: 100%|██████████| 89/89 [00:52<00:00,  1.69it/s]\n",
      "                 Class     Images  Instances      Box(P          R      mAP50  mAP50-95): 100%|██████████| 15/15 [00:04<00:00,  3.14it/s]"
     ]
    },
    {
     "name": "stdout",
     "output_type": "stream",
     "text": [
      "                   all        458      69565      0.636      0.267      0.291      0.173\n"
     ]
    },
    {
     "name": "stderr",
     "output_type": "stream",
     "text": [
      "\n"
     ]
    },
    {
     "name": "stdout",
     "output_type": "stream",
     "text": [
      "\n",
      "      Epoch    GPU_mem   box_loss   cls_loss   dfl_loss  Instances       Size\n"
     ]
    },
    {
     "name": "stderr",
     "output_type": "stream",
     "text": [
      "      17/50      25.1G      1.719      1.166     0.9563        245        640: 100%|██████████| 89/89 [00:53<00:00,  1.68it/s]\n",
      "                 Class     Images  Instances      Box(P          R      mAP50  mAP50-95): 100%|██████████| 15/15 [00:04<00:00,  3.68it/s]"
     ]
    },
    {
     "name": "stdout",
     "output_type": "stream",
     "text": [
      "                   all        458      69565      0.596      0.273      0.296      0.177\n"
     ]
    },
    {
     "name": "stderr",
     "output_type": "stream",
     "text": [
      "\n"
     ]
    },
    {
     "name": "stdout",
     "output_type": "stream",
     "text": [
      "\n",
      "      Epoch    GPU_mem   box_loss   cls_loss   dfl_loss  Instances       Size\n"
     ]
    },
    {
     "name": "stderr",
     "output_type": "stream",
     "text": [
      "      18/50      17.7G      1.663      1.256     0.9546         51        640: 100%|██████████| 89/89 [00:54<00:00,  1.64it/s]\n",
      "                 Class     Images  Instances      Box(P          R      mAP50  mAP50-95): 100%|██████████| 15/15 [00:04<00:00,  3.60it/s]"
     ]
    },
    {
     "name": "stdout",
     "output_type": "stream",
     "text": [
      "                   all        458      69565      0.551      0.277      0.297      0.178\n"
     ]
    },
    {
     "name": "stderr",
     "output_type": "stream",
     "text": [
      "\n"
     ]
    },
    {
     "name": "stdout",
     "output_type": "stream",
     "text": [
      "\n",
      "      Epoch    GPU_mem   box_loss   cls_loss   dfl_loss  Instances       Size\n"
     ]
    },
    {
     "name": "stderr",
     "output_type": "stream",
     "text": [
      "      19/50      18.8G      1.677      1.183     0.9564          8        640: 100%|██████████| 89/89 [00:51<00:00,  1.72it/s]\n",
      "                 Class     Images  Instances      Box(P          R      mAP50  mAP50-95): 100%|██████████| 15/15 [00:05<00:00,  2.94it/s]"
     ]
    },
    {
     "name": "stdout",
     "output_type": "stream",
     "text": [
      "                   all        458      69565      0.596      0.277      0.297      0.174\n"
     ]
    },
    {
     "name": "stderr",
     "output_type": "stream",
     "text": [
      "\n"
     ]
    },
    {
     "name": "stdout",
     "output_type": "stream",
     "text": [
      "\n",
      "      Epoch    GPU_mem   box_loss   cls_loss   dfl_loss  Instances       Size\n"
     ]
    },
    {
     "name": "stderr",
     "output_type": "stream",
     "text": [
      "      20/50      28.6G       1.71      1.143     0.9517        228        640: 100%|██████████| 89/89 [00:51<00:00,  1.74it/s]\n",
      "                 Class     Images  Instances      Box(P          R      mAP50  mAP50-95): 100%|██████████| 15/15 [00:06<00:00,  2.43it/s]"
     ]
    },
    {
     "name": "stdout",
     "output_type": "stream",
     "text": [
      "                   all        458      69565      0.616      0.279      0.307      0.182\n"
     ]
    },
    {
     "name": "stderr",
     "output_type": "stream",
     "text": [
      "\n"
     ]
    },
    {
     "name": "stdout",
     "output_type": "stream",
     "text": [
      "\n",
      "      Epoch    GPU_mem   box_loss   cls_loss   dfl_loss  Instances       Size\n"
     ]
    },
    {
     "name": "stderr",
     "output_type": "stream",
     "text": [
      "      21/50      25.5G      1.665      1.109     0.9494        544        640: 100%|██████████| 89/89 [00:52<00:00,  1.69it/s]\n",
      "                 Class     Images  Instances      Box(P          R      mAP50  mAP50-95): 100%|██████████| 15/15 [00:05<00:00,  2.87it/s]"
     ]
    },
    {
     "name": "stdout",
     "output_type": "stream",
     "text": [
      "                   all        458      69565      0.652      0.267      0.296      0.174\n"
     ]
    },
    {
     "name": "stderr",
     "output_type": "stream",
     "text": [
      "\n"
     ]
    },
    {
     "name": "stdout",
     "output_type": "stream",
     "text": [
      "\n",
      "      Epoch    GPU_mem   box_loss   cls_loss   dfl_loss  Instances       Size\n"
     ]
    },
    {
     "name": "stderr",
     "output_type": "stream",
     "text": [
      "      22/50      22.5G      1.649       1.09     0.9461         63        640: 100%|██████████| 89/89 [00:51<00:00,  1.72it/s]\n",
      "                 Class     Images  Instances      Box(P          R      mAP50  mAP50-95): 100%|██████████| 15/15 [00:05<00:00,  2.70it/s]"
     ]
    },
    {
     "name": "stdout",
     "output_type": "stream",
     "text": [
      "                   all        458      69565      0.673      0.277       0.31      0.185\n"
     ]
    },
    {
     "name": "stderr",
     "output_type": "stream",
     "text": [
      "\n"
     ]
    },
    {
     "name": "stdout",
     "output_type": "stream",
     "text": [
      "\n",
      "      Epoch    GPU_mem   box_loss   cls_loss   dfl_loss  Instances       Size\n"
     ]
    },
    {
     "name": "stderr",
     "output_type": "stream",
     "text": [
      "      23/50      17.2G      1.656       1.08     0.9445        164        640: 100%|██████████| 89/89 [00:50<00:00,  1.75it/s]\n",
      "                 Class     Images  Instances      Box(P          R      mAP50  mAP50-95): 100%|██████████| 15/15 [00:05<00:00,  2.61it/s]"
     ]
    },
    {
     "name": "stdout",
     "output_type": "stream",
     "text": [
      "                   all        458      69565      0.596      0.285      0.316       0.19\n"
     ]
    },
    {
     "name": "stderr",
     "output_type": "stream",
     "text": [
      "\n"
     ]
    },
    {
     "name": "stdout",
     "output_type": "stream",
     "text": [
      "\n",
      "      Epoch    GPU_mem   box_loss   cls_loss   dfl_loss  Instances       Size\n"
     ]
    },
    {
     "name": "stderr",
     "output_type": "stream",
     "text": [
      "      24/50      17.7G      1.639       1.08     0.9438        130        640: 100%|██████████| 89/89 [00:51<00:00,  1.72it/s]\n",
      "                 Class     Images  Instances      Box(P          R      mAP50  mAP50-95): 100%|██████████| 15/15 [00:06<00:00,  2.50it/s]"
     ]
    },
    {
     "name": "stdout",
     "output_type": "stream",
     "text": [
      "                   all        458      69565      0.735      0.286      0.321      0.192\n"
     ]
    },
    {
     "name": "stderr",
     "output_type": "stream",
     "text": [
      "\n"
     ]
    },
    {
     "name": "stdout",
     "output_type": "stream",
     "text": [
      "\n",
      "      Epoch    GPU_mem   box_loss   cls_loss   dfl_loss  Instances       Size\n"
     ]
    },
    {
     "name": "stderr",
     "output_type": "stream",
     "text": [
      "      25/50      11.8G      1.643      1.081     0.9396        607        640: 100%|██████████| 89/89 [00:55<00:00,  1.61it/s]\n",
      "                 Class     Images  Instances      Box(P          R      mAP50  mAP50-95): 100%|██████████| 15/15 [00:05<00:00,  2.75it/s]"
     ]
    },
    {
     "name": "stdout",
     "output_type": "stream",
     "text": [
      "                   all        458      69565      0.687      0.288      0.315      0.192\n"
     ]
    },
    {
     "name": "stderr",
     "output_type": "stream",
     "text": [
      "\n"
     ]
    },
    {
     "name": "stdout",
     "output_type": "stream",
     "text": [
      "\n",
      "      Epoch    GPU_mem   box_loss   cls_loss   dfl_loss  Instances       Size\n"
     ]
    },
    {
     "name": "stderr",
     "output_type": "stream",
     "text": [
      "      26/50      28.7G      1.634      1.064     0.9396         62        640: 100%|██████████| 89/89 [00:52<00:00,  1.71it/s]\n",
      "                 Class     Images  Instances      Box(P          R      mAP50  mAP50-95): 100%|██████████| 15/15 [00:05<00:00,  2.72it/s]\n"
     ]
    },
    {
     "name": "stdout",
     "output_type": "stream",
     "text": [
      "                   all        458      69565      0.672       0.29      0.318      0.192\n",
      "\n",
      "      Epoch    GPU_mem   box_loss   cls_loss   dfl_loss  Instances       Size\n"
     ]
    },
    {
     "name": "stderr",
     "output_type": "stream",
     "text": [
      "      27/50      16.4G       1.67      1.072     0.9351         28        640: 100%|██████████| 89/89 [00:54<00:00,  1.64it/s]\n",
      "                 Class     Images  Instances      Box(P          R      mAP50  mAP50-95): 100%|██████████| 15/15 [00:05<00:00,  2.89it/s]"
     ]
    },
    {
     "name": "stdout",
     "output_type": "stream",
     "text": [
      "                   all        458      69565      0.709      0.288      0.318      0.192\n"
     ]
    },
    {
     "name": "stderr",
     "output_type": "stream",
     "text": [
      "\n"
     ]
    },
    {
     "name": "stdout",
     "output_type": "stream",
     "text": [
      "\n",
      "      Epoch    GPU_mem   box_loss   cls_loss   dfl_loss  Instances       Size\n"
     ]
    },
    {
     "name": "stderr",
     "output_type": "stream",
     "text": [
      "      28/50      13.9G      1.594      1.043     0.9349         38        640: 100%|██████████| 89/89 [00:50<00:00,  1.77it/s]\n",
      "                 Class     Images  Instances      Box(P          R      mAP50  mAP50-95): 100%|██████████| 15/15 [00:06<00:00,  2.27it/s]"
     ]
    },
    {
     "name": "stdout",
     "output_type": "stream",
     "text": [
      "                   all        458      69565      0.739       0.28      0.318      0.194\n"
     ]
    },
    {
     "name": "stderr",
     "output_type": "stream",
     "text": [
      "\n"
     ]
    },
    {
     "name": "stdout",
     "output_type": "stream",
     "text": [
      "\n",
      "      Epoch    GPU_mem   box_loss   cls_loss   dfl_loss  Instances       Size\n"
     ]
    },
    {
     "name": "stderr",
     "output_type": "stream",
     "text": [
      "      29/50        25G      1.619       1.05     0.9373         87        640: 100%|██████████| 89/89 [00:55<00:00,  1.60it/s]\n",
      "                 Class     Images  Instances      Box(P          R      mAP50  mAP50-95): 100%|██████████| 15/15 [00:04<00:00,  3.01it/s]"
     ]
    },
    {
     "name": "stdout",
     "output_type": "stream",
     "text": [
      "                   all        458      69565      0.678      0.293      0.321      0.195\n"
     ]
    },
    {
     "name": "stderr",
     "output_type": "stream",
     "text": [
      "\n"
     ]
    },
    {
     "name": "stdout",
     "output_type": "stream",
     "text": [
      "\n",
      "      Epoch    GPU_mem   box_loss   cls_loss   dfl_loss  Instances       Size\n"
     ]
    },
    {
     "name": "stderr",
     "output_type": "stream",
     "text": [
      "      30/50      18.9G      1.572      1.053     0.9365         19        640: 100%|██████████| 89/89 [00:51<00:00,  1.72it/s]\n",
      "                 Class     Images  Instances      Box(P          R      mAP50  mAP50-95): 100%|██████████| 15/15 [00:04<00:00,  3.16it/s]"
     ]
    },
    {
     "name": "stdout",
     "output_type": "stream",
     "text": [
      "                   all        458      69565      0.705      0.297      0.324      0.195\n"
     ]
    },
    {
     "name": "stderr",
     "output_type": "stream",
     "text": [
      "\n"
     ]
    },
    {
     "name": "stdout",
     "output_type": "stream",
     "text": [
      "\n",
      "      Epoch    GPU_mem   box_loss   cls_loss   dfl_loss  Instances       Size\n"
     ]
    },
    {
     "name": "stderr",
     "output_type": "stream",
     "text": [
      "      31/50      20.2G      1.615      1.042     0.9346        488        640: 100%|██████████| 89/89 [00:56<00:00,  1.57it/s]\n",
      "                 Class     Images  Instances      Box(P          R      mAP50  mAP50-95): 100%|██████████| 15/15 [00:05<00:00,  2.98it/s]"
     ]
    },
    {
     "name": "stdout",
     "output_type": "stream",
     "text": [
      "                   all        458      69565      0.716      0.295      0.326      0.197\n"
     ]
    },
    {
     "name": "stderr",
     "output_type": "stream",
     "text": [
      "\n"
     ]
    },
    {
     "name": "stdout",
     "output_type": "stream",
     "text": [
      "\n",
      "      Epoch    GPU_mem   box_loss   cls_loss   dfl_loss  Instances       Size\n"
     ]
    },
    {
     "name": "stderr",
     "output_type": "stream",
     "text": [
      "      32/50      14.2G      1.577      1.018     0.9307        208        640: 100%|██████████| 89/89 [00:51<00:00,  1.72it/s]\n",
      "                 Class     Images  Instances      Box(P          R      mAP50  mAP50-95): 100%|██████████| 15/15 [00:05<00:00,  2.70it/s]"
     ]
    },
    {
     "name": "stdout",
     "output_type": "stream",
     "text": [
      "                   all        458      69565      0.678      0.299      0.326      0.196\n"
     ]
    },
    {
     "name": "stderr",
     "output_type": "stream",
     "text": [
      "\n"
     ]
    },
    {
     "name": "stdout",
     "output_type": "stream",
     "text": [
      "\n",
      "      Epoch    GPU_mem   box_loss   cls_loss   dfl_loss  Instances       Size\n"
     ]
    },
    {
     "name": "stderr",
     "output_type": "stream",
     "text": [
      "      33/50        15G      1.572      1.018     0.9282         68        640: 100%|██████████| 89/89 [00:52<00:00,  1.71it/s]\n",
      "                 Class     Images  Instances      Box(P          R      mAP50  mAP50-95): 100%|██████████| 15/15 [00:05<00:00,  2.86it/s]"
     ]
    },
    {
     "name": "stdout",
     "output_type": "stream",
     "text": [
      "                   all        458      69565      0.687        0.3      0.327      0.201\n"
     ]
    },
    {
     "name": "stderr",
     "output_type": "stream",
     "text": [
      "\n"
     ]
    },
    {
     "name": "stdout",
     "output_type": "stream",
     "text": [
      "\n",
      "      Epoch    GPU_mem   box_loss   cls_loss   dfl_loss  Instances       Size\n"
     ]
    },
    {
     "name": "stderr",
     "output_type": "stream",
     "text": [
      "      34/50        22G      1.597      1.021     0.9327         34        640: 100%|██████████| 89/89 [00:54<00:00,  1.63it/s]\n",
      "                 Class     Images  Instances      Box(P          R      mAP50  mAP50-95): 100%|██████████| 15/15 [00:05<00:00,  2.92it/s]"
     ]
    },
    {
     "name": "stdout",
     "output_type": "stream",
     "text": [
      "                   all        458      69565      0.701      0.294      0.324      0.196\n"
     ]
    },
    {
     "name": "stderr",
     "output_type": "stream",
     "text": [
      "\n"
     ]
    },
    {
     "name": "stdout",
     "output_type": "stream",
     "text": [
      "\n",
      "      Epoch    GPU_mem   box_loss   cls_loss   dfl_loss  Instances       Size\n"
     ]
    },
    {
     "name": "stderr",
     "output_type": "stream",
     "text": [
      "      35/50      22.7G      1.579      1.017     0.9255         64        640: 100%|██████████| 89/89 [00:52<00:00,  1.70it/s]\n",
      "                 Class     Images  Instances      Box(P          R      mAP50  mAP50-95): 100%|██████████| 15/15 [00:05<00:00,  2.67it/s]"
     ]
    },
    {
     "name": "stdout",
     "output_type": "stream",
     "text": [
      "                   all        458      69565      0.707      0.301      0.336      0.203\n"
     ]
    },
    {
     "name": "stderr",
     "output_type": "stream",
     "text": [
      "\n"
     ]
    },
    {
     "name": "stdout",
     "output_type": "stream",
     "text": [
      "\n",
      "      Epoch    GPU_mem   box_loss   cls_loss   dfl_loss  Instances       Size\n"
     ]
    },
    {
     "name": "stderr",
     "output_type": "stream",
     "text": [
      "      36/50      13.4G      1.573     0.9965     0.9239         63        640: 100%|██████████| 89/89 [00:52<00:00,  1.71it/s]\n",
      "                 Class     Images  Instances      Box(P          R      mAP50  mAP50-95): 100%|██████████| 15/15 [00:05<00:00,  2.77it/s]"
     ]
    },
    {
     "name": "stdout",
     "output_type": "stream",
     "text": [
      "                   all        458      69565      0.672      0.299      0.326      0.197\n"
     ]
    },
    {
     "name": "stderr",
     "output_type": "stream",
     "text": [
      "\n"
     ]
    },
    {
     "name": "stdout",
     "output_type": "stream",
     "text": [
      "\n",
      "      Epoch    GPU_mem   box_loss   cls_loss   dfl_loss  Instances       Size\n"
     ]
    },
    {
     "name": "stderr",
     "output_type": "stream",
     "text": [
      "      37/50      20.1G      1.555     0.9883     0.9241        108        640: 100%|██████████| 89/89 [00:52<00:00,  1.70it/s]\n",
      "                 Class     Images  Instances      Box(P          R      mAP50  mAP50-95): 100%|██████████| 15/15 [00:04<00:00,  3.05it/s]"
     ]
    },
    {
     "name": "stdout",
     "output_type": "stream",
     "text": [
      "                   all        458      69565      0.701      0.303      0.337      0.205\n"
     ]
    },
    {
     "name": "stderr",
     "output_type": "stream",
     "text": [
      "\n"
     ]
    },
    {
     "name": "stdout",
     "output_type": "stream",
     "text": [
      "\n",
      "      Epoch    GPU_mem   box_loss   cls_loss   dfl_loss  Instances       Size\n"
     ]
    },
    {
     "name": "stderr",
     "output_type": "stream",
     "text": [
      "      38/50      19.4G      1.562      0.991     0.9233        492        640: 100%|██████████| 89/89 [00:50<00:00,  1.77it/s]\n",
      "                 Class     Images  Instances      Box(P          R      mAP50  mAP50-95): 100%|██████████| 15/15 [00:05<00:00,  2.62it/s]"
     ]
    },
    {
     "name": "stdout",
     "output_type": "stream",
     "text": [
      "                   all        458      69565      0.702      0.306      0.342       0.21\n"
     ]
    },
    {
     "name": "stderr",
     "output_type": "stream",
     "text": [
      "\n"
     ]
    },
    {
     "name": "stdout",
     "output_type": "stream",
     "text": [
      "\n",
      "      Epoch    GPU_mem   box_loss   cls_loss   dfl_loss  Instances       Size\n"
     ]
    },
    {
     "name": "stderr",
     "output_type": "stream",
     "text": [
      "      39/50      19.8G      1.557     0.9815     0.9207        222        640: 100%|██████████| 89/89 [00:58<00:00,  1.53it/s]\n",
      "                 Class     Images  Instances      Box(P          R      mAP50  mAP50-95): 100%|██████████| 15/15 [00:04<00:00,  3.19it/s]"
     ]
    },
    {
     "name": "stdout",
     "output_type": "stream",
     "text": [
      "                   all        458      69565      0.698      0.306      0.337      0.207\n"
     ]
    },
    {
     "name": "stderr",
     "output_type": "stream",
     "text": [
      "\n"
     ]
    },
    {
     "name": "stdout",
     "output_type": "stream",
     "text": [
      "\n",
      "      Epoch    GPU_mem   box_loss   cls_loss   dfl_loss  Instances       Size\n"
     ]
    },
    {
     "name": "stderr",
     "output_type": "stream",
     "text": [
      "      40/50      31.3G      1.554     0.9794     0.9225         25        640: 100%|██████████| 89/89 [00:55<00:00,  1.62it/s]\n",
      "                 Class     Images  Instances      Box(P          R      mAP50  mAP50-95): 100%|██████████| 15/15 [00:05<00:00,  2.89it/s]"
     ]
    },
    {
     "name": "stdout",
     "output_type": "stream",
     "text": [
      "                   all        458      69565      0.661      0.314      0.341      0.208\n"
     ]
    },
    {
     "name": "stderr",
     "output_type": "stream",
     "text": [
      "\n"
     ]
    },
    {
     "name": "stdout",
     "output_type": "stream",
     "text": [
      "Closing dataloader mosaic\n",
      "\u001b[34m\u001b[1malbumentations: \u001b[0mBlur(p=0.01, blur_limit=(3, 7)), MedianBlur(p=0.01, blur_limit=(3, 7)), ToGray(p=0.01), CLAHE(p=0.01, clip_limit=(1, 4.0), tile_grid_size=(8, 8))\n",
      "\n",
      "      Epoch    GPU_mem   box_loss   cls_loss   dfl_loss  Instances       Size\n"
     ]
    },
    {
     "name": "stderr",
     "output_type": "stream",
     "text": [
      "      41/50      20.3G      1.569      1.028     0.9325         84        640: 100%|██████████| 89/89 [00:45<00:00,  1.96it/s]\n",
      "                 Class     Images  Instances      Box(P          R      mAP50  mAP50-95): 100%|██████████| 15/15 [00:04<00:00,  3.42it/s]"
     ]
    },
    {
     "name": "stdout",
     "output_type": "stream",
     "text": [
      "                   all        458      69565      0.735      0.289      0.329      0.201\n"
     ]
    },
    {
     "name": "stderr",
     "output_type": "stream",
     "text": [
      "\n"
     ]
    },
    {
     "name": "stdout",
     "output_type": "stream",
     "text": [
      "\n",
      "      Epoch    GPU_mem   box_loss   cls_loss   dfl_loss  Instances       Size\n"
     ]
    },
    {
     "name": "stderr",
     "output_type": "stream",
     "text": [
      "      42/50      16.3G      1.543     0.9843     0.9265         30        640: 100%|██████████| 89/89 [00:32<00:00,  2.76it/s]\n",
      "                 Class     Images  Instances      Box(P          R      mAP50  mAP50-95): 100%|██████████| 15/15 [00:04<00:00,  3.62it/s]"
     ]
    },
    {
     "name": "stdout",
     "output_type": "stream",
     "text": [
      "                   all        458      69565      0.727      0.301      0.336      0.204\n"
     ]
    },
    {
     "name": "stderr",
     "output_type": "stream",
     "text": [
      "\n"
     ]
    },
    {
     "name": "stdout",
     "output_type": "stream",
     "text": [
      "\n",
      "      Epoch    GPU_mem   box_loss   cls_loss   dfl_loss  Instances       Size\n"
     ]
    },
    {
     "name": "stderr",
     "output_type": "stream",
     "text": [
      "      43/50      27.2G      1.516     0.9778     0.9246          9        640: 100%|██████████| 89/89 [00:29<00:00,  2.99it/s]\n",
      "                 Class     Images  Instances      Box(P          R      mAP50  mAP50-95): 100%|██████████| 15/15 [00:04<00:00,  3.09it/s]"
     ]
    },
    {
     "name": "stdout",
     "output_type": "stream",
     "text": [
      "                   all        458      69565      0.716      0.301      0.338      0.208\n"
     ]
    },
    {
     "name": "stderr",
     "output_type": "stream",
     "text": [
      "\n"
     ]
    },
    {
     "name": "stdout",
     "output_type": "stream",
     "text": [
      "\n",
      "      Epoch    GPU_mem   box_loss   cls_loss   dfl_loss  Instances       Size\n"
     ]
    },
    {
     "name": "stderr",
     "output_type": "stream",
     "text": [
      "      44/50      24.7G      1.512     0.9747     0.9238         98        640: 100%|██████████| 89/89 [00:28<00:00,  3.11it/s]\n",
      "                 Class     Images  Instances      Box(P          R      mAP50  mAP50-95): 100%|██████████| 15/15 [00:05<00:00,  2.75it/s]"
     ]
    },
    {
     "name": "stdout",
     "output_type": "stream",
     "text": [
      "                   all        458      69565      0.628      0.316      0.337      0.207\n"
     ]
    },
    {
     "name": "stderr",
     "output_type": "stream",
     "text": [
      "\n"
     ]
    },
    {
     "name": "stdout",
     "output_type": "stream",
     "text": [
      "\n",
      "      Epoch    GPU_mem   box_loss   cls_loss   dfl_loss  Instances       Size\n"
     ]
    },
    {
     "name": "stderr",
     "output_type": "stream",
     "text": [
      "      45/50      21.1G      1.533      0.972     0.9198        827        640: 100%|██████████| 89/89 [00:29<00:00,  2.99it/s]\n",
      "                 Class     Images  Instances      Box(P          R      mAP50  mAP50-95): 100%|██████████| 15/15 [00:04<00:00,  3.09it/s]"
     ]
    },
    {
     "name": "stdout",
     "output_type": "stream",
     "text": [
      "                   all        458      69565      0.705      0.304      0.338      0.207\n"
     ]
    },
    {
     "name": "stderr",
     "output_type": "stream",
     "text": [
      "\n"
     ]
    },
    {
     "name": "stdout",
     "output_type": "stream",
     "text": [
      "\n",
      "      Epoch    GPU_mem   box_loss   cls_loss   dfl_loss  Instances       Size\n"
     ]
    },
    {
     "name": "stderr",
     "output_type": "stream",
     "text": [
      "      46/50      24.5G       1.53     0.9656     0.9219         72        640: 100%|██████████| 89/89 [00:29<00:00,  3.06it/s]\n",
      "                 Class     Images  Instances      Box(P          R      mAP50  mAP50-95): 100%|██████████| 15/15 [00:04<00:00,  3.43it/s]"
     ]
    },
    {
     "name": "stdout",
     "output_type": "stream",
     "text": [
      "                   all        458      69565       0.73        0.3       0.34      0.207\n"
     ]
    },
    {
     "name": "stderr",
     "output_type": "stream",
     "text": [
      "\n"
     ]
    },
    {
     "name": "stdout",
     "output_type": "stream",
     "text": [
      "\n",
      "      Epoch    GPU_mem   box_loss   cls_loss   dfl_loss  Instances       Size\n"
     ]
    },
    {
     "name": "stderr",
     "output_type": "stream",
     "text": [
      "      47/50      25.2G      1.532     0.9643     0.9201        137        640: 100%|██████████| 89/89 [00:30<00:00,  2.96it/s]\n",
      "                 Class     Images  Instances      Box(P          R      mAP50  mAP50-95): 100%|██████████| 15/15 [00:04<00:00,  3.23it/s]"
     ]
    },
    {
     "name": "stdout",
     "output_type": "stream",
     "text": [
      "                   all        458      69565      0.725      0.306      0.342       0.21\n"
     ]
    },
    {
     "name": "stderr",
     "output_type": "stream",
     "text": [
      "\n"
     ]
    },
    {
     "name": "stdout",
     "output_type": "stream",
     "text": [
      "\n",
      "      Epoch    GPU_mem   box_loss   cls_loss   dfl_loss  Instances       Size\n"
     ]
    },
    {
     "name": "stderr",
     "output_type": "stream",
     "text": [
      "      48/50      17.6G      1.501     0.9564     0.9197         56        640: 100%|██████████| 89/89 [00:28<00:00,  3.13it/s]\n",
      "                 Class     Images  Instances      Box(P          R      mAP50  mAP50-95): 100%|██████████| 15/15 [00:04<00:00,  3.24it/s]"
     ]
    },
    {
     "name": "stdout",
     "output_type": "stream",
     "text": [
      "                   all        458      69565      0.703      0.311      0.345      0.212\n"
     ]
    },
    {
     "name": "stderr",
     "output_type": "stream",
     "text": [
      "\n"
     ]
    },
    {
     "name": "stdout",
     "output_type": "stream",
     "text": [
      "\n",
      "      Epoch    GPU_mem   box_loss   cls_loss   dfl_loss  Instances       Size\n"
     ]
    },
    {
     "name": "stderr",
     "output_type": "stream",
     "text": [
      "      49/50      17.3G      1.498     0.9576     0.9151         75        640: 100%|██████████| 89/89 [00:29<00:00,  2.97it/s]\n",
      "                 Class     Images  Instances      Box(P          R      mAP50  mAP50-95): 100%|██████████| 15/15 [00:04<00:00,  3.44it/s]"
     ]
    },
    {
     "name": "stdout",
     "output_type": "stream",
     "text": [
      "                   all        458      69565       0.75        0.3      0.343      0.212\n"
     ]
    },
    {
     "name": "stderr",
     "output_type": "stream",
     "text": [
      "\n"
     ]
    },
    {
     "name": "stdout",
     "output_type": "stream",
     "text": [
      "\n",
      "      Epoch    GPU_mem   box_loss   cls_loss   dfl_loss  Instances       Size\n"
     ]
    },
    {
     "name": "stderr",
     "output_type": "stream",
     "text": [
      "      50/50      21.3G      1.499      0.932      0.915         22        640: 100%|██████████| 89/89 [00:30<00:00,  2.88it/s]\n",
      "                 Class     Images  Instances      Box(P          R      mAP50  mAP50-95): 100%|██████████| 15/15 [00:03<00:00,  3.79it/s]"
     ]
    },
    {
     "name": "stdout",
     "output_type": "stream",
     "text": [
      "                   all        458      69565      0.746      0.301      0.342      0.212\n"
     ]
    },
    {
     "name": "stderr",
     "output_type": "stream",
     "text": [
      "\n"
     ]
    },
    {
     "name": "stdout",
     "output_type": "stream",
     "text": [
      "\n",
      "50 epochs completed in 0.771 hours.\n",
      "Optimizer stripped from /mmfs1/scratch/dsu.local/bshakya/scratch/bshakya/yolov10/yolov10/runs/detect/train43/weights/last.pt, 6.2MB\n",
      "Optimizer stripped from /mmfs1/scratch/dsu.local/bshakya/scratch/bshakya/yolov10/yolov10/runs/detect/train43/weights/best.pt, 6.2MB\n",
      "\n",
      "Validating /mmfs1/scratch/dsu.local/bshakya/scratch/bshakya/yolov10/yolov10/runs/detect/train43/weights/best.pt...\n",
      "Ultralytics YOLOv8.1.34 🚀 Python-3.10.15 torch-1.12.1+cu113 CUDA:0 (NVIDIA A100 80GB PCIe, 81229MiB)\n",
      "Model summary (fused): 168 layers, 3008768 parameters, 0 gradients, 8.1 GFLOPs\n"
     ]
    },
    {
     "name": "stderr",
     "output_type": "stream",
     "text": [
      "                 Class     Images  Instances      Box(P          R      mAP50  mAP50-95):   7%|▋         | 1/15 [00:00<00:05,  2.73it/s]"
     ]
    },
    {
     "name": "stdout",
     "output_type": "stream",
     "text": [
      "WARNING ⚠️ NMS time limit 3.600s exceeded\n"
     ]
    },
    {
     "name": "stderr",
     "output_type": "stream",
     "text": [
      "                 Class     Images  Instances      Box(P          R      mAP50  mAP50-95): 100%|██████████| 15/15 [01:45<00:00,  7.03s/it]\n"
     ]
    },
    {
     "name": "stdout",
     "output_type": "stream",
     "text": [
      "                   all        458      69565      0.697      0.312      0.345      0.212\n",
      "                 plane        458       2550      0.675      0.554      0.583      0.312\n",
      "                  ship        458      10765      0.708       0.38      0.431      0.205\n",
      "          storage tank        458       2940      0.751      0.147      0.221      0.099\n",
      "      baseball diamond        458        213      0.766      0.319      0.379      0.228\n",
      "          tennis court        458        763      0.883      0.868      0.902      0.777\n",
      "      basketball court        458        143      0.605      0.357      0.398      0.279\n",
      "    ground track field        458        145      0.718      0.276      0.326      0.229\n",
      "                harbor        458       2102      0.605      0.592      0.595      0.298\n",
      "                bridge        458        466      0.487     0.0365     0.0465     0.0183\n",
      "         large vehicle        458       5139       0.67      0.646      0.651      0.418\n",
      "         small vehicle        458      43337      0.616     0.0938       0.15      0.068\n",
      "            helicopter        458         78          1          0      0.114     0.0552\n",
      "            roundabout        458        185      0.688     0.0649     0.0855     0.0612\n",
      "     soccer ball field        458        149      0.428      0.389      0.355      0.243\n",
      "         swimming pool        458        576      0.555      0.267       0.28      0.104\n",
      "       container crane        458         14          1          0          0          0\n",
      "Speed: 0.2ms preprocess, 9.1ms inference, 0.0ms loss, 17.8ms postprocess per image\n",
      "Results saved to \u001b[1m/mmfs1/scratch/dsu.local/bshakya/scratch/bshakya/yolov10/yolov10/runs/detect/train43\u001b[0m\n"
     ]
    }
   ],
   "source": [
    "from ultralytics import YOLO\n",
    "\n",
    "# Load a model\n",
    "#model = YOLO('yolov8n.yaml')  # build a new model from scratch\n",
    "model = YOLO('weights/yolov8n.pt')  # load a pretrained model (recommended for training)\n",
    "\n",
    "# Train the model\n",
    "results = model.train(data='DOTAv1.5.yaml', epochs=50, imgsz=640, batch=16)"
   ]
  },
  {
   "cell_type": "code",
   "execution_count": 10,
   "id": "0768a505-5d64-45ab-93c6-8653dc4738f1",
   "metadata": {},
   "outputs": [
    {
     "name": "stdout",
     "output_type": "stream",
     "text": [
      "best.pt  last.pt\n"
     ]
    }
   ],
   "source": [
    "ls ../yolov10/yolov10/runs/detect/train43/weights"
   ]
  },
  {
   "cell_type": "code",
   "execution_count": 12,
   "id": "f0ce328c-3f80-4ad1-a097-38cf667ea796",
   "metadata": {},
   "outputs": [
    {
     "data": {
      "text/plain": [
       "'/mmfs1/scratch/dsu.local/bshakya/scratch/bshakya/YOLOv8'"
      ]
     },
     "execution_count": 12,
     "metadata": {},
     "output_type": "execute_result"
    }
   ],
   "source": [
    "pwd"
   ]
  },
  {
   "cell_type": "code",
   "execution_count": 13,
   "id": "8d47e74b-05c0-4da6-8aab-d73f6fc7dced",
   "metadata": {},
   "outputs": [
    {
     "name": "stdout",
     "output_type": "stream",
     "text": [
      "Ultralytics YOLOv8.1.34 🚀 Python-3.10.15 torch-1.12.1+cu113 CUDA:0s (NVIDIA A100 80GB PCIe, 81229MiB)\n",
      "Model summary (fused): 168 layers, 3008768 parameters, 0 gradients, 8.1 GFLOPs\n",
      "\u001b[34m\u001b[1mval: \u001b[0mScanning /mmfs1/scratch/dsu.local/bshakya/scratch/bshakya/yolov10/datasets/\u001b[0m\n",
      "                 Class     Images  Instances      Box(P          R      mAP50  m/mmfs1/scratch/dsu.local/bshakya/scratch/bshakya/yolov10/yolov10/ultralytics/utils/ops.py:862: UserWarning: __floordiv__ is deprecated, and its behavior will change in a future version of pytorch. It currently rounds toward 0 (like the 'trunc' function NOT 'floor'). This results in incorrect rounding for negative values. To keep the current behavior, use torch.div(a, b, rounding_mode='trunc'), or for actual floor division, use torch.div(a, b, rounding_mode='floor').\n",
      "  index = index // nc\n",
      "                 Class     Images  Instances      Box(P          R      mAP50  m\n",
      "                   all        458      69565      0.358      0.274      0.162      0.106\n",
      "                 plane        458       2550      0.204      0.462      0.225      0.142\n",
      "                  ship        458      10765      0.552      0.286      0.285      0.142\n",
      "          storage tank        458       2940      0.539      0.104      0.169     0.0801\n",
      "      baseball diamond        458        213      0.131      0.305      0.153     0.0968\n",
      "          tennis court        458        763      0.113      0.852      0.397      0.366\n",
      "      basketball court        458        143       0.12      0.329      0.152       0.12\n",
      "    ground track field        458        145      0.169      0.269      0.126     0.0943\n",
      "                harbor        458       2102      0.209      0.506      0.239      0.141\n",
      "                bridge        458        466      0.316       0.03     0.0288     0.0107\n",
      "         large vehicle        458       5139      0.229       0.58      0.317      0.227\n",
      "         small vehicle        458      43337      0.414     0.0638      0.117     0.0593\n",
      "            helicopter        458         78          1          0     0.0441      0.022\n",
      "            roundabout        458        185       0.21     0.0649     0.0345     0.0266\n",
      "     soccer ball field        458        149      0.113      0.362      0.142      0.106\n",
      "         swimming pool        458        576      0.404      0.174      0.167     0.0679\n",
      "       container crane        458         14          1          0          0          0\n",
      "Speed: 0.2ms preprocess, 2.1ms inference, 0.0ms loss, 1.5ms postprocess per image\n",
      "Results saved to \u001b[1m/mmfs1/scratch/dsu.local/bshakya/scratch/bshakya/yolov10/yolov10/runs/detect/val22\u001b[0m\n",
      "💡 Learn more at https://docs.ultralytics.com/modes/val\n"
     ]
    }
   ],
   "source": [
    "#For val dataset\n",
    "!yolo detect val data=DOTAv1.5.yaml model=../yolov10/yolov10/runs/detect/train43/weights/last.pt epochs=50 batch=16 imgsz=640 device=\"CUDA:0\"s"
   ]
  },
  {
   "cell_type": "code",
   "execution_count": null,
   "id": "1a9fe9f6-18d4-4778-a047-7fd9ba0f7813",
   "metadata": {},
   "outputs": [],
   "source": [
    "from ultralytics.utils.benchmarks import benchmark\n",
    "\n",
    "# Benchmark on GPU (test-dev dataset)\n",
    "#benchmark(model=\"yolov10n.pt\", data=\"VisDrone_bk.yaml\", imgsz=640, half=False, device=0)\n",
    "benchmark(model=\"weights/last.onnx\", data=\"DOTAv1.5.yaml\", imgsz=640, half=False, device=0)"
   ]
  },
  {
   "cell_type": "code",
   "execution_count": 20,
   "id": "a5033b97-68b3-4290-b879-7a4b9ab57db8",
   "metadata": {
    "scrolled": true
   },
   "outputs": [
    {
     "name": "stdout",
     "output_type": "stream",
     "text": [
      "Ultralytics YOLOv8.1.34 🚀 Python-3.10.15 torch-1.12.1+cu113 CPU (Intel Xeon Gold 6342 2.80GHz)\n",
      "Model summary (fused): 168 layers, 3008768 parameters, 0 gradients, 8.1 GFLOPs\n",
      "\n",
      "/mmfs1/scratch/dsu.local/bshakya/scratch/bshakya/yolov10/yolov10/ultralytics/utils/ops.py:862: UserWarning: __floordiv__ is deprecated, and its behavior will change in a future version of pytorch. It currently rounds toward 0 (like the 'trunc' function NOT 'floor'). This results in incorrect rounding for negative values. To keep the current behavior, use torch.div(a, b, rounding_mode='trunc'), or for actual floor division, use torch.div(a, b, rounding_mode='floor').\n",
      "  index = index // nc\n",
      "image 1/458 /mmfs1/scratch/dsu.local/bshakya/scratch/bshakya/YOLOv8/../yolov10/datasets/DOTAv1.5/images/val/P0003.jpg: 576x640 254 large vehicles, 46 small vehicles, 33.4ms\n",
      "image 2/458 /mmfs1/scratch/dsu.local/bshakya/scratch/bshakya/YOLOv8/../yolov10/datasets/DOTAv1.5/images/val/P0004.jpg: 640x384 267 large vehicles, 33 small vehicles, 24.7ms\n",
      "image 3/458 /mmfs1/scratch/dsu.local/bshakya/scratch/bshakya/YOLOv8/../yolov10/datasets/DOTAv1.5/images/val/P0007.jpg: 640x448 273 large vehicles, 27 small vehicles, 66.1ms\n",
      "image 4/458 /mmfs1/scratch/dsu.local/bshakya/scratch/bshakya/YOLOv8/../yolov10/datasets/DOTAv1.5/images/val/P0019.jpg: 384x640 1 ship, 76 harbors, 25.7ms\n",
      "image 5/458 /mmfs1/scratch/dsu.local/bshakya/scratch/bshakya/YOLOv8/../yolov10/datasets/DOTAv1.5/images/val/P0027.jpg: 512x640 3 ships, 105 harbors, 1 small vehicle, 1 swimming pool, 27.4ms\n",
      "image 6/458 /mmfs1/scratch/dsu.local/bshakya/scratch/bshakya/YOLOv8/../yolov10/datasets/DOTAv1.5/images/val/P0047.jpg: 640x352 28 baseball diamonds, 10 ground track fields, 34 small vehicles, 9 soccer ball fields, 23.1ms\n",
      "image 7/458 /mmfs1/scratch/dsu.local/bshakya/scratch/bshakya/YOLOv8/../yolov10/datasets/DOTAv1.5/images/val/P0053.jpg: 640x640 166 ships, 1 harbor, 117 large vehicles, 16 small vehicles, 21.0ms\n",
      "image 8/458 /mmfs1/scratch/dsu.local/bshakya/scratch/bshakya/YOLOv8/../yolov10/datasets/DOTAv1.5/images/val/P0056.jpg: 608x640 109 large vehicles, 32 small vehicles, 31.0ms\n",
      "image 9/458 /mmfs1/scratch/dsu.local/bshakya/scratch/bshakya/YOLOv8/../yolov10/datasets/DOTAv1.5/images/val/P0060.jpg: 416x640 5 small vehicles, 85 swimming pools, 26.1ms\n",
      "image 10/458 /mmfs1/scratch/dsu.local/bshakya/scratch/bshakya/YOLOv8/../yolov10/datasets/DOTAv1.5/images/val/P0075.jpg: 640x352 6 roundabouts, 116.5ms\n",
      "image 11/458 /mmfs1/scratch/dsu.local/bshakya/scratch/bshakya/YOLOv8/../yolov10/datasets/DOTAv1.5/images/val/P0079.jpg: 576x640 9 small vehicles, 10 roundabouts, 6 swimming pools, 21.1ms\n",
      "image 12/458 /mmfs1/scratch/dsu.local/bshakya/scratch/bshakya/YOLOv8/../yolov10/datasets/DOTAv1.5/images/val/P0081.jpg: 640x512 10 roundabouts, 57.1ms\n",
      "image 13/458 /mmfs1/scratch/dsu.local/bshakya/scratch/bshakya/YOLOv8/../yolov10/datasets/DOTAv1.5/images/val/P0086.jpg: 640x512 295 small vehicles, 5 roundabouts, 337.2ms\n",
      "image 14/458 /mmfs1/scratch/dsu.local/bshakya/scratch/bshakya/YOLOv8/../yolov10/datasets/DOTAv1.5/images/val/P0104.jpg: 640x512 1 tennis court, 108 small vehicles, 10 roundabouts, 10 swimming pools, 20.2ms\n",
      "image 15/458 /mmfs1/scratch/dsu.local/bshakya/scratch/bshakya/YOLOv8/../yolov10/datasets/DOTAv1.5/images/val/P0110.jpg: 544x640 (no detections), 707.6ms\n",
      "image 16/458 /mmfs1/scratch/dsu.local/bshakya/scratch/bshakya/YOLOv8/../yolov10/datasets/DOTAv1.5/images/val/P0117.jpg: 544x640 12 baseball diamonds, 1 small vehicle, 19.9ms\n",
      "image 17/458 /mmfs1/scratch/dsu.local/bshakya/scratch/bshakya/YOLOv8/../yolov10/datasets/DOTAv1.5/images/val/P0123.jpg: 640x544 100 tennis courts, 3 large vehicles, 132 small vehicles, 556.9ms\n",
      "image 18/458 /mmfs1/scratch/dsu.local/bshakya/scratch/bshakya/YOLOv8/../yolov10/datasets/DOTAv1.5/images/val/P0128.jpg: 640x544 184 ships, 35 harbors, 18 large vehicles, 27 small vehicles, 41.6ms\n",
      "image 19/458 /mmfs1/scratch/dsu.local/bshakya/scratch/bshakya/YOLOv8/../yolov10/datasets/DOTAv1.5/images/val/P0130.jpg: 640x544 25 baseball diamonds, 4 tennis courts, 4 ground track fields, 1 small vehicle, 10 soccer ball fields, 16 swimming pools, 18.3ms\n",
      "image 20/458 /mmfs1/scratch/dsu.local/bshakya/scratch/bshakya/YOLOv8/../yolov10/datasets/DOTAv1.5/images/val/P0131.jpg: 544x640 16 baseball diamonds, 63 tennis courts, 11 ground track fields, 38 small vehicles, 15 soccer ball fields, 21 swimming pools, 568.6ms\n",
      "image 21/458 /mmfs1/scratch/dsu.local/bshakya/scratch/bshakya/YOLOv8/../yolov10/datasets/DOTAv1.5/images/val/P0143.jpg: 480x640 8 ground track fields, 9 soccer ball fields, 29.6ms\n",
      "image 22/458 /mmfs1/scratch/dsu.local/bshakya/scratch/bshakya/YOLOv8/../yolov10/datasets/DOTAv1.5/images/val/P0146.jpg: 448x640 10 baseball diamonds, 18 tennis courts, 25 small vehicles, 32 soccer ball fields, 28.0ms\n",
      "image 23/458 /mmfs1/scratch/dsu.local/bshakya/scratch/bshakya/YOLOv8/../yolov10/datasets/DOTAv1.5/images/val/P0150.jpg: 544x640 10 baseball diamonds, 9 tennis courts, 58 small vehicles, 1992.0ms\n",
      "image 24/458 /mmfs1/scratch/dsu.local/bshakya/scratch/bshakya/YOLOv8/../yolov10/datasets/DOTAv1.5/images/val/P0161.jpg: 640x640 76 planes, 2 small vehicles, 126.4ms\n",
      "image 25/458 /mmfs1/scratch/dsu.local/bshakya/scratch/bshakya/YOLOv8/../yolov10/datasets/DOTAv1.5/images/val/P0168.jpg: 512x640 204 planes, 123.1ms\n",
      "image 26/458 /mmfs1/scratch/dsu.local/bshakya/scratch/bshakya/YOLOv8/../yolov10/datasets/DOTAv1.5/images/val/P0170.jpg: 352x640 257 planes, 7 large vehicles, 36 small vehicles, 40.7ms\n",
      "image 27/458 /mmfs1/scratch/dsu.local/bshakya/scratch/bshakya/YOLOv8/../yolov10/datasets/DOTAv1.5/images/val/P0173.jpg: 544x640 79 planes, 4 large vehicles, 1 small vehicle, 30.7ms\n",
      "image 28/458 /mmfs1/scratch/dsu.local/bshakya/scratch/bshakya/YOLOv8/../yolov10/datasets/DOTAv1.5/images/val/P0175.jpg: 640x576 101 tennis courts, 9 small vehicles, 148.0ms\n",
      "image 29/458 /mmfs1/scratch/dsu.local/bshakya/scratch/bshakya/YOLOv8/../yolov10/datasets/DOTAv1.5/images/val/P0179.jpg: 640x640 259 planes, 17 small vehicles, 19.4ms\n",
      "image 30/458 /mmfs1/scratch/dsu.local/bshakya/scratch/bshakya/YOLOv8/../yolov10/datasets/DOTAv1.5/images/val/P0186.jpg: 288x640 91 tennis courts, 30.5ms\n",
      "image 31/458 /mmfs1/scratch/dsu.local/bshakya/scratch/bshakya/YOLOv8/../yolov10/datasets/DOTAv1.5/images/val/P0189.jpg: 640x512 223 large vehicles, 77 small vehicles, 27.8ms\n",
      "image 32/458 /mmfs1/scratch/dsu.local/bshakya/scratch/bshakya/YOLOv8/../yolov10/datasets/DOTAv1.5/images/val/P0194.jpg: 544x640 82 tennis courts, 41 small vehicles, 25.0ms\n",
      "image 33/458 /mmfs1/scratch/dsu.local/bshakya/scratch/bshakya/YOLOv8/../yolov10/datasets/DOTAv1.5/images/val/P0198.jpg: 640x576 193 tennis courts, 1 swimming pool, 22.9ms\n",
      "image 34/458 /mmfs1/scratch/dsu.local/bshakya/scratch/bshakya/YOLOv8/../yolov10/datasets/DOTAv1.5/images/val/P0199.jpg: 640x480 5 baseball diamonds, 213 tennis courts, 82 small vehicles, 32.0ms\n",
      "image 35/458 /mmfs1/scratch/dsu.local/bshakya/scratch/bshakya/YOLOv8/../yolov10/datasets/DOTAv1.5/images/val/P0206.jpg: 640x576 6 baseball diamonds, 99 tennis courts, 20.4ms\n",
      "image 36/458 /mmfs1/scratch/dsu.local/bshakya/scratch/bshakya/YOLOv8/../yolov10/datasets/DOTAv1.5/images/val/P0213.jpg: 576x640 146 planes, 40 small vehicles, 24.7ms\n",
      "image 37/458 /mmfs1/scratch/dsu.local/bshakya/scratch/bshakya/YOLOv8/../yolov10/datasets/DOTAv1.5/images/val/P0217.jpg: 608x640 215 planes, 7 large vehicles, 14 small vehicles, 26.7ms\n",
      "image 38/458 /mmfs1/scratch/dsu.local/bshakya/scratch/bshakya/YOLOv8/../yolov10/datasets/DOTAv1.5/images/val/P0228.jpg: 416x640 7 baseball diamonds, 122 tennis courts, 2 small vehicles, 12 soccer ball fields, 4 swimming pools, 20.9ms\n",
      "image 39/458 /mmfs1/scratch/dsu.local/bshakya/scratch/bshakya/YOLOv8/../yolov10/datasets/DOTAv1.5/images/val/P0237.jpg: 640x640 81 tennis courts, 73 small vehicles, 22.5ms\n",
      "image 40/458 /mmfs1/scratch/dsu.local/bshakya/scratch/bshakya/YOLOv8/../yolov10/datasets/DOTAv1.5/images/val/P0242.jpg: 640x288 85 tennis courts, 10 basketball courts, 3 large vehicles, 27.7ms\n",
      "image 41/458 /mmfs1/scratch/dsu.local/bshakya/scratch/bshakya/YOLOv8/../yolov10/datasets/DOTAv1.5/images/val/P0246.jpg: 640x512 188 large vehicles, 47 small vehicles, 19.8ms\n",
      "image 42/458 /mmfs1/scratch/dsu.local/bshakya/scratch/bshakya/YOLOv8/../yolov10/datasets/DOTAv1.5/images/val/P0249.jpg: 640x416 117 planes, 48 large vehicles, 5 small vehicles, 31.2ms\n",
      "image 43/458 /mmfs1/scratch/dsu.local/bshakya/scratch/bshakya/YOLOv8/../yolov10/datasets/DOTAv1.5/images/val/P0257.jpg: 640x448 222 planes, 4 large vehicles, 74 small vehicles, 31.8ms\n",
      "image 44/458 /mmfs1/scratch/dsu.local/bshakya/scratch/bshakya/YOLOv8/../yolov10/datasets/DOTAv1.5/images/val/P0259.jpg: 640x640 109 ships, 16 harbors, 7 small vehicles, 20.3ms\n",
      "image 45/458 /mmfs1/scratch/dsu.local/bshakya/scratch/bshakya/YOLOv8/../yolov10/datasets/DOTAv1.5/images/val/P0261.jpg: 512x640 15 large vehicles, 241 small vehicles, 22.7ms\n",
      "image 46/458 /mmfs1/scratch/dsu.local/bshakya/scratch/bshakya/YOLOv8/../yolov10/datasets/DOTAv1.5/images/val/P0262.jpg: 640x608 210 ships, 90 harbors, 36.1ms\n",
      "image 47/458 /mmfs1/scratch/dsu.local/bshakya/scratch/bshakya/YOLOv8/../yolov10/datasets/DOTAv1.5/images/val/P0300.jpg: 384x640 19 ships, 24 harbors, 1 small vehicle, 32.8ms\n",
      "image 48/458 /mmfs1/scratch/dsu.local/bshakya/scratch/bshakya/YOLOv8/../yolov10/datasets/DOTAv1.5/images/val/P0305.jpg: 640x512 52 large vehicles, 171 small vehicles, 19.9ms\n",
      "image 49/458 /mmfs1/scratch/dsu.local/bshakya/scratch/bshakya/YOLOv8/../yolov10/datasets/DOTAv1.5/images/val/P0309.jpg: 640x288 57 harbors, 17.8ms\n",
      "image 50/458 /mmfs1/scratch/dsu.local/bshakya/scratch/bshakya/YOLOv8/../yolov10/datasets/DOTAv1.5/images/val/P0329.jpg: 640x512 104 large vehicles, 81 small vehicles, 19.0ms\n",
      "image 51/458 /mmfs1/scratch/dsu.local/bshakya/scratch/bshakya/YOLOv8/../yolov10/datasets/DOTAv1.5/images/val/P0331.jpg: 576x640 19 ships, 99 harbors, 8 small vehicles, 36 swimming pools, 22.4ms\n",
      "image 52/458 /mmfs1/scratch/dsu.local/bshakya/scratch/bshakya/YOLOv8/../yolov10/datasets/DOTAv1.5/images/val/P0336.jpg: 320x640 11 ships, 80 harbors, 1 small vehicle, 2 swimming pools, 29.6ms\n",
      "image 53/458 /mmfs1/scratch/dsu.local/bshakya/scratch/bshakya/YOLOv8/../yolov10/datasets/DOTAv1.5/images/val/P0342.jpg: 640x640 176 large vehicles, 62 small vehicles, 760.9ms\n",
      "image 54/458 /mmfs1/scratch/dsu.local/bshakya/scratch/bshakya/YOLOv8/../yolov10/datasets/DOTAv1.5/images/val/P0347.jpg: 640x320 6 ships, 61 harbors, 1 swimming pool, 27.9ms\n",
      "image 55/458 /mmfs1/scratch/dsu.local/bshakya/scratch/bshakya/YOLOv8/../yolov10/datasets/DOTAv1.5/images/val/P0348.jpg: 640x288 6 ships, 42 harbors, 15.6ms\n",
      "image 56/458 /mmfs1/scratch/dsu.local/bshakya/scratch/bshakya/YOLOv8/../yolov10/datasets/DOTAv1.5/images/val/P0352.jpg: 608x640 19 baseball diamonds, 47 tennis courts, 9 basketball courts, 41 small vehicles, 724.8ms\n",
      "image 57/458 /mmfs1/scratch/dsu.local/bshakya/scratch/bshakya/YOLOv8/../yolov10/datasets/DOTAv1.5/images/val/P0353.jpg: 640x640 172 large vehicles, 117 small vehicles, 233.4ms\n",
      "image 58/458 /mmfs1/scratch/dsu.local/bshakya/scratch/bshakya/YOLOv8/../yolov10/datasets/DOTAv1.5/images/val/P0359.jpg: 640x480 64 tennis courts, 2239.5ms\n",
      "image 59/458 /mmfs1/scratch/dsu.local/bshakya/scratch/bshakya/YOLOv8/../yolov10/datasets/DOTAv1.5/images/val/P0368.jpg: 640x384 39 tennis courts, 10 basketball courts, 66 small vehicles, 10 soccer ball fields, 2107.6ms\n",
      "image 60/458 /mmfs1/scratch/dsu.local/bshakya/scratch/bshakya/YOLOv8/../yolov10/datasets/DOTAv1.5/images/val/P0374.jpg: 576x640 16 baseball diamonds, 33 basketball courts, 1 large vehicle, 70 small vehicles, 1932.8ms\n",
      "image 61/458 /mmfs1/scratch/dsu.local/bshakya/scratch/bshakya/YOLOv8/../yolov10/datasets/DOTAv1.5/images/val/P0375.jpg: 640x640 4 baseball diamonds, 41 tennis courts, 1 large vehicle, 254 small vehicles, 20.7ms\n",
      "image 62/458 /mmfs1/scratch/dsu.local/bshakya/scratch/bshakya/YOLOv8/../yolov10/datasets/DOTAv1.5/images/val/P0377.jpg: 640x640 51 tennis courts, 4 small vehicles, 21.0ms\n",
      "image 63/458 /mmfs1/scratch/dsu.local/bshakya/scratch/bshakya/YOLOv8/../yolov10/datasets/DOTAv1.5/images/val/P0382.jpg: 640x608 16 baseball diamonds, 41 tennis courts, 1 large vehicle, 58 small vehicles, 21.3ms\n",
      "image 64/458 /mmfs1/scratch/dsu.local/bshakya/scratch/bshakya/YOLOv8/../yolov10/datasets/DOTAv1.5/images/val/P0385.jpg: 640x640 28 tennis courts, 10 basketball courts, 34 small vehicles, 20.3ms\n",
      "image 65/458 /mmfs1/scratch/dsu.local/bshakya/scratch/bshakya/YOLOv8/../yolov10/datasets/DOTAv1.5/images/val/P0396.jpg: 640x608 76 tennis courts, 21.3ms\n",
      "image 66/458 /mmfs1/scratch/dsu.local/bshakya/scratch/bshakya/YOLOv8/../yolov10/datasets/DOTAv1.5/images/val/P0402.jpg: 640x480 35 tennis courts, 18.2ms\n",
      "image 67/458 /mmfs1/scratch/dsu.local/bshakya/scratch/bshakya/YOLOv8/../yolov10/datasets/DOTAv1.5/images/val/P0411.jpg: 640x512 16 ships, 77 harbors, 2 small vehicles, 2 swimming pools, 348.7ms\n",
      "image 68/458 /mmfs1/scratch/dsu.local/bshakya/scratch/bshakya/YOLOv8/../yolov10/datasets/DOTAv1.5/images/val/P0414.jpg: 640x512 24 ships, 53 harbors, 17 small vehicles, 19.6ms\n",
      "image 69/458 /mmfs1/scratch/dsu.local/bshakya/scratch/bshakya/YOLOv8/../yolov10/datasets/DOTAv1.5/images/val/P0420.jpg: 448x640 11 ships, 80 harbors, 11 swimming pools, 31.5ms\n",
      "image 70/458 /mmfs1/scratch/dsu.local/bshakya/scratch/bshakya/YOLOv8/../yolov10/datasets/DOTAv1.5/images/val/P0432.jpg: 608x640 7 ships, 76 harbors, 1 small vehicle, 443.1ms\n",
      "image 71/458 /mmfs1/scratch/dsu.local/bshakya/scratch/bshakya/YOLOv8/../yolov10/datasets/DOTAv1.5/images/val/P0454.jpg: 448x640 266 large vehicles, 34 small vehicles, 1164.6ms\n",
      "image 72/458 /mmfs1/scratch/dsu.local/bshakya/scratch/bshakya/YOLOv8/../yolov10/datasets/DOTAv1.5/images/val/P0457.jpg: 416x640 8 baseball diamonds, 19 tennis courts, 17 basketball courts, 23 small vehicles, 672.9ms\n",
      "image 73/458 /mmfs1/scratch/dsu.local/bshakya/scratch/bshakya/YOLOv8/../yolov10/datasets/DOTAv1.5/images/val/P0466.jpg: 640x608 145 tennis courts, 11 small vehicles, 1 soccer ball field, 71.2ms\n",
      "image 74/458 /mmfs1/scratch/dsu.local/bshakya/scratch/bshakya/YOLOv8/../yolov10/datasets/DOTAv1.5/images/val/P0476.jpg: 640x608 277 large vehicles, 23 small vehicles, 20.5ms\n",
      "image 75/458 /mmfs1/scratch/dsu.local/bshakya/scratch/bshakya/YOLOv8/../yolov10/datasets/DOTAv1.5/images/val/P0486.jpg: 448x640 161 large vehicles, 96 small vehicles, 426.4ms\n",
      "image 76/458 /mmfs1/scratch/dsu.local/bshakya/scratch/bshakya/YOLOv8/../yolov10/datasets/DOTAv1.5/images/val/P0491.jpg: 416x640 67 baseball diamonds, 1 small vehicle, 3 soccer ball fields, 164.2ms\n",
      "image 77/458 /mmfs1/scratch/dsu.local/bshakya/scratch/bshakya/YOLOv8/../yolov10/datasets/DOTAv1.5/images/val/P0499.jpg: 640x576 9 ships, 59 tennis courts, 9 large vehicles, 45 small vehicles, 54.6ms\n",
      "image 78/458 /mmfs1/scratch/dsu.local/bshakya/scratch/bshakya/YOLOv8/../yolov10/datasets/DOTAv1.5/images/val/P0518.jpg: 640x512 5 ships, 29 harbors, 26.9ms\n",
      "image 79/458 /mmfs1/scratch/dsu.local/bshakya/scratch/bshakya/YOLOv8/../yolov10/datasets/DOTAv1.5/images/val/P0524.jpg: 640x640 6 ships, 59 harbors, 1 small vehicle, 22.0ms\n",
      "image 80/458 /mmfs1/scratch/dsu.local/bshakya/scratch/bshakya/YOLOv8/../yolov10/datasets/DOTAv1.5/images/val/P0525.jpg: 640x288 3 ships, 42 harbors, 156.0ms\n",
      "image 81/458 /mmfs1/scratch/dsu.local/bshakya/scratch/bshakya/YOLOv8/../yolov10/datasets/DOTAv1.5/images/val/P0526.jpg: 480x640 5 tennis courts, 40 harbors, 6 small vehicles, 554.3ms\n",
      "image 82/458 /mmfs1/scratch/dsu.local/bshakya/scratch/bshakya/YOLOv8/../yolov10/datasets/DOTAv1.5/images/val/P0543.jpg: 480x640 7 ships, 1 basketball court, 36 harbors, 504.8ms\n",
      "image 83/458 /mmfs1/scratch/dsu.local/bshakya/scratch/bshakya/YOLOv8/../yolov10/datasets/DOTAv1.5/images/val/P0547.jpg: 640x512 294 large vehicles, 6 small vehicles, 52.4ms\n",
      "image 84/458 /mmfs1/scratch/dsu.local/bshakya/scratch/bshakya/YOLOv8/../yolov10/datasets/DOTAv1.5/images/val/P0550.jpg: 384x640 7 ships, 96 harbors, 127.0ms\n",
      "image 85/458 /mmfs1/scratch/dsu.local/bshakya/scratch/bshakya/YOLOv8/../yolov10/datasets/DOTAv1.5/images/val/P0551.jpg: 640x640 10 ships, 47 harbors, 5 small vehicles, 884.6ms\n",
      "image 86/458 /mmfs1/scratch/dsu.local/bshakya/scratch/bshakya/YOLOv8/../yolov10/datasets/DOTAv1.5/images/val/P0557.jpg: 352x640 9 ships, 37 harbors, 3 swimming pools, 30.2ms\n",
      "image 87/458 /mmfs1/scratch/dsu.local/bshakya/scratch/bshakya/YOLOv8/../yolov10/datasets/DOTAv1.5/images/val/P0558.jpg: 640x256 1 ship, 60 harbors, 25.6ms\n",
      "image 88/458 /mmfs1/scratch/dsu.local/bshakya/scratch/bshakya/YOLOv8/../yolov10/datasets/DOTAv1.5/images/val/P0559.jpg: 640x640 157 large vehicles, 111 small vehicles, 34.1ms\n",
      "image 89/458 /mmfs1/scratch/dsu.local/bshakya/scratch/bshakya/YOLOv8/../yolov10/datasets/DOTAv1.5/images/val/P0564.jpg: 640x512 4 ships, 40 harbors, 2 small vehicles, 8 swimming pools, 18.2ms\n",
      "image 90/458 /mmfs1/scratch/dsu.local/bshakya/scratch/bshakya/YOLOv8/../yolov10/datasets/DOTAv1.5/images/val/P0577.jpg: 640x416 78 harbors, 2 small vehicles, 259.0ms\n",
      "image 91/458 /mmfs1/scratch/dsu.local/bshakya/scratch/bshakya/YOLOv8/../yolov10/datasets/DOTAv1.5/images/val/P0579.jpg: 352x640 10 ships, 71 harbors, 20.5ms\n",
      "image 92/458 /mmfs1/scratch/dsu.local/bshakya/scratch/bshakya/YOLOv8/../yolov10/datasets/DOTAv1.5/images/val/P0583.jpg: 192x640 7 ships, 61 harbors, 28.4ms\n",
      "image 93/458 /mmfs1/scratch/dsu.local/bshakya/scratch/bshakya/YOLOv8/../yolov10/datasets/DOTAv1.5/images/val/P0589.jpg: 640x256 54 harbors, 15.3ms\n",
      "image 94/458 /mmfs1/scratch/dsu.local/bshakya/scratch/bshakya/YOLOv8/../yolov10/datasets/DOTAv1.5/images/val/P0590.jpg: 576x640 268 large vehicles, 32 small vehicles, 476.7ms\n",
      "image 95/458 /mmfs1/scratch/dsu.local/bshakya/scratch/bshakya/YOLOv8/../yolov10/datasets/DOTAv1.5/images/val/P0604.jpg: 416x640 3 ships, 53 harbors, 25 small vehicles, 5 swimming pools, 366.7ms\n",
      "image 96/458 /mmfs1/scratch/dsu.local/bshakya/scratch/bshakya/YOLOv8/../yolov10/datasets/DOTAv1.5/images/val/P0613.jpg: 480x640 2 ships, 54 harbors, 21.1ms\n",
      "image 97/458 /mmfs1/scratch/dsu.local/bshakya/scratch/bshakya/YOLOv8/../yolov10/datasets/DOTAv1.5/images/val/P0615.jpg: 640x640 69 harbors, 6 small vehicles, 19.2ms\n",
      "image 98/458 /mmfs1/scratch/dsu.local/bshakya/scratch/bshakya/YOLOv8/../yolov10/datasets/DOTAv1.5/images/val/P0622.jpg: 640x416 12 ships, 63 harbors, 5 small vehicles, 16.5ms\n",
      "image 99/458 /mmfs1/scratch/dsu.local/bshakya/scratch/bshakya/YOLOv8/../yolov10/datasets/DOTAv1.5/images/val/P0623.jpg: 640x640 88 large vehicles, 212 small vehicles, 19.6ms\n",
      "image 100/458 /mmfs1/scratch/dsu.local/bshakya/scratch/bshakya/YOLOv8/../yolov10/datasets/DOTAv1.5/images/val/P0643.jpg: 640x512 162 large vehicles, 53 small vehicles, 17.5ms\n",
      "image 101/458 /mmfs1/scratch/dsu.local/bshakya/scratch/bshakya/YOLOv8/../yolov10/datasets/DOTAv1.5/images/val/P0647.jpg: 640x512 41 tennis courts, 5 large vehicles, 36 small vehicles, 17.0ms\n",
      "image 102/458 /mmfs1/scratch/dsu.local/bshakya/scratch/bshakya/YOLOv8/../yolov10/datasets/DOTAv1.5/images/val/P0650.jpg: 416x640 70 tennis courts, 11 small vehicles, 16.7ms\n",
      "image 103/458 /mmfs1/scratch/dsu.local/bshakya/scratch/bshakya/YOLOv8/../yolov10/datasets/DOTAv1.5/images/val/P0651.jpg: 640x512 144 tennis courts, 18.5ms\n",
      "image 104/458 /mmfs1/scratch/dsu.local/bshakya/scratch/bshakya/YOLOv8/../yolov10/datasets/DOTAv1.5/images/val/P0654.jpg: 640x608 155 large vehicles, 11 small vehicles, 20.3ms\n",
      "image 105/458 /mmfs1/scratch/dsu.local/bshakya/scratch/bshakya/YOLOv8/../yolov10/datasets/DOTAv1.5/images/val/P0659.jpg: 640x384 40 tennis courts, 11 basketball courts, 276.2ms\n",
      "image 106/458 /mmfs1/scratch/dsu.local/bshakya/scratch/bshakya/YOLOv8/../yolov10/datasets/DOTAv1.5/images/val/P0660.jpg: 512x640 40 tennis courts, 45 small vehicles, 15 swimming pools, 545.6ms\n",
      "image 107/458 /mmfs1/scratch/dsu.local/bshakya/scratch/bshakya/YOLOv8/../yolov10/datasets/DOTAv1.5/images/val/P0665.jpg: 640x512 9 baseball diamonds, 57 tennis courts, 4 ground track fields, 61 small vehicles, 15 soccer ball fields, 219.2ms\n",
      "image 108/458 /mmfs1/scratch/dsu.local/bshakya/scratch/bshakya/YOLOv8/../yolov10/datasets/DOTAv1.5/images/val/P0673.jpg: 640x640 7 baseball diamonds, 41 tennis courts, 32 basketball courts, 22.0ms\n",
      "image 109/458 /mmfs1/scratch/dsu.local/bshakya/scratch/bshakya/YOLOv8/../yolov10/datasets/DOTAv1.5/images/val/P0683.jpg: 640x544 70 ships, 9 harbors, 42 small vehicles, 34.3ms\n",
      "image 110/458 /mmfs1/scratch/dsu.local/bshakya/scratch/bshakya/YOLOv8/../yolov10/datasets/DOTAv1.5/images/val/P0684.jpg: 640x480 113 large vehicles, 9 small vehicles, 31.5ms\n",
      "image 111/458 /mmfs1/scratch/dsu.local/bshakya/scratch/bshakya/YOLOv8/../yolov10/datasets/DOTAv1.5/images/val/P0696.jpg: 640x480 245 ships, 50 harbors, 5 small vehicles, 364.4ms\n",
      "image 112/458 /mmfs1/scratch/dsu.local/bshakya/scratch/bshakya/YOLOv8/../yolov10/datasets/DOTAv1.5/images/val/P0704.jpg: 448x640 223 ships, 76 harbors, 1 small vehicle, 57.1ms\n",
      "image 113/458 /mmfs1/scratch/dsu.local/bshakya/scratch/bshakya/YOLOv8/../yolov10/datasets/DOTAv1.5/images/val/P0706.jpg: 640x608 270 ships, 27 harbors, 3 small vehicles, 20.0ms\n",
      "image 114/458 /mmfs1/scratch/dsu.local/bshakya/scratch/bshakya/YOLOv8/../yolov10/datasets/DOTAv1.5/images/val/P0712.jpg: 640x512 270 large vehicles, 30 small vehicles, 17.8ms\n",
      "image 115/458 /mmfs1/scratch/dsu.local/bshakya/scratch/bshakya/YOLOv8/../yolov10/datasets/DOTAv1.5/images/val/P0715.jpg: 640x544 39 ships, 145 harbors, 3 small vehicles, 7 swimming pools, 19.2ms\n",
      "image 116/458 /mmfs1/scratch/dsu.local/bshakya/scratch/bshakya/YOLOv8/../yolov10/datasets/DOTAv1.5/images/val/P0725.jpg: 448x640 102 ships, 141 harbors, 57 small vehicles, 17.0ms\n",
      "image 117/458 /mmfs1/scratch/dsu.local/bshakya/scratch/bshakya/YOLOv8/../yolov10/datasets/DOTAv1.5/images/val/P0729.jpg: 640x320 122 ships, 86 harbors, 20 small vehicles, 27.6ms\n",
      "image 118/458 /mmfs1/scratch/dsu.local/bshakya/scratch/bshakya/YOLOv8/../yolov10/datasets/DOTAv1.5/images/val/P0749.jpg: 384x640 129 ships, 88 harbors, 75 small vehicles, 31.1ms\n",
      "image 119/458 /mmfs1/scratch/dsu.local/bshakya/scratch/bshakya/YOLOv8/../yolov10/datasets/DOTAv1.5/images/val/P0761.jpg: 544x640 187 ships, 66 harbors, 47 small vehicles, 32.0ms\n",
      "image 120/458 /mmfs1/scratch/dsu.local/bshakya/scratch/bshakya/YOLOv8/../yolov10/datasets/DOTAv1.5/images/val/P0763.jpg: 448x640 86 ships, 166 harbors, 48 small vehicles, 17.6ms\n",
      "image 121/458 /mmfs1/scratch/dsu.local/bshakya/scratch/bshakya/YOLOv8/../yolov10/datasets/DOTAv1.5/images/val/P0764.jpg: 448x640 116 ships, 122 harbors, 62 small vehicles, 18.1ms\n",
      "image 122/458 /mmfs1/scratch/dsu.local/bshakya/scratch/bshakya/YOLOv8/../yolov10/datasets/DOTAv1.5/images/val/P0770.jpg: 544x640 28 baseball diamonds, 80 tennis courts, 10 basketball courts, 7 ground track fields, 63 small vehicles, 14 soccer ball fields, 27 swimming pools, 18.6ms\n",
      "image 123/458 /mmfs1/scratch/dsu.local/bshakya/scratch/bshakya/YOLOv8/../yolov10/datasets/DOTAv1.5/images/val/P0787.jpg: 640x640 255 large vehicles, 45 small vehicles, 19.4ms\n",
      "image 124/458 /mmfs1/scratch/dsu.local/bshakya/scratch/bshakya/YOLOv8/../yolov10/datasets/DOTAv1.5/images/val/P0789.jpg: 448x640 224 ships, 50 harbors, 26 small vehicles, 16.9ms\n",
      "image 125/458 /mmfs1/scratch/dsu.local/bshakya/scratch/bshakya/YOLOv8/../yolov10/datasets/DOTAv1.5/images/val/P0791.jpg: 640x640 11 baseball diamonds, 71 tennis courts, 4 large vehicles, 214 small vehicles, 19.8ms\n",
      "image 126/458 /mmfs1/scratch/dsu.local/bshakya/scratch/bshakya/YOLOv8/../yolov10/datasets/DOTAv1.5/images/val/P0795.jpg: 640x480 264 ships, 34 harbors, 2 swimming pools, 17.2ms\n",
      "image 127/458 /mmfs1/scratch/dsu.local/bshakya/scratch/bshakya/YOLOv8/../yolov10/datasets/DOTAv1.5/images/val/P0796.jpg: 640x192 198 ships, 7 tennis courts, 86 harbors, 2 small vehicles, 7 swimming pools, 24.7ms\n",
      "image 128/458 /mmfs1/scratch/dsu.local/bshakya/scratch/bshakya/YOLOv8/../yolov10/datasets/DOTAv1.5/images/val/P0799.jpg: 640x480 207 ships, 14 tennis courts, 70 harbors, 5 small vehicles, 4 swimming pools, 17.0ms\n",
      "image 129/458 /mmfs1/scratch/dsu.local/bshakya/scratch/bshakya/YOLOv8/../yolov10/datasets/DOTAv1.5/images/val/P0801.jpg: 320x640 252 ships, 43 harbors, 5 small vehicles, 27.8ms\n",
      "image 130/458 /mmfs1/scratch/dsu.local/bshakya/scratch/bshakya/YOLOv8/../yolov10/datasets/DOTAv1.5/images/val/P0814.jpg: 256x640 73 tennis courts, 46 small vehicles, 27.2ms\n",
      "image 131/458 /mmfs1/scratch/dsu.local/bshakya/scratch/bshakya/YOLOv8/../yolov10/datasets/DOTAv1.5/images/val/P0815.jpg: 480x640 9 baseball diamonds, 58 tennis courts, 32.4ms\n",
      "image 132/458 /mmfs1/scratch/dsu.local/bshakya/scratch/bshakya/YOLOv8/../yolov10/datasets/DOTAv1.5/images/val/P0816.jpg: 480x640 61 tennis courts, 90 small vehicles, 18.1ms\n",
      "image 133/458 /mmfs1/scratch/dsu.local/bshakya/scratch/bshakya/YOLOv8/../yolov10/datasets/DOTAv1.5/images/val/P0822.jpg: 320x640 60 tennis courts, 1 swimming pool, 15.1ms\n",
      "image 134/458 /mmfs1/scratch/dsu.local/bshakya/scratch/bshakya/YOLOv8/../yolov10/datasets/DOTAv1.5/images/val/P0833.jpg: 480x640 131 tennis courts, 84 basketball courts, 1 large vehicle, 84 small vehicles, 16.7ms\n",
      "image 135/458 /mmfs1/scratch/dsu.local/bshakya/scratch/bshakya/YOLOv8/../yolov10/datasets/DOTAv1.5/images/val/P0837.jpg: 640x416 276 ships, 24 harbors, 28.6ms\n",
      "image 136/458 /mmfs1/scratch/dsu.local/bshakya/scratch/bshakya/YOLOv8/../yolov10/datasets/DOTAv1.5/images/val/P0838.jpg: 640x512 270 ships, 30 harbors, 18.1ms\n",
      "image 137/458 /mmfs1/scratch/dsu.local/bshakya/scratch/bshakya/YOLOv8/../yolov10/datasets/DOTAv1.5/images/val/P0839.jpg: 640x224 252 ships, 48 harbors, 28.8ms\n",
      "image 138/458 /mmfs1/scratch/dsu.local/bshakya/scratch/bshakya/YOLOv8/../yolov10/datasets/DOTAv1.5/images/val/P0841.jpg: 640x512 189 planes, 14 small vehicles, 19.3ms\n",
      "image 139/458 /mmfs1/scratch/dsu.local/bshakya/scratch/bshakya/YOLOv8/../yolov10/datasets/DOTAv1.5/images/val/P0844.jpg: 640x512 84 tennis courts, 6 harbors, 1 small vehicle, 19.2ms\n",
      "image 140/458 /mmfs1/scratch/dsu.local/bshakya/scratch/bshakya/YOLOv8/../yolov10/datasets/DOTAv1.5/images/val/P0858.jpg: 416x640 200 ships, 91 harbors, 9 small vehicles, 29.9ms\n",
      "image 141/458 /mmfs1/scratch/dsu.local/bshakya/scratch/bshakya/YOLOv8/../yolov10/datasets/DOTAv1.5/images/val/P0864.jpg: 448x640 224 ships, 61 harbors, 15 small vehicles, 19.1ms\n",
      "image 142/458 /mmfs1/scratch/dsu.local/bshakya/scratch/bshakya/YOLOv8/../yolov10/datasets/DOTAv1.5/images/val/P0882.jpg: 640x288 115 tennis courts, 44 small vehicles, 18 swimming pools, 27.8ms\n",
      "image 143/458 /mmfs1/scratch/dsu.local/bshakya/scratch/bshakya/YOLOv8/../yolov10/datasets/DOTAv1.5/images/val/P0887.jpg: 640x512 250 ships, 49 harbors, 1 small vehicle, 19.1ms\n",
      "image 144/458 /mmfs1/scratch/dsu.local/bshakya/scratch/bshakya/YOLOv8/../yolov10/datasets/DOTAv1.5/images/val/P0897.jpg: 640x320 200 ships, 100 harbors, 17.0ms\n",
      "image 145/458 /mmfs1/scratch/dsu.local/bshakya/scratch/bshakya/YOLOv8/../yolov10/datasets/DOTAv1.5/images/val/P0904.jpg: 608x640 50 tennis courts, 56 small vehicles, 4 roundabouts, 36.2ms\n",
      "image 146/458 /mmfs1/scratch/dsu.local/bshakya/scratch/bshakya/YOLOv8/../yolov10/datasets/DOTAv1.5/images/val/P0910.jpg: 608x640 12 ships, 175 harbors, 21.6ms\n",
      "image 147/458 /mmfs1/scratch/dsu.local/bshakya/scratch/bshakya/YOLOv8/../yolov10/datasets/DOTAv1.5/images/val/P0929.jpg: 640x64 5 harbors, 41.8ms\n",
      "image 148/458 /mmfs1/scratch/dsu.local/bshakya/scratch/bshakya/YOLOv8/../yolov10/datasets/DOTAv1.5/images/val/P0932.jpg: 640x640 1 ship, 62 harbors, 19.5ms\n",
      "image 149/458 /mmfs1/scratch/dsu.local/bshakya/scratch/bshakya/YOLOv8/../yolov10/datasets/DOTAv1.5/images/val/P0936.jpg: 256x640 89 harbors, 1 small vehicle, 15.8ms\n",
      "image 150/458 /mmfs1/scratch/dsu.local/bshakya/scratch/bshakya/YOLOv8/../yolov10/datasets/DOTAv1.5/images/val/P0945.jpg: 640x640 49 ships, 8 storage tanks, 152 harbors, 8 small vehicles, 22.2ms\n",
      "image 151/458 /mmfs1/scratch/dsu.local/bshakya/scratch/bshakya/YOLOv8/../yolov10/datasets/DOTAv1.5/images/val/P0949.jpg: 192x640 140 harbors, 3 swimming pools, 26.3ms\n",
      "image 152/458 /mmfs1/scratch/dsu.local/bshakya/scratch/bshakya/YOLOv8/../yolov10/datasets/DOTAv1.5/images/val/P0953.jpg: 256x640 72 harbors, 3 swimming pools, 14.6ms\n",
      "image 153/458 /mmfs1/scratch/dsu.local/bshakya/scratch/bshakya/YOLOv8/../yolov10/datasets/DOTAv1.5/images/val/P0961.jpg: 128x640 59 harbors, 22.1ms\n",
      "image 154/458 /mmfs1/scratch/dsu.local/bshakya/scratch/bshakya/YOLOv8/../yolov10/datasets/DOTAv1.5/images/val/P0962.jpg: 224x640 76 harbors, 28.2ms\n",
      "image 155/458 /mmfs1/scratch/dsu.local/bshakya/scratch/bshakya/YOLOv8/../yolov10/datasets/DOTAv1.5/images/val/P0964.jpg: 224x640 3 ships, 81 harbors, 1 swimming pool, 13.4ms\n",
      "image 156/458 /mmfs1/scratch/dsu.local/bshakya/scratch/bshakya/YOLOv8/../yolov10/datasets/DOTAv1.5/images/val/P0968.jpg: 256x640 71 harbors, 14.4ms\n",
      "image 157/458 /mmfs1/scratch/dsu.local/bshakya/scratch/bshakya/YOLOv8/../yolov10/datasets/DOTAv1.5/images/val/P0969.jpg: 576x640 53 large vehicles, 247 small vehicles, 34.8ms\n",
      "image 158/458 /mmfs1/scratch/dsu.local/bshakya/scratch/bshakya/YOLOv8/../yolov10/datasets/DOTAv1.5/images/val/P0970.jpg: 192x640 140 harbors, 4 small vehicles, 1 swimming pool, 16.8ms\n",
      "image 159/458 /mmfs1/scratch/dsu.local/bshakya/scratch/bshakya/YOLOv8/../yolov10/datasets/DOTAv1.5/images/val/P0974.jpg: 320x640 46 harbors, 1 small vehicle, 27.3ms\n",
      "image 160/458 /mmfs1/scratch/dsu.local/bshakya/scratch/bshakya/YOLOv8/../yolov10/datasets/DOTAv1.5/images/val/P0977.jpg: 640x608 13 ships, 111 harbors, 1 large vehicle, 10 small vehicles, 34.2ms\n",
      "image 161/458 /mmfs1/scratch/dsu.local/bshakya/scratch/bshakya/YOLOv8/../yolov10/datasets/DOTAv1.5/images/val/P0989.jpg: 640x448 2 ships, 111 harbors, 8 swimming pools, 28.1ms\n",
      "image 162/458 /mmfs1/scratch/dsu.local/bshakya/scratch/bshakya/YOLOv8/../yolov10/datasets/DOTAv1.5/images/val/P0990.jpg: 640x640 1 ship, 159 harbors, 9 swimming pools, 21.0ms\n",
      "image 163/458 /mmfs1/scratch/dsu.local/bshakya/scratch/bshakya/YOLOv8/../yolov10/datasets/DOTAv1.5/images/val/P0998.jpg: 160x640 1 ship, 119 harbors, 25.8ms\n",
      "image 164/458 /mmfs1/scratch/dsu.local/bshakya/scratch/bshakya/YOLOv8/../yolov10/datasets/DOTAv1.5/images/val/P1005.jpg: 160x640 2 harbors, 1 swimming pool, 12.0ms\n",
      "image 165/458 /mmfs1/scratch/dsu.local/bshakya/scratch/bshakya/YOLOv8/../yolov10/datasets/DOTAv1.5/images/val/P1007.jpg: 128x640 59 harbors, 14.2ms\n",
      "image 166/458 /mmfs1/scratch/dsu.local/bshakya/scratch/bshakya/YOLOv8/../yolov10/datasets/DOTAv1.5/images/val/P1009.jpg: 224x640 3 ships, 95 harbors, 15.6ms\n",
      "image 167/458 /mmfs1/scratch/dsu.local/bshakya/scratch/bshakya/YOLOv8/../yolov10/datasets/DOTAv1.5/images/val/P1014.jpg: 608x640 2 ships, 295 harbors, 3 small vehicles, 21.6ms\n",
      "image 168/458 /mmfs1/scratch/dsu.local/bshakya/scratch/bshakya/YOLOv8/../yolov10/datasets/DOTAv1.5/images/val/P1021.jpg: 320x640 3 ships, 123 harbors, 2 small vehicles, 15.3ms\n",
      "image 169/458 /mmfs1/scratch/dsu.local/bshakya/scratch/bshakya/YOLOv8/../yolov10/datasets/DOTAv1.5/images/val/P1022.jpg: 288x640 17 ships, 72 harbors, 27.7ms\n",
      "image 170/458 /mmfs1/scratch/dsu.local/bshakya/scratch/bshakya/YOLOv8/../yolov10/datasets/DOTAv1.5/images/val/P1023.jpg: 192x640 125 harbors, 13.3ms\n",
      "image 171/458 /mmfs1/scratch/dsu.local/bshakya/scratch/bshakya/YOLOv8/../yolov10/datasets/DOTAv1.5/images/val/P1029.jpg: 416x640 8 ships, 172 harbors, 1 small vehicle, 30.1ms\n",
      "image 172/458 /mmfs1/scratch/dsu.local/bshakya/scratch/bshakya/YOLOv8/../yolov10/datasets/DOTAv1.5/images/val/P1030.jpg: 224x640 124 harbors, 13.9ms\n",
      "image 173/458 /mmfs1/scratch/dsu.local/bshakya/scratch/bshakya/YOLOv8/../yolov10/datasets/DOTAv1.5/images/val/P1051.jpg: 384x640 80 tennis courts, 220 small vehicles, 29.6ms\n",
      "image 174/458 /mmfs1/scratch/dsu.local/bshakya/scratch/bshakya/YOLOv8/../yolov10/datasets/DOTAv1.5/images/val/P1065.jpg: 384x640 82 harbors, 16.1ms\n",
      "image 175/458 /mmfs1/scratch/dsu.local/bshakya/scratch/bshakya/YOLOv8/../yolov10/datasets/DOTAv1.5/images/val/P1066.jpg: 640x352 3 ships, 105 harbors, 2 small vehicles, 2 swimming pools, 27.6ms\n",
      "image 176/458 /mmfs1/scratch/dsu.local/bshakya/scratch/bshakya/YOLOv8/../yolov10/datasets/DOTAv1.5/images/val/P1075.jpg: 640x416 88 ships, 181 harbors, 5 swimming pools, 372.3ms\n",
      "image 177/458 /mmfs1/scratch/dsu.local/bshakya/scratch/bshakya/YOLOv8/../yolov10/datasets/DOTAv1.5/images/val/P1086.jpg: 640x544 102 tennis courts, 40.5ms\n",
      "image 178/458 /mmfs1/scratch/dsu.local/bshakya/scratch/bshakya/YOLOv8/../yolov10/datasets/DOTAv1.5/images/val/P1088.jpg: 640x544 199 planes, 8 large vehicles, 15 small vehicles, 26.6ms\n",
      "image 179/458 /mmfs1/scratch/dsu.local/bshakya/scratch/bshakya/YOLOv8/../yolov10/datasets/DOTAv1.5/images/val/P1090.jpg: 416x640 198 ships, 81 harbors, 21 small vehicles, 17.7ms\n",
      "image 180/458 /mmfs1/scratch/dsu.local/bshakya/scratch/bshakya/YOLOv8/../yolov10/datasets/DOTAv1.5/images/val/P1091.jpg: 640x640 266 large vehicles, 34 small vehicles, 544.1ms\n",
      "image 181/458 /mmfs1/scratch/dsu.local/bshakya/scratch/bshakya/YOLOv8/../yolov10/datasets/DOTAv1.5/images/val/P1095.jpg: 256x640 47 harbors, 1461.2ms\n",
      "image 182/458 /mmfs1/scratch/dsu.local/bshakya/scratch/bshakya/YOLOv8/../yolov10/datasets/DOTAv1.5/images/val/P1099.jpg: 640x576 71 tennis courts, 7 large vehicles, 17 small vehicles, 33.2ms\n",
      "image 183/458 /mmfs1/scratch/dsu.local/bshakya/scratch/bshakya/YOLOv8/../yolov10/datasets/DOTAv1.5/images/val/P1101.jpg: 576x640 58 tennis courts, 6 small vehicles, 33.2ms\n",
      "image 184/458 /mmfs1/scratch/dsu.local/bshakya/scratch/bshakya/YOLOv8/../yolov10/datasets/DOTAv1.5/images/val/P1103.jpg: 640x480 237 planes, 12 small vehicles, 162.3ms\n",
      "image 185/458 /mmfs1/scratch/dsu.local/bshakya/scratch/bshakya/YOLOv8/../yolov10/datasets/DOTAv1.5/images/val/P1122.jpg: 288x640 148 planes, 235.0ms\n",
      "image 186/458 /mmfs1/scratch/dsu.local/bshakya/scratch/bshakya/YOLOv8/../yolov10/datasets/DOTAv1.5/images/val/P1128.jpg: 480x640 29 planes, 31.5ms\n",
      "image 187/458 /mmfs1/scratch/dsu.local/bshakya/scratch/bshakya/YOLOv8/../yolov10/datasets/DOTAv1.5/images/val/P1133.jpg: 640x608 1 plane, 35.0ms\n",
      "image 188/458 /mmfs1/scratch/dsu.local/bshakya/scratch/bshakya/YOLOv8/../yolov10/datasets/DOTAv1.5/images/val/P1134.jpg: 640x608 19 planes, 21.1ms\n",
      "image 189/458 /mmfs1/scratch/dsu.local/bshakya/scratch/bshakya/YOLOv8/../yolov10/datasets/DOTAv1.5/images/val/P1137.jpg: 640x384 20 planes, 27.6ms\n",
      "image 190/458 /mmfs1/scratch/dsu.local/bshakya/scratch/bshakya/YOLOv8/../yolov10/datasets/DOTAv1.5/images/val/P1138.jpg: 352x640 21 planes, 29.5ms\n",
      "image 191/458 /mmfs1/scratch/dsu.local/bshakya/scratch/bshakya/YOLOv8/../yolov10/datasets/DOTAv1.5/images/val/P1143.jpg: 608x640 159 planes, 33.9ms\n",
      "image 192/458 /mmfs1/scratch/dsu.local/bshakya/scratch/bshakya/YOLOv8/../yolov10/datasets/DOTAv1.5/images/val/P1147.jpg: 640x480 106 planes, 18.3ms\n",
      "image 193/458 /mmfs1/scratch/dsu.local/bshakya/scratch/bshakya/YOLOv8/../yolov10/datasets/DOTAv1.5/images/val/P1149.jpg: 640x512 28 planes, 165.2ms\n",
      "image 194/458 /mmfs1/scratch/dsu.local/bshakya/scratch/bshakya/YOLOv8/../yolov10/datasets/DOTAv1.5/images/val/P1154.jpg: 640x640 148 planes, 747.5ms\n",
      "image 195/458 /mmfs1/scratch/dsu.local/bshakya/scratch/bshakya/YOLOv8/../yolov10/datasets/DOTAv1.5/images/val/P1156.jpg: 576x640 119 planes, 3 ships, 1037.0ms\n",
      "image 196/458 /mmfs1/scratch/dsu.local/bshakya/scratch/bshakya/YOLOv8/../yolov10/datasets/DOTAv1.5/images/val/P1178.jpg: 640x640 66 planes, 21.4ms\n",
      "image 197/458 /mmfs1/scratch/dsu.local/bshakya/scratch/bshakya/YOLOv8/../yolov10/datasets/DOTAv1.5/images/val/P1179.jpg: 640x640 48 planes, 2 soccer ball fields, 21.0ms\n",
      "image 198/458 /mmfs1/scratch/dsu.local/bshakya/scratch/bshakya/YOLOv8/../yolov10/datasets/DOTAv1.5/images/val/P1184.jpg: 640x288 1 plane, 731.5ms\n",
      "image 199/458 /mmfs1/scratch/dsu.local/bshakya/scratch/bshakya/YOLOv8/../yolov10/datasets/DOTAv1.5/images/val/P1189.jpg: 640x640 92 tennis courts, 23 basketball courts, 12 large vehicles, 80 small vehicles, 19.9ms\n",
      "image 200/458 /mmfs1/scratch/dsu.local/bshakya/scratch/bshakya/YOLOv8/../yolov10/datasets/DOTAv1.5/images/val/P1210.jpg: 640x640 1 bridge, 19.8ms\n",
      "image 201/458 /mmfs1/scratch/dsu.local/bshakya/scratch/bshakya/YOLOv8/../yolov10/datasets/DOTAv1.5/images/val/P1212.jpg: 640x640 (no detections), 815.0ms\n",
      "image 202/458 /mmfs1/scratch/dsu.local/bshakya/scratch/bshakya/YOLOv8/../yolov10/datasets/DOTAv1.5/images/val/P1213.jpg: 512x640 (no detections), 57.2ms\n",
      "image 203/458 /mmfs1/scratch/dsu.local/bshakya/scratch/bshakya/YOLOv8/../yolov10/datasets/DOTAv1.5/images/val/P1219.jpg: 608x640 3 bridges, 1502.6ms\n",
      "image 204/458 /mmfs1/scratch/dsu.local/bshakya/scratch/bshakya/YOLOv8/../yolov10/datasets/DOTAv1.5/images/val/P1225.jpg: 640x640 2 tennis courts, 31.7ms\n",
      "image 205/458 /mmfs1/scratch/dsu.local/bshakya/scratch/bshakya/YOLOv8/../yolov10/datasets/DOTAv1.5/images/val/P1230.jpg: 512x640 4 bridges, 673.1ms\n",
      "image 206/458 /mmfs1/scratch/dsu.local/bshakya/scratch/bshakya/YOLOv8/../yolov10/datasets/DOTAv1.5/images/val/P1234.jpg: 640x640 9 ships, 35 storage tanks, 6 bridges, 19.8ms\n",
      "image 207/458 /mmfs1/scratch/dsu.local/bshakya/scratch/bshakya/YOLOv8/../yolov10/datasets/DOTAv1.5/images/val/P1240.jpg: 640x640 2 ground track fields, 19.4ms\n",
      "image 208/458 /mmfs1/scratch/dsu.local/bshakya/scratch/bshakya/YOLOv8/../yolov10/datasets/DOTAv1.5/images/val/P1242.jpg: 640x640 4 ships, 66 storage tanks, 2 harbors, 19.4ms\n",
      "image 209/458 /mmfs1/scratch/dsu.local/bshakya/scratch/bshakya/YOLOv8/../yolov10/datasets/DOTAv1.5/images/val/P1246.jpg: 640x640 (no detections), 19.4ms\n",
      "image 210/458 /mmfs1/scratch/dsu.local/bshakya/scratch/bshakya/YOLOv8/../yolov10/datasets/DOTAv1.5/images/val/P1257.jpg: 640x640 1 ground track field, 19.3ms\n",
      "image 211/458 /mmfs1/scratch/dsu.local/bshakya/scratch/bshakya/YOLOv8/../yolov10/datasets/DOTAv1.5/images/val/P1266.jpg: 608x640 (no detections), 36.0ms\n",
      "image 212/458 /mmfs1/scratch/dsu.local/bshakya/scratch/bshakya/YOLOv8/../yolov10/datasets/DOTAv1.5/images/val/P1268.jpg: 608x640 (no detections), 105.4ms\n",
      "image 213/458 /mmfs1/scratch/dsu.local/bshakya/scratch/bshakya/YOLOv8/../yolov10/datasets/DOTAv1.5/images/val/P1269.jpg: 608x640 1 plane, 204.2ms\n",
      "image 214/458 /mmfs1/scratch/dsu.local/bshakya/scratch/bshakya/YOLOv8/../yolov10/datasets/DOTAv1.5/images/val/P1273.jpg: 448x640 1 ship, 33.0ms\n",
      "image 215/458 /mmfs1/scratch/dsu.local/bshakya/scratch/bshakya/YOLOv8/../yolov10/datasets/DOTAv1.5/images/val/P1275.jpg: 640x640 14 ships, 2 tennis courts, 22.0ms\n",
      "image 216/458 /mmfs1/scratch/dsu.local/bshakya/scratch/bshakya/YOLOv8/../yolov10/datasets/DOTAv1.5/images/val/P1278.jpg: 512x640 (no detections), 187.2ms\n",
      "image 217/458 /mmfs1/scratch/dsu.local/bshakya/scratch/bshakya/YOLOv8/../yolov10/datasets/DOTAv1.5/images/val/P1283.jpg: 640x640 (no detections), 20.5ms\n",
      "image 218/458 /mmfs1/scratch/dsu.local/bshakya/scratch/bshakya/YOLOv8/../yolov10/datasets/DOTAv1.5/images/val/P1314.jpg: 640x640 3 bridges, 41.2ms\n",
      "image 219/458 /mmfs1/scratch/dsu.local/bshakya/scratch/bshakya/YOLOv8/../yolov10/datasets/DOTAv1.5/images/val/P1315.jpg: 640x640 2 ground track fields, 4 bridges, 20.0ms\n",
      "image 220/458 /mmfs1/scratch/dsu.local/bshakya/scratch/bshakya/YOLOv8/../yolov10/datasets/DOTAv1.5/images/val/P1323.jpg: 640x640 3 bridges, 19.9ms\n",
      "image 221/458 /mmfs1/scratch/dsu.local/bshakya/scratch/bshakya/YOLOv8/../yolov10/datasets/DOTAv1.5/images/val/P1332.jpg: 640x640 (no detections), 20.0ms\n",
      "image 222/458 /mmfs1/scratch/dsu.local/bshakya/scratch/bshakya/YOLOv8/../yolov10/datasets/DOTAv1.5/images/val/P1342.jpg: 640x640 (no detections), 20.1ms\n",
      "image 223/458 /mmfs1/scratch/dsu.local/bshakya/scratch/bshakya/YOLOv8/../yolov10/datasets/DOTAv1.5/images/val/P1356.jpg: 640x640 1 bridge, 19.8ms\n",
      "image 224/458 /mmfs1/scratch/dsu.local/bshakya/scratch/bshakya/YOLOv8/../yolov10/datasets/DOTAv1.5/images/val/P1370.jpg: 640x640 2 bridges, 19.9ms\n",
      "image 225/458 /mmfs1/scratch/dsu.local/bshakya/scratch/bshakya/YOLOv8/../yolov10/datasets/DOTAv1.5/images/val/P1371.jpg: 640x640 (no detections), 20.0ms\n",
      "image 226/458 /mmfs1/scratch/dsu.local/bshakya/scratch/bshakya/YOLOv8/../yolov10/datasets/DOTAv1.5/images/val/P1373.jpg: 640x640 7 planes, 20.1ms\n",
      "image 227/458 /mmfs1/scratch/dsu.local/bshakya/scratch/bshakya/YOLOv8/../yolov10/datasets/DOTAv1.5/images/val/P1376.jpg: 640x608 92 planes, 3 swimming pools, 190.0ms\n",
      "image 228/458 /mmfs1/scratch/dsu.local/bshakya/scratch/bshakya/YOLOv8/../yolov10/datasets/DOTAv1.5/images/val/P1377.jpg: 640x608 1 roundabout, 7 swimming pools, 19.8ms\n",
      "image 229/458 /mmfs1/scratch/dsu.local/bshakya/scratch/bshakya/YOLOv8/../yolov10/datasets/DOTAv1.5/images/val/P1380.jpg: 640x608 2 tennis courts, 8 roundabouts, 5 swimming pools, 19.5ms\n",
      "image 230/458 /mmfs1/scratch/dsu.local/bshakya/scratch/bshakya/YOLOv8/../yolov10/datasets/DOTAv1.5/images/val/P1384.jpg: 640x640 1 plane, 4 soccer ball fields, 19.7ms\n",
      "image 231/458 /mmfs1/scratch/dsu.local/bshakya/scratch/bshakya/YOLOv8/../yolov10/datasets/DOTAv1.5/images/val/P1386.jpg: 512x640 174 ships, 52 harbors, 163.5ms\n",
      "image 232/458 /mmfs1/scratch/dsu.local/bshakya/scratch/bshakya/YOLOv8/../yolov10/datasets/DOTAv1.5/images/val/P1390.jpg: 320x640 300 planes, 367.5ms\n",
      "image 233/458 /mmfs1/scratch/dsu.local/bshakya/scratch/bshakya/YOLOv8/../yolov10/datasets/DOTAv1.5/images/val/P1397.jpg: 288x640 300 planes, 1723.9ms\n",
      "image 234/458 /mmfs1/scratch/dsu.local/bshakya/scratch/bshakya/YOLOv8/../yolov10/datasets/DOTAv1.5/images/val/P1398.jpg: 640x416 300 planes, 1802.2ms\n",
      "image 235/458 /mmfs1/scratch/dsu.local/bshakya/scratch/bshakya/YOLOv8/../yolov10/datasets/DOTAv1.5/images/val/P1410.jpg: 640x576 4 planes, 1 storage tank, 10 baseball diamonds, 5 roundabouts, 20 soccer ball fields, 1163.6ms\n",
      "image 236/458 /mmfs1/scratch/dsu.local/bshakya/scratch/bshakya/YOLOv8/../yolov10/datasets/DOTAv1.5/images/val/P1429.jpg: 576x640 112 ships, 10 harbors, 985.5ms\n",
      "image 237/458 /mmfs1/scratch/dsu.local/bshakya/scratch/bshakya/YOLOv8/../yolov10/datasets/DOTAv1.5/images/val/P1432.jpg: 640x512 3 ground track fields, 2 soccer ball fields, 673.8ms\n",
      "image 238/458 /mmfs1/scratch/dsu.local/bshakya/scratch/bshakya/YOLOv8/../yolov10/datasets/DOTAv1.5/images/val/P1434.jpg: 640x640 233 large vehicles, 67 small vehicles, 338.2ms\n",
      "image 239/458 /mmfs1/scratch/dsu.local/bshakya/scratch/bshakya/YOLOv8/../yolov10/datasets/DOTAv1.5/images/val/P1440.jpg: 544x640 36 basketball courts, 5 ground track fields, 7 soccer ball fields, 36.5ms\n",
      "image 240/458 /mmfs1/scratch/dsu.local/bshakya/scratch/bshakya/YOLOv8/../yolov10/datasets/DOTAv1.5/images/val/P1452.jpg: 640x576 69 large vehicles, 85 small vehicles, 19.5ms\n",
      "image 241/458 /mmfs1/scratch/dsu.local/bshakya/scratch/bshakya/YOLOv8/../yolov10/datasets/DOTAv1.5/images/val/P1456.jpg: 480x640 75 basketball courts, 11 ground track fields, 20 soccer ball fields, 430.2ms\n",
      "image 242/458 /mmfs1/scratch/dsu.local/bshakya/scratch/bshakya/YOLOv8/../yolov10/datasets/DOTAv1.5/images/val/P1463.jpg: 544x640 6 tennis courts, 74 basketball courts, 15 ground track fields, 1 small vehicle, 17 soccer ball fields, 20.4ms\n",
      "image 243/458 /mmfs1/scratch/dsu.local/bshakya/scratch/bshakya/YOLOv8/../yolov10/datasets/DOTAv1.5/images/val/P1471.jpg: 640x640 3 basketball courts, 9 ground track fields, 1 small vehicle, 19 soccer ball fields, 20.3ms\n",
      "image 244/458 /mmfs1/scratch/dsu.local/bshakya/scratch/bshakya/YOLOv8/../yolov10/datasets/DOTAv1.5/images/val/P1473.jpg: 576x640 284 large vehicles, 8 small vehicles, 19.5ms\n",
      "image 245/458 /mmfs1/scratch/dsu.local/bshakya/scratch/bshakya/YOLOv8/../yolov10/datasets/DOTAv1.5/images/val/P1474.jpg: 640x320 10 planes, 27.6ms\n",
      "image 246/458 /mmfs1/scratch/dsu.local/bshakya/scratch/bshakya/YOLOv8/../yolov10/datasets/DOTAv1.5/images/val/P1476.jpg: 544x640 264 large vehicles, 36 small vehicles, 20.5ms\n",
      "image 247/458 /mmfs1/scratch/dsu.local/bshakya/scratch/bshakya/YOLOv8/../yolov10/datasets/DOTAv1.5/images/val/P1478.jpg: 640x608 36 large vehicles, 264 small vehicles, 23.7ms\n",
      "image 248/458 /mmfs1/scratch/dsu.local/bshakya/scratch/bshakya/YOLOv8/../yolov10/datasets/DOTAv1.5/images/val/P1483.jpg: 640x608 67 planes, 2 small vehicles, 20.8ms\n",
      "image 249/458 /mmfs1/scratch/dsu.local/bshakya/scratch/bshakya/YOLOv8/../yolov10/datasets/DOTAv1.5/images/val/P1492.jpg: 640x384 44 planes, 30.1ms\n",
      "image 250/458 /mmfs1/scratch/dsu.local/bshakya/scratch/bshakya/YOLOv8/../yolov10/datasets/DOTAv1.5/images/val/P1506.jpg: 512x640 18 baseball diamonds, 37 tennis courts, 3 ground track fields, 5 soccer ball fields, 21.7ms\n",
      "image 251/458 /mmfs1/scratch/dsu.local/bshakya/scratch/bshakya/YOLOv8/../yolov10/datasets/DOTAv1.5/images/val/P1508.jpg: 640x288 20 planes, 2 large vehicles, 26.0ms\n",
      "image 252/458 /mmfs1/scratch/dsu.local/bshakya/scratch/bshakya/YOLOv8/../yolov10/datasets/DOTAv1.5/images/val/P1512.jpg: 640x640 78 planes, 25 large vehicles, 129 small vehicles, 19.9ms\n",
      "image 253/458 /mmfs1/scratch/dsu.local/bshakya/scratch/bshakya/YOLOv8/../yolov10/datasets/DOTAv1.5/images/val/P1513.jpg: 640x416 132 planes, 8 small vehicles, 19.5ms\n",
      "image 254/458 /mmfs1/scratch/dsu.local/bshakya/scratch/bshakya/YOLOv8/../yolov10/datasets/DOTAv1.5/images/val/P1518.jpg: 640x640 (no detections), 19.3ms\n",
      "image 255/458 /mmfs1/scratch/dsu.local/bshakya/scratch/bshakya/YOLOv8/../yolov10/datasets/DOTAv1.5/images/val/P1529.jpg: 640x640 37 planes, 19.7ms\n",
      "image 256/458 /mmfs1/scratch/dsu.local/bshakya/scratch/bshakya/YOLOv8/../yolov10/datasets/DOTAv1.5/images/val/P1541.jpg: 640x640 7 bridges, 19.4ms\n",
      "image 257/458 /mmfs1/scratch/dsu.local/bshakya/scratch/bshakya/YOLOv8/../yolov10/datasets/DOTAv1.5/images/val/P1542.jpg: 640x640 (no detections), 19.1ms\n",
      "image 258/458 /mmfs1/scratch/dsu.local/bshakya/scratch/bshakya/YOLOv8/../yolov10/datasets/DOTAv1.5/images/val/P1547.jpg: 640x640 1 storage tank, 18.9ms\n",
      "image 259/458 /mmfs1/scratch/dsu.local/bshakya/scratch/bshakya/YOLOv8/../yolov10/datasets/DOTAv1.5/images/val/P1557.jpg: 640x544 (no detections), 33.7ms\n",
      "image 260/458 /mmfs1/scratch/dsu.local/bshakya/scratch/bshakya/YOLOv8/../yolov10/datasets/DOTAv1.5/images/val/P1560.jpg: 640x640 4 baseball diamonds, 21.5ms\n",
      "image 261/458 /mmfs1/scratch/dsu.local/bshakya/scratch/bshakya/YOLOv8/../yolov10/datasets/DOTAv1.5/images/val/P1561.jpg: 608x640 (no detections), 36.0ms\n",
      "image 262/458 /mmfs1/scratch/dsu.local/bshakya/scratch/bshakya/YOLOv8/../yolov10/datasets/DOTAv1.5/images/val/P1566.jpg: 640x640 2 bridges, 21.3ms\n",
      "image 263/458 /mmfs1/scratch/dsu.local/bshakya/scratch/bshakya/YOLOv8/../yolov10/datasets/DOTAv1.5/images/val/P1569.jpg: 608x640 (no detections), 21.1ms\n",
      "image 264/458 /mmfs1/scratch/dsu.local/bshakya/scratch/bshakya/YOLOv8/../yolov10/datasets/DOTAv1.5/images/val/P1570.jpg: 640x544 1 bridge, 19.2ms\n",
      "image 265/458 /mmfs1/scratch/dsu.local/bshakya/scratch/bshakya/YOLOv8/../yolov10/datasets/DOTAv1.5/images/val/P1573.jpg: 640x576 (no detections), 21.6ms\n",
      "image 266/458 /mmfs1/scratch/dsu.local/bshakya/scratch/bshakya/YOLOv8/../yolov10/datasets/DOTAv1.5/images/val/P1577.jpg: 608x640 2 ground track fields, 230.7ms\n",
      "image 267/458 /mmfs1/scratch/dsu.local/bshakya/scratch/bshakya/YOLOv8/../yolov10/datasets/DOTAv1.5/images/val/P1579.jpg: 640x640 (no detections), 146.3ms\n",
      "image 268/458 /mmfs1/scratch/dsu.local/bshakya/scratch/bshakya/YOLOv8/../yolov10/datasets/DOTAv1.5/images/val/P1581.jpg: 608x640 (no detections), 21.0ms\n",
      "image 269/458 /mmfs1/scratch/dsu.local/bshakya/scratch/bshakya/YOLOv8/../yolov10/datasets/DOTAv1.5/images/val/P1583.jpg: 640x544 (no detections), 19.8ms\n",
      "image 270/458 /mmfs1/scratch/dsu.local/bshakya/scratch/bshakya/YOLOv8/../yolov10/datasets/DOTAv1.5/images/val/P1584.jpg: 640x576 (no detections), 19.2ms\n",
      "image 271/458 /mmfs1/scratch/dsu.local/bshakya/scratch/bshakya/YOLOv8/../yolov10/datasets/DOTAv1.5/images/val/P1586.jpg: 640x640 (no detections), 20.3ms\n",
      "image 272/458 /mmfs1/scratch/dsu.local/bshakya/scratch/bshakya/YOLOv8/../yolov10/datasets/DOTAv1.5/images/val/P1596.jpg: 640x544 (no detections), 19.7ms\n",
      "image 273/458 /mmfs1/scratch/dsu.local/bshakya/scratch/bshakya/YOLOv8/../yolov10/datasets/DOTAv1.5/images/val/P1598.jpg: 640x544 1 plane, 19.2ms\n",
      "image 274/458 /mmfs1/scratch/dsu.local/bshakya/scratch/bshakya/YOLOv8/../yolov10/datasets/DOTAv1.5/images/val/P1601.jpg: 640x640 1 ground track field, 28 large vehicles, 19.7ms\n",
      "image 275/458 /mmfs1/scratch/dsu.local/bshakya/scratch/bshakya/YOLOv8/../yolov10/datasets/DOTAv1.5/images/val/P1604.jpg: 640x640 1 plane, 2 ground track fields, 1 soccer ball field, 19.6ms\n",
      "image 276/458 /mmfs1/scratch/dsu.local/bshakya/scratch/bshakya/YOLOv8/../yolov10/datasets/DOTAv1.5/images/val/P1610.jpg: 640x640 (no detections), 364.6ms\n",
      "image 277/458 /mmfs1/scratch/dsu.local/bshakya/scratch/bshakya/YOLOv8/../yolov10/datasets/DOTAv1.5/images/val/P1619.jpg: 640x640 (no detections), 19.5ms\n",
      "image 278/458 /mmfs1/scratch/dsu.local/bshakya/scratch/bshakya/YOLOv8/../yolov10/datasets/DOTAv1.5/images/val/P1623.jpg: 640x544 (no detections), 19.6ms\n",
      "image 279/458 /mmfs1/scratch/dsu.local/bshakya/scratch/bshakya/YOLOv8/../yolov10/datasets/DOTAv1.5/images/val/P1643.jpg: 640x640 9 ships, 19.7ms\n",
      "image 280/458 /mmfs1/scratch/dsu.local/bshakya/scratch/bshakya/YOLOv8/../yolov10/datasets/DOTAv1.5/images/val/P1647.jpg: 640x640 1 plane, 3 storage tanks, 1 bridge, 19.1ms\n",
      "image 281/458 /mmfs1/scratch/dsu.local/bshakya/scratch/bshakya/YOLOv8/../yolov10/datasets/DOTAv1.5/images/val/P1650.jpg: 608x640 (no detections), 20.7ms\n",
      "image 282/458 /mmfs1/scratch/dsu.local/bshakya/scratch/bshakya/YOLOv8/../yolov10/datasets/DOTAv1.5/images/val/P1651.jpg: 640x640 7 storage tanks, 1 bridge, 19.4ms\n",
      "image 283/458 /mmfs1/scratch/dsu.local/bshakya/scratch/bshakya/YOLOv8/../yolov10/datasets/DOTAv1.5/images/val/P1666.jpg: 640x640 (no detections), 19.4ms\n",
      "image 284/458 /mmfs1/scratch/dsu.local/bshakya/scratch/bshakya/YOLOv8/../yolov10/datasets/DOTAv1.5/images/val/P1672.jpg: 640x544 (no detections), 19.4ms\n",
      "image 285/458 /mmfs1/scratch/dsu.local/bshakya/scratch/bshakya/YOLOv8/../yolov10/datasets/DOTAv1.5/images/val/P1679.jpg: 640x544 (no detections), 19.0ms\n",
      "image 286/458 /mmfs1/scratch/dsu.local/bshakya/scratch/bshakya/YOLOv8/../yolov10/datasets/DOTAv1.5/images/val/P1693.jpg: 640x640 4 ground track fields, 19.9ms\n",
      "image 287/458 /mmfs1/scratch/dsu.local/bshakya/scratch/bshakya/YOLOv8/../yolov10/datasets/DOTAv1.5/images/val/P1699.jpg: 640x576 (no detections), 19.0ms\n",
      "image 288/458 /mmfs1/scratch/dsu.local/bshakya/scratch/bshakya/YOLOv8/../yolov10/datasets/DOTAv1.5/images/val/P1700.jpg: 640x640 (no detections), 19.6ms\n",
      "image 289/458 /mmfs1/scratch/dsu.local/bshakya/scratch/bshakya/YOLOv8/../yolov10/datasets/DOTAv1.5/images/val/P1713.jpg: 608x640 (no detections), 20.7ms\n",
      "image 290/458 /mmfs1/scratch/dsu.local/bshakya/scratch/bshakya/YOLOv8/../yolov10/datasets/DOTAv1.5/images/val/P1720.jpg: 640x640 (no detections), 19.6ms\n",
      "image 291/458 /mmfs1/scratch/dsu.local/bshakya/scratch/bshakya/YOLOv8/../yolov10/datasets/DOTAv1.5/images/val/P1732.jpg: 608x640 (no detections), 21.1ms\n",
      "image 292/458 /mmfs1/scratch/dsu.local/bshakya/scratch/bshakya/YOLOv8/../yolov10/datasets/DOTAv1.5/images/val/P1738.jpg: 640x640 1 ship, 4 bridges, 19.4ms\n",
      "image 293/458 /mmfs1/scratch/dsu.local/bshakya/scratch/bshakya/YOLOv8/../yolov10/datasets/DOTAv1.5/images/val/P1742.jpg: 608x640 (no detections), 20.6ms\n",
      "image 294/458 /mmfs1/scratch/dsu.local/bshakya/scratch/bshakya/YOLOv8/../yolov10/datasets/DOTAv1.5/images/val/P1749.jpg: 640x640 (no detections), 19.4ms\n",
      "image 295/458 /mmfs1/scratch/dsu.local/bshakya/scratch/bshakya/YOLOv8/../yolov10/datasets/DOTAv1.5/images/val/P1750.jpg: 608x640 (no detections), 21.0ms\n",
      "image 296/458 /mmfs1/scratch/dsu.local/bshakya/scratch/bshakya/YOLOv8/../yolov10/datasets/DOTAv1.5/images/val/P1751.jpg: 640x640 3 ground track fields, 7 bridges, 19.3ms\n",
      "image 297/458 /mmfs1/scratch/dsu.local/bshakya/scratch/bshakya/YOLOv8/../yolov10/datasets/DOTAv1.5/images/val/P1752.jpg: 640x640 2 bridges, 1 soccer ball field, 19.2ms\n",
      "image 298/458 /mmfs1/scratch/dsu.local/bshakya/scratch/bshakya/YOLOv8/../yolov10/datasets/DOTAv1.5/images/val/P1754.jpg: 640x544 (no detections), 47.9ms\n",
      "image 299/458 /mmfs1/scratch/dsu.local/bshakya/scratch/bshakya/YOLOv8/../yolov10/datasets/DOTAv1.5/images/val/P1759.jpg: 640x640 (no detections), 1030.5ms\n",
      "image 300/458 /mmfs1/scratch/dsu.local/bshakya/scratch/bshakya/YOLOv8/../yolov10/datasets/DOTAv1.5/images/val/P1763.jpg: 640x640 (no detections), 19.3ms\n",
      "image 301/458 /mmfs1/scratch/dsu.local/bshakya/scratch/bshakya/YOLOv8/../yolov10/datasets/DOTAv1.5/images/val/P1770.jpg: 640x544 (no detections), 380.5ms\n",
      "image 302/458 /mmfs1/scratch/dsu.local/bshakya/scratch/bshakya/YOLOv8/../yolov10/datasets/DOTAv1.5/images/val/P1786.jpg: 640x608 50 tennis courts, 11 ground track fields, 23 soccer ball fields, 316.3ms\n",
      "image 303/458 /mmfs1/scratch/dsu.local/bshakya/scratch/bshakya/YOLOv8/../yolov10/datasets/DOTAv1.5/images/val/P1787.jpg: 640x416 180 large vehicles, 53 small vehicles, 289.3ms\n",
      "image 304/458 /mmfs1/scratch/dsu.local/bshakya/scratch/bshakya/YOLOv8/../yolov10/datasets/DOTAv1.5/images/val/P1806.jpg: 640x416 282 large vehicles, 18 small vehicles, 16.8ms\n",
      "image 305/458 /mmfs1/scratch/dsu.local/bshakya/scratch/bshakya/YOLOv8/../yolov10/datasets/DOTAv1.5/images/val/P1809.jpg: 608x640 112 planes, 21.0ms\n",
      "image 306/458 /mmfs1/scratch/dsu.local/bshakya/scratch/bshakya/YOLOv8/../yolov10/datasets/DOTAv1.5/images/val/P1821.jpg: 640x416 273 large vehicles, 27 small vehicles, 17.1ms\n",
      "image 307/458 /mmfs1/scratch/dsu.local/bshakya/scratch/bshakya/YOLOv8/../yolov10/datasets/DOTAv1.5/images/val/P1825.jpg: 640x288 159 large vehicles, 20.3ms\n",
      "image 308/458 /mmfs1/scratch/dsu.local/bshakya/scratch/bshakya/YOLOv8/../yolov10/datasets/DOTAv1.5/images/val/P1829.jpg: 512x640 126 large vehicles, 99 small vehicles, 19.9ms\n",
      "image 309/458 /mmfs1/scratch/dsu.local/bshakya/scratch/bshakya/YOLOv8/../yolov10/datasets/DOTAv1.5/images/val/P1838.jpg: 640x512 133 large vehicles, 64 small vehicles, 26.2ms\n",
      "image 310/458 /mmfs1/scratch/dsu.local/bshakya/scratch/bshakya/YOLOv8/../yolov10/datasets/DOTAv1.5/images/val/P1854.jpg: 224x640 287 planes, 32.4ms\n",
      "image 311/458 /mmfs1/scratch/dsu.local/bshakya/scratch/bshakya/YOLOv8/../yolov10/datasets/DOTAv1.5/images/val/P1860.jpg: 576x640 2 tennis courts, 45 large vehicles, 40 small vehicles, 64.7ms\n",
      "image 312/458 /mmfs1/scratch/dsu.local/bshakya/scratch/bshakya/YOLOv8/../yolov10/datasets/DOTAv1.5/images/val/P1877.jpg: 640x576 278 large vehicles, 22 small vehicles, 21.9ms\n",
      "image 313/458 /mmfs1/scratch/dsu.local/bshakya/scratch/bshakya/YOLOv8/../yolov10/datasets/DOTAv1.5/images/val/P1878.jpg: 640x416 247 tennis courts, 8 small vehicles, 18.5ms\n",
      "image 314/458 /mmfs1/scratch/dsu.local/bshakya/scratch/bshakya/YOLOv8/../yolov10/datasets/DOTAv1.5/images/val/P1880.jpg: 640x288 137 large vehicles, 10 small vehicles, 16.4ms\n",
      "image 315/458 /mmfs1/scratch/dsu.local/bshakya/scratch/bshakya/YOLOv8/../yolov10/datasets/DOTAv1.5/images/val/P1888.jpg: 512x640 279 large vehicles, 21 small vehicles, 20.8ms\n",
      "image 316/458 /mmfs1/scratch/dsu.local/bshakya/scratch/bshakya/YOLOv8/../yolov10/datasets/DOTAv1.5/images/val/P1903.jpg: 448x640 38 baseball diamonds, 39 tennis courts, 12 ground track fields, 2 large vehicles, 40 small vehicles, 27 soccer ball fields, 32.3ms\n",
      "image 317/458 /mmfs1/scratch/dsu.local/bshakya/scratch/bshakya/YOLOv8/../yolov10/datasets/DOTAv1.5/images/val/P1904.jpg: 512x640 135 large vehicles, 165 small vehicles, 20.6ms\n",
      "image 318/458 /mmfs1/scratch/dsu.local/bshakya/scratch/bshakya/YOLOv8/../yolov10/datasets/DOTAv1.5/images/val/P1905.jpg: 576x640 122 tennis courts, 98 small vehicles, 20.6ms\n",
      "image 319/458 /mmfs1/scratch/dsu.local/bshakya/scratch/bshakya/YOLOv8/../yolov10/datasets/DOTAv1.5/images/val/P1911.jpg: 640x576 119 large vehicles, 181 small vehicles, 19.8ms\n",
      "image 320/458 /mmfs1/scratch/dsu.local/bshakya/scratch/bshakya/YOLOv8/../yolov10/datasets/DOTAv1.5/images/val/P1919.jpg: 640x544 139 tennis courts, 2 large vehicles, 8 small vehicles, 20.9ms\n",
      "image 321/458 /mmfs1/scratch/dsu.local/bshakya/scratch/bshakya/YOLOv8/../yolov10/datasets/DOTAv1.5/images/val/P1924.jpg: 640x480 206 large vehicles, 94 small vehicles, 32.1ms\n",
      "image 322/458 /mmfs1/scratch/dsu.local/bshakya/scratch/bshakya/YOLOv8/../yolov10/datasets/DOTAv1.5/images/val/P1940.jpg: 448x640 299 large vehicles, 1 small vehicle, 17.4ms\n",
      "image 323/458 /mmfs1/scratch/dsu.local/bshakya/scratch/bshakya/YOLOv8/../yolov10/datasets/DOTAv1.5/images/val/P1950.jpg: 512x640 249 large vehicles, 51 small vehicles, 19.6ms\n",
      "image 324/458 /mmfs1/scratch/dsu.local/bshakya/scratch/bshakya/YOLOv8/../yolov10/datasets/DOTAv1.5/images/val/P1957.jpg: 608x640 289 large vehicles, 11 small vehicles, 22.4ms\n",
      "image 325/458 /mmfs1/scratch/dsu.local/bshakya/scratch/bshakya/YOLOv8/../yolov10/datasets/DOTAv1.5/images/val/P1958.jpg: 640x448 212 large vehicles, 86 small vehicles, 29.8ms\n",
      "image 326/458 /mmfs1/scratch/dsu.local/bshakya/scratch/bshakya/YOLOv8/../yolov10/datasets/DOTAv1.5/images/val/P1960.jpg: 640x608 264 large vehicles, 36 small vehicles, 21.2ms\n",
      "image 327/458 /mmfs1/scratch/dsu.local/bshakya/scratch/bshakya/YOLOv8/../yolov10/datasets/DOTAv1.5/images/val/P1973.jpg: 544x640 296 large vehicles, 4 small vehicles, 33.9ms\n",
      "image 328/458 /mmfs1/scratch/dsu.local/bshakya/scratch/bshakya/YOLOv8/../yolov10/datasets/DOTAv1.5/images/val/P1978.jpg: 512x640 250 large vehicles, 50 small vehicles, 19.7ms\n",
      "image 329/458 /mmfs1/scratch/dsu.local/bshakya/scratch/bshakya/YOLOv8/../yolov10/datasets/DOTAv1.5/images/val/P1982.jpg: 640x640 287 large vehicles, 13 small vehicles, 19.6ms\n",
      "image 330/458 /mmfs1/scratch/dsu.local/bshakya/scratch/bshakya/YOLOv8/../yolov10/datasets/DOTAv1.5/images/val/P1983.jpg: 640x544 185 large vehicles, 115 small vehicles, 19.2ms\n",
      "image 331/458 /mmfs1/scratch/dsu.local/bshakya/scratch/bshakya/YOLOv8/../yolov10/datasets/DOTAv1.5/images/val/P1992.jpg: 640x416 108 large vehicles, 68 small vehicles, 4 roundabouts, 18.2ms\n",
      "image 332/458 /mmfs1/scratch/dsu.local/bshakya/scratch/bshakya/YOLOv8/../yolov10/datasets/DOTAv1.5/images/val/P1995.jpg: 352x640 251 large vehicles, 12 small vehicles, 30.3ms\n",
      "image 333/458 /mmfs1/scratch/dsu.local/bshakya/scratch/bshakya/YOLOv8/../yolov10/datasets/DOTAv1.5/images/val/P2003.jpg: 640x448 249 large vehicles, 51 small vehicles, 18.4ms\n",
      "image 334/458 /mmfs1/scratch/dsu.local/bshakya/scratch/bshakya/YOLOv8/../yolov10/datasets/DOTAv1.5/images/val/P2011.jpg: 640x512 11 baseball diamonds, 109 tennis courts, 8 ground track fields, 10 small vehicles, 8 soccer ball fields, 31.8ms\n",
      "image 335/458 /mmfs1/scratch/dsu.local/bshakya/scratch/bshakya/YOLOv8/../yolov10/datasets/DOTAv1.5/images/val/P2012.jpg: 640x544 2 storage tanks, 9 baseball diamonds, 7 ground track fields, 13 soccer ball fields, 20.6ms\n",
      "image 336/458 /mmfs1/scratch/dsu.local/bshakya/scratch/bshakya/YOLOv8/../yolov10/datasets/DOTAv1.5/images/val/P2027.jpg: 640x352 205 large vehicles, 26 small vehicles, 27.8ms\n",
      "image 337/458 /mmfs1/scratch/dsu.local/bshakya/scratch/bshakya/YOLOv8/../yolov10/datasets/DOTAv1.5/images/val/P2042.jpg: 640x544 73 large vehicles, 17 small vehicles, 1 swimming pool, 19.8ms\n",
      "image 338/458 /mmfs1/scratch/dsu.local/bshakya/scratch/bshakya/YOLOv8/../yolov10/datasets/DOTAv1.5/images/val/P2044.jpg: 640x512 57 tennis courts, 19 basketball courts, 4 small vehicles, 18.4ms\n",
      "image 339/458 /mmfs1/scratch/dsu.local/bshakya/scratch/bshakya/YOLOv8/../yolov10/datasets/DOTAv1.5/images/val/P2050.jpg: 640x544 78 tennis courts, 100 small vehicles, 20.0ms\n",
      "image 340/458 /mmfs1/scratch/dsu.local/bshakya/scratch/bshakya/YOLOv8/../yolov10/datasets/DOTAv1.5/images/val/P2059.jpg: 640x320 49 ships, 24 harbors, 5 small vehicles, 27.2ms\n",
      "image 341/458 /mmfs1/scratch/dsu.local/bshakya/scratch/bshakya/YOLOv8/../yolov10/datasets/DOTAv1.5/images/val/P2068.jpg: 640x640 300 small vehicles, 20.8ms\n",
      "image 342/458 /mmfs1/scratch/dsu.local/bshakya/scratch/bshakya/YOLOv8/../yolov10/datasets/DOTAv1.5/images/val/P2082.jpg: 640x448 284 large vehicles, 16 small vehicles, 17.1ms\n",
      "image 343/458 /mmfs1/scratch/dsu.local/bshakya/scratch/bshakya/YOLOv8/../yolov10/datasets/DOTAv1.5/images/val/P2085.jpg: 320x640 22 tennis courts, 27 basketball courts, 28.5ms\n",
      "image 344/458 /mmfs1/scratch/dsu.local/bshakya/scratch/bshakya/YOLOv8/../yolov10/datasets/DOTAv1.5/images/val/P2088.jpg: 640x320 108 tennis courts, 1 large vehicle, 132 small vehicles, 15.5ms\n",
      "image 345/458 /mmfs1/scratch/dsu.local/bshakya/scratch/bshakya/YOLOv8/../yolov10/datasets/DOTAv1.5/images/val/P2093.jpg: 640x512 296 large vehicles, 3 small vehicles, 1 roundabout, 18.9ms\n",
      "image 346/458 /mmfs1/scratch/dsu.local/bshakya/scratch/bshakya/YOLOv8/../yolov10/datasets/DOTAv1.5/images/val/P2097.jpg: 576x640 3 storage tanks, 60 large vehicles, 237 small vehicles, 32.7ms\n",
      "image 347/458 /mmfs1/scratch/dsu.local/bshakya/scratch/bshakya/YOLOv8/../yolov10/datasets/DOTAv1.5/images/val/P2098.jpg: 640x544 182 tennis courts, 4 small vehicles, 21.4ms\n",
      "image 348/458 /mmfs1/scratch/dsu.local/bshakya/scratch/bshakya/YOLOv8/../yolov10/datasets/DOTAv1.5/images/val/P2111.jpg: 640x544 186 large vehicles, 85 small vehicles, 21.4ms\n",
      "image 349/458 /mmfs1/scratch/dsu.local/bshakya/scratch/bshakya/YOLOv8/../yolov10/datasets/DOTAv1.5/images/val/P2121.jpg: 640x512 8 baseball diamonds, 83 tennis courts, 11 ground track fields, 4 large vehicles, 13 small vehicles, 5 soccer ball fields, 20.1ms\n",
      "image 350/458 /mmfs1/scratch/dsu.local/bshakya/scratch/bshakya/YOLOv8/../yolov10/datasets/DOTAv1.5/images/val/P2124.jpg: 640x640 292 large vehicles, 8 small vehicles, 19.9ms\n",
      "image 351/458 /mmfs1/scratch/dsu.local/bshakya/scratch/bshakya/YOLOv8/../yolov10/datasets/DOTAv1.5/images/val/P2126.jpg: 640x544 290 large vehicles, 10 small vehicles, 21.3ms\n",
      "image 352/458 /mmfs1/scratch/dsu.local/bshakya/scratch/bshakya/YOLOv8/../yolov10/datasets/DOTAv1.5/images/val/P2129.jpg: 640x512 161 tennis courts, 55 small vehicles, 18 soccer ball fields, 19.0ms\n",
      "image 353/458 /mmfs1/scratch/dsu.local/bshakya/scratch/bshakya/YOLOv8/../yolov10/datasets/DOTAv1.5/images/val/P2135.jpg: 640x640 59 tennis courts, 159 small vehicles, 20.0ms\n",
      "image 354/458 /mmfs1/scratch/dsu.local/bshakya/scratch/bshakya/YOLOv8/../yolov10/datasets/DOTAv1.5/images/val/P2150.jpg: 640x384 33 baseball diamonds, 114 tennis courts, 13 small vehicles, 28.1ms\n",
      "image 355/458 /mmfs1/scratch/dsu.local/bshakya/scratch/bshakya/YOLOv8/../yolov10/datasets/DOTAv1.5/images/val/P2152.jpg: 352x640 8 small vehicles, 5 swimming pools, 17.4ms\n",
      "image 356/458 /mmfs1/scratch/dsu.local/bshakya/scratch/bshakya/YOLOv8/../yolov10/datasets/DOTAv1.5/images/val/P2155.jpg: 608x640 275 large vehicles, 25 small vehicles, 22.6ms\n",
      "image 357/458 /mmfs1/scratch/dsu.local/bshakya/scratch/bshakya/YOLOv8/../yolov10/datasets/DOTAv1.5/images/val/P2166.jpg: 448x640 1 basketball court, 9 ground track fields, 3 small vehicles, 6 soccer ball fields, 31.1ms\n",
      "image 358/458 /mmfs1/scratch/dsu.local/bshakya/scratch/bshakya/YOLOv8/../yolov10/datasets/DOTAv1.5/images/val/P2167.jpg: 544x640 10 baseball diamonds, 20.1ms\n",
      "image 359/458 /mmfs1/scratch/dsu.local/bshakya/scratch/bshakya/YOLOv8/../yolov10/datasets/DOTAv1.5/images/val/P2168.jpg: 384x640 13 baseball diamonds, 48 tennis courts, 2 small vehicles, 30.5ms\n",
      "image 360/458 /mmfs1/scratch/dsu.local/bshakya/scratch/bshakya/YOLOv8/../yolov10/datasets/DOTAv1.5/images/val/P2169.jpg: 576x640 8 baseball diamonds, 1 swimming pool, 20.0ms\n",
      "image 361/458 /mmfs1/scratch/dsu.local/bshakya/scratch/bshakya/YOLOv8/../yolov10/datasets/DOTAv1.5/images/val/P2181.jpg: 512x640 1 ship, 31.6ms\n",
      "image 362/458 /mmfs1/scratch/dsu.local/bshakya/scratch/bshakya/YOLOv8/../yolov10/datasets/DOTAv1.5/images/val/P2194.jpg: 640x512 17 baseball diamonds, 45 tennis courts, 10 ground track fields, 33 small vehicles, 29 soccer ball fields, 18.6ms\n",
      "image 363/458 /mmfs1/scratch/dsu.local/bshakya/scratch/bshakya/YOLOv8/../yolov10/datasets/DOTAv1.5/images/val/P2197.jpg: 512x640 30 baseball diamonds, 87 tennis courts, 19 ground track fields, 37 small vehicles, 36 soccer ball fields, 18.6ms\n",
      "image 364/458 /mmfs1/scratch/dsu.local/bshakya/scratch/bshakya/YOLOv8/../yolov10/datasets/DOTAv1.5/images/val/P2198.jpg: 640x416 225 large vehicles, 75 small vehicles, 28.6ms\n",
      "image 365/458 /mmfs1/scratch/dsu.local/bshakya/scratch/bshakya/YOLOv8/../yolov10/datasets/DOTAv1.5/images/val/P2214.jpg: 448x640 300 planes, 17.9ms\n",
      "image 366/458 /mmfs1/scratch/dsu.local/bshakya/scratch/bshakya/YOLOv8/../yolov10/datasets/DOTAv1.5/images/val/P2215.jpg: 640x576 248 planes, 3 small vehicles, 33.0ms\n",
      "image 367/458 /mmfs1/scratch/dsu.local/bshakya/scratch/bshakya/YOLOv8/../yolov10/datasets/DOTAv1.5/images/val/P2218.jpg: 544x640 107 planes, 22.2ms\n",
      "image 368/458 /mmfs1/scratch/dsu.local/bshakya/scratch/bshakya/YOLOv8/../yolov10/datasets/DOTAv1.5/images/val/P2220.jpg: 448x640 71 planes, 49 small vehicles, 21.5ms\n",
      "image 369/458 /mmfs1/scratch/dsu.local/bshakya/scratch/bshakya/YOLOv8/../yolov10/datasets/DOTAv1.5/images/val/P2230.jpg: 320x640 127 planes, 20.1ms\n",
      "image 370/458 /mmfs1/scratch/dsu.local/bshakya/scratch/bshakya/YOLOv8/../yolov10/datasets/DOTAv1.5/images/val/P2231.jpg: 640x512 184 planes, 7 small vehicles, 21.3ms\n",
      "image 371/458 /mmfs1/scratch/dsu.local/bshakya/scratch/bshakya/YOLOv8/../yolov10/datasets/DOTAv1.5/images/val/P2236.jpg: 448x640 194 planes, 13 small vehicles, 17.6ms\n",
      "image 372/458 /mmfs1/scratch/dsu.local/bshakya/scratch/bshakya/YOLOv8/../yolov10/datasets/DOTAv1.5/images/val/P2239.jpg: 384x640 96 planes, 10 small vehicles, 20.2ms\n",
      "image 373/458 /mmfs1/scratch/dsu.local/bshakya/scratch/bshakya/YOLOv8/../yolov10/datasets/DOTAv1.5/images/val/P2241.jpg: 640x448 29 baseball diamonds, 78 tennis courts, 5 small vehicles, 4 swimming pools, 29.1ms\n",
      "image 374/458 /mmfs1/scratch/dsu.local/bshakya/scratch/bshakya/YOLOv8/../yolov10/datasets/DOTAv1.5/images/val/P2242.jpg: 288x640 115 planes, 28.0ms\n",
      "image 375/458 /mmfs1/scratch/dsu.local/bshakya/scratch/bshakya/YOLOv8/../yolov10/datasets/DOTAv1.5/images/val/P2255.jpg: 640x576 72 baseball diamonds, 2 tennis courts, 20.6ms\n",
      "image 376/458 /mmfs1/scratch/dsu.local/bshakya/scratch/bshakya/YOLOv8/../yolov10/datasets/DOTAv1.5/images/val/P2256.jpg: 224x640 1 bridge, 3 roundabouts, 27.8ms\n",
      "image 377/458 /mmfs1/scratch/dsu.local/bshakya/scratch/bshakya/YOLOv8/../yolov10/datasets/DOTAv1.5/images/val/P2271.jpg: 352x640 2 baseball diamonds, 19.5ms\n",
      "image 378/458 /mmfs1/scratch/dsu.local/bshakya/scratch/bshakya/YOLOv8/../yolov10/datasets/DOTAv1.5/images/val/P2285.jpg: 640x608 140 ships, 3 harbors, 34.6ms\n",
      "image 379/458 /mmfs1/scratch/dsu.local/bshakya/scratch/bshakya/YOLOv8/../yolov10/datasets/DOTAv1.5/images/val/P2286.jpg: 544x640 23 ships, 29 storage tanks, 16 harbors, 4 bridges, 20.8ms\n",
      "image 380/458 /mmfs1/scratch/dsu.local/bshakya/scratch/bshakya/YOLOv8/../yolov10/datasets/DOTAv1.5/images/val/P2294.jpg: 640x576 10 ships, 7 harbors, 28.0ms\n",
      "image 381/458 /mmfs1/scratch/dsu.local/bshakya/scratch/bshakya/YOLOv8/../yolov10/datasets/DOTAv1.5/images/val/P2310.jpg: 640x576 34 ships, 21.1ms\n",
      "image 382/458 /mmfs1/scratch/dsu.local/bshakya/scratch/bshakya/YOLOv8/../yolov10/datasets/DOTAv1.5/images/val/P2322.jpg: 512x640 31 ships, 22.5ms\n",
      "image 383/458 /mmfs1/scratch/dsu.local/bshakya/scratch/bshakya/YOLOv8/../yolov10/datasets/DOTAv1.5/images/val/P2330.jpg: 320x640 68 ships, 2 harbors, 16.8ms\n",
      "image 384/458 /mmfs1/scratch/dsu.local/bshakya/scratch/bshakya/YOLOv8/../yolov10/datasets/DOTAv1.5/images/val/P2331.jpg: 384x640 6 baseball diamonds, 1 bridge, 17.9ms\n",
      "image 385/458 /mmfs1/scratch/dsu.local/bshakya/scratch/bshakya/YOLOv8/../yolov10/datasets/DOTAv1.5/images/val/P2337.jpg: 640x640 199 storage tanks, 7 bridges, 33.5ms\n",
      "image 386/458 /mmfs1/scratch/dsu.local/bshakya/scratch/bshakya/YOLOv8/../yolov10/datasets/DOTAv1.5/images/val/P2342.jpg: 640x544 3 ground track fields, 3 soccer ball fields, 34.0ms\n",
      "image 387/458 /mmfs1/scratch/dsu.local/bshakya/scratch/bshakya/YOLOv8/../yolov10/datasets/DOTAv1.5/images/val/P2351.jpg: 608x640 1 harbor, 34.3ms\n",
      "image 388/458 /mmfs1/scratch/dsu.local/bshakya/scratch/bshakya/YOLOv8/../yolov10/datasets/DOTAv1.5/images/val/P2363.jpg: 576x640 12 storage tanks, 32.7ms\n",
      "image 389/458 /mmfs1/scratch/dsu.local/bshakya/scratch/bshakya/YOLOv8/../yolov10/datasets/DOTAv1.5/images/val/P2365.jpg: 544x640 5 harbors, 12 bridges, 21.9ms\n",
      "image 390/458 /mmfs1/scratch/dsu.local/bshakya/scratch/bshakya/YOLOv8/../yolov10/datasets/DOTAv1.5/images/val/P2374.jpg: 608x640 (no detections), 21.2ms\n",
      "image 391/458 /mmfs1/scratch/dsu.local/bshakya/scratch/bshakya/YOLOv8/../yolov10/datasets/DOTAv1.5/images/val/P2375.jpg: 640x480 1 baseball diamond, 4 roundabouts, 30.9ms\n",
      "image 392/458 /mmfs1/scratch/dsu.local/bshakya/scratch/bshakya/YOLOv8/../yolov10/datasets/DOTAv1.5/images/val/P2378.jpg: 576x640 (no detections), 19.9ms\n",
      "image 393/458 /mmfs1/scratch/dsu.local/bshakya/scratch/bshakya/YOLOv8/../yolov10/datasets/DOTAv1.5/images/val/P2385.jpg: 640x640 1 bridge, 20.8ms\n",
      "image 394/458 /mmfs1/scratch/dsu.local/bshakya/scratch/bshakya/YOLOv8/../yolov10/datasets/DOTAv1.5/images/val/P2393.jpg: 544x640 6 ships, 21 bridges, 22.0ms\n",
      "image 395/458 /mmfs1/scratch/dsu.local/bshakya/scratch/bshakya/YOLOv8/../yolov10/datasets/DOTAv1.5/images/val/P2394.jpg: 640x608 1 ground track field, 23.2ms\n",
      "image 396/458 /mmfs1/scratch/dsu.local/bshakya/scratch/bshakya/YOLOv8/../yolov10/datasets/DOTAv1.5/images/val/P2404.jpg: 480x640 (no detections), 30.9ms\n",
      "image 397/458 /mmfs1/scratch/dsu.local/bshakya/scratch/bshakya/YOLOv8/../yolov10/datasets/DOTAv1.5/images/val/P2408.jpg: 640x512 9 ground track fields, 11 soccer ball fields, 31.4ms\n",
      "image 398/458 /mmfs1/scratch/dsu.local/bshakya/scratch/bshakya/YOLOv8/../yolov10/datasets/DOTAv1.5/images/val/P2413.jpg: 608x640 (no detections), 22.3ms\n",
      "image 399/458 /mmfs1/scratch/dsu.local/bshakya/scratch/bshakya/YOLOv8/../yolov10/datasets/DOTAv1.5/images/val/P2420.jpg: 640x544 (no detections), 22.1ms\n",
      "image 400/458 /mmfs1/scratch/dsu.local/bshakya/scratch/bshakya/YOLOv8/../yolov10/datasets/DOTAv1.5/images/val/P2429.jpg: 640x512 3 ships, 2 harbors, 2 bridges, 19.6ms\n",
      "image 401/458 /mmfs1/scratch/dsu.local/bshakya/scratch/bshakya/YOLOv8/../yolov10/datasets/DOTAv1.5/images/val/P2446.jpg: 640x576 2 baseball diamonds, 5 roundabouts, 21.4ms\n",
      "image 402/458 /mmfs1/scratch/dsu.local/bshakya/scratch/bshakya/YOLOv8/../yolov10/datasets/DOTAv1.5/images/val/P2449.jpg: 640x512 3 planes, 21.1ms\n",
      "image 403/458 /mmfs1/scratch/dsu.local/bshakya/scratch/bshakya/YOLOv8/../yolov10/datasets/DOTAv1.5/images/val/P2450.jpg: 640x640 (no detections), 20.6ms\n",
      "image 404/458 /mmfs1/scratch/dsu.local/bshakya/scratch/bshakya/YOLOv8/../yolov10/datasets/DOTAv1.5/images/val/P2455.jpg: 640x544 1 tennis court, 20.9ms\n",
      "image 405/458 /mmfs1/scratch/dsu.local/bshakya/scratch/bshakya/YOLOv8/../yolov10/datasets/DOTAv1.5/images/val/P2462.jpg: 640x576 1 small vehicle, 2 roundabouts, 20.8ms\n",
      "image 406/458 /mmfs1/scratch/dsu.local/bshakya/scratch/bshakya/YOLOv8/../yolov10/datasets/DOTAv1.5/images/val/P2477.jpg: 640x512 (no detections), 19.4ms\n",
      "image 407/458 /mmfs1/scratch/dsu.local/bshakya/scratch/bshakya/YOLOv8/../yolov10/datasets/DOTAv1.5/images/val/P2478.jpg: 608x640 (no detections), 22.0ms\n",
      "image 408/458 /mmfs1/scratch/dsu.local/bshakya/scratch/bshakya/YOLOv8/../yolov10/datasets/DOTAv1.5/images/val/P2481.jpg: 640x608 (no detections), 21.7ms\n",
      "image 409/458 /mmfs1/scratch/dsu.local/bshakya/scratch/bshakya/YOLOv8/../yolov10/datasets/DOTAv1.5/images/val/P2488.jpg: 640x608 1 roundabout, 21.5ms\n",
      "image 410/458 /mmfs1/scratch/dsu.local/bshakya/scratch/bshakya/YOLOv8/../yolov10/datasets/DOTAv1.5/images/val/P2502.jpg: 480x640 8 tennis courts, 7 ground track fields, 14 soccer ball fields, 19.3ms\n",
      "image 411/458 /mmfs1/scratch/dsu.local/bshakya/scratch/bshakya/YOLOv8/../yolov10/datasets/DOTAv1.5/images/val/P2504.jpg: 640x512 6 ground track fields, 9 soccer ball fields, 19.8ms\n",
      "image 412/458 /mmfs1/scratch/dsu.local/bshakya/scratch/bshakya/YOLOv8/../yolov10/datasets/DOTAv1.5/images/val/P2539.jpg: 640x544 1 storage tank, 21.4ms\n",
      "image 413/458 /mmfs1/scratch/dsu.local/bshakya/scratch/bshakya/YOLOv8/../yolov10/datasets/DOTAv1.5/images/val/P2541.jpg: 640x640 (no detections), 212.4ms\n",
      "image 414/458 /mmfs1/scratch/dsu.local/bshakya/scratch/bshakya/YOLOv8/../yolov10/datasets/DOTAv1.5/images/val/P2542.jpg: 640x544 5 ground track fields, 4 soccer ball fields, 20.9ms\n",
      "image 415/458 /mmfs1/scratch/dsu.local/bshakya/scratch/bshakya/YOLOv8/../yolov10/datasets/DOTAv1.5/images/val/P2547.jpg: 416x640 (no detections), 144.9ms\n",
      "image 416/458 /mmfs1/scratch/dsu.local/bshakya/scratch/bshakya/YOLOv8/../yolov10/datasets/DOTAv1.5/images/val/P2563.jpg: 416x640 34 tennis courts, 8 ground track fields, 3 small vehicles, 12 soccer ball fields, 17.7ms\n",
      "image 417/458 /mmfs1/scratch/dsu.local/bshakya/scratch/bshakya/YOLOv8/../yolov10/datasets/DOTAv1.5/images/val/P2570.jpg: 544x640 11 ground track fields, 24 small vehicles, 59 soccer ball fields, 20.6ms\n",
      "image 418/458 /mmfs1/scratch/dsu.local/bshakya/scratch/bshakya/YOLOv8/../yolov10/datasets/DOTAv1.5/images/val/P2571.jpg: 640x480 93 tennis courts, 15 large vehicles, 15 small vehicles, 19.6ms\n",
      "image 419/458 /mmfs1/scratch/dsu.local/bshakya/scratch/bshakya/YOLOv8/../yolov10/datasets/DOTAv1.5/images/val/P2577.jpg: 544x640 79 tennis courts, 2 large vehicles, 21.6ms\n",
      "image 420/458 /mmfs1/scratch/dsu.local/bshakya/scratch/bshakya/YOLOv8/../yolov10/datasets/DOTAv1.5/images/val/P2580.jpg: 640x320 117 tennis courts, 8 ground track fields, 26 small vehicles, 12 soccer ball fields, 27.1ms\n",
      "image 421/458 /mmfs1/scratch/dsu.local/bshakya/scratch/bshakya/YOLOv8/../yolov10/datasets/DOTAv1.5/images/val/P2582.jpg: 640x640 86 tennis courts, 4 ground track fields, 82 small vehicles, 49 soccer ball fields, 21.5ms\n",
      "image 422/458 /mmfs1/scratch/dsu.local/bshakya/scratch/bshakya/YOLOv8/../yolov10/datasets/DOTAv1.5/images/val/P2587.jpg: 480x640 22 tennis courts, 11 small vehicles, 16 soccer ball fields, 6 swimming pools, 18.1ms\n",
      "image 423/458 /mmfs1/scratch/dsu.local/bshakya/scratch/bshakya/YOLOv8/../yolov10/datasets/DOTAv1.5/images/val/P2592.jpg: 480x640 100 tennis courts, 5 ground track fields, 32 small vehicles, 21 soccer ball fields, 18.7ms\n",
      "image 424/458 /mmfs1/scratch/dsu.local/bshakya/scratch/bshakya/YOLOv8/../yolov10/datasets/DOTAv1.5/images/val/P2593.jpg: 640x480 10 baseball diamonds, 73 tennis courts, 10 ground track fields, 14 small vehicles, 22 soccer ball fields, 19.0ms\n",
      "image 425/458 /mmfs1/scratch/dsu.local/bshakya/scratch/bshakya/YOLOv8/../yolov10/datasets/DOTAv1.5/images/val/P2595.jpg: 640x384 108 tennis courts, 10 ground track fields, 1 small vehicle, 19 soccer ball fields, 28.2ms\n",
      "image 426/458 /mmfs1/scratch/dsu.local/bshakya/scratch/bshakya/YOLOv8/../yolov10/datasets/DOTAv1.5/images/val/P2598.jpg: 576x640 28 tennis courts, 8 ground track fields, 1 large vehicle, 47 small vehicles, 21 soccer ball fields, 20.5ms\n",
      "image 427/458 /mmfs1/scratch/dsu.local/bshakya/scratch/bshakya/YOLOv8/../yolov10/datasets/DOTAv1.5/images/val/P2599.jpg: 640x640 100 tennis courts, 26 small vehicles, 19.9ms\n",
      "image 428/458 /mmfs1/scratch/dsu.local/bshakya/scratch/bshakya/YOLOv8/../yolov10/datasets/DOTAv1.5/images/val/P2608.jpg: 640x576 12 large vehicles, 138 small vehicles, 20.1ms\n",
      "image 429/458 /mmfs1/scratch/dsu.local/bshakya/scratch/bshakya/YOLOv8/../yolov10/datasets/DOTAv1.5/images/val/P2610.jpg: 640x512 26 large vehicles, 68 small vehicles, 19.4ms\n",
      "image 430/458 /mmfs1/scratch/dsu.local/bshakya/scratch/bshakya/YOLOv8/../yolov10/datasets/DOTAv1.5/images/val/P2617.jpg: 608x640 298 large vehicles, 2 small vehicles, 21.0ms\n",
      "image 431/458 /mmfs1/scratch/dsu.local/bshakya/scratch/bshakya/YOLOv8/../yolov10/datasets/DOTAv1.5/images/val/P2625.jpg: 384x640 300 large vehicles, 17.8ms\n",
      "image 432/458 /mmfs1/scratch/dsu.local/bshakya/scratch/bshakya/YOLOv8/../yolov10/datasets/DOTAv1.5/images/val/P2630.jpg: 512x640 266 large vehicles, 34 small vehicles, 33.8ms\n",
      "image 433/458 /mmfs1/scratch/dsu.local/bshakya/scratch/bshakya/YOLOv8/../yolov10/datasets/DOTAv1.5/images/val/P2645.jpg: 480x640 42 ships, 258 storage tanks, 17.9ms\n",
      "image 434/458 /mmfs1/scratch/dsu.local/bshakya/scratch/bshakya/YOLOv8/../yolov10/datasets/DOTAv1.5/images/val/P2678.jpg: 416x640 186 ships, 17 storage tanks, 17.4ms\n",
      "image 435/458 /mmfs1/scratch/dsu.local/bshakya/scratch/bshakya/YOLOv8/../yolov10/datasets/DOTAv1.5/images/val/P2689.jpg: 384x640 39 planes, 17.8ms\n",
      "image 436/458 /mmfs1/scratch/dsu.local/bshakya/scratch/bshakya/YOLOv8/../yolov10/datasets/DOTAv1.5/images/val/P2695.jpg: 384x640 29 storage tanks, 2 bridges, 17.2ms\n",
      "image 437/458 /mmfs1/scratch/dsu.local/bshakya/scratch/bshakya/YOLOv8/../yolov10/datasets/DOTAv1.5/images/val/P2701.jpg: 448x640 11 ships, 53 storage tanks, 31.8ms\n",
      "image 438/458 /mmfs1/scratch/dsu.local/bshakya/scratch/bshakya/YOLOv8/../yolov10/datasets/DOTAv1.5/images/val/P2709.jpg: 544x640 39 ships, 112 storage tanks, 142.5ms\n",
      "image 439/458 /mmfs1/scratch/dsu.local/bshakya/scratch/bshakya/YOLOv8/../yolov10/datasets/DOTAv1.5/images/val/P2714.jpg: 352x640 (no detections), 2356.0ms\n",
      "image 440/458 /mmfs1/scratch/dsu.local/bshakya/scratch/bshakya/YOLOv8/../yolov10/datasets/DOTAv1.5/images/val/P2718.jpg: 352x640 (no detections), 1551.0ms\n",
      "image 441/458 /mmfs1/scratch/dsu.local/bshakya/scratch/bshakya/YOLOv8/../yolov10/datasets/DOTAv1.5/images/val/P2721.jpg: 352x640 (no detections), 243.9ms\n",
      "image 442/458 /mmfs1/scratch/dsu.local/bshakya/scratch/bshakya/YOLOv8/../yolov10/datasets/DOTAv1.5/images/val/P2722.jpg: 416x640 (no detections), 429.6ms\n",
      "image 443/458 /mmfs1/scratch/dsu.local/bshakya/scratch/bshakya/YOLOv8/../yolov10/datasets/DOTAv1.5/images/val/P2724.jpg: 352x640 (no detections), 17.2ms\n",
      "image 444/458 /mmfs1/scratch/dsu.local/bshakya/scratch/bshakya/YOLOv8/../yolov10/datasets/DOTAv1.5/images/val/P2726.jpg: 608x640 123 ships, 17 harbors, 567.1ms\n",
      "image 445/458 /mmfs1/scratch/dsu.local/bshakya/scratch/bshakya/YOLOv8/../yolov10/datasets/DOTAv1.5/images/val/P2733.jpg: 608x640 2 ships, 4 storage tanks, 2 baseball diamonds, 1 ground track field, 209.8ms\n",
      "image 446/458 /mmfs1/scratch/dsu.local/bshakya/scratch/bshakya/YOLOv8/../yolov10/datasets/DOTAv1.5/images/val/P2745.jpg: 448x640 44 storage tanks, 416.5ms\n",
      "image 447/458 /mmfs1/scratch/dsu.local/bshakya/scratch/bshakya/YOLOv8/../yolov10/datasets/DOTAv1.5/images/val/P2754.jpg: 640x608 1 storage tank, 3 baseball diamonds, 6 ground track fields, 10 soccer ball fields, 4 swimming pools, 90.3ms\n",
      "image 448/458 /mmfs1/scratch/dsu.local/bshakya/scratch/bshakya/YOLOv8/../yolov10/datasets/DOTAv1.5/images/val/P2758.jpg: 384x640 70 ships, 498.2ms\n",
      "image 449/458 /mmfs1/scratch/dsu.local/bshakya/scratch/bshakya/YOLOv8/../yolov10/datasets/DOTAv1.5/images/val/P2766.jpg: 640x640 6 storage tanks, 26.5ms\n",
      "image 450/458 /mmfs1/scratch/dsu.local/bshakya/scratch/bshakya/YOLOv8/../yolov10/datasets/DOTAv1.5/images/val/P2768.jpg: 640x416 4 ground track fields, 42.5ms\n",
      "image 451/458 /mmfs1/scratch/dsu.local/bshakya/scratch/bshakya/YOLOv8/../yolov10/datasets/DOTAv1.5/images/val/P2771.jpg: 512x640 45 ships, 1 swimming pool, 21.1ms\n",
      "image 452/458 /mmfs1/scratch/dsu.local/bshakya/scratch/bshakya/YOLOv8/../yolov10/datasets/DOTAv1.5/images/val/P2778.jpg: 640x512 142 planes, 2 large vehicles, 342.9ms\n",
      "image 453/458 /mmfs1/scratch/dsu.local/bshakya/scratch/bshakya/YOLOv8/../yolov10/datasets/DOTAv1.5/images/val/P2779.jpg: 576x640 274 large vehicles, 26 small vehicles, 162.9ms\n",
      "image 454/458 /mmfs1/scratch/dsu.local/bshakya/scratch/bshakya/YOLOv8/../yolov10/datasets/DOTAv1.5/images/val/P2781.jpg: 416x640 1 basketball court, 260 large vehicles, 37 small vehicles, 2 soccer ball fields, 324.0ms\n",
      "image 455/458 /mmfs1/scratch/dsu.local/bshakya/scratch/bshakya/YOLOv8/../yolov10/datasets/DOTAv1.5/images/val/P2789.jpg: 640x640 52 ships, 20 harbors, 6 small vehicles, 20.8ms\n",
      "image 456/458 /mmfs1/scratch/dsu.local/bshakya/scratch/bshakya/YOLOv8/../yolov10/datasets/DOTAv1.5/images/val/P2791.jpg: 640x544 206 planes, 1 swimming pool, 725.7ms\n",
      "image 457/458 /mmfs1/scratch/dsu.local/bshakya/scratch/bshakya/YOLOv8/../yolov10/datasets/DOTAv1.5/images/val/P2794.jpg: 640x640 21 ships, 4 tennis courts, 4 ground track fields, 4 harbors, 12 large vehicles, 11 small vehicles, 4 soccer ball fields, 21.6ms\n",
      "image 458/458 /mmfs1/scratch/dsu.local/bshakya/scratch/bshakya/YOLOv8/../yolov10/datasets/DOTAv1.5/images/val/P2802.jpg: 576x640 208 planes, 21.3ms\n",
      "Speed: 2.5ms preprocess, 125.7ms inference, 1.1ms postprocess per image at shape (1, 3, 576, 640)\n",
      "Results saved to \u001b[1m/mmfs1/scratch/dsu.local/bshakya/scratch/bshakya/yolov10/yolov10/runs/detect/predict20\u001b[0m\n",
      "💡 Learn more at https://docs.ultralytics.com/modes/predict\n"
     ]
    }
   ],
   "source": [
    "!yolo predict model=../yolov10/yolov10/runs/detect/train43/weights/last.pt source='../yolov10/datasets/DOTAv1.5/images/val/'"
   ]
  },
  {
   "cell_type": "code",
   "execution_count": 19,
   "id": "dd60b47f-36f9-4dc1-a5bd-45f9f595d4e7",
   "metadata": {},
   "outputs": [
    {
     "name": "stdout",
     "output_type": "stream",
     "text": [
      "test.cache  train.cache      \u001b[0m\u001b[01;34mval\u001b[0m/       \u001b[01;34mval_original\u001b[0m/\n",
      "\u001b[01;34mtrain\u001b[0m/      \u001b[01;34mtrain_original\u001b[0m/  val.cache\n"
     ]
    }
   ],
   "source": [
    "ls ../yolov10/datasets/DOTAv1.5/labels"
   ]
  }
 ],
 "metadata": {
  "kernelspec": {
   "display_name": "Python 3 (ipykernel)",
   "language": "python",
   "name": "python3"
  },
  "language_info": {
   "codemirror_mode": {
    "name": "ipython",
    "version": 3
   },
   "file_extension": ".py",
   "mimetype": "text/x-python",
   "name": "python",
   "nbconvert_exporter": "python",
   "pygments_lexer": "ipython3",
   "version": "3.10.15"
  }
 },
 "nbformat": 4,
 "nbformat_minor": 5
}
