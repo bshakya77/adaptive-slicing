{
 "cells": [
  {
   "cell_type": "code",
   "execution_count": 1,
   "id": "fa6b38a9-bd3e-41b4-9d84-a1ce56bf37a1",
   "metadata": {},
   "outputs": [
    {
     "name": "stdout",
     "output_type": "stream",
     "text": [
      "Defaulting to user installation because normal site-packages is not writeable\n",
      "Requirement already satisfied: ipywidgets in /mmfs1/home/dsu.local/bshakya/.local/lib/python3.9/site-packages (8.1.5)\n",
      "Requirement already satisfied: comm>=0.1.3 in /mmfs1/home/dsu.local/bshakya/.local/lib/python3.9/site-packages (from ipywidgets) (0.2.2)\n",
      "Requirement already satisfied: ipython>=6.1.0 in /mmfs1/cm/shared/apps_local/python/shared_envs/torch11.8/lib/python3.9/site-packages (from ipywidgets) (8.15.0)\n",
      "Requirement already satisfied: traitlets>=4.3.1 in /mmfs1/cm/shared/apps_local/python/shared_envs/torch11.8/lib/python3.9/site-packages (from ipywidgets) (5.7.1)\n",
      "Requirement already satisfied: widgetsnbextension~=4.0.12 in /mmfs1/home/dsu.local/bshakya/.local/lib/python3.9/site-packages (from ipywidgets) (4.0.13)\n",
      "Requirement already satisfied: jupyterlab-widgets~=3.0.12 in /mmfs1/home/dsu.local/bshakya/.local/lib/python3.9/site-packages (from ipywidgets) (3.0.13)\n",
      "Requirement already satisfied: backcall in /mmfs1/cm/shared/apps_local/python/shared_envs/torch11.8/lib/python3.9/site-packages (from ipython>=6.1.0->ipywidgets) (0.2.0)\n",
      "Requirement already satisfied: decorator in /mmfs1/cm/shared/apps_local/python/shared_envs/torch11.8/lib/python3.9/site-packages (from ipython>=6.1.0->ipywidgets) (5.1.1)\n",
      "Requirement already satisfied: jedi>=0.16 in /mmfs1/cm/shared/apps_local/python/shared_envs/torch11.8/lib/python3.9/site-packages (from ipython>=6.1.0->ipywidgets) (0.18.1)\n",
      "Requirement already satisfied: matplotlib-inline in /mmfs1/cm/shared/apps_local/python/shared_envs/torch11.8/lib/python3.9/site-packages (from ipython>=6.1.0->ipywidgets) (0.1.6)\n",
      "Requirement already satisfied: pickleshare in /mmfs1/cm/shared/apps_local/python/shared_envs/torch11.8/lib/python3.9/site-packages (from ipython>=6.1.0->ipywidgets) (0.7.5)\n",
      "Requirement already satisfied: prompt-toolkit!=3.0.37,<3.1.0,>=3.0.30 in /mmfs1/cm/shared/apps_local/python/shared_envs/torch11.8/lib/python3.9/site-packages (from ipython>=6.1.0->ipywidgets) (3.0.43)\n",
      "Requirement already satisfied: pygments>=2.4.0 in /mmfs1/cm/shared/apps_local/python/shared_envs/torch11.8/lib/python3.9/site-packages (from ipython>=6.1.0->ipywidgets) (2.15.1)\n",
      "Requirement already satisfied: stack-data in /mmfs1/cm/shared/apps_local/python/shared_envs/torch11.8/lib/python3.9/site-packages (from ipython>=6.1.0->ipywidgets) (0.2.0)\n",
      "Requirement already satisfied: typing-extensions in /mmfs1/cm/shared/apps_local/python/shared_envs/torch11.8/lib/python3.9/site-packages (from ipython>=6.1.0->ipywidgets) (4.9.0)\n",
      "Requirement already satisfied: exceptiongroup in /mmfs1/cm/shared/apps_local/python/shared_envs/torch11.8/lib/python3.9/site-packages (from ipython>=6.1.0->ipywidgets) (1.2.0)\n",
      "Requirement already satisfied: pexpect>4.3 in /mmfs1/cm/shared/apps_local/python/shared_envs/torch11.8/lib/python3.9/site-packages (from ipython>=6.1.0->ipywidgets) (4.8.0)\n",
      "Requirement already satisfied: parso<0.9.0,>=0.8.0 in /mmfs1/cm/shared/apps_local/python/shared_envs/torch11.8/lib/python3.9/site-packages (from jedi>=0.16->ipython>=6.1.0->ipywidgets) (0.8.3)\n",
      "Requirement already satisfied: ptyprocess>=0.5 in /mmfs1/cm/shared/apps_local/python/shared_envs/torch11.8/lib/python3.9/site-packages (from pexpect>4.3->ipython>=6.1.0->ipywidgets) (0.7.0)\n",
      "Requirement already satisfied: wcwidth in /mmfs1/cm/shared/apps_local/python/shared_envs/torch11.8/lib/python3.9/site-packages (from prompt-toolkit!=3.0.37,<3.1.0,>=3.0.30->ipython>=6.1.0->ipywidgets) (0.2.5)\n",
      "Requirement already satisfied: executing in /mmfs1/cm/shared/apps_local/python/shared_envs/torch11.8/lib/python3.9/site-packages (from stack-data->ipython>=6.1.0->ipywidgets) (0.8.3)\n",
      "Requirement already satisfied: asttokens in /mmfs1/cm/shared/apps_local/python/shared_envs/torch11.8/lib/python3.9/site-packages (from stack-data->ipython>=6.1.0->ipywidgets) (2.0.5)\n",
      "Requirement already satisfied: pure-eval in /mmfs1/cm/shared/apps_local/python/shared_envs/torch11.8/lib/python3.9/site-packages (from stack-data->ipython>=6.1.0->ipywidgets) (0.2.2)\n",
      "Requirement already satisfied: six in /mmfs1/cm/shared/apps_local/python/shared_envs/torch11.8/lib/python3.9/site-packages (from asttokens->stack-data->ipython>=6.1.0->ipywidgets) (1.16.0)\n",
      "\u001b[33m(Deprecated) Installing extensions with the jupyter labextension install command is now deprecated and will be removed in a future major version of JupyterLab.\n",
      "\n",
      "Users should manage prebuilt extensions with package managers like pip and conda, and extension authors are encouraged to distribute their extensions as prebuilt packages \u001b[0m\n",
      "/home/dsu.local/bshakya/.local/lib/python3.9/site-packages/jupyterlab/debuglog.py:54: UserWarning: An error occurred.\n",
      "  warnings.warn(\"An error occurred.\")\n",
      "/home/dsu.local/bshakya/.local/lib/python3.9/site-packages/jupyterlab/debuglog.py:55: UserWarning: ValueError: Please install Node.js and npm before continuing installation. You may be able to install Node.js from your package manager, from conda, or directly from the Node.js website (https://nodejs.org).\n",
      "  warnings.warn(msg[-1].strip())\n",
      "/home/dsu.local/bshakya/.local/lib/python3.9/site-packages/jupyterlab/debuglog.py:56: UserWarning: See the log file for details: /tmp/jupyterlab-debug-sy0rjt6j.log\n",
      "  warnings.warn(f\"See the log file for details: {log_path!s}\")\n"
     ]
    }
   ],
   "source": [
    "# in your terminal\n",
    "!pip install ipywidgets\n",
    "!jupyter labextension install @jupyter-widgets/jupyterlab-manager"
   ]
  },
  {
   "cell_type": "code",
   "execution_count": 1,
   "id": "a76b834d-0a33-4fc7-924e-2eb050ec8b5d",
   "metadata": {},
   "outputs": [
    {
     "name": "stdout",
     "output_type": "stream",
     "text": [
      "Defaulting to user installation because normal site-packages is not writeable\n",
      "Requirement already satisfied: gradio in /mmfs1/home/dsu.local/bshakya/.local/lib/python3.9/site-packages (4.44.1)\n",
      "Requirement already satisfied: aiofiles<24.0,>=22.0 in /mmfs1/home/dsu.local/bshakya/.local/lib/python3.9/site-packages (from gradio) (23.2.1)\n",
      "Requirement already satisfied: anyio<5.0,>=3.0 in /mmfs1/home/dsu.local/bshakya/.local/lib/python3.9/site-packages (from gradio) (4.8.0)\n",
      "Requirement already satisfied: fastapi<1.0 in /mmfs1/home/dsu.local/bshakya/.local/lib/python3.9/site-packages (from gradio) (0.115.12)\n",
      "Requirement already satisfied: ffmpy in /mmfs1/home/dsu.local/bshakya/.local/lib/python3.9/site-packages (from gradio) (0.5.0)\n",
      "Requirement already satisfied: gradio-client==1.3.0 in /mmfs1/home/dsu.local/bshakya/.local/lib/python3.9/site-packages (from gradio) (1.3.0)\n",
      "Requirement already satisfied: httpx>=0.24.1 in /mmfs1/home/dsu.local/bshakya/.local/lib/python3.9/site-packages (from gradio) (0.28.1)\n",
      "Requirement already satisfied: huggingface-hub>=0.19.3 in /mmfs1/cm/shared/apps_local/python/shared_envs/torch11.8/lib/python3.9/site-packages (from gradio) (0.20.3)\n",
      "Requirement already satisfied: importlib-resources<7.0,>=1.3 in /mmfs1/cm/shared/apps_local/python/shared_envs/torch11.8/lib/python3.9/site-packages (from gradio) (6.1.1)\n",
      "Requirement already satisfied: jinja2<4.0 in /mmfs1/cm/shared/apps_local/python/shared_envs/torch11.8/lib/python3.9/site-packages (from gradio) (3.1.3)\n",
      "Requirement already satisfied: markupsafe~=2.0 in /mmfs1/cm/shared/apps_local/python/shared_envs/torch11.8/lib/python3.9/site-packages (from gradio) (2.1.4)\n",
      "Requirement already satisfied: matplotlib~=3.0 in /mmfs1/cm/shared/apps_local/python/shared_envs/torch11.8/lib/python3.9/site-packages (from gradio) (3.8.2)\n",
      "Requirement already satisfied: numpy<3.0,>=1.0 in /mmfs1/home/dsu.local/bshakya/.local/lib/python3.9/site-packages (from gradio) (1.26.4)\n",
      "Requirement already satisfied: orjson~=3.0 in /mmfs1/home/dsu.local/bshakya/.local/lib/python3.9/site-packages (from gradio) (3.10.18)\n",
      "Requirement already satisfied: packaging in /mmfs1/cm/shared/apps_local/python/shared_envs/torch11.8/lib/python3.9/site-packages (from gradio) (23.1)\n",
      "Requirement already satisfied: pandas<3.0,>=1.0 in /mmfs1/cm/shared/apps_local/python/shared_envs/torch11.8/lib/python3.9/site-packages (from gradio) (2.2.0)\n",
      "Requirement already satisfied: pillow<11.0,>=8.0 in /mmfs1/cm/shared/apps_local/python/shared_envs/torch11.8/lib/python3.9/site-packages (from gradio) (10.2.0)\n",
      "Requirement already satisfied: pydantic>=2.0 in /mmfs1/cm/shared/apps_local/python/shared_envs/torch11.8/lib/python3.9/site-packages (from gradio) (2.5.3)\n",
      "Requirement already satisfied: pydub in /mmfs1/home/dsu.local/bshakya/.local/lib/python3.9/site-packages (from gradio) (0.25.1)\n",
      "Requirement already satisfied: python-multipart>=0.0.9 in /mmfs1/home/dsu.local/bshakya/.local/lib/python3.9/site-packages (from gradio) (0.0.20)\n",
      "Requirement already satisfied: pyyaml<7.0,>=5.0 in /mmfs1/cm/shared/apps_local/python/shared_envs/torch11.8/lib/python3.9/site-packages (from gradio) (6.0.1)\n",
      "Requirement already satisfied: ruff>=0.2.2 in /mmfs1/home/dsu.local/bshakya/.local/lib/python3.9/site-packages (from gradio) (0.11.7)\n",
      "Requirement already satisfied: semantic-version~=2.0 in /mmfs1/home/dsu.local/bshakya/.local/lib/python3.9/site-packages (from gradio) (2.10.0)\n",
      "Requirement already satisfied: tomlkit==0.12.0 in /mmfs1/home/dsu.local/bshakya/.local/lib/python3.9/site-packages (from gradio) (0.12.0)\n",
      "Requirement already satisfied: typer<1.0,>=0.12 in /mmfs1/home/dsu.local/bshakya/.local/lib/python3.9/site-packages (from gradio) (0.15.3)\n",
      "Requirement already satisfied: typing-extensions~=4.0 in /mmfs1/cm/shared/apps_local/python/shared_envs/torch11.8/lib/python3.9/site-packages (from gradio) (4.9.0)\n",
      "Requirement already satisfied: urllib3~=2.0 in /mmfs1/home/dsu.local/bshakya/.local/lib/python3.9/site-packages (from gradio) (2.4.0)\n",
      "Requirement already satisfied: uvicorn>=0.14.0 in /mmfs1/home/dsu.local/bshakya/.local/lib/python3.9/site-packages (from gradio) (0.34.2)\n",
      "Requirement already satisfied: fsspec in /mmfs1/cm/shared/apps_local/python/shared_envs/torch11.8/lib/python3.9/site-packages (from gradio-client==1.3.0->gradio) (2023.10.0)\n",
      "Requirement already satisfied: websockets<13.0,>=10.0 in /mmfs1/home/dsu.local/bshakya/.local/lib/python3.9/site-packages (from gradio-client==1.3.0->gradio) (12.0)\n",
      "Requirement already satisfied: exceptiongroup>=1.0.2 in /mmfs1/cm/shared/apps_local/python/shared_envs/torch11.8/lib/python3.9/site-packages (from anyio<5.0,>=3.0->gradio) (1.2.0)\n",
      "Requirement already satisfied: idna>=2.8 in /mmfs1/home/dsu.local/bshakya/.local/lib/python3.9/site-packages (from anyio<5.0,>=3.0->gradio) (3.7)\n",
      "Requirement already satisfied: sniffio>=1.1 in /mmfs1/cm/shared/apps_local/python/shared_envs/torch11.8/lib/python3.9/site-packages (from anyio<5.0,>=3.0->gradio) (1.3.0)\n",
      "Requirement already satisfied: starlette<0.47.0,>=0.40.0 in /mmfs1/home/dsu.local/bshakya/.local/lib/python3.9/site-packages (from fastapi<1.0->gradio) (0.46.2)\n",
      "Requirement already satisfied: certifi in /mmfs1/cm/shared/apps_local/python/shared_envs/torch11.8/lib/python3.9/site-packages (from httpx>=0.24.1->gradio) (2023.11.17)\n",
      "Requirement already satisfied: httpcore==1.* in /mmfs1/home/dsu.local/bshakya/.local/lib/python3.9/site-packages (from httpx>=0.24.1->gradio) (1.0.7)\n",
      "Requirement already satisfied: h11<0.15,>=0.13 in /mmfs1/cm/shared/apps_local/python/shared_envs/torch11.8/lib/python3.9/site-packages (from httpcore==1.*->httpx>=0.24.1->gradio) (0.14.0)\n",
      "Requirement already satisfied: filelock in /mmfs1/cm/shared/apps_local/python/shared_envs/torch11.8/lib/python3.9/site-packages (from huggingface-hub>=0.19.3->gradio) (3.9.0)\n",
      "Requirement already satisfied: requests in /mmfs1/cm/shared/apps_local/python/shared_envs/torch11.8/lib/python3.9/site-packages (from huggingface-hub>=0.19.3->gradio) (2.31.0)\n",
      "Requirement already satisfied: tqdm>=4.42.1 in /mmfs1/cm/shared/apps_local/python/shared_envs/torch11.8/lib/python3.9/site-packages (from huggingface-hub>=0.19.3->gradio) (4.66.1)\n",
      "Requirement already satisfied: zipp>=3.1.0 in /mmfs1/cm/shared/apps_local/python/shared_envs/torch11.8/lib/python3.9/site-packages (from importlib-resources<7.0,>=1.3->gradio) (3.17.0)\n",
      "Requirement already satisfied: contourpy>=1.0.1 in /mmfs1/cm/shared/apps_local/python/shared_envs/torch11.8/lib/python3.9/site-packages (from matplotlib~=3.0->gradio) (1.2.0)\n",
      "Requirement already satisfied: cycler>=0.10 in /mmfs1/cm/shared/apps_local/python/shared_envs/torch11.8/lib/python3.9/site-packages (from matplotlib~=3.0->gradio) (0.12.1)\n",
      "Requirement already satisfied: fonttools>=4.22.0 in /mmfs1/cm/shared/apps_local/python/shared_envs/torch11.8/lib/python3.9/site-packages (from matplotlib~=3.0->gradio) (4.47.2)\n",
      "Requirement already satisfied: kiwisolver>=1.3.1 in /mmfs1/cm/shared/apps_local/python/shared_envs/torch11.8/lib/python3.9/site-packages (from matplotlib~=3.0->gradio) (1.4.5)\n",
      "Requirement already satisfied: pyparsing>=2.3.1 in /mmfs1/cm/shared/apps_local/python/shared_envs/torch11.8/lib/python3.9/site-packages (from matplotlib~=3.0->gradio) (3.1.1)\n",
      "Requirement already satisfied: python-dateutil>=2.7 in /mmfs1/cm/shared/apps_local/python/shared_envs/torch11.8/lib/python3.9/site-packages (from matplotlib~=3.0->gradio) (2.8.2)\n",
      "Requirement already satisfied: pytz>=2020.1 in /mmfs1/cm/shared/apps_local/python/shared_envs/torch11.8/lib/python3.9/site-packages (from pandas<3.0,>=1.0->gradio) (2023.3.post1)\n",
      "Requirement already satisfied: tzdata>=2022.7 in /mmfs1/cm/shared/apps_local/python/shared_envs/torch11.8/lib/python3.9/site-packages (from pandas<3.0,>=1.0->gradio) (2023.4)\n",
      "Requirement already satisfied: annotated-types>=0.4.0 in /mmfs1/cm/shared/apps_local/python/shared_envs/torch11.8/lib/python3.9/site-packages (from pydantic>=2.0->gradio) (0.6.0)\n",
      "Requirement already satisfied: pydantic-core==2.14.6 in /mmfs1/cm/shared/apps_local/python/shared_envs/torch11.8/lib/python3.9/site-packages (from pydantic>=2.0->gradio) (2.14.6)\n",
      "Requirement already satisfied: click>=8.0.0 in /mmfs1/home/dsu.local/bshakya/.local/lib/python3.9/site-packages (from typer<1.0,>=0.12->gradio) (8.1.8)\n",
      "Requirement already satisfied: shellingham>=1.3.0 in /mmfs1/home/dsu.local/bshakya/.local/lib/python3.9/site-packages (from typer<1.0,>=0.12->gradio) (1.5.4)\n",
      "Requirement already satisfied: rich>=10.11.0 in /mmfs1/home/dsu.local/bshakya/.local/lib/python3.9/site-packages (from typer<1.0,>=0.12->gradio) (13.9.4)\n",
      "Requirement already satisfied: six>=1.5 in /mmfs1/cm/shared/apps_local/python/shared_envs/torch11.8/lib/python3.9/site-packages (from python-dateutil>=2.7->matplotlib~=3.0->gradio) (1.16.0)\n",
      "Requirement already satisfied: markdown-it-py>=2.2.0 in /mmfs1/home/dsu.local/bshakya/.local/lib/python3.9/site-packages (from rich>=10.11.0->typer<1.0,>=0.12->gradio) (3.0.0)\n",
      "Requirement already satisfied: pygments<3.0.0,>=2.13.0 in /mmfs1/cm/shared/apps_local/python/shared_envs/torch11.8/lib/python3.9/site-packages (from rich>=10.11.0->typer<1.0,>=0.12->gradio) (2.15.1)\n",
      "Requirement already satisfied: charset-normalizer<4,>=2 in /mmfs1/cm/shared/apps_local/python/shared_envs/torch11.8/lib/python3.9/site-packages (from requests->huggingface-hub>=0.19.3->gradio) (3.3.2)\n",
      "Requirement already satisfied: mdurl~=0.1 in /mmfs1/home/dsu.local/bshakya/.local/lib/python3.9/site-packages (from markdown-it-py>=2.2.0->rich>=10.11.0->typer<1.0,>=0.12->gradio) (0.1.2)\n"
     ]
    }
   ],
   "source": [
    "!pip install --upgrade gradio"
   ]
  },
  {
   "cell_type": "code",
   "execution_count": 7,
   "id": "f4fa64fc-0cbe-4f03-8499-763a47872081",
   "metadata": {},
   "outputs": [
    {
     "name": "stdout",
     "output_type": "stream",
     "text": [
      "Defaulting to user installation because normal site-packages is not writeable\n",
      "Collecting plotly\n",
      "  Downloading plotly-6.0.1-py3-none-any.whl.metadata (6.7 kB)\n",
      "Collecting narwhals>=1.15.1 (from plotly)\n",
      "  Downloading narwhals-1.37.1-py3-none-any.whl.metadata (9.3 kB)\n",
      "Requirement already satisfied: packaging in /mmfs1/cm/shared/apps_local/python/shared_envs/torch11.8/lib/python3.9/site-packages (from plotly) (23.1)\n",
      "Downloading plotly-6.0.1-py3-none-any.whl (14.8 MB)\n",
      "\u001b[2K   \u001b[90m━━━━━━━━━━━━━━━━━━━━━━━━━━━━━━━━━━━━━━━━\u001b[0m \u001b[32m14.8/14.8 MB\u001b[0m \u001b[31m98.6 MB/s\u001b[0m eta \u001b[36m0:00:00\u001b[0m:00:01\u001b[0m00:01\u001b[0m\n",
      "\u001b[?25hDownloading narwhals-1.37.1-py3-none-any.whl (332 kB)\n",
      "\u001b[2K   \u001b[90m━━━━━━━━━━━━━━━━━━━━━━━━━━━━━━━━━━━━━━━━\u001b[0m \u001b[32m332.4/332.4 kB\u001b[0m \u001b[31m70.5 MB/s\u001b[0m eta \u001b[36m0:00:00\u001b[0m\n",
      "\u001b[?25hInstalling collected packages: narwhals, plotly\n",
      "Successfully installed narwhals-1.37.1 plotly-6.0.1\n"
     ]
    }
   ],
   "source": [
    "!pip install plotly"
   ]
  },
  {
   "cell_type": "code",
   "execution_count": 2,
   "id": "04424e37-e3fd-416f-b0cf-dd342497eee0",
   "metadata": {},
   "outputs": [
    {
     "name": "stdout",
     "output_type": "stream",
     "text": [
      "4.44.1\n"
     ]
    }
   ],
   "source": [
    "import gradio as gr\n",
    "print(gr.__version__)"
   ]
  },
  {
   "cell_type": "code",
   "execution_count": 4,
   "id": "18b6bf30-cf04-4b6e-a7ae-19279cc038bf",
   "metadata": {},
   "outputs": [],
   "source": [
    "def greeting(name):\n",
    "    return \"Hi !! This is \"+name+\".\""
   ]
  },
  {
   "cell_type": "code",
   "execution_count": 6,
   "id": "6f1a18e5-5e46-4de6-96ad-31e9c753fd29",
   "metadata": {},
   "outputs": [
    {
     "data": {
      "text/plain": [
       "'Hi !! This is Bijay.'"
      ]
     },
     "execution_count": 6,
     "metadata": {},
     "output_type": "execute_result"
    }
   ],
   "source": [
    "greeting(\"Bijay\")"
   ]
  },
  {
   "cell_type": "code",
   "execution_count": 7,
   "id": "0cb67308-6628-46c0-9036-6bea4451bdb1",
   "metadata": {},
   "outputs": [],
   "source": [
    "interface = gr.Interface(\n",
    "            fn=greeting, \n",
    "            inputs=\"text\", \n",
    "            outputs=\"text\")"
   ]
  },
  {
   "cell_type": "code",
   "execution_count": 9,
   "id": "f8ad9289-6303-40e2-95bd-603eff2feb36",
   "metadata": {},
   "outputs": [
    {
     "name": "stdout",
     "output_type": "stream",
     "text": [
      "Rerunning server... use `close()` to stop if you need to change `launch()` parameters.\n",
      "----\n",
      "Running on public URL: https://f7d744f6f73dd9ad59.gradio.live\n",
      "\n",
      "This share link expires in 72 hours. For free permanent hosting and GPU upgrades, run `gradio deploy` from Terminal to deploy to Spaces (https://huggingface.co/spaces)\n"
     ]
    },
    {
     "data": {
      "text/html": [
       "<div><iframe src=\"https://f7d744f6f73dd9ad59.gradio.live\" width=\"100%\" height=\"500\" allow=\"autoplay; camera; microphone; clipboard-read; clipboard-write;\" frameborder=\"0\" allowfullscreen></iframe></div>"
      ],
      "text/plain": [
       "<IPython.core.display.HTML object>"
      ]
     },
     "metadata": {},
     "output_type": "display_data"
    },
    {
     "data": {
      "text/plain": []
     },
     "execution_count": 9,
     "metadata": {},
     "output_type": "execute_result"
    }
   ],
   "source": [
    "interface.launch(inline=True, share=True)"
   ]
  },
  {
   "cell_type": "markdown",
   "id": "dc4581d1-2011-4d72-9fd4-cf242c95bce8",
   "metadata": {},
   "source": [
    "#### **Customize Components**"
   ]
  },
  {
   "cell_type": "markdown",
   "id": "9816364c-b1aa-496d-9170-be2e38994510",
   "metadata": {},
   "source": [
    "**1. Single Input**"
   ]
  },
  {
   "cell_type": "code",
   "execution_count": 16,
   "id": "b736e7ab-9907-45a4-98ae-c688f3ca7b6e",
   "metadata": {},
   "outputs": [
    {
     "name": "stdout",
     "output_type": "stream",
     "text": [
      "Running on local URL:  http://127.0.0.1:7864\n",
      "Running on public URL: https://4ec4ca101cb022b7ad.gradio.live\n",
      "\n",
      "This share link expires in 72 hours. For free permanent hosting and GPU upgrades, run `gradio deploy` from Terminal to deploy to Spaces (https://huggingface.co/spaces)\n"
     ]
    },
    {
     "data": {
      "text/html": [
       "<div><iframe src=\"https://4ec4ca101cb022b7ad.gradio.live\" width=\"100%\" height=\"500\" allow=\"autoplay; camera; microphone; clipboard-read; clipboard-write;\" frameborder=\"0\" allowfullscreen></iframe></div>"
      ],
      "text/plain": [
       "<IPython.core.display.HTML object>"
      ]
     },
     "metadata": {},
     "output_type": "display_data"
    },
    {
     "data": {
      "text/plain": []
     },
     "execution_count": 16,
     "metadata": {},
     "output_type": "execute_result"
    }
   ],
   "source": [
    "iface = gr.Interface(\n",
    "        fn=greeting,\n",
    "        inputs=gr.components.Textbox(lines=5, placeholder=\"Enter your input here ...\"),\n",
    "        outputs= \"text\")\n",
    "iface.launch(share=True, inline=True)"
   ]
  },
  {
   "cell_type": "code",
   "execution_count": 18,
   "id": "1129608e-ff39-42ad-bcfe-68e961ebf7eb",
   "metadata": {},
   "outputs": [],
   "source": [
    "import numpy as np\n",
    "\n",
    "def sepia(input_img):\n",
    "    sepia_filter = np.array([[.393, .769, .189],\n",
    "                             [.349, .686, .168],\n",
    "                             [.272, .534, .131]])\n",
    "    sepia_img = input_img.dot(sepia_filter.T)\n",
    "    sepia_img /= sepia_img.max()\n",
    "    return sepia_img"
   ]
  },
  {
   "cell_type": "code",
   "execution_count": 45,
   "id": "86a05aca-1f97-458e-a378-cf6cb68504ff",
   "metadata": {},
   "outputs": [
    {
     "name": "stdout",
     "output_type": "stream",
     "text": [
      "Running on local URL:  http://127.0.0.1:7882\n",
      "Running on public URL: https://2b8479089cdbb5717f.gradio.live\n",
      "\n",
      "This share link expires in 72 hours. For free permanent hosting and GPU upgrades, run `gradio deploy` from Terminal to deploy to Spaces (https://huggingface.co/spaces)\n"
     ]
    },
    {
     "data": {
      "text/html": [
       "<div><iframe src=\"https://2b8479089cdbb5717f.gradio.live\" width=\"100%\" height=\"500\" allow=\"autoplay; camera; microphone; clipboard-read; clipboard-write;\" frameborder=\"0\" allowfullscreen></iframe></div>"
      ],
      "text/plain": [
       "<IPython.core.display.HTML object>"
      ]
     },
     "metadata": {},
     "output_type": "display_data"
    },
    {
     "data": {
      "text/plain": []
     },
     "execution_count": 45,
     "metadata": {},
     "output_type": "execute_result"
    }
   ],
   "source": [
    "import gradio as gr\n",
    "import numpy as np\n",
    "from PIL import Image as PILImage\n",
    "\n",
    "def sepia(input_image):\n",
    "    # Ensure a PIL Image\n",
    "    if isinstance(input_image, np.ndarray):\n",
    "        img = PILImage.fromarray(input_image)\n",
    "    else:\n",
    "        img = input_image\n",
    "    # (Optional) enforce a 400×400 resize\n",
    "    img = img.resize((514, 514), PILImage.BILINEAR)\n",
    "    # …apply your sepia filter here…\n",
    "    return img\n",
    "\n",
    "iface = gr.Interface(\n",
    "    fn=sepia,\n",
    "    inputs=gr.Image(\n",
    "        type=\"pil\",     \n",
    "        label=\"Original\",\n",
    "        width=400,       # display width\n",
    "        height=400       # display height\n",
    "    ),\n",
    "    outputs=gr.Image(\n",
    "        type=\"pil\",\n",
    "        label=\"Sepia Image\"\n",
    "    ),\n",
    ")\n",
    "\n",
    "iface.launch(inline=True, share=True)\n"
   ]
  },
  {
   "cell_type": "code",
   "execution_count": 46,
   "id": "f8f50679-8ce7-41e7-ba73-c6bfc38681fc",
   "metadata": {},
   "outputs": [
    {
     "name": "stdout",
     "output_type": "stream",
     "text": [
      "Running on local URL:  http://127.0.0.1:7883\n",
      "Running on public URL: https://78b4b5b662ce8bfc22.gradio.live\n",
      "\n",
      "This share link expires in 72 hours. For free permanent hosting and GPU upgrades, run `gradio deploy` from Terminal to deploy to Spaces (https://huggingface.co/spaces)\n"
     ]
    },
    {
     "data": {
      "text/html": [
       "<div><iframe src=\"https://78b4b5b662ce8bfc22.gradio.live\" width=\"100%\" height=\"500\" allow=\"autoplay; camera; microphone; clipboard-read; clipboard-write;\" frameborder=\"0\" allowfullscreen></iframe></div>"
      ],
      "text/plain": [
       "<IPython.core.display.HTML object>"
      ]
     },
     "metadata": {},
     "output_type": "display_data"
    },
    {
     "data": {
      "text/plain": []
     },
     "execution_count": 46,
     "metadata": {},
     "output_type": "execute_result"
    }
   ],
   "source": [
    "import gradio as gr\n",
    "import numpy as np\n",
    "from PIL import Image\n",
    "\n",
    "# Your sepia filter matrix\n",
    "SEPIA_FILTER = np.array([\n",
    "    [0.393, 0.769, 0.189],\n",
    "    [0.349, 0.686, 0.168],\n",
    "    [0.272, 0.534, 0.131]\n",
    "])\n",
    "\n",
    "def sepia(input_image):\n",
    "    # 1) Convert PIL Image → NumPy array (H, W, 3)\n",
    "    if isinstance(input_image, Image.Image):\n",
    "        arr = np.array(input_image)\n",
    "    else:\n",
    "\n",
    "        # If Gradio passed you a NumPy array already\n",
    "        arr = input_image\n",
    "\n",
    "    # 2) Apply the sepia matrix: arr @ SEPIA_FILTERᵀ\n",
    "    sepia_arr = arr @ SEPIA_FILTER.T\n",
    "\n",
    "    # 3) Clip to [0,255] and convert back to uint8\n",
    "    sepia_arr = np.clip(sepia_arr, 0, 255).astype(np.uint8)\n",
    "\n",
    "    # 4) Convert back to PIL Image\n",
    "    return Image.fromarray(sepia_arr)\n",
    "\n",
    "iface = gr.Interface(\n",
    "    fn=sepia,\n",
    "    inputs=gr.Image(type=\"pil\", label=\"Original\"),\n",
    "    outputs=gr.Image(type=\"pil\", label=\"Sepia Image\")\n",
    ")\n",
    "\n",
    "iface.launch(inline=True, share=True)"
   ]
  },
  {
   "cell_type": "code",
   "execution_count": 3,
   "id": "2e10013e-562f-4975-b4c2-15ece84603bf",
   "metadata": {},
   "outputs": [
    {
     "name": "stdout",
     "output_type": "stream",
     "text": [
      "Running on local URL:  http://127.0.0.1:7860\n",
      "Running on public URL: https://0ff04f047f479713f7.gradio.live\n",
      "\n",
      "This share link expires in 72 hours. For free permanent hosting and GPU upgrades, run `gradio deploy` from Terminal to deploy to Spaces (https://huggingface.co/spaces)\n"
     ]
    },
    {
     "data": {
      "text/html": [
       "<div><iframe src=\"https://0ff04f047f479713f7.gradio.live\" width=\"100%\" height=\"500\" allow=\"autoplay; camera; microphone; clipboard-read; clipboard-write;\" frameborder=\"0\" allowfullscreen></iframe></div>"
      ],
      "text/plain": [
       "<IPython.core.display.HTML object>"
      ]
     },
     "metadata": {},
     "output_type": "display_data"
    },
    {
     "name": "stdout",
     "output_type": "stream",
     "text": [
      "Keyboard interruption in main thread... closing server.\n",
      "Killing tunnel 127.0.0.1:7860 <> https://0ff04f047f479713f7.gradio.live\n"
     ]
    },
    {
     "data": {
      "text/plain": []
     },
     "execution_count": 3,
     "metadata": {},
     "output_type": "execute_result"
    }
   ],
   "source": [
    "import gradio as gr\n",
    "import matplotlib.pyplot as plt\n",
    "\n",
    "def pie_chart():\n",
    "    labels = [\"Cats\", \"Dogs\", \"Rabbits\", \"Hamsters\"]\n",
    "    sizes  = [25, 40, 20, 15]\n",
    "    fig, ax = plt.subplots()\n",
    "    ax.pie(sizes, labels=labels, autopct=\"%.1f%%\", startangle=90)\n",
    "    ax.set_title(\"Pet Ownership\")\n",
    "    return fig\n",
    "\n",
    "demo = gr.Interface(\n",
    "    fn=pie_chart,\n",
    "    inputs=[],\n",
    "    outputs=gr.Plot(),        # gr.Plot will render any Matplotlib/Plotly figure\n",
    "    live=False\n",
    ")\n",
    "\n",
    "demo.launch(share=True, inline=True, debug=True)"
   ]
  },
  {
   "cell_type": "code",
   "execution_count": null,
   "id": "da4112f2-68dc-418b-9ad5-e88fface8d3a",
   "metadata": {},
   "outputs": [
    {
     "name": "stdout",
     "output_type": "stream",
     "text": [
      "Running on local URL:  http://127.0.0.1:7860\n",
      "Running on public URL: https://a75ea6fecf8e455c2b.gradio.live\n",
      "\n",
      "This share link expires in 72 hours. For free permanent hosting and GPU upgrades, run `gradio deploy` from Terminal to deploy to Spaces (https://huggingface.co/spaces)\n"
     ]
    },
    {
     "data": {
      "text/html": [
       "<div><iframe src=\"https://a75ea6fecf8e455c2b.gradio.live\" width=\"100%\" height=\"500\" allow=\"autoplay; camera; microphone; clipboard-read; clipboard-write;\" frameborder=\"0\" allowfullscreen></iframe></div>"
      ],
      "text/plain": [
       "<IPython.core.display.HTML object>"
      ]
     },
     "metadata": {},
     "output_type": "display_data"
    }
   ],
   "source": [
    "import gradio as gr\n",
    "import plotly.express as px\n",
    "\n",
    "def bar_chart():\n",
    "    df = px.data.gapminder().query(\"year==2007\").iloc[:5]\n",
    "    fig = px.bar(df, x=\"continent\", y=\"pop\", title=\"Population by Continent\")\n",
    "    return fig\n",
    "\n",
    "demo = gr.Interface(fn=bar_chart, inputs=[], outputs=gr.Plot())\n",
    "demo.launch(share=True, inline=True, debug=True)\n"
   ]
  },
  {
   "cell_type": "markdown",
   "id": "b3dca2d2-5c7c-4ed1-91a8-2b8660f75817",
   "metadata": {},
   "source": [
    "**2. Multiple Inputs**"
   ]
  },
  {
   "cell_type": "code",
   "execution_count": 3,
   "id": "1ce1236f-b3a3-4e0a-86be-25736d5e8390",
   "metadata": {},
   "outputs": [],
   "source": [
    "def bmi(name, height, weight, checkup):\n",
    "    bmi_val = weight / ((height /100) ** 2)\n",
    "    output_reaction = \"😄\" if bmi_val < 30 else \"😭\"\n",
    "    output_statement = f\"Hello !! {name}. Your BMI is: {bmi_val}.\"\n",
    "    output_checkup = \"Required\" if checkup else \"Not Required\"\n",
    "    return output_reaction, output_statement,output_checkup"
   ]
  },
  {
   "cell_type": "code",
   "execution_count": 58,
   "id": "13479a3c-9c23-49db-8495-d04fa61f9a82",
   "metadata": {},
   "outputs": [
    {
     "data": {
      "text/plain": [
       "('😄', 'Hello !! Bijay. Your BMI is: 79999.99999999999.')"
      ]
     },
     "execution_count": 58,
     "metadata": {},
     "output_type": "execute_result"
    }
   ],
   "source": [
    "bmi(\"Bijay\", 2.5, 50)"
   ]
  },
  {
   "cell_type": "code",
   "execution_count": 4,
   "id": "414ab7f4-bc7e-4bd1-8a9a-718a0f3c6d6f",
   "metadata": {},
   "outputs": [
    {
     "name": "stdout",
     "output_type": "stream",
     "text": [
      "Running on local URL:  http://127.0.0.1:7860\n",
      "Running on public URL: https://0b1a15bb0e37a84e4a.gradio.live\n",
      "\n",
      "This share link expires in 72 hours. For free permanent hosting and GPU upgrades, run `gradio deploy` from Terminal to deploy to Spaces (https://huggingface.co/spaces)\n"
     ]
    },
    {
     "data": {
      "text/html": [
       "<div><iframe src=\"https://0b1a15bb0e37a84e4a.gradio.live\" width=\"100%\" height=\"500\" allow=\"autoplay; camera; microphone; clipboard-read; clipboard-write;\" frameborder=\"0\" allowfullscreen></iframe></div>"
      ],
      "text/plain": [
       "<IPython.core.display.HTML object>"
      ]
     },
     "metadata": {},
     "output_type": "display_data"
    },
    {
     "name": "stdout",
     "output_type": "stream",
     "text": [
      "Keyboard interruption in main thread... closing server.\n",
      "Killing tunnel 127.0.0.1:7860 <> https://0b1a15bb0e37a84e4a.gradio.live\n"
     ]
    },
    {
     "data": {
      "text/plain": []
     },
     "execution_count": 4,
     "metadata": {},
     "output_type": "execute_result"
    }
   ],
   "source": [
    "interface = gr.Interface(\n",
    "    fn = bmi,\n",
    "    inputs = [\n",
    "              \"text\", \n",
    "              gr.components.Slider(1,200, label=\"Pick your height in centimeters\"),  \n",
    "              gr.components.Slider(1,100, label=\"Pick your height in kg\"),\n",
    "              gr.components.Checkbox(label=\"Checkup\")\n",
    "             ],\n",
    "    examples = [['Josh', 140, 67, True], ['Dave', 150, 70, False], ['Mary', 140, 58, True]],\n",
    "    outputs = [\"text\", \"text\", \"text\"],\n",
    "    theme = gr.themes.Monochrome()\n",
    "    #live = True  --> removes submit button,\n",
    "    #flagging_options = [\"yes\", \"no\", \"maybe\"]\n",
    ")\n",
    "interface.launch(share=True, inline=True, debug=True)"
   ]
  },
  {
   "cell_type": "code",
   "execution_count": 28,
   "id": "5bb37a82-a0d6-4b98-868e-784dde4f3751",
   "metadata": {},
   "outputs": [
    {
     "name": "stdout",
     "output_type": "stream",
     "text": [
      "Running on local URL:  http://127.0.0.1:7864\n",
      "Running on public URL: https://f219e976dba8e6be79.gradio.live\n",
      "\n",
      "This share link expires in 72 hours. For free permanent hosting and GPU upgrades, run `gradio deploy` from Terminal to deploy to Spaces (https://huggingface.co/spaces)\n"
     ]
    },
    {
     "data": {
      "text/html": [
       "<div><iframe src=\"https://f219e976dba8e6be79.gradio.live\" width=\"100%\" height=\"500\" allow=\"autoplay; camera; microphone; clipboard-read; clipboard-write;\" frameborder=\"0\" allowfullscreen></iframe></div>"
      ],
      "text/plain": [
       "<IPython.core.display.HTML object>"
      ]
     },
     "metadata": {},
     "output_type": "display_data"
    },
    {
     "data": {
      "text/plain": []
     },
     "execution_count": 28,
     "metadata": {},
     "output_type": "execute_result"
    }
   ],
   "source": [
    "import gradio as gr\n",
    "\n",
    "# Shared between all users\n",
    "visitor_count = 2\n",
    "\n",
    "def increment_counter():\n",
    "    global visitor_count\n",
    "    visitor_count += 1\n",
    "    return visitor_count\n",
    "\n",
    "with gr.Blocks() as demo:    \n",
    "    number = gr.Textbox(label=\"Total Visitors\", value=\"Counting...\")\n",
    "    demo.load(increment_counter, inputs=None, outputs=number)\n",
    "\n",
    "demo.launch(share=True, inline=True)"
   ]
  },
  {
   "cell_type": "code",
   "execution_count": null,
   "id": "7c33a939-9bc9-4a18-af64-efa15532e34e",
   "metadata": {},
   "outputs": [],
   "source": [
    "#Call via API\n",
    "from gradio_client import Client\n",
    "\n",
    "client = Client(\"https://ebc6ce94d8ae879351.gradio.live/\")\n",
    "result = client.predict(\n",
    "\t\tname=\"Hello!!\",\n",
    "\t\theight=1,\n",
    "\t\tweight=1,\n",
    "\t\tcheckup=False,\n",
    "\t\tapi_name=\"/predict\"\n",
    ")\n",
    "print(result)"
   ]
  },
  {
   "cell_type": "code",
   "execution_count": null,
   "id": "9fabcb06-5aa9-4562-8a72-69146038651f",
   "metadata": {},
   "outputs": [
    {
     "name": "stdout",
     "output_type": "stream",
     "text": [
      "Rerunning server... use `close()` to stop if you need to change `launch()` parameters.\n",
      "----\n",
      "Running on public URL: https://0b1a15bb0e37a84e4a.gradio.live\n",
      "\n",
      "This share link expires in 72 hours. For free permanent hosting and GPU upgrades, run `gradio deploy` from Terminal to deploy to Spaces (https://huggingface.co/spaces)\n"
     ]
    }
   ],
   "source": [
    "interface.launch(auth=('user', 'everest1'), share=True, inline=True, auth_message=\"Recheck your login details\")"
   ]
  },
  {
   "cell_type": "code",
   "execution_count": null,
   "id": "07e3b6e5-3690-4a22-be6b-d1c05b12dc14",
   "metadata": {},
   "outputs": [],
   "source": []
  }
 ],
 "metadata": {
  "kernelspec": {
   "display_name": "Python [conda env:torch11.8]",
   "language": "python",
   "name": "conda-env-torch11.8-py"
  },
  "language_info": {
   "codemirror_mode": {
    "name": "ipython",
    "version": 3
   },
   "file_extension": ".py",
   "mimetype": "text/x-python",
   "name": "python",
   "nbconvert_exporter": "python",
   "pygments_lexer": "ipython3",
   "version": "3.9.18"
  }
 },
 "nbformat": 4,
 "nbformat_minor": 5
}
