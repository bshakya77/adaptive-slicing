{
 "cells": [
  {
   "cell_type": "markdown",
   "id": "daa28b2e-cb18-42d8-9624-36a4a44dc2fe",
   "metadata": {},
   "source": [
    "#### **xView Dataset**"
   ]
  },
  {
   "cell_type": "markdown",
   "id": "95dafb12-416c-45e0-a0ca-7c82998a15ff",
   "metadata": {},
   "source": [
    "#### **Download dataset**"
   ]
  },
  {
   "cell_type": "code",
   "execution_count": null,
   "id": "4afd08a2-1da3-475e-a57e-7b187f83953c",
   "metadata": {},
   "outputs": [],
   "source": [
    "!pip install kagglehub"
   ]
  },
  {
   "cell_type": "code",
   "execution_count": null,
   "id": "b9499497-8e3b-42a2-b293-91a5fc932c8b",
   "metadata": {},
   "outputs": [],
   "source": [
    "import os\n",
    "import kagglehub\n",
    "\n",
    "# <<< choose where you want the files to land >>>\n",
    "target_root = r\"./datasets/xView\"          # e.g., on Windows\n",
    "# target_root = \"/home/you/data/kaggle_cache\"  # e.g., on macOS/Linux\n",
    "\n",
    "os.makedirs(target_root, exist_ok=True)\n",
    "os.environ[\"KAGGLEHUB_CACHE\"] = target_root  # set download/cache location\n",
    "\n",
    "# Download latest version\n",
    "path = kagglehub.dataset_download(\"hassanmojab/xview-dataset\")\n",
    "\n",
    "print(\"Path to dataset files:\", path)"
   ]
  }
 ],
 "metadata": {
  "kernelspec": {
   "display_name": "Python [conda env:torch11.8]",
   "language": "python",
   "name": "conda-env-torch11.8-py"
  },
  "language_info": {
   "codemirror_mode": {
    "name": "ipython",
    "version": 3
   },
   "file_extension": ".py",
   "mimetype": "text/x-python",
   "name": "python",
   "nbconvert_exporter": "python",
   "pygments_lexer": "ipython3",
   "version": "3.9.18"
  }
 },
 "nbformat": 4,
 "nbformat_minor": 5
}
