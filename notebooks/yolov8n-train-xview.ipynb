{
 "cells": [
  {
   "cell_type": "markdown",
   "id": "5ffaa9f5-998e-48f6-9486-9aba1568a558",
   "metadata": {},
   "source": [
    "#### **Checks and Installation**"
   ]
  },
  {
   "cell_type": "code",
   "execution_count": 1,
   "id": "77b72349-8b77-4078-b66d-1e1ccde47a5b",
   "metadata": {},
   "outputs": [
    {
     "name": "stdout",
     "output_type": "stream",
     "text": [
      "Ultralytics 8.3.169 🚀 Python-3.9.18 torch-2.1.2+cu118 CUDA:0 (NVIDIA A100 80GB PCIe, 81156MiB)\n",
      "Setup complete ✅ (48 CPUs, 503.3 GB RAM, 38.1/430.3 GB disk)\n"
     ]
    }
   ],
   "source": [
    "%pip install ultralytics\n",
    "import ultralytics\n",
    "ultralytics.checks()"
   ]
  },
  {
   "cell_type": "code",
   "execution_count": 9,
   "id": "78536cfe-b78e-4de6-9180-d2e8047e60e6",
   "metadata": {},
   "outputs": [
    {
     "name": "stdout",
     "output_type": "stream",
     "text": [
      "models/baseline/yolov8n.pt\n"
     ]
    }
   ],
   "source": [
    "ls models/baseline/yolov8n.pt"
   ]
  },
  {
   "cell_type": "code",
   "execution_count": 4,
   "id": "8ba9b09e-0552-4869-be1b-6ab329473eee",
   "metadata": {},
   "outputs": [
    {
     "name": "stdout",
     "output_type": "stream",
     "text": [
      "Dataset reorganized into ./xview-yolo-dataset/xview_yolo\n"
     ]
    }
   ],
   "source": [
    "import os\n",
    "import shutil\n",
    "\n",
    "def organize_yolo_dataset(root_dir, train_file, val_file, test_file, output_dir=\"xview_yolo\"):\n",
    "    # Create output folders\n",
    "    for split in [\"train\", \"val\", \"test\"]:\n",
    "        os.makedirs(os.path.join(output_dir, \"images\", split), exist_ok=True)\n",
    "        os.makedirs(os.path.join(output_dir, \"labels\", split), exist_ok=True)\n",
    "\n",
    "    def move_files(list_file, split):\n",
    "        with open(list_file, \"r\") as f:\n",
    "            img_files = [line.strip() for line in f.readlines()]\n",
    "        \n",
    "        for img_path in img_files:\n",
    "            img_name = os.path.basename(img_path)\n",
    "            label_name = os.path.splitext(img_name)[0] + \".txt\"\n",
    "\n",
    "            src_img = os.path.join(root_dir, \"images\", img_name)\n",
    "            src_lbl = os.path.join(root_dir, \"images\", label_name)  # labels are in same folder\n",
    "\n",
    "            dst_img = os.path.join(output_dir, \"images\", split, img_name)\n",
    "            dst_lbl = os.path.join(output_dir, \"labels\", split, label_name)\n",
    "\n",
    "            if os.path.exists(src_img):\n",
    "                shutil.copy2(src_img, dst_img)\n",
    "            if os.path.exists(src_lbl):\n",
    "                shutil.copy2(src_lbl, dst_lbl)\n",
    "\n",
    "    # Move files for each split\n",
    "    move_files(train_file, \"train\")\n",
    "    move_files(val_file, \"val\")\n",
    "    move_files(test_file, \"test\")\n",
    "\n",
    "    print(f\"Dataset reorganized into {output_dir}\")\n",
    "\n",
    "# Example usage\n",
    "organize_yolo_dataset(\n",
    "    root_dir=r\"./xview-yolo-dataset\", \n",
    "    train_file=r\"./xview-yolo-dataset/YOLO_cfg/train.txt\", \n",
    "    val_file=r\"./xview-yolo-dataset/YOLO_cfg/val.txt\", \n",
    "    test_file=r\"./xview-yolo-dataset/YOLO_cfg/test.txt\",\n",
    "    output_dir=r\"./xview-yolo-dataset/xview_yolo\"\n",
    ")\n"
   ]
  },
  {
   "cell_type": "markdown",
   "id": "5ecad7e4-5e76-453d-ae10-faaf1302f621",
   "metadata": {},
   "source": [
    "#### **YOLOv8n -- Trained xView dataset**"
   ]
  },
  {
   "cell_type": "code",
   "execution_count": null,
   "id": "8f431ea7-0f7e-49d6-b54d-a1266336eca4",
   "metadata": {
    "collapsed": true,
    "jupyter": {
     "outputs_hidden": true
    }
   },
   "outputs": [
    {
     "name": "stdout",
     "output_type": "stream",
     "text": [
      "Ultralytics 8.3.169 🚀 Python-3.9.18 torch-2.1.2+cu118 CUDA:0 (NVIDIA A100 80GB PCIe, 81156MiB)\n",
      "\u001b[34m\u001b[1mengine/trainer: \u001b[0magnostic_nms=False, amp=True, augment=False, auto_augment=randaugment, batch=16, bgr=0.0, box=7.5, cache=False, cfg=None, classes=None, close_mosaic=20, cls=0.5, conf=None, copy_paste=0.0, copy_paste_mode=flip, cos_lr=True, cutmix=0.0, data=./xview-yolo-dataset/YOLO_cfg/xview_yolo.yaml, degrees=0.0, deterministic=True, device=0, dfl=1.5, dnn=False, dropout=0.1, dynamic=False, embed=None, epochs=150, erasing=0.4, exist_ok=False, fliplr=0.5, flipud=0.0, format=torchscript, fraction=1.0, freeze=None, half=True, hsv_h=0.015, hsv_s=0.7, hsv_v=0.4, imgsz=640, int8=False, iou=0.5, keras=False, kobj=1.0, line_width=None, lr0=0.001, lrf=0.0001, mask_ratio=4, max_det=300, mixup=0.0, mode=train, model=models/baseline/yolov8n.pt, momentum=0.937, mosaic=1.0, multi_scale=True, name=train20, nbs=64, nms=False, opset=None, optimize=False, optimizer=auto, overlap_mask=True, patience=100, perspective=0.0, plots=True, pose=12.0, pretrained=True, profile=False, project=None, rect=False, resume=False, retina_masks=False, save=True, save_conf=False, save_crop=False, save_dir=runs/detect/train20, save_frames=False, save_json=False, save_period=-1, save_txt=False, scale=0.5, seed=0, shear=0.0, show=False, show_boxes=True, show_conf=True, show_labels=True, simplify=True, single_cls=False, source=None, split=val, stream_buffer=False, task=detect, time=None, tracker=botsort.yaml, translate=0.1, val=True, verbose=True, vid_stride=1, visualize=False, warmup_bias_lr=0.1, warmup_epochs=3.0, warmup_momentum=0.8, weight_decay=0.0005, workers=8, workspace=None\n",
      "Overriding model.yaml nc=80 with nc=60\n",
      "\n",
      "                   from  n    params  module                                       arguments                     \n",
      "  0                  -1  1       464  ultralytics.nn.modules.conv.Conv             [3, 16, 3, 2]                 \n",
      "  1                  -1  1      4672  ultralytics.nn.modules.conv.Conv             [16, 32, 3, 2]                \n",
      "  2                  -1  1      7360  ultralytics.nn.modules.block.C2f             [32, 32, 1, True]             \n",
      "  3                  -1  1     18560  ultralytics.nn.modules.conv.Conv             [32, 64, 3, 2]                \n",
      "  4                  -1  2     49664  ultralytics.nn.modules.block.C2f             [64, 64, 2, True]             \n",
      "  5                  -1  1     73984  ultralytics.nn.modules.conv.Conv             [64, 128, 3, 2]               \n",
      "  6                  -1  2    197632  ultralytics.nn.modules.block.C2f             [128, 128, 2, True]           \n",
      "  7                  -1  1    295424  ultralytics.nn.modules.conv.Conv             [128, 256, 3, 2]              \n",
      "  8                  -1  1    460288  ultralytics.nn.modules.block.C2f             [256, 256, 1, True]           \n",
      "  9                  -1  1    164608  ultralytics.nn.modules.block.SPPF            [256, 256, 5]                 \n",
      " 10                  -1  1         0  torch.nn.modules.upsampling.Upsample         [None, 2, 'nearest']          \n",
      " 11             [-1, 6]  1         0  ultralytics.nn.modules.conv.Concat           [1]                           \n",
      " 12                  -1  1    148224  ultralytics.nn.modules.block.C2f             [384, 128, 1]                 \n",
      " 13                  -1  1         0  torch.nn.modules.upsampling.Upsample         [None, 2, 'nearest']          \n",
      " 14             [-1, 4]  1         0  ultralytics.nn.modules.conv.Concat           [1]                           \n",
      " 15                  -1  1     37248  ultralytics.nn.modules.block.C2f             [192, 64, 1]                  \n",
      " 16                  -1  1     36992  ultralytics.nn.modules.conv.Conv             [64, 64, 3, 2]                \n",
      " 17            [-1, 12]  1         0  ultralytics.nn.modules.conv.Concat           [1]                           \n",
      " 18                  -1  1    123648  ultralytics.nn.modules.block.C2f             [192, 128, 1]                 \n",
      " 19                  -1  1    147712  ultralytics.nn.modules.conv.Conv             [128, 128, 3, 2]              \n",
      " 20             [-1, 9]  1         0  ultralytics.nn.modules.conv.Concat           [1]                           \n",
      " 21                  -1  1    493056  ultralytics.nn.modules.block.C2f             [384, 256, 1]                 \n",
      " 22        [15, 18, 21]  1    763012  ultralytics.nn.modules.head.Detect           [60, [64, 128, 256]]          \n",
      "Model summary: 129 layers, 3,022,548 parameters, 3,022,532 gradients, 8.3 GFLOPs\n",
      "\n",
      "Transferred 319/355 items from pretrained weights\n",
      "Freezing layer 'model.22.dfl.conv.weight'\n",
      "\u001b[34m\u001b[1mAMP: \u001b[0mrunning Automatic Mixed Precision (AMP) checks...\n",
      "Downloading https://github.com/ultralytics/assets/releases/download/v8.3.0/yolo11n.pt to 'yolo11n.pt'...\n",
      "WARNING ⚠️ \u001b[34m\u001b[1mAMP: \u001b[0mchecks skipped. Offline and unable to download YOLO11n for AMP checks. Setting 'amp=True'. If you experience zero-mAP or NaN losses you can disable AMP with amp=False.\n",
      "\u001b[34m\u001b[1mtrain: \u001b[0mFast image access ✅ (ping: 0.0±0.0 ms, read: 122.6±83.7 MB/s, size: 46.0 KB)\n"
     ]
    },
    {
     "name": "stderr",
     "output_type": "stream",
     "text": [
      "\u001b[34m\u001b[1mtrain: \u001b[0mScanning /mmfs1/scratch/dsu.local/bshakya/scratch/bshakya/sahi/xview-yolo-dataset/xview_yolo/labels/train... 19783 images, 9138 backgrounds, 61 corrupt: 100%|██████████| 19844/19844 [00:05<00:00, 3521.06it/s]"
     ]
    },
    {
     "name": "stdout",
     "output_type": "stream",
     "text": [
      "\u001b[34m\u001b[1mtrain: \u001b[0m/mmfs1/scratch/dsu.local/bshakya/scratch/bshakya/sahi/xview-yolo-dataset/xview_yolo/images/train/img_1135_3200_0.jpg: ignoring corrupt image/label: image size (4, 4) <10 pixels\n",
      "\u001b[34m\u001b[1mtrain: \u001b[0m/mmfs1/scratch/dsu.local/bshakya/scratch/bshakya/sahi/xview-yolo-dataset/xview_yolo/images/train/img_1135_3200_1920.jpg: ignoring corrupt image/label: image size (4, 4) <10 pixels\n",
      "\u001b[34m\u001b[1mtrain: \u001b[0m/mmfs1/scratch/dsu.local/bshakya/scratch/bshakya/sahi/xview-yolo-dataset/xview_yolo/images/train/img_1135_3200_2560.jpg: ignoring corrupt image/label: image size (4, 4) <10 pixels\n",
      "\u001b[34m\u001b[1mtrain: \u001b[0m/mmfs1/scratch/dsu.local/bshakya/scratch/bshakya/sahi/xview-yolo-dataset/xview_yolo/images/train/img_1135_3200_3200.jpg: ignoring corrupt image/label: image size (4, 4) <10 pixels\n",
      "\u001b[34m\u001b[1mtrain: \u001b[0m/mmfs1/scratch/dsu.local/bshakya/scratch/bshakya/sahi/xview-yolo-dataset/xview_yolo/images/train/img_1135_3200_640.jpg: ignoring corrupt image/label: image size (4, 4) <10 pixels\n",
      "\u001b[34m\u001b[1mtrain: \u001b[0m/mmfs1/scratch/dsu.local/bshakya/scratch/bshakya/sahi/xview-yolo-dataset/xview_yolo/images/train/img_1136_3200_0.jpg: ignoring corrupt image/label: image size (4, 4) <10 pixels\n",
      "\u001b[34m\u001b[1mtrain: \u001b[0m/mmfs1/scratch/dsu.local/bshakya/scratch/bshakya/sahi/xview-yolo-dataset/xview_yolo/images/train/img_1136_3200_1280.jpg: ignoring corrupt image/label: image size (4, 4) <10 pixels\n",
      "\u001b[34m\u001b[1mtrain: \u001b[0m/mmfs1/scratch/dsu.local/bshakya/scratch/bshakya/sahi/xview-yolo-dataset/xview_yolo/images/train/img_1136_3200_1920.jpg: ignoring corrupt image/label: image size (4, 4) <10 pixels\n",
      "\u001b[34m\u001b[1mtrain: \u001b[0m/mmfs1/scratch/dsu.local/bshakya/scratch/bshakya/sahi/xview-yolo-dataset/xview_yolo/images/train/img_1136_3200_3200.jpg: ignoring corrupt image/label: image size (4, 4) <10 pixels\n",
      "\u001b[34m\u001b[1mtrain: \u001b[0m/mmfs1/scratch/dsu.local/bshakya/scratch/bshakya/sahi/xview-yolo-dataset/xview_yolo/images/train/img_1136_3200_640.jpg: ignoring corrupt image/label: image size (4, 4) <10 pixels\n",
      "\u001b[34m\u001b[1mtrain: \u001b[0m/mmfs1/scratch/dsu.local/bshakya/scratch/bshakya/sahi/xview-yolo-dataset/xview_yolo/images/train/img_1139_3200_0.jpg: ignoring corrupt image/label: image size (5, 5) <10 pixels\n",
      "\u001b[34m\u001b[1mtrain: \u001b[0m/mmfs1/scratch/dsu.local/bshakya/scratch/bshakya/sahi/xview-yolo-dataset/xview_yolo/images/train/img_1139_3200_1280.jpg: ignoring corrupt image/label: image size (5, 5) <10 pixels\n",
      "\u001b[34m\u001b[1mtrain: \u001b[0m/mmfs1/scratch/dsu.local/bshakya/scratch/bshakya/sahi/xview-yolo-dataset/xview_yolo/images/train/img_1139_3200_1920.jpg: ignoring corrupt image/label: image size (5, 5) <10 pixels\n",
      "\u001b[34m\u001b[1mtrain: \u001b[0m/mmfs1/scratch/dsu.local/bshakya/scratch/bshakya/sahi/xview-yolo-dataset/xview_yolo/images/train/img_1139_3200_2560.jpg: ignoring corrupt image/label: image size (5, 5) <10 pixels\n",
      "\u001b[34m\u001b[1mtrain: \u001b[0m/mmfs1/scratch/dsu.local/bshakya/scratch/bshakya/sahi/xview-yolo-dataset/xview_yolo/images/train/img_1139_3200_3200.jpg: ignoring corrupt image/label: image size (5, 5) <10 pixels\n",
      "\u001b[34m\u001b[1mtrain: \u001b[0m/mmfs1/scratch/dsu.local/bshakya/scratch/bshakya/sahi/xview-yolo-dataset/xview_yolo/images/train/img_1140_3200_0.jpg: ignoring corrupt image/label: image size (4, 4) <10 pixels\n",
      "\u001b[34m\u001b[1mtrain: \u001b[0m/mmfs1/scratch/dsu.local/bshakya/scratch/bshakya/sahi/xview-yolo-dataset/xview_yolo/images/train/img_1140_3200_1280.jpg: ignoring corrupt image/label: image size (4, 4) <10 pixels\n",
      "\u001b[34m\u001b[1mtrain: \u001b[0m/mmfs1/scratch/dsu.local/bshakya/scratch/bshakya/sahi/xview-yolo-dataset/xview_yolo/images/train/img_1140_3200_1920.jpg: ignoring corrupt image/label: image size (4, 4) <10 pixels\n",
      "\u001b[34m\u001b[1mtrain: \u001b[0m/mmfs1/scratch/dsu.local/bshakya/scratch/bshakya/sahi/xview-yolo-dataset/xview_yolo/images/train/img_1140_3200_3200.jpg: ignoring corrupt image/label: image size (4, 4) <10 pixels\n",
      "\u001b[34m\u001b[1mtrain: \u001b[0m/mmfs1/scratch/dsu.local/bshakya/scratch/bshakya/sahi/xview-yolo-dataset/xview_yolo/images/train/img_1140_3200_640.jpg: ignoring corrupt image/label: image size (4, 4) <10 pixels\n",
      "\u001b[34m\u001b[1mtrain: \u001b[0m/mmfs1/scratch/dsu.local/bshakya/scratch/bshakya/sahi/xview-yolo-dataset/xview_yolo/images/train/img_1141_3200_0.jpg: ignoring corrupt image/label: image size (4, 4) <10 pixels\n",
      "\u001b[34m\u001b[1mtrain: \u001b[0m/mmfs1/scratch/dsu.local/bshakya/scratch/bshakya/sahi/xview-yolo-dataset/xview_yolo/images/train/img_1141_3200_1280.jpg: ignoring corrupt image/label: image size (4, 4) <10 pixels\n",
      "\u001b[34m\u001b[1mtrain: \u001b[0m/mmfs1/scratch/dsu.local/bshakya/scratch/bshakya/sahi/xview-yolo-dataset/xview_yolo/images/train/img_1141_3200_2560.jpg: ignoring corrupt image/label: image size (4, 4) <10 pixels\n",
      "\u001b[34m\u001b[1mtrain: \u001b[0m/mmfs1/scratch/dsu.local/bshakya/scratch/bshakya/sahi/xview-yolo-dataset/xview_yolo/images/train/img_1141_3200_640.jpg: ignoring corrupt image/label: image size (4, 4) <10 pixels\n",
      "\u001b[34m\u001b[1mtrain: \u001b[0m/mmfs1/scratch/dsu.local/bshakya/scratch/bshakya/sahi/xview-yolo-dataset/xview_yolo/images/train/img_1142_3200_0.jpg: ignoring corrupt image/label: image size (4, 4) <10 pixels\n",
      "\u001b[34m\u001b[1mtrain: \u001b[0m/mmfs1/scratch/dsu.local/bshakya/scratch/bshakya/sahi/xview-yolo-dataset/xview_yolo/images/train/img_1142_3200_1280.jpg: ignoring corrupt image/label: image size (4, 4) <10 pixels\n",
      "\u001b[34m\u001b[1mtrain: \u001b[0m/mmfs1/scratch/dsu.local/bshakya/scratch/bshakya/sahi/xview-yolo-dataset/xview_yolo/images/train/img_1142_3200_1920.jpg: ignoring corrupt image/label: image size (4, 4) <10 pixels\n",
      "\u001b[34m\u001b[1mtrain: \u001b[0m/mmfs1/scratch/dsu.local/bshakya/scratch/bshakya/sahi/xview-yolo-dataset/xview_yolo/images/train/img_1142_3200_3200.jpg: ignoring corrupt image/label: image size (4, 4) <10 pixels\n",
      "\u001b[34m\u001b[1mtrain: \u001b[0m/mmfs1/scratch/dsu.local/bshakya/scratch/bshakya/sahi/xview-yolo-dataset/xview_yolo/images/train/img_1142_3200_640.jpg: ignoring corrupt image/label: image size (4, 4) <10 pixels\n",
      "\u001b[34m\u001b[1mtrain: \u001b[0m/mmfs1/scratch/dsu.local/bshakya/scratch/bshakya/sahi/xview-yolo-dataset/xview_yolo/images/train/img_1768_2560_0.jpg: ignoring corrupt image/label: image size (5, 5) <10 pixels\n",
      "\u001b[34m\u001b[1mtrain: \u001b[0m/mmfs1/scratch/dsu.local/bshakya/scratch/bshakya/sahi/xview-yolo-dataset/xview_yolo/images/train/img_1768_2560_1280.jpg: ignoring corrupt image/label: image size (5, 5) <10 pixels\n",
      "\u001b[34m\u001b[1mtrain: \u001b[0m/mmfs1/scratch/dsu.local/bshakya/scratch/bshakya/sahi/xview-yolo-dataset/xview_yolo/images/train/img_1768_2560_1920.jpg: ignoring corrupt image/label: image size (5, 5) <10 pixels\n",
      "\u001b[34m\u001b[1mtrain: \u001b[0m/mmfs1/scratch/dsu.local/bshakya/scratch/bshakya/sahi/xview-yolo-dataset/xview_yolo/images/train/img_1768_2560_2560.jpg: ignoring corrupt image/label: image size (5, 5) <10 pixels\n",
      "\u001b[34m\u001b[1mtrain: \u001b[0m/mmfs1/scratch/dsu.local/bshakya/scratch/bshakya/sahi/xview-yolo-dataset/xview_yolo/images/train/img_1768_2560_640.jpg: ignoring corrupt image/label: image size (5, 5) <10 pixels\n",
      "\u001b[34m\u001b[1mtrain: \u001b[0m/mmfs1/scratch/dsu.local/bshakya/scratch/bshakya/sahi/xview-yolo-dataset/xview_yolo/images/train/img_1770_2560_0.jpg: ignoring corrupt image/label: image size (4, 4) <10 pixels\n",
      "\u001b[34m\u001b[1mtrain: \u001b[0m/mmfs1/scratch/dsu.local/bshakya/scratch/bshakya/sahi/xview-yolo-dataset/xview_yolo/images/train/img_1770_2560_1920.jpg: ignoring corrupt image/label: image size (4, 4) <10 pixels\n",
      "\u001b[34m\u001b[1mtrain: \u001b[0m/mmfs1/scratch/dsu.local/bshakya/scratch/bshakya/sahi/xview-yolo-dataset/xview_yolo/images/train/img_1770_2560_640.jpg: ignoring corrupt image/label: image size (4, 4) <10 pixels\n",
      "\u001b[34m\u001b[1mtrain: \u001b[0m/mmfs1/scratch/dsu.local/bshakya/scratch/bshakya/sahi/xview-yolo-dataset/xview_yolo/images/train/img_1784_2560_0.jpg: ignoring corrupt image/label: image size (4, 4) <10 pixels\n",
      "\u001b[34m\u001b[1mtrain: \u001b[0m/mmfs1/scratch/dsu.local/bshakya/scratch/bshakya/sahi/xview-yolo-dataset/xview_yolo/images/train/img_1784_2560_1280.jpg: ignoring corrupt image/label: image size (4, 4) <10 pixels\n",
      "\u001b[34m\u001b[1mtrain: \u001b[0m/mmfs1/scratch/dsu.local/bshakya/scratch/bshakya/sahi/xview-yolo-dataset/xview_yolo/images/train/img_1784_2560_1920.jpg: ignoring corrupt image/label: image size (4, 4) <10 pixels\n",
      "\u001b[34m\u001b[1mtrain: \u001b[0m/mmfs1/scratch/dsu.local/bshakya/scratch/bshakya/sahi/xview-yolo-dataset/xview_yolo/images/train/img_1784_2560_2560.jpg: ignoring corrupt image/label: image size (4, 4) <10 pixels\n",
      "\u001b[34m\u001b[1mtrain: \u001b[0m/mmfs1/scratch/dsu.local/bshakya/scratch/bshakya/sahi/xview-yolo-dataset/xview_yolo/images/train/img_1786_2560_0.jpg: ignoring corrupt image/label: image size (4, 4) <10 pixels\n",
      "\u001b[34m\u001b[1mtrain: \u001b[0m/mmfs1/scratch/dsu.local/bshakya/scratch/bshakya/sahi/xview-yolo-dataset/xview_yolo/images/train/img_1786_2560_1920.jpg: ignoring corrupt image/label: image size (4, 4) <10 pixels\n",
      "\u001b[34m\u001b[1mtrain: \u001b[0m/mmfs1/scratch/dsu.local/bshakya/scratch/bshakya/sahi/xview-yolo-dataset/xview_yolo/images/train/img_1786_2560_2560.jpg: ignoring corrupt image/label: image size (4, 4) <10 pixels\n",
      "\u001b[34m\u001b[1mtrain: \u001b[0m/mmfs1/scratch/dsu.local/bshakya/scratch/bshakya/sahi/xview-yolo-dataset/xview_yolo/images/train/img_1786_2560_640.jpg: ignoring corrupt image/label: image size (4, 4) <10 pixels\n",
      "\u001b[34m\u001b[1mtrain: \u001b[0m/mmfs1/scratch/dsu.local/bshakya/scratch/bshakya/sahi/xview-yolo-dataset/xview_yolo/images/train/img_1788_2560_0.jpg: ignoring corrupt image/label: image size (4, 4) <10 pixels\n",
      "\u001b[34m\u001b[1mtrain: \u001b[0m/mmfs1/scratch/dsu.local/bshakya/scratch/bshakya/sahi/xview-yolo-dataset/xview_yolo/images/train/img_1788_2560_1920.jpg: ignoring corrupt image/label: image size (4, 4) <10 pixels\n",
      "\u001b[34m\u001b[1mtrain: \u001b[0m/mmfs1/scratch/dsu.local/bshakya/scratch/bshakya/sahi/xview-yolo-dataset/xview_yolo/images/train/img_1788_2560_2560.jpg: ignoring corrupt image/label: image size (4, 4) <10 pixels\n",
      "\u001b[34m\u001b[1mtrain: \u001b[0m/mmfs1/scratch/dsu.local/bshakya/scratch/bshakya/sahi/xview-yolo-dataset/xview_yolo/images/train/img_1788_2560_640.jpg: ignoring corrupt image/label: image size (4, 4) <10 pixels\n",
      "\u001b[34m\u001b[1mtrain: \u001b[0m/mmfs1/scratch/dsu.local/bshakya/scratch/bshakya/sahi/xview-yolo-dataset/xview_yolo/images/train/img_1799_2560_0.jpg: ignoring corrupt image/label: image size (5, 5) <10 pixels\n",
      "\u001b[34m\u001b[1mtrain: \u001b[0m/mmfs1/scratch/dsu.local/bshakya/scratch/bshakya/sahi/xview-yolo-dataset/xview_yolo/images/train/img_1799_2560_1280.jpg: ignoring corrupt image/label: image size (5, 5) <10 pixels\n",
      "\u001b[34m\u001b[1mtrain: \u001b[0m/mmfs1/scratch/dsu.local/bshakya/scratch/bshakya/sahi/xview-yolo-dataset/xview_yolo/images/train/img_1799_2560_2560.jpg: ignoring corrupt image/label: image size (5, 5) <10 pixels\n",
      "\u001b[34m\u001b[1mtrain: \u001b[0m/mmfs1/scratch/dsu.local/bshakya/scratch/bshakya/sahi/xview-yolo-dataset/xview_yolo/images/train/img_1799_2560_640.jpg: ignoring corrupt image/label: image size (5, 5) <10 pixels\n",
      "\u001b[34m\u001b[1mtrain: \u001b[0m/mmfs1/scratch/dsu.local/bshakya/scratch/bshakya/sahi/xview-yolo-dataset/xview_yolo/images/train/img_481_0_3200.jpg: ignoring corrupt image/label: image size (640, 8) <10 pixels\n",
      "\u001b[34m\u001b[1mtrain: \u001b[0m/mmfs1/scratch/dsu.local/bshakya/scratch/bshakya/sahi/xview-yolo-dataset/xview_yolo/images/train/img_481_1280_3200.jpg: ignoring corrupt image/label: image size (640, 8) <10 pixels\n",
      "\u001b[34m\u001b[1mtrain: \u001b[0m/mmfs1/scratch/dsu.local/bshakya/scratch/bshakya/sahi/xview-yolo-dataset/xview_yolo/images/train/img_481_1920_3200.jpg: ignoring corrupt image/label: image size (640, 8) <10 pixels\n",
      "\u001b[34m\u001b[1mtrain: \u001b[0m/mmfs1/scratch/dsu.local/bshakya/scratch/bshakya/sahi/xview-yolo-dataset/xview_yolo/images/train/img_481_2560_3200.jpg: ignoring corrupt image/label: image size (80, 8) <10 pixels\n",
      "\u001b[34m\u001b[1mtrain: \u001b[0m/mmfs1/scratch/dsu.local/bshakya/scratch/bshakya/sahi/xview-yolo-dataset/xview_yolo/images/train/img_481_640_3200.jpg: ignoring corrupt image/label: image size (640, 8) <10 pixels\n",
      "\u001b[34m\u001b[1mtrain: \u001b[0m/mmfs1/scratch/dsu.local/bshakya/scratch/bshakya/sahi/xview-yolo-dataset/xview_yolo/images/train/img_727_1920_5120.jpg: ignoring corrupt image/label: image size (640, 1) <10 pixels\n",
      "\u001b[34m\u001b[1mtrain: \u001b[0m/mmfs1/scratch/dsu.local/bshakya/scratch/bshakya/sahi/xview-yolo-dataset/xview_yolo/images/train/img_727_2560_5120.jpg: ignoring corrupt image/label: image size (463, 1) <10 pixels\n",
      "\u001b[34m\u001b[1mtrain: \u001b[0m/mmfs1/scratch/dsu.local/bshakya/scratch/bshakya/sahi/xview-yolo-dataset/xview_yolo/images/train/img_727_640_5120.jpg: ignoring corrupt image/label: image size (640, 1) <10 pixels\n"
     ]
    },
    {
     "name": "stderr",
     "output_type": "stream",
     "text": [
      "\n"
     ]
    },
    {
     "name": "stdout",
     "output_type": "stream",
     "text": [
      "\u001b[34m\u001b[1mtrain: \u001b[0mNew cache created: /mmfs1/scratch/dsu.local/bshakya/scratch/bshakya/sahi/xview-yolo-dataset/xview_yolo/labels/train.cache\n",
      "\u001b[34m\u001b[1malbumentations: \u001b[0m__init__() got an unexpected keyword argument 'quality_range'\n",
      "\u001b[34m\u001b[1mval: \u001b[0mFast image access ✅ (ping: 0.0±0.0 ms, read: 136.4±87.5 MB/s, size: 62.0 KB)\n"
     ]
    },
    {
     "name": "stderr",
     "output_type": "stream",
     "text": [
      "\u001b[34m\u001b[1mval: \u001b[0mScanning /mmfs1/scratch/dsu.local/bshakya/scratch/bshakya/sahi/xview-yolo-dataset/xview_yolo/labels/val... 2474 images, 1188 backgrounds, 6 corrupt: 100%|██████████| 2480/2480 [00:00<00:00, 2948.35it/s]"
     ]
    },
    {
     "name": "stdout",
     "output_type": "stream",
     "text": [
      "\u001b[34m\u001b[1mval: \u001b[0m/mmfs1/scratch/dsu.local/bshakya/scratch/bshakya/sahi/xview-yolo-dataset/xview_yolo/images/val/img_1136_3200_2560.jpg: ignoring corrupt image/label: image size (4, 4) <10 pixels\n",
      "\u001b[34m\u001b[1mval: \u001b[0m/mmfs1/scratch/dsu.local/bshakya/scratch/bshakya/sahi/xview-yolo-dataset/xview_yolo/images/val/img_1139_3200_640.jpg: ignoring corrupt image/label: image size (5, 5) <10 pixels\n",
      "\u001b[34m\u001b[1mval: \u001b[0m/mmfs1/scratch/dsu.local/bshakya/scratch/bshakya/sahi/xview-yolo-dataset/xview_yolo/images/val/img_1770_2560_1280.jpg: ignoring corrupt image/label: image size (4, 4) <10 pixels\n",
      "\u001b[34m\u001b[1mval: \u001b[0m/mmfs1/scratch/dsu.local/bshakya/scratch/bshakya/sahi/xview-yolo-dataset/xview_yolo/images/val/img_1770_2560_2560.jpg: ignoring corrupt image/label: image size (4, 4) <10 pixels\n",
      "\u001b[34m\u001b[1mval: \u001b[0m/mmfs1/scratch/dsu.local/bshakya/scratch/bshakya/sahi/xview-yolo-dataset/xview_yolo/images/val/img_1799_2560_1920.jpg: ignoring corrupt image/label: image size (5, 5) <10 pixels\n",
      "\u001b[34m\u001b[1mval: \u001b[0m/mmfs1/scratch/dsu.local/bshakya/scratch/bshakya/sahi/xview-yolo-dataset/xview_yolo/images/val/img_727_1280_5120.jpg: ignoring corrupt image/label: image size (640, 1) <10 pixels\n",
      "\u001b[34m\u001b[1mval: \u001b[0mNew cache created: /mmfs1/scratch/dsu.local/bshakya/scratch/bshakya/sahi/xview-yolo-dataset/xview_yolo/labels/val.cache\n"
     ]
    },
    {
     "name": "stderr",
     "output_type": "stream",
     "text": [
      "\n"
     ]
    },
    {
     "name": "stdout",
     "output_type": "stream",
     "text": [
      "Plotting labels to runs/detect/train20/labels.jpg... \n",
      "\u001b[34m\u001b[1moptimizer:\u001b[0m 'optimizer=auto' found, ignoring 'lr0=0.001' and 'momentum=0.937' and determining best 'optimizer', 'lr0' and 'momentum' automatically... \n",
      "\u001b[34m\u001b[1moptimizer:\u001b[0m SGD(lr=0.01, momentum=0.9) with parameter groups 57 weight(decay=0.0), 64 weight(decay=0.0005), 63 bias(decay=0.0)\n",
      "Image sizes 640 train, 640 val\n",
      "Using 8 dataloader workers\n",
      "Logging results to \u001b[1mruns/detect/train20\u001b[0m\n",
      "Starting training for 150 epochs...\n",
      "\n",
      "      Epoch    GPU_mem   box_loss   cls_loss   dfl_loss  Instances       Size\n"
     ]
    },
    {
     "name": "stderr",
     "output_type": "stream",
     "text": [
      "      1/150      20.9G      2.215      2.804      1.502        114        640: 100%|██████████| 1237/1237 [01:45<00:00, 11.71it/s]\n",
      "                 Class     Images  Instances      Box(P          R      mAP50  mAP50-95): 100%|██████████| 78/78 [00:07<00:00, 10.34it/s]\n"
     ]
    },
    {
     "name": "stdout",
     "output_type": "stream",
     "text": [
      "                   all       2474      65746      0.753     0.0191     0.0153    0.00651\n",
      "\n",
      "      Epoch    GPU_mem   box_loss   cls_loss   dfl_loss  Instances       Size\n"
     ]
    },
    {
     "name": "stderr",
     "output_type": "stream",
     "text": [
      "      2/150      25.6G      2.146      2.135      1.412         29        512: 100%|██████████| 1237/1237 [01:38<00:00, 12.57it/s]\n",
      "                 Class     Images  Instances      Box(P          R      mAP50  mAP50-95): 100%|██████████| 78/78 [00:07<00:00, 10.56it/s]\n"
     ]
    },
    {
     "name": "stdout",
     "output_type": "stream",
     "text": [
      "                   all       2474      65746       0.57     0.0236       0.02    0.00816\n",
      "\n",
      "      Epoch    GPU_mem   box_loss   cls_loss   dfl_loss  Instances       Size\n"
     ]
    },
    {
     "name": "stderr",
     "output_type": "stream",
     "text": [
      "      3/150      25.6G      2.172      2.089      1.415        124        672: 100%|██████████| 1237/1237 [01:38<00:00, 12.53it/s]\n",
      "                 Class     Images  Instances      Box(P          R      mAP50  mAP50-95): 100%|██████████| 78/78 [00:08<00:00,  9.58it/s]\n"
     ]
    },
    {
     "name": "stdout",
     "output_type": "stream",
     "text": [
      "                   all       2474      65746      0.444     0.0329     0.0279     0.0116\n",
      "\n",
      "      Epoch    GPU_mem   box_loss   cls_loss   dfl_loss  Instances       Size\n"
     ]
    },
    {
     "name": "stderr",
     "output_type": "stream",
     "text": [
      "      4/150      25.6G      2.182      2.017      1.415         99        576: 100%|██████████| 1237/1237 [01:36<00:00, 12.81it/s]\n",
      "                 Class     Images  Instances      Box(P          R      mAP50  mAP50-95): 100%|██████████| 78/78 [00:08<00:00,  9.19it/s]\n"
     ]
    },
    {
     "name": "stdout",
     "output_type": "stream",
     "text": [
      "                   all       2474      65746      0.468      0.039     0.0274     0.0117\n",
      "\n",
      "      Epoch    GPU_mem   box_loss   cls_loss   dfl_loss  Instances       Size\n"
     ]
    },
    {
     "name": "stderr",
     "output_type": "stream",
     "text": [
      "      5/150      25.6G       2.15       1.91      1.396        401        864: 100%|██████████| 1237/1237 [01:36<00:00, 12.78it/s]\n",
      "                 Class     Images  Instances      Box(P          R      mAP50  mAP50-95): 100%|██████████| 78/78 [00:08<00:00,  9.18it/s]\n"
     ]
    },
    {
     "name": "stdout",
     "output_type": "stream",
     "text": [
      "                   all       2474      65746      0.384     0.0558     0.0405     0.0176\n",
      "\n",
      "      Epoch    GPU_mem   box_loss   cls_loss   dfl_loss  Instances       Size\n"
     ]
    },
    {
     "name": "stderr",
     "output_type": "stream",
     "text": [
      "      6/150      25.6G      2.125       1.85      1.396         33        448: 100%|██████████| 1237/1237 [01:38<00:00, 12.57it/s]\n",
      "                 Class     Images  Instances      Box(P          R      mAP50  mAP50-95): 100%|██████████| 78/78 [00:07<00:00, 10.41it/s]\n"
     ]
    },
    {
     "name": "stdout",
     "output_type": "stream",
     "text": [
      "                   all       2474      65746      0.525      0.055     0.0464     0.0201\n",
      "\n",
      "      Epoch    GPU_mem   box_loss   cls_loss   dfl_loss  Instances       Size\n"
     ]
    },
    {
     "name": "stderr",
     "output_type": "stream",
     "text": [
      "      7/150      25.6G      2.103      1.791      1.385        221        448: 100%|██████████| 1237/1237 [01:37<00:00, 12.73it/s]\n",
      "                 Class     Images  Instances      Box(P          R      mAP50  mAP50-95): 100%|██████████| 78/78 [00:08<00:00,  9.57it/s]\n"
     ]
    },
    {
     "name": "stdout",
     "output_type": "stream",
     "text": [
      "                   all       2474      65746      0.419     0.0688     0.0509     0.0226\n",
      "\n",
      "      Epoch    GPU_mem   box_loss   cls_loss   dfl_loss  Instances       Size\n"
     ]
    },
    {
     "name": "stderr",
     "output_type": "stream",
     "text": [
      "      8/150      25.6G      2.082      1.755      1.378        396        384: 100%|██████████| 1237/1237 [01:38<00:00, 12.54it/s]\n",
      "                 Class     Images  Instances      Box(P          R      mAP50  mAP50-95): 100%|██████████| 78/78 [00:08<00:00,  9.44it/s]\n"
     ]
    },
    {
     "name": "stdout",
     "output_type": "stream",
     "text": [
      "                   all       2474      65746      0.443     0.0673     0.0458     0.0204\n",
      "\n",
      "      Epoch    GPU_mem   box_loss   cls_loss   dfl_loss  Instances       Size\n"
     ]
    },
    {
     "name": "stderr",
     "output_type": "stream",
     "text": [
      "      9/150      25.6G      2.067      1.725      1.367        160        448: 100%|██████████| 1237/1237 [01:37<00:00, 12.63it/s]\n",
      "                 Class     Images  Instances      Box(P          R      mAP50  mAP50-95): 100%|██████████| 78/78 [00:08<00:00,  9.15it/s]\n"
     ]
    },
    {
     "name": "stdout",
     "output_type": "stream",
     "text": [
      "                   all       2474      65746      0.384     0.0802     0.0462     0.0198\n",
      "\n",
      "      Epoch    GPU_mem   box_loss   cls_loss   dfl_loss  Instances       Size\n"
     ]
    },
    {
     "name": "stderr",
     "output_type": "stream",
     "text": [
      "     10/150      25.6G      2.067      1.699      1.366        145        480: 100%|██████████| 1237/1237 [01:38<00:00, 12.54it/s]\n",
      "                 Class     Images  Instances      Box(P          R      mAP50  mAP50-95): 100%|██████████| 78/78 [00:07<00:00,  9.85it/s]\n"
     ]
    },
    {
     "name": "stdout",
     "output_type": "stream",
     "text": [
      "                   all       2474      65746      0.469     0.0769     0.0531     0.0245\n",
      "\n",
      "      Epoch    GPU_mem   box_loss   cls_loss   dfl_loss  Instances       Size\n"
     ]
    },
    {
     "name": "stderr",
     "output_type": "stream",
     "text": [
      "     11/150      25.6G      2.053      1.685       1.36        209        384: 100%|██████████| 1237/1237 [01:39<00:00, 12.43it/s]\n",
      "                 Class     Images  Instances      Box(P          R      mAP50  mAP50-95): 100%|██████████| 78/78 [00:08<00:00,  9.37it/s]\n"
     ]
    },
    {
     "name": "stdout",
     "output_type": "stream",
     "text": [
      "                   all       2474      65746      0.476     0.0843     0.0598      0.028\n",
      "\n",
      "      Epoch    GPU_mem   box_loss   cls_loss   dfl_loss  Instances       Size\n"
     ]
    },
    {
     "name": "stderr",
     "output_type": "stream",
     "text": [
      "     12/150      25.6G      2.032      1.664      1.358        420        608: 100%|██████████| 1237/1237 [01:39<00:00, 12.37it/s]\n",
      "                 Class     Images  Instances      Box(P          R      mAP50  mAP50-95): 100%|██████████| 78/78 [00:07<00:00,  9.75it/s]\n"
     ]
    },
    {
     "name": "stdout",
     "output_type": "stream",
     "text": [
      "                   all       2474      65746      0.445     0.0965     0.0675     0.0322\n",
      "\n",
      "      Epoch    GPU_mem   box_loss   cls_loss   dfl_loss  Instances       Size\n"
     ]
    },
    {
     "name": "stderr",
     "output_type": "stream",
     "text": [
      "     13/150      25.6G      2.045      1.671      1.355        167        320: 100%|██████████| 1237/1237 [01:39<00:00, 12.38it/s]\n",
      "                 Class     Images  Instances      Box(P          R      mAP50  mAP50-95): 100%|██████████| 78/78 [00:08<00:00,  9.50it/s]\n"
     ]
    },
    {
     "name": "stdout",
     "output_type": "stream",
     "text": [
      "                   all       2474      65746      0.464      0.098     0.0717     0.0333\n",
      "\n",
      "      Epoch    GPU_mem   box_loss   cls_loss   dfl_loss  Instances       Size\n"
     ]
    },
    {
     "name": "stderr",
     "output_type": "stream",
     "text": [
      "     14/150      25.6G      2.042      1.656      1.354        187        896: 100%|██████████| 1237/1237 [01:40<00:00, 12.32it/s]\n",
      "                 Class     Images  Instances      Box(P          R      mAP50  mAP50-95): 100%|██████████| 78/78 [00:07<00:00,  9.84it/s]\n"
     ]
    },
    {
     "name": "stdout",
     "output_type": "stream",
     "text": [
      "                   all       2474      65746      0.393     0.0885     0.0645     0.0305\n",
      "\n",
      "      Epoch    GPU_mem   box_loss   cls_loss   dfl_loss  Instances       Size\n"
     ]
    },
    {
     "name": "stderr",
     "output_type": "stream",
     "text": [
      "     15/150      25.6G      2.036      1.646       1.35        102        960: 100%|██████████| 1237/1237 [01:40<00:00, 12.33it/s]\n",
      "                 Class     Images  Instances      Box(P          R      mAP50  mAP50-95): 100%|██████████| 78/78 [00:07<00:00,  9.92it/s]\n"
     ]
    },
    {
     "name": "stdout",
     "output_type": "stream",
     "text": [
      "                   all       2474      65746      0.443      0.116     0.0763     0.0357\n",
      "\n",
      "      Epoch    GPU_mem   box_loss   cls_loss   dfl_loss  Instances       Size\n"
     ]
    },
    {
     "name": "stderr",
     "output_type": "stream",
     "text": [
      "     16/150      25.6G      2.024       1.63      1.342         51        928: 100%|██████████| 1237/1237 [01:39<00:00, 12.39it/s]\n",
      "                 Class     Images  Instances      Box(P          R      mAP50  mAP50-95): 100%|██████████| 78/78 [00:07<00:00,  9.85it/s]\n"
     ]
    },
    {
     "name": "stdout",
     "output_type": "stream",
     "text": [
      "                   all       2474      65746      0.457      0.111      0.076     0.0359\n",
      "\n",
      "      Epoch    GPU_mem   box_loss   cls_loss   dfl_loss  Instances       Size\n"
     ]
    },
    {
     "name": "stderr",
     "output_type": "stream",
     "text": [
      "     17/150      25.6G      2.022      1.626      1.344        339        704: 100%|██████████| 1237/1237 [01:41<00:00, 12.23it/s]\n",
      "                 Class     Images  Instances      Box(P          R      mAP50  mAP50-95): 100%|██████████| 78/78 [00:07<00:00,  9.93it/s]\n"
     ]
    },
    {
     "name": "stdout",
     "output_type": "stream",
     "text": [
      "                   all       2474      65746       0.42      0.107     0.0747     0.0348\n",
      "\n",
      "      Epoch    GPU_mem   box_loss   cls_loss   dfl_loss  Instances       Size\n"
     ]
    },
    {
     "name": "stderr",
     "output_type": "stream",
     "text": [
      "     18/150      25.6G      2.015      1.611      1.345        216        448: 100%|██████████| 1237/1237 [01:41<00:00, 12.19it/s]\n",
      "                 Class     Images  Instances      Box(P          R      mAP50  mAP50-95): 100%|██████████| 78/78 [00:07<00:00,  9.83it/s]\n"
     ]
    },
    {
     "name": "stdout",
     "output_type": "stream",
     "text": [
      "                   all       2474      65746      0.416      0.121     0.0852     0.0405\n",
      "\n",
      "      Epoch    GPU_mem   box_loss   cls_loss   dfl_loss  Instances       Size\n"
     ]
    },
    {
     "name": "stderr",
     "output_type": "stream",
     "text": [
      "     19/150      25.6G      2.009      1.611      1.341        113        448: 100%|██████████| 1237/1237 [01:41<00:00, 12.19it/s]\n",
      "                 Class     Images  Instances      Box(P          R      mAP50  mAP50-95): 100%|██████████| 78/78 [00:07<00:00,  9.84it/s]\n"
     ]
    },
    {
     "name": "stdout",
     "output_type": "stream",
     "text": [
      "                   all       2474      65746      0.449      0.127      0.086     0.0407\n",
      "\n",
      "      Epoch    GPU_mem   box_loss   cls_loss   dfl_loss  Instances       Size\n"
     ]
    },
    {
     "name": "stderr",
     "output_type": "stream",
     "text": [
      "     20/150      25.6G      2.006      1.598      1.338        281        704: 100%|██████████| 1237/1237 [01:42<00:00, 12.08it/s]\n",
      "                 Class     Images  Instances      Box(P          R      mAP50  mAP50-95): 100%|██████████| 78/78 [00:07<00:00,  9.95it/s]\n"
     ]
    },
    {
     "name": "stdout",
     "output_type": "stream",
     "text": [
      "                   all       2474      65746      0.431      0.122     0.0825     0.0393\n",
      "\n",
      "      Epoch    GPU_mem   box_loss   cls_loss   dfl_loss  Instances       Size\n"
     ]
    },
    {
     "name": "stderr",
     "output_type": "stream",
     "text": [
      "     21/150      25.6G      1.997      1.595      1.332        438        832: 100%|██████████| 1237/1237 [01:42<00:00, 12.10it/s]\n",
      "                 Class     Images  Instances      Box(P          R      mAP50  mAP50-95): 100%|██████████| 78/78 [00:07<00:00, 10.02it/s]\n"
     ]
    },
    {
     "name": "stdout",
     "output_type": "stream",
     "text": [
      "                   all       2474      65746      0.495      0.133     0.0923      0.044\n",
      "\n",
      "      Epoch    GPU_mem   box_loss   cls_loss   dfl_loss  Instances       Size\n"
     ]
    },
    {
     "name": "stderr",
     "output_type": "stream",
     "text": [
      "     22/150      25.6G      1.998      1.589      1.335        318        352: 100%|██████████| 1237/1237 [01:42<00:00, 12.09it/s]\n",
      "                 Class     Images  Instances      Box(P          R      mAP50  mAP50-95): 100%|██████████| 78/78 [00:07<00:00,  9.98it/s]\n"
     ]
    },
    {
     "name": "stdout",
     "output_type": "stream",
     "text": [
      "                   all       2474      65746      0.489      0.125     0.0907      0.043\n",
      "\n",
      "      Epoch    GPU_mem   box_loss   cls_loss   dfl_loss  Instances       Size\n"
     ]
    },
    {
     "name": "stderr",
     "output_type": "stream",
     "text": [
      "     23/150      25.6G      2.007      1.568      1.326        110        320: 100%|██████████| 1237/1237 [01:41<00:00, 12.15it/s]\n",
      "                 Class     Images  Instances      Box(P          R      mAP50  mAP50-95): 100%|██████████| 78/78 [00:07<00:00, 10.00it/s]\n"
     ]
    },
    {
     "name": "stdout",
     "output_type": "stream",
     "text": [
      "                   all       2474      65746      0.454      0.131     0.0986     0.0487\n",
      "\n",
      "      Epoch    GPU_mem   box_loss   cls_loss   dfl_loss  Instances       Size\n"
     ]
    },
    {
     "name": "stderr",
     "output_type": "stream",
     "text": [
      "     24/150      25.6G      1.995      1.584      1.335        261        768: 100%|██████████| 1237/1237 [01:42<00:00, 12.08it/s]\n",
      "                 Class     Images  Instances      Box(P          R      mAP50  mAP50-95): 100%|██████████| 78/78 [00:07<00:00,  9.93it/s]\n"
     ]
    },
    {
     "name": "stdout",
     "output_type": "stream",
     "text": [
      "                   all       2474      65746      0.522      0.131     0.0968     0.0466\n",
      "\n",
      "      Epoch    GPU_mem   box_loss   cls_loss   dfl_loss  Instances       Size\n"
     ]
    },
    {
     "name": "stderr",
     "output_type": "stream",
     "text": [
      "     26/150      25.6G      1.996      1.559      1.323        947        736: 100%|██████████| 1237/1237 [01:41<00:00, 12.17it/s]\n",
      "                 Class     Images  Instances      Box(P          R      mAP50  mAP50-95): 100%|██████████| 78/78 [00:07<00:00, 10.09it/s]\n"
     ]
    },
    {
     "name": "stdout",
     "output_type": "stream",
     "text": [
      "                   all       2474      65746      0.492       0.13      0.101     0.0485\n",
      "\n",
      "      Epoch    GPU_mem   box_loss   cls_loss   dfl_loss  Instances       Size\n"
     ]
    },
    {
     "name": "stderr",
     "output_type": "stream",
     "text": [
      "     27/150      25.6G      1.993      1.566      1.326        191        864: 100%|██████████| 1237/1237 [01:43<00:00, 11.96it/s]\n",
      "                 Class     Images  Instances      Box(P          R      mAP50  mAP50-95):  56%|█████▋    | 44/78 [00:04<00:04,  8.07it/s]IOPub message rate exceeded.\n",
      "The Jupyter server will temporarily stop sending output\n",
      "to the client in order to avoid crashing it.\n",
      "To change this limit, set the config variable\n",
      "`--ServerApp.iopub_msg_rate_limit`.\n",
      "\n",
      "Current values:\n",
      "ServerApp.iopub_msg_rate_limit=1000.0 (msgs/sec)\n",
      "ServerApp.rate_limit_window=3.0 (secs)\n",
      "\n",
      "     28/150      25.6G      1.991      1.567      1.328        221        448: 100%|██████████| 1237/1237 [01:42<00:00, 12.08it/s]\n",
      "                 Class     Images  Instances      Box(P          R      mAP50  mAP50-95): 100%|██████████| 78/78 [00:07<00:00, 10.02it/s]\n"
     ]
    },
    {
     "name": "stdout",
     "output_type": "stream",
     "text": [
      "                   all       2474      65746      0.489      0.139      0.104     0.0498\n",
      "\n",
      "      Epoch    GPU_mem   box_loss   cls_loss   dfl_loss  Instances       Size\n"
     ]
    },
    {
     "name": "stderr",
     "output_type": "stream",
     "text": [
      "     29/150      34.3G      1.983       1.55      1.323         46        416: 100%|██████████| 1237/1237 [01:43<00:00, 11.94it/s]\n",
      "                 Class     Images  Instances      Box(P          R      mAP50  mAP50-95): 100%|██████████| 78/78 [00:07<00:00,  9.99it/s]\n"
     ]
    },
    {
     "name": "stdout",
     "output_type": "stream",
     "text": [
      "                   all       2474      65746       0.42       0.14      0.103     0.0493\n",
      "\n",
      "      Epoch    GPU_mem   box_loss   cls_loss   dfl_loss  Instances       Size\n"
     ]
    },
    {
     "name": "stderr",
     "output_type": "stream",
     "text": [
      "     30/150      34.3G      1.981      1.567      1.332        293        480: 100%|██████████| 1237/1237 [01:45<00:00, 11.69it/s]\n",
      "                 Class     Images  Instances      Box(P          R      mAP50  mAP50-95): 100%|██████████| 78/78 [00:07<00:00,  9.96it/s]\n"
     ]
    },
    {
     "name": "stdout",
     "output_type": "stream",
     "text": [
      "                   all       2474      65746      0.493      0.141      0.114     0.0561\n",
      "\n",
      "      Epoch    GPU_mem   box_loss   cls_loss   dfl_loss  Instances       Size\n"
     ]
    },
    {
     "name": "stderr",
     "output_type": "stream",
     "text": [
      "     31/150      34.3G      1.984       1.56       1.32        154        832: 100%|██████████| 1237/1237 [01:43<00:00, 11.98it/s]\n",
      "                 Class     Images  Instances      Box(P          R      mAP50  mAP50-95): 100%|██████████| 78/78 [00:07<00:00, 10.01it/s]\n"
     ]
    },
    {
     "name": "stdout",
     "output_type": "stream",
     "text": [
      "                   all       2474      65746      0.494      0.148      0.116     0.0541\n",
      "\n",
      "      Epoch    GPU_mem   box_loss   cls_loss   dfl_loss  Instances       Size\n"
     ]
    },
    {
     "name": "stderr",
     "output_type": "stream",
     "text": [
      "     32/150      34.3G      1.971      1.536      1.323        144        576: 100%|██████████| 1237/1237 [01:45<00:00, 11.76it/s]\n",
      "                 Class     Images  Instances      Box(P          R      mAP50  mAP50-95): 100%|██████████| 78/78 [00:07<00:00, 10.07it/s]\n"
     ]
    },
    {
     "name": "stdout",
     "output_type": "stream",
     "text": [
      "                   all       2474      65746      0.437      0.154      0.122     0.0595\n",
      "\n",
      "      Epoch    GPU_mem   box_loss   cls_loss   dfl_loss  Instances       Size\n"
     ]
    },
    {
     "name": "stderr",
     "output_type": "stream",
     "text": [
      "     33/150      34.3G      1.984      1.541      1.318        257        640: 100%|██████████| 1237/1237 [01:42<00:00, 12.01it/s]\n",
      "                 Class     Images  Instances      Box(P          R      mAP50  mAP50-95): 100%|██████████| 78/78 [00:07<00:00, 10.06it/s]\n"
     ]
    },
    {
     "name": "stdout",
     "output_type": "stream",
     "text": [
      "                   all       2474      65746      0.485      0.146       0.12     0.0593\n",
      "\n",
      "      Epoch    GPU_mem   box_loss   cls_loss   dfl_loss  Instances       Size\n"
     ]
    },
    {
     "name": "stderr",
     "output_type": "stream",
     "text": [
      "     34/150      34.3G       1.98      1.538      1.318         99        384: 100%|██████████| 1237/1237 [01:42<00:00, 12.03it/s]\n",
      "                 Class     Images  Instances      Box(P          R      mAP50  mAP50-95): 100%|██████████| 78/78 [00:07<00:00, 10.07it/s]\n"
     ]
    },
    {
     "name": "stdout",
     "output_type": "stream",
     "text": [
      "                   all       2474      65746      0.476      0.145      0.122     0.0598\n",
      "\n",
      "      Epoch    GPU_mem   box_loss   cls_loss   dfl_loss  Instances       Size\n"
     ]
    },
    {
     "name": "stderr",
     "output_type": "stream",
     "text": [
      "     35/150      34.3G      1.963      1.532      1.316        228        832: 100%|██████████| 1237/1237 [01:44<00:00, 11.82it/s]\n",
      "                 Class     Images  Instances      Box(P          R      mAP50  mAP50-95): 100%|██████████| 78/78 [00:07<00:00, 10.08it/s]\n"
     ]
    },
    {
     "name": "stdout",
     "output_type": "stream",
     "text": [
      "                   all       2474      65746      0.461      0.147      0.118      0.057\n",
      "\n",
      "      Epoch    GPU_mem   box_loss   cls_loss   dfl_loss  Instances       Size\n"
     ]
    },
    {
     "name": "stderr",
     "output_type": "stream",
     "text": [
      "     36/150      34.3G      1.981      1.539      1.317        160        544: 100%|██████████| 1237/1237 [01:42<00:00, 12.10it/s]\n",
      "                 Class     Images  Instances      Box(P          R      mAP50  mAP50-95): 100%|██████████| 78/78 [00:07<00:00, 10.13it/s]\n"
     ]
    },
    {
     "name": "stdout",
     "output_type": "stream",
     "text": [
      "                   all       2474      65746      0.456      0.144      0.119     0.0568\n",
      "\n",
      "      Epoch    GPU_mem   box_loss   cls_loss   dfl_loss  Instances       Size\n"
     ]
    },
    {
     "name": "stderr",
     "output_type": "stream",
     "text": [
      "     37/150      34.3G      1.968      1.526      1.316        332        960: 100%|██████████| 1237/1237 [01:42<00:00, 12.04it/s]\n",
      "                 Class     Images  Instances      Box(P          R      mAP50  mAP50-95): 100%|██████████| 78/78 [00:07<00:00, 10.06it/s]\n"
     ]
    },
    {
     "name": "stdout",
     "output_type": "stream",
     "text": [
      "                   all       2474      65746      0.444      0.152      0.121     0.0576\n",
      "\n",
      "      Epoch    GPU_mem   box_loss   cls_loss   dfl_loss  Instances       Size\n"
     ]
    },
    {
     "name": "stderr",
     "output_type": "stream",
     "text": [
      "     38/150      34.3G      1.971      1.519      1.312        526        576: 100%|██████████| 1237/1237 [01:43<00:00, 11.95it/s]\n",
      "                 Class     Images  Instances      Box(P          R      mAP50  mAP50-95): 100%|██████████| 78/78 [00:07<00:00, 10.04it/s]\n"
     ]
    },
    {
     "name": "stdout",
     "output_type": "stream",
     "text": [
      "                   all       2474      65746      0.446      0.153      0.122     0.0578\n",
      "\n",
      "      Epoch    GPU_mem   box_loss   cls_loss   dfl_loss  Instances       Size\n"
     ]
    },
    {
     "name": "stderr",
     "output_type": "stream",
     "text": [
      "     39/150      34.3G      1.965      1.522      1.314        399        928: 100%|██████████| 1237/1237 [01:43<00:00, 11.97it/s]\n",
      "                 Class     Images  Instances      Box(P          R      mAP50  mAP50-95): 100%|██████████| 78/78 [00:07<00:00, 10.07it/s]\n"
     ]
    },
    {
     "name": "stdout",
     "output_type": "stream",
     "text": [
      "                   all       2474      65746      0.457      0.156      0.121     0.0576\n",
      "\n",
      "      Epoch    GPU_mem   box_loss   cls_loss   dfl_loss  Instances       Size\n"
     ]
    },
    {
     "name": "stderr",
     "output_type": "stream",
     "text": [
      "     40/150      34.3G      1.965      1.518      1.312        544        416: 100%|██████████| 1237/1237 [01:43<00:00, 11.96it/s]\n",
      "                 Class     Images  Instances      Box(P          R      mAP50  mAP50-95): 100%|██████████| 78/78 [00:07<00:00, 10.17it/s]\n"
     ]
    },
    {
     "name": "stdout",
     "output_type": "stream",
     "text": [
      "                   all       2474      65746      0.441      0.155       0.12     0.0577\n",
      "\n",
      "      Epoch    GPU_mem   box_loss   cls_loss   dfl_loss  Instances       Size\n"
     ]
    },
    {
     "name": "stderr",
     "output_type": "stream",
     "text": [
      "     41/150      34.3G      1.963      1.521      1.314        152        928: 100%|██████████| 1237/1237 [01:45<00:00, 11.77it/s]\n",
      "                 Class     Images  Instances      Box(P          R      mAP50  mAP50-95): 100%|██████████| 78/78 [00:07<00:00, 10.15it/s]\n"
     ]
    },
    {
     "name": "stdout",
     "output_type": "stream",
     "text": [
      "                   all       2474      65746      0.438      0.157      0.122     0.0584\n",
      "\n",
      "      Epoch    GPU_mem   box_loss   cls_loss   dfl_loss  Instances       Size\n"
     ]
    },
    {
     "name": "stderr",
     "output_type": "stream",
     "text": [
      "     42/150      34.3G      1.961      1.513      1.307        186        320: 100%|██████████| 1237/1237 [01:43<00:00, 11.92it/s]\n",
      "                 Class     Images  Instances      Box(P          R      mAP50  mAP50-95): 100%|██████████| 78/78 [00:07<00:00, 10.14it/s]\n"
     ]
    },
    {
     "name": "stdout",
     "output_type": "stream",
     "text": [
      "                   all       2474      65746       0.49      0.156      0.123     0.0585\n",
      "\n",
      "      Epoch    GPU_mem   box_loss   cls_loss   dfl_loss  Instances       Size\n"
     ]
    },
    {
     "name": "stderr",
     "output_type": "stream",
     "text": [
      "     43/150      34.3G      1.956       1.52      1.309        153        928: 100%|██████████| 1237/1237 [01:43<00:00, 11.94it/s]\n",
      "                 Class     Images  Instances      Box(P          R      mAP50  mAP50-95): 100%|██████████| 78/78 [00:07<00:00, 10.12it/s]\n"
     ]
    },
    {
     "name": "stdout",
     "output_type": "stream",
     "text": [
      "                   all       2474      65746      0.468      0.155      0.123     0.0593\n",
      "\n",
      "      Epoch    GPU_mem   box_loss   cls_loss   dfl_loss  Instances       Size\n"
     ]
    },
    {
     "name": "stderr",
     "output_type": "stream",
     "text": [
      "     44/150      34.3G      1.949      1.504      1.307        442        672: 100%|██████████| 1237/1237 [01:44<00:00, 11.81it/s]\n",
      "                 Class     Images  Instances      Box(P          R      mAP50  mAP50-95): 100%|██████████| 78/78 [00:07<00:00, 10.17it/s]\n"
     ]
    },
    {
     "name": "stdout",
     "output_type": "stream",
     "text": [
      "                   all       2474      65746      0.472      0.156      0.126     0.0611\n",
      "\n",
      "      Epoch    GPU_mem   box_loss   cls_loss   dfl_loss  Instances       Size\n"
     ]
    },
    {
     "name": "stderr",
     "output_type": "stream",
     "text": [
      "     45/150      34.3G      1.963      1.511      1.305         73        960: 100%|██████████| 1237/1237 [01:43<00:00, 11.96it/s]\n",
      "                 Class     Images  Instances      Box(P          R      mAP50  mAP50-95): 100%|██████████| 78/78 [00:07<00:00, 10.20it/s]\n"
     ]
    },
    {
     "name": "stdout",
     "output_type": "stream",
     "text": [
      "                   all       2474      65746      0.459       0.16      0.128     0.0618\n",
      "\n",
      "      Epoch    GPU_mem   box_loss   cls_loss   dfl_loss  Instances       Size\n"
     ]
    },
    {
     "name": "stderr",
     "output_type": "stream",
     "text": [
      "     46/150      34.3G      1.955      1.498      1.305        186        448: 100%|██████████| 1237/1237 [01:42<00:00, 12.02it/s]\n",
      "                 Class     Images  Instances      Box(P          R      mAP50  mAP50-95): 100%|██████████| 78/78 [00:07<00:00, 10.19it/s]\n"
     ]
    },
    {
     "name": "stdout",
     "output_type": "stream",
     "text": [
      "                   all       2474      65746      0.468      0.159      0.129     0.0624\n",
      "\n",
      "      Epoch    GPU_mem   box_loss   cls_loss   dfl_loss  Instances       Size\n"
     ]
    },
    {
     "name": "stderr",
     "output_type": "stream",
     "text": [
      "     47/150      34.3G      1.955      1.489      1.298        392        608:  57%|█████▋    | 710/1237 [01:00<00:46, 11.24it/s]IOPub message rate exceeded.\n",
      "The Jupyter server will temporarily stop sending output\n",
      "to the client in order to avoid crashing it.\n",
      "To change this limit, set the config variable\n",
      "`--ServerApp.iopub_msg_rate_limit`.\n",
      "\n",
      "Current values:\n",
      "ServerApp.iopub_msg_rate_limit=1000.0 (msgs/sec)\n",
      "ServerApp.rate_limit_window=3.0 (secs)\n",
      "\n",
      "    126/150      34.3G      1.842      1.336      1.246        118        480: 100%|██████████| 1237/1237 [01:45<00:00, 11.68it/s]\n",
      "                 Class     Images  Instances      Box(P          R      mAP50  mAP50-95): 100%|██████████| 78/78 [00:07<00:00, 10.48it/s]\n"
     ]
    },
    {
     "name": "stdout",
     "output_type": "stream",
     "text": [
      "                   all       2474      65746       0.45      0.188      0.163     0.0817\n",
      "\n",
      "      Epoch    GPU_mem   box_loss   cls_loss   dfl_loss  Instances       Size\n"
     ]
    },
    {
     "name": "stderr",
     "output_type": "stream",
     "text": [
      "    127/150      34.3G      1.833      1.333       1.24        189        384:  52%|█████▏    | 642/1237 [00:54<00:47, 12.46it/s]"
     ]
    }
   ],
   "source": [
    "#Normalized YOLO format\n",
    "from ultralytics import YOLO\n",
    "\n",
    "model = YOLO(\"models/baseline/yolov8n.pt\")\n",
    "\n",
    "# Train the model\n",
    "train_results = model.train(\n",
    "    data=\"./xview-yolo-dataset/YOLO_cfg/xview_yolo.yaml\",  # path to dataset YAML\n",
    "    epochs=150,\n",
    "    batch = 16,\n",
    "    imgsz=640,\n",
    "    multi_scale=True,\n",
    "    device=0,  # device to run on, i.e. device=0 or device=0,1,2,3 or device=cpu\n",
    "    #freeze=10,\n",
    "    lr0 = 0.001,\n",
    "    lrf = 0.0001,\n",
    "    dropout = 0.1,\n",
    "    iou = 0.5,\n",
    "    close_mosaic = 20,\n",
    "    cos_lr = True,\n",
    "    half = True,\n",
    "    patience=100\n",
    ")"
   ]
  },
  {
   "cell_type": "code",
   "execution_count": 6,
   "id": "38fcdc16-0046-4816-a3a6-9ebde2ac64a6",
   "metadata": {},
   "outputs": [
    {
     "name": "stdout",
     "output_type": "stream",
     "text": [
      "Ultralytics 8.3.169 🚀 Python-3.9.18 torch-2.1.2+cu118 CUDA:0 (NVIDIA A100 80GB PCIe, 81156MiB)\n",
      "/mmfs1/cm/shared/apps_local/python/3.11/envs/torch11.8/lib/python3.9/site-packages/torch/nn/modules/conv.py:456: UserWarning: Applied workaround for CuDNN issue, install nvrtc.so (Triggered internally at ../aten/src/ATen/native/cudnn/Conv_v8.cpp:80.)\n",
      "  return F.conv2d(input, weight, bias, self.stride,\n",
      "Model summary (fused): 72 layers, 3,017,348 parameters, 0 gradients, 8.1 GFLOPs\n",
      "\u001b[34m\u001b[1mval: \u001b[0mFast image access ✅ (ping: 0.0±0.0 ms, read: 2621.6±859.1 MB/s, size: 99.3 KB)\n",
      "\u001b[34m\u001b[1mval: \u001b[0mScanning /mmfs1/scratch/dsu.local/bshakya/scratch/bshakya/sahi/xview-yolo-d\u001b[0m\n",
      "\u001b[34m\u001b[1mval: \u001b[0m/mmfs1/scratch/dsu.local/bshakya/scratch/bshakya/sahi/xview-yolo-dataset/xview_yolo/images/val/img_1136_3200_2560.jpg: ignoring corrupt image/label: image size (4, 4) <10 pixels\n",
      "\u001b[34m\u001b[1mval: \u001b[0m/mmfs1/scratch/dsu.local/bshakya/scratch/bshakya/sahi/xview-yolo-dataset/xview_yolo/images/val/img_1139_3200_640.jpg: ignoring corrupt image/label: image size (5, 5) <10 pixels\n",
      "\u001b[34m\u001b[1mval: \u001b[0m/mmfs1/scratch/dsu.local/bshakya/scratch/bshakya/sahi/xview-yolo-dataset/xview_yolo/images/val/img_1770_2560_1280.jpg: ignoring corrupt image/label: image size (4, 4) <10 pixels\n",
      "\u001b[34m\u001b[1mval: \u001b[0m/mmfs1/scratch/dsu.local/bshakya/scratch/bshakya/sahi/xview-yolo-dataset/xview_yolo/images/val/img_1770_2560_2560.jpg: ignoring corrupt image/label: image size (4, 4) <10 pixels\n",
      "\u001b[34m\u001b[1mval: \u001b[0m/mmfs1/scratch/dsu.local/bshakya/scratch/bshakya/sahi/xview-yolo-dataset/xview_yolo/images/val/img_1799_2560_1920.jpg: ignoring corrupt image/label: image size (5, 5) <10 pixels\n",
      "\u001b[34m\u001b[1mval: \u001b[0m/mmfs1/scratch/dsu.local/bshakya/scratch/bshakya/sahi/xview-yolo-dataset/xview_yolo/images/val/img_727_1280_5120.jpg: ignoring corrupt image/label: image size (640, 1) <10 pixels\n",
      "                 Class     Images  Instances      Box(P          R      mAP50  m\n",
      "                   all       2474      65746      0.444      0.192      0.161     0.0825\n",
      "   Fixed-wing Aircraft          4          4          0          0    0.00775    0.00287\n",
      "        Small Aircraft         15         48       0.32      0.354      0.333      0.137\n",
      " Passenger/Cargo Plane         42         81      0.513      0.642      0.568      0.313\n",
      "            Helicopter         11         22      0.911      0.227      0.452      0.146\n",
      "     Passenger Vehicle         56        201          1          0    0.00363    0.00141\n",
      "             Small Car        845      23617       0.51      0.605      0.548      0.208\n",
      "                   Bus        253        917      0.371      0.394      0.319      0.176\n",
      "          Pickup Truck         58        103          1          0     0.0157    0.00849\n",
      "         Utility Truck        159        316          0          0     0.0119     0.0061\n",
      "                 Truck        332       1138      0.202      0.208      0.112     0.0571\n",
      "           Cargo Truck        204        559      0.221      0.093     0.0841     0.0378\n",
      "Truck Tractor w/ Box Trailer        111        370      0.287      0.362      0.284      0.154\n",
      "         Truck Tractor         28         77          1          0    0.00157   0.000857\n",
      "               Trailer         81        342      0.225     0.0789     0.0791     0.0399\n",
      "Truck Tractor w/ Flatbed Trailer         48        117      0.279     0.0256     0.0345     0.0181\n",
      "Truck Tractor w/ Liquid Tank         16         23          1          0     0.0512     0.0354\n",
      "           Crane Truck         13         17          1          0     0.0269     0.0141\n",
      "       Railway Vehicle          1          1          1          0          0          0\n",
      "         Passenger Car         15        246      0.454      0.614      0.575      0.319\n",
      "   Cargo/Container Car         22        208      0.447      0.481      0.413      0.208\n",
      "              Flat Car          3         17          1          0          0          0\n",
      "              Tank car          2          4          0          0    0.00455    0.00182\n",
      "            Locomotive          9         16          1          0     0.0301     0.0152\n",
      "       Maritime Vessel         32        140     0.0899      0.107      0.028     0.0142\n",
      "             Motorboat         24        260       0.45      0.409      0.327      0.102\n",
      "              Sailboat          3        134      0.185      0.261     0.0784      0.023\n",
      "               Tugboat         16         38      0.259      0.395      0.186     0.0632\n",
      "                 Barge          9         13     0.0271     0.0769     0.0509     0.0345\n",
      "        Fishing Vessel         18         86       0.15      0.151     0.0517     0.0218\n",
      "                 Ferry         13         31      0.255      0.323      0.267      0.168\n",
      "                 Yacht          9         43      0.397      0.721      0.616      0.419\n",
      "        Container Ship         21         31       0.26      0.419      0.332      0.168\n",
      "            Oil Tanker          6          7      0.112      0.429      0.156     0.0921\n",
      "   Engineering Vehicle         12         15          0          0     0.0158    0.00921\n",
      "           Tower crane         16         19          1          0     0.0169    0.00779\n",
      "       Container Crane          7         11     0.0355      0.029     0.0174     0.0116\n",
      "         Reach Stacker          4          8          1          0       0.13     0.0908\n",
      "      Straddle Carrier          3          4      0.156      0.156      0.064     0.0256\n",
      "          Mobile Crane         17         22          0          0    0.00862    0.00407\n",
      "            Dump Truck         62        138      0.218       0.13      0.102     0.0587\n",
      "            Haul Truck         16         37      0.466      0.649      0.643      0.423\n",
      "       Scraper/Tractor          5          6          1          0          0          0\n",
      "Front loader/Bulldozer         36         49      0.173      0.143      0.113     0.0507\n",
      "             Excavator         40         67      0.255      0.224      0.109     0.0658\n",
      "          Cement Mixer         13         37          1          0    0.00512    0.00314\n",
      "         Ground Grader          6          7          1          0     0.0542     0.0367\n",
      "              Hut/Tent         11         24          1          0    0.00666     0.0027\n",
      "                  Shed         46         90      0.392     0.0889      0.119     0.0452\n",
      "              Building       1063      34234      0.439      0.663      0.567      0.293\n",
      "       Aircraft Hangar         14         34      0.335      0.147      0.106     0.0693\n",
      "      Damaged Building         51        113      0.205      0.248      0.173      0.099\n",
      "              Facility         90        138      0.248      0.152      0.112      0.062\n",
      "     Construction Site         59        164      0.181     0.0244     0.0188    0.00858\n",
      "           Vehicle Lot        219        670      0.293      0.103     0.0875      0.035\n",
      "               Helipad          4          5      0.101        0.2      0.196     0.0606\n",
      "          Storage Tank         52        224      0.495      0.433      0.427      0.232\n",
      "Shipping container lot         50        247      0.165      0.227     0.0873     0.0372\n",
      "    Shipping Container         23         99      0.261      0.152      0.158     0.0597\n",
      "                 Pylon         39         50      0.274       0.36      0.214      0.128\n",
      "                 Tower          6          7          1          0     0.0337      0.023\n",
      "Speed: 0.1ms preprocess, 1.0ms inference, 0.0ms loss, 1.1ms postprocess per image\n",
      "Results saved to \u001b[1mruns/detect/val2\u001b[0m\n",
      "💡 Learn more at https://docs.ultralytics.com/modes/val\n"
     ]
    }
   ],
   "source": [
    "!yolo detect val data=./xview-yolo-dataset/YOLO_cfg/xview_yolo.yaml model=runs/detect/train20/weights/last.pt imgsz=640 device=\"CUDA:0\""
   ]
  },
  {
   "cell_type": "code",
   "execution_count": 24,
   "id": "bed347d4-01d5-4911-958f-77d52270cebc",
   "metadata": {},
   "outputs": [
    {
     "name": "stdout",
     "output_type": "stream",
     "text": [
      "Ultralytics 8.3.169 🚀 Python-3.9.18 torch-2.1.2+cu118 CUDA:0 (NVIDIA A100 80GB PCIe, 81156MiB)\n",
      "/mmfs1/cm/shared/apps_local/python/3.11/envs/torch11.8/lib/python3.9/site-packages/torch/nn/modules/conv.py:456: UserWarning: Applied workaround for CuDNN issue, install nvrtc.so (Triggered internally at ../aten/src/ATen/native/cudnn/Conv_v8.cpp:80.)\n",
      "  return F.conv2d(input, weight, bias, self.stride,\n",
      "Model summary (fused): 72 layers, 3,017,348 parameters, 0 gradients, 8.1 GFLOPs\n",
      "\u001b[34m\u001b[1mval: \u001b[0mFast image access ✅ (ping: 0.0±0.0 ms, read: 143.5±115.8 MB/s, size: 55.9 KB)\n",
      "\u001b[34m\u001b[1mval: \u001b[0mScanning /mmfs1/scratch/dsu.local/bshakya/scratch/bshakya/sahi/xview-yolo-d\u001b[0m\n",
      "\u001b[34m\u001b[1mval: \u001b[0m/mmfs1/scratch/dsu.local/bshakya/scratch/bshakya/sahi/xview-yolo-dataset/xview_yolo/images/val/img_1136_3200_2560.jpg: ignoring corrupt image/label: image size (4, 4) <10 pixels\n",
      "\u001b[34m\u001b[1mval: \u001b[0m/mmfs1/scratch/dsu.local/bshakya/scratch/bshakya/sahi/xview-yolo-dataset/xview_yolo/images/val/img_1139_3200_640.jpg: ignoring corrupt image/label: image size (5, 5) <10 pixels\n",
      "\u001b[34m\u001b[1mval: \u001b[0m/mmfs1/scratch/dsu.local/bshakya/scratch/bshakya/sahi/xview-yolo-dataset/xview_yolo/images/val/img_1770_2560_1280.jpg: ignoring corrupt image/label: image size (4, 4) <10 pixels\n",
      "\u001b[34m\u001b[1mval: \u001b[0m/mmfs1/scratch/dsu.local/bshakya/scratch/bshakya/sahi/xview-yolo-dataset/xview_yolo/images/val/img_1770_2560_2560.jpg: ignoring corrupt image/label: image size (4, 4) <10 pixels\n",
      "\u001b[34m\u001b[1mval: \u001b[0m/mmfs1/scratch/dsu.local/bshakya/scratch/bshakya/sahi/xview-yolo-dataset/xview_yolo/images/val/img_1799_2560_1920.jpg: ignoring corrupt image/label: image size (5, 5) <10 pixels\n",
      "\u001b[34m\u001b[1mval: \u001b[0m/mmfs1/scratch/dsu.local/bshakya/scratch/bshakya/sahi/xview-yolo-dataset/xview_yolo/images/val/img_727_1280_5120.jpg: ignoring corrupt image/label: image size (640, 1) <10 pixels\n",
      "                 Class     Images  Instances      Box(P          R      mAP50  m\n",
      "                   all       2474      65746      0.444      0.192      0.161     0.0825\n",
      "   Fixed-wing Aircraft          4          4          0          0    0.00775    0.00287\n",
      "        Small Aircraft         15         48       0.32      0.354      0.333      0.137\n",
      " Passenger/Cargo Plane         42         81      0.513      0.642      0.568      0.313\n",
      "            Helicopter         11         22      0.911      0.227      0.452      0.146\n",
      "     Passenger Vehicle         56        201          1          0    0.00363    0.00141\n",
      "             Small Car        845      23617       0.51      0.605      0.548      0.208\n",
      "                   Bus        253        917      0.371      0.394      0.319      0.176\n",
      "          Pickup Truck         58        103          1          0     0.0157    0.00849\n",
      "         Utility Truck        159        316          0          0     0.0119     0.0061\n",
      "                 Truck        332       1138      0.202      0.208      0.112     0.0571\n",
      "           Cargo Truck        204        559      0.221      0.093     0.0841     0.0378\n",
      "Truck Tractor w/ Box Trailer        111        370      0.287      0.362      0.284      0.154\n",
      "         Truck Tractor         28         77          1          0    0.00157   0.000857\n",
      "               Trailer         81        342      0.225     0.0789     0.0791     0.0399\n",
      "Truck Tractor w/ Flatbed Trailer         48        117      0.279     0.0256     0.0345     0.0181\n",
      "Truck Tractor w/ Liquid Tank         16         23          1          0     0.0512     0.0354\n",
      "           Crane Truck         13         17          1          0     0.0269     0.0141\n",
      "       Railway Vehicle          1          1          1          0          0          0\n",
      "         Passenger Car         15        246      0.454      0.614      0.575      0.319\n",
      "   Cargo/Container Car         22        208      0.447      0.481      0.413      0.208\n",
      "              Flat Car          3         17          1          0          0          0\n",
      "              Tank car          2          4          0          0    0.00455    0.00182\n",
      "            Locomotive          9         16          1          0     0.0301     0.0152\n",
      "       Maritime Vessel         32        140     0.0899      0.107      0.028     0.0142\n",
      "             Motorboat         24        260       0.45      0.409      0.327      0.102\n",
      "              Sailboat          3        134      0.185      0.261     0.0784      0.023\n",
      "               Tugboat         16         38      0.259      0.395      0.186     0.0632\n",
      "                 Barge          9         13     0.0271     0.0769     0.0509     0.0345\n",
      "        Fishing Vessel         18         86       0.15      0.151     0.0517     0.0218\n",
      "                 Ferry         13         31      0.255      0.323      0.267      0.168\n",
      "                 Yacht          9         43      0.397      0.721      0.616      0.419\n",
      "        Container Ship         21         31       0.26      0.419      0.332      0.168\n",
      "            Oil Tanker          6          7      0.112      0.429      0.156     0.0921\n",
      "   Engineering Vehicle         12         15          0          0     0.0158    0.00921\n",
      "           Tower crane         16         19          1          0     0.0169    0.00779\n",
      "       Container Crane          7         11     0.0355      0.029     0.0174     0.0116\n",
      "         Reach Stacker          4          8          1          0       0.13     0.0908\n",
      "      Straddle Carrier          3          4      0.156      0.156      0.064     0.0256\n",
      "          Mobile Crane         17         22          0          0    0.00862    0.00407\n",
      "            Dump Truck         62        138      0.218       0.13      0.102     0.0587\n",
      "            Haul Truck         16         37      0.466      0.649      0.643      0.423\n",
      "       Scraper/Tractor          5          6          1          0          0          0\n",
      "Front loader/Bulldozer         36         49      0.173      0.143      0.113     0.0507\n",
      "             Excavator         40         67      0.255      0.224      0.109     0.0658\n",
      "          Cement Mixer         13         37          1          0    0.00512    0.00314\n",
      "         Ground Grader          6          7          1          0     0.0542     0.0367\n",
      "              Hut/Tent         11         24          1          0    0.00666     0.0027\n",
      "                  Shed         46         90      0.392     0.0889      0.119     0.0452\n",
      "              Building       1063      34234      0.439      0.663      0.567      0.293\n",
      "       Aircraft Hangar         14         34      0.335      0.147      0.106     0.0693\n",
      "      Damaged Building         51        113      0.205      0.248      0.173      0.099\n",
      "              Facility         90        138      0.248      0.152      0.112      0.062\n",
      "     Construction Site         59        164      0.181     0.0244     0.0188    0.00858\n",
      "           Vehicle Lot        219        670      0.293      0.103     0.0875      0.035\n",
      "               Helipad          4          5      0.101        0.2      0.196     0.0606\n",
      "          Storage Tank         52        224      0.495      0.433      0.427      0.232\n",
      "Shipping container lot         50        247      0.165      0.227     0.0873     0.0372\n",
      "    Shipping Container         23         99      0.261      0.152      0.158     0.0597\n",
      "                 Pylon         39         50      0.274       0.36      0.214      0.128\n",
      "                 Tower          6          7          1          0     0.0337      0.023\n",
      "Speed: 0.1ms preprocess, 0.9ms inference, 0.0ms loss, 0.9ms postprocess per image\n",
      "Results saved to \u001b[1mruns/detect/val4\u001b[0m\n",
      "💡 Learn more at https://docs.ultralytics.com/modes/val\n"
     ]
    }
   ],
   "source": [
    "!yolo detect val data=./xview-yolo-dataset/YOLO_cfg/xview_yolo.yaml model=runs/detect/train20/weights/last.pt lrf=0.1 imgsz=640 device=\"CUDA:0\""
   ]
  },
  {
   "cell_type": "code",
   "execution_count": 16,
   "id": "216cdf5c-a23c-4e56-a6fa-1917b9b0cfbe",
   "metadata": {
    "collapsed": true,
    "jupyter": {
     "outputs_hidden": true
    }
   },
   "outputs": [
    {
     "name": "stdout",
     "output_type": "stream",
     "text": [
      "\n",
      "image 1/1 /mmfs1/scratch/dsu.local/bshakya/scratch/bshakya/sahi/xview-yolo-dataset/xview_yolo/images/test/img_1042_1280_2560.jpg: 640x640 2 Excavators, 4.6ms\n",
      "Speed: 1.0ms preprocess, 4.6ms inference, 420.8ms postprocess per image at shape (1, 3, 640, 640)\n",
      "Results saved to \u001b[1mruns/detect/predict6\u001b[0m\n"
     ]
    },
    {
     "data": {
      "text/plain": [
       "[ultralytics.engine.results.Results object with attributes:\n",
       " \n",
       " boxes: ultralytics.engine.results.Boxes object\n",
       " keypoints: None\n",
       " masks: None\n",
       " names: {0: 'Fixed-wing Aircraft', 1: 'Small Aircraft', 2: 'Passenger/Cargo Plane', 3: 'Helicopter', 4: 'Passenger Vehicle', 5: 'Small Car', 6: 'Bus', 7: 'Pickup Truck', 8: 'Utility Truck', 9: 'Truck', 10: 'Cargo Truck', 11: 'Truck Tractor w/ Box Trailer', 12: 'Truck Tractor', 13: 'Trailer', 14: 'Truck Tractor w/ Flatbed Trailer', 15: 'Truck Tractor w/ Liquid Tank', 16: 'Crane Truck', 17: 'Railway Vehicle', 18: 'Passenger Car', 19: 'Cargo/Container Car', 20: 'Flat Car', 21: 'Tank car', 22: 'Locomotive', 23: 'Maritime Vessel', 24: 'Motorboat', 25: 'Sailboat', 26: 'Tugboat', 27: 'Barge', 28: 'Fishing Vessel', 29: 'Ferry', 30: 'Yacht', 31: 'Container Ship', 32: 'Oil Tanker', 33: 'Engineering Vehicle', 34: 'Tower crane', 35: 'Container Crane', 36: 'Reach Stacker', 37: 'Straddle Carrier', 38: 'Mobile Crane', 39: 'Dump Truck', 40: 'Haul Truck', 41: 'Scraper/Tractor', 42: 'Front loader/Bulldozer', 43: 'Excavator', 44: 'Cement Mixer', 45: 'Ground Grader', 46: 'Hut/Tent', 47: 'Shed', 48: 'Building', 49: 'Aircraft Hangar', 50: 'Damaged Building', 51: 'Facility', 52: 'Construction Site', 53: 'Vehicle Lot', 54: 'Helipad', 55: 'Storage Tank', 56: 'Shipping container lot', 57: 'Shipping Container', 58: 'Pylon', 59: 'Tower'}\n",
       " obb: None\n",
       " orig_img: array([[[ 75,  99, 129],\n",
       "         [ 83, 107, 137],\n",
       "         [ 86, 110, 140],\n",
       "         ...,\n",
       "         [ 53,  76, 114],\n",
       "         [ 50,  69, 106],\n",
       "         [ 49,  68, 105]],\n",
       " \n",
       "        [[ 77, 101, 131],\n",
       "         [ 81, 105, 135],\n",
       "         [ 83, 107, 137],\n",
       "         ...,\n",
       "         [ 45,  68, 106],\n",
       "         [ 52,  73, 111],\n",
       "         [ 51,  73, 109]],\n",
       " \n",
       "        [[ 79, 103, 131],\n",
       "         [ 82, 106, 134],\n",
       "         [ 80, 104, 134],\n",
       "         ...,\n",
       "         [ 43,  68, 108],\n",
       "         [ 44,  69, 109],\n",
       "         [ 46,  69, 107]],\n",
       " \n",
       "        ...,\n",
       " \n",
       "        [[ 54,  81, 115],\n",
       "         [ 57,  83, 119],\n",
       "         [ 64,  91, 128],\n",
       "         ...,\n",
       "         [ 30,  43,  51],\n",
       "         [ 27,  40,  48],\n",
       "         [ 26,  39,  47]],\n",
       " \n",
       "        [[ 56,  84, 119],\n",
       "         [ 53,  81, 116],\n",
       "         [ 57,  84, 121],\n",
       "         ...,\n",
       "         [ 35,  49,  55],\n",
       "         [ 36,  49,  57],\n",
       "         [ 35,  48,  56]],\n",
       " \n",
       "        [[ 53,  81, 116],\n",
       "         [ 60,  88, 123],\n",
       "         [ 56,  82, 122],\n",
       "         ...,\n",
       "         [ 38,  52,  58],\n",
       "         [ 45,  58,  66],\n",
       "         [ 43,  56,  64]]], dtype=uint8)\n",
       " orig_shape: (640, 634)\n",
       " path: '/mmfs1/scratch/dsu.local/bshakya/scratch/bshakya/sahi/xview-yolo-dataset/xview_yolo/images/test/img_1042_1280_2560.jpg'\n",
       " probs: None\n",
       " save_dir: 'runs/detect/predict6'\n",
       " speed: {'preprocess': 0.9593160357326269, 'inference': 4.59843291901052, 'postprocess': 420.8448480349034}]"
      ]
     },
     "execution_count": 16,
     "metadata": {},
     "output_type": "execute_result"
    }
   ],
   "source": [
    "from ultralytics import YOLO\n",
    "\n",
    "# Load a pretrained YOLO11n model\n",
    "model = YOLO(\"runs/detect/train20/weights/last.pt\")\n",
    "\n",
    "# Run inference on 'bus.jpg' with arguments\n",
    "model.predict(\"./xview-yolo-dataset/xview_yolo/images/test/img_1042_1280_2560.jpg\", save=True, imgsz=640, conf=0.2)"
   ]
  },
  {
   "cell_type": "code",
   "execution_count": 20,
   "id": "c71c4026-0a80-4d97-804f-c6780acf8d67",
   "metadata": {
    "collapsed": true,
    "jupyter": {
     "outputs_hidden": true
    }
   },
   "outputs": [
    {
     "name": "stdout",
     "output_type": "stream",
     "text": [
      "Ultralytics 8.3.169 🚀 Python-3.9.18 torch-2.1.2+cu118 CUDA:0 (NVIDIA A100 80GB PCIe, 81156MiB)\n",
      "/mmfs1/cm/shared/apps_local/python/3.11/envs/torch11.8/lib/python3.9/site-packages/torch/nn/modules/conv.py:456: UserWarning: Applied workaround for CuDNN issue, install nvrtc.so (Triggered internally at ../aten/src/ATen/native/cudnn/Conv_v8.cpp:80.)\n",
      "  return F.conv2d(input, weight, bias, self.stride,\n",
      "Model summary (fused): 72 layers, 3,017,348 parameters, 0 gradients, 8.1 GFLOPs\n",
      "\u001b[34m\u001b[1mval: \u001b[0mFast image access ✅ (ping: 0.0±0.0 ms, read: 2504.8±102.5 MB/s, size: 28157.6 KB)\n",
      "\u001b[34m\u001b[1mval: \u001b[0mScanning /mmfs1/scratch/dsu.local/bshakya/scratch/bshakya/sahi/datasets/xVi\u001b[0m\n",
      "WARNING ⚠️ Labels are missing or empty in /mmfs1/scratch/dsu.local/bshakya/scratch/bshakya/sahi/datasets/xView/val_images/val_images.cache, training may not work correctly. See https://docs.ultralytics.com/datasets for dataset formatting guidance.\n",
      "                 Class     Images  Instances      Box(P          R      mAP50  m\n",
      "/home/dsu.local/bshakya/.local/lib/python3.9/site-packages/ultralytics/utils/metrics.py:668: RuntimeWarning: Mean of empty slice.\n",
      "  ax.plot(px, py.mean(1), linewidth=3, color=\"blue\", label=f\"all classes {ap[:, 0].mean():.3f} mAP@0.5\")\n",
      "/home/dsu.local/bshakya/.local/lib/python3.9/site-packages/numpy/core/_methods.py:129: RuntimeWarning: invalid value encountered in scalar divide\n",
      "  ret = ret.dtype.type(ret / rcount)\n",
      "/home/dsu.local/bshakya/.local/lib/python3.9/site-packages/ultralytics/utils/metrics.py:713: RuntimeWarning: Mean of empty slice.\n",
      "  y = smooth(py.mean(0), 0.1)\n",
      "/home/dsu.local/bshakya/.local/lib/python3.9/site-packages/numpy/core/_methods.py:121: RuntimeWarning: invalid value encountered in divide\n",
      "  ret = um.true_divide(\n",
      "/home/dsu.local/bshakya/.local/lib/python3.9/site-packages/ultralytics/utils/metrics.py:713: RuntimeWarning: Mean of empty slice.\n",
      "  y = smooth(py.mean(0), 0.1)\n",
      "/home/dsu.local/bshakya/.local/lib/python3.9/site-packages/numpy/core/_methods.py:121: RuntimeWarning: invalid value encountered in divide\n",
      "  ret = um.true_divide(\n",
      "/home/dsu.local/bshakya/.local/lib/python3.9/site-packages/ultralytics/utils/metrics.py:713: RuntimeWarning: Mean of empty slice.\n",
      "  y = smooth(py.mean(0), 0.1)\n",
      "/home/dsu.local/bshakya/.local/lib/python3.9/site-packages/numpy/core/_methods.py:121: RuntimeWarning: invalid value encountered in divide\n",
      "  ret = um.true_divide(\n",
      "/home/dsu.local/bshakya/.local/lib/python3.9/site-packages/ultralytics/utils/metrics.py:850: RuntimeWarning: Mean of empty slice.\n",
      "  i = smooth(f1_curve.mean(0), 0.1).argmax()  # max F1 index\n",
      "                   all        281          0          0          0          0          0\n",
      "WARNING ⚠️ no labels found in detect set, can not compute metrics without labels\n",
      "Speed: 0.5ms preprocess, 3.0ms inference, 0.0ms loss, 0.2ms postprocess per image\n",
      "Results saved to \u001b[1mruns/detect/val\u001b[0m\n",
      "💡 Learn more at https://docs.ultralytics.com/modes/val\n"
     ]
    }
   ],
   "source": [
    "!yolo detect val data=./xView.yaml model=runs/detect/train16/weights/last.pt imgsz=640 device=\"CUDA:0\""
   ]
  },
  {
   "cell_type": "code",
   "execution_count": 19,
   "id": "4d77145b-0116-44fe-9b54-5ac8cd8ba095",
   "metadata": {
    "collapsed": true,
    "jupyter": {
     "outputs_hidden": true
    }
   },
   "outputs": [
    {
     "name": "stdout",
     "output_type": "stream",
     "text": [
      "\n",
      "image 1/1 /mmfs1/scratch/dsu.local/bshakya/scratch/bshakya/sahi/datasets/xView/val_images/val_images/1038.tif: 640x640 2 Small Cars, 18 Buildings, 18 Storage Tanks, 5.0ms\n",
      "Speed: 2.5ms preprocess, 5.0ms inference, 1.1ms postprocess per image at shape (1, 3, 640, 640)\n",
      "Results saved to \u001b[1mruns/detect/predict9\u001b[0m\n"
     ]
    },
    {
     "data": {
      "text/plain": [
       "[ultralytics.engine.results.Results object with attributes:\n",
       " \n",
       " boxes: ultralytics.engine.results.Boxes object\n",
       " keypoints: None\n",
       " masks: None\n",
       " names: {0: 'Fixed-wing Aircraft', 1: 'Small Aircraft', 2: 'Passenger/Cargo Plane', 3: 'Helicopter', 4: 'Passenger Vehicle', 5: 'Small Car', 6: 'Bus', 7: 'Pickup Truck', 8: 'Utility Truck', 9: 'Truck', 10: 'Cargo Truck', 11: 'Truck Tractor w/ Box Trailer', 12: 'Truck Tractor', 13: 'Trailer', 14: 'Truck Tractor w/ Flatbed Trailer', 15: 'Truck Tractor w/ Liquid Tank', 16: 'Crane Truck', 17: 'Railway Vehicle', 18: 'Passenger Car', 19: 'Cargo/Container Car', 20: 'Flat Car', 21: 'Tank car', 22: 'Locomotive', 23: 'Maritime Vessel', 24: 'Motorboat', 25: 'Sailboat', 26: 'Tugboat', 27: 'Barge', 28: 'Fishing Vessel', 29: 'Ferry', 30: 'Yacht', 31: 'Container Ship', 32: 'Oil Tanker', 33: 'Engineering Vehicle', 34: 'Tower crane', 35: 'Container Crane', 36: 'Reach Stacker', 37: 'Straddle Carrier', 38: 'Mobile Crane', 39: 'Dump Truck', 40: 'Haul Truck', 41: 'Scraper/Tractor', 42: 'Front loader/Bulldozer', 43: 'Excavator', 44: 'Cement Mixer', 45: 'Ground Grader', 46: 'Hut/Tent', 47: 'Shed', 48: 'Building', 49: 'Aircraft Hangar', 50: 'Damaged Building', 51: 'Facility', 52: 'Construction Site', 53: 'Vehicle Lot', 54: 'Helipad', 55: 'Storage Tank', 56: 'Shipping container lot', 57: 'Shipping Container', 58: 'Pylon', 59: 'Tower'}\n",
       " obb: None\n",
       " orig_img: array([[[ 74,  95, 123],\n",
       "         [ 72,  92, 119],\n",
       "         [ 71,  91, 117],\n",
       "         ...,\n",
       "         [ 20,  26,  25],\n",
       "         [ 20,  26,  24],\n",
       "         [ 18,  24,  23]],\n",
       " \n",
       "        [[ 74,  95, 123],\n",
       "         [ 66,  84, 109],\n",
       "         [ 68,  87, 112],\n",
       "         ...,\n",
       "         [ 17,  22,  21],\n",
       "         [ 17,  22,  21],\n",
       "         [ 20,  26,  25]],\n",
       " \n",
       "        [[ 72,  92, 119],\n",
       "         [ 67,  85, 111],\n",
       "         [ 70,  88, 114],\n",
       "         ...,\n",
       "         [ 14,  18,  17],\n",
       "         [ 17,  22,  21],\n",
       "         [ 22,  29,  28]],\n",
       " \n",
       "        ...,\n",
       " \n",
       "        [[ 19,  25,  21],\n",
       "         [ 18,  24,  20],\n",
       "         [ 20,  27,  22],\n",
       "         ...,\n",
       "         [ 39,  54,  57],\n",
       "         [ 38,  50,  55],\n",
       "         [ 39,  49,  56]],\n",
       " \n",
       "        [[ 18,  24,  20],\n",
       "         [ 17,  23,  19],\n",
       "         [ 15,  20,  17],\n",
       "         ...,\n",
       "         [ 40,  54,  58],\n",
       "         [ 37,  47,  53],\n",
       "         [ 41,  50,  57]],\n",
       " \n",
       "        [[ 19,  25,  21],\n",
       "         [ 14,  19,  16],\n",
       "         [ 12,  16,  13],\n",
       "         ...,\n",
       "         [ 36,  47,  52],\n",
       "         [ 40,  49,  56],\n",
       "         [ 43,  51,  60]]], dtype=uint8)\n",
       " orig_shape: (3215, 3195)\n",
       " path: '/mmfs1/scratch/dsu.local/bshakya/scratch/bshakya/sahi/datasets/xView/val_images/val_images/1038.tif'\n",
       " probs: None\n",
       " save_dir: 'runs/detect/predict9'\n",
       " speed: {'preprocess': 2.522127004340291, 'inference': 5.014052847400308, 'postprocess': 1.1066161096096039}]"
      ]
     },
     "execution_count": 19,
     "metadata": {},
     "output_type": "execute_result"
    }
   ],
   "source": [
    "from ultralytics import YOLO\n",
    "\n",
    "# Load a pretrained YOLO11n model\n",
    "model = YOLO(\"runs/detect/train20/weights/last.pt\")\n",
    "\n",
    "# Run inference on 'bus.jpg' with arguments\n",
    "model.predict(\"datasets/xView/val_images/val_images/1038.tif\", save=True, imgsz=640, conf=0.2)"
   ]
  },
  {
   "cell_type": "code",
   "execution_count": 22,
   "id": "74b988b6-9811-4f0a-922f-a5e20ecd0ba4",
   "metadata": {},
   "outputs": [
    {
     "name": "stdout",
     "output_type": "stream",
     "text": [
      "\n",
      "image 1/1 /mmfs1/scratch/dsu.local/bshakya/scratch/bshakya/sahi/datasets/xView/val_images/val_images/1263.tif: 608x640 1 Fishing Vessel, 5.7ms\n",
      "Speed: 2.4ms preprocess, 5.7ms inference, 1.2ms postprocess per image at shape (1, 3, 608, 640)\n",
      "Results saved to \u001b[1mruns/detect/predict10\u001b[0m\n"
     ]
    },
    {
     "data": {
      "text/plain": [
       "[ultralytics.engine.results.Results object with attributes:\n",
       " \n",
       " boxes: ultralytics.engine.results.Boxes object\n",
       " keypoints: None\n",
       " masks: None\n",
       " names: {0: 'Fixed-wing Aircraft', 1: 'Small Aircraft', 2: 'Passenger/Cargo Plane', 3: 'Helicopter', 4: 'Passenger Vehicle', 5: 'Small Car', 6: 'Bus', 7: 'Pickup Truck', 8: 'Utility Truck', 9: 'Truck', 10: 'Cargo Truck', 11: 'Truck Tractor w/ Box Trailer', 12: 'Truck Tractor', 13: 'Trailer', 14: 'Truck Tractor w/ Flatbed Trailer', 15: 'Truck Tractor w/ Liquid Tank', 16: 'Crane Truck', 17: 'Railway Vehicle', 18: 'Passenger Car', 19: 'Cargo/Container Car', 20: 'Flat Car', 21: 'Tank car', 22: 'Locomotive', 23: 'Maritime Vessel', 24: 'Motorboat', 25: 'Sailboat', 26: 'Tugboat', 27: 'Barge', 28: 'Fishing Vessel', 29: 'Ferry', 30: 'Yacht', 31: 'Container Ship', 32: 'Oil Tanker', 33: 'Engineering Vehicle', 34: 'Tower crane', 35: 'Container Crane', 36: 'Reach Stacker', 37: 'Straddle Carrier', 38: 'Mobile Crane', 39: 'Dump Truck', 40: 'Haul Truck', 41: 'Scraper/Tractor', 42: 'Front loader/Bulldozer', 43: 'Excavator', 44: 'Cement Mixer', 45: 'Ground Grader', 46: 'Hut/Tent', 47: 'Shed', 48: 'Building', 49: 'Aircraft Hangar', 50: 'Damaged Building', 51: 'Facility', 52: 'Construction Site', 53: 'Vehicle Lot', 54: 'Helipad', 55: 'Storage Tank', 56: 'Shipping container lot', 57: 'Shipping Container', 58: 'Pylon', 59: 'Tower'}\n",
       " obb: None\n",
       " orig_img: array([[[ 7,  6,  3],\n",
       "         [14, 13,  5],\n",
       "         [18, 16,  6],\n",
       "         ...,\n",
       "         [14, 11,  5],\n",
       "         [14, 11,  5],\n",
       "         [10,  8,  4]],\n",
       " \n",
       "        [[17, 16,  6],\n",
       "         [11, 10,  4],\n",
       "         [10,  9,  4],\n",
       "         ...,\n",
       "         [ 7,  5,  2],\n",
       "         [ 9,  8,  3],\n",
       "         [11,  9,  4]],\n",
       " \n",
       "        [[17, 15,  6],\n",
       "         [12, 11,  5],\n",
       "         [13, 11,  5],\n",
       "         ...,\n",
       "         [13, 10,  5],\n",
       "         [ 5,  4,  2],\n",
       "         [ 8,  7,  3]],\n",
       " \n",
       "        ...,\n",
       " \n",
       "        [[18, 16,  7],\n",
       "         [17, 16,  7],\n",
       "         [11, 10,  4],\n",
       "         ...,\n",
       "         [17, 16,  7],\n",
       "         [16, 15,  7],\n",
       "         [18, 16,  8]],\n",
       " \n",
       "        [[18, 17,  7],\n",
       "         [ 3,  2,  1],\n",
       "         [ 8,  8,  3],\n",
       "         ...,\n",
       "         [17, 15,  7],\n",
       "         [19, 17,  8],\n",
       "         [21, 19,  9]],\n",
       " \n",
       "        [[ 8,  7,  3],\n",
       "         [15, 14,  6],\n",
       "         [17, 16,  7],\n",
       "         ...,\n",
       "         [20, 18,  9],\n",
       "         [20, 19,  9],\n",
       "         [15, 14,  7]]], dtype=uint8)\n",
       " orig_shape: (3058, 3292)\n",
       " path: '/mmfs1/scratch/dsu.local/bshakya/scratch/bshakya/sahi/datasets/xView/val_images/val_images/1263.tif'\n",
       " probs: None\n",
       " save_dir: 'runs/detect/predict10'\n",
       " speed: {'preprocess': 2.3861071094870567, 'inference': 5.730903008952737, 'postprocess': 1.1528600007295609}]"
      ]
     },
     "execution_count": 22,
     "metadata": {},
     "output_type": "execute_result"
    }
   ],
   "source": [
    "from ultralytics import YOLO\n",
    "\n",
    "# Load a pretrained YOLO11n model\n",
    "model = YOLO(\"runs/detect/train20/weights/last.pt\")\n",
    "\n",
    "# Run inference on 'bus.jpg' with arguments\n",
    "model.predict(\"datasets/xView/val_images/val_images/1263.tif\", save=True, imgsz=640, conf=0.3)"
   ]
  },
  {
   "cell_type": "code",
   "execution_count": 19,
   "id": "22b26e4e-9ab1-47c1-a8a1-e05ffabde987",
   "metadata": {},
   "outputs": [
    {
     "name": "stdout",
     "output_type": "stream",
     "text": [
      "Ultralytics 8.3.169 🚀 Python-3.9.18 torch-2.1.2+cu118 CUDA:0 (NVIDIA A100 80GB PCIe, 81156MiB)\n",
      "\u001b[34m\u001b[1mengine/trainer: \u001b[0magnostic_nms=False, amp=True, augment=False, auto_augment=randaugment, batch=16, bgr=0.0, box=7.5, cache=False, cfg=None, classes=None, close_mosaic=20, cls=0.5, conf=None, copy_paste=0.0, copy_paste_mode=flip, cos_lr=True, cutmix=0.0, data=./xView.yaml, degrees=0.0, deterministic=True, device=0, dfl=1.5, dnn=False, dropout=0.1, dynamic=False, embed=None, epochs=150, erasing=0.4, exist_ok=False, fliplr=0.5, flipud=0.0, format=torchscript, fraction=1.0, freeze=None, half=True, hsv_h=0.015, hsv_s=0.7, hsv_v=0.4, imgsz=640, int8=False, iou=0.5, keras=False, kobj=1.0, line_width=None, lr0=0.001, lrf=0.0001, mask_ratio=4, max_det=300, mixup=0.0, mode=train, model=models/baseline/yolov8n.pt, momentum=0.937, mosaic=1.0, multi_scale=True, name=train16, nbs=64, nms=False, opset=None, optimize=False, optimizer=auto, overlap_mask=True, patience=100, perspective=0.0, plots=True, pose=12.0, pretrained=True, profile=False, project=None, rect=False, resume=False, retina_masks=False, save=True, save_conf=False, save_crop=False, save_dir=runs/detect/train16, save_frames=False, save_json=False, save_period=-1, save_txt=False, scale=0.5, seed=0, shear=0.0, show=False, show_boxes=True, show_conf=True, show_labels=True, simplify=True, single_cls=False, source=None, split=val, stream_buffer=False, task=detect, time=None, tracker=botsort.yaml, translate=0.1, val=True, verbose=True, vid_stride=1, visualize=False, warmup_bias_lr=0.1, warmup_epochs=3.0, warmup_momentum=0.8, weight_decay=0.0005, workers=8, workspace=None\n",
      "Overriding model.yaml nc=80 with nc=60\n",
      "\n",
      "                   from  n    params  module                                       arguments                     \n",
      "  0                  -1  1       464  ultralytics.nn.modules.conv.Conv             [3, 16, 3, 2]                 \n",
      "  1                  -1  1      4672  ultralytics.nn.modules.conv.Conv             [16, 32, 3, 2]                \n",
      "  2                  -1  1      7360  ultralytics.nn.modules.block.C2f             [32, 32, 1, True]             \n",
      "  3                  -1  1     18560  ultralytics.nn.modules.conv.Conv             [32, 64, 3, 2]                \n",
      "  4                  -1  2     49664  ultralytics.nn.modules.block.C2f             [64, 64, 2, True]             \n",
      "  5                  -1  1     73984  ultralytics.nn.modules.conv.Conv             [64, 128, 3, 2]               \n",
      "  6                  -1  2    197632  ultralytics.nn.modules.block.C2f             [128, 128, 2, True]           \n",
      "  7                  -1  1    295424  ultralytics.nn.modules.conv.Conv             [128, 256, 3, 2]              \n",
      "  8                  -1  1    460288  ultralytics.nn.modules.block.C2f             [256, 256, 1, True]           \n",
      "  9                  -1  1    164608  ultralytics.nn.modules.block.SPPF            [256, 256, 5]                 \n",
      " 10                  -1  1         0  torch.nn.modules.upsampling.Upsample         [None, 2, 'nearest']          \n",
      " 11             [-1, 6]  1         0  ultralytics.nn.modules.conv.Concat           [1]                           \n",
      " 12                  -1  1    148224  ultralytics.nn.modules.block.C2f             [384, 128, 1]                 \n",
      " 13                  -1  1         0  torch.nn.modules.upsampling.Upsample         [None, 2, 'nearest']          \n",
      " 14             [-1, 4]  1         0  ultralytics.nn.modules.conv.Concat           [1]                           \n",
      " 15                  -1  1     37248  ultralytics.nn.modules.block.C2f             [192, 64, 1]                  \n",
      " 16                  -1  1     36992  ultralytics.nn.modules.conv.Conv             [64, 64, 3, 2]                \n",
      " 17            [-1, 12]  1         0  ultralytics.nn.modules.conv.Concat           [1]                           \n",
      " 18                  -1  1    123648  ultralytics.nn.modules.block.C2f             [192, 128, 1]                 \n",
      " 19                  -1  1    147712  ultralytics.nn.modules.conv.Conv             [128, 128, 3, 2]              \n",
      " 20             [-1, 9]  1         0  ultralytics.nn.modules.conv.Concat           [1]                           \n",
      " 21                  -1  1    493056  ultralytics.nn.modules.block.C2f             [384, 256, 1]                 \n",
      " 22        [15, 18, 21]  1    763012  ultralytics.nn.modules.head.Detect           [60, [64, 128, 256]]          \n",
      "Model summary: 129 layers, 3,022,548 parameters, 3,022,532 gradients, 8.3 GFLOPs\n",
      "\n",
      "Transferred 319/355 items from pretrained weights\n",
      "Freezing layer 'model.22.dfl.conv.weight'\n",
      "\u001b[34m\u001b[1mAMP: \u001b[0mrunning Automatic Mixed Precision (AMP) checks...\n",
      "Downloading https://github.com/ultralytics/assets/releases/download/v8.3.0/yolo11n.pt to 'yolo11n.pt'...\n",
      "WARNING ⚠️ \u001b[34m\u001b[1mAMP: \u001b[0mchecks skipped. Offline and unable to download YOLO11n for AMP checks. Setting 'amp=True'. If you experience zero-mAP or NaN losses you can disable AMP with amp=False.\n",
      "\u001b[34m\u001b[1mtrain: \u001b[0mFast image access ✅ (ping: 0.0±0.0 ms, read: 2640.1±413.2 MB/s, size: 26891.6 KB)\n"
     ]
    },
    {
     "name": "stderr",
     "output_type": "stream",
     "text": [
      "\u001b[34m\u001b[1mtrain: \u001b[0mScanning /mmfs1/scratch/dsu.local/bshakya/scratch/bshakya/sahi/datasets/xView/train_images/train_images... 0 images, 846 backgrounds, 0 corrupt: 100%|██████████| 846/846 [00:04<00:00, 177.52it/s]"
     ]
    },
    {
     "name": "stdout",
     "output_type": "stream",
     "text": [
      "WARNING ⚠️ \u001b[34m\u001b[1mtrain: \u001b[0mNo labels found in /mmfs1/scratch/dsu.local/bshakya/scratch/bshakya/sahi/datasets/xView/train_images/train_images.cache. See https://docs.ultralytics.com/datasets for dataset formatting guidance.\n",
      "\u001b[34m\u001b[1mtrain: \u001b[0mNew cache created: /mmfs1/scratch/dsu.local/bshakya/scratch/bshakya/sahi/datasets/xView/train_images/train_images.cache\n",
      "WARNING ⚠️ Labels are missing or empty in /mmfs1/scratch/dsu.local/bshakya/scratch/bshakya/sahi/datasets/xView/train_images/train_images.cache, training may not work correctly. See https://docs.ultralytics.com/datasets for dataset formatting guidance.\n",
      "\u001b[34m\u001b[1malbumentations: \u001b[0m__init__() got an unexpected keyword argument 'quality_range'\n"
     ]
    },
    {
     "name": "stderr",
     "output_type": "stream",
     "text": [
      "\n"
     ]
    },
    {
     "name": "stdout",
     "output_type": "stream",
     "text": [
      "\u001b[34m\u001b[1mval: \u001b[0mFast image access ✅ (ping: 0.0±0.0 ms, read: 2141.1±1051.1 MB/s, size: 24647.1 KB)\n"
     ]
    },
    {
     "name": "stderr",
     "output_type": "stream",
     "text": [
      "\u001b[34m\u001b[1mval: \u001b[0mScanning /mmfs1/scratch/dsu.local/bshakya/scratch/bshakya/sahi/datasets/xView/val_images/val_images... 0 images, 281 backgrounds, 0 corrupt: 100%|██████████| 281/281 [00:01<00:00, 163.73it/s]"
     ]
    },
    {
     "name": "stdout",
     "output_type": "stream",
     "text": [
      "WARNING ⚠️ \u001b[34m\u001b[1mval: \u001b[0mNo labels found in /mmfs1/scratch/dsu.local/bshakya/scratch/bshakya/sahi/datasets/xView/val_images/val_images.cache. See https://docs.ultralytics.com/datasets for dataset formatting guidance.\n",
      "\u001b[34m\u001b[1mval: \u001b[0mNew cache created: /mmfs1/scratch/dsu.local/bshakya/scratch/bshakya/sahi/datasets/xView/val_images/val_images.cache\n",
      "WARNING ⚠️ Labels are missing or empty in /mmfs1/scratch/dsu.local/bshakya/scratch/bshakya/sahi/datasets/xView/val_images/val_images.cache, training may not work correctly. See https://docs.ultralytics.com/datasets for dataset formatting guidance.\n"
     ]
    },
    {
     "name": "stderr",
     "output_type": "stream",
     "text": [
      "\n"
     ]
    },
    {
     "name": "stdout",
     "output_type": "stream",
     "text": [
      "Plotting labels to runs/detect/train16/labels.jpg... \n",
      "WARNING ⚠️ zero-size array to reduction operation maximum which has no identity\n",
      "\u001b[34m\u001b[1moptimizer:\u001b[0m 'optimizer=auto' found, ignoring 'lr0=0.001' and 'momentum=0.937' and determining best 'optimizer', 'lr0' and 'momentum' automatically... \n",
      "\u001b[34m\u001b[1moptimizer:\u001b[0m AdamW(lr=0.000156, momentum=0.9) with parameter groups 57 weight(decay=0.0), 64 weight(decay=0.0005), 63 bias(decay=0.0)\n",
      "Image sizes 640 train, 640 val\n",
      "Using 8 dataloader workers\n",
      "Logging results to \u001b[1mruns/detect/train16\u001b[0m\n",
      "Starting training for 150 epochs...\n",
      "\n",
      "      Epoch    GPU_mem   box_loss   cls_loss   dfl_loss  Instances       Size\n"
     ]
    },
    {
     "name": "stderr",
     "output_type": "stream",
     "text": [
      "      1/150      7.45G          0        140          0          0        384: 100%|██████████| 53/53 [00:05<00:00,  9.22it/s]\n",
      "                 Class     Images  Instances      Box(P          R      mAP50  mAP50-95): 100%|██████████| 9/9 [00:00<00:00,  9.35it/s]"
     ]
    },
    {
     "name": "stdout",
     "output_type": "stream",
     "text": [
      "                   all        281          0          0          0          0          0\n",
      "WARNING ⚠️ no labels found in detect set, can not compute metrics without labels\n",
      "\n",
      "      Epoch    GPU_mem   box_loss   cls_loss   dfl_loss  Instances       Size\n"
     ]
    },
    {
     "name": "stderr",
     "output_type": "stream",
     "text": [
      "\n",
      "/home/dsu.local/bshakya/.local/lib/python3.9/site-packages/ultralytics/utils/metrics.py:850: RuntimeWarning: Mean of empty slice.\n",
      "  i = smooth(f1_curve.mean(0), 0.1).argmax()  # max F1 index\n",
      "/home/dsu.local/bshakya/.local/lib/python3.9/site-packages/numpy/core/_methods.py:121: RuntimeWarning: invalid value encountered in divide\n",
      "  ret = um.true_divide(\n",
      "      2/150      7.45G          0      137.2          0          0        384: 100%|██████████| 53/53 [00:04<00:00, 12.02it/s]\n",
      "                 Class     Images  Instances      Box(P          R      mAP50  mAP50-95): 100%|██████████| 9/9 [00:00<00:00, 33.05it/s]"
     ]
    },
    {
     "name": "stdout",
     "output_type": "stream",
     "text": [
      "                   all        281          0          0          0          0          0\n",
      "WARNING ⚠️ no labels found in detect set, can not compute metrics without labels\n"
     ]
    },
    {
     "name": "stderr",
     "output_type": "stream",
     "text": [
      "\n",
      "/home/dsu.local/bshakya/.local/lib/python3.9/site-packages/ultralytics/utils/metrics.py:850: RuntimeWarning: Mean of empty slice.\n",
      "  i = smooth(f1_curve.mean(0), 0.1).argmax()  # max F1 index\n",
      "/home/dsu.local/bshakya/.local/lib/python3.9/site-packages/numpy/core/_methods.py:121: RuntimeWarning: invalid value encountered in divide\n",
      "  ret = um.true_divide(\n"
     ]
    },
    {
     "name": "stdout",
     "output_type": "stream",
     "text": [
      "\n",
      "      Epoch    GPU_mem   box_loss   cls_loss   dfl_loss  Instances       Size\n"
     ]
    },
    {
     "name": "stderr",
     "output_type": "stream",
     "text": [
      "      3/150      7.45G          0      114.9          0          0        576: 100%|██████████| 53/53 [00:05<00:00, 10.20it/s]\n",
      "                 Class     Images  Instances      Box(P          R      mAP50  mAP50-95): 100%|██████████| 9/9 [00:00<00:00, 37.76it/s]"
     ]
    },
    {
     "name": "stdout",
     "output_type": "stream",
     "text": [
      "                   all        281          0          0          0          0          0\n",
      "WARNING ⚠️ no labels found in detect set, can not compute metrics without labels\n"
     ]
    },
    {
     "name": "stderr",
     "output_type": "stream",
     "text": [
      "\n",
      "/home/dsu.local/bshakya/.local/lib/python3.9/site-packages/ultralytics/utils/metrics.py:850: RuntimeWarning: Mean of empty slice.\n",
      "  i = smooth(f1_curve.mean(0), 0.1).argmax()  # max F1 index\n",
      "/home/dsu.local/bshakya/.local/lib/python3.9/site-packages/numpy/core/_methods.py:121: RuntimeWarning: invalid value encountered in divide\n",
      "  ret = um.true_divide(\n"
     ]
    },
    {
     "name": "stdout",
     "output_type": "stream",
     "text": [
      "\n",
      "      Epoch    GPU_mem   box_loss   cls_loss   dfl_loss  Instances       Size\n"
     ]
    },
    {
     "name": "stderr",
     "output_type": "stream",
     "text": [
      "      4/150      7.45G          0      112.9          0          0        544: 100%|██████████| 53/53 [00:04<00:00, 10.86it/s]\n",
      "                 Class     Images  Instances      Box(P          R      mAP50  mAP50-95): 100%|██████████| 9/9 [00:00<00:00, 37.24it/s]"
     ]
    },
    {
     "name": "stdout",
     "output_type": "stream",
     "text": [
      "                   all        281          0          0          0          0          0\n",
      "WARNING ⚠️ no labels found in detect set, can not compute metrics without labels\n"
     ]
    },
    {
     "name": "stderr",
     "output_type": "stream",
     "text": [
      "\n",
      "/home/dsu.local/bshakya/.local/lib/python3.9/site-packages/ultralytics/utils/metrics.py:850: RuntimeWarning: Mean of empty slice.\n",
      "  i = smooth(f1_curve.mean(0), 0.1).argmax()  # max F1 index\n",
      "/home/dsu.local/bshakya/.local/lib/python3.9/site-packages/numpy/core/_methods.py:121: RuntimeWarning: invalid value encountered in divide\n",
      "  ret = um.true_divide(\n"
     ]
    },
    {
     "name": "stdout",
     "output_type": "stream",
     "text": [
      "\n",
      "      Epoch    GPU_mem   box_loss   cls_loss   dfl_loss  Instances       Size\n"
     ]
    },
    {
     "name": "stderr",
     "output_type": "stream",
     "text": [
      "      5/150      7.45G          0      128.4          0          0        384: 100%|██████████| 53/53 [00:04<00:00, 12.03it/s]\n",
      "                 Class     Images  Instances      Box(P          R      mAP50  mAP50-95): 100%|██████████| 9/9 [00:00<00:00, 38.60it/s]"
     ]
    },
    {
     "name": "stdout",
     "output_type": "stream",
     "text": [
      "                   all        281          0          0          0          0          0\n",
      "WARNING ⚠️ no labels found in detect set, can not compute metrics without labels\n"
     ]
    },
    {
     "name": "stderr",
     "output_type": "stream",
     "text": [
      "\n",
      "/home/dsu.local/bshakya/.local/lib/python3.9/site-packages/ultralytics/utils/metrics.py:850: RuntimeWarning: Mean of empty slice.\n",
      "  i = smooth(f1_curve.mean(0), 0.1).argmax()  # max F1 index\n",
      "/home/dsu.local/bshakya/.local/lib/python3.9/site-packages/numpy/core/_methods.py:121: RuntimeWarning: invalid value encountered in divide\n",
      "  ret = um.true_divide(\n"
     ]
    },
    {
     "name": "stdout",
     "output_type": "stream",
     "text": [
      "\n",
      "      Epoch    GPU_mem   box_loss   cls_loss   dfl_loss  Instances       Size\n"
     ]
    },
    {
     "name": "stderr",
     "output_type": "stream",
     "text": [
      "      6/150      7.45G          0      109.5          0          0        960: 100%|██████████| 53/53 [00:05<00:00,  9.97it/s]\n",
      "                 Class     Images  Instances      Box(P          R      mAP50  mAP50-95): 100%|██████████| 9/9 [00:00<00:00, 35.61it/s]"
     ]
    },
    {
     "name": "stdout",
     "output_type": "stream",
     "text": [
      "                   all        281          0          0          0          0          0\n",
      "WARNING ⚠️ no labels found in detect set, can not compute metrics without labels\n"
     ]
    },
    {
     "name": "stderr",
     "output_type": "stream",
     "text": [
      "\n",
      "/home/dsu.local/bshakya/.local/lib/python3.9/site-packages/ultralytics/utils/metrics.py:850: RuntimeWarning: Mean of empty slice.\n",
      "  i = smooth(f1_curve.mean(0), 0.1).argmax()  # max F1 index\n",
      "/home/dsu.local/bshakya/.local/lib/python3.9/site-packages/numpy/core/_methods.py:121: RuntimeWarning: invalid value encountered in divide\n",
      "  ret = um.true_divide(\n"
     ]
    },
    {
     "name": "stdout",
     "output_type": "stream",
     "text": [
      "\n",
      "      Epoch    GPU_mem   box_loss   cls_loss   dfl_loss  Instances       Size\n"
     ]
    },
    {
     "name": "stderr",
     "output_type": "stream",
     "text": [
      "      7/150      7.45G          0      100.4          0          0        416: 100%|██████████| 53/53 [00:04<00:00, 11.67it/s]\n",
      "                 Class     Images  Instances      Box(P          R      mAP50  mAP50-95): 100%|██████████| 9/9 [00:00<00:00, 35.97it/s]"
     ]
    },
    {
     "name": "stdout",
     "output_type": "stream",
     "text": [
      "                   all        281          0          0          0          0          0\n",
      "WARNING ⚠️ no labels found in detect set, can not compute metrics without labels\n"
     ]
    },
    {
     "name": "stderr",
     "output_type": "stream",
     "text": [
      "\n",
      "/home/dsu.local/bshakya/.local/lib/python3.9/site-packages/ultralytics/utils/metrics.py:850: RuntimeWarning: Mean of empty slice.\n",
      "  i = smooth(f1_curve.mean(0), 0.1).argmax()  # max F1 index\n",
      "/home/dsu.local/bshakya/.local/lib/python3.9/site-packages/numpy/core/_methods.py:121: RuntimeWarning: invalid value encountered in divide\n",
      "  ret = um.true_divide(\n"
     ]
    },
    {
     "name": "stdout",
     "output_type": "stream",
     "text": [
      "\n",
      "      Epoch    GPU_mem   box_loss   cls_loss   dfl_loss  Instances       Size\n"
     ]
    },
    {
     "name": "stderr",
     "output_type": "stream",
     "text": [
      "      8/150      7.45G          0      98.89          0          0        352: 100%|██████████| 53/53 [00:04<00:00, 10.84it/s]\n",
      "                 Class     Images  Instances      Box(P          R      mAP50  mAP50-95): 100%|██████████| 9/9 [00:00<00:00, 37.25it/s]"
     ]
    },
    {
     "name": "stdout",
     "output_type": "stream",
     "text": [
      "                   all        281          0          0          0          0          0\n",
      "WARNING ⚠️ no labels found in detect set, can not compute metrics without labels\n"
     ]
    },
    {
     "name": "stderr",
     "output_type": "stream",
     "text": [
      "\n",
      "/home/dsu.local/bshakya/.local/lib/python3.9/site-packages/ultralytics/utils/metrics.py:850: RuntimeWarning: Mean of empty slice.\n",
      "  i = smooth(f1_curve.mean(0), 0.1).argmax()  # max F1 index\n",
      "/home/dsu.local/bshakya/.local/lib/python3.9/site-packages/numpy/core/_methods.py:121: RuntimeWarning: invalid value encountered in divide\n",
      "  ret = um.true_divide(\n"
     ]
    },
    {
     "name": "stdout",
     "output_type": "stream",
     "text": [
      "\n",
      "      Epoch    GPU_mem   box_loss   cls_loss   dfl_loss  Instances       Size\n"
     ]
    },
    {
     "name": "stderr",
     "output_type": "stream",
     "text": [
      "      9/150      7.45G          0      104.7          0          0        768: 100%|██████████| 53/53 [00:04<00:00, 11.61it/s]\n",
      "                 Class     Images  Instances      Box(P          R      mAP50  mAP50-95): 100%|██████████| 9/9 [00:00<00:00, 35.76it/s]"
     ]
    },
    {
     "name": "stdout",
     "output_type": "stream",
     "text": [
      "                   all        281          0          0          0          0          0\n",
      "WARNING ⚠️ no labels found in detect set, can not compute metrics without labels\n"
     ]
    },
    {
     "name": "stderr",
     "output_type": "stream",
     "text": [
      "\n",
      "/home/dsu.local/bshakya/.local/lib/python3.9/site-packages/ultralytics/utils/metrics.py:850: RuntimeWarning: Mean of empty slice.\n",
      "  i = smooth(f1_curve.mean(0), 0.1).argmax()  # max F1 index\n",
      "/home/dsu.local/bshakya/.local/lib/python3.9/site-packages/numpy/core/_methods.py:121: RuntimeWarning: invalid value encountered in divide\n",
      "  ret = um.true_divide(\n"
     ]
    },
    {
     "name": "stdout",
     "output_type": "stream",
     "text": [
      "\n",
      "      Epoch    GPU_mem   box_loss   cls_loss   dfl_loss  Instances       Size\n"
     ]
    },
    {
     "name": "stderr",
     "output_type": "stream",
     "text": [
      "     10/150      7.45G          0      103.8          0          0        736: 100%|██████████| 53/53 [00:04<00:00, 10.66it/s]\n",
      "                 Class     Images  Instances      Box(P          R      mAP50  mAP50-95): 100%|██████████| 9/9 [00:00<00:00, 37.88it/s]"
     ]
    },
    {
     "name": "stdout",
     "output_type": "stream",
     "text": [
      "                   all        281          0          0          0          0          0\n",
      "WARNING ⚠️ no labels found in detect set, can not compute metrics without labels\n"
     ]
    },
    {
     "name": "stderr",
     "output_type": "stream",
     "text": [
      "\n",
      "/home/dsu.local/bshakya/.local/lib/python3.9/site-packages/ultralytics/utils/metrics.py:850: RuntimeWarning: Mean of empty slice.\n",
      "  i = smooth(f1_curve.mean(0), 0.1).argmax()  # max F1 index\n",
      "/home/dsu.local/bshakya/.local/lib/python3.9/site-packages/numpy/core/_methods.py:121: RuntimeWarning: invalid value encountered in divide\n",
      "  ret = um.true_divide(\n"
     ]
    },
    {
     "name": "stdout",
     "output_type": "stream",
     "text": [
      "\n",
      "      Epoch    GPU_mem   box_loss   cls_loss   dfl_loss  Instances       Size\n"
     ]
    },
    {
     "name": "stderr",
     "output_type": "stream",
     "text": [
      "     11/150      7.45G          0      101.8          0          0        768: 100%|██████████| 53/53 [00:04<00:00, 11.47it/s]\n",
      "                 Class     Images  Instances      Box(P          R      mAP50  mAP50-95): 100%|██████████| 9/9 [00:00<00:00, 37.35it/s]"
     ]
    },
    {
     "name": "stdout",
     "output_type": "stream",
     "text": [
      "                   all        281          0          0          0          0          0\n",
      "WARNING ⚠️ no labels found in detect set, can not compute metrics without labels\n"
     ]
    },
    {
     "name": "stderr",
     "output_type": "stream",
     "text": [
      "\n",
      "/home/dsu.local/bshakya/.local/lib/python3.9/site-packages/ultralytics/utils/metrics.py:850: RuntimeWarning: Mean of empty slice.\n",
      "  i = smooth(f1_curve.mean(0), 0.1).argmax()  # max F1 index\n",
      "/home/dsu.local/bshakya/.local/lib/python3.9/site-packages/numpy/core/_methods.py:121: RuntimeWarning: invalid value encountered in divide\n",
      "  ret = um.true_divide(\n"
     ]
    },
    {
     "name": "stdout",
     "output_type": "stream",
     "text": [
      "\n",
      "      Epoch    GPU_mem   box_loss   cls_loss   dfl_loss  Instances       Size\n"
     ]
    },
    {
     "name": "stderr",
     "output_type": "stream",
     "text": [
      "     12/150      7.45G          0      82.06          0          0        384: 100%|██████████| 53/53 [00:04<00:00, 10.83it/s]\n",
      "                 Class     Images  Instances      Box(P          R      mAP50  mAP50-95): 100%|██████████| 9/9 [00:00<00:00, 37.52it/s]"
     ]
    },
    {
     "name": "stdout",
     "output_type": "stream",
     "text": [
      "                   all        281          0          0          0          0          0\n",
      "WARNING ⚠️ no labels found in detect set, can not compute metrics without labels\n"
     ]
    },
    {
     "name": "stderr",
     "output_type": "stream",
     "text": [
      "\n",
      "/home/dsu.local/bshakya/.local/lib/python3.9/site-packages/ultralytics/utils/metrics.py:850: RuntimeWarning: Mean of empty slice.\n",
      "  i = smooth(f1_curve.mean(0), 0.1).argmax()  # max F1 index\n",
      "/home/dsu.local/bshakya/.local/lib/python3.9/site-packages/numpy/core/_methods.py:121: RuntimeWarning: invalid value encountered in divide\n",
      "  ret = um.true_divide(\n"
     ]
    },
    {
     "name": "stdout",
     "output_type": "stream",
     "text": [
      "\n",
      "      Epoch    GPU_mem   box_loss   cls_loss   dfl_loss  Instances       Size\n"
     ]
    },
    {
     "name": "stderr",
     "output_type": "stream",
     "text": [
      "     13/150      7.45G          0       78.5          0          0        928: 100%|██████████| 53/53 [00:04<00:00, 10.60it/s]\n",
      "                 Class     Images  Instances      Box(P          R      mAP50  mAP50-95): 100%|██████████| 9/9 [00:00<00:00, 36.05it/s]"
     ]
    },
    {
     "name": "stdout",
     "output_type": "stream",
     "text": [
      "                   all        281          0          0          0          0          0\n",
      "WARNING ⚠️ no labels found in detect set, can not compute metrics without labels\n"
     ]
    },
    {
     "name": "stderr",
     "output_type": "stream",
     "text": [
      "\n",
      "/home/dsu.local/bshakya/.local/lib/python3.9/site-packages/ultralytics/utils/metrics.py:850: RuntimeWarning: Mean of empty slice.\n",
      "  i = smooth(f1_curve.mean(0), 0.1).argmax()  # max F1 index\n",
      "/home/dsu.local/bshakya/.local/lib/python3.9/site-packages/numpy/core/_methods.py:121: RuntimeWarning: invalid value encountered in divide\n",
      "  ret = um.true_divide(\n"
     ]
    },
    {
     "name": "stdout",
     "output_type": "stream",
     "text": [
      "\n",
      "      Epoch    GPU_mem   box_loss   cls_loss   dfl_loss  Instances       Size\n"
     ]
    },
    {
     "name": "stderr",
     "output_type": "stream",
     "text": [
      "     14/150      7.45G          0      85.35          0          0        672: 100%|██████████| 53/53 [00:04<00:00, 11.14it/s]\n",
      "                 Class     Images  Instances      Box(P          R      mAP50  mAP50-95): 100%|██████████| 9/9 [00:00<00:00, 37.54it/s]"
     ]
    },
    {
     "name": "stdout",
     "output_type": "stream",
     "text": [
      "                   all        281          0          0          0          0          0\n",
      "WARNING ⚠️ no labels found in detect set, can not compute metrics without labels\n"
     ]
    },
    {
     "name": "stderr",
     "output_type": "stream",
     "text": [
      "\n",
      "/home/dsu.local/bshakya/.local/lib/python3.9/site-packages/ultralytics/utils/metrics.py:850: RuntimeWarning: Mean of empty slice.\n",
      "  i = smooth(f1_curve.mean(0), 0.1).argmax()  # max F1 index\n",
      "/home/dsu.local/bshakya/.local/lib/python3.9/site-packages/numpy/core/_methods.py:121: RuntimeWarning: invalid value encountered in divide\n",
      "  ret = um.true_divide(\n"
     ]
    },
    {
     "name": "stdout",
     "output_type": "stream",
     "text": [
      "\n",
      "      Epoch    GPU_mem   box_loss   cls_loss   dfl_loss  Instances       Size\n"
     ]
    },
    {
     "name": "stderr",
     "output_type": "stream",
     "text": [
      "     15/150      7.45G          0      84.22          0          0        640: 100%|██████████| 53/53 [00:04<00:00, 10.68it/s]\n",
      "                 Class     Images  Instances      Box(P          R      mAP50  mAP50-95): 100%|██████████| 9/9 [00:00<00:00, 34.75it/s]"
     ]
    },
    {
     "name": "stdout",
     "output_type": "stream",
     "text": [
      "                   all        281          0          0          0          0          0\n",
      "WARNING ⚠️ no labels found in detect set, can not compute metrics without labels\n"
     ]
    },
    {
     "name": "stderr",
     "output_type": "stream",
     "text": [
      "\n",
      "/home/dsu.local/bshakya/.local/lib/python3.9/site-packages/ultralytics/utils/metrics.py:850: RuntimeWarning: Mean of empty slice.\n",
      "  i = smooth(f1_curve.mean(0), 0.1).argmax()  # max F1 index\n",
      "/home/dsu.local/bshakya/.local/lib/python3.9/site-packages/numpy/core/_methods.py:121: RuntimeWarning: invalid value encountered in divide\n",
      "  ret = um.true_divide(\n"
     ]
    },
    {
     "name": "stdout",
     "output_type": "stream",
     "text": [
      "\n",
      "      Epoch    GPU_mem   box_loss   cls_loss   dfl_loss  Instances       Size\n"
     ]
    },
    {
     "name": "stderr",
     "output_type": "stream",
     "text": [
      "     16/150      7.45G          0      90.86          0          0        800: 100%|██████████| 53/53 [00:04<00:00, 10.83it/s]\n",
      "                 Class     Images  Instances      Box(P          R      mAP50  mAP50-95): 100%|██████████| 9/9 [00:00<00:00, 37.63it/s]"
     ]
    },
    {
     "name": "stdout",
     "output_type": "stream",
     "text": [
      "                   all        281          0          0          0          0          0\n",
      "WARNING ⚠️ no labels found in detect set, can not compute metrics without labels\n"
     ]
    },
    {
     "name": "stderr",
     "output_type": "stream",
     "text": [
      "\n",
      "/home/dsu.local/bshakya/.local/lib/python3.9/site-packages/ultralytics/utils/metrics.py:850: RuntimeWarning: Mean of empty slice.\n",
      "  i = smooth(f1_curve.mean(0), 0.1).argmax()  # max F1 index\n",
      "/home/dsu.local/bshakya/.local/lib/python3.9/site-packages/numpy/core/_methods.py:121: RuntimeWarning: invalid value encountered in divide\n",
      "  ret = um.true_divide(\n"
     ]
    },
    {
     "name": "stdout",
     "output_type": "stream",
     "text": [
      "\n",
      "      Epoch    GPU_mem   box_loss   cls_loss   dfl_loss  Instances       Size\n"
     ]
    },
    {
     "name": "stderr",
     "output_type": "stream",
     "text": [
      "     17/150      7.45G          0      71.87          0          0        768: 100%|██████████| 53/53 [00:04<00:00, 11.80it/s]\n",
      "                 Class     Images  Instances      Box(P          R      mAP50  mAP50-95): 100%|██████████| 9/9 [00:00<00:00, 37.11it/s]"
     ]
    },
    {
     "name": "stdout",
     "output_type": "stream",
     "text": [
      "                   all        281          0          0          0          0          0\n",
      "WARNING ⚠️ no labels found in detect set, can not compute metrics without labels\n"
     ]
    },
    {
     "name": "stderr",
     "output_type": "stream",
     "text": [
      "\n",
      "/home/dsu.local/bshakya/.local/lib/python3.9/site-packages/ultralytics/utils/metrics.py:850: RuntimeWarning: Mean of empty slice.\n",
      "  i = smooth(f1_curve.mean(0), 0.1).argmax()  # max F1 index\n",
      "/home/dsu.local/bshakya/.local/lib/python3.9/site-packages/numpy/core/_methods.py:121: RuntimeWarning: invalid value encountered in divide\n",
      "  ret = um.true_divide(\n"
     ]
    },
    {
     "name": "stdout",
     "output_type": "stream",
     "text": [
      "\n",
      "      Epoch    GPU_mem   box_loss   cls_loss   dfl_loss  Instances       Size\n"
     ]
    },
    {
     "name": "stderr",
     "output_type": "stream",
     "text": [
      "     18/150      7.45G          0      76.25          0          0        864: 100%|██████████| 53/53 [00:05<00:00, 10.04it/s]\n",
      "                 Class     Images  Instances      Box(P          R      mAP50  mAP50-95): 100%|██████████| 9/9 [00:00<00:00, 38.75it/s]"
     ]
    },
    {
     "name": "stdout",
     "output_type": "stream",
     "text": [
      "                   all        281          0          0          0          0          0\n",
      "WARNING ⚠️ no labels found in detect set, can not compute metrics without labels\n"
     ]
    },
    {
     "name": "stderr",
     "output_type": "stream",
     "text": [
      "\n",
      "/home/dsu.local/bshakya/.local/lib/python3.9/site-packages/ultralytics/utils/metrics.py:850: RuntimeWarning: Mean of empty slice.\n",
      "  i = smooth(f1_curve.mean(0), 0.1).argmax()  # max F1 index\n",
      "/home/dsu.local/bshakya/.local/lib/python3.9/site-packages/numpy/core/_methods.py:121: RuntimeWarning: invalid value encountered in divide\n",
      "  ret = um.true_divide(\n"
     ]
    },
    {
     "name": "stdout",
     "output_type": "stream",
     "text": [
      "\n",
      "      Epoch    GPU_mem   box_loss   cls_loss   dfl_loss  Instances       Size\n"
     ]
    },
    {
     "name": "stderr",
     "output_type": "stream",
     "text": [
      "     19/150      7.45G          0      64.53          0          0        448: 100%|██████████| 53/53 [00:04<00:00, 11.15it/s]\n",
      "                 Class     Images  Instances      Box(P          R      mAP50  mAP50-95): 100%|██████████| 9/9 [00:00<00:00, 38.40it/s]"
     ]
    },
    {
     "name": "stdout",
     "output_type": "stream",
     "text": [
      "                   all        281          0          0          0          0          0\n",
      "WARNING ⚠️ no labels found in detect set, can not compute metrics without labels\n"
     ]
    },
    {
     "name": "stderr",
     "output_type": "stream",
     "text": [
      "\n",
      "/home/dsu.local/bshakya/.local/lib/python3.9/site-packages/ultralytics/utils/metrics.py:850: RuntimeWarning: Mean of empty slice.\n",
      "  i = smooth(f1_curve.mean(0), 0.1).argmax()  # max F1 index\n",
      "/home/dsu.local/bshakya/.local/lib/python3.9/site-packages/numpy/core/_methods.py:121: RuntimeWarning: invalid value encountered in divide\n",
      "  ret = um.true_divide(\n"
     ]
    },
    {
     "name": "stdout",
     "output_type": "stream",
     "text": [
      "\n",
      "      Epoch    GPU_mem   box_loss   cls_loss   dfl_loss  Instances       Size\n"
     ]
    },
    {
     "name": "stderr",
     "output_type": "stream",
     "text": [
      "     20/150      7.45G          0      70.34          0          0        416: 100%|██████████| 53/53 [00:04<00:00, 11.10it/s]\n",
      "                 Class     Images  Instances      Box(P          R      mAP50  mAP50-95): 100%|██████████| 9/9 [00:00<00:00, 37.12it/s]"
     ]
    },
    {
     "name": "stdout",
     "output_type": "stream",
     "text": [
      "                   all        281          0          0          0          0          0\n",
      "WARNING ⚠️ no labels found in detect set, can not compute metrics without labels\n"
     ]
    },
    {
     "name": "stderr",
     "output_type": "stream",
     "text": [
      "\n",
      "/home/dsu.local/bshakya/.local/lib/python3.9/site-packages/ultralytics/utils/metrics.py:850: RuntimeWarning: Mean of empty slice.\n",
      "  i = smooth(f1_curve.mean(0), 0.1).argmax()  # max F1 index\n",
      "/home/dsu.local/bshakya/.local/lib/python3.9/site-packages/numpy/core/_methods.py:121: RuntimeWarning: invalid value encountered in divide\n",
      "  ret = um.true_divide(\n"
     ]
    },
    {
     "name": "stdout",
     "output_type": "stream",
     "text": [
      "\n",
      "      Epoch    GPU_mem   box_loss   cls_loss   dfl_loss  Instances       Size\n"
     ]
    },
    {
     "name": "stderr",
     "output_type": "stream",
     "text": [
      "     21/150      7.45G          0       70.3          0          0        928: 100%|██████████| 53/53 [00:04<00:00, 11.21it/s]\n",
      "                 Class     Images  Instances      Box(P          R      mAP50  mAP50-95): 100%|██████████| 9/9 [00:00<00:00, 38.61it/s]"
     ]
    },
    {
     "name": "stdout",
     "output_type": "stream",
     "text": [
      "                   all        281          0          0          0          0          0\n",
      "WARNING ⚠️ no labels found in detect set, can not compute metrics without labels\n"
     ]
    },
    {
     "name": "stderr",
     "output_type": "stream",
     "text": [
      "\n",
      "/home/dsu.local/bshakya/.local/lib/python3.9/site-packages/ultralytics/utils/metrics.py:850: RuntimeWarning: Mean of empty slice.\n",
      "  i = smooth(f1_curve.mean(0), 0.1).argmax()  # max F1 index\n",
      "/home/dsu.local/bshakya/.local/lib/python3.9/site-packages/numpy/core/_methods.py:121: RuntimeWarning: invalid value encountered in divide\n",
      "  ret = um.true_divide(\n"
     ]
    },
    {
     "name": "stdout",
     "output_type": "stream",
     "text": [
      "\n",
      "      Epoch    GPU_mem   box_loss   cls_loss   dfl_loss  Instances       Size\n"
     ]
    },
    {
     "name": "stderr",
     "output_type": "stream",
     "text": [
      "     22/150      7.45G          0      59.86          0          0        640: 100%|██████████| 53/53 [00:04<00:00, 12.03it/s]\n",
      "                 Class     Images  Instances      Box(P          R      mAP50  mAP50-95): 100%|██████████| 9/9 [00:00<00:00, 38.25it/s]"
     ]
    },
    {
     "name": "stdout",
     "output_type": "stream",
     "text": [
      "                   all        281          0          0          0          0          0\n",
      "WARNING ⚠️ no labels found in detect set, can not compute metrics without labels\n"
     ]
    },
    {
     "name": "stderr",
     "output_type": "stream",
     "text": [
      "\n",
      "/home/dsu.local/bshakya/.local/lib/python3.9/site-packages/ultralytics/utils/metrics.py:850: RuntimeWarning: Mean of empty slice.\n",
      "  i = smooth(f1_curve.mean(0), 0.1).argmax()  # max F1 index\n",
      "/home/dsu.local/bshakya/.local/lib/python3.9/site-packages/numpy/core/_methods.py:121: RuntimeWarning: invalid value encountered in divide\n",
      "  ret = um.true_divide(\n"
     ]
    },
    {
     "name": "stdout",
     "output_type": "stream",
     "text": [
      "\n",
      "      Epoch    GPU_mem   box_loss   cls_loss   dfl_loss  Instances       Size\n"
     ]
    },
    {
     "name": "stderr",
     "output_type": "stream",
     "text": [
      "     23/150      7.45G          0      60.49          0          0        928: 100%|██████████| 53/53 [00:04<00:00, 11.24it/s]\n",
      "                 Class     Images  Instances      Box(P          R      mAP50  mAP50-95): 100%|██████████| 9/9 [00:00<00:00, 38.59it/s]"
     ]
    },
    {
     "name": "stdout",
     "output_type": "stream",
     "text": [
      "                   all        281          0          0          0          0          0\n",
      "WARNING ⚠️ no labels found in detect set, can not compute metrics without labels\n"
     ]
    },
    {
     "name": "stderr",
     "output_type": "stream",
     "text": [
      "\n",
      "/home/dsu.local/bshakya/.local/lib/python3.9/site-packages/ultralytics/utils/metrics.py:850: RuntimeWarning: Mean of empty slice.\n",
      "  i = smooth(f1_curve.mean(0), 0.1).argmax()  # max F1 index\n",
      "/home/dsu.local/bshakya/.local/lib/python3.9/site-packages/numpy/core/_methods.py:121: RuntimeWarning: invalid value encountered in divide\n",
      "  ret = um.true_divide(\n"
     ]
    },
    {
     "name": "stdout",
     "output_type": "stream",
     "text": [
      "\n",
      "      Epoch    GPU_mem   box_loss   cls_loss   dfl_loss  Instances       Size\n"
     ]
    },
    {
     "name": "stderr",
     "output_type": "stream",
     "text": [
      "     24/150      7.45G          0       56.6          0          0        576: 100%|██████████| 53/53 [00:04<00:00, 11.41it/s]\n",
      "                 Class     Images  Instances      Box(P          R      mAP50  mAP50-95): 100%|██████████| 9/9 [00:00<00:00, 38.17it/s]"
     ]
    },
    {
     "name": "stdout",
     "output_type": "stream",
     "text": [
      "                   all        281          0          0          0          0          0\n",
      "WARNING ⚠️ no labels found in detect set, can not compute metrics without labels\n"
     ]
    },
    {
     "name": "stderr",
     "output_type": "stream",
     "text": [
      "\n",
      "/home/dsu.local/bshakya/.local/lib/python3.9/site-packages/ultralytics/utils/metrics.py:850: RuntimeWarning: Mean of empty slice.\n",
      "  i = smooth(f1_curve.mean(0), 0.1).argmax()  # max F1 index\n",
      "/home/dsu.local/bshakya/.local/lib/python3.9/site-packages/numpy/core/_methods.py:121: RuntimeWarning: invalid value encountered in divide\n",
      "  ret = um.true_divide(\n"
     ]
    },
    {
     "name": "stdout",
     "output_type": "stream",
     "text": [
      "\n",
      "      Epoch    GPU_mem   box_loss   cls_loss   dfl_loss  Instances       Size\n"
     ]
    },
    {
     "name": "stderr",
     "output_type": "stream",
     "text": [
      "     25/150      7.45G          0      57.43          0          0        960: 100%|██████████| 53/53 [00:04<00:00, 11.26it/s]\n",
      "                 Class     Images  Instances      Box(P          R      mAP50  mAP50-95): 100%|██████████| 9/9 [00:00<00:00, 36.51it/s]"
     ]
    },
    {
     "name": "stdout",
     "output_type": "stream",
     "text": [
      "                   all        281          0          0          0          0          0\n",
      "WARNING ⚠️ no labels found in detect set, can not compute metrics without labels\n"
     ]
    },
    {
     "name": "stderr",
     "output_type": "stream",
     "text": [
      "\n",
      "/home/dsu.local/bshakya/.local/lib/python3.9/site-packages/ultralytics/utils/metrics.py:850: RuntimeWarning: Mean of empty slice.\n",
      "  i = smooth(f1_curve.mean(0), 0.1).argmax()  # max F1 index\n",
      "/home/dsu.local/bshakya/.local/lib/python3.9/site-packages/numpy/core/_methods.py:121: RuntimeWarning: invalid value encountered in divide\n",
      "  ret = um.true_divide(\n"
     ]
    },
    {
     "name": "stdout",
     "output_type": "stream",
     "text": [
      "\n",
      "      Epoch    GPU_mem   box_loss   cls_loss   dfl_loss  Instances       Size\n"
     ]
    },
    {
     "name": "stderr",
     "output_type": "stream",
     "text": [
      "     26/150      7.45G          0      58.79          0          0        768: 100%|██████████| 53/53 [00:04<00:00, 11.14it/s]\n",
      "                 Class     Images  Instances      Box(P          R      mAP50  mAP50-95): 100%|██████████| 9/9 [00:00<00:00, 38.71it/s]"
     ]
    },
    {
     "name": "stdout",
     "output_type": "stream",
     "text": [
      "                   all        281          0          0          0          0          0\n",
      "WARNING ⚠️ no labels found in detect set, can not compute metrics without labels\n"
     ]
    },
    {
     "name": "stderr",
     "output_type": "stream",
     "text": [
      "\n",
      "/home/dsu.local/bshakya/.local/lib/python3.9/site-packages/ultralytics/utils/metrics.py:850: RuntimeWarning: Mean of empty slice.\n",
      "  i = smooth(f1_curve.mean(0), 0.1).argmax()  # max F1 index\n",
      "/home/dsu.local/bshakya/.local/lib/python3.9/site-packages/numpy/core/_methods.py:121: RuntimeWarning: invalid value encountered in divide\n",
      "  ret = um.true_divide(\n"
     ]
    },
    {
     "name": "stdout",
     "output_type": "stream",
     "text": [
      "\n",
      "      Epoch    GPU_mem   box_loss   cls_loss   dfl_loss  Instances       Size\n"
     ]
    },
    {
     "name": "stderr",
     "output_type": "stream",
     "text": [
      "     27/150      7.45G          0      51.81          0          0        800: 100%|██████████| 53/53 [00:04<00:00, 11.16it/s]\n",
      "                 Class     Images  Instances      Box(P          R      mAP50  mAP50-95): 100%|██████████| 9/9 [00:00<00:00, 37.40it/s]"
     ]
    },
    {
     "name": "stdout",
     "output_type": "stream",
     "text": [
      "                   all        281          0          0          0          0          0\n",
      "WARNING ⚠️ no labels found in detect set, can not compute metrics without labels\n"
     ]
    },
    {
     "name": "stderr",
     "output_type": "stream",
     "text": [
      "\n",
      "/home/dsu.local/bshakya/.local/lib/python3.9/site-packages/ultralytics/utils/metrics.py:850: RuntimeWarning: Mean of empty slice.\n",
      "  i = smooth(f1_curve.mean(0), 0.1).argmax()  # max F1 index\n",
      "/home/dsu.local/bshakya/.local/lib/python3.9/site-packages/numpy/core/_methods.py:121: RuntimeWarning: invalid value encountered in divide\n",
      "  ret = um.true_divide(\n"
     ]
    },
    {
     "name": "stdout",
     "output_type": "stream",
     "text": [
      "\n",
      "      Epoch    GPU_mem   box_loss   cls_loss   dfl_loss  Instances       Size\n"
     ]
    },
    {
     "name": "stderr",
     "output_type": "stream",
     "text": [
      "     28/150      7.45G          0       49.5          0          0        352: 100%|██████████| 53/53 [00:04<00:00, 10.98it/s]\n",
      "                 Class     Images  Instances      Box(P          R      mAP50  mAP50-95): 100%|██████████| 9/9 [00:00<00:00, 39.26it/s]"
     ]
    },
    {
     "name": "stdout",
     "output_type": "stream",
     "text": [
      "                   all        281          0          0          0          0          0\n",
      "WARNING ⚠️ no labels found in detect set, can not compute metrics without labels\n"
     ]
    },
    {
     "name": "stderr",
     "output_type": "stream",
     "text": [
      "\n",
      "/home/dsu.local/bshakya/.local/lib/python3.9/site-packages/ultralytics/utils/metrics.py:850: RuntimeWarning: Mean of empty slice.\n",
      "  i = smooth(f1_curve.mean(0), 0.1).argmax()  # max F1 index\n",
      "/home/dsu.local/bshakya/.local/lib/python3.9/site-packages/numpy/core/_methods.py:121: RuntimeWarning: invalid value encountered in divide\n",
      "  ret = um.true_divide(\n"
     ]
    },
    {
     "name": "stdout",
     "output_type": "stream",
     "text": [
      "\n",
      "      Epoch    GPU_mem   box_loss   cls_loss   dfl_loss  Instances       Size\n"
     ]
    },
    {
     "name": "stderr",
     "output_type": "stream",
     "text": [
      "     29/150      7.45G          0      48.56          0          0        672: 100%|██████████| 53/53 [00:04<00:00, 10.76it/s]\n",
      "                 Class     Images  Instances      Box(P          R      mAP50  mAP50-95): 100%|██████████| 9/9 [00:00<00:00, 38.73it/s]"
     ]
    },
    {
     "name": "stdout",
     "output_type": "stream",
     "text": [
      "                   all        281          0          0          0          0          0\n",
      "WARNING ⚠️ no labels found in detect set, can not compute metrics without labels\n"
     ]
    },
    {
     "name": "stderr",
     "output_type": "stream",
     "text": [
      "\n",
      "/home/dsu.local/bshakya/.local/lib/python3.9/site-packages/ultralytics/utils/metrics.py:850: RuntimeWarning: Mean of empty slice.\n",
      "  i = smooth(f1_curve.mean(0), 0.1).argmax()  # max F1 index\n",
      "/home/dsu.local/bshakya/.local/lib/python3.9/site-packages/numpy/core/_methods.py:121: RuntimeWarning: invalid value encountered in divide\n",
      "  ret = um.true_divide(\n"
     ]
    },
    {
     "name": "stdout",
     "output_type": "stream",
     "text": [
      "\n",
      "      Epoch    GPU_mem   box_loss   cls_loss   dfl_loss  Instances       Size\n"
     ]
    },
    {
     "name": "stderr",
     "output_type": "stream",
     "text": [
      "     30/150      7.45G          0      44.71          0          0        960: 100%|██████████| 53/53 [00:04<00:00, 10.92it/s]\n",
      "                 Class     Images  Instances      Box(P          R      mAP50  mAP50-95): 100%|██████████| 9/9 [00:00<00:00, 38.29it/s]"
     ]
    },
    {
     "name": "stdout",
     "output_type": "stream",
     "text": [
      "                   all        281          0          0          0          0          0\n",
      "WARNING ⚠️ no labels found in detect set, can not compute metrics without labels\n"
     ]
    },
    {
     "name": "stderr",
     "output_type": "stream",
     "text": [
      "\n",
      "/home/dsu.local/bshakya/.local/lib/python3.9/site-packages/ultralytics/utils/metrics.py:850: RuntimeWarning: Mean of empty slice.\n",
      "  i = smooth(f1_curve.mean(0), 0.1).argmax()  # max F1 index\n",
      "/home/dsu.local/bshakya/.local/lib/python3.9/site-packages/numpy/core/_methods.py:121: RuntimeWarning: invalid value encountered in divide\n",
      "  ret = um.true_divide(\n"
     ]
    },
    {
     "name": "stdout",
     "output_type": "stream",
     "text": [
      "\n",
      "      Epoch    GPU_mem   box_loss   cls_loss   dfl_loss  Instances       Size\n"
     ]
    },
    {
     "name": "stderr",
     "output_type": "stream",
     "text": [
      "     31/150      7.45G          0      38.58          0          0        896: 100%|██████████| 53/53 [00:05<00:00,  9.98it/s]\n",
      "                 Class     Images  Instances      Box(P          R      mAP50  mAP50-95): 100%|██████████| 9/9 [00:00<00:00, 39.54it/s]"
     ]
    },
    {
     "name": "stdout",
     "output_type": "stream",
     "text": [
      "                   all        281          0          0          0          0          0\n",
      "WARNING ⚠️ no labels found in detect set, can not compute metrics without labels\n"
     ]
    },
    {
     "name": "stderr",
     "output_type": "stream",
     "text": [
      "\n",
      "/home/dsu.local/bshakya/.local/lib/python3.9/site-packages/ultralytics/utils/metrics.py:850: RuntimeWarning: Mean of empty slice.\n",
      "  i = smooth(f1_curve.mean(0), 0.1).argmax()  # max F1 index\n",
      "/home/dsu.local/bshakya/.local/lib/python3.9/site-packages/numpy/core/_methods.py:121: RuntimeWarning: invalid value encountered in divide\n",
      "  ret = um.true_divide(\n"
     ]
    },
    {
     "name": "stdout",
     "output_type": "stream",
     "text": [
      "\n",
      "      Epoch    GPU_mem   box_loss   cls_loss   dfl_loss  Instances       Size\n"
     ]
    },
    {
     "name": "stderr",
     "output_type": "stream",
     "text": [
      "     32/150      7.45G          0      45.87          0          0        864: 100%|██████████| 53/53 [00:04<00:00, 11.26it/s]\n",
      "                 Class     Images  Instances      Box(P          R      mAP50  mAP50-95): 100%|██████████| 9/9 [00:00<00:00, 38.15it/s]"
     ]
    },
    {
     "name": "stdout",
     "output_type": "stream",
     "text": [
      "                   all        281          0          0          0          0          0\n",
      "WARNING ⚠️ no labels found in detect set, can not compute metrics without labels\n"
     ]
    },
    {
     "name": "stderr",
     "output_type": "stream",
     "text": [
      "\n",
      "/home/dsu.local/bshakya/.local/lib/python3.9/site-packages/ultralytics/utils/metrics.py:850: RuntimeWarning: Mean of empty slice.\n",
      "  i = smooth(f1_curve.mean(0), 0.1).argmax()  # max F1 index\n",
      "/home/dsu.local/bshakya/.local/lib/python3.9/site-packages/numpy/core/_methods.py:121: RuntimeWarning: invalid value encountered in divide\n",
      "  ret = um.true_divide(\n"
     ]
    },
    {
     "name": "stdout",
     "output_type": "stream",
     "text": [
      "\n",
      "      Epoch    GPU_mem   box_loss   cls_loss   dfl_loss  Instances       Size\n"
     ]
    },
    {
     "name": "stderr",
     "output_type": "stream",
     "text": [
      "     33/150      7.45G          0      40.59          0          0        672: 100%|██████████| 53/53 [00:04<00:00, 10.99it/s]\n",
      "                 Class     Images  Instances      Box(P          R      mAP50  mAP50-95): 100%|██████████| 9/9 [00:00<00:00, 38.87it/s]"
     ]
    },
    {
     "name": "stdout",
     "output_type": "stream",
     "text": [
      "                   all        281          0          0          0          0          0\n",
      "WARNING ⚠️ no labels found in detect set, can not compute metrics without labels\n"
     ]
    },
    {
     "name": "stderr",
     "output_type": "stream",
     "text": [
      "\n",
      "/home/dsu.local/bshakya/.local/lib/python3.9/site-packages/ultralytics/utils/metrics.py:850: RuntimeWarning: Mean of empty slice.\n",
      "  i = smooth(f1_curve.mean(0), 0.1).argmax()  # max F1 index\n",
      "/home/dsu.local/bshakya/.local/lib/python3.9/site-packages/numpy/core/_methods.py:121: RuntimeWarning: invalid value encountered in divide\n",
      "  ret = um.true_divide(\n"
     ]
    },
    {
     "name": "stdout",
     "output_type": "stream",
     "text": [
      "\n",
      "      Epoch    GPU_mem   box_loss   cls_loss   dfl_loss  Instances       Size\n"
     ]
    },
    {
     "name": "stderr",
     "output_type": "stream",
     "text": [
      "     34/150      7.45G          0       38.6          0          0        896: 100%|██████████| 53/53 [00:05<00:00, 10.48it/s]\n",
      "                 Class     Images  Instances      Box(P          R      mAP50  mAP50-95): 100%|██████████| 9/9 [00:00<00:00, 39.24it/s]"
     ]
    },
    {
     "name": "stdout",
     "output_type": "stream",
     "text": [
      "                   all        281          0          0          0          0          0\n",
      "WARNING ⚠️ no labels found in detect set, can not compute metrics without labels\n"
     ]
    },
    {
     "name": "stderr",
     "output_type": "stream",
     "text": [
      "\n",
      "/home/dsu.local/bshakya/.local/lib/python3.9/site-packages/ultralytics/utils/metrics.py:850: RuntimeWarning: Mean of empty slice.\n",
      "  i = smooth(f1_curve.mean(0), 0.1).argmax()  # max F1 index\n",
      "/home/dsu.local/bshakya/.local/lib/python3.9/site-packages/numpy/core/_methods.py:121: RuntimeWarning: invalid value encountered in divide\n",
      "  ret = um.true_divide(\n"
     ]
    },
    {
     "name": "stdout",
     "output_type": "stream",
     "text": [
      "\n",
      "      Epoch    GPU_mem   box_loss   cls_loss   dfl_loss  Instances       Size\n"
     ]
    },
    {
     "name": "stderr",
     "output_type": "stream",
     "text": [
      "     35/150      7.45G          0      40.93          0          0        352: 100%|██████████| 53/53 [00:04<00:00, 11.64it/s]\n",
      "                 Class     Images  Instances      Box(P          R      mAP50  mAP50-95): 100%|██████████| 9/9 [00:00<00:00, 39.06it/s]"
     ]
    },
    {
     "name": "stdout",
     "output_type": "stream",
     "text": [
      "                   all        281          0          0          0          0          0\n",
      "WARNING ⚠️ no labels found in detect set, can not compute metrics without labels\n"
     ]
    },
    {
     "name": "stderr",
     "output_type": "stream",
     "text": [
      "\n",
      "/home/dsu.local/bshakya/.local/lib/python3.9/site-packages/ultralytics/utils/metrics.py:850: RuntimeWarning: Mean of empty slice.\n",
      "  i = smooth(f1_curve.mean(0), 0.1).argmax()  # max F1 index\n",
      "/home/dsu.local/bshakya/.local/lib/python3.9/site-packages/numpy/core/_methods.py:121: RuntimeWarning: invalid value encountered in divide\n",
      "  ret = um.true_divide(\n"
     ]
    },
    {
     "name": "stdout",
     "output_type": "stream",
     "text": [
      "\n",
      "      Epoch    GPU_mem   box_loss   cls_loss   dfl_loss  Instances       Size\n"
     ]
    },
    {
     "name": "stderr",
     "output_type": "stream",
     "text": [
      "     36/150      7.45G          0      36.88          0          0        320: 100%|██████████| 53/53 [00:05<00:00, 10.01it/s]\n",
      "                 Class     Images  Instances      Box(P          R      mAP50  mAP50-95): 100%|██████████| 9/9 [00:00<00:00, 39.49it/s]"
     ]
    },
    {
     "name": "stdout",
     "output_type": "stream",
     "text": [
      "                   all        281          0          0          0          0          0\n",
      "WARNING ⚠️ no labels found in detect set, can not compute metrics without labels\n"
     ]
    },
    {
     "name": "stderr",
     "output_type": "stream",
     "text": [
      "\n",
      "/home/dsu.local/bshakya/.local/lib/python3.9/site-packages/ultralytics/utils/metrics.py:850: RuntimeWarning: Mean of empty slice.\n",
      "  i = smooth(f1_curve.mean(0), 0.1).argmax()  # max F1 index\n",
      "/home/dsu.local/bshakya/.local/lib/python3.9/site-packages/numpy/core/_methods.py:121: RuntimeWarning: invalid value encountered in divide\n",
      "  ret = um.true_divide(\n"
     ]
    },
    {
     "name": "stdout",
     "output_type": "stream",
     "text": [
      "\n",
      "      Epoch    GPU_mem   box_loss   cls_loss   dfl_loss  Instances       Size\n"
     ]
    },
    {
     "name": "stderr",
     "output_type": "stream",
     "text": [
      "     37/150      7.45G          0      34.79          0          0        576: 100%|██████████| 53/53 [00:04<00:00, 11.22it/s]\n",
      "                 Class     Images  Instances      Box(P          R      mAP50  mAP50-95): 100%|██████████| 9/9 [00:00<00:00, 38.74it/s]"
     ]
    },
    {
     "name": "stdout",
     "output_type": "stream",
     "text": [
      "                   all        281          0          0          0          0          0\n",
      "WARNING ⚠️ no labels found in detect set, can not compute metrics without labels\n"
     ]
    },
    {
     "name": "stderr",
     "output_type": "stream",
     "text": [
      "\n",
      "/home/dsu.local/bshakya/.local/lib/python3.9/site-packages/ultralytics/utils/metrics.py:850: RuntimeWarning: Mean of empty slice.\n",
      "  i = smooth(f1_curve.mean(0), 0.1).argmax()  # max F1 index\n",
      "/home/dsu.local/bshakya/.local/lib/python3.9/site-packages/numpy/core/_methods.py:121: RuntimeWarning: invalid value encountered in divide\n",
      "  ret = um.true_divide(\n"
     ]
    },
    {
     "name": "stdout",
     "output_type": "stream",
     "text": [
      "\n",
      "      Epoch    GPU_mem   box_loss   cls_loss   dfl_loss  Instances       Size\n"
     ]
    },
    {
     "name": "stderr",
     "output_type": "stream",
     "text": [
      "     38/150      7.45G          0      29.94          0          0        352: 100%|██████████| 53/53 [00:04<00:00, 11.70it/s]\n",
      "                 Class     Images  Instances      Box(P          R      mAP50  mAP50-95): 100%|██████████| 9/9 [00:00<00:00, 38.83it/s]"
     ]
    },
    {
     "name": "stdout",
     "output_type": "stream",
     "text": [
      "                   all        281          0          0          0          0          0\n",
      "WARNING ⚠️ no labels found in detect set, can not compute metrics without labels\n"
     ]
    },
    {
     "name": "stderr",
     "output_type": "stream",
     "text": [
      "\n",
      "/home/dsu.local/bshakya/.local/lib/python3.9/site-packages/ultralytics/utils/metrics.py:850: RuntimeWarning: Mean of empty slice.\n",
      "  i = smooth(f1_curve.mean(0), 0.1).argmax()  # max F1 index\n",
      "/home/dsu.local/bshakya/.local/lib/python3.9/site-packages/numpy/core/_methods.py:121: RuntimeWarning: invalid value encountered in divide\n",
      "  ret = um.true_divide(\n"
     ]
    },
    {
     "name": "stdout",
     "output_type": "stream",
     "text": [
      "\n",
      "      Epoch    GPU_mem   box_loss   cls_loss   dfl_loss  Instances       Size\n"
     ]
    },
    {
     "name": "stderr",
     "output_type": "stream",
     "text": [
      "     39/150      7.45G          0       30.3          0          0        896: 100%|██████████| 53/53 [00:05<00:00, 10.47it/s]\n",
      "                 Class     Images  Instances      Box(P          R      mAP50  mAP50-95): 100%|██████████| 9/9 [00:00<00:00, 39.46it/s]"
     ]
    },
    {
     "name": "stdout",
     "output_type": "stream",
     "text": [
      "                   all        281          0          0          0          0          0\n",
      "WARNING ⚠️ no labels found in detect set, can not compute metrics without labels\n"
     ]
    },
    {
     "name": "stderr",
     "output_type": "stream",
     "text": [
      "\n",
      "/home/dsu.local/bshakya/.local/lib/python3.9/site-packages/ultralytics/utils/metrics.py:850: RuntimeWarning: Mean of empty slice.\n",
      "  i = smooth(f1_curve.mean(0), 0.1).argmax()  # max F1 index\n",
      "/home/dsu.local/bshakya/.local/lib/python3.9/site-packages/numpy/core/_methods.py:121: RuntimeWarning: invalid value encountered in divide\n",
      "  ret = um.true_divide(\n"
     ]
    },
    {
     "name": "stdout",
     "output_type": "stream",
     "text": [
      "\n",
      "      Epoch    GPU_mem   box_loss   cls_loss   dfl_loss  Instances       Size\n"
     ]
    },
    {
     "name": "stderr",
     "output_type": "stream",
     "text": [
      "     40/150      7.45G          0      32.58          0          0        832: 100%|██████████| 53/53 [00:04<00:00, 10.68it/s]\n",
      "                 Class     Images  Instances      Box(P          R      mAP50  mAP50-95): 100%|██████████| 9/9 [00:00<00:00, 39.04it/s]"
     ]
    },
    {
     "name": "stdout",
     "output_type": "stream",
     "text": [
      "                   all        281          0          0          0          0          0\n",
      "WARNING ⚠️ no labels found in detect set, can not compute metrics without labels\n"
     ]
    },
    {
     "name": "stderr",
     "output_type": "stream",
     "text": [
      "\n",
      "/home/dsu.local/bshakya/.local/lib/python3.9/site-packages/ultralytics/utils/metrics.py:850: RuntimeWarning: Mean of empty slice.\n",
      "  i = smooth(f1_curve.mean(0), 0.1).argmax()  # max F1 index\n",
      "/home/dsu.local/bshakya/.local/lib/python3.9/site-packages/numpy/core/_methods.py:121: RuntimeWarning: invalid value encountered in divide\n",
      "  ret = um.true_divide(\n"
     ]
    },
    {
     "name": "stdout",
     "output_type": "stream",
     "text": [
      "\n",
      "      Epoch    GPU_mem   box_loss   cls_loss   dfl_loss  Instances       Size\n"
     ]
    },
    {
     "name": "stderr",
     "output_type": "stream",
     "text": [
      "     41/150      7.45G          0      29.66          0          0        768: 100%|██████████| 53/53 [00:04<00:00, 11.41it/s]\n",
      "                 Class     Images  Instances      Box(P          R      mAP50  mAP50-95): 100%|██████████| 9/9 [00:00<00:00, 38.83it/s]"
     ]
    },
    {
     "name": "stdout",
     "output_type": "stream",
     "text": [
      "                   all        281          0          0          0          0          0\n",
      "WARNING ⚠️ no labels found in detect set, can not compute metrics without labels\n"
     ]
    },
    {
     "name": "stderr",
     "output_type": "stream",
     "text": [
      "\n",
      "/home/dsu.local/bshakya/.local/lib/python3.9/site-packages/ultralytics/utils/metrics.py:850: RuntimeWarning: Mean of empty slice.\n",
      "  i = smooth(f1_curve.mean(0), 0.1).argmax()  # max F1 index\n",
      "/home/dsu.local/bshakya/.local/lib/python3.9/site-packages/numpy/core/_methods.py:121: RuntimeWarning: invalid value encountered in divide\n",
      "  ret = um.true_divide(\n"
     ]
    },
    {
     "name": "stdout",
     "output_type": "stream",
     "text": [
      "\n",
      "      Epoch    GPU_mem   box_loss   cls_loss   dfl_loss  Instances       Size\n"
     ]
    },
    {
     "name": "stderr",
     "output_type": "stream",
     "text": [
      "     42/150      7.45G          0      29.78          0          0        384: 100%|██████████| 53/53 [00:05<00:00, 10.56it/s]\n",
      "                 Class     Images  Instances      Box(P          R      mAP50  mAP50-95): 100%|██████████| 9/9 [00:00<00:00, 39.28it/s]"
     ]
    },
    {
     "name": "stdout",
     "output_type": "stream",
     "text": [
      "                   all        281          0          0          0          0          0\n",
      "WARNING ⚠️ no labels found in detect set, can not compute metrics without labels\n"
     ]
    },
    {
     "name": "stderr",
     "output_type": "stream",
     "text": [
      "\n",
      "/home/dsu.local/bshakya/.local/lib/python3.9/site-packages/ultralytics/utils/metrics.py:850: RuntimeWarning: Mean of empty slice.\n",
      "  i = smooth(f1_curve.mean(0), 0.1).argmax()  # max F1 index\n",
      "/home/dsu.local/bshakya/.local/lib/python3.9/site-packages/numpy/core/_methods.py:121: RuntimeWarning: invalid value encountered in divide\n",
      "  ret = um.true_divide(\n"
     ]
    },
    {
     "name": "stdout",
     "output_type": "stream",
     "text": [
      "\n",
      "      Epoch    GPU_mem   box_loss   cls_loss   dfl_loss  Instances       Size\n"
     ]
    },
    {
     "name": "stderr",
     "output_type": "stream",
     "text": [
      "     43/150      7.45G          0      26.95          0          0        416: 100%|██████████| 53/53 [00:04<00:00, 11.87it/s]\n",
      "                 Class     Images  Instances      Box(P          R      mAP50  mAP50-95): 100%|██████████| 9/9 [00:00<00:00, 39.02it/s]"
     ]
    },
    {
     "name": "stdout",
     "output_type": "stream",
     "text": [
      "                   all        281          0          0          0          0          0\n",
      "WARNING ⚠️ no labels found in detect set, can not compute metrics without labels\n"
     ]
    },
    {
     "name": "stderr",
     "output_type": "stream",
     "text": [
      "\n",
      "/home/dsu.local/bshakya/.local/lib/python3.9/site-packages/ultralytics/utils/metrics.py:850: RuntimeWarning: Mean of empty slice.\n",
      "  i = smooth(f1_curve.mean(0), 0.1).argmax()  # max F1 index\n",
      "/home/dsu.local/bshakya/.local/lib/python3.9/site-packages/numpy/core/_methods.py:121: RuntimeWarning: invalid value encountered in divide\n",
      "  ret = um.true_divide(\n"
     ]
    },
    {
     "name": "stdout",
     "output_type": "stream",
     "text": [
      "\n",
      "      Epoch    GPU_mem   box_loss   cls_loss   dfl_loss  Instances       Size\n"
     ]
    },
    {
     "name": "stderr",
     "output_type": "stream",
     "text": [
      "     44/150      7.45G          0       25.8          0          0        512: 100%|██████████| 53/53 [00:05<00:00, 10.40it/s]\n",
      "                 Class     Images  Instances      Box(P          R      mAP50  mAP50-95): 100%|██████████| 9/9 [00:00<00:00, 38.71it/s]"
     ]
    },
    {
     "name": "stdout",
     "output_type": "stream",
     "text": [
      "                   all        281          0          0          0          0          0\n",
      "WARNING ⚠️ no labels found in detect set, can not compute metrics without labels\n"
     ]
    },
    {
     "name": "stderr",
     "output_type": "stream",
     "text": [
      "\n",
      "/home/dsu.local/bshakya/.local/lib/python3.9/site-packages/ultralytics/utils/metrics.py:850: RuntimeWarning: Mean of empty slice.\n",
      "  i = smooth(f1_curve.mean(0), 0.1).argmax()  # max F1 index\n",
      "/home/dsu.local/bshakya/.local/lib/python3.9/site-packages/numpy/core/_methods.py:121: RuntimeWarning: invalid value encountered in divide\n",
      "  ret = um.true_divide(\n"
     ]
    },
    {
     "name": "stdout",
     "output_type": "stream",
     "text": [
      "\n",
      "      Epoch    GPU_mem   box_loss   cls_loss   dfl_loss  Instances       Size\n"
     ]
    },
    {
     "name": "stderr",
     "output_type": "stream",
     "text": [
      "     45/150      7.45G          0      23.05          0          0        576: 100%|██████████| 53/53 [00:04<00:00, 11.52it/s]\n",
      "                 Class     Images  Instances      Box(P          R      mAP50  mAP50-95): 100%|██████████| 9/9 [00:00<00:00, 39.04it/s]"
     ]
    },
    {
     "name": "stdout",
     "output_type": "stream",
     "text": [
      "                   all        281          0          0          0          0          0\n",
      "WARNING ⚠️ no labels found in detect set, can not compute metrics without labels\n"
     ]
    },
    {
     "name": "stderr",
     "output_type": "stream",
     "text": [
      "\n",
      "/home/dsu.local/bshakya/.local/lib/python3.9/site-packages/ultralytics/utils/metrics.py:850: RuntimeWarning: Mean of empty slice.\n",
      "  i = smooth(f1_curve.mean(0), 0.1).argmax()  # max F1 index\n",
      "/home/dsu.local/bshakya/.local/lib/python3.9/site-packages/numpy/core/_methods.py:121: RuntimeWarning: invalid value encountered in divide\n",
      "  ret = um.true_divide(\n"
     ]
    },
    {
     "name": "stdout",
     "output_type": "stream",
     "text": [
      "\n",
      "      Epoch    GPU_mem   box_loss   cls_loss   dfl_loss  Instances       Size\n"
     ]
    },
    {
     "name": "stderr",
     "output_type": "stream",
     "text": [
      "     46/150      7.45G          0      22.53          0          0        800: 100%|██████████| 53/53 [00:04<00:00, 12.00it/s]\n",
      "                 Class     Images  Instances      Box(P          R      mAP50  mAP50-95): 100%|██████████| 9/9 [00:00<00:00, 39.27it/s]"
     ]
    },
    {
     "name": "stdout",
     "output_type": "stream",
     "text": [
      "                   all        281          0          0          0          0          0\n",
      "WARNING ⚠️ no labels found in detect set, can not compute metrics without labels\n"
     ]
    },
    {
     "name": "stderr",
     "output_type": "stream",
     "text": [
      "\n",
      "/home/dsu.local/bshakya/.local/lib/python3.9/site-packages/ultralytics/utils/metrics.py:850: RuntimeWarning: Mean of empty slice.\n",
      "  i = smooth(f1_curve.mean(0), 0.1).argmax()  # max F1 index\n",
      "/home/dsu.local/bshakya/.local/lib/python3.9/site-packages/numpy/core/_methods.py:121: RuntimeWarning: invalid value encountered in divide\n",
      "  ret = um.true_divide(\n"
     ]
    },
    {
     "name": "stdout",
     "output_type": "stream",
     "text": [
      "\n",
      "      Epoch    GPU_mem   box_loss   cls_loss   dfl_loss  Instances       Size\n"
     ]
    },
    {
     "name": "stderr",
     "output_type": "stream",
     "text": [
      "     47/150      7.45G          0      19.61          0          0        736: 100%|██████████| 53/53 [00:04<00:00, 10.98it/s]\n",
      "                 Class     Images  Instances      Box(P          R      mAP50  mAP50-95): 100%|██████████| 9/9 [00:00<00:00, 39.06it/s]"
     ]
    },
    {
     "name": "stdout",
     "output_type": "stream",
     "text": [
      "                   all        281          0          0          0          0          0\n",
      "WARNING ⚠️ no labels found in detect set, can not compute metrics without labels\n"
     ]
    },
    {
     "name": "stderr",
     "output_type": "stream",
     "text": [
      "\n",
      "/home/dsu.local/bshakya/.local/lib/python3.9/site-packages/ultralytics/utils/metrics.py:850: RuntimeWarning: Mean of empty slice.\n",
      "  i = smooth(f1_curve.mean(0), 0.1).argmax()  # max F1 index\n",
      "/home/dsu.local/bshakya/.local/lib/python3.9/site-packages/numpy/core/_methods.py:121: RuntimeWarning: invalid value encountered in divide\n",
      "  ret = um.true_divide(\n"
     ]
    },
    {
     "name": "stdout",
     "output_type": "stream",
     "text": [
      "\n",
      "      Epoch    GPU_mem   box_loss   cls_loss   dfl_loss  Instances       Size\n"
     ]
    },
    {
     "name": "stderr",
     "output_type": "stream",
     "text": [
      "     48/150      7.45G          0      23.24          0          0        608: 100%|██████████| 53/53 [00:05<00:00, 10.41it/s]\n",
      "                 Class     Images  Instances      Box(P          R      mAP50  mAP50-95): 100%|██████████| 9/9 [00:00<00:00, 39.32it/s]"
     ]
    },
    {
     "name": "stdout",
     "output_type": "stream",
     "text": [
      "                   all        281          0          0          0          0          0\n",
      "WARNING ⚠️ no labels found in detect set, can not compute metrics without labels\n"
     ]
    },
    {
     "name": "stderr",
     "output_type": "stream",
     "text": [
      "\n",
      "/home/dsu.local/bshakya/.local/lib/python3.9/site-packages/ultralytics/utils/metrics.py:850: RuntimeWarning: Mean of empty slice.\n",
      "  i = smooth(f1_curve.mean(0), 0.1).argmax()  # max F1 index\n",
      "/home/dsu.local/bshakya/.local/lib/python3.9/site-packages/numpy/core/_methods.py:121: RuntimeWarning: invalid value encountered in divide\n",
      "  ret = um.true_divide(\n"
     ]
    },
    {
     "name": "stdout",
     "output_type": "stream",
     "text": [
      "\n",
      "      Epoch    GPU_mem   box_loss   cls_loss   dfl_loss  Instances       Size\n"
     ]
    },
    {
     "name": "stderr",
     "output_type": "stream",
     "text": [
      "     49/150      7.45G          0      20.87          0          0        384: 100%|██████████| 53/53 [00:04<00:00, 12.12it/s]\n",
      "                 Class     Images  Instances      Box(P          R      mAP50  mAP50-95): 100%|██████████| 9/9 [00:00<00:00, 38.70it/s]"
     ]
    },
    {
     "name": "stdout",
     "output_type": "stream",
     "text": [
      "                   all        281          0          0          0          0          0\n",
      "WARNING ⚠️ no labels found in detect set, can not compute metrics without labels\n"
     ]
    },
    {
     "name": "stderr",
     "output_type": "stream",
     "text": [
      "\n",
      "/home/dsu.local/bshakya/.local/lib/python3.9/site-packages/ultralytics/utils/metrics.py:850: RuntimeWarning: Mean of empty slice.\n",
      "  i = smooth(f1_curve.mean(0), 0.1).argmax()  # max F1 index\n",
      "/home/dsu.local/bshakya/.local/lib/python3.9/site-packages/numpy/core/_methods.py:121: RuntimeWarning: invalid value encountered in divide\n",
      "  ret = um.true_divide(\n"
     ]
    },
    {
     "name": "stdout",
     "output_type": "stream",
     "text": [
      "\n",
      "      Epoch    GPU_mem   box_loss   cls_loss   dfl_loss  Instances       Size\n"
     ]
    },
    {
     "name": "stderr",
     "output_type": "stream",
     "text": [
      "     50/150      7.45G          0      22.29          0          0        576: 100%|██████████| 53/53 [00:04<00:00, 10.80it/s]\n",
      "                 Class     Images  Instances      Box(P          R      mAP50  mAP50-95): 100%|██████████| 9/9 [00:00<00:00, 39.29it/s]"
     ]
    },
    {
     "name": "stdout",
     "output_type": "stream",
     "text": [
      "                   all        281          0          0          0          0          0\n",
      "WARNING ⚠️ no labels found in detect set, can not compute metrics without labels\n"
     ]
    },
    {
     "name": "stderr",
     "output_type": "stream",
     "text": [
      "\n",
      "/home/dsu.local/bshakya/.local/lib/python3.9/site-packages/ultralytics/utils/metrics.py:850: RuntimeWarning: Mean of empty slice.\n",
      "  i = smooth(f1_curve.mean(0), 0.1).argmax()  # max F1 index\n",
      "/home/dsu.local/bshakya/.local/lib/python3.9/site-packages/numpy/core/_methods.py:121: RuntimeWarning: invalid value encountered in divide\n",
      "  ret = um.true_divide(\n"
     ]
    },
    {
     "name": "stdout",
     "output_type": "stream",
     "text": [
      "\n",
      "      Epoch    GPU_mem   box_loss   cls_loss   dfl_loss  Instances       Size\n"
     ]
    },
    {
     "name": "stderr",
     "output_type": "stream",
     "text": [
      "     51/150      7.45G          0      19.23          0          0        736: 100%|██████████| 53/53 [00:04<00:00, 11.34it/s]\n",
      "                 Class     Images  Instances      Box(P          R      mAP50  mAP50-95): 100%|██████████| 9/9 [00:00<00:00, 38.51it/s]"
     ]
    },
    {
     "name": "stdout",
     "output_type": "stream",
     "text": [
      "                   all        281          0          0          0          0          0\n",
      "WARNING ⚠️ no labels found in detect set, can not compute metrics without labels\n"
     ]
    },
    {
     "name": "stderr",
     "output_type": "stream",
     "text": [
      "\n",
      "/home/dsu.local/bshakya/.local/lib/python3.9/site-packages/ultralytics/utils/metrics.py:850: RuntimeWarning: Mean of empty slice.\n",
      "  i = smooth(f1_curve.mean(0), 0.1).argmax()  # max F1 index\n",
      "/home/dsu.local/bshakya/.local/lib/python3.9/site-packages/numpy/core/_methods.py:121: RuntimeWarning: invalid value encountered in divide\n",
      "  ret = um.true_divide(\n"
     ]
    },
    {
     "name": "stdout",
     "output_type": "stream",
     "text": [
      "\n",
      "      Epoch    GPU_mem   box_loss   cls_loss   dfl_loss  Instances       Size\n"
     ]
    },
    {
     "name": "stderr",
     "output_type": "stream",
     "text": [
      "     52/150      7.45G          0      17.28          0          0        768: 100%|██████████| 53/53 [00:04<00:00, 10.90it/s]\n",
      "                 Class     Images  Instances      Box(P          R      mAP50  mAP50-95): 100%|██████████| 9/9 [00:00<00:00, 39.26it/s]"
     ]
    },
    {
     "name": "stdout",
     "output_type": "stream",
     "text": [
      "                   all        281          0          0          0          0          0\n",
      "WARNING ⚠️ no labels found in detect set, can not compute metrics without labels\n"
     ]
    },
    {
     "name": "stderr",
     "output_type": "stream",
     "text": [
      "\n",
      "/home/dsu.local/bshakya/.local/lib/python3.9/site-packages/ultralytics/utils/metrics.py:850: RuntimeWarning: Mean of empty slice.\n",
      "  i = smooth(f1_curve.mean(0), 0.1).argmax()  # max F1 index\n",
      "/home/dsu.local/bshakya/.local/lib/python3.9/site-packages/numpy/core/_methods.py:121: RuntimeWarning: invalid value encountered in divide\n",
      "  ret = um.true_divide(\n"
     ]
    },
    {
     "name": "stdout",
     "output_type": "stream",
     "text": [
      "\n",
      "      Epoch    GPU_mem   box_loss   cls_loss   dfl_loss  Instances       Size\n"
     ]
    },
    {
     "name": "stderr",
     "output_type": "stream",
     "text": [
      "     53/150      7.45G          0      19.67          0          0        832: 100%|██████████| 53/53 [00:04<00:00, 11.01it/s]\n",
      "                 Class     Images  Instances      Box(P          R      mAP50  mAP50-95): 100%|██████████| 9/9 [00:00<00:00, 39.27it/s]"
     ]
    },
    {
     "name": "stdout",
     "output_type": "stream",
     "text": [
      "                   all        281          0          0          0          0          0\n",
      "WARNING ⚠️ no labels found in detect set, can not compute metrics without labels\n"
     ]
    },
    {
     "name": "stderr",
     "output_type": "stream",
     "text": [
      "\n",
      "/home/dsu.local/bshakya/.local/lib/python3.9/site-packages/ultralytics/utils/metrics.py:850: RuntimeWarning: Mean of empty slice.\n",
      "  i = smooth(f1_curve.mean(0), 0.1).argmax()  # max F1 index\n",
      "/home/dsu.local/bshakya/.local/lib/python3.9/site-packages/numpy/core/_methods.py:121: RuntimeWarning: invalid value encountered in divide\n",
      "  ret = um.true_divide(\n"
     ]
    },
    {
     "name": "stdout",
     "output_type": "stream",
     "text": [
      "\n",
      "      Epoch    GPU_mem   box_loss   cls_loss   dfl_loss  Instances       Size\n"
     ]
    },
    {
     "name": "stderr",
     "output_type": "stream",
     "text": [
      "     54/150      7.45G          0      18.76          0          0        640: 100%|██████████| 53/53 [00:04<00:00, 11.35it/s]\n",
      "                 Class     Images  Instances      Box(P          R      mAP50  mAP50-95): 100%|██████████| 9/9 [00:00<00:00, 39.09it/s]"
     ]
    },
    {
     "name": "stdout",
     "output_type": "stream",
     "text": [
      "                   all        281          0          0          0          0          0\n",
      "WARNING ⚠️ no labels found in detect set, can not compute metrics without labels\n"
     ]
    },
    {
     "name": "stderr",
     "output_type": "stream",
     "text": [
      "\n",
      "/home/dsu.local/bshakya/.local/lib/python3.9/site-packages/ultralytics/utils/metrics.py:850: RuntimeWarning: Mean of empty slice.\n",
      "  i = smooth(f1_curve.mean(0), 0.1).argmax()  # max F1 index\n",
      "/home/dsu.local/bshakya/.local/lib/python3.9/site-packages/numpy/core/_methods.py:121: RuntimeWarning: invalid value encountered in divide\n",
      "  ret = um.true_divide(\n"
     ]
    },
    {
     "name": "stdout",
     "output_type": "stream",
     "text": [
      "\n",
      "      Epoch    GPU_mem   box_loss   cls_loss   dfl_loss  Instances       Size\n"
     ]
    },
    {
     "name": "stderr",
     "output_type": "stream",
     "text": [
      "     55/150      7.45G          0      18.29          0          0        736: 100%|██████████| 53/53 [00:04<00:00, 10.80it/s]\n",
      "                 Class     Images  Instances      Box(P          R      mAP50  mAP50-95): 100%|██████████| 9/9 [00:00<00:00, 39.45it/s]"
     ]
    },
    {
     "name": "stdout",
     "output_type": "stream",
     "text": [
      "                   all        281          0          0          0          0          0\n",
      "WARNING ⚠️ no labels found in detect set, can not compute metrics without labels\n"
     ]
    },
    {
     "name": "stderr",
     "output_type": "stream",
     "text": [
      "\n",
      "/home/dsu.local/bshakya/.local/lib/python3.9/site-packages/ultralytics/utils/metrics.py:850: RuntimeWarning: Mean of empty slice.\n",
      "  i = smooth(f1_curve.mean(0), 0.1).argmax()  # max F1 index\n",
      "/home/dsu.local/bshakya/.local/lib/python3.9/site-packages/numpy/core/_methods.py:121: RuntimeWarning: invalid value encountered in divide\n",
      "  ret = um.true_divide(\n"
     ]
    },
    {
     "name": "stdout",
     "output_type": "stream",
     "text": [
      "\n",
      "      Epoch    GPU_mem   box_loss   cls_loss   dfl_loss  Instances       Size\n"
     ]
    },
    {
     "name": "stderr",
     "output_type": "stream",
     "text": [
      "     56/150      7.45G          0      15.05          0          0        448: 100%|██████████| 53/53 [00:04<00:00, 11.15it/s]\n",
      "                 Class     Images  Instances      Box(P          R      mAP50  mAP50-95): 100%|██████████| 9/9 [00:00<00:00, 39.09it/s]"
     ]
    },
    {
     "name": "stdout",
     "output_type": "stream",
     "text": [
      "                   all        281          0          0          0          0          0\n",
      "WARNING ⚠️ no labels found in detect set, can not compute metrics without labels\n"
     ]
    },
    {
     "name": "stderr",
     "output_type": "stream",
     "text": [
      "\n",
      "/home/dsu.local/bshakya/.local/lib/python3.9/site-packages/ultralytics/utils/metrics.py:850: RuntimeWarning: Mean of empty slice.\n",
      "  i = smooth(f1_curve.mean(0), 0.1).argmax()  # max F1 index\n",
      "/home/dsu.local/bshakya/.local/lib/python3.9/site-packages/numpy/core/_methods.py:121: RuntimeWarning: invalid value encountered in divide\n",
      "  ret = um.true_divide(\n"
     ]
    },
    {
     "name": "stdout",
     "output_type": "stream",
     "text": [
      "\n",
      "      Epoch    GPU_mem   box_loss   cls_loss   dfl_loss  Instances       Size\n"
     ]
    },
    {
     "name": "stderr",
     "output_type": "stream",
     "text": [
      "     57/150      7.45G          0      14.09          0          0        768: 100%|██████████| 53/53 [00:04<00:00, 11.37it/s]\n",
      "                 Class     Images  Instances      Box(P          R      mAP50  mAP50-95): 100%|██████████| 9/9 [00:00<00:00, 39.00it/s]"
     ]
    },
    {
     "name": "stdout",
     "output_type": "stream",
     "text": [
      "                   all        281          0          0          0          0          0\n",
      "WARNING ⚠️ no labels found in detect set, can not compute metrics without labels\n"
     ]
    },
    {
     "name": "stderr",
     "output_type": "stream",
     "text": [
      "\n",
      "/home/dsu.local/bshakya/.local/lib/python3.9/site-packages/ultralytics/utils/metrics.py:850: RuntimeWarning: Mean of empty slice.\n",
      "  i = smooth(f1_curve.mean(0), 0.1).argmax()  # max F1 index\n",
      "/home/dsu.local/bshakya/.local/lib/python3.9/site-packages/numpy/core/_methods.py:121: RuntimeWarning: invalid value encountered in divide\n",
      "  ret = um.true_divide(\n"
     ]
    },
    {
     "name": "stdout",
     "output_type": "stream",
     "text": [
      "\n",
      "      Epoch    GPU_mem   box_loss   cls_loss   dfl_loss  Instances       Size\n"
     ]
    },
    {
     "name": "stderr",
     "output_type": "stream",
     "text": [
      "     58/150      7.45G          0      15.32          0          0        608: 100%|██████████| 53/53 [00:05<00:00, 10.21it/s]\n",
      "                 Class     Images  Instances      Box(P          R      mAP50  mAP50-95): 100%|██████████| 9/9 [00:00<00:00, 39.03it/s]"
     ]
    },
    {
     "name": "stdout",
     "output_type": "stream",
     "text": [
      "                   all        281          0          0          0          0          0\n",
      "WARNING ⚠️ no labels found in detect set, can not compute metrics without labels\n"
     ]
    },
    {
     "name": "stderr",
     "output_type": "stream",
     "text": [
      "\n",
      "/home/dsu.local/bshakya/.local/lib/python3.9/site-packages/ultralytics/utils/metrics.py:850: RuntimeWarning: Mean of empty slice.\n",
      "  i = smooth(f1_curve.mean(0), 0.1).argmax()  # max F1 index\n",
      "/home/dsu.local/bshakya/.local/lib/python3.9/site-packages/numpy/core/_methods.py:121: RuntimeWarning: invalid value encountered in divide\n",
      "  ret = um.true_divide(\n"
     ]
    },
    {
     "name": "stdout",
     "output_type": "stream",
     "text": [
      "\n",
      "      Epoch    GPU_mem   box_loss   cls_loss   dfl_loss  Instances       Size\n"
     ]
    },
    {
     "name": "stderr",
     "output_type": "stream",
     "text": [
      "     59/150      7.45G          0      16.44          0          0        960: 100%|██████████| 53/53 [00:04<00:00, 11.20it/s]\n",
      "                 Class     Images  Instances      Box(P          R      mAP50  mAP50-95): 100%|██████████| 9/9 [00:00<00:00, 38.72it/s]"
     ]
    },
    {
     "name": "stdout",
     "output_type": "stream",
     "text": [
      "                   all        281          0          0          0          0          0\n",
      "WARNING ⚠️ no labels found in detect set, can not compute metrics without labels\n"
     ]
    },
    {
     "name": "stderr",
     "output_type": "stream",
     "text": [
      "\n",
      "/home/dsu.local/bshakya/.local/lib/python3.9/site-packages/ultralytics/utils/metrics.py:850: RuntimeWarning: Mean of empty slice.\n",
      "  i = smooth(f1_curve.mean(0), 0.1).argmax()  # max F1 index\n",
      "/home/dsu.local/bshakya/.local/lib/python3.9/site-packages/numpy/core/_methods.py:121: RuntimeWarning: invalid value encountered in divide\n",
      "  ret = um.true_divide(\n"
     ]
    },
    {
     "name": "stdout",
     "output_type": "stream",
     "text": [
      "\n",
      "      Epoch    GPU_mem   box_loss   cls_loss   dfl_loss  Instances       Size\n"
     ]
    },
    {
     "name": "stderr",
     "output_type": "stream",
     "text": [
      "     60/150      7.45G          0      13.55          0          0        512: 100%|██████████| 53/53 [00:04<00:00, 11.22it/s]\n",
      "                 Class     Images  Instances      Box(P          R      mAP50  mAP50-95): 100%|██████████| 9/9 [00:00<00:00, 39.10it/s]"
     ]
    },
    {
     "name": "stdout",
     "output_type": "stream",
     "text": [
      "                   all        281          0          0          0          0          0\n",
      "WARNING ⚠️ no labels found in detect set, can not compute metrics without labels\n"
     ]
    },
    {
     "name": "stderr",
     "output_type": "stream",
     "text": [
      "\n",
      "/home/dsu.local/bshakya/.local/lib/python3.9/site-packages/ultralytics/utils/metrics.py:850: RuntimeWarning: Mean of empty slice.\n",
      "  i = smooth(f1_curve.mean(0), 0.1).argmax()  # max F1 index\n",
      "/home/dsu.local/bshakya/.local/lib/python3.9/site-packages/numpy/core/_methods.py:121: RuntimeWarning: invalid value encountered in divide\n",
      "  ret = um.true_divide(\n"
     ]
    },
    {
     "name": "stdout",
     "output_type": "stream",
     "text": [
      "\n",
      "      Epoch    GPU_mem   box_loss   cls_loss   dfl_loss  Instances       Size\n"
     ]
    },
    {
     "name": "stderr",
     "output_type": "stream",
     "text": [
      "     61/150      7.45G          0       13.2          0          0        576: 100%|██████████| 53/53 [00:05<00:00, 10.25it/s]\n",
      "                 Class     Images  Instances      Box(P          R      mAP50  mAP50-95): 100%|██████████| 9/9 [00:00<00:00, 38.67it/s]"
     ]
    },
    {
     "name": "stdout",
     "output_type": "stream",
     "text": [
      "                   all        281          0          0          0          0          0\n",
      "WARNING ⚠️ no labels found in detect set, can not compute metrics without labels\n"
     ]
    },
    {
     "name": "stderr",
     "output_type": "stream",
     "text": [
      "\n",
      "/home/dsu.local/bshakya/.local/lib/python3.9/site-packages/ultralytics/utils/metrics.py:850: RuntimeWarning: Mean of empty slice.\n",
      "  i = smooth(f1_curve.mean(0), 0.1).argmax()  # max F1 index\n",
      "/home/dsu.local/bshakya/.local/lib/python3.9/site-packages/numpy/core/_methods.py:121: RuntimeWarning: invalid value encountered in divide\n",
      "  ret = um.true_divide(\n"
     ]
    },
    {
     "name": "stdout",
     "output_type": "stream",
     "text": [
      "\n",
      "      Epoch    GPU_mem   box_loss   cls_loss   dfl_loss  Instances       Size\n"
     ]
    },
    {
     "name": "stderr",
     "output_type": "stream",
     "text": [
      "     62/150      7.45G          0      13.16          0          0        448: 100%|██████████| 53/53 [00:04<00:00, 11.10it/s]\n",
      "                 Class     Images  Instances      Box(P          R      mAP50  mAP50-95): 100%|██████████| 9/9 [00:00<00:00, 39.04it/s]"
     ]
    },
    {
     "name": "stdout",
     "output_type": "stream",
     "text": [
      "                   all        281          0          0          0          0          0\n",
      "WARNING ⚠️ no labels found in detect set, can not compute metrics without labels\n"
     ]
    },
    {
     "name": "stderr",
     "output_type": "stream",
     "text": [
      "\n",
      "/home/dsu.local/bshakya/.local/lib/python3.9/site-packages/ultralytics/utils/metrics.py:850: RuntimeWarning: Mean of empty slice.\n",
      "  i = smooth(f1_curve.mean(0), 0.1).argmax()  # max F1 index\n",
      "/home/dsu.local/bshakya/.local/lib/python3.9/site-packages/numpy/core/_methods.py:121: RuntimeWarning: invalid value encountered in divide\n",
      "  ret = um.true_divide(\n"
     ]
    },
    {
     "name": "stdout",
     "output_type": "stream",
     "text": [
      "\n",
      "      Epoch    GPU_mem   box_loss   cls_loss   dfl_loss  Instances       Size\n"
     ]
    },
    {
     "name": "stderr",
     "output_type": "stream",
     "text": [
      "     63/150      7.45G          0      13.62          0          0        576: 100%|██████████| 53/53 [00:04<00:00, 10.67it/s]\n",
      "                 Class     Images  Instances      Box(P          R      mAP50  mAP50-95): 100%|██████████| 9/9 [00:00<00:00, 38.87it/s]"
     ]
    },
    {
     "name": "stdout",
     "output_type": "stream",
     "text": [
      "                   all        281          0          0          0          0          0\n",
      "WARNING ⚠️ no labels found in detect set, can not compute metrics without labels\n"
     ]
    },
    {
     "name": "stderr",
     "output_type": "stream",
     "text": [
      "\n",
      "/home/dsu.local/bshakya/.local/lib/python3.9/site-packages/ultralytics/utils/metrics.py:850: RuntimeWarning: Mean of empty slice.\n",
      "  i = smooth(f1_curve.mean(0), 0.1).argmax()  # max F1 index\n",
      "/home/dsu.local/bshakya/.local/lib/python3.9/site-packages/numpy/core/_methods.py:121: RuntimeWarning: invalid value encountered in divide\n",
      "  ret = um.true_divide(\n"
     ]
    },
    {
     "name": "stdout",
     "output_type": "stream",
     "text": [
      "\n",
      "      Epoch    GPU_mem   box_loss   cls_loss   dfl_loss  Instances       Size\n"
     ]
    },
    {
     "name": "stderr",
     "output_type": "stream",
     "text": [
      "     64/150      7.45G          0      11.78          0          0        416: 100%|██████████| 53/53 [00:04<00:00, 11.14it/s]\n",
      "                 Class     Images  Instances      Box(P          R      mAP50  mAP50-95): 100%|██████████| 9/9 [00:00<00:00, 38.88it/s]"
     ]
    },
    {
     "name": "stdout",
     "output_type": "stream",
     "text": [
      "                   all        281          0          0          0          0          0\n",
      "WARNING ⚠️ no labels found in detect set, can not compute metrics without labels\n"
     ]
    },
    {
     "name": "stderr",
     "output_type": "stream",
     "text": [
      "\n",
      "/home/dsu.local/bshakya/.local/lib/python3.9/site-packages/ultralytics/utils/metrics.py:850: RuntimeWarning: Mean of empty slice.\n",
      "  i = smooth(f1_curve.mean(0), 0.1).argmax()  # max F1 index\n",
      "/home/dsu.local/bshakya/.local/lib/python3.9/site-packages/numpy/core/_methods.py:121: RuntimeWarning: invalid value encountered in divide\n",
      "  ret = um.true_divide(\n"
     ]
    },
    {
     "name": "stdout",
     "output_type": "stream",
     "text": [
      "\n",
      "      Epoch    GPU_mem   box_loss   cls_loss   dfl_loss  Instances       Size\n"
     ]
    },
    {
     "name": "stderr",
     "output_type": "stream",
     "text": [
      "     65/150      7.45G          0      9.725          0          0        576: 100%|██████████| 53/53 [00:04<00:00, 11.41it/s]\n",
      "                 Class     Images  Instances      Box(P          R      mAP50  mAP50-95): 100%|██████████| 9/9 [00:00<00:00, 38.89it/s]"
     ]
    },
    {
     "name": "stdout",
     "output_type": "stream",
     "text": [
      "                   all        281          0          0          0          0          0\n",
      "WARNING ⚠️ no labels found in detect set, can not compute metrics without labels\n"
     ]
    },
    {
     "name": "stderr",
     "output_type": "stream",
     "text": [
      "\n",
      "/home/dsu.local/bshakya/.local/lib/python3.9/site-packages/ultralytics/utils/metrics.py:850: RuntimeWarning: Mean of empty slice.\n",
      "  i = smooth(f1_curve.mean(0), 0.1).argmax()  # max F1 index\n",
      "/home/dsu.local/bshakya/.local/lib/python3.9/site-packages/numpy/core/_methods.py:121: RuntimeWarning: invalid value encountered in divide\n",
      "  ret = um.true_divide(\n"
     ]
    },
    {
     "name": "stdout",
     "output_type": "stream",
     "text": [
      "\n",
      "      Epoch    GPU_mem   box_loss   cls_loss   dfl_loss  Instances       Size\n"
     ]
    },
    {
     "name": "stderr",
     "output_type": "stream",
     "text": [
      "     66/150      7.45G          0      11.99          0          0        544: 100%|██████████| 53/53 [00:04<00:00, 10.99it/s]\n",
      "                 Class     Images  Instances      Box(P          R      mAP50  mAP50-95): 100%|██████████| 9/9 [00:00<00:00, 39.09it/s]"
     ]
    },
    {
     "name": "stdout",
     "output_type": "stream",
     "text": [
      "                   all        281          0          0          0          0          0\n",
      "WARNING ⚠️ no labels found in detect set, can not compute metrics without labels\n"
     ]
    },
    {
     "name": "stderr",
     "output_type": "stream",
     "text": [
      "\n",
      "/home/dsu.local/bshakya/.local/lib/python3.9/site-packages/ultralytics/utils/metrics.py:850: RuntimeWarning: Mean of empty slice.\n",
      "  i = smooth(f1_curve.mean(0), 0.1).argmax()  # max F1 index\n",
      "/home/dsu.local/bshakya/.local/lib/python3.9/site-packages/numpy/core/_methods.py:121: RuntimeWarning: invalid value encountered in divide\n",
      "  ret = um.true_divide(\n"
     ]
    },
    {
     "name": "stdout",
     "output_type": "stream",
     "text": [
      "\n",
      "      Epoch    GPU_mem   box_loss   cls_loss   dfl_loss  Instances       Size\n"
     ]
    },
    {
     "name": "stderr",
     "output_type": "stream",
     "text": [
      "     67/150      7.45G          0      10.43          0          0        704: 100%|██████████| 53/53 [00:04<00:00, 10.72it/s]\n",
      "                 Class     Images  Instances      Box(P          R      mAP50  mAP50-95): 100%|██████████| 9/9 [00:00<00:00, 38.83it/s]"
     ]
    },
    {
     "name": "stdout",
     "output_type": "stream",
     "text": [
      "                   all        281          0          0          0          0          0\n",
      "WARNING ⚠️ no labels found in detect set, can not compute metrics without labels\n"
     ]
    },
    {
     "name": "stderr",
     "output_type": "stream",
     "text": [
      "\n",
      "/home/dsu.local/bshakya/.local/lib/python3.9/site-packages/ultralytics/utils/metrics.py:850: RuntimeWarning: Mean of empty slice.\n",
      "  i = smooth(f1_curve.mean(0), 0.1).argmax()  # max F1 index\n",
      "/home/dsu.local/bshakya/.local/lib/python3.9/site-packages/numpy/core/_methods.py:121: RuntimeWarning: invalid value encountered in divide\n",
      "  ret = um.true_divide(\n"
     ]
    },
    {
     "name": "stdout",
     "output_type": "stream",
     "text": [
      "\n",
      "      Epoch    GPU_mem   box_loss   cls_loss   dfl_loss  Instances       Size\n"
     ]
    },
    {
     "name": "stderr",
     "output_type": "stream",
     "text": [
      "     68/150      7.45G          0      11.31          0          0        480: 100%|██████████| 53/53 [00:04<00:00, 10.90it/s]\n",
      "                 Class     Images  Instances      Box(P          R      mAP50  mAP50-95): 100%|██████████| 9/9 [00:00<00:00, 38.98it/s]"
     ]
    },
    {
     "name": "stdout",
     "output_type": "stream",
     "text": [
      "                   all        281          0          0          0          0          0\n",
      "WARNING ⚠️ no labels found in detect set, can not compute metrics without labels\n"
     ]
    },
    {
     "name": "stderr",
     "output_type": "stream",
     "text": [
      "\n",
      "/home/dsu.local/bshakya/.local/lib/python3.9/site-packages/ultralytics/utils/metrics.py:850: RuntimeWarning: Mean of empty slice.\n",
      "  i = smooth(f1_curve.mean(0), 0.1).argmax()  # max F1 index\n",
      "/home/dsu.local/bshakya/.local/lib/python3.9/site-packages/numpy/core/_methods.py:121: RuntimeWarning: invalid value encountered in divide\n",
      "  ret = um.true_divide(\n"
     ]
    },
    {
     "name": "stdout",
     "output_type": "stream",
     "text": [
      "\n",
      "      Epoch    GPU_mem   box_loss   cls_loss   dfl_loss  Instances       Size\n"
     ]
    },
    {
     "name": "stderr",
     "output_type": "stream",
     "text": [
      "     69/150      7.45G          0      8.732          0          0        448: 100%|██████████| 53/53 [00:04<00:00, 10.87it/s]\n",
      "                 Class     Images  Instances      Box(P          R      mAP50  mAP50-95): 100%|██████████| 9/9 [00:00<00:00, 38.45it/s]"
     ]
    },
    {
     "name": "stdout",
     "output_type": "stream",
     "text": [
      "                   all        281          0          0          0          0          0\n",
      "WARNING ⚠️ no labels found in detect set, can not compute metrics without labels\n"
     ]
    },
    {
     "name": "stderr",
     "output_type": "stream",
     "text": [
      "\n",
      "/home/dsu.local/bshakya/.local/lib/python3.9/site-packages/ultralytics/utils/metrics.py:850: RuntimeWarning: Mean of empty slice.\n",
      "  i = smooth(f1_curve.mean(0), 0.1).argmax()  # max F1 index\n",
      "/home/dsu.local/bshakya/.local/lib/python3.9/site-packages/numpy/core/_methods.py:121: RuntimeWarning: invalid value encountered in divide\n",
      "  ret = um.true_divide(\n"
     ]
    },
    {
     "name": "stdout",
     "output_type": "stream",
     "text": [
      "\n",
      "      Epoch    GPU_mem   box_loss   cls_loss   dfl_loss  Instances       Size\n"
     ]
    },
    {
     "name": "stderr",
     "output_type": "stream",
     "text": [
      "     70/150      7.45G          0      9.702          0          0        928: 100%|██████████| 53/53 [00:04<00:00, 11.71it/s]\n",
      "                 Class     Images  Instances      Box(P          R      mAP50  mAP50-95): 100%|██████████| 9/9 [00:00<00:00, 38.68it/s]"
     ]
    },
    {
     "name": "stdout",
     "output_type": "stream",
     "text": [
      "                   all        281          0          0          0          0          0\n",
      "WARNING ⚠️ no labels found in detect set, can not compute metrics without labels\n"
     ]
    },
    {
     "name": "stderr",
     "output_type": "stream",
     "text": [
      "\n",
      "/home/dsu.local/bshakya/.local/lib/python3.9/site-packages/ultralytics/utils/metrics.py:850: RuntimeWarning: Mean of empty slice.\n",
      "  i = smooth(f1_curve.mean(0), 0.1).argmax()  # max F1 index\n",
      "/home/dsu.local/bshakya/.local/lib/python3.9/site-packages/numpy/core/_methods.py:121: RuntimeWarning: invalid value encountered in divide\n",
      "  ret = um.true_divide(\n"
     ]
    },
    {
     "name": "stdout",
     "output_type": "stream",
     "text": [
      "\n",
      "      Epoch    GPU_mem   box_loss   cls_loss   dfl_loss  Instances       Size\n"
     ]
    },
    {
     "name": "stderr",
     "output_type": "stream",
     "text": [
      "     71/150      7.45G          0      8.472          0          0        352: 100%|██████████| 53/53 [00:04<00:00, 11.14it/s]\n",
      "                 Class     Images  Instances      Box(P          R      mAP50  mAP50-95): 100%|██████████| 9/9 [00:00<00:00, 38.85it/s]"
     ]
    },
    {
     "name": "stdout",
     "output_type": "stream",
     "text": [
      "                   all        281          0          0          0          0          0\n",
      "WARNING ⚠️ no labels found in detect set, can not compute metrics without labels\n"
     ]
    },
    {
     "name": "stderr",
     "output_type": "stream",
     "text": [
      "\n",
      "/home/dsu.local/bshakya/.local/lib/python3.9/site-packages/ultralytics/utils/metrics.py:850: RuntimeWarning: Mean of empty slice.\n",
      "  i = smooth(f1_curve.mean(0), 0.1).argmax()  # max F1 index\n",
      "/home/dsu.local/bshakya/.local/lib/python3.9/site-packages/numpy/core/_methods.py:121: RuntimeWarning: invalid value encountered in divide\n",
      "  ret = um.true_divide(\n"
     ]
    },
    {
     "name": "stdout",
     "output_type": "stream",
     "text": [
      "\n",
      "      Epoch    GPU_mem   box_loss   cls_loss   dfl_loss  Instances       Size\n"
     ]
    },
    {
     "name": "stderr",
     "output_type": "stream",
     "text": [
      "     72/150      7.45G          0      9.375          0          0        640: 100%|██████████| 53/53 [00:04<00:00, 11.38it/s]\n",
      "                 Class     Images  Instances      Box(P          R      mAP50  mAP50-95): 100%|██████████| 9/9 [00:00<00:00, 38.67it/s]"
     ]
    },
    {
     "name": "stdout",
     "output_type": "stream",
     "text": [
      "                   all        281          0          0          0          0          0\n",
      "WARNING ⚠️ no labels found in detect set, can not compute metrics without labels\n"
     ]
    },
    {
     "name": "stderr",
     "output_type": "stream",
     "text": [
      "\n",
      "/home/dsu.local/bshakya/.local/lib/python3.9/site-packages/ultralytics/utils/metrics.py:850: RuntimeWarning: Mean of empty slice.\n",
      "  i = smooth(f1_curve.mean(0), 0.1).argmax()  # max F1 index\n",
      "/home/dsu.local/bshakya/.local/lib/python3.9/site-packages/numpy/core/_methods.py:121: RuntimeWarning: invalid value encountered in divide\n",
      "  ret = um.true_divide(\n"
     ]
    },
    {
     "name": "stdout",
     "output_type": "stream",
     "text": [
      "\n",
      "      Epoch    GPU_mem   box_loss   cls_loss   dfl_loss  Instances       Size\n"
     ]
    },
    {
     "name": "stderr",
     "output_type": "stream",
     "text": [
      "     73/150      7.45G          0      8.869          0          0        576: 100%|██████████| 53/53 [00:04<00:00, 10.73it/s]\n",
      "                 Class     Images  Instances      Box(P          R      mAP50  mAP50-95): 100%|██████████| 9/9 [00:00<00:00, 39.29it/s]"
     ]
    },
    {
     "name": "stdout",
     "output_type": "stream",
     "text": [
      "                   all        281          0          0          0          0          0\n",
      "WARNING ⚠️ no labels found in detect set, can not compute metrics without labels\n"
     ]
    },
    {
     "name": "stderr",
     "output_type": "stream",
     "text": [
      "\n",
      "/home/dsu.local/bshakya/.local/lib/python3.9/site-packages/ultralytics/utils/metrics.py:850: RuntimeWarning: Mean of empty slice.\n",
      "  i = smooth(f1_curve.mean(0), 0.1).argmax()  # max F1 index\n",
      "/home/dsu.local/bshakya/.local/lib/python3.9/site-packages/numpy/core/_methods.py:121: RuntimeWarning: invalid value encountered in divide\n",
      "  ret = um.true_divide(\n"
     ]
    },
    {
     "name": "stdout",
     "output_type": "stream",
     "text": [
      "\n",
      "      Epoch    GPU_mem   box_loss   cls_loss   dfl_loss  Instances       Size\n"
     ]
    },
    {
     "name": "stderr",
     "output_type": "stream",
     "text": [
      "     74/150      7.45G          0      9.371          0          0        448: 100%|██████████| 53/53 [00:05<00:00, 10.52it/s]\n",
      "                 Class     Images  Instances      Box(P          R      mAP50  mAP50-95): 100%|██████████| 9/9 [00:00<00:00, 39.47it/s]"
     ]
    },
    {
     "name": "stdout",
     "output_type": "stream",
     "text": [
      "                   all        281          0          0          0          0          0\n",
      "WARNING ⚠️ no labels found in detect set, can not compute metrics without labels\n"
     ]
    },
    {
     "name": "stderr",
     "output_type": "stream",
     "text": [
      "\n",
      "/home/dsu.local/bshakya/.local/lib/python3.9/site-packages/ultralytics/utils/metrics.py:850: RuntimeWarning: Mean of empty slice.\n",
      "  i = smooth(f1_curve.mean(0), 0.1).argmax()  # max F1 index\n",
      "/home/dsu.local/bshakya/.local/lib/python3.9/site-packages/numpy/core/_methods.py:121: RuntimeWarning: invalid value encountered in divide\n",
      "  ret = um.true_divide(\n"
     ]
    },
    {
     "name": "stdout",
     "output_type": "stream",
     "text": [
      "\n",
      "      Epoch    GPU_mem   box_loss   cls_loss   dfl_loss  Instances       Size\n"
     ]
    },
    {
     "name": "stderr",
     "output_type": "stream",
     "text": [
      "     75/150      7.45G          0      7.926          0          0        896: 100%|██████████| 53/53 [00:04<00:00, 11.54it/s]\n",
      "                 Class     Images  Instances      Box(P          R      mAP50  mAP50-95): 100%|██████████| 9/9 [00:00<00:00, 38.72it/s]"
     ]
    },
    {
     "name": "stdout",
     "output_type": "stream",
     "text": [
      "                   all        281          0          0          0          0          0\n",
      "WARNING ⚠️ no labels found in detect set, can not compute metrics without labels\n"
     ]
    },
    {
     "name": "stderr",
     "output_type": "stream",
     "text": [
      "\n",
      "/home/dsu.local/bshakya/.local/lib/python3.9/site-packages/ultralytics/utils/metrics.py:850: RuntimeWarning: Mean of empty slice.\n",
      "  i = smooth(f1_curve.mean(0), 0.1).argmax()  # max F1 index\n",
      "/home/dsu.local/bshakya/.local/lib/python3.9/site-packages/numpy/core/_methods.py:121: RuntimeWarning: invalid value encountered in divide\n",
      "  ret = um.true_divide(\n"
     ]
    },
    {
     "name": "stdout",
     "output_type": "stream",
     "text": [
      "\n",
      "      Epoch    GPU_mem   box_loss   cls_loss   dfl_loss  Instances       Size\n"
     ]
    },
    {
     "name": "stderr",
     "output_type": "stream",
     "text": [
      "     76/150      7.45G          0      7.422          0          0        704: 100%|██████████| 53/53 [00:04<00:00, 11.85it/s]\n",
      "                 Class     Images  Instances      Box(P          R      mAP50  mAP50-95): 100%|██████████| 9/9 [00:00<00:00, 39.00it/s]"
     ]
    },
    {
     "name": "stdout",
     "output_type": "stream",
     "text": [
      "                   all        281          0          0          0          0          0\n",
      "WARNING ⚠️ no labels found in detect set, can not compute metrics without labels\n"
     ]
    },
    {
     "name": "stderr",
     "output_type": "stream",
     "text": [
      "\n",
      "/home/dsu.local/bshakya/.local/lib/python3.9/site-packages/ultralytics/utils/metrics.py:850: RuntimeWarning: Mean of empty slice.\n",
      "  i = smooth(f1_curve.mean(0), 0.1).argmax()  # max F1 index\n",
      "/home/dsu.local/bshakya/.local/lib/python3.9/site-packages/numpy/core/_methods.py:121: RuntimeWarning: invalid value encountered in divide\n",
      "  ret = um.true_divide(\n"
     ]
    },
    {
     "name": "stdout",
     "output_type": "stream",
     "text": [
      "\n",
      "      Epoch    GPU_mem   box_loss   cls_loss   dfl_loss  Instances       Size\n"
     ]
    },
    {
     "name": "stderr",
     "output_type": "stream",
     "text": [
      "     77/150      7.45G          0      7.286          0          0        576: 100%|██████████| 53/53 [00:04<00:00, 10.83it/s]\n",
      "                 Class     Images  Instances      Box(P          R      mAP50  mAP50-95): 100%|██████████| 9/9 [00:00<00:00, 39.42it/s]"
     ]
    },
    {
     "name": "stdout",
     "output_type": "stream",
     "text": [
      "                   all        281          0          0          0          0          0\n",
      "WARNING ⚠️ no labels found in detect set, can not compute metrics without labels\n"
     ]
    },
    {
     "name": "stderr",
     "output_type": "stream",
     "text": [
      "\n",
      "/home/dsu.local/bshakya/.local/lib/python3.9/site-packages/ultralytics/utils/metrics.py:850: RuntimeWarning: Mean of empty slice.\n",
      "  i = smooth(f1_curve.mean(0), 0.1).argmax()  # max F1 index\n",
      "/home/dsu.local/bshakya/.local/lib/python3.9/site-packages/numpy/core/_methods.py:121: RuntimeWarning: invalid value encountered in divide\n",
      "  ret = um.true_divide(\n"
     ]
    },
    {
     "name": "stdout",
     "output_type": "stream",
     "text": [
      "\n",
      "      Epoch    GPU_mem   box_loss   cls_loss   dfl_loss  Instances       Size\n"
     ]
    },
    {
     "name": "stderr",
     "output_type": "stream",
     "text": [
      "     78/150      7.45G          0      7.356          0          0        416: 100%|██████████| 53/53 [00:04<00:00, 11.12it/s]\n",
      "                 Class     Images  Instances      Box(P          R      mAP50  mAP50-95): 100%|██████████| 9/9 [00:00<00:00, 39.16it/s]"
     ]
    },
    {
     "name": "stdout",
     "output_type": "stream",
     "text": [
      "                   all        281          0          0          0          0          0\n",
      "WARNING ⚠️ no labels found in detect set, can not compute metrics without labels\n"
     ]
    },
    {
     "name": "stderr",
     "output_type": "stream",
     "text": [
      "\n",
      "/home/dsu.local/bshakya/.local/lib/python3.9/site-packages/ultralytics/utils/metrics.py:850: RuntimeWarning: Mean of empty slice.\n",
      "  i = smooth(f1_curve.mean(0), 0.1).argmax()  # max F1 index\n",
      "/home/dsu.local/bshakya/.local/lib/python3.9/site-packages/numpy/core/_methods.py:121: RuntimeWarning: invalid value encountered in divide\n",
      "  ret = um.true_divide(\n"
     ]
    },
    {
     "name": "stdout",
     "output_type": "stream",
     "text": [
      "\n",
      "      Epoch    GPU_mem   box_loss   cls_loss   dfl_loss  Instances       Size\n"
     ]
    },
    {
     "name": "stderr",
     "output_type": "stream",
     "text": [
      "     79/150      7.45G          0      7.154          0          0        320: 100%|██████████| 53/53 [00:05<00:00, 10.60it/s]\n",
      "                 Class     Images  Instances      Box(P          R      mAP50  mAP50-95): 100%|██████████| 9/9 [00:00<00:00, 39.13it/s]"
     ]
    },
    {
     "name": "stdout",
     "output_type": "stream",
     "text": [
      "                   all        281          0          0          0          0          0\n",
      "WARNING ⚠️ no labels found in detect set, can not compute metrics without labels\n"
     ]
    },
    {
     "name": "stderr",
     "output_type": "stream",
     "text": [
      "\n",
      "/home/dsu.local/bshakya/.local/lib/python3.9/site-packages/ultralytics/utils/metrics.py:850: RuntimeWarning: Mean of empty slice.\n",
      "  i = smooth(f1_curve.mean(0), 0.1).argmax()  # max F1 index\n",
      "/home/dsu.local/bshakya/.local/lib/python3.9/site-packages/numpy/core/_methods.py:121: RuntimeWarning: invalid value encountered in divide\n",
      "  ret = um.true_divide(\n"
     ]
    },
    {
     "name": "stdout",
     "output_type": "stream",
     "text": [
      "\n",
      "      Epoch    GPU_mem   box_loss   cls_loss   dfl_loss  Instances       Size\n"
     ]
    },
    {
     "name": "stderr",
     "output_type": "stream",
     "text": [
      "     80/150      7.45G          0       6.99          0          0        736: 100%|██████████| 53/53 [00:04<00:00, 11.82it/s]\n",
      "                 Class     Images  Instances      Box(P          R      mAP50  mAP50-95): 100%|██████████| 9/9 [00:00<00:00, 39.04it/s]"
     ]
    },
    {
     "name": "stdout",
     "output_type": "stream",
     "text": [
      "                   all        281          0          0          0          0          0\n",
      "WARNING ⚠️ no labels found in detect set, can not compute metrics without labels\n"
     ]
    },
    {
     "name": "stderr",
     "output_type": "stream",
     "text": [
      "\n",
      "/home/dsu.local/bshakya/.local/lib/python3.9/site-packages/ultralytics/utils/metrics.py:850: RuntimeWarning: Mean of empty slice.\n",
      "  i = smooth(f1_curve.mean(0), 0.1).argmax()  # max F1 index\n",
      "/home/dsu.local/bshakya/.local/lib/python3.9/site-packages/numpy/core/_methods.py:121: RuntimeWarning: invalid value encountered in divide\n",
      "  ret = um.true_divide(\n"
     ]
    },
    {
     "name": "stdout",
     "output_type": "stream",
     "text": [
      "\n",
      "      Epoch    GPU_mem   box_loss   cls_loss   dfl_loss  Instances       Size\n"
     ]
    },
    {
     "name": "stderr",
     "output_type": "stream",
     "text": [
      "     81/150      7.45G          0      6.167          0          0        736: 100%|██████████| 53/53 [00:04<00:00, 11.38it/s]\n",
      "                 Class     Images  Instances      Box(P          R      mAP50  mAP50-95): 100%|██████████| 9/9 [00:00<00:00, 38.77it/s]"
     ]
    },
    {
     "name": "stdout",
     "output_type": "stream",
     "text": [
      "                   all        281          0          0          0          0          0\n",
      "WARNING ⚠️ no labels found in detect set, can not compute metrics without labels\n"
     ]
    },
    {
     "name": "stderr",
     "output_type": "stream",
     "text": [
      "\n",
      "/home/dsu.local/bshakya/.local/lib/python3.9/site-packages/ultralytics/utils/metrics.py:850: RuntimeWarning: Mean of empty slice.\n",
      "  i = smooth(f1_curve.mean(0), 0.1).argmax()  # max F1 index\n",
      "/home/dsu.local/bshakya/.local/lib/python3.9/site-packages/numpy/core/_methods.py:121: RuntimeWarning: invalid value encountered in divide\n",
      "  ret = um.true_divide(\n"
     ]
    },
    {
     "name": "stdout",
     "output_type": "stream",
     "text": [
      "\n",
      "      Epoch    GPU_mem   box_loss   cls_loss   dfl_loss  Instances       Size\n"
     ]
    },
    {
     "name": "stderr",
     "output_type": "stream",
     "text": [
      "     82/150      7.45G          0        6.5          0          0        736: 100%|██████████| 53/53 [00:05<00:00, 10.52it/s]\n",
      "                 Class     Images  Instances      Box(P          R      mAP50  mAP50-95): 100%|██████████| 9/9 [00:00<00:00, 38.75it/s]"
     ]
    },
    {
     "name": "stdout",
     "output_type": "stream",
     "text": [
      "                   all        281          0          0          0          0          0\n",
      "WARNING ⚠️ no labels found in detect set, can not compute metrics without labels\n"
     ]
    },
    {
     "name": "stderr",
     "output_type": "stream",
     "text": [
      "\n",
      "/home/dsu.local/bshakya/.local/lib/python3.9/site-packages/ultralytics/utils/metrics.py:850: RuntimeWarning: Mean of empty slice.\n",
      "  i = smooth(f1_curve.mean(0), 0.1).argmax()  # max F1 index\n",
      "/home/dsu.local/bshakya/.local/lib/python3.9/site-packages/numpy/core/_methods.py:121: RuntimeWarning: invalid value encountered in divide\n",
      "  ret = um.true_divide(\n"
     ]
    },
    {
     "name": "stdout",
     "output_type": "stream",
     "text": [
      "\n",
      "      Epoch    GPU_mem   box_loss   cls_loss   dfl_loss  Instances       Size\n"
     ]
    },
    {
     "name": "stderr",
     "output_type": "stream",
     "text": [
      "     83/150      7.45G          0      6.431          0          0        480: 100%|██████████| 53/53 [00:04<00:00, 11.86it/s]\n",
      "                 Class     Images  Instances      Box(P          R      mAP50  mAP50-95): 100%|██████████| 9/9 [00:00<00:00, 38.77it/s]"
     ]
    },
    {
     "name": "stdout",
     "output_type": "stream",
     "text": [
      "                   all        281          0          0          0          0          0\n",
      "WARNING ⚠️ no labels found in detect set, can not compute metrics without labels\n"
     ]
    },
    {
     "name": "stderr",
     "output_type": "stream",
     "text": [
      "\n",
      "/home/dsu.local/bshakya/.local/lib/python3.9/site-packages/ultralytics/utils/metrics.py:850: RuntimeWarning: Mean of empty slice.\n",
      "  i = smooth(f1_curve.mean(0), 0.1).argmax()  # max F1 index\n",
      "/home/dsu.local/bshakya/.local/lib/python3.9/site-packages/numpy/core/_methods.py:121: RuntimeWarning: invalid value encountered in divide\n",
      "  ret = um.true_divide(\n"
     ]
    },
    {
     "name": "stdout",
     "output_type": "stream",
     "text": [
      "\n",
      "      Epoch    GPU_mem   box_loss   cls_loss   dfl_loss  Instances       Size\n"
     ]
    },
    {
     "name": "stderr",
     "output_type": "stream",
     "text": [
      "     84/150      7.45G          0      6.133          0          0        896: 100%|██████████| 53/53 [00:04<00:00, 11.42it/s]\n",
      "                 Class     Images  Instances      Box(P          R      mAP50  mAP50-95): 100%|██████████| 9/9 [00:00<00:00, 38.76it/s]"
     ]
    },
    {
     "name": "stdout",
     "output_type": "stream",
     "text": [
      "                   all        281          0          0          0          0          0\n",
      "WARNING ⚠️ no labels found in detect set, can not compute metrics without labels\n"
     ]
    },
    {
     "name": "stderr",
     "output_type": "stream",
     "text": [
      "\n",
      "/home/dsu.local/bshakya/.local/lib/python3.9/site-packages/ultralytics/utils/metrics.py:850: RuntimeWarning: Mean of empty slice.\n",
      "  i = smooth(f1_curve.mean(0), 0.1).argmax()  # max F1 index\n",
      "/home/dsu.local/bshakya/.local/lib/python3.9/site-packages/numpy/core/_methods.py:121: RuntimeWarning: invalid value encountered in divide\n",
      "  ret = um.true_divide(\n"
     ]
    },
    {
     "name": "stdout",
     "output_type": "stream",
     "text": [
      "\n",
      "      Epoch    GPU_mem   box_loss   cls_loss   dfl_loss  Instances       Size\n"
     ]
    },
    {
     "name": "stderr",
     "output_type": "stream",
     "text": [
      "     85/150      7.45G          0      6.144          0          0        480: 100%|██████████| 53/53 [00:04<00:00, 10.62it/s]\n",
      "                 Class     Images  Instances      Box(P          R      mAP50  mAP50-95): 100%|██████████| 9/9 [00:00<00:00, 39.04it/s]"
     ]
    },
    {
     "name": "stdout",
     "output_type": "stream",
     "text": [
      "                   all        281          0          0          0          0          0\n",
      "WARNING ⚠️ no labels found in detect set, can not compute metrics without labels\n"
     ]
    },
    {
     "name": "stderr",
     "output_type": "stream",
     "text": [
      "\n",
      "/home/dsu.local/bshakya/.local/lib/python3.9/site-packages/ultralytics/utils/metrics.py:850: RuntimeWarning: Mean of empty slice.\n",
      "  i = smooth(f1_curve.mean(0), 0.1).argmax()  # max F1 index\n",
      "/home/dsu.local/bshakya/.local/lib/python3.9/site-packages/numpy/core/_methods.py:121: RuntimeWarning: invalid value encountered in divide\n",
      "  ret = um.true_divide(\n"
     ]
    },
    {
     "name": "stdout",
     "output_type": "stream",
     "text": [
      "\n",
      "      Epoch    GPU_mem   box_loss   cls_loss   dfl_loss  Instances       Size\n"
     ]
    },
    {
     "name": "stderr",
     "output_type": "stream",
     "text": [
      "     86/150      7.45G          0      5.762          0          0        704: 100%|██████████| 53/53 [00:04<00:00, 10.68it/s]\n",
      "                 Class     Images  Instances      Box(P          R      mAP50  mAP50-95): 100%|██████████| 9/9 [00:00<00:00, 39.03it/s]"
     ]
    },
    {
     "name": "stdout",
     "output_type": "stream",
     "text": [
      "                   all        281          0          0          0          0          0\n",
      "WARNING ⚠️ no labels found in detect set, can not compute metrics without labels\n"
     ]
    },
    {
     "name": "stderr",
     "output_type": "stream",
     "text": [
      "\n",
      "/home/dsu.local/bshakya/.local/lib/python3.9/site-packages/ultralytics/utils/metrics.py:850: RuntimeWarning: Mean of empty slice.\n",
      "  i = smooth(f1_curve.mean(0), 0.1).argmax()  # max F1 index\n",
      "/home/dsu.local/bshakya/.local/lib/python3.9/site-packages/numpy/core/_methods.py:121: RuntimeWarning: invalid value encountered in divide\n",
      "  ret = um.true_divide(\n"
     ]
    },
    {
     "name": "stdout",
     "output_type": "stream",
     "text": [
      "\n",
      "      Epoch    GPU_mem   box_loss   cls_loss   dfl_loss  Instances       Size\n"
     ]
    },
    {
     "name": "stderr",
     "output_type": "stream",
     "text": [
      "     87/150      7.45G          0      6.229          0          0        512: 100%|██████████| 53/53 [00:04<00:00, 11.12it/s]\n",
      "                 Class     Images  Instances      Box(P          R      mAP50  mAP50-95): 100%|██████████| 9/9 [00:00<00:00, 39.23it/s]"
     ]
    },
    {
     "name": "stdout",
     "output_type": "stream",
     "text": [
      "                   all        281          0          0          0          0          0\n",
      "WARNING ⚠️ no labels found in detect set, can not compute metrics without labels\n"
     ]
    },
    {
     "name": "stderr",
     "output_type": "stream",
     "text": [
      "\n",
      "/home/dsu.local/bshakya/.local/lib/python3.9/site-packages/ultralytics/utils/metrics.py:850: RuntimeWarning: Mean of empty slice.\n",
      "  i = smooth(f1_curve.mean(0), 0.1).argmax()  # max F1 index\n",
      "/home/dsu.local/bshakya/.local/lib/python3.9/site-packages/numpy/core/_methods.py:121: RuntimeWarning: invalid value encountered in divide\n",
      "  ret = um.true_divide(\n"
     ]
    },
    {
     "name": "stdout",
     "output_type": "stream",
     "text": [
      "\n",
      "      Epoch    GPU_mem   box_loss   cls_loss   dfl_loss  Instances       Size\n"
     ]
    },
    {
     "name": "stderr",
     "output_type": "stream",
     "text": [
      "     88/150      7.45G          0      4.908          0          0        384: 100%|██████████| 53/53 [00:04<00:00, 10.68it/s]\n",
      "                 Class     Images  Instances      Box(P          R      mAP50  mAP50-95): 100%|██████████| 9/9 [00:00<00:00, 39.06it/s]"
     ]
    },
    {
     "name": "stdout",
     "output_type": "stream",
     "text": [
      "                   all        281          0          0          0          0          0\n",
      "WARNING ⚠️ no labels found in detect set, can not compute metrics without labels\n"
     ]
    },
    {
     "name": "stderr",
     "output_type": "stream",
     "text": [
      "\n",
      "/home/dsu.local/bshakya/.local/lib/python3.9/site-packages/ultralytics/utils/metrics.py:850: RuntimeWarning: Mean of empty slice.\n",
      "  i = smooth(f1_curve.mean(0), 0.1).argmax()  # max F1 index\n",
      "/home/dsu.local/bshakya/.local/lib/python3.9/site-packages/numpy/core/_methods.py:121: RuntimeWarning: invalid value encountered in divide\n",
      "  ret = um.true_divide(\n"
     ]
    },
    {
     "name": "stdout",
     "output_type": "stream",
     "text": [
      "\n",
      "      Epoch    GPU_mem   box_loss   cls_loss   dfl_loss  Instances       Size\n"
     ]
    },
    {
     "name": "stderr",
     "output_type": "stream",
     "text": [
      "     89/150      7.45G          0      5.862          0          0        960: 100%|██████████| 53/53 [00:04<00:00, 11.83it/s]\n",
      "                 Class     Images  Instances      Box(P          R      mAP50  mAP50-95): 100%|██████████| 9/9 [00:00<00:00, 38.96it/s]"
     ]
    },
    {
     "name": "stdout",
     "output_type": "stream",
     "text": [
      "                   all        281          0          0          0          0          0\n",
      "WARNING ⚠️ no labels found in detect set, can not compute metrics without labels\n"
     ]
    },
    {
     "name": "stderr",
     "output_type": "stream",
     "text": [
      "\n",
      "/home/dsu.local/bshakya/.local/lib/python3.9/site-packages/ultralytics/utils/metrics.py:850: RuntimeWarning: Mean of empty slice.\n",
      "  i = smooth(f1_curve.mean(0), 0.1).argmax()  # max F1 index\n",
      "/home/dsu.local/bshakya/.local/lib/python3.9/site-packages/numpy/core/_methods.py:121: RuntimeWarning: invalid value encountered in divide\n",
      "  ret = um.true_divide(\n"
     ]
    },
    {
     "name": "stdout",
     "output_type": "stream",
     "text": [
      "\n",
      "      Epoch    GPU_mem   box_loss   cls_loss   dfl_loss  Instances       Size\n"
     ]
    },
    {
     "name": "stderr",
     "output_type": "stream",
     "text": [
      "     90/150      7.45G          0      5.471          0          0        768: 100%|██████████| 53/53 [00:04<00:00, 11.04it/s]\n",
      "                 Class     Images  Instances      Box(P          R      mAP50  mAP50-95): 100%|██████████| 9/9 [00:00<00:00, 38.75it/s]"
     ]
    },
    {
     "name": "stdout",
     "output_type": "stream",
     "text": [
      "                   all        281          0          0          0          0          0\n",
      "WARNING ⚠️ no labels found in detect set, can not compute metrics without labels\n"
     ]
    },
    {
     "name": "stderr",
     "output_type": "stream",
     "text": [
      "\n",
      "/home/dsu.local/bshakya/.local/lib/python3.9/site-packages/ultralytics/utils/metrics.py:850: RuntimeWarning: Mean of empty slice.\n",
      "  i = smooth(f1_curve.mean(0), 0.1).argmax()  # max F1 index\n",
      "/home/dsu.local/bshakya/.local/lib/python3.9/site-packages/numpy/core/_methods.py:121: RuntimeWarning: invalid value encountered in divide\n",
      "  ret = um.true_divide(\n"
     ]
    },
    {
     "name": "stdout",
     "output_type": "stream",
     "text": [
      "\n",
      "      Epoch    GPU_mem   box_loss   cls_loss   dfl_loss  Instances       Size\n"
     ]
    },
    {
     "name": "stderr",
     "output_type": "stream",
     "text": [
      "     91/150      7.45G          0      5.516          0          0        704: 100%|██████████| 53/53 [00:04<00:00, 11.52it/s]\n",
      "                 Class     Images  Instances      Box(P          R      mAP50  mAP50-95): 100%|██████████| 9/9 [00:00<00:00, 38.65it/s]"
     ]
    },
    {
     "name": "stdout",
     "output_type": "stream",
     "text": [
      "                   all        281          0          0          0          0          0\n",
      "WARNING ⚠️ no labels found in detect set, can not compute metrics without labels\n"
     ]
    },
    {
     "name": "stderr",
     "output_type": "stream",
     "text": [
      "\n",
      "/home/dsu.local/bshakya/.local/lib/python3.9/site-packages/ultralytics/utils/metrics.py:850: RuntimeWarning: Mean of empty slice.\n",
      "  i = smooth(f1_curve.mean(0), 0.1).argmax()  # max F1 index\n",
      "/home/dsu.local/bshakya/.local/lib/python3.9/site-packages/numpy/core/_methods.py:121: RuntimeWarning: invalid value encountered in divide\n",
      "  ret = um.true_divide(\n"
     ]
    },
    {
     "name": "stdout",
     "output_type": "stream",
     "text": [
      "\n",
      "      Epoch    GPU_mem   box_loss   cls_loss   dfl_loss  Instances       Size\n"
     ]
    },
    {
     "name": "stderr",
     "output_type": "stream",
     "text": [
      "     92/150      7.45G          0      5.534          0          0        512: 100%|██████████| 53/53 [00:04<00:00, 11.17it/s]\n",
      "                 Class     Images  Instances      Box(P          R      mAP50  mAP50-95): 100%|██████████| 9/9 [00:00<00:00, 39.24it/s]"
     ]
    },
    {
     "name": "stdout",
     "output_type": "stream",
     "text": [
      "                   all        281          0          0          0          0          0\n",
      "WARNING ⚠️ no labels found in detect set, can not compute metrics without labels\n"
     ]
    },
    {
     "name": "stderr",
     "output_type": "stream",
     "text": [
      "\n",
      "/home/dsu.local/bshakya/.local/lib/python3.9/site-packages/ultralytics/utils/metrics.py:850: RuntimeWarning: Mean of empty slice.\n",
      "  i = smooth(f1_curve.mean(0), 0.1).argmax()  # max F1 index\n",
      "/home/dsu.local/bshakya/.local/lib/python3.9/site-packages/numpy/core/_methods.py:121: RuntimeWarning: invalid value encountered in divide\n",
      "  ret = um.true_divide(\n"
     ]
    },
    {
     "name": "stdout",
     "output_type": "stream",
     "text": [
      "\n",
      "      Epoch    GPU_mem   box_loss   cls_loss   dfl_loss  Instances       Size\n"
     ]
    },
    {
     "name": "stderr",
     "output_type": "stream",
     "text": [
      "     93/150      7.45G          0      5.187          0          0        608: 100%|██████████| 53/53 [00:04<00:00, 11.48it/s]\n",
      "                 Class     Images  Instances      Box(P          R      mAP50  mAP50-95): 100%|██████████| 9/9 [00:00<00:00, 39.18it/s]"
     ]
    },
    {
     "name": "stdout",
     "output_type": "stream",
     "text": [
      "                   all        281          0          0          0          0          0\n",
      "WARNING ⚠️ no labels found in detect set, can not compute metrics without labels\n"
     ]
    },
    {
     "name": "stderr",
     "output_type": "stream",
     "text": [
      "\n",
      "/home/dsu.local/bshakya/.local/lib/python3.9/site-packages/ultralytics/utils/metrics.py:850: RuntimeWarning: Mean of empty slice.\n",
      "  i = smooth(f1_curve.mean(0), 0.1).argmax()  # max F1 index\n",
      "/home/dsu.local/bshakya/.local/lib/python3.9/site-packages/numpy/core/_methods.py:121: RuntimeWarning: invalid value encountered in divide\n",
      "  ret = um.true_divide(\n"
     ]
    },
    {
     "name": "stdout",
     "output_type": "stream",
     "text": [
      "\n",
      "      Epoch    GPU_mem   box_loss   cls_loss   dfl_loss  Instances       Size\n"
     ]
    },
    {
     "name": "stderr",
     "output_type": "stream",
     "text": [
      "     94/150      7.45G          0      5.097          0          0        960: 100%|██████████| 53/53 [00:04<00:00, 11.20it/s]\n",
      "                 Class     Images  Instances      Box(P          R      mAP50  mAP50-95): 100%|██████████| 9/9 [00:00<00:00, 39.13it/s]"
     ]
    },
    {
     "name": "stdout",
     "output_type": "stream",
     "text": [
      "                   all        281          0          0          0          0          0\n",
      "WARNING ⚠️ no labels found in detect set, can not compute metrics without labels\n"
     ]
    },
    {
     "name": "stderr",
     "output_type": "stream",
     "text": [
      "\n",
      "/home/dsu.local/bshakya/.local/lib/python3.9/site-packages/ultralytics/utils/metrics.py:850: RuntimeWarning: Mean of empty slice.\n",
      "  i = smooth(f1_curve.mean(0), 0.1).argmax()  # max F1 index\n",
      "/home/dsu.local/bshakya/.local/lib/python3.9/site-packages/numpy/core/_methods.py:121: RuntimeWarning: invalid value encountered in divide\n",
      "  ret = um.true_divide(\n"
     ]
    },
    {
     "name": "stdout",
     "output_type": "stream",
     "text": [
      "\n",
      "      Epoch    GPU_mem   box_loss   cls_loss   dfl_loss  Instances       Size\n"
     ]
    },
    {
     "name": "stderr",
     "output_type": "stream",
     "text": [
      "     95/150      7.45G          0      4.534          0          0        896: 100%|██████████| 53/53 [00:04<00:00, 10.84it/s]\n",
      "                 Class     Images  Instances      Box(P          R      mAP50  mAP50-95): 100%|██████████| 9/9 [00:00<00:00, 39.08it/s]"
     ]
    },
    {
     "name": "stdout",
     "output_type": "stream",
     "text": [
      "                   all        281          0          0          0          0          0\n",
      "WARNING ⚠️ no labels found in detect set, can not compute metrics without labels\n"
     ]
    },
    {
     "name": "stderr",
     "output_type": "stream",
     "text": [
      "\n",
      "/home/dsu.local/bshakya/.local/lib/python3.9/site-packages/ultralytics/utils/metrics.py:850: RuntimeWarning: Mean of empty slice.\n",
      "  i = smooth(f1_curve.mean(0), 0.1).argmax()  # max F1 index\n",
      "/home/dsu.local/bshakya/.local/lib/python3.9/site-packages/numpy/core/_methods.py:121: RuntimeWarning: invalid value encountered in divide\n",
      "  ret = um.true_divide(\n"
     ]
    },
    {
     "name": "stdout",
     "output_type": "stream",
     "text": [
      "\n",
      "      Epoch    GPU_mem   box_loss   cls_loss   dfl_loss  Instances       Size\n"
     ]
    },
    {
     "name": "stderr",
     "output_type": "stream",
     "text": [
      "     96/150      7.45G          0      4.447          0          0        896: 100%|██████████| 53/53 [00:04<00:00, 11.89it/s]\n",
      "                 Class     Images  Instances      Box(P          R      mAP50  mAP50-95): 100%|██████████| 9/9 [00:00<00:00, 39.07it/s]"
     ]
    },
    {
     "name": "stdout",
     "output_type": "stream",
     "text": [
      "                   all        281          0          0          0          0          0\n",
      "WARNING ⚠️ no labels found in detect set, can not compute metrics without labels\n"
     ]
    },
    {
     "name": "stderr",
     "output_type": "stream",
     "text": [
      "\n",
      "/home/dsu.local/bshakya/.local/lib/python3.9/site-packages/ultralytics/utils/metrics.py:850: RuntimeWarning: Mean of empty slice.\n",
      "  i = smooth(f1_curve.mean(0), 0.1).argmax()  # max F1 index\n",
      "/home/dsu.local/bshakya/.local/lib/python3.9/site-packages/numpy/core/_methods.py:121: RuntimeWarning: invalid value encountered in divide\n",
      "  ret = um.true_divide(\n"
     ]
    },
    {
     "name": "stdout",
     "output_type": "stream",
     "text": [
      "\n",
      "      Epoch    GPU_mem   box_loss   cls_loss   dfl_loss  Instances       Size\n"
     ]
    },
    {
     "name": "stderr",
     "output_type": "stream",
     "text": [
      "     97/150      7.45G          0      4.705          0          0        480: 100%|██████████| 53/53 [00:04<00:00, 11.56it/s]\n",
      "                 Class     Images  Instances      Box(P          R      mAP50  mAP50-95): 100%|██████████| 9/9 [00:00<00:00, 39.11it/s]"
     ]
    },
    {
     "name": "stdout",
     "output_type": "stream",
     "text": [
      "                   all        281          0          0          0          0          0\n",
      "WARNING ⚠️ no labels found in detect set, can not compute metrics without labels\n"
     ]
    },
    {
     "name": "stderr",
     "output_type": "stream",
     "text": [
      "\n",
      "/home/dsu.local/bshakya/.local/lib/python3.9/site-packages/ultralytics/utils/metrics.py:850: RuntimeWarning: Mean of empty slice.\n",
      "  i = smooth(f1_curve.mean(0), 0.1).argmax()  # max F1 index\n",
      "/home/dsu.local/bshakya/.local/lib/python3.9/site-packages/numpy/core/_methods.py:121: RuntimeWarning: invalid value encountered in divide\n",
      "  ret = um.true_divide(\n"
     ]
    },
    {
     "name": "stdout",
     "output_type": "stream",
     "text": [
      "\n",
      "      Epoch    GPU_mem   box_loss   cls_loss   dfl_loss  Instances       Size\n"
     ]
    },
    {
     "name": "stderr",
     "output_type": "stream",
     "text": [
      "     98/150      7.45G          0      4.598          0          0        608: 100%|██████████| 53/53 [00:04<00:00, 11.11it/s]\n",
      "                 Class     Images  Instances      Box(P          R      mAP50  mAP50-95): 100%|██████████| 9/9 [00:00<00:00, 39.06it/s]"
     ]
    },
    {
     "name": "stdout",
     "output_type": "stream",
     "text": [
      "                   all        281          0          0          0          0          0\n",
      "WARNING ⚠️ no labels found in detect set, can not compute metrics without labels\n"
     ]
    },
    {
     "name": "stderr",
     "output_type": "stream",
     "text": [
      "\n",
      "/home/dsu.local/bshakya/.local/lib/python3.9/site-packages/ultralytics/utils/metrics.py:850: RuntimeWarning: Mean of empty slice.\n",
      "  i = smooth(f1_curve.mean(0), 0.1).argmax()  # max F1 index\n",
      "/home/dsu.local/bshakya/.local/lib/python3.9/site-packages/numpy/core/_methods.py:121: RuntimeWarning: invalid value encountered in divide\n",
      "  ret = um.true_divide(\n"
     ]
    },
    {
     "name": "stdout",
     "output_type": "stream",
     "text": [
      "\n",
      "      Epoch    GPU_mem   box_loss   cls_loss   dfl_loss  Instances       Size\n"
     ]
    },
    {
     "name": "stderr",
     "output_type": "stream",
     "text": [
      "     99/150      7.45G          0      4.681          0          0        928: 100%|██████████| 53/53 [00:04<00:00, 11.05it/s]\n",
      "                 Class     Images  Instances      Box(P          R      mAP50  mAP50-95): 100%|██████████| 9/9 [00:00<00:00, 39.07it/s]"
     ]
    },
    {
     "name": "stdout",
     "output_type": "stream",
     "text": [
      "                   all        281          0          0          0          0          0\n",
      "WARNING ⚠️ no labels found in detect set, can not compute metrics without labels\n"
     ]
    },
    {
     "name": "stderr",
     "output_type": "stream",
     "text": [
      "\n",
      "/home/dsu.local/bshakya/.local/lib/python3.9/site-packages/ultralytics/utils/metrics.py:850: RuntimeWarning: Mean of empty slice.\n",
      "  i = smooth(f1_curve.mean(0), 0.1).argmax()  # max F1 index\n",
      "/home/dsu.local/bshakya/.local/lib/python3.9/site-packages/numpy/core/_methods.py:121: RuntimeWarning: invalid value encountered in divide\n",
      "  ret = um.true_divide(\n"
     ]
    },
    {
     "name": "stdout",
     "output_type": "stream",
     "text": [
      "\n",
      "      Epoch    GPU_mem   box_loss   cls_loss   dfl_loss  Instances       Size\n"
     ]
    },
    {
     "name": "stderr",
     "output_type": "stream",
     "text": [
      "    100/150      7.45G          0       4.06          0          0        928: 100%|██████████| 53/53 [00:04<00:00, 11.17it/s]\n",
      "                 Class     Images  Instances      Box(P          R      mAP50  mAP50-95): 100%|██████████| 9/9 [00:00<00:00, 39.07it/s]"
     ]
    },
    {
     "name": "stdout",
     "output_type": "stream",
     "text": [
      "                   all        281          0          0          0          0          0\n",
      "WARNING ⚠️ no labels found in detect set, can not compute metrics without labels\n"
     ]
    },
    {
     "name": "stderr",
     "output_type": "stream",
     "text": [
      "\n",
      "/home/dsu.local/bshakya/.local/lib/python3.9/site-packages/ultralytics/utils/metrics.py:850: RuntimeWarning: Mean of empty slice.\n",
      "  i = smooth(f1_curve.mean(0), 0.1).argmax()  # max F1 index\n",
      "/home/dsu.local/bshakya/.local/lib/python3.9/site-packages/numpy/core/_methods.py:121: RuntimeWarning: invalid value encountered in divide\n",
      "  ret = um.true_divide(\n"
     ]
    },
    {
     "name": "stdout",
     "output_type": "stream",
     "text": [
      "\n",
      "      Epoch    GPU_mem   box_loss   cls_loss   dfl_loss  Instances       Size\n"
     ]
    },
    {
     "name": "stderr",
     "output_type": "stream",
     "text": [
      "    101/150      7.45G          0      4.648          0          0        960: 100%|██████████| 53/53 [00:04<00:00, 11.38it/s]\n",
      "                 Class     Images  Instances      Box(P          R      mAP50  mAP50-95): 100%|██████████| 9/9 [00:00<00:00, 39.04it/s]"
     ]
    },
    {
     "name": "stdout",
     "output_type": "stream",
     "text": [
      "                   all        281          0          0          0          0          0\n",
      "WARNING ⚠️ no labels found in detect set, can not compute metrics without labels\n"
     ]
    },
    {
     "name": "stderr",
     "output_type": "stream",
     "text": [
      "\n",
      "/home/dsu.local/bshakya/.local/lib/python3.9/site-packages/ultralytics/utils/metrics.py:850: RuntimeWarning: Mean of empty slice.\n",
      "  i = smooth(f1_curve.mean(0), 0.1).argmax()  # max F1 index\n",
      "/home/dsu.local/bshakya/.local/lib/python3.9/site-packages/numpy/core/_methods.py:121: RuntimeWarning: invalid value encountered in divide\n",
      "  ret = um.true_divide(\n"
     ]
    },
    {
     "name": "stdout",
     "output_type": "stream",
     "text": [
      "\n",
      "      Epoch    GPU_mem   box_loss   cls_loss   dfl_loss  Instances       Size\n"
     ]
    },
    {
     "name": "stderr",
     "output_type": "stream",
     "text": [
      "    102/150      7.45G          0      4.161          0          0        416: 100%|██████████| 53/53 [00:04<00:00, 10.77it/s]\n",
      "                 Class     Images  Instances      Box(P          R      mAP50  mAP50-95): 100%|██████████| 9/9 [00:00<00:00, 38.92it/s]"
     ]
    },
    {
     "name": "stdout",
     "output_type": "stream",
     "text": [
      "                   all        281          0          0          0          0          0\n",
      "WARNING ⚠️ no labels found in detect set, can not compute metrics without labels\n"
     ]
    },
    {
     "name": "stderr",
     "output_type": "stream",
     "text": [
      "\n",
      "/home/dsu.local/bshakya/.local/lib/python3.9/site-packages/ultralytics/utils/metrics.py:850: RuntimeWarning: Mean of empty slice.\n",
      "  i = smooth(f1_curve.mean(0), 0.1).argmax()  # max F1 index\n",
      "/home/dsu.local/bshakya/.local/lib/python3.9/site-packages/numpy/core/_methods.py:121: RuntimeWarning: invalid value encountered in divide\n",
      "  ret = um.true_divide(\n"
     ]
    },
    {
     "name": "stdout",
     "output_type": "stream",
     "text": [
      "\n",
      "      Epoch    GPU_mem   box_loss   cls_loss   dfl_loss  Instances       Size\n"
     ]
    },
    {
     "name": "stderr",
     "output_type": "stream",
     "text": [
      "    103/150      7.45G          0       4.32          0          0        800: 100%|██████████| 53/53 [00:05<00:00, 10.41it/s]\n",
      "                 Class     Images  Instances      Box(P          R      mAP50  mAP50-95): 100%|██████████| 9/9 [00:00<00:00, 39.31it/s]"
     ]
    },
    {
     "name": "stdout",
     "output_type": "stream",
     "text": [
      "                   all        281          0          0          0          0          0\n",
      "WARNING ⚠️ no labels found in detect set, can not compute metrics without labels\n"
     ]
    },
    {
     "name": "stderr",
     "output_type": "stream",
     "text": [
      "\n",
      "/home/dsu.local/bshakya/.local/lib/python3.9/site-packages/ultralytics/utils/metrics.py:850: RuntimeWarning: Mean of empty slice.\n",
      "  i = smooth(f1_curve.mean(0), 0.1).argmax()  # max F1 index\n",
      "/home/dsu.local/bshakya/.local/lib/python3.9/site-packages/numpy/core/_methods.py:121: RuntimeWarning: invalid value encountered in divide\n",
      "  ret = um.true_divide(\n"
     ]
    },
    {
     "name": "stdout",
     "output_type": "stream",
     "text": [
      "\n",
      "      Epoch    GPU_mem   box_loss   cls_loss   dfl_loss  Instances       Size\n"
     ]
    },
    {
     "name": "stderr",
     "output_type": "stream",
     "text": [
      "    104/150      7.45G          0      4.346          0          0        864: 100%|██████████| 53/53 [00:04<00:00, 10.85it/s]\n",
      "                 Class     Images  Instances      Box(P          R      mAP50  mAP50-95): 100%|██████████| 9/9 [00:00<00:00, 38.65it/s]"
     ]
    },
    {
     "name": "stdout",
     "output_type": "stream",
     "text": [
      "                   all        281          0          0          0          0          0\n",
      "WARNING ⚠️ no labels found in detect set, can not compute metrics without labels\n"
     ]
    },
    {
     "name": "stderr",
     "output_type": "stream",
     "text": [
      "\n",
      "/home/dsu.local/bshakya/.local/lib/python3.9/site-packages/ultralytics/utils/metrics.py:850: RuntimeWarning: Mean of empty slice.\n",
      "  i = smooth(f1_curve.mean(0), 0.1).argmax()  # max F1 index\n",
      "/home/dsu.local/bshakya/.local/lib/python3.9/site-packages/numpy/core/_methods.py:121: RuntimeWarning: invalid value encountered in divide\n",
      "  ret = um.true_divide(\n"
     ]
    },
    {
     "name": "stdout",
     "output_type": "stream",
     "text": [
      "\n",
      "      Epoch    GPU_mem   box_loss   cls_loss   dfl_loss  Instances       Size\n"
     ]
    },
    {
     "name": "stderr",
     "output_type": "stream",
     "text": [
      "    105/150      7.45G          0      4.027          0          0        768: 100%|██████████| 53/53 [00:04<00:00, 10.73it/s]\n",
      "                 Class     Images  Instances      Box(P          R      mAP50  mAP50-95): 100%|██████████| 9/9 [00:00<00:00, 39.30it/s]"
     ]
    },
    {
     "name": "stdout",
     "output_type": "stream",
     "text": [
      "                   all        281          0          0          0          0          0\n",
      "WARNING ⚠️ no labels found in detect set, can not compute metrics without labels\n"
     ]
    },
    {
     "name": "stderr",
     "output_type": "stream",
     "text": [
      "\n",
      "/home/dsu.local/bshakya/.local/lib/python3.9/site-packages/ultralytics/utils/metrics.py:850: RuntimeWarning: Mean of empty slice.\n",
      "  i = smooth(f1_curve.mean(0), 0.1).argmax()  # max F1 index\n",
      "/home/dsu.local/bshakya/.local/lib/python3.9/site-packages/numpy/core/_methods.py:121: RuntimeWarning: invalid value encountered in divide\n",
      "  ret = um.true_divide(\n"
     ]
    },
    {
     "name": "stdout",
     "output_type": "stream",
     "text": [
      "\n",
      "      Epoch    GPU_mem   box_loss   cls_loss   dfl_loss  Instances       Size\n"
     ]
    },
    {
     "name": "stderr",
     "output_type": "stream",
     "text": [
      "    106/150      7.45G          0       4.08          0          0        704: 100%|██████████| 53/53 [00:04<00:00, 10.61it/s]\n",
      "                 Class     Images  Instances      Box(P          R      mAP50  mAP50-95): 100%|██████████| 9/9 [00:00<00:00, 39.36it/s]"
     ]
    },
    {
     "name": "stdout",
     "output_type": "stream",
     "text": [
      "                   all        281          0          0          0          0          0\n",
      "WARNING ⚠️ no labels found in detect set, can not compute metrics without labels\n"
     ]
    },
    {
     "name": "stderr",
     "output_type": "stream",
     "text": [
      "\n",
      "/home/dsu.local/bshakya/.local/lib/python3.9/site-packages/ultralytics/utils/metrics.py:850: RuntimeWarning: Mean of empty slice.\n",
      "  i = smooth(f1_curve.mean(0), 0.1).argmax()  # max F1 index\n",
      "/home/dsu.local/bshakya/.local/lib/python3.9/site-packages/numpy/core/_methods.py:121: RuntimeWarning: invalid value encountered in divide\n",
      "  ret = um.true_divide(\n"
     ]
    },
    {
     "name": "stdout",
     "output_type": "stream",
     "text": [
      "\n",
      "      Epoch    GPU_mem   box_loss   cls_loss   dfl_loss  Instances       Size\n"
     ]
    },
    {
     "name": "stderr",
     "output_type": "stream",
     "text": [
      "    107/150      7.45G          0      3.797          0          0        480: 100%|██████████| 53/53 [00:04<00:00, 12.19it/s]\n",
      "                 Class     Images  Instances      Box(P          R      mAP50  mAP50-95): 100%|██████████| 9/9 [00:00<00:00, 39.18it/s]"
     ]
    },
    {
     "name": "stdout",
     "output_type": "stream",
     "text": [
      "                   all        281          0          0          0          0          0\n",
      "WARNING ⚠️ no labels found in detect set, can not compute metrics without labels\n"
     ]
    },
    {
     "name": "stderr",
     "output_type": "stream",
     "text": [
      "\n",
      "/home/dsu.local/bshakya/.local/lib/python3.9/site-packages/ultralytics/utils/metrics.py:850: RuntimeWarning: Mean of empty slice.\n",
      "  i = smooth(f1_curve.mean(0), 0.1).argmax()  # max F1 index\n",
      "/home/dsu.local/bshakya/.local/lib/python3.9/site-packages/numpy/core/_methods.py:121: RuntimeWarning: invalid value encountered in divide\n",
      "  ret = um.true_divide(\n"
     ]
    },
    {
     "name": "stdout",
     "output_type": "stream",
     "text": [
      "\n",
      "      Epoch    GPU_mem   box_loss   cls_loss   dfl_loss  Instances       Size\n"
     ]
    },
    {
     "name": "stderr",
     "output_type": "stream",
     "text": [
      "    108/150      7.45G          0      3.996          0          0        736: 100%|██████████| 53/53 [00:04<00:00, 10.71it/s]\n",
      "                 Class     Images  Instances      Box(P          R      mAP50  mAP50-95): 100%|██████████| 9/9 [00:00<00:00, 38.89it/s]"
     ]
    },
    {
     "name": "stdout",
     "output_type": "stream",
     "text": [
      "                   all        281          0          0          0          0          0\n",
      "WARNING ⚠️ no labels found in detect set, can not compute metrics without labels\n"
     ]
    },
    {
     "name": "stderr",
     "output_type": "stream",
     "text": [
      "\n",
      "/home/dsu.local/bshakya/.local/lib/python3.9/site-packages/ultralytics/utils/metrics.py:850: RuntimeWarning: Mean of empty slice.\n",
      "  i = smooth(f1_curve.mean(0), 0.1).argmax()  # max F1 index\n",
      "/home/dsu.local/bshakya/.local/lib/python3.9/site-packages/numpy/core/_methods.py:121: RuntimeWarning: invalid value encountered in divide\n",
      "  ret = um.true_divide(\n"
     ]
    },
    {
     "name": "stdout",
     "output_type": "stream",
     "text": [
      "\n",
      "      Epoch    GPU_mem   box_loss   cls_loss   dfl_loss  Instances       Size\n"
     ]
    },
    {
     "name": "stderr",
     "output_type": "stream",
     "text": [
      "    109/150      7.45G          0      3.988          0          0        480: 100%|██████████| 53/53 [00:04<00:00, 10.77it/s]\n",
      "                 Class     Images  Instances      Box(P          R      mAP50  mAP50-95): 100%|██████████| 9/9 [00:00<00:00, 38.80it/s]"
     ]
    },
    {
     "name": "stdout",
     "output_type": "stream",
     "text": [
      "                   all        281          0          0          0          0          0\n",
      "WARNING ⚠️ no labels found in detect set, can not compute metrics without labels\n"
     ]
    },
    {
     "name": "stderr",
     "output_type": "stream",
     "text": [
      "\n",
      "/home/dsu.local/bshakya/.local/lib/python3.9/site-packages/ultralytics/utils/metrics.py:850: RuntimeWarning: Mean of empty slice.\n",
      "  i = smooth(f1_curve.mean(0), 0.1).argmax()  # max F1 index\n",
      "/home/dsu.local/bshakya/.local/lib/python3.9/site-packages/numpy/core/_methods.py:121: RuntimeWarning: invalid value encountered in divide\n",
      "  ret = um.true_divide(\n"
     ]
    },
    {
     "name": "stdout",
     "output_type": "stream",
     "text": [
      "\n",
      "      Epoch    GPU_mem   box_loss   cls_loss   dfl_loss  Instances       Size\n"
     ]
    },
    {
     "name": "stderr",
     "output_type": "stream",
     "text": [
      "    110/150      7.45G          0      3.876          0          0        416: 100%|██████████| 53/53 [00:04<00:00, 11.28it/s]\n",
      "                 Class     Images  Instances      Box(P          R      mAP50  mAP50-95): 100%|██████████| 9/9 [00:00<00:00, 38.72it/s]"
     ]
    },
    {
     "name": "stdout",
     "output_type": "stream",
     "text": [
      "                   all        281          0          0          0          0          0\n",
      "WARNING ⚠️ no labels found in detect set, can not compute metrics without labels\n"
     ]
    },
    {
     "name": "stderr",
     "output_type": "stream",
     "text": [
      "\n",
      "/home/dsu.local/bshakya/.local/lib/python3.9/site-packages/ultralytics/utils/metrics.py:850: RuntimeWarning: Mean of empty slice.\n",
      "  i = smooth(f1_curve.mean(0), 0.1).argmax()  # max F1 index\n",
      "/home/dsu.local/bshakya/.local/lib/python3.9/site-packages/numpy/core/_methods.py:121: RuntimeWarning: invalid value encountered in divide\n",
      "  ret = um.true_divide(\n"
     ]
    },
    {
     "name": "stdout",
     "output_type": "stream",
     "text": [
      "\n",
      "      Epoch    GPU_mem   box_loss   cls_loss   dfl_loss  Instances       Size\n"
     ]
    },
    {
     "name": "stderr",
     "output_type": "stream",
     "text": [
      "    111/150      7.45G          0      3.761          0          0        928: 100%|██████████| 53/53 [00:04<00:00, 10.82it/s]\n",
      "                 Class     Images  Instances      Box(P          R      mAP50  mAP50-95): 100%|██████████| 9/9 [00:00<00:00, 39.18it/s]"
     ]
    },
    {
     "name": "stdout",
     "output_type": "stream",
     "text": [
      "                   all        281          0          0          0          0          0\n",
      "WARNING ⚠️ no labels found in detect set, can not compute metrics without labels\n"
     ]
    },
    {
     "name": "stderr",
     "output_type": "stream",
     "text": [
      "\n",
      "/home/dsu.local/bshakya/.local/lib/python3.9/site-packages/ultralytics/utils/metrics.py:850: RuntimeWarning: Mean of empty slice.\n",
      "  i = smooth(f1_curve.mean(0), 0.1).argmax()  # max F1 index\n",
      "/home/dsu.local/bshakya/.local/lib/python3.9/site-packages/numpy/core/_methods.py:121: RuntimeWarning: invalid value encountered in divide\n",
      "  ret = um.true_divide(\n"
     ]
    },
    {
     "name": "stdout",
     "output_type": "stream",
     "text": [
      "\n",
      "      Epoch    GPU_mem   box_loss   cls_loss   dfl_loss  Instances       Size\n"
     ]
    },
    {
     "name": "stderr",
     "output_type": "stream",
     "text": [
      "    112/150      7.45G          0      3.862          0          0        736: 100%|██████████| 53/53 [00:04<00:00, 11.30it/s]\n",
      "                 Class     Images  Instances      Box(P          R      mAP50  mAP50-95): 100%|██████████| 9/9 [00:00<00:00, 39.10it/s]"
     ]
    },
    {
     "name": "stdout",
     "output_type": "stream",
     "text": [
      "                   all        281          0          0          0          0          0\n",
      "WARNING ⚠️ no labels found in detect set, can not compute metrics without labels\n"
     ]
    },
    {
     "name": "stderr",
     "output_type": "stream",
     "text": [
      "\n",
      "/home/dsu.local/bshakya/.local/lib/python3.9/site-packages/ultralytics/utils/metrics.py:850: RuntimeWarning: Mean of empty slice.\n",
      "  i = smooth(f1_curve.mean(0), 0.1).argmax()  # max F1 index\n",
      "/home/dsu.local/bshakya/.local/lib/python3.9/site-packages/numpy/core/_methods.py:121: RuntimeWarning: invalid value encountered in divide\n",
      "  ret = um.true_divide(\n"
     ]
    },
    {
     "name": "stdout",
     "output_type": "stream",
     "text": [
      "\n",
      "      Epoch    GPU_mem   box_loss   cls_loss   dfl_loss  Instances       Size\n"
     ]
    },
    {
     "name": "stderr",
     "output_type": "stream",
     "text": [
      "    113/150      7.45G          0      4.294          0          0        352: 100%|██████████| 53/53 [00:05<00:00, 10.52it/s]\n",
      "                 Class     Images  Instances      Box(P          R      mAP50  mAP50-95): 100%|██████████| 9/9 [00:00<00:00, 38.87it/s]"
     ]
    },
    {
     "name": "stdout",
     "output_type": "stream",
     "text": [
      "                   all        281          0          0          0          0          0\n",
      "WARNING ⚠️ no labels found in detect set, can not compute metrics without labels\n"
     ]
    },
    {
     "name": "stderr",
     "output_type": "stream",
     "text": [
      "\n",
      "/home/dsu.local/bshakya/.local/lib/python3.9/site-packages/ultralytics/utils/metrics.py:850: RuntimeWarning: Mean of empty slice.\n",
      "  i = smooth(f1_curve.mean(0), 0.1).argmax()  # max F1 index\n",
      "/home/dsu.local/bshakya/.local/lib/python3.9/site-packages/numpy/core/_methods.py:121: RuntimeWarning: invalid value encountered in divide\n",
      "  ret = um.true_divide(\n"
     ]
    },
    {
     "name": "stdout",
     "output_type": "stream",
     "text": [
      "\n",
      "      Epoch    GPU_mem   box_loss   cls_loss   dfl_loss  Instances       Size\n"
     ]
    },
    {
     "name": "stderr",
     "output_type": "stream",
     "text": [
      "    114/150      7.45G          0      3.242          0          0        640: 100%|██████████| 53/53 [00:04<00:00, 11.13it/s]\n",
      "                 Class     Images  Instances      Box(P          R      mAP50  mAP50-95): 100%|██████████| 9/9 [00:00<00:00, 38.44it/s]"
     ]
    },
    {
     "name": "stdout",
     "output_type": "stream",
     "text": [
      "                   all        281          0          0          0          0          0\n",
      "WARNING ⚠️ no labels found in detect set, can not compute metrics without labels\n"
     ]
    },
    {
     "name": "stderr",
     "output_type": "stream",
     "text": [
      "\n",
      "/home/dsu.local/bshakya/.local/lib/python3.9/site-packages/ultralytics/utils/metrics.py:850: RuntimeWarning: Mean of empty slice.\n",
      "  i = smooth(f1_curve.mean(0), 0.1).argmax()  # max F1 index\n",
      "/home/dsu.local/bshakya/.local/lib/python3.9/site-packages/numpy/core/_methods.py:121: RuntimeWarning: invalid value encountered in divide\n",
      "  ret = um.true_divide(\n"
     ]
    },
    {
     "name": "stdout",
     "output_type": "stream",
     "text": [
      "\n",
      "      Epoch    GPU_mem   box_loss   cls_loss   dfl_loss  Instances       Size\n"
     ]
    },
    {
     "name": "stderr",
     "output_type": "stream",
     "text": [
      "    115/150      7.45G          0      3.645          0          0        352: 100%|██████████| 53/53 [00:04<00:00, 11.45it/s]\n",
      "                 Class     Images  Instances      Box(P          R      mAP50  mAP50-95): 100%|██████████| 9/9 [00:00<00:00, 39.42it/s]"
     ]
    },
    {
     "name": "stdout",
     "output_type": "stream",
     "text": [
      "                   all        281          0          0          0          0          0\n",
      "WARNING ⚠️ no labels found in detect set, can not compute metrics without labels\n"
     ]
    },
    {
     "name": "stderr",
     "output_type": "stream",
     "text": [
      "\n",
      "/home/dsu.local/bshakya/.local/lib/python3.9/site-packages/ultralytics/utils/metrics.py:850: RuntimeWarning: Mean of empty slice.\n",
      "  i = smooth(f1_curve.mean(0), 0.1).argmax()  # max F1 index\n",
      "/home/dsu.local/bshakya/.local/lib/python3.9/site-packages/numpy/core/_methods.py:121: RuntimeWarning: invalid value encountered in divide\n",
      "  ret = um.true_divide(\n"
     ]
    },
    {
     "name": "stdout",
     "output_type": "stream",
     "text": [
      "\n",
      "      Epoch    GPU_mem   box_loss   cls_loss   dfl_loss  Instances       Size\n"
     ]
    },
    {
     "name": "stderr",
     "output_type": "stream",
     "text": [
      "    116/150      7.45G          0      3.536          0          0        416: 100%|██████████| 53/53 [00:04<00:00, 10.64it/s]\n",
      "                 Class     Images  Instances      Box(P          R      mAP50  mAP50-95): 100%|██████████| 9/9 [00:00<00:00, 39.35it/s]"
     ]
    },
    {
     "name": "stdout",
     "output_type": "stream",
     "text": [
      "                   all        281          0          0          0          0          0\n",
      "WARNING ⚠️ no labels found in detect set, can not compute metrics without labels\n"
     ]
    },
    {
     "name": "stderr",
     "output_type": "stream",
     "text": [
      "\n",
      "/home/dsu.local/bshakya/.local/lib/python3.9/site-packages/ultralytics/utils/metrics.py:850: RuntimeWarning: Mean of empty slice.\n",
      "  i = smooth(f1_curve.mean(0), 0.1).argmax()  # max F1 index\n",
      "/home/dsu.local/bshakya/.local/lib/python3.9/site-packages/numpy/core/_methods.py:121: RuntimeWarning: invalid value encountered in divide\n",
      "  ret = um.true_divide(\n"
     ]
    },
    {
     "name": "stdout",
     "output_type": "stream",
     "text": [
      "\n",
      "      Epoch    GPU_mem   box_loss   cls_loss   dfl_loss  Instances       Size\n"
     ]
    },
    {
     "name": "stderr",
     "output_type": "stream",
     "text": [
      "    117/150      7.45G          0      3.601          0          0        768: 100%|██████████| 53/53 [00:04<00:00, 11.53it/s]\n",
      "                 Class     Images  Instances      Box(P          R      mAP50  mAP50-95): 100%|██████████| 9/9 [00:00<00:00, 39.01it/s]"
     ]
    },
    {
     "name": "stdout",
     "output_type": "stream",
     "text": [
      "                   all        281          0          0          0          0          0\n",
      "WARNING ⚠️ no labels found in detect set, can not compute metrics without labels\n"
     ]
    },
    {
     "name": "stderr",
     "output_type": "stream",
     "text": [
      "\n",
      "/home/dsu.local/bshakya/.local/lib/python3.9/site-packages/ultralytics/utils/metrics.py:850: RuntimeWarning: Mean of empty slice.\n",
      "  i = smooth(f1_curve.mean(0), 0.1).argmax()  # max F1 index\n",
      "/home/dsu.local/bshakya/.local/lib/python3.9/site-packages/numpy/core/_methods.py:121: RuntimeWarning: invalid value encountered in divide\n",
      "  ret = um.true_divide(\n"
     ]
    },
    {
     "name": "stdout",
     "output_type": "stream",
     "text": [
      "\n",
      "      Epoch    GPU_mem   box_loss   cls_loss   dfl_loss  Instances       Size\n"
     ]
    },
    {
     "name": "stderr",
     "output_type": "stream",
     "text": [
      "    118/150      7.45G          0      3.446          0          0        448: 100%|██████████| 53/53 [00:05<00:00, 10.20it/s]\n",
      "                 Class     Images  Instances      Box(P          R      mAP50  mAP50-95): 100%|██████████| 9/9 [00:00<00:00, 38.85it/s]"
     ]
    },
    {
     "name": "stdout",
     "output_type": "stream",
     "text": [
      "                   all        281          0          0          0          0          0\n",
      "WARNING ⚠️ no labels found in detect set, can not compute metrics without labels\n"
     ]
    },
    {
     "name": "stderr",
     "output_type": "stream",
     "text": [
      "\n",
      "/home/dsu.local/bshakya/.local/lib/python3.9/site-packages/ultralytics/utils/metrics.py:850: RuntimeWarning: Mean of empty slice.\n",
      "  i = smooth(f1_curve.mean(0), 0.1).argmax()  # max F1 index\n",
      "/home/dsu.local/bshakya/.local/lib/python3.9/site-packages/numpy/core/_methods.py:121: RuntimeWarning: invalid value encountered in divide\n",
      "  ret = um.true_divide(\n"
     ]
    },
    {
     "name": "stdout",
     "output_type": "stream",
     "text": [
      "\n",
      "      Epoch    GPU_mem   box_loss   cls_loss   dfl_loss  Instances       Size\n"
     ]
    },
    {
     "name": "stderr",
     "output_type": "stream",
     "text": [
      "    119/150      7.45G          0      3.918          0          0        960: 100%|██████████| 53/53 [00:04<00:00, 11.38it/s]\n",
      "                 Class     Images  Instances      Box(P          R      mAP50  mAP50-95): 100%|██████████| 9/9 [00:00<00:00, 39.20it/s]"
     ]
    },
    {
     "name": "stdout",
     "output_type": "stream",
     "text": [
      "                   all        281          0          0          0          0          0\n",
      "WARNING ⚠️ no labels found in detect set, can not compute metrics without labels\n"
     ]
    },
    {
     "name": "stderr",
     "output_type": "stream",
     "text": [
      "\n",
      "/home/dsu.local/bshakya/.local/lib/python3.9/site-packages/ultralytics/utils/metrics.py:850: RuntimeWarning: Mean of empty slice.\n",
      "  i = smooth(f1_curve.mean(0), 0.1).argmax()  # max F1 index\n",
      "/home/dsu.local/bshakya/.local/lib/python3.9/site-packages/numpy/core/_methods.py:121: RuntimeWarning: invalid value encountered in divide\n",
      "  ret = um.true_divide(\n"
     ]
    },
    {
     "name": "stdout",
     "output_type": "stream",
     "text": [
      "\n",
      "      Epoch    GPU_mem   box_loss   cls_loss   dfl_loss  Instances       Size\n"
     ]
    },
    {
     "name": "stderr",
     "output_type": "stream",
     "text": [
      "    120/150      7.45G          0      3.865          0          0        704: 100%|██████████| 53/53 [00:04<00:00, 11.19it/s]\n",
      "                 Class     Images  Instances      Box(P          R      mAP50  mAP50-95): 100%|██████████| 9/9 [00:00<00:00, 38.68it/s]"
     ]
    },
    {
     "name": "stdout",
     "output_type": "stream",
     "text": [
      "                   all        281          0          0          0          0          0\n",
      "WARNING ⚠️ no labels found in detect set, can not compute metrics without labels\n"
     ]
    },
    {
     "name": "stderr",
     "output_type": "stream",
     "text": [
      "\n",
      "/home/dsu.local/bshakya/.local/lib/python3.9/site-packages/ultralytics/utils/metrics.py:850: RuntimeWarning: Mean of empty slice.\n",
      "  i = smooth(f1_curve.mean(0), 0.1).argmax()  # max F1 index\n",
      "/home/dsu.local/bshakya/.local/lib/python3.9/site-packages/numpy/core/_methods.py:121: RuntimeWarning: invalid value encountered in divide\n",
      "  ret = um.true_divide(\n"
     ]
    },
    {
     "name": "stdout",
     "output_type": "stream",
     "text": [
      "\n",
      "      Epoch    GPU_mem   box_loss   cls_loss   dfl_loss  Instances       Size\n"
     ]
    },
    {
     "name": "stderr",
     "output_type": "stream",
     "text": [
      "    121/150      7.45G          0        3.5          0          0        768: 100%|██████████| 53/53 [00:05<00:00, 10.23it/s]\n",
      "                 Class     Images  Instances      Box(P          R      mAP50  mAP50-95): 100%|██████████| 9/9 [00:00<00:00, 38.68it/s]"
     ]
    },
    {
     "name": "stdout",
     "output_type": "stream",
     "text": [
      "                   all        281          0          0          0          0          0\n",
      "WARNING ⚠️ no labels found in detect set, can not compute metrics without labels\n"
     ]
    },
    {
     "name": "stderr",
     "output_type": "stream",
     "text": [
      "\n",
      "/home/dsu.local/bshakya/.local/lib/python3.9/site-packages/ultralytics/utils/metrics.py:850: RuntimeWarning: Mean of empty slice.\n",
      "  i = smooth(f1_curve.mean(0), 0.1).argmax()  # max F1 index\n",
      "/home/dsu.local/bshakya/.local/lib/python3.9/site-packages/numpy/core/_methods.py:121: RuntimeWarning: invalid value encountered in divide\n",
      "  ret = um.true_divide(\n"
     ]
    },
    {
     "name": "stdout",
     "output_type": "stream",
     "text": [
      "\n",
      "      Epoch    GPU_mem   box_loss   cls_loss   dfl_loss  Instances       Size\n"
     ]
    },
    {
     "name": "stderr",
     "output_type": "stream",
     "text": [
      "    122/150      7.45G          0      4.055          0          0        768: 100%|██████████| 53/53 [00:04<00:00, 10.75it/s]\n",
      "                 Class     Images  Instances      Box(P          R      mAP50  mAP50-95): 100%|██████████| 9/9 [00:00<00:00, 39.12it/s]"
     ]
    },
    {
     "name": "stdout",
     "output_type": "stream",
     "text": [
      "                   all        281          0          0          0          0          0\n",
      "WARNING ⚠️ no labels found in detect set, can not compute metrics without labels\n"
     ]
    },
    {
     "name": "stderr",
     "output_type": "stream",
     "text": [
      "\n",
      "/home/dsu.local/bshakya/.local/lib/python3.9/site-packages/ultralytics/utils/metrics.py:850: RuntimeWarning: Mean of empty slice.\n",
      "  i = smooth(f1_curve.mean(0), 0.1).argmax()  # max F1 index\n",
      "/home/dsu.local/bshakya/.local/lib/python3.9/site-packages/numpy/core/_methods.py:121: RuntimeWarning: invalid value encountered in divide\n",
      "  ret = um.true_divide(\n"
     ]
    },
    {
     "name": "stdout",
     "output_type": "stream",
     "text": [
      "\n",
      "      Epoch    GPU_mem   box_loss   cls_loss   dfl_loss  Instances       Size\n"
     ]
    },
    {
     "name": "stderr",
     "output_type": "stream",
     "text": [
      "    123/150      7.45G          0      4.028          0          0        480: 100%|██████████| 53/53 [00:04<00:00, 11.67it/s]\n",
      "                 Class     Images  Instances      Box(P          R      mAP50  mAP50-95): 100%|██████████| 9/9 [00:00<00:00, 38.98it/s]"
     ]
    },
    {
     "name": "stdout",
     "output_type": "stream",
     "text": [
      "                   all        281          0          0          0          0          0\n",
      "WARNING ⚠️ no labels found in detect set, can not compute metrics without labels\n"
     ]
    },
    {
     "name": "stderr",
     "output_type": "stream",
     "text": [
      "\n",
      "/home/dsu.local/bshakya/.local/lib/python3.9/site-packages/ultralytics/utils/metrics.py:850: RuntimeWarning: Mean of empty slice.\n",
      "  i = smooth(f1_curve.mean(0), 0.1).argmax()  # max F1 index\n",
      "/home/dsu.local/bshakya/.local/lib/python3.9/site-packages/numpy/core/_methods.py:121: RuntimeWarning: invalid value encountered in divide\n",
      "  ret = um.true_divide(\n"
     ]
    },
    {
     "name": "stdout",
     "output_type": "stream",
     "text": [
      "\n",
      "      Epoch    GPU_mem   box_loss   cls_loss   dfl_loss  Instances       Size\n"
     ]
    },
    {
     "name": "stderr",
     "output_type": "stream",
     "text": [
      "    124/150      7.45G          0      3.431          0          0        928: 100%|██████████| 53/53 [00:04<00:00, 10.95it/s]\n",
      "                 Class     Images  Instances      Box(P          R      mAP50  mAP50-95): 100%|██████████| 9/9 [00:00<00:00, 39.08it/s]"
     ]
    },
    {
     "name": "stdout",
     "output_type": "stream",
     "text": [
      "                   all        281          0          0          0          0          0\n",
      "WARNING ⚠️ no labels found in detect set, can not compute metrics without labels\n"
     ]
    },
    {
     "name": "stderr",
     "output_type": "stream",
     "text": [
      "\n",
      "/home/dsu.local/bshakya/.local/lib/python3.9/site-packages/ultralytics/utils/metrics.py:850: RuntimeWarning: Mean of empty slice.\n",
      "  i = smooth(f1_curve.mean(0), 0.1).argmax()  # max F1 index\n",
      "/home/dsu.local/bshakya/.local/lib/python3.9/site-packages/numpy/core/_methods.py:121: RuntimeWarning: invalid value encountered in divide\n",
      "  ret = um.true_divide(\n"
     ]
    },
    {
     "name": "stdout",
     "output_type": "stream",
     "text": [
      "\n",
      "      Epoch    GPU_mem   box_loss   cls_loss   dfl_loss  Instances       Size\n"
     ]
    },
    {
     "name": "stderr",
     "output_type": "stream",
     "text": [
      "    125/150      7.45G          0      3.934          0          0        832: 100%|██████████| 53/53 [00:04<00:00, 11.12it/s]\n",
      "                 Class     Images  Instances      Box(P          R      mAP50  mAP50-95): 100%|██████████| 9/9 [00:00<00:00, 38.80it/s]"
     ]
    },
    {
     "name": "stdout",
     "output_type": "stream",
     "text": [
      "                   all        281          0          0          0          0          0\n",
      "WARNING ⚠️ no labels found in detect set, can not compute metrics without labels\n"
     ]
    },
    {
     "name": "stderr",
     "output_type": "stream",
     "text": [
      "\n",
      "/home/dsu.local/bshakya/.local/lib/python3.9/site-packages/ultralytics/utils/metrics.py:850: RuntimeWarning: Mean of empty slice.\n",
      "  i = smooth(f1_curve.mean(0), 0.1).argmax()  # max F1 index\n",
      "/home/dsu.local/bshakya/.local/lib/python3.9/site-packages/numpy/core/_methods.py:121: RuntimeWarning: invalid value encountered in divide\n",
      "  ret = um.true_divide(\n"
     ]
    },
    {
     "name": "stdout",
     "output_type": "stream",
     "text": [
      "\n",
      "      Epoch    GPU_mem   box_loss   cls_loss   dfl_loss  Instances       Size\n"
     ]
    },
    {
     "name": "stderr",
     "output_type": "stream",
     "text": [
      "    126/150      7.45G          0      3.642          0          0        416: 100%|██████████| 53/53 [00:04<00:00, 11.20it/s]\n",
      "                 Class     Images  Instances      Box(P          R      mAP50  mAP50-95): 100%|██████████| 9/9 [00:00<00:00, 37.29it/s]"
     ]
    },
    {
     "name": "stdout",
     "output_type": "stream",
     "text": [
      "                   all        281          0          0          0          0          0\n",
      "WARNING ⚠️ no labels found in detect set, can not compute metrics without labels\n"
     ]
    },
    {
     "name": "stderr",
     "output_type": "stream",
     "text": [
      "\n",
      "/home/dsu.local/bshakya/.local/lib/python3.9/site-packages/ultralytics/utils/metrics.py:850: RuntimeWarning: Mean of empty slice.\n",
      "  i = smooth(f1_curve.mean(0), 0.1).argmax()  # max F1 index\n",
      "/home/dsu.local/bshakya/.local/lib/python3.9/site-packages/numpy/core/_methods.py:121: RuntimeWarning: invalid value encountered in divide\n",
      "  ret = um.true_divide(\n"
     ]
    },
    {
     "name": "stdout",
     "output_type": "stream",
     "text": [
      "\n",
      "      Epoch    GPU_mem   box_loss   cls_loss   dfl_loss  Instances       Size\n"
     ]
    },
    {
     "name": "stderr",
     "output_type": "stream",
     "text": [
      "    127/150      7.45G          0      3.263          0          0        480: 100%|██████████| 53/53 [00:04<00:00, 11.59it/s]\n",
      "                 Class     Images  Instances      Box(P          R      mAP50  mAP50-95): 100%|██████████| 9/9 [00:00<00:00, 38.66it/s]"
     ]
    },
    {
     "name": "stdout",
     "output_type": "stream",
     "text": [
      "                   all        281          0          0          0          0          0\n",
      "WARNING ⚠️ no labels found in detect set, can not compute metrics without labels\n"
     ]
    },
    {
     "name": "stderr",
     "output_type": "stream",
     "text": [
      "\n",
      "/home/dsu.local/bshakya/.local/lib/python3.9/site-packages/ultralytics/utils/metrics.py:850: RuntimeWarning: Mean of empty slice.\n",
      "  i = smooth(f1_curve.mean(0), 0.1).argmax()  # max F1 index\n",
      "/home/dsu.local/bshakya/.local/lib/python3.9/site-packages/numpy/core/_methods.py:121: RuntimeWarning: invalid value encountered in divide\n",
      "  ret = um.true_divide(\n"
     ]
    },
    {
     "name": "stdout",
     "output_type": "stream",
     "text": [
      "\n",
      "      Epoch    GPU_mem   box_loss   cls_loss   dfl_loss  Instances       Size\n"
     ]
    },
    {
     "name": "stderr",
     "output_type": "stream",
     "text": [
      "    128/150      7.45G          0      3.231          0          0        736: 100%|██████████| 53/53 [00:04<00:00, 11.28it/s]\n",
      "                 Class     Images  Instances      Box(P          R      mAP50  mAP50-95): 100%|██████████| 9/9 [00:00<00:00, 38.85it/s]"
     ]
    },
    {
     "name": "stdout",
     "output_type": "stream",
     "text": [
      "                   all        281          0          0          0          0          0\n",
      "WARNING ⚠️ no labels found in detect set, can not compute metrics without labels\n"
     ]
    },
    {
     "name": "stderr",
     "output_type": "stream",
     "text": [
      "\n",
      "/home/dsu.local/bshakya/.local/lib/python3.9/site-packages/ultralytics/utils/metrics.py:850: RuntimeWarning: Mean of empty slice.\n",
      "  i = smooth(f1_curve.mean(0), 0.1).argmax()  # max F1 index\n",
      "/home/dsu.local/bshakya/.local/lib/python3.9/site-packages/numpy/core/_methods.py:121: RuntimeWarning: invalid value encountered in divide\n",
      "  ret = um.true_divide(\n"
     ]
    },
    {
     "name": "stdout",
     "output_type": "stream",
     "text": [
      "\n",
      "      Epoch    GPU_mem   box_loss   cls_loss   dfl_loss  Instances       Size\n"
     ]
    },
    {
     "name": "stderr",
     "output_type": "stream",
     "text": [
      "    129/150      7.45G          0      2.981          0          0        928: 100%|██████████| 53/53 [00:04<00:00, 11.15it/s]\n",
      "                 Class     Images  Instances      Box(P          R      mAP50  mAP50-95): 100%|██████████| 9/9 [00:00<00:00, 38.76it/s]"
     ]
    },
    {
     "name": "stdout",
     "output_type": "stream",
     "text": [
      "                   all        281          0          0          0          0          0\n",
      "WARNING ⚠️ no labels found in detect set, can not compute metrics without labels\n"
     ]
    },
    {
     "name": "stderr",
     "output_type": "stream",
     "text": [
      "\n",
      "/home/dsu.local/bshakya/.local/lib/python3.9/site-packages/ultralytics/utils/metrics.py:850: RuntimeWarning: Mean of empty slice.\n",
      "  i = smooth(f1_curve.mean(0), 0.1).argmax()  # max F1 index\n",
      "/home/dsu.local/bshakya/.local/lib/python3.9/site-packages/numpy/core/_methods.py:121: RuntimeWarning: invalid value encountered in divide\n",
      "  ret = um.true_divide(\n"
     ]
    },
    {
     "name": "stdout",
     "output_type": "stream",
     "text": [
      "\n",
      "      Epoch    GPU_mem   box_loss   cls_loss   dfl_loss  Instances       Size\n"
     ]
    },
    {
     "name": "stderr",
     "output_type": "stream",
     "text": [
      "    130/150      7.45G          0      3.164          0          0        416: 100%|██████████| 53/53 [00:04<00:00, 10.88it/s]\n",
      "                 Class     Images  Instances      Box(P          R      mAP50  mAP50-95): 100%|██████████| 9/9 [00:00<00:00, 39.07it/s]"
     ]
    },
    {
     "name": "stdout",
     "output_type": "stream",
     "text": [
      "                   all        281          0          0          0          0          0\n",
      "WARNING ⚠️ no labels found in detect set, can not compute metrics without labels\n"
     ]
    },
    {
     "name": "stderr",
     "output_type": "stream",
     "text": [
      "\n",
      "/home/dsu.local/bshakya/.local/lib/python3.9/site-packages/ultralytics/utils/metrics.py:850: RuntimeWarning: Mean of empty slice.\n",
      "  i = smooth(f1_curve.mean(0), 0.1).argmax()  # max F1 index\n",
      "/home/dsu.local/bshakya/.local/lib/python3.9/site-packages/numpy/core/_methods.py:121: RuntimeWarning: invalid value encountered in divide\n",
      "  ret = um.true_divide(\n"
     ]
    },
    {
     "name": "stdout",
     "output_type": "stream",
     "text": [
      "Closing dataloader mosaic\n",
      "\u001b[34m\u001b[1malbumentations: \u001b[0m__init__() got an unexpected keyword argument 'quality_range'\n",
      "\n",
      "      Epoch    GPU_mem   box_loss   cls_loss   dfl_loss  Instances       Size\n"
     ]
    },
    {
     "name": "stderr",
     "output_type": "stream",
     "text": [
      "    131/150      7.45G          0       3.69          0          0        608: 100%|██████████| 53/53 [00:05<00:00,  9.79it/s]\n",
      "                 Class     Images  Instances      Box(P          R      mAP50  mAP50-95): 100%|██████████| 9/9 [00:00<00:00, 35.57it/s]"
     ]
    },
    {
     "name": "stdout",
     "output_type": "stream",
     "text": [
      "                   all        281          0          0          0          0          0\n",
      "WARNING ⚠️ no labels found in detect set, can not compute metrics without labels\n"
     ]
    },
    {
     "name": "stderr",
     "output_type": "stream",
     "text": [
      "\n",
      "/home/dsu.local/bshakya/.local/lib/python3.9/site-packages/ultralytics/utils/metrics.py:850: RuntimeWarning: Mean of empty slice.\n",
      "  i = smooth(f1_curve.mean(0), 0.1).argmax()  # max F1 index\n",
      "/home/dsu.local/bshakya/.local/lib/python3.9/site-packages/numpy/core/_methods.py:121: RuntimeWarning: invalid value encountered in divide\n",
      "  ret = um.true_divide(\n"
     ]
    },
    {
     "name": "stdout",
     "output_type": "stream",
     "text": [
      "\n",
      "      Epoch    GPU_mem   box_loss   cls_loss   dfl_loss  Instances       Size\n"
     ]
    },
    {
     "name": "stderr",
     "output_type": "stream",
     "text": [
      "    132/150      7.45G          0      3.137          0          0        448: 100%|██████████| 53/53 [00:04<00:00, 11.14it/s]\n",
      "                 Class     Images  Instances      Box(P          R      mAP50  mAP50-95): 100%|██████████| 9/9 [00:00<00:00, 37.28it/s]"
     ]
    },
    {
     "name": "stdout",
     "output_type": "stream",
     "text": [
      "                   all        281          0          0          0          0          0\n",
      "WARNING ⚠️ no labels found in detect set, can not compute metrics without labels\n"
     ]
    },
    {
     "name": "stderr",
     "output_type": "stream",
     "text": [
      "\n",
      "/home/dsu.local/bshakya/.local/lib/python3.9/site-packages/ultralytics/utils/metrics.py:850: RuntimeWarning: Mean of empty slice.\n",
      "  i = smooth(f1_curve.mean(0), 0.1).argmax()  # max F1 index\n",
      "/home/dsu.local/bshakya/.local/lib/python3.9/site-packages/numpy/core/_methods.py:121: RuntimeWarning: invalid value encountered in divide\n",
      "  ret = um.true_divide(\n"
     ]
    },
    {
     "name": "stdout",
     "output_type": "stream",
     "text": [
      "\n",
      "      Epoch    GPU_mem   box_loss   cls_loss   dfl_loss  Instances       Size\n"
     ]
    },
    {
     "name": "stderr",
     "output_type": "stream",
     "text": [
      "    133/150      7.45G          0      3.542          0          0        768: 100%|██████████| 53/53 [00:04<00:00, 11.15it/s]\n",
      "                 Class     Images  Instances      Box(P          R      mAP50  mAP50-95): 100%|██████████| 9/9 [00:00<00:00, 34.71it/s]"
     ]
    },
    {
     "name": "stdout",
     "output_type": "stream",
     "text": [
      "                   all        281          0          0          0          0          0\n",
      "WARNING ⚠️ no labels found in detect set, can not compute metrics without labels\n"
     ]
    },
    {
     "name": "stderr",
     "output_type": "stream",
     "text": [
      "\n",
      "/home/dsu.local/bshakya/.local/lib/python3.9/site-packages/ultralytics/utils/metrics.py:850: RuntimeWarning: Mean of empty slice.\n",
      "  i = smooth(f1_curve.mean(0), 0.1).argmax()  # max F1 index\n",
      "/home/dsu.local/bshakya/.local/lib/python3.9/site-packages/numpy/core/_methods.py:121: RuntimeWarning: invalid value encountered in divide\n",
      "  ret = um.true_divide(\n"
     ]
    },
    {
     "name": "stdout",
     "output_type": "stream",
     "text": [
      "\n",
      "      Epoch    GPU_mem   box_loss   cls_loss   dfl_loss  Instances       Size\n"
     ]
    },
    {
     "name": "stderr",
     "output_type": "stream",
     "text": [
      "    134/150      7.45G          0      3.625          0          0        640: 100%|██████████| 53/53 [00:04<00:00, 11.42it/s]\n",
      "                 Class     Images  Instances      Box(P          R      mAP50  mAP50-95): 100%|██████████| 9/9 [00:00<00:00, 36.85it/s]"
     ]
    },
    {
     "name": "stdout",
     "output_type": "stream",
     "text": [
      "                   all        281          0          0          0          0          0\n",
      "WARNING ⚠️ no labels found in detect set, can not compute metrics without labels\n"
     ]
    },
    {
     "name": "stderr",
     "output_type": "stream",
     "text": [
      "\n",
      "/home/dsu.local/bshakya/.local/lib/python3.9/site-packages/ultralytics/utils/metrics.py:850: RuntimeWarning: Mean of empty slice.\n",
      "  i = smooth(f1_curve.mean(0), 0.1).argmax()  # max F1 index\n",
      "/home/dsu.local/bshakya/.local/lib/python3.9/site-packages/numpy/core/_methods.py:121: RuntimeWarning: invalid value encountered in divide\n",
      "  ret = um.true_divide(\n"
     ]
    },
    {
     "name": "stdout",
     "output_type": "stream",
     "text": [
      "\n",
      "      Epoch    GPU_mem   box_loss   cls_loss   dfl_loss  Instances       Size\n"
     ]
    },
    {
     "name": "stderr",
     "output_type": "stream",
     "text": [
      "    135/150      7.45G          0       3.03          0          0        608: 100%|██████████| 53/53 [00:04<00:00, 11.09it/s]\n",
      "                 Class     Images  Instances      Box(P          R      mAP50  mAP50-95): 100%|██████████| 9/9 [00:00<00:00, 36.62it/s]"
     ]
    },
    {
     "name": "stdout",
     "output_type": "stream",
     "text": [
      "                   all        281          0          0          0          0          0\n",
      "WARNING ⚠️ no labels found in detect set, can not compute metrics without labels\n"
     ]
    },
    {
     "name": "stderr",
     "output_type": "stream",
     "text": [
      "\n",
      "/home/dsu.local/bshakya/.local/lib/python3.9/site-packages/ultralytics/utils/metrics.py:850: RuntimeWarning: Mean of empty slice.\n",
      "  i = smooth(f1_curve.mean(0), 0.1).argmax()  # max F1 index\n",
      "/home/dsu.local/bshakya/.local/lib/python3.9/site-packages/numpy/core/_methods.py:121: RuntimeWarning: invalid value encountered in divide\n",
      "  ret = um.true_divide(\n"
     ]
    },
    {
     "name": "stdout",
     "output_type": "stream",
     "text": [
      "\n",
      "      Epoch    GPU_mem   box_loss   cls_loss   dfl_loss  Instances       Size\n"
     ]
    },
    {
     "name": "stderr",
     "output_type": "stream",
     "text": [
      "    136/150      7.45G          0      3.284          0          0        672: 100%|██████████| 53/53 [00:04<00:00, 11.35it/s]\n",
      "                 Class     Images  Instances      Box(P          R      mAP50  mAP50-95): 100%|██████████| 9/9 [00:00<00:00, 37.25it/s]"
     ]
    },
    {
     "name": "stdout",
     "output_type": "stream",
     "text": [
      "                   all        281          0          0          0          0          0\n",
      "WARNING ⚠️ no labels found in detect set, can not compute metrics without labels\n"
     ]
    },
    {
     "name": "stderr",
     "output_type": "stream",
     "text": [
      "\n",
      "/home/dsu.local/bshakya/.local/lib/python3.9/site-packages/ultralytics/utils/metrics.py:850: RuntimeWarning: Mean of empty slice.\n",
      "  i = smooth(f1_curve.mean(0), 0.1).argmax()  # max F1 index\n",
      "/home/dsu.local/bshakya/.local/lib/python3.9/site-packages/numpy/core/_methods.py:121: RuntimeWarning: invalid value encountered in divide\n",
      "  ret = um.true_divide(\n"
     ]
    },
    {
     "name": "stdout",
     "output_type": "stream",
     "text": [
      "\n",
      "      Epoch    GPU_mem   box_loss   cls_loss   dfl_loss  Instances       Size\n"
     ]
    },
    {
     "name": "stderr",
     "output_type": "stream",
     "text": [
      "    137/150      7.45G          0      3.394          0          0        928: 100%|██████████| 53/53 [00:04<00:00, 11.43it/s]\n",
      "                 Class     Images  Instances      Box(P          R      mAP50  mAP50-95): 100%|██████████| 9/9 [00:00<00:00, 33.98it/s]"
     ]
    },
    {
     "name": "stdout",
     "output_type": "stream",
     "text": [
      "                   all        281          0          0          0          0          0\n",
      "WARNING ⚠️ no labels found in detect set, can not compute metrics without labels\n"
     ]
    },
    {
     "name": "stderr",
     "output_type": "stream",
     "text": [
      "\n",
      "/home/dsu.local/bshakya/.local/lib/python3.9/site-packages/ultralytics/utils/metrics.py:850: RuntimeWarning: Mean of empty slice.\n",
      "  i = smooth(f1_curve.mean(0), 0.1).argmax()  # max F1 index\n",
      "/home/dsu.local/bshakya/.local/lib/python3.9/site-packages/numpy/core/_methods.py:121: RuntimeWarning: invalid value encountered in divide\n",
      "  ret = um.true_divide(\n"
     ]
    },
    {
     "name": "stdout",
     "output_type": "stream",
     "text": [
      "\n",
      "      Epoch    GPU_mem   box_loss   cls_loss   dfl_loss  Instances       Size\n"
     ]
    },
    {
     "name": "stderr",
     "output_type": "stream",
     "text": [
      "    138/150      7.45G          0      3.265          0          0        384: 100%|██████████| 53/53 [00:04<00:00, 11.29it/s]\n",
      "                 Class     Images  Instances      Box(P          R      mAP50  mAP50-95): 100%|██████████| 9/9 [00:00<00:00, 35.21it/s]"
     ]
    },
    {
     "name": "stdout",
     "output_type": "stream",
     "text": [
      "                   all        281          0          0          0          0          0\n",
      "WARNING ⚠️ no labels found in detect set, can not compute metrics without labels\n"
     ]
    },
    {
     "name": "stderr",
     "output_type": "stream",
     "text": [
      "\n",
      "/home/dsu.local/bshakya/.local/lib/python3.9/site-packages/ultralytics/utils/metrics.py:850: RuntimeWarning: Mean of empty slice.\n",
      "  i = smooth(f1_curve.mean(0), 0.1).argmax()  # max F1 index\n",
      "/home/dsu.local/bshakya/.local/lib/python3.9/site-packages/numpy/core/_methods.py:121: RuntimeWarning: invalid value encountered in divide\n",
      "  ret = um.true_divide(\n"
     ]
    },
    {
     "name": "stdout",
     "output_type": "stream",
     "text": [
      "\n",
      "      Epoch    GPU_mem   box_loss   cls_loss   dfl_loss  Instances       Size\n"
     ]
    },
    {
     "name": "stderr",
     "output_type": "stream",
     "text": [
      "    139/150      7.45G          0      3.249          0          0        736: 100%|██████████| 53/53 [00:04<00:00, 11.24it/s]\n",
      "                 Class     Images  Instances      Box(P          R      mAP50  mAP50-95): 100%|██████████| 9/9 [00:00<00:00, 36.95it/s]"
     ]
    },
    {
     "name": "stdout",
     "output_type": "stream",
     "text": [
      "                   all        281          0          0          0          0          0\n",
      "WARNING ⚠️ no labels found in detect set, can not compute metrics without labels\n"
     ]
    },
    {
     "name": "stderr",
     "output_type": "stream",
     "text": [
      "\n",
      "/home/dsu.local/bshakya/.local/lib/python3.9/site-packages/ultralytics/utils/metrics.py:850: RuntimeWarning: Mean of empty slice.\n",
      "  i = smooth(f1_curve.mean(0), 0.1).argmax()  # max F1 index\n",
      "/home/dsu.local/bshakya/.local/lib/python3.9/site-packages/numpy/core/_methods.py:121: RuntimeWarning: invalid value encountered in divide\n",
      "  ret = um.true_divide(\n"
     ]
    },
    {
     "name": "stdout",
     "output_type": "stream",
     "text": [
      "\n",
      "      Epoch    GPU_mem   box_loss   cls_loss   dfl_loss  Instances       Size\n"
     ]
    },
    {
     "name": "stderr",
     "output_type": "stream",
     "text": [
      "    140/150      7.45G          0      3.235          0          0        448: 100%|██████████| 53/53 [00:04<00:00, 11.57it/s]\n",
      "                 Class     Images  Instances      Box(P          R      mAP50  mAP50-95): 100%|██████████| 9/9 [00:00<00:00, 35.86it/s]"
     ]
    },
    {
     "name": "stdout",
     "output_type": "stream",
     "text": [
      "                   all        281          0          0          0          0          0\n",
      "WARNING ⚠️ no labels found in detect set, can not compute metrics without labels\n"
     ]
    },
    {
     "name": "stderr",
     "output_type": "stream",
     "text": [
      "\n",
      "/home/dsu.local/bshakya/.local/lib/python3.9/site-packages/ultralytics/utils/metrics.py:850: RuntimeWarning: Mean of empty slice.\n",
      "  i = smooth(f1_curve.mean(0), 0.1).argmax()  # max F1 index\n",
      "/home/dsu.local/bshakya/.local/lib/python3.9/site-packages/numpy/core/_methods.py:121: RuntimeWarning: invalid value encountered in divide\n",
      "  ret = um.true_divide(\n"
     ]
    },
    {
     "name": "stdout",
     "output_type": "stream",
     "text": [
      "\n",
      "      Epoch    GPU_mem   box_loss   cls_loss   dfl_loss  Instances       Size\n"
     ]
    },
    {
     "name": "stderr",
     "output_type": "stream",
     "text": [
      "    141/150      7.45G          0      3.544          0          0        544: 100%|██████████| 53/53 [00:04<00:00, 11.40it/s]\n",
      "                 Class     Images  Instances      Box(P          R      mAP50  mAP50-95): 100%|██████████| 9/9 [00:00<00:00, 37.21it/s]"
     ]
    },
    {
     "name": "stdout",
     "output_type": "stream",
     "text": [
      "                   all        281          0          0          0          0          0\n",
      "WARNING ⚠️ no labels found in detect set, can not compute metrics without labels\n"
     ]
    },
    {
     "name": "stderr",
     "output_type": "stream",
     "text": [
      "\n",
      "/home/dsu.local/bshakya/.local/lib/python3.9/site-packages/ultralytics/utils/metrics.py:850: RuntimeWarning: Mean of empty slice.\n",
      "  i = smooth(f1_curve.mean(0), 0.1).argmax()  # max F1 index\n",
      "/home/dsu.local/bshakya/.local/lib/python3.9/site-packages/numpy/core/_methods.py:121: RuntimeWarning: invalid value encountered in divide\n",
      "  ret = um.true_divide(\n"
     ]
    },
    {
     "name": "stdout",
     "output_type": "stream",
     "text": [
      "\n",
      "      Epoch    GPU_mem   box_loss   cls_loss   dfl_loss  Instances       Size\n"
     ]
    },
    {
     "name": "stderr",
     "output_type": "stream",
     "text": [
      "    142/150      7.45G          0      2.993          0          0        352: 100%|██████████| 53/53 [00:04<00:00, 11.45it/s]\n",
      "                 Class     Images  Instances      Box(P          R      mAP50  mAP50-95): 100%|██████████| 9/9 [00:00<00:00, 37.02it/s]"
     ]
    },
    {
     "name": "stdout",
     "output_type": "stream",
     "text": [
      "                   all        281          0          0          0          0          0\n",
      "WARNING ⚠️ no labels found in detect set, can not compute metrics without labels\n"
     ]
    },
    {
     "name": "stderr",
     "output_type": "stream",
     "text": [
      "\n",
      "/home/dsu.local/bshakya/.local/lib/python3.9/site-packages/ultralytics/utils/metrics.py:850: RuntimeWarning: Mean of empty slice.\n",
      "  i = smooth(f1_curve.mean(0), 0.1).argmax()  # max F1 index\n",
      "/home/dsu.local/bshakya/.local/lib/python3.9/site-packages/numpy/core/_methods.py:121: RuntimeWarning: invalid value encountered in divide\n",
      "  ret = um.true_divide(\n"
     ]
    },
    {
     "name": "stdout",
     "output_type": "stream",
     "text": [
      "\n",
      "      Epoch    GPU_mem   box_loss   cls_loss   dfl_loss  Instances       Size\n"
     ]
    },
    {
     "name": "stderr",
     "output_type": "stream",
     "text": [
      "    143/150      7.45G          0      3.079          0          0        736: 100%|██████████| 53/53 [00:04<00:00, 11.81it/s]\n",
      "                 Class     Images  Instances      Box(P          R      mAP50  mAP50-95): 100%|██████████| 9/9 [00:00<00:00, 37.18it/s]"
     ]
    },
    {
     "name": "stdout",
     "output_type": "stream",
     "text": [
      "                   all        281          0          0          0          0          0\n",
      "WARNING ⚠️ no labels found in detect set, can not compute metrics without labels\n"
     ]
    },
    {
     "name": "stderr",
     "output_type": "stream",
     "text": [
      "\n",
      "/home/dsu.local/bshakya/.local/lib/python3.9/site-packages/ultralytics/utils/metrics.py:850: RuntimeWarning: Mean of empty slice.\n",
      "  i = smooth(f1_curve.mean(0), 0.1).argmax()  # max F1 index\n",
      "/home/dsu.local/bshakya/.local/lib/python3.9/site-packages/numpy/core/_methods.py:121: RuntimeWarning: invalid value encountered in divide\n",
      "  ret = um.true_divide(\n"
     ]
    },
    {
     "name": "stdout",
     "output_type": "stream",
     "text": [
      "\n",
      "      Epoch    GPU_mem   box_loss   cls_loss   dfl_loss  Instances       Size\n"
     ]
    },
    {
     "name": "stderr",
     "output_type": "stream",
     "text": [
      "    144/150      7.45G          0      3.071          0          0        448: 100%|██████████| 53/53 [00:04<00:00, 11.07it/s]\n",
      "                 Class     Images  Instances      Box(P          R      mAP50  mAP50-95): 100%|██████████| 9/9 [00:00<00:00, 36.82it/s]"
     ]
    },
    {
     "name": "stdout",
     "output_type": "stream",
     "text": [
      "                   all        281          0          0          0          0          0\n",
      "WARNING ⚠️ no labels found in detect set, can not compute metrics without labels\n"
     ]
    },
    {
     "name": "stderr",
     "output_type": "stream",
     "text": [
      "\n",
      "/home/dsu.local/bshakya/.local/lib/python3.9/site-packages/ultralytics/utils/metrics.py:850: RuntimeWarning: Mean of empty slice.\n",
      "  i = smooth(f1_curve.mean(0), 0.1).argmax()  # max F1 index\n",
      "/home/dsu.local/bshakya/.local/lib/python3.9/site-packages/numpy/core/_methods.py:121: RuntimeWarning: invalid value encountered in divide\n",
      "  ret = um.true_divide(\n"
     ]
    },
    {
     "name": "stdout",
     "output_type": "stream",
     "text": [
      "\n",
      "      Epoch    GPU_mem   box_loss   cls_loss   dfl_loss  Instances       Size\n"
     ]
    },
    {
     "name": "stderr",
     "output_type": "stream",
     "text": [
      "    145/150      7.45G          0      3.407          0          0        704: 100%|██████████| 53/53 [00:04<00:00, 11.29it/s]\n",
      "                 Class     Images  Instances      Box(P          R      mAP50  mAP50-95): 100%|██████████| 9/9 [00:00<00:00, 37.02it/s]"
     ]
    },
    {
     "name": "stdout",
     "output_type": "stream",
     "text": [
      "                   all        281          0          0          0          0          0\n",
      "WARNING ⚠️ no labels found in detect set, can not compute metrics without labels\n"
     ]
    },
    {
     "name": "stderr",
     "output_type": "stream",
     "text": [
      "\n",
      "/home/dsu.local/bshakya/.local/lib/python3.9/site-packages/ultralytics/utils/metrics.py:850: RuntimeWarning: Mean of empty slice.\n",
      "  i = smooth(f1_curve.mean(0), 0.1).argmax()  # max F1 index\n",
      "/home/dsu.local/bshakya/.local/lib/python3.9/site-packages/numpy/core/_methods.py:121: RuntimeWarning: invalid value encountered in divide\n",
      "  ret = um.true_divide(\n"
     ]
    },
    {
     "name": "stdout",
     "output_type": "stream",
     "text": [
      "\n",
      "      Epoch    GPU_mem   box_loss   cls_loss   dfl_loss  Instances       Size\n"
     ]
    },
    {
     "name": "stderr",
     "output_type": "stream",
     "text": [
      "    146/150      7.45G          0      3.793          0          0        608: 100%|██████████| 53/53 [00:04<00:00, 11.22it/s]\n",
      "                 Class     Images  Instances      Box(P          R      mAP50  mAP50-95): 100%|██████████| 9/9 [00:00<00:00, 37.13it/s]"
     ]
    },
    {
     "name": "stdout",
     "output_type": "stream",
     "text": [
      "                   all        281          0          0          0          0          0\n",
      "WARNING ⚠️ no labels found in detect set, can not compute metrics without labels\n"
     ]
    },
    {
     "name": "stderr",
     "output_type": "stream",
     "text": [
      "\n",
      "/home/dsu.local/bshakya/.local/lib/python3.9/site-packages/ultralytics/utils/metrics.py:850: RuntimeWarning: Mean of empty slice.\n",
      "  i = smooth(f1_curve.mean(0), 0.1).argmax()  # max F1 index\n",
      "/home/dsu.local/bshakya/.local/lib/python3.9/site-packages/numpy/core/_methods.py:121: RuntimeWarning: invalid value encountered in divide\n",
      "  ret = um.true_divide(\n"
     ]
    },
    {
     "name": "stdout",
     "output_type": "stream",
     "text": [
      "\n",
      "      Epoch    GPU_mem   box_loss   cls_loss   dfl_loss  Instances       Size\n"
     ]
    },
    {
     "name": "stderr",
     "output_type": "stream",
     "text": [
      "    147/150      7.45G          0      3.494          0          0        448: 100%|██████████| 53/53 [00:04<00:00, 10.95it/s]\n",
      "                 Class     Images  Instances      Box(P          R      mAP50  mAP50-95): 100%|██████████| 9/9 [00:00<00:00, 37.52it/s]"
     ]
    },
    {
     "name": "stdout",
     "output_type": "stream",
     "text": [
      "                   all        281          0          0          0          0          0\n",
      "WARNING ⚠️ no labels found in detect set, can not compute metrics without labels\n"
     ]
    },
    {
     "name": "stderr",
     "output_type": "stream",
     "text": [
      "\n",
      "/home/dsu.local/bshakya/.local/lib/python3.9/site-packages/ultralytics/utils/metrics.py:850: RuntimeWarning: Mean of empty slice.\n",
      "  i = smooth(f1_curve.mean(0), 0.1).argmax()  # max F1 index\n",
      "/home/dsu.local/bshakya/.local/lib/python3.9/site-packages/numpy/core/_methods.py:121: RuntimeWarning: invalid value encountered in divide\n",
      "  ret = um.true_divide(\n"
     ]
    },
    {
     "name": "stdout",
     "output_type": "stream",
     "text": [
      "\n",
      "      Epoch    GPU_mem   box_loss   cls_loss   dfl_loss  Instances       Size\n"
     ]
    },
    {
     "name": "stderr",
     "output_type": "stream",
     "text": [
      "    148/150      7.45G          0      2.915          0          0        608: 100%|██████████| 53/53 [00:04<00:00, 10.99it/s]\n",
      "                 Class     Images  Instances      Box(P          R      mAP50  mAP50-95): 100%|██████████| 9/9 [00:00<00:00, 37.67it/s]"
     ]
    },
    {
     "name": "stdout",
     "output_type": "stream",
     "text": [
      "                   all        281          0          0          0          0          0\n",
      "WARNING ⚠️ no labels found in detect set, can not compute metrics without labels\n"
     ]
    },
    {
     "name": "stderr",
     "output_type": "stream",
     "text": [
      "\n",
      "/home/dsu.local/bshakya/.local/lib/python3.9/site-packages/ultralytics/utils/metrics.py:850: RuntimeWarning: Mean of empty slice.\n",
      "  i = smooth(f1_curve.mean(0), 0.1).argmax()  # max F1 index\n",
      "/home/dsu.local/bshakya/.local/lib/python3.9/site-packages/numpy/core/_methods.py:121: RuntimeWarning: invalid value encountered in divide\n",
      "  ret = um.true_divide(\n"
     ]
    },
    {
     "name": "stdout",
     "output_type": "stream",
     "text": [
      "\n",
      "      Epoch    GPU_mem   box_loss   cls_loss   dfl_loss  Instances       Size\n"
     ]
    },
    {
     "name": "stderr",
     "output_type": "stream",
     "text": [
      "    149/150      7.45G          0      3.311          0          0        800: 100%|██████████| 53/53 [00:04<00:00, 11.02it/s]\n",
      "                 Class     Images  Instances      Box(P          R      mAP50  mAP50-95): 100%|██████████| 9/9 [00:00<00:00, 37.36it/s]"
     ]
    },
    {
     "name": "stdout",
     "output_type": "stream",
     "text": [
      "                   all        281          0          0          0          0          0\n",
      "WARNING ⚠️ no labels found in detect set, can not compute metrics without labels\n"
     ]
    },
    {
     "name": "stderr",
     "output_type": "stream",
     "text": [
      "\n",
      "/home/dsu.local/bshakya/.local/lib/python3.9/site-packages/ultralytics/utils/metrics.py:850: RuntimeWarning: Mean of empty slice.\n",
      "  i = smooth(f1_curve.mean(0), 0.1).argmax()  # max F1 index\n",
      "/home/dsu.local/bshakya/.local/lib/python3.9/site-packages/numpy/core/_methods.py:121: RuntimeWarning: invalid value encountered in divide\n",
      "  ret = um.true_divide(\n"
     ]
    },
    {
     "name": "stdout",
     "output_type": "stream",
     "text": [
      "\n",
      "      Epoch    GPU_mem   box_loss   cls_loss   dfl_loss  Instances       Size\n"
     ]
    },
    {
     "name": "stderr",
     "output_type": "stream",
     "text": [
      "    150/150      7.45G          0      3.103          0          0        896: 100%|██████████| 53/53 [00:04<00:00, 10.76it/s]\n",
      "                 Class     Images  Instances      Box(P          R      mAP50  mAP50-95): 100%|██████████| 9/9 [00:00<00:00, 37.49it/s]"
     ]
    },
    {
     "name": "stdout",
     "output_type": "stream",
     "text": [
      "                   all        281          0          0          0          0          0\n",
      "WARNING ⚠️ no labels found in detect set, can not compute metrics without labels\n"
     ]
    },
    {
     "name": "stderr",
     "output_type": "stream",
     "text": [
      "\n",
      "/home/dsu.local/bshakya/.local/lib/python3.9/site-packages/ultralytics/utils/metrics.py:850: RuntimeWarning: Mean of empty slice.\n",
      "  i = smooth(f1_curve.mean(0), 0.1).argmax()  # max F1 index\n",
      "/home/dsu.local/bshakya/.local/lib/python3.9/site-packages/numpy/core/_methods.py:121: RuntimeWarning: invalid value encountered in divide\n",
      "  ret = um.true_divide(\n"
     ]
    },
    {
     "name": "stdout",
     "output_type": "stream",
     "text": [
      "\n",
      "150 epochs completed in 0.217 hours.\n",
      "Optimizer stripped from runs/detect/train16/weights/last.pt, 6.3MB\n",
      "Optimizer stripped from runs/detect/train16/weights/best.pt, 6.3MB\n",
      "\n",
      "Validating runs/detect/train16/weights/best.pt...\n",
      "Ultralytics 8.3.169 🚀 Python-3.9.18 torch-2.1.2+cu118 CUDA:0 (NVIDIA A100 80GB PCIe, 81156MiB)\n",
      "Model summary (fused): 72 layers, 3,017,348 parameters, 0 gradients, 8.1 GFLOPs\n"
     ]
    },
    {
     "name": "stderr",
     "output_type": "stream",
     "text": [
      "                 Class     Images  Instances      Box(P          R      mAP50  mAP50-95): 100%|██████████| 9/9 [00:00<00:00, 24.71it/s]\n",
      "/home/dsu.local/bshakya/.local/lib/python3.9/site-packages/ultralytics/utils/metrics.py:668: RuntimeWarning: Mean of empty slice.\n",
      "  ax.plot(px, py.mean(1), linewidth=3, color=\"blue\", label=f\"all classes {ap[:, 0].mean():.3f} mAP@0.5\")\n",
      "/home/dsu.local/bshakya/.local/lib/python3.9/site-packages/numpy/core/_methods.py:129: RuntimeWarning: invalid value encountered in scalar divide\n",
      "  ret = ret.dtype.type(ret / rcount)\n",
      "/home/dsu.local/bshakya/.local/lib/python3.9/site-packages/ultralytics/utils/metrics.py:713: RuntimeWarning: Mean of empty slice.\n",
      "  y = smooth(py.mean(0), 0.1)\n",
      "/home/dsu.local/bshakya/.local/lib/python3.9/site-packages/numpy/core/_methods.py:121: RuntimeWarning: invalid value encountered in divide\n",
      "  ret = um.true_divide(\n",
      "/home/dsu.local/bshakya/.local/lib/python3.9/site-packages/ultralytics/utils/metrics.py:713: RuntimeWarning: Mean of empty slice.\n",
      "  y = smooth(py.mean(0), 0.1)\n",
      "/home/dsu.local/bshakya/.local/lib/python3.9/site-packages/numpy/core/_methods.py:121: RuntimeWarning: invalid value encountered in divide\n",
      "  ret = um.true_divide(\n",
      "/home/dsu.local/bshakya/.local/lib/python3.9/site-packages/ultralytics/utils/metrics.py:713: RuntimeWarning: Mean of empty slice.\n",
      "  y = smooth(py.mean(0), 0.1)\n",
      "/home/dsu.local/bshakya/.local/lib/python3.9/site-packages/numpy/core/_methods.py:121: RuntimeWarning: invalid value encountered in divide\n",
      "  ret = um.true_divide(\n",
      "/home/dsu.local/bshakya/.local/lib/python3.9/site-packages/ultralytics/utils/metrics.py:850: RuntimeWarning: Mean of empty slice.\n",
      "  i = smooth(f1_curve.mean(0), 0.1).argmax()  # max F1 index\n"
     ]
    },
    {
     "name": "stdout",
     "output_type": "stream",
     "text": [
      "                   all        281          0          0          0          0          0\n",
      "WARNING ⚠️ no labels found in detect set, can not compute metrics without labels\n",
      "Speed: 0.1ms preprocess, 0.6ms inference, 0.0ms loss, 0.3ms postprocess per image\n",
      "Results saved to \u001b[1mruns/detect/train16\u001b[0m\n"
     ]
    }
   ],
   "source": [
    "#Normalized YOLO format\n",
    "from ultralytics import YOLO\n",
    "\n",
    "model = YOLO(\"models/baseline/yolov8n.pt\")\n",
    "\n",
    "# Train the model\n",
    "train_results = model.train(\n",
    "    data=\"./xView.yaml\",  # path to dataset YAML\n",
    "    epochs=150,\n",
    "    batch = 16,\n",
    "    imgsz=640,\n",
    "    multi_scale=True,\n",
    "    device=0,  # device to run on, i.e. device=0 or device=0,1,2,3 or device=cpu\n",
    "    #freeze=10,\n",
    "    lr0 = 0.001,\n",
    "    lrf = 0.0001,\n",
    "    dropout = 0.1,\n",
    "    iou = 0.5,\n",
    "    close_mosaic = 20,\n",
    "    cos_lr = True,\n",
    "    half = True,\n",
    "    patience=100\n",
    ")"
   ]
  },
  {
   "cell_type": "code",
   "execution_count": 14,
   "id": "b141be62-bef0-4f21-ac78-ebbf27e879c0",
   "metadata": {},
   "outputs": [
    {
     "name": "stdout",
     "output_type": "stream",
     "text": [
      "\n",
      "image 1/1 /mmfs1/scratch/dsu.local/bshakya/scratch/bshakya/sahi/datasets/xView/val_images/val_images/1043.tif: 640x640 (no detections), 5.2ms\n",
      "Speed: 2.6ms preprocess, 5.2ms inference, 0.6ms postprocess per image at shape (1, 3, 640, 640)\n",
      "Results saved to \u001b[1mruns/detect/predict4\u001b[0m\n"
     ]
    },
    {
     "data": {
      "text/plain": [
       "[ultralytics.engine.results.Results object with attributes:\n",
       " \n",
       " boxes: ultralytics.engine.results.Boxes object\n",
       " keypoints: None\n",
       " masks: None\n",
       " names: {0: 'Fixed-wing Aircraft', 1: 'Small Aircraft', 2: 'Cargo Plane', 3: 'Helicopter', 4: 'Passenger Vehicle', 5: 'Small Car', 6: 'Bus', 7: 'Pickup Truck', 8: 'Utility Truck', 9: 'Truck', 10: 'Cargo Truck', 11: 'Truck w/Box', 12: 'Truck Tractor', 13: 'Trailer', 14: 'Truck w/Flatbed', 15: 'Truck w/Liquid', 16: 'Crane Truck', 17: 'Railway Vehicle', 18: 'Passenger Car', 19: 'Cargo Car', 20: 'Flat Car', 21: 'Tank car', 22: 'Locomotive', 23: 'Maritime Vessel', 24: 'Motorboat', 25: 'Sailboat', 26: 'Tugboat', 27: 'Barge', 28: 'Fishing Vessel', 29: 'Ferry', 30: 'Yacht', 31: 'Container Ship', 32: 'Oil Tanker', 33: 'Engineering Vehicle', 34: 'Tower crane', 35: 'Container Crane', 36: 'Reach Stacker', 37: 'Straddle Carrier', 38: 'Mobile Crane', 39: 'Dump Truck', 40: 'Haul Truck', 41: 'Scraper/Tractor', 42: 'Front loader/Bulldozer', 43: 'Excavator', 44: 'Cement Mixer', 45: 'Ground Grader', 46: 'Hut/Tent', 47: 'Shed', 48: 'Building', 49: 'Aircraft Hangar', 50: 'Damaged Building', 51: 'Facility', 52: 'Construction Site', 53: 'Vehicle Lot', 54: 'Helipad', 55: 'Storage Tank', 56: 'Shipping container lot', 57: 'Shipping Container', 58: 'Pylon', 59: 'Tower'}\n",
       " obb: None\n",
       " orig_img: array([[[ 81, 108, 147],\n",
       "         [ 80, 106, 145],\n",
       "         [ 78, 105, 143],\n",
       "         ...,\n",
       "         [ 65,  87, 122],\n",
       "         [ 62,  83, 116],\n",
       "         [ 68,  91, 128]],\n",
       " \n",
       "        [[ 79, 106, 144],\n",
       "         [ 79, 105, 143],\n",
       "         [ 78, 104, 142],\n",
       "         ...,\n",
       "         [ 70,  94, 131],\n",
       "         [ 69,  93, 130],\n",
       "         [ 68,  91, 127]],\n",
       " \n",
       "        [[ 82, 109, 148],\n",
       "         [ 81, 108, 147],\n",
       "         [ 80, 106, 144],\n",
       "         ...,\n",
       "         [ 67,  90, 126],\n",
       "         [ 71,  95, 132],\n",
       "         [ 73,  98, 137]],\n",
       " \n",
       "        ...,\n",
       " \n",
       "        [[ 74,  96, 123],\n",
       "         [ 75,  96, 124],\n",
       "         [ 76,  98, 126],\n",
       "         ...,\n",
       "         [ 20,  26,  24],\n",
       "         [ 20,  27,  25],\n",
       "         [ 20,  26,  25]],\n",
       " \n",
       "        [[ 76,  97, 125],\n",
       "         [ 74,  95, 123],\n",
       "         [ 72,  92, 119],\n",
       "         ...,\n",
       "         [ 21,  27,  25],\n",
       "         [ 20,  26,  25],\n",
       "         [ 20,  26,  24]],\n",
       " \n",
       "        [[ 78,  99, 128],\n",
       "         [ 74,  95, 123],\n",
       "         [ 66,  84, 109],\n",
       "         ...,\n",
       "         [ 18,  24,  22],\n",
       "         [ 17,  22,  21],\n",
       "         [ 17,  22,  21]]], dtype=uint8)\n",
       " orig_shape: (3216, 3195)\n",
       " path: '/mmfs1/scratch/dsu.local/bshakya/scratch/bshakya/sahi/datasets/xView/val_images/val_images/1043.tif'\n",
       " probs: None\n",
       " save_dir: 'runs/detect/predict4'\n",
       " speed: {'preprocess': 2.6303099002689123, 'inference': 5.248612957075238, 'postprocess': 0.5610960070043802}]"
      ]
     },
     "execution_count": 14,
     "metadata": {},
     "output_type": "execute_result"
    }
   ],
   "source": [
    "from ultralytics import YOLO\n",
    "\n",
    "# Load a pretrained YOLO11n model\n",
    "model = YOLO(\"runs/detect/train16/weights/last.pt\")\n",
    "\n",
    "# Run inference on 'bus.jpg' with arguments\n",
    "model.predict(\"./datasets/xView/val_images/val_images/1043.tif\", save=True, imgsz=640, conf=0.1)"
   ]
  },
  {
   "cell_type": "markdown",
   "id": "4017f0b8-af7c-4d07-9d02-bb11e45b487e",
   "metadata": {},
   "source": [
    "#### **Fine-tunning YOLOv8n model**"
   ]
  },
  {
   "cell_type": "code",
   "execution_count": null,
   "id": "52f309b3-8697-4d8f-a630-820aff8eb575",
   "metadata": {},
   "outputs": [
    {
     "name": "stdout",
     "output_type": "stream",
     "text": [
      "Ultralytics 8.3.169 🚀 Python-3.9.18 torch-2.1.2+cu118 CUDA:0 (NVIDIA A100 80GB PCIe, 81156MiB)\n",
      "\u001b[34m\u001b[1mengine/trainer: \u001b[0magnostic_nms=False, amp=True, augment=False, auto_augment=randaugment, batch=16, bgr=0.0, box=7.5, cache=False, cfg=None, classes=None, close_mosaic=10, cls=0.5, conf=None, copy_paste=0.0, copy_paste_mode=flip, cos_lr=True, cutmix=0.0, data=./xview-yolo-dataset/YOLO_cfg/xview_yolo.yaml, degrees=0.0, deterministic=True, device=0, dfl=1.5, dnn=False, dropout=0.05, dynamic=False, embed=None, epochs=50, erasing=0.4, exist_ok=False, fliplr=0.5, flipud=0.0, format=torchscript, fraction=1.0, freeze=10, half=True, hsv_h=0.015, hsv_s=0.7, hsv_v=0.4, imgsz=640, int8=False, iou=0.5, keras=False, kobj=1.0, line_width=None, lr0=0.001, lrf=0.1, mask_ratio=4, max_det=300, mixup=0.0, mode=train, model=models/baseline/yolov8n.pt, momentum=0.937, mosaic=1.0, multi_scale=False, name=train22, nbs=64, nms=False, opset=None, optimize=False, optimizer=auto, overlap_mask=True, patience=100, perspective=0.0, plots=True, pose=12.0, pretrained=True, profile=False, project=None, rect=False, resume=False, retina_masks=False, save=True, save_conf=False, save_crop=False, save_dir=runs/detect/train22, save_frames=False, save_json=False, save_period=-1, save_txt=False, scale=0.5, seed=0, shear=0.0, show=False, show_boxes=True, show_conf=True, show_labels=True, simplify=True, single_cls=False, source=None, split=val, stream_buffer=False, task=detect, time=None, tracker=botsort.yaml, translate=0.1, val=True, verbose=True, vid_stride=1, visualize=False, warmup_bias_lr=0.1, warmup_epochs=3.0, warmup_momentum=0.8, weight_decay=0.0005, workers=8, workspace=None\n",
      "Overriding model.yaml nc=80 with nc=60\n",
      "\n",
      "                   from  n    params  module                                       arguments                     \n",
      "  0                  -1  1       464  ultralytics.nn.modules.conv.Conv             [3, 16, 3, 2]                 \n",
      "  1                  -1  1      4672  ultralytics.nn.modules.conv.Conv             [16, 32, 3, 2]                \n",
      "  2                  -1  1      7360  ultralytics.nn.modules.block.C2f             [32, 32, 1, True]             \n",
      "  3                  -1  1     18560  ultralytics.nn.modules.conv.Conv             [32, 64, 3, 2]                \n",
      "  4                  -1  2     49664  ultralytics.nn.modules.block.C2f             [64, 64, 2, True]             \n",
      "  5                  -1  1     73984  ultralytics.nn.modules.conv.Conv             [64, 128, 3, 2]               \n",
      "  6                  -1  2    197632  ultralytics.nn.modules.block.C2f             [128, 128, 2, True]           \n",
      "  7                  -1  1    295424  ultralytics.nn.modules.conv.Conv             [128, 256, 3, 2]              \n",
      "  8                  -1  1    460288  ultralytics.nn.modules.block.C2f             [256, 256, 1, True]           \n",
      "  9                  -1  1    164608  ultralytics.nn.modules.block.SPPF            [256, 256, 5]                 \n",
      " 10                  -1  1         0  torch.nn.modules.upsampling.Upsample         [None, 2, 'nearest']          \n",
      " 11             [-1, 6]  1         0  ultralytics.nn.modules.conv.Concat           [1]                           \n",
      " 12                  -1  1    148224  ultralytics.nn.modules.block.C2f             [384, 128, 1]                 \n",
      " 13                  -1  1         0  torch.nn.modules.upsampling.Upsample         [None, 2, 'nearest']          \n",
      " 14             [-1, 4]  1         0  ultralytics.nn.modules.conv.Concat           [1]                           \n",
      " 15                  -1  1     37248  ultralytics.nn.modules.block.C2f             [192, 64, 1]                  \n",
      " 16                  -1  1     36992  ultralytics.nn.modules.conv.Conv             [64, 64, 3, 2]                \n",
      " 17            [-1, 12]  1         0  ultralytics.nn.modules.conv.Concat           [1]                           \n",
      " 18                  -1  1    123648  ultralytics.nn.modules.block.C2f             [192, 128, 1]                 \n",
      " 19                  -1  1    147712  ultralytics.nn.modules.conv.Conv             [128, 128, 3, 2]              \n",
      " 20             [-1, 9]  1         0  ultralytics.nn.modules.conv.Concat           [1]                           \n",
      " 21                  -1  1    493056  ultralytics.nn.modules.block.C2f             [384, 256, 1]                 \n",
      " 22        [15, 18, 21]  1    763012  ultralytics.nn.modules.head.Detect           [60, [64, 128, 256]]          \n",
      "Model summary: 129 layers, 3,022,548 parameters, 3,022,532 gradients, 8.3 GFLOPs\n",
      "\n",
      "Transferred 319/355 items from pretrained weights\n",
      "Freezing layer 'model.0.conv.weight'\n",
      "Freezing layer 'model.0.bn.weight'\n",
      "Freezing layer 'model.0.bn.bias'\n",
      "Freezing layer 'model.1.conv.weight'\n",
      "Freezing layer 'model.1.bn.weight'\n",
      "Freezing layer 'model.1.bn.bias'\n",
      "Freezing layer 'model.2.cv1.conv.weight'\n",
      "Freezing layer 'model.2.cv1.bn.weight'\n",
      "Freezing layer 'model.2.cv1.bn.bias'\n",
      "Freezing layer 'model.2.cv2.conv.weight'\n",
      "Freezing layer 'model.2.cv2.bn.weight'\n",
      "Freezing layer 'model.2.cv2.bn.bias'\n",
      "Freezing layer 'model.2.m.0.cv1.conv.weight'\n",
      "Freezing layer 'model.2.m.0.cv1.bn.weight'\n",
      "Freezing layer 'model.2.m.0.cv1.bn.bias'\n",
      "Freezing layer 'model.2.m.0.cv2.conv.weight'\n",
      "Freezing layer 'model.2.m.0.cv2.bn.weight'\n",
      "Freezing layer 'model.2.m.0.cv2.bn.bias'\n",
      "Freezing layer 'model.3.conv.weight'\n",
      "Freezing layer 'model.3.bn.weight'\n",
      "Freezing layer 'model.3.bn.bias'\n",
      "Freezing layer 'model.4.cv1.conv.weight'\n",
      "Freezing layer 'model.4.cv1.bn.weight'\n",
      "Freezing layer 'model.4.cv1.bn.bias'\n",
      "Freezing layer 'model.4.cv2.conv.weight'\n",
      "Freezing layer 'model.4.cv2.bn.weight'\n",
      "Freezing layer 'model.4.cv2.bn.bias'\n",
      "Freezing layer 'model.4.m.0.cv1.conv.weight'\n",
      "Freezing layer 'model.4.m.0.cv1.bn.weight'\n",
      "Freezing layer 'model.4.m.0.cv1.bn.bias'\n",
      "Freezing layer 'model.4.m.0.cv2.conv.weight'\n",
      "Freezing layer 'model.4.m.0.cv2.bn.weight'\n",
      "Freezing layer 'model.4.m.0.cv2.bn.bias'\n",
      "Freezing layer 'model.4.m.1.cv1.conv.weight'\n",
      "Freezing layer 'model.4.m.1.cv1.bn.weight'\n",
      "Freezing layer 'model.4.m.1.cv1.bn.bias'\n",
      "Freezing layer 'model.4.m.1.cv2.conv.weight'\n",
      "Freezing layer 'model.4.m.1.cv2.bn.weight'\n",
      "Freezing layer 'model.4.m.1.cv2.bn.bias'\n",
      "Freezing layer 'model.5.conv.weight'\n",
      "Freezing layer 'model.5.bn.weight'\n",
      "Freezing layer 'model.5.bn.bias'\n",
      "Freezing layer 'model.6.cv1.conv.weight'\n",
      "Freezing layer 'model.6.cv1.bn.weight'\n",
      "Freezing layer 'model.6.cv1.bn.bias'\n",
      "Freezing layer 'model.6.cv2.conv.weight'\n",
      "Freezing layer 'model.6.cv2.bn.weight'\n",
      "Freezing layer 'model.6.cv2.bn.bias'\n",
      "Freezing layer 'model.6.m.0.cv1.conv.weight'\n",
      "Freezing layer 'model.6.m.0.cv1.bn.weight'\n",
      "Freezing layer 'model.6.m.0.cv1.bn.bias'\n",
      "Freezing layer 'model.6.m.0.cv2.conv.weight'\n",
      "Freezing layer 'model.6.m.0.cv2.bn.weight'\n",
      "Freezing layer 'model.6.m.0.cv2.bn.bias'\n",
      "Freezing layer 'model.6.m.1.cv1.conv.weight'\n",
      "Freezing layer 'model.6.m.1.cv1.bn.weight'\n",
      "Freezing layer 'model.6.m.1.cv1.bn.bias'\n",
      "Freezing layer 'model.6.m.1.cv2.conv.weight'\n",
      "Freezing layer 'model.6.m.1.cv2.bn.weight'\n",
      "Freezing layer 'model.6.m.1.cv2.bn.bias'\n",
      "Freezing layer 'model.7.conv.weight'\n",
      "Freezing layer 'model.7.bn.weight'\n",
      "Freezing layer 'model.7.bn.bias'\n",
      "Freezing layer 'model.8.cv1.conv.weight'\n",
      "Freezing layer 'model.8.cv1.bn.weight'\n",
      "Freezing layer 'model.8.cv1.bn.bias'\n",
      "Freezing layer 'model.8.cv2.conv.weight'\n",
      "Freezing layer 'model.8.cv2.bn.weight'\n",
      "Freezing layer 'model.8.cv2.bn.bias'\n",
      "Freezing layer 'model.8.m.0.cv1.conv.weight'\n",
      "Freezing layer 'model.8.m.0.cv1.bn.weight'\n",
      "Freezing layer 'model.8.m.0.cv1.bn.bias'\n",
      "Freezing layer 'model.8.m.0.cv2.conv.weight'\n",
      "Freezing layer 'model.8.m.0.cv2.bn.weight'\n",
      "Freezing layer 'model.8.m.0.cv2.bn.bias'\n",
      "Freezing layer 'model.9.cv1.conv.weight'\n",
      "Freezing layer 'model.9.cv1.bn.weight'\n",
      "Freezing layer 'model.9.cv1.bn.bias'\n",
      "Freezing layer 'model.9.cv2.conv.weight'\n",
      "Freezing layer 'model.9.cv2.bn.weight'\n",
      "Freezing layer 'model.9.cv2.bn.bias'\n",
      "Freezing layer 'model.22.dfl.conv.weight'\n",
      "\u001b[34m\u001b[1mAMP: \u001b[0mrunning Automatic Mixed Precision (AMP) checks...\n",
      "Downloading https://github.com/ultralytics/assets/releases/download/v8.3.0/yolo11n.pt to 'yolo11n.pt'...\n",
      "WARNING ⚠️ \u001b[34m\u001b[1mAMP: \u001b[0mchecks skipped. Offline and unable to download YOLO11n for AMP checks. Setting 'amp=True'. If you experience zero-mAP or NaN losses you can disable AMP with amp=False.\n",
      "\u001b[34m\u001b[1mtrain: \u001b[0mFast image access ✅ (ping: 0.0±0.0 ms, read: 1567.2±1424.9 MB/s, size: 46.0 KB)\n"
     ]
    },
    {
     "name": "stderr",
     "output_type": "stream",
     "text": [
      "\u001b[34m\u001b[1mtrain: \u001b[0mScanning /mmfs1/scratch/dsu.local/bshakya/scratch/bshakya/sahi/xview-yolo-dataset/xview_yolo/labels/train.cache... 19783 images, 9138 backgrounds, 61 corrupt: 100%|██████████| 19844/19844 [00:00<?, ?it/s]"
     ]
    },
    {
     "name": "stdout",
     "output_type": "stream",
     "text": [
      "\u001b[34m\u001b[1mtrain: \u001b[0m/mmfs1/scratch/dsu.local/bshakya/scratch/bshakya/sahi/xview-yolo-dataset/xview_yolo/images/train/img_1135_3200_0.jpg: ignoring corrupt image/label: image size (4, 4) <10 pixels\n",
      "\u001b[34m\u001b[1mtrain: \u001b[0m/mmfs1/scratch/dsu.local/bshakya/scratch/bshakya/sahi/xview-yolo-dataset/xview_yolo/images/train/img_1135_3200_1920.jpg: ignoring corrupt image/label: image size (4, 4) <10 pixels\n",
      "\u001b[34m\u001b[1mtrain: \u001b[0m/mmfs1/scratch/dsu.local/bshakya/scratch/bshakya/sahi/xview-yolo-dataset/xview_yolo/images/train/img_1135_3200_2560.jpg: ignoring corrupt image/label: image size (4, 4) <10 pixels\n",
      "\u001b[34m\u001b[1mtrain: \u001b[0m/mmfs1/scratch/dsu.local/bshakya/scratch/bshakya/sahi/xview-yolo-dataset/xview_yolo/images/train/img_1135_3200_3200.jpg: ignoring corrupt image/label: image size (4, 4) <10 pixels\n",
      "\u001b[34m\u001b[1mtrain: \u001b[0m/mmfs1/scratch/dsu.local/bshakya/scratch/bshakya/sahi/xview-yolo-dataset/xview_yolo/images/train/img_1135_3200_640.jpg: ignoring corrupt image/label: image size (4, 4) <10 pixels\n",
      "\u001b[34m\u001b[1mtrain: \u001b[0m/mmfs1/scratch/dsu.local/bshakya/scratch/bshakya/sahi/xview-yolo-dataset/xview_yolo/images/train/img_1136_3200_0.jpg: ignoring corrupt image/label: image size (4, 4) <10 pixels\n",
      "\u001b[34m\u001b[1mtrain: \u001b[0m/mmfs1/scratch/dsu.local/bshakya/scratch/bshakya/sahi/xview-yolo-dataset/xview_yolo/images/train/img_1136_3200_1280.jpg: ignoring corrupt image/label: image size (4, 4) <10 pixels\n",
      "\u001b[34m\u001b[1mtrain: \u001b[0m/mmfs1/scratch/dsu.local/bshakya/scratch/bshakya/sahi/xview-yolo-dataset/xview_yolo/images/train/img_1136_3200_1920.jpg: ignoring corrupt image/label: image size (4, 4) <10 pixels\n",
      "\u001b[34m\u001b[1mtrain: \u001b[0m/mmfs1/scratch/dsu.local/bshakya/scratch/bshakya/sahi/xview-yolo-dataset/xview_yolo/images/train/img_1136_3200_3200.jpg: ignoring corrupt image/label: image size (4, 4) <10 pixels\n",
      "\u001b[34m\u001b[1mtrain: \u001b[0m/mmfs1/scratch/dsu.local/bshakya/scratch/bshakya/sahi/xview-yolo-dataset/xview_yolo/images/train/img_1136_3200_640.jpg: ignoring corrupt image/label: image size (4, 4) <10 pixels\n",
      "\u001b[34m\u001b[1mtrain: \u001b[0m/mmfs1/scratch/dsu.local/bshakya/scratch/bshakya/sahi/xview-yolo-dataset/xview_yolo/images/train/img_1139_3200_0.jpg: ignoring corrupt image/label: image size (5, 5) <10 pixels\n",
      "\u001b[34m\u001b[1mtrain: \u001b[0m/mmfs1/scratch/dsu.local/bshakya/scratch/bshakya/sahi/xview-yolo-dataset/xview_yolo/images/train/img_1139_3200_1280.jpg: ignoring corrupt image/label: image size (5, 5) <10 pixels\n",
      "\u001b[34m\u001b[1mtrain: \u001b[0m/mmfs1/scratch/dsu.local/bshakya/scratch/bshakya/sahi/xview-yolo-dataset/xview_yolo/images/train/img_1139_3200_1920.jpg: ignoring corrupt image/label: image size (5, 5) <10 pixels\n",
      "\u001b[34m\u001b[1mtrain: \u001b[0m/mmfs1/scratch/dsu.local/bshakya/scratch/bshakya/sahi/xview-yolo-dataset/xview_yolo/images/train/img_1139_3200_2560.jpg: ignoring corrupt image/label: image size (5, 5) <10 pixels\n",
      "\u001b[34m\u001b[1mtrain: \u001b[0m/mmfs1/scratch/dsu.local/bshakya/scratch/bshakya/sahi/xview-yolo-dataset/xview_yolo/images/train/img_1139_3200_3200.jpg: ignoring corrupt image/label: image size (5, 5) <10 pixels\n",
      "\u001b[34m\u001b[1mtrain: \u001b[0m/mmfs1/scratch/dsu.local/bshakya/scratch/bshakya/sahi/xview-yolo-dataset/xview_yolo/images/train/img_1140_3200_0.jpg: ignoring corrupt image/label: image size (4, 4) <10 pixels\n",
      "\u001b[34m\u001b[1mtrain: \u001b[0m/mmfs1/scratch/dsu.local/bshakya/scratch/bshakya/sahi/xview-yolo-dataset/xview_yolo/images/train/img_1140_3200_1280.jpg: ignoring corrupt image/label: image size (4, 4) <10 pixels\n",
      "\u001b[34m\u001b[1mtrain: \u001b[0m/mmfs1/scratch/dsu.local/bshakya/scratch/bshakya/sahi/xview-yolo-dataset/xview_yolo/images/train/img_1140_3200_1920.jpg: ignoring corrupt image/label: image size (4, 4) <10 pixels\n",
      "\u001b[34m\u001b[1mtrain: \u001b[0m/mmfs1/scratch/dsu.local/bshakya/scratch/bshakya/sahi/xview-yolo-dataset/xview_yolo/images/train/img_1140_3200_3200.jpg: ignoring corrupt image/label: image size (4, 4) <10 pixels\n",
      "\u001b[34m\u001b[1mtrain: \u001b[0m/mmfs1/scratch/dsu.local/bshakya/scratch/bshakya/sahi/xview-yolo-dataset/xview_yolo/images/train/img_1140_3200_640.jpg: ignoring corrupt image/label: image size (4, 4) <10 pixels\n",
      "\u001b[34m\u001b[1mtrain: \u001b[0m/mmfs1/scratch/dsu.local/bshakya/scratch/bshakya/sahi/xview-yolo-dataset/xview_yolo/images/train/img_1141_3200_0.jpg: ignoring corrupt image/label: image size (4, 4) <10 pixels\n",
      "\u001b[34m\u001b[1mtrain: \u001b[0m/mmfs1/scratch/dsu.local/bshakya/scratch/bshakya/sahi/xview-yolo-dataset/xview_yolo/images/train/img_1141_3200_1280.jpg: ignoring corrupt image/label: image size (4, 4) <10 pixels\n",
      "\u001b[34m\u001b[1mtrain: \u001b[0m/mmfs1/scratch/dsu.local/bshakya/scratch/bshakya/sahi/xview-yolo-dataset/xview_yolo/images/train/img_1141_3200_2560.jpg: ignoring corrupt image/label: image size (4, 4) <10 pixels\n",
      "\u001b[34m\u001b[1mtrain: \u001b[0m/mmfs1/scratch/dsu.local/bshakya/scratch/bshakya/sahi/xview-yolo-dataset/xview_yolo/images/train/img_1141_3200_640.jpg: ignoring corrupt image/label: image size (4, 4) <10 pixels\n",
      "\u001b[34m\u001b[1mtrain: \u001b[0m/mmfs1/scratch/dsu.local/bshakya/scratch/bshakya/sahi/xview-yolo-dataset/xview_yolo/images/train/img_1142_3200_0.jpg: ignoring corrupt image/label: image size (4, 4) <10 pixels\n",
      "\u001b[34m\u001b[1mtrain: \u001b[0m/mmfs1/scratch/dsu.local/bshakya/scratch/bshakya/sahi/xview-yolo-dataset/xview_yolo/images/train/img_1142_3200_1280.jpg: ignoring corrupt image/label: image size (4, 4) <10 pixels\n",
      "\u001b[34m\u001b[1mtrain: \u001b[0m/mmfs1/scratch/dsu.local/bshakya/scratch/bshakya/sahi/xview-yolo-dataset/xview_yolo/images/train/img_1142_3200_1920.jpg: ignoring corrupt image/label: image size (4, 4) <10 pixels\n",
      "\u001b[34m\u001b[1mtrain: \u001b[0m/mmfs1/scratch/dsu.local/bshakya/scratch/bshakya/sahi/xview-yolo-dataset/xview_yolo/images/train/img_1142_3200_3200.jpg: ignoring corrupt image/label: image size (4, 4) <10 pixels\n",
      "\u001b[34m\u001b[1mtrain: \u001b[0m/mmfs1/scratch/dsu.local/bshakya/scratch/bshakya/sahi/xview-yolo-dataset/xview_yolo/images/train/img_1142_3200_640.jpg: ignoring corrupt image/label: image size (4, 4) <10 pixels\n",
      "\u001b[34m\u001b[1mtrain: \u001b[0m/mmfs1/scratch/dsu.local/bshakya/scratch/bshakya/sahi/xview-yolo-dataset/xview_yolo/images/train/img_1768_2560_0.jpg: ignoring corrupt image/label: image size (5, 5) <10 pixels\n",
      "\u001b[34m\u001b[1mtrain: \u001b[0m/mmfs1/scratch/dsu.local/bshakya/scratch/bshakya/sahi/xview-yolo-dataset/xview_yolo/images/train/img_1768_2560_1280.jpg: ignoring corrupt image/label: image size (5, 5) <10 pixels\n",
      "\u001b[34m\u001b[1mtrain: \u001b[0m/mmfs1/scratch/dsu.local/bshakya/scratch/bshakya/sahi/xview-yolo-dataset/xview_yolo/images/train/img_1768_2560_1920.jpg: ignoring corrupt image/label: image size (5, 5) <10 pixels\n",
      "\u001b[34m\u001b[1mtrain: \u001b[0m/mmfs1/scratch/dsu.local/bshakya/scratch/bshakya/sahi/xview-yolo-dataset/xview_yolo/images/train/img_1768_2560_2560.jpg: ignoring corrupt image/label: image size (5, 5) <10 pixels\n",
      "\u001b[34m\u001b[1mtrain: \u001b[0m/mmfs1/scratch/dsu.local/bshakya/scratch/bshakya/sahi/xview-yolo-dataset/xview_yolo/images/train/img_1768_2560_640.jpg: ignoring corrupt image/label: image size (5, 5) <10 pixels\n",
      "\u001b[34m\u001b[1mtrain: \u001b[0m/mmfs1/scratch/dsu.local/bshakya/scratch/bshakya/sahi/xview-yolo-dataset/xview_yolo/images/train/img_1770_2560_0.jpg: ignoring corrupt image/label: image size (4, 4) <10 pixels\n",
      "\u001b[34m\u001b[1mtrain: \u001b[0m/mmfs1/scratch/dsu.local/bshakya/scratch/bshakya/sahi/xview-yolo-dataset/xview_yolo/images/train/img_1770_2560_1920.jpg: ignoring corrupt image/label: image size (4, 4) <10 pixels\n",
      "\u001b[34m\u001b[1mtrain: \u001b[0m/mmfs1/scratch/dsu.local/bshakya/scratch/bshakya/sahi/xview-yolo-dataset/xview_yolo/images/train/img_1770_2560_640.jpg: ignoring corrupt image/label: image size (4, 4) <10 pixels\n",
      "\u001b[34m\u001b[1mtrain: \u001b[0m/mmfs1/scratch/dsu.local/bshakya/scratch/bshakya/sahi/xview-yolo-dataset/xview_yolo/images/train/img_1784_2560_0.jpg: ignoring corrupt image/label: image size (4, 4) <10 pixels\n",
      "\u001b[34m\u001b[1mtrain: \u001b[0m/mmfs1/scratch/dsu.local/bshakya/scratch/bshakya/sahi/xview-yolo-dataset/xview_yolo/images/train/img_1784_2560_1280.jpg: ignoring corrupt image/label: image size (4, 4) <10 pixels\n",
      "\u001b[34m\u001b[1mtrain: \u001b[0m/mmfs1/scratch/dsu.local/bshakya/scratch/bshakya/sahi/xview-yolo-dataset/xview_yolo/images/train/img_1784_2560_1920.jpg: ignoring corrupt image/label: image size (4, 4) <10 pixels\n",
      "\u001b[34m\u001b[1mtrain: \u001b[0m/mmfs1/scratch/dsu.local/bshakya/scratch/bshakya/sahi/xview-yolo-dataset/xview_yolo/images/train/img_1784_2560_2560.jpg: ignoring corrupt image/label: image size (4, 4) <10 pixels\n",
      "\u001b[34m\u001b[1mtrain: \u001b[0m/mmfs1/scratch/dsu.local/bshakya/scratch/bshakya/sahi/xview-yolo-dataset/xview_yolo/images/train/img_1786_2560_0.jpg: ignoring corrupt image/label: image size (4, 4) <10 pixels\n",
      "\u001b[34m\u001b[1mtrain: \u001b[0m/mmfs1/scratch/dsu.local/bshakya/scratch/bshakya/sahi/xview-yolo-dataset/xview_yolo/images/train/img_1786_2560_1920.jpg: ignoring corrupt image/label: image size (4, 4) <10 pixels\n",
      "\u001b[34m\u001b[1mtrain: \u001b[0m/mmfs1/scratch/dsu.local/bshakya/scratch/bshakya/sahi/xview-yolo-dataset/xview_yolo/images/train/img_1786_2560_2560.jpg: ignoring corrupt image/label: image size (4, 4) <10 pixels\n",
      "\u001b[34m\u001b[1mtrain: \u001b[0m/mmfs1/scratch/dsu.local/bshakya/scratch/bshakya/sahi/xview-yolo-dataset/xview_yolo/images/train/img_1786_2560_640.jpg: ignoring corrupt image/label: image size (4, 4) <10 pixels\n",
      "\u001b[34m\u001b[1mtrain: \u001b[0m/mmfs1/scratch/dsu.local/bshakya/scratch/bshakya/sahi/xview-yolo-dataset/xview_yolo/images/train/img_1788_2560_0.jpg: ignoring corrupt image/label: image size (4, 4) <10 pixels\n",
      "\u001b[34m\u001b[1mtrain: \u001b[0m/mmfs1/scratch/dsu.local/bshakya/scratch/bshakya/sahi/xview-yolo-dataset/xview_yolo/images/train/img_1788_2560_1920.jpg: ignoring corrupt image/label: image size (4, 4) <10 pixels\n",
      "\u001b[34m\u001b[1mtrain: \u001b[0m/mmfs1/scratch/dsu.local/bshakya/scratch/bshakya/sahi/xview-yolo-dataset/xview_yolo/images/train/img_1788_2560_2560.jpg: ignoring corrupt image/label: image size (4, 4) <10 pixels\n",
      "\u001b[34m\u001b[1mtrain: \u001b[0m/mmfs1/scratch/dsu.local/bshakya/scratch/bshakya/sahi/xview-yolo-dataset/xview_yolo/images/train/img_1788_2560_640.jpg: ignoring corrupt image/label: image size (4, 4) <10 pixels\n",
      "\u001b[34m\u001b[1mtrain: \u001b[0m/mmfs1/scratch/dsu.local/bshakya/scratch/bshakya/sahi/xview-yolo-dataset/xview_yolo/images/train/img_1799_2560_0.jpg: ignoring corrupt image/label: image size (5, 5) <10 pixels\n",
      "\u001b[34m\u001b[1mtrain: \u001b[0m/mmfs1/scratch/dsu.local/bshakya/scratch/bshakya/sahi/xview-yolo-dataset/xview_yolo/images/train/img_1799_2560_1280.jpg: ignoring corrupt image/label: image size (5, 5) <10 pixels\n",
      "\u001b[34m\u001b[1mtrain: \u001b[0m/mmfs1/scratch/dsu.local/bshakya/scratch/bshakya/sahi/xview-yolo-dataset/xview_yolo/images/train/img_1799_2560_2560.jpg: ignoring corrupt image/label: image size (5, 5) <10 pixels\n",
      "\u001b[34m\u001b[1mtrain: \u001b[0m/mmfs1/scratch/dsu.local/bshakya/scratch/bshakya/sahi/xview-yolo-dataset/xview_yolo/images/train/img_1799_2560_640.jpg: ignoring corrupt image/label: image size (5, 5) <10 pixels\n",
      "\u001b[34m\u001b[1mtrain: \u001b[0m/mmfs1/scratch/dsu.local/bshakya/scratch/bshakya/sahi/xview-yolo-dataset/xview_yolo/images/train/img_481_0_3200.jpg: ignoring corrupt image/label: image size (640, 8) <10 pixels\n",
      "\u001b[34m\u001b[1mtrain: \u001b[0m/mmfs1/scratch/dsu.local/bshakya/scratch/bshakya/sahi/xview-yolo-dataset/xview_yolo/images/train/img_481_1280_3200.jpg: ignoring corrupt image/label: image size (640, 8) <10 pixels\n",
      "\u001b[34m\u001b[1mtrain: \u001b[0m/mmfs1/scratch/dsu.local/bshakya/scratch/bshakya/sahi/xview-yolo-dataset/xview_yolo/images/train/img_481_1920_3200.jpg: ignoring corrupt image/label: image size (640, 8) <10 pixels\n",
      "\u001b[34m\u001b[1mtrain: \u001b[0m/mmfs1/scratch/dsu.local/bshakya/scratch/bshakya/sahi/xview-yolo-dataset/xview_yolo/images/train/img_481_2560_3200.jpg: ignoring corrupt image/label: image size (80, 8) <10 pixels\n",
      "\u001b[34m\u001b[1mtrain: \u001b[0m/mmfs1/scratch/dsu.local/bshakya/scratch/bshakya/sahi/xview-yolo-dataset/xview_yolo/images/train/img_481_640_3200.jpg: ignoring corrupt image/label: image size (640, 8) <10 pixels\n",
      "\u001b[34m\u001b[1mtrain: \u001b[0m/mmfs1/scratch/dsu.local/bshakya/scratch/bshakya/sahi/xview-yolo-dataset/xview_yolo/images/train/img_727_1920_5120.jpg: ignoring corrupt image/label: image size (640, 1) <10 pixels\n",
      "\u001b[34m\u001b[1mtrain: \u001b[0m/mmfs1/scratch/dsu.local/bshakya/scratch/bshakya/sahi/xview-yolo-dataset/xview_yolo/images/train/img_727_2560_5120.jpg: ignoring corrupt image/label: image size (463, 1) <10 pixels\n",
      "\u001b[34m\u001b[1mtrain: \u001b[0m/mmfs1/scratch/dsu.local/bshakya/scratch/bshakya/sahi/xview-yolo-dataset/xview_yolo/images/train/img_727_640_5120.jpg: ignoring corrupt image/label: image size (640, 1) <10 pixels\n"
     ]
    },
    {
     "name": "stderr",
     "output_type": "stream",
     "text": [
      "\n"
     ]
    },
    {
     "name": "stdout",
     "output_type": "stream",
     "text": [
      "\u001b[34m\u001b[1malbumentations: \u001b[0m__init__() got an unexpected keyword argument 'quality_range'\n",
      "\u001b[34m\u001b[1mval: \u001b[0mFast image access ✅ (ping: 0.0±0.0 ms, read: 134.3±90.8 MB/s, size: 62.0 KB)\n"
     ]
    },
    {
     "name": "stderr",
     "output_type": "stream",
     "text": [
      "\u001b[34m\u001b[1mval: \u001b[0mScanning /mmfs1/scratch/dsu.local/bshakya/scratch/bshakya/sahi/xview-yolo-dataset/xview_yolo/labels/val.cache... 2474 images, 1188 backgrounds, 6 corrupt: 100%|██████████| 2480/2480 [00:00<?, ?it/s]"
     ]
    },
    {
     "name": "stdout",
     "output_type": "stream",
     "text": [
      "\u001b[34m\u001b[1mval: \u001b[0m/mmfs1/scratch/dsu.local/bshakya/scratch/bshakya/sahi/xview-yolo-dataset/xview_yolo/images/val/img_1136_3200_2560.jpg: ignoring corrupt image/label: image size (4, 4) <10 pixels\n",
      "\u001b[34m\u001b[1mval: \u001b[0m/mmfs1/scratch/dsu.local/bshakya/scratch/bshakya/sahi/xview-yolo-dataset/xview_yolo/images/val/img_1139_3200_640.jpg: ignoring corrupt image/label: image size (5, 5) <10 pixels\n",
      "\u001b[34m\u001b[1mval: \u001b[0m/mmfs1/scratch/dsu.local/bshakya/scratch/bshakya/sahi/xview-yolo-dataset/xview_yolo/images/val/img_1770_2560_1280.jpg: ignoring corrupt image/label: image size (4, 4) <10 pixels\n",
      "\u001b[34m\u001b[1mval: \u001b[0m/mmfs1/scratch/dsu.local/bshakya/scratch/bshakya/sahi/xview-yolo-dataset/xview_yolo/images/val/img_1770_2560_2560.jpg: ignoring corrupt image/label: image size (4, 4) <10 pixels\n",
      "\u001b[34m\u001b[1mval: \u001b[0m/mmfs1/scratch/dsu.local/bshakya/scratch/bshakya/sahi/xview-yolo-dataset/xview_yolo/images/val/img_1799_2560_1920.jpg: ignoring corrupt image/label: image size (5, 5) <10 pixels\n",
      "\u001b[34m\u001b[1mval: \u001b[0m/mmfs1/scratch/dsu.local/bshakya/scratch/bshakya/sahi/xview-yolo-dataset/xview_yolo/images/val/img_727_1280_5120.jpg: ignoring corrupt image/label: image size (640, 1) <10 pixels\n"
     ]
    },
    {
     "name": "stderr",
     "output_type": "stream",
     "text": [
      "\n"
     ]
    },
    {
     "name": "stdout",
     "output_type": "stream",
     "text": [
      "Plotting labels to runs/detect/train22/labels.jpg... \n",
      "\u001b[34m\u001b[1moptimizer:\u001b[0m 'optimizer=auto' found, ignoring 'lr0=0.001' and 'momentum=0.937' and determining best 'optimizer', 'lr0' and 'momentum' automatically... \n",
      "\u001b[34m\u001b[1moptimizer:\u001b[0m SGD(lr=0.01, momentum=0.9) with parameter groups 57 weight(decay=0.0), 64 weight(decay=0.0005), 63 bias(decay=0.0)\n",
      "Image sizes 640 train, 640 val\n",
      "Using 8 dataloader workers\n",
      "Logging results to \u001b[1mruns/detect/train22\u001b[0m\n",
      "Starting training for 50 epochs...\n",
      "\n",
      "      Epoch    GPU_mem   box_loss   cls_loss   dfl_loss  Instances       Size\n"
     ]
    },
    {
     "name": "stderr",
     "output_type": "stream",
     "text": [
      "       1/50      8.91G      2.194      2.715      1.492        114        640: 100%|██████████| 1237/1237 [01:11<00:00, 17.27it/s]\n",
      "                 Class     Images  Instances      Box(P          R      mAP50  mAP50-95): 100%|██████████| 78/78 [00:09<00:00,  7.86it/s]\n"
     ]
    },
    {
     "name": "stdout",
     "output_type": "stream",
     "text": [
      "                   all       2474      65746      0.686     0.0201     0.0227     0.0126\n",
      "\n",
      "      Epoch    GPU_mem   box_loss   cls_loss   dfl_loss  Instances       Size\n"
     ]
    },
    {
     "name": "stderr",
     "output_type": "stream",
     "text": [
      "       2/50      20.5G      2.124      2.095      1.413         29        640: 100%|██████████| 1237/1237 [01:02<00:00, 19.80it/s]\n",
      "                 Class     Images  Instances      Box(P          R      mAP50  mAP50-95): 100%|██████████| 78/78 [00:08<00:00,  8.75it/s]\n"
     ]
    },
    {
     "name": "stdout",
     "output_type": "stream",
     "text": [
      "                   all       2474      65746      0.503     0.0443     0.0306     0.0136\n",
      "\n",
      "      Epoch    GPU_mem   box_loss   cls_loss   dfl_loss  Instances       Size\n"
     ]
    },
    {
     "name": "stderr",
     "output_type": "stream",
     "text": [
      "       3/50      20.5G       2.14      2.004      1.408        124        640: 100%|██████████| 1237/1237 [01:01<00:00, 20.27it/s]\n",
      "                 Class     Images  Instances      Box(P          R      mAP50  mAP50-95): 100%|██████████| 78/78 [00:08<00:00,  9.25it/s]\n"
     ]
    },
    {
     "name": "stdout",
     "output_type": "stream",
     "text": [
      "                   all       2474      65746      0.416      0.047      0.038     0.0164\n",
      "\n",
      "      Epoch    GPU_mem   box_loss   cls_loss   dfl_loss  Instances       Size\n"
     ]
    },
    {
     "name": "stderr",
     "output_type": "stream",
     "text": [
      "       4/50      20.5G      2.127      1.904      1.408         99        640: 100%|██████████| 1237/1237 [00:59<00:00, 20.63it/s]\n",
      "                 Class     Images  Instances      Box(P          R      mAP50  mAP50-95): 100%|██████████| 78/78 [00:08<00:00,  9.17it/s]\n"
     ]
    },
    {
     "name": "stdout",
     "output_type": "stream",
     "text": [
      "                   all       2474      65746      0.438     0.0773     0.0441     0.0191\n",
      "\n",
      "      Epoch    GPU_mem   box_loss   cls_loss   dfl_loss  Instances       Size\n"
     ]
    },
    {
     "name": "stderr",
     "output_type": "stream",
     "text": [
      "       5/50      20.5G      2.099      1.809      1.389        401        640: 100%|██████████| 1237/1237 [01:00<00:00, 20.49it/s]\n",
      "                 Class     Images  Instances      Box(P          R      mAP50  mAP50-95): 100%|██████████| 78/78 [00:08<00:00,  9.54it/s]\n"
     ]
    },
    {
     "name": "stdout",
     "output_type": "stream",
     "text": [
      "                   all       2474      65746      0.472     0.0786     0.0535     0.0229\n",
      "\n",
      "      Epoch    GPU_mem   box_loss   cls_loss   dfl_loss  Instances       Size\n"
     ]
    },
    {
     "name": "stderr",
     "output_type": "stream",
     "text": [
      "       6/50      20.5G      2.089       1.77      1.386         33        640: 100%|██████████| 1237/1237 [00:59<00:00, 20.64it/s]\n",
      "                 Class     Images  Instances      Box(P          R      mAP50  mAP50-95): 100%|██████████| 78/78 [00:08<00:00,  9.48it/s]\n"
     ]
    },
    {
     "name": "stdout",
     "output_type": "stream",
     "text": [
      "                   all       2474      65746      0.462     0.0901      0.059     0.0257\n",
      "\n",
      "      Epoch    GPU_mem   box_loss   cls_loss   dfl_loss  Instances       Size\n"
     ]
    },
    {
     "name": "stderr",
     "output_type": "stream",
     "text": [
      "       7/50      20.5G      2.067      1.728      1.377        221        640: 100%|██████████| 1237/1237 [00:59<00:00, 20.63it/s]\n",
      "                 Class     Images  Instances      Box(P          R      mAP50  mAP50-95): 100%|██████████| 78/78 [00:08<00:00,  9.34it/s]\n"
     ]
    },
    {
     "name": "stdout",
     "output_type": "stream",
     "text": [
      "                   all       2474      65746       0.45     0.0946     0.0691     0.0318\n",
      "\n",
      "      Epoch    GPU_mem   box_loss   cls_loss   dfl_loss  Instances       Size\n"
     ]
    },
    {
     "name": "stderr",
     "output_type": "stream",
     "text": [
      "       8/50      20.5G      2.054      1.705      1.369        396        640: 100%|██████████| 1237/1237 [00:59<00:00, 20.69it/s]\n",
      "                 Class     Images  Instances      Box(P          R      mAP50  mAP50-95): 100%|██████████| 78/78 [00:08<00:00,  9.50it/s]\n"
     ]
    },
    {
     "name": "stdout",
     "output_type": "stream",
     "text": [
      "                   all       2474      65746      0.479      0.101      0.069     0.0316\n",
      "\n",
      "      Epoch    GPU_mem   box_loss   cls_loss   dfl_loss  Instances       Size\n"
     ]
    },
    {
     "name": "stderr",
     "output_type": "stream",
     "text": [
      "       9/50      20.5G      2.043      1.684       1.36        160        640: 100%|██████████| 1237/1237 [01:00<00:00, 20.35it/s]\n",
      "                 Class     Images  Instances      Box(P          R      mAP50  mAP50-95): 100%|██████████| 78/78 [00:08<00:00,  8.94it/s]\n"
     ]
    },
    {
     "name": "stdout",
     "output_type": "stream",
     "text": [
      "                   all       2474      65746      0.413      0.108     0.0759      0.034\n",
      "\n",
      "      Epoch    GPU_mem   box_loss   cls_loss   dfl_loss  Instances       Size\n"
     ]
    },
    {
     "name": "stderr",
     "output_type": "stream",
     "text": [
      "      10/50      20.5G      2.043      1.669      1.356        145        640: 100%|██████████| 1237/1237 [01:01<00:00, 20.16it/s]\n",
      "                 Class     Images  Instances      Box(P          R      mAP50  mAP50-95): 100%|██████████| 78/78 [00:08<00:00,  9.27it/s]\n"
     ]
    },
    {
     "name": "stdout",
     "output_type": "stream",
     "text": [
      "                   all       2474      65746      0.495      0.112     0.0842     0.0389\n",
      "\n",
      "      Epoch    GPU_mem   box_loss   cls_loss   dfl_loss  Instances       Size\n"
     ]
    },
    {
     "name": "stderr",
     "output_type": "stream",
     "text": [
      "      11/50      20.5G      2.038      1.657      1.354        209        640: 100%|██████████| 1237/1237 [01:01<00:00, 20.10it/s]\n",
      "                 Class     Images  Instances      Box(P          R      mAP50  mAP50-95): 100%|██████████| 78/78 [00:08<00:00,  9.20it/s]\n"
     ]
    },
    {
     "name": "stdout",
     "output_type": "stream",
     "text": [
      "                   all       2474      65746      0.399      0.117     0.0861     0.0397\n",
      "\n",
      "      Epoch    GPU_mem   box_loss   cls_loss   dfl_loss  Instances       Size\n"
     ]
    },
    {
     "name": "stderr",
     "output_type": "stream",
     "text": [
      "      12/50      20.5G      2.024      1.643      1.349        420        640: 100%|██████████| 1237/1237 [01:00<00:00, 20.52it/s]\n",
      "                 Class     Images  Instances      Box(P          R      mAP50  mAP50-95): 100%|██████████| 78/78 [00:08<00:00,  9.32it/s]\n"
     ]
    },
    {
     "name": "stdout",
     "output_type": "stream",
     "text": [
      "                   all       2474      65746      0.401      0.118     0.0884     0.0411\n",
      "\n",
      "      Epoch    GPU_mem   box_loss   cls_loss   dfl_loss  Instances       Size\n"
     ]
    },
    {
     "name": "stderr",
     "output_type": "stream",
     "text": [
      "      13/50      20.5G      2.027      1.647      1.345        167        640: 100%|██████████| 1237/1237 [01:00<00:00, 20.48it/s]\n",
      "                 Class     Images  Instances      Box(P          R      mAP50  mAP50-95):  45%|████▍     | 35/78 [00:03<00:04,  9.28it/s]"
     ]
    }
   ],
   "source": [
    "#Normalized YOLO format\n",
    "from ultralytics import YOLO\n",
    "\n",
    "model = YOLO(\"models/baseline/yolov8n.pt\")\n",
    "\n",
    "# Train the model\n",
    "train_results = model.train(\n",
    "    data=\"./xview-yolo-dataset/YOLO_cfg/xview_yolo.yaml\",  # path to dataset YAML\n",
    "    epochs=50,\n",
    "    batch = 16,\n",
    "    imgsz=640,\n",
    "    multi_scale=False,\n",
    "    device=0,  # device to run on, i.e. device=0 or device=0,1,2,3 or device=cpu\n",
    "    freeze=10,\n",
    "    lr0 = 0.001,\n",
    "    lrf = 0.1,\n",
    "    dropout = 0.05,\n",
    "    iou = 0.5,\n",
    "    mosaic = 1.0,\n",
    "    close_mosaic = 10,\n",
    "    cos_lr = True,\n",
    "    half = True,\n",
    "    patience=100\n",
    ")"
   ]
  }
 ],
 "metadata": {
  "kernelspec": {
   "display_name": "Python [conda env:torch11.8]",
   "language": "python",
   "name": "conda-env-torch11.8-py"
  },
  "language_info": {
   "codemirror_mode": {
    "name": "ipython",
    "version": 3
   },
   "file_extension": ".py",
   "mimetype": "text/x-python",
   "name": "python",
   "nbconvert_exporter": "python",
   "pygments_lexer": "ipython3",
   "version": "3.9.18"
  }
 },
 "nbformat": 4,
 "nbformat_minor": 5
}
